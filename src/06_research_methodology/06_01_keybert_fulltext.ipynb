{
 "cells": [
  {
   "cell_type": "code",
   "execution_count": 1,
   "id": "f4f121b4-b7c9-45dc-838d-fbeca2010c68",
   "metadata": {
    "execution": {
     "iopub.execute_input": "2025-09-20T17:19:51.194526Z",
     "iopub.status.busy": "2025-09-20T17:19:51.193851Z",
     "iopub.status.idle": "2025-09-20T17:19:59.279333Z",
     "shell.execute_reply": "2025-09-20T17:19:59.278470Z",
     "shell.execute_reply.started": "2025-09-20T17:19:51.194492Z"
    }
   },
   "outputs": [
    {
     "name": "stdout",
     "output_type": "stream",
     "text": [
      "sagemaker.config INFO - Not applying SDK defaults from location: /etc/xdg/sagemaker/config.yaml\n",
      "sagemaker.config INFO - Not applying SDK defaults from location: /home/sagemaker-user/.config/sagemaker/config.yaml\n",
      "config.py loaded: v0.1\n",
      "utils.py loaded: v0.2.12\n",
      "utils.py loaded: v0.2.12\n",
      "config.py loaded: v0.1\n"
     ]
    }
   ],
   "source": [
    "import requests\n",
    "import boto3\n",
    "import json\n",
    "import os\n",
    "import sys\n",
    "import argparse\n",
    "import importlib\n",
    "import transformers\n",
    "import torch\n",
    "import pathlib\n",
    "import smart_open\n",
    "import awswrangler as wr\n",
    "from IPython.display import display\n",
    "from sagemaker.huggingface.processing import HuggingFaceProcessor\n",
    "from sagemaker.sklearn.processing import SKLearnProcessor\n",
    "from sagemaker.processing import FrameworkProcessor\n",
    "from sagemaker.sklearn.estimator import SKLearn\n",
    "from sagemaker.workflow.steps import ProcessingStep\n",
    "from sagemaker.workflow.pipeline_context import PipelineSession\n",
    "from sagemaker.processing import ProcessingInput, ProcessingOutput\n",
    "from sagemaker.session import get_execution_role\n",
    "\n",
    "\n",
    "# Adding ../01_modules or ./01_modules to the system path so that we can load modules from \n",
    "# there as well\n",
    "if '__file__' in globals():\n",
    "    script_dir = pathlib.Path(__file__).parent.resolve()\n",
    "else:\n",
    "    script_dir = pathlib.Path().absolute()\n",
    "modules_path_in_dev = os.path.abspath(os.path.join(script_dir, '..', '01_modules'))\n",
    "modules_path_in_prod = os.path.abspath(os.path.join(script_dir, '01_modules'))\n",
    "if os.path.exists(modules_path_in_dev):\n",
    "    sys.path.append(modules_path_in_dev)\n",
    "if os.path.exists(modules_path_in_prod):\n",
    "    sys.path.append(modules_path_in_prod)\n",
    "\n",
    "\n",
    "# # Jupyter only reads a local module the first time after \n",
    "# # kernel start. Re-running a cell with \n",
    "# # \"from mymodulename import *\" would not change\n",
    "# # anything, even if the imported module has since changed.\n",
    "# # As a workaround, we need to directly load the module, \n",
    "# # use importlib.reload to reload it and then import * \n",
    "import utils\n",
    "_ = importlib.reload(utils)\n",
    "import config\n",
    "_ = importlib.reload(config)"
   ]
  },
  {
   "cell_type": "code",
   "execution_count": 5,
   "id": "2b7767a8-952f-47c4-b400-6ca3bf32468a",
   "metadata": {
    "execution": {
     "iopub.execute_input": "2025-09-20T17:24:08.236447Z",
     "iopub.status.busy": "2025-09-20T17:24:08.236138Z",
     "iopub.status.idle": "2025-09-20T17:24:18.695156Z",
     "shell.execute_reply": "2025-09-20T17:24:18.694233Z",
     "shell.execute_reply.started": "2025-09-20T17:24:08.236422Z"
    }
   },
   "outputs": [
    {
     "name": "stdout",
     "output_type": "stream",
     "text": [
      "Collecting en-core-web-sm==3.8.0\n",
      "  Downloading https://github.com/explosion/spacy-models/releases/download/en_core_web_sm-3.8.0/en_core_web_sm-3.8.0-py3-none-any.whl (12.8 MB)\n",
      "\u001b[2K     \u001b[90m━━━━━━━━━━━━━━━━━━━━━━━━━━━━━━━━━━━━━━━━\u001b[0m \u001b[32m12.8/12.8 MB\u001b[0m \u001b[31m171.5 MB/s\u001b[0m  \u001b[33m0:00:00\u001b[0m\n",
      "\u001b[?25h\u001b[38;5;2m✔ Download and installation successful\u001b[0m\n",
      "You can now load the package via spacy.load('en_core_web_sm')\n",
      "\u001b[38;5;3m⚠ Restart to reload dependencies\u001b[0m\n",
      "If you are in a Jupyter or Colab notebook, you may need to restart Python in\n",
      "order to load all the package's dependencies. You can do this by selecting the\n",
      "'Restart kernel' or 'Restart runtime' option.\n",
      " :: :: TIMELOGGER STARTED :: | since_start: 0.00 seconds | since_last: 0.00 seconds :: \n"
     ]
    },
    {
     "data": {
      "text/plain": [
       "'\\n@conference{schopf_etal_kdir22,\\nauthor={Tim Schopf and Simon Klimek and Florian Matthes},\\ntitle={PatternRank: Leveraging Pretrained Language Models and Part of Speech for Unsupervised Keyphrase Extraction},\\nbooktitle={Proceedings of the 14th International Joint Conference on Knowledge Discovery, Knowledge Engineering and Knowledge Management (IC3K 2022) - KDIR},\\nyear={2022},\\npages={243-248},\\npublisher={SciTePress},\\norganization={INSTICC},\\ndoi={10.5220/0011546600003335},\\nisbn={978-989-758-614-9},\\nissn={2184-3228},\\n}\\n'"
      ]
     },
     "execution_count": 5,
     "metadata": {},
     "output_type": "execute_result"
    }
   ],
   "source": [
    "import os, json, re, argparse, math\n",
    "from pathlib import Path\n",
    "from collections import Counter\n",
    "import numpy as np\n",
    "import spacy\n",
    "from sentence_transformers import SentenceTransformer, util\n",
    "from keybert import KeyBERT\n",
    "from keyphrase_vectorizers import KeyphraseCountVectorizer\n",
    "import spacy.cli\n",
    "spacy_model = 'en_core_web_sm'\n",
    "spacy.cli.download(spacy_model)\n",
    "spacy_exclude = ['parser', 'attribute_ruler', 'lemmatizer', 'ner', 'textcat']\n",
    "nlp = spacy.load(spacy_model, exclude=spacy_exclude)\n",
    "timelogger = utils.TimeLogger()\n",
    "\"\"\"\n",
    "@conference{schopf_etal_kdir22,\n",
    "author={Tim Schopf and Simon Klimek and Florian Matthes},\n",
    "title={PatternRank: Leveraging Pretrained Language Models and Part of Speech for Unsupervised Keyphrase Extraction},\n",
    "booktitle={Proceedings of the 14th International Joint Conference on Knowledge Discovery, Knowledge Engineering and Knowledge Management (IC3K 2022) - KDIR},\n",
    "year={2022},\n",
    "pages={243-248},\n",
    "publisher={SciTePress},\n",
    "organization={INSTICC},\n",
    "doi={10.5220/0011546600003335},\n",
    "isbn={978-989-758-614-9},\n",
    "issn={2184-3228},\n",
    "}\n",
    "\"\"\""
   ]
  },
  {
   "cell_type": "markdown",
   "id": "8f64851c-210b-4cdf-bfbd-881e212c6dae",
   "metadata": {
    "execution": {
     "iopub.execute_input": "2025-09-13T19:34:07.453420Z",
     "iopub.status.busy": "2025-09-13T19:34:07.453249Z",
     "iopub.status.idle": "2025-09-13T19:34:12.072676Z",
     "shell.execute_reply": "2025-09-13T19:34:12.072100Z",
     "shell.execute_reply.started": "2025-09-13T19:34:07.453402Z"
    }
   },
   "source": [
    "## Full text"
   ]
  },
  {
   "cell_type": "code",
   "execution_count": 3,
   "id": "727205d0-5cd6-4724-8177-99f139610b08",
   "metadata": {
    "execution": {
     "iopub.execute_input": "2025-09-20T17:23:16.716522Z",
     "iopub.status.busy": "2025-09-20T17:23:16.716215Z",
     "iopub.status.idle": "2025-09-20T17:23:24.615644Z",
     "shell.execute_reply": "2025-09-20T17:23:24.614715Z",
     "shell.execute_reply.started": "2025-09-20T17:23:16.716495Z"
    },
    "scrolled": true
   },
   "outputs": [
    {
     "data": {
      "text/plain": [
       "\"\\nIntroduction. -In today's normal secure communication, the communicating parties A (Alice) and B (B\""
      ]
     },
     "execution_count": 3,
     "metadata": {},
     "output_type": "execute_result"
    }
   ],
   "source": [
    "database_name = '03_core'\n",
    "table_name = 'unified_works'\n",
    "id_columns = ['id']\n",
    "text_column_name = 'fulltext'\n",
    "text_batch_size = 3\n",
    "\n",
    "utils.pd_set_options(cols=100)\n",
    "id_column_names = ', '.join(id_columns)\n",
    "# TODO: pagination\n",
    "texts_df = wr.athena.read_sql_query(f\"\"\"\n",
    "    SELECT\n",
    "        {id_column_names}, {text_column_name} \n",
    "    FROM\n",
    "        \"{database_name}\".{table_name}\n",
    "    ORDER BY\n",
    "        {id_column_names}\n",
    "    OFFSET \n",
    "        100\n",
    "    LIMIT\n",
    "        {text_batch_size}\n",
    "    \"\"\",\n",
    "    database_name\n",
    ")\n",
    "texts_only_list = texts_df[text_column_name].tolist()\n",
    "texts_only_list[0][0:100]"
   ]
  },
  {
   "cell_type": "code",
   "execution_count": 6,
   "id": "5fa01da2-0cac-418c-af40-395e10567d4e",
   "metadata": {
    "execution": {
     "iopub.execute_input": "2025-09-20T17:24:18.697204Z",
     "iopub.status.busy": "2025-09-20T17:24:18.696496Z",
     "iopub.status.idle": "2025-09-20T17:24:21.492320Z",
     "shell.execute_reply": "2025-09-20T17:24:21.491354Z",
     "shell.execute_reply.started": "2025-09-20T17:24:18.697167Z"
    }
   },
   "outputs": [],
   "source": [
    "# sentence_transformer_model_name = 'sentence-transformers/all-mpnet-base-v2'\n",
    "sentence_transformer_model_name = 'sentence-transformers/all-distilroberta-v1'\n",
    "st_embed_model = SentenceTransformer(sentence_transformer_model_name)"
   ]
  },
  {
   "cell_type": "code",
   "execution_count": 7,
   "id": "24b7f749-a8d8-48e4-a725-5a39c8dba4c7",
   "metadata": {
    "execution": {
     "iopub.execute_input": "2025-09-20T17:24:33.733469Z",
     "iopub.status.busy": "2025-09-20T17:24:33.733162Z",
     "iopub.status.idle": "2025-09-20T17:24:33.737360Z",
     "shell.execute_reply": "2025-09-20T17:24:33.736105Z",
     "shell.execute_reply.started": "2025-09-20T17:24:33.733445Z"
    }
   },
   "outputs": [],
   "source": [
    "_ = \"\"\"\n",
    "timelogger.log('generic methodology phrases encoded START')\n",
    "generic_methodology_phrases = [\n",
    "    'research method',\n",
    "    'research methodology',\n",
    "    'methodological approach',\n",
    "    'experimental study',\n",
    "    'empirical evaluation',\n",
    "    'case study',\n",
    "    'simulation study',\n",
    "    'measurement study',\n",
    "    'formal proof'\n",
    "]\n",
    "\n",
    "generic_methodology_phrase_embeddings = st_embed_model.encode(generic_methodology_phrases)\n",
    "timelogger.log('generic methodology phrases encoded END')\n",
    "generic_methodology_phrase_embeddings\n",
    "\"\"\""
   ]
  },
  {
   "cell_type": "code",
   "execution_count": 8,
   "id": "5ae2d78b-ec82-4634-8fc7-9063ba0715a5",
   "metadata": {
    "execution": {
     "iopub.execute_input": "2025-09-20T17:24:48.016654Z",
     "iopub.status.busy": "2025-09-20T17:24:48.016366Z",
     "iopub.status.idle": "2025-09-20T17:24:51.200571Z",
     "shell.execute_reply": "2025-09-20T17:24:51.199697Z",
     "shell.execute_reply.started": "2025-09-20T17:24:48.016629Z"
    },
    "scrolled": true
   },
   "outputs": [
    {
     "name": "stdout",
     "output_type": "stream",
     "text": [
      " :: text encoded START | since_start: 29.33 seconds | since_last: 29.33 seconds :: \n",
      " :: text encoded END | since_start: 32.50 seconds | since_last: 3.17 seconds :: \n"
     ]
    },
    {
     "data": {
      "text/plain": [
       "array([[ 0.02738372,  0.02663847,  0.0184264 , ..., -0.03175046,\n",
       "        -0.00655953,  0.04265973],\n",
       "       [ 0.03213768, -0.00686105,  0.0395882 , ..., -0.04650579,\n",
       "        -0.00594957,  0.033571  ]], dtype=float32)"
      ]
     },
     "execution_count": 8,
     "metadata": {},
     "output_type": "execute_result"
    }
   ],
   "source": [
    "timelogger.log('text encoded START')\n",
    "text_list_embeddings = st_embed_model.encode(texts_only_list)\n",
    "timelogger.log('text encoded END')\n",
    "text_list_embeddings[0:2]"
   ]
  },
  {
   "cell_type": "code",
   "execution_count": 9,
   "id": "ccc4f3c6-164b-43ed-adc9-399adf6de6a4",
   "metadata": {
    "execution": {
     "iopub.execute_input": "2025-09-20T17:25:40.874865Z",
     "iopub.status.busy": "2025-09-20T17:25:40.874538Z",
     "iopub.status.idle": "2025-09-20T17:25:40.881874Z",
     "shell.execute_reply": "2025-09-20T17:25:40.880067Z",
     "shell.execute_reply.started": "2025-09-20T17:25:40.874842Z"
    }
   },
   "outputs": [
    {
     "name": "stdout",
     "output_type": "stream",
     "text": [
      " :: initiate pos_vectorizer START | since_start: 1.0 minute, 22.19 seconds | since_last: 49.69 seconds :: \n",
      " :: initiate pos_vectorizer END | since_start: 1.0 minute, 22.19 seconds | since_last: 0.00 seconds :: \n"
     ]
    },
    {
     "data": {
      "text/plain": [
       "' :: initiate pos_vectorizer END | since_start: 1.0 minute, 22.19 seconds | since_last: 0.00 seconds :: '"
      ]
     },
     "execution_count": 9,
     "metadata": {},
     "output_type": "execute_result"
    }
   ],
   "source": [
    "timelogger.log('initiate pos_vectorizer START')\n",
    "pos_pattern = (\n",
    "    # Verb-led methodological action (optional subject/aux/adv, main verb, noun phrase core, optional chained PPs)\n",
    "    # we derive MIMO processing matrices\n",
    "    # we compare the performance\n",
    "    # we factor the MU MIMO precoding matrix\n",
    "    '(<AUX>?<RB>?<V.*><PRT>?<DT>?<J.*>*<N.*>+(<IN><DT>?<J.*>*<N.*>+)*)' #+ '|'\n",
    "    \n",
    "    # Nominal methodological construct (adjective/noun/proper stacks + optional PP tails)\n",
    "    # singular value decomposition\n",
    "    # MIMO processing matrices\n",
    "    # regularized block diagonal AF algorithm\n",
    "    # '(<J.*>*<N.*>+(<N.*>+)*(<IN><J.*>*<N.*>+)*)' # + '|'\n",
    "    \n",
    "    # Metric/result short form\n",
    "    # bit error rate\n",
    "    # BER performance\n",
    "    # SNR gain\n",
    "    # '(<J.*>*<N.*>+)'\n",
    ")\n",
    "pos_vectorizer = KeyphraseCountVectorizer(\n",
    "    spacy_pipeline=nlp,\n",
    "    # pos_pattern=pos_pattern, # '<J.*>*<N.*>+',\n",
    "    # min_df=1, # cutoff\n",
    ")\n",
    "timelogger.log('initiate pos_vectorizer END')"
   ]
  },
  {
   "cell_type": "code",
   "execution_count": 10,
   "id": "4ccd1fca-ad48-4e61-b4bf-b845638902d3",
   "metadata": {
    "execution": {
     "iopub.execute_input": "2025-09-20T17:25:54.623693Z",
     "iopub.status.busy": "2025-09-20T17:25:54.623379Z",
     "iopub.status.idle": "2025-09-20T17:25:54.630358Z",
     "shell.execute_reply": "2025-09-20T17:25:54.629253Z",
     "shell.execute_reply.started": "2025-09-20T17:25:54.623669Z"
    }
   },
   "outputs": [
    {
     "name": "stdout",
     "output_type": "stream",
     "text": [
      " :: initiate keybert_model START | since_start: 1.0 minute, 35.93 seconds | since_last: 13.75 seconds :: \n",
      " :: initiate keybert_model END | since_start: 1.0 minute, 35.93 seconds | since_last: 0.00 seconds :: \n"
     ]
    },
    {
     "data": {
      "text/plain": [
       "' :: initiate keybert_model END | since_start: 1.0 minute, 35.93 seconds | since_last: 0.00 seconds :: '"
      ]
     },
     "execution_count": 10,
     "metadata": {},
     "output_type": "execute_result"
    }
   ],
   "source": [
    "timelogger.log('initiate keybert_model START')\n",
    "keybert_model = KeyBERT(model=st_embed_model)\n",
    "timelogger.log('initiate keybert_model END')"
   ]
  },
  {
   "cell_type": "code",
   "execution_count": 19,
   "id": "89581663-a9f3-4349-baaf-16c1d898fd84",
   "metadata": {
    "execution": {
     "iopub.execute_input": "2025-09-20T17:32:27.894348Z",
     "iopub.status.busy": "2025-09-20T17:32:27.894016Z",
     "iopub.status.idle": "2025-09-20T17:32:40.085467Z",
     "shell.execute_reply": "2025-09-20T17:32:40.084360Z",
     "shell.execute_reply.started": "2025-09-20T17:32:27.894324Z"
    }
   },
   "outputs": [
    {
     "name": "stdout",
     "output_type": "stream",
     "text": [
      "sentence-transformers/all-distilroberta-v1\n",
      " :: extract keywords | Default | START | since_start: 8.0 minutes, 9.21 seconds | since_last: 14.66 seconds :: \n",
      " :: extract keywords | Default | END | since_start: 8.0 minutes, 21.38 seconds | since_last: 12.17 seconds :: \n"
     ]
    },
    {
     "data": {
      "text/plain": [
       "[[('eavesdropping', 0.2479),\n",
       "  ('secure', 0.2165),\n",
       "  ('quantum', 0.1893),\n",
       "  ('security', 0.1773),\n",
       "  ('ideal', 0.1472)],\n",
       " [('facerecognition', 0.5805),\n",
       "  ('face', 0.3206),\n",
       "  ('recognition', 0.2747),\n",
       "  ('biometrics', 0.2384),\n",
       "  ('tracking', 0.2123)],\n",
       " [('blogs', 0.4902),\n",
       "  ('bloggers', 0.4684),\n",
       "  ('newspapers', 0.4559),\n",
       "  ('journalists', 0.4133),\n",
       "  ('journalism', 0.4042)]]"
      ]
     },
     "execution_count": 19,
     "metadata": {},
     "output_type": "execute_result"
    }
   ],
   "source": [
    "print(sentence_transformer_model_name)\n",
    "timelogger.log('extract keywords | Default | START')\n",
    "initial_keywords = keybert_model.extract_keywords(\n",
    "    docs=texts_only_list,\n",
    ")\n",
    "timelogger.log('extract keywords | Default | END')\n",
    "initial_keywords"
   ]
  },
  {
   "cell_type": "code",
   "execution_count": 21,
   "id": "0cb653e9-587a-4bc9-893c-2b9643de1e85",
   "metadata": {
    "execution": {
     "iopub.execute_input": "2025-09-20T17:33:06.901034Z",
     "iopub.status.busy": "2025-09-20T17:33:06.900747Z",
     "iopub.status.idle": "2025-09-20T17:33:18.643310Z",
     "shell.execute_reply": "2025-09-20T17:33:18.641937Z",
     "shell.execute_reply.started": "2025-09-20T17:33:06.901012Z"
    }
   },
   "outputs": [
    {
     "name": "stdout",
     "output_type": "stream",
     "text": [
      "sentence-transformers/all-distilroberta-v1\n",
      " :: extract keywords | Default Top20 | START | since_start: 8.0 minutes, 48.21 seconds | since_last: 26.80 seconds :: \n",
      " :: extract keywords | Default Top20 | END | since_start: 8.0 minutes, 59.94 seconds | since_last: 11.72 seconds :: \n"
     ]
    },
    {
     "data": {
      "text/plain": [
       "[[('eavesdropping', 0.2479),\n",
       "  ('secure', 0.2165),\n",
       "  ('quantum', 0.1893),\n",
       "  ('security', 0.1773),\n",
       "  ('ideal', 0.1472),\n",
       "  ('encryption', 0.137),\n",
       "  ('qkd', 0.1341),\n",
       "  ('hypothetical', 0.1323),\n",
       "  ('quantity', 0.1289),\n",
       "  ('unconditionally', 0.1236),\n",
       "  ('unconditional', 0.1163),\n",
       "  ('speak', 0.1111),\n",
       "  ('communicating', 0.1079),\n",
       "  ('exchange', 0.1076),\n",
       "  ('authentication', 0.1048),\n",
       "  ('ultimate', 0.1032),\n",
       "  ('attacks', 0.1023),\n",
       "  ('ideality', 0.1017),\n",
       "  ('key', 0.1006),\n",
       "  ('absolute', 0.1004)],\n",
       " [('facerecognition', 0.5805),\n",
       "  ('face', 0.3206),\n",
       "  ('recognition', 0.2747),\n",
       "  ('biometrics', 0.2384),\n",
       "  ('tracking', 0.2123),\n",
       "  ('facial', 0.2052),\n",
       "  ('lighting', 0.1888),\n",
       "  ('camera', 0.1749),\n",
       "  ('appearance', 0.1725),\n",
       "  ('views', 0.1625),\n",
       "  ('seen', 0.1582),\n",
       "  ('identification', 0.1492),\n",
       "  ('shadows', 0.1485),\n",
       "  ('lights', 0.1466),\n",
       "  ('model', 0.1463),\n",
       "  ('frame', 0.1461),\n",
       "  ('recognized', 0.1443),\n",
       "  ('visibility', 0.1436),\n",
       "  ('blinds', 0.1428),\n",
       "  ('view', 0.1413)],\n",
       " [('blogs', 0.4902),\n",
       "  ('bloggers', 0.4684),\n",
       "  ('newspapers', 0.4559),\n",
       "  ('journalists', 0.4133),\n",
       "  ('journalism', 0.4042),\n",
       "  ('blogger', 0.3913),\n",
       "  ('blog', 0.3844),\n",
       "  ('microblog', 0.3679),\n",
       "  ('articles', 0.3498),\n",
       "  ('journalist', 0.3477),\n",
       "  ('media', 0.3443),\n",
       "  ('news', 0.3402),\n",
       "  ('editors', 0.3238),\n",
       "  ('communities', 0.3155),\n",
       "  ('readers', 0.303),\n",
       "  ('headlines', 0.2991),\n",
       "  ('facebook', 0.2934),\n",
       "  ('community', 0.2882),\n",
       "  ('feeds', 0.2875),\n",
       "  ('newspad', 0.2863)]]"
      ]
     },
     "execution_count": 21,
     "metadata": {},
     "output_type": "execute_result"
    }
   ],
   "source": [
    "print(sentence_transformer_model_name)\n",
    "timelogger.log('extract keywords | Default Top20 | START')\n",
    "initial_keywords = keybert_model.extract_keywords(\n",
    "    docs=texts_only_list,\n",
    "    top_n=20,\n",
    ")\n",
    "timelogger.log('extract keywords | Default Top20 | END')\n",
    "initial_keywords"
   ]
  },
  {
   "cell_type": "code",
   "execution_count": 22,
   "id": "3e34ea87-7992-4fff-a7a9-61f52df31bbe",
   "metadata": {
    "execution": {
     "iopub.execute_input": "2025-09-20T17:33:57.450245Z",
     "iopub.status.busy": "2025-09-20T17:33:57.449782Z",
     "iopub.status.idle": "2025-09-20T17:34:09.768607Z",
     "shell.execute_reply": "2025-09-20T17:34:09.767983Z",
     "shell.execute_reply.started": "2025-09-20T17:33:57.450206Z"
    }
   },
   "outputs": [
    {
     "name": "stdout",
     "output_type": "stream",
     "text": [
      "sentence-transformers/all-distilroberta-v1\n",
      " :: extract keywords | Default Top20 MaxSum | START | since_start: 9.0 minutes, 38.76 seconds | since_last: 38.83 seconds :: \n",
      " :: extract keywords | Default Top20 MaxSum | END | since_start: 9.0 minutes, 51.06 seconds | since_last: 12.30 seconds :: \n"
     ]
    },
    {
     "data": {
      "text/plain": [
       "[[('absolute', 0.1004),\n",
       "  ('key', 0.1006),\n",
       "  ('ideality', 0.1017),\n",
       "  ('attacks', 0.1023),\n",
       "  ('ultimate', 0.1032),\n",
       "  ('authentication', 0.1048),\n",
       "  ('exchange', 0.1076),\n",
       "  ('communicating', 0.1079),\n",
       "  ('speak', 0.1111),\n",
       "  ('unconditional', 0.1163),\n",
       "  ('unconditionally', 0.1236),\n",
       "  ('quantity', 0.1289),\n",
       "  ('hypothetical', 0.1323),\n",
       "  ('qkd', 0.1341),\n",
       "  ('encryption', 0.137),\n",
       "  ('ideal', 0.1472),\n",
       "  ('security', 0.1773),\n",
       "  ('quantum', 0.1893),\n",
       "  ('secure', 0.2165),\n",
       "  ('eavesdropping', 0.2479)],\n",
       " [('view', 0.1413),\n",
       "  ('blinds', 0.1428),\n",
       "  ('visibility', 0.1436),\n",
       "  ('recognized', 0.1443),\n",
       "  ('frame', 0.1461),\n",
       "  ('model', 0.1463),\n",
       "  ('lights', 0.1466),\n",
       "  ('shadows', 0.1485),\n",
       "  ('identification', 0.1492),\n",
       "  ('seen', 0.1582),\n",
       "  ('views', 0.1625),\n",
       "  ('appearance', 0.1725),\n",
       "  ('camera', 0.1749),\n",
       "  ('lighting', 0.1888),\n",
       "  ('facial', 0.2052),\n",
       "  ('tracking', 0.2123),\n",
       "  ('biometrics', 0.2384),\n",
       "  ('recognition', 0.2747),\n",
       "  ('face', 0.3206),\n",
       "  ('facerecognition', 0.5805)],\n",
       " [('newspad', 0.2863),\n",
       "  ('feeds', 0.2875),\n",
       "  ('community', 0.2882),\n",
       "  ('facebook', 0.2934),\n",
       "  ('headlines', 0.2991),\n",
       "  ('readers', 0.303),\n",
       "  ('communities', 0.3155),\n",
       "  ('editors', 0.3238),\n",
       "  ('news', 0.3402),\n",
       "  ('media', 0.3443),\n",
       "  ('journalist', 0.3477),\n",
       "  ('articles', 0.3498),\n",
       "  ('microblog', 0.3679),\n",
       "  ('blog', 0.3844),\n",
       "  ('blogger', 0.3913),\n",
       "  ('journalism', 0.4042),\n",
       "  ('journalists', 0.4133),\n",
       "  ('newspapers', 0.4559),\n",
       "  ('bloggers', 0.4684),\n",
       "  ('blogs', 0.4902)]]"
      ]
     },
     "execution_count": 22,
     "metadata": {},
     "output_type": "execute_result"
    }
   ],
   "source": [
    "print(sentence_transformer_model_name)\n",
    "timelogger.log('extract keywords | Default Top20 MaxSum | START')\n",
    "initial_keywords = keybert_model.extract_keywords(\n",
    "    docs=texts_only_list,\n",
    "    top_n=20,\n",
    "    use_maxsum=True,\n",
    ")\n",
    "timelogger.log('extract keywords | Default Top20 MaxSum | END')\n",
    "initial_keywords"
   ]
  },
  {
   "cell_type": "code",
   "execution_count": 23,
   "id": "65f5d612-bafd-419d-9055-8a7bff8d4283",
   "metadata": {
    "execution": {
     "iopub.execute_input": "2025-09-20T17:36:38.417760Z",
     "iopub.status.busy": "2025-09-20T17:36:38.417463Z",
     "iopub.status.idle": "2025-09-20T17:36:54.071406Z",
     "shell.execute_reply": "2025-09-20T17:36:54.069302Z",
     "shell.execute_reply.started": "2025-09-20T17:36:38.417736Z"
    }
   },
   "outputs": [
    {
     "name": "stdout",
     "output_type": "stream",
     "text": [
      "sentence-transformers/all-distilroberta-v1\n",
      " :: extract keywords | Default Top20 MaxSum KCV | START | since_start: 12.0 minutes, 19.73 seconds | since_last: 2.0 minutes, 28.67 seconds :: \n",
      " :: extract keywords | Default Top20 MaxSum KCV | END | since_start: 12.0 minutes, 35.34 seconds | since_last: 15.61 seconds :: \n"
     ]
    },
    {
     "data": {
      "text/plain": [
       "[[('secure bit exchange', 0.2704),\n",
       "  ('key exchange decays', 0.2775),\n",
       "  ('key exchange', 0.2889),\n",
       "  ('physical crypto system', 0.2894),\n",
       "  ('normal secure communication', 0.2931),\n",
       "  ('slower key exchange speed', 0.2936),\n",
       "  ('perfect security limit', 0.3113),\n",
       "  ('unconditional security', 0.3134),\n",
       "  ('ultimate security', 0.3253),\n",
       "  ('perfect security', 0.3255),\n",
       "  ('hypothetical quantum computer', 0.3365),\n",
       "  ('key exchange system', 0.372),\n",
       "  ('key exchange scheme', 0.3748),\n",
       "  ('perfect unconditional security', 0.3872),\n",
       "  ('quantum communicators', 0.3985),\n",
       "  ('secure key exchange', 0.4294),\n",
       "  ('secure key exchange system', 0.4455),\n",
       "  ('theoretic security', 0.4723),\n",
       "  ('quantum key distribution', 0.4864),\n",
       "  ('secure key exchange systems', 0.4903)],\n",
       " [('generic face model', 0.3544),\n",
       "  ('face images', 0.3752),\n",
       "  ('recognition algorithm', 0.3838),\n",
       "  ('recognition algorithms', 0.4039),\n",
       "  ('face video sequence', 0.4123),\n",
       "  ('face segmentation', 0.4213),\n",
       "  ('face model', 0.4231),\n",
       "  ('recognition performance', 0.4316),\n",
       "  ('face variations', 0.4397),\n",
       "  ('3d generic face model', 0.4404),\n",
       "  ('face verification', 0.4415),\n",
       "  ('face recognition methods', 0.4914),\n",
       "  ('face video database', 0.5251),\n",
       "  ('pose invariant face recognition', 0.5469),\n",
       "  ('signal processing face recognition system', 0.5655),\n",
       "  ('videobased face recognition', 0.5761),\n",
       "  ('facerecognition systems', 0.6002),\n",
       "  ('face recognition algorithm', 0.6073),\n",
       "  ('face recognition', 0.6249),\n",
       "  ('invariant face recognition', 0.6457)],\n",
       " [('single blogger', 0.3767),\n",
       "  ('blog', 0.3844),\n",
       "  ('social media', 0.385),\n",
       "  ('newspad stories', 0.3891),\n",
       "  ('news media', 0.3983),\n",
       "  ('media curation', 0.3989),\n",
       "  ('journalism conference', 0.4027),\n",
       "  ('journalism', 0.4042),\n",
       "  ('journalists', 0.4133),\n",
       "  ('collaborative writing', 0.424),\n",
       "  ('social network sites', 0.4303),\n",
       "  ('community blog', 0.4427),\n",
       "  ('newspapers', 0.4559),\n",
       "  ('collaborative storytelling system', 0.4672),\n",
       "  ('collaborative stories', 0.4693),\n",
       "  ('us news industry', 0.4714),\n",
       "  ('microblog content', 0.4784),\n",
       "  ('blogs', 0.4902),\n",
       "  ('traditional news media', 0.4917),\n",
       "  ('neighborhood bloggers', 0.5656)]]"
      ]
     },
     "execution_count": 23,
     "metadata": {},
     "output_type": "execute_result"
    }
   ],
   "source": [
    "pos_vectorizer = KeyphraseCountVectorizer(\n",
    "    spacy_pipeline=nlp\n",
    ")\n",
    "\n",
    "print(sentence_transformer_model_name)\n",
    "timelogger.log('extract keywords | Default Top20 MaxSum KCV | START')\n",
    "initial_keywords = keybert_model.extract_keywords(\n",
    "    docs=texts_only_list,\n",
    "    top_n=20,\n",
    "    use_maxsum=True,\n",
    "    vectorizer=pos_vectorizer,\n",
    ")\n",
    "timelogger.log('extract keywords | Default Top20 MaxSum KCV | END')\n",
    "initial_keywords"
   ]
  },
  {
   "cell_type": "code",
   "execution_count": 24,
   "id": "cd5ee2e1-14f8-4b3b-b909-ef3c2ce5c107",
   "metadata": {
    "execution": {
     "iopub.execute_input": "2025-09-20T17:38:24.305764Z",
     "iopub.status.busy": "2025-09-20T17:38:24.305474Z",
     "iopub.status.idle": "2025-09-20T17:38:34.306209Z",
     "shell.execute_reply": "2025-09-20T17:38:34.304185Z",
     "shell.execute_reply.started": "2025-09-20T17:38:24.305739Z"
    },
    "scrolled": true
   },
   "outputs": [
    {
     "name": "stdout",
     "output_type": "stream",
     "text": [
      "sentence-transformers/all-distilroberta-v1\n",
      " :: extract keywords | Default Top20 MaxSum KCV pos_pattern | START | since_start: 14.0 minutes, 5.62 seconds | since_last: 1.0 minute, 30.28 seconds :: \n",
      " :: extract keywords | Default Top20 MaxSum KCV pos_pattern | END | since_start: 14.0 minutes, 15.59 seconds | since_last: 9.98 seconds :: \n"
     ]
    },
    {
     "data": {
      "text/plain": [
       "[[('fully crack key', 0.2201),\n",
       "  ('approach perfect security limit p', 0.2486),\n",
       "  ('based security', 0.2508),\n",
       "  ('compromised security', 0.2517),\n",
       "  ('using hypothetical quantum computer', 0.2775),\n",
       "  ('thereby imperil whole system data exchange near future', 0.2838),\n",
       "  ('provide general proof information theoretic', 0.2936),\n",
       "  ('guarantee security', 0.2944),\n",
       "  ('provides maximum achievable information noise', 0.3111),\n",
       "  ('represents perfect security', 0.3292),\n",
       "  ('provide general proof unconditional security kljn', 0.3472),\n",
       "  ('implement key exchange scheme', 0.356),\n",
       "  ('potentially reach perfect security', 0.3567),\n",
       "  ('recorded key exchange', 0.3587),\n",
       "  ('presents general proof unconditional security kljn system type', 0.368),\n",
       "  ('characterizing security key exchange decays', 0.3895),\n",
       "  ('secure key exchange scheme', 0.4244),\n",
       "  ('secure key exchange system', 0.4455),\n",
       "  ('based secure key exchange systems', 0.48),\n",
       "  ('explore various physical phenomena secure key exchange', 0.4835)],\n",
       " [('learning joint illumination', 0.4422),\n",
       "  ('proposed recognition scheme', 0.4427),\n",
       "  ('based illumination model motion objects', 0.4428),\n",
       "  ('integrating recognition performance video sequence', 0.4776),\n",
       "  ('face database', 0.4795),\n",
       "  ('based face recognition methods', 0.4935),\n",
       "  ('learned appearance model', 0.4957),\n",
       "  ('based face verification', 0.5092),\n",
       "  ('learning appearance variation model', 0.5115),\n",
       "  ('explain face recognition algorithm', 0.515),\n",
       "  ('based face recognition algorithm', 0.5302),\n",
       "  ('collected face video database', 0.5347),\n",
       "  ('using 3d models face recognition', 0.5377),\n",
       "  ('pose invariant face recognition', 0.5469),\n",
       "  ('based facerecognition systems', 0.56),\n",
       "  ('learns manifolds face variations face recognition video', 0.5785),\n",
       "  ('perform face recognition', 0.5802),\n",
       "  ('varying face recognition', 0.5902),\n",
       "  ('based face recognition', 0.5908),\n",
       "  ('face recognition performance', 0.6102)],\n",
       " [('community curators', 0.3157),\n",
       "  ('protects stories', 0.3187),\n",
       "  ('create compelling story structures', 0.3223),\n",
       "  ('based feeds', 0.3274),\n",
       "  ('support content curation', 0.3367),\n",
       "  ('automatically generates compelling headline suggestions', 0.3399),\n",
       "  ('automated feeds local information', 0.3435),\n",
       "  ('received headline suggestions', 0.3468),\n",
       "  ('resulting newspad story', 0.356),\n",
       "  ('sharing media sns', 0.3597),\n",
       "  ('establishing purpose structured stories', 0.3623),\n",
       "  ('inform communities', 0.3689),\n",
       "  ('reaching communities', 0.381),\n",
       "  ('even single blogger', 0.3827),\n",
       "  ('sometimes syndicates content', 0.3837),\n",
       "  ('largely following model traditional news media', 0.4492),\n",
       "  ('freelance journalists', 0.4588),\n",
       "  ('improving stories social recruitment', 0.4659),\n",
       "  ('add media newspad story', 0.4736),\n",
       "  ('fulfill role journalism', 0.5076)]]"
      ]
     },
     "execution_count": 24,
     "metadata": {},
     "output_type": "execute_result"
    }
   ],
   "source": [
    "pos_vectorizer = KeyphraseCountVectorizer(\n",
    "    spacy_pipeline=nlp,\n",
    "    pos_pattern='(<AUX>?<RB>?<V.*><PRT>?<DT>?<J.*>*<N.*>+(<IN><DT>?<J.*>*<N.*>+)*)',\n",
    ")\n",
    "\n",
    "print(sentence_transformer_model_name)\n",
    "timelogger.log('extract keywords | Default Top20 MaxSum KCV pos_pattern 01 | START')\n",
    "initial_keywords = keybert_model.extract_keywords(\n",
    "    docs=texts_only_list,\n",
    "    top_n=20,\n",
    "    use_maxsum=True,\n",
    "    vectorizer=pos_vectorizer,\n",
    ")\n",
    "timelogger.log('extract keywords | Default Top20 MaxSum KCV pos_pattern 01 | END')\n",
    "initial_keywords"
   ]
  },
  {
   "cell_type": "code",
   "execution_count": 25,
   "id": "4fdf5843-7a5e-4fa6-95c5-8f89bc40ff46",
   "metadata": {
    "execution": {
     "iopub.execute_input": "2025-09-20T17:41:25.059263Z",
     "iopub.status.busy": "2025-09-20T17:41:25.058967Z",
     "iopub.status.idle": "2025-09-20T17:41:45.042962Z",
     "shell.execute_reply": "2025-09-20T17:41:45.039702Z",
     "shell.execute_reply.started": "2025-09-20T17:41:25.059238Z"
    }
   },
   "outputs": [
    {
     "name": "stdout",
     "output_type": "stream",
     "text": [
      " :: initiate pos_vectorizer START | since_start: 17.0 minutes, 6.37 seconds | since_last: 2.0 minutes, 50.78 seconds :: \n",
      "sentence-transformers/all-distilroberta-v1\n",
      " :: extract keywords | Default Top20 MaxSum KCV pos_pattern 02 | START | since_start: 17.0 minutes, 6.38 seconds | since_last: 0.00 seconds :: \n",
      " :: extract keywords | Default Top20 MaxSum KCV pos_pattern 02 | END | since_start: 17.0 minutes, 26.31 seconds | since_last: 19.93 seconds :: \n"
     ]
    },
    {
     "data": {
      "text/plain": [
       "[[('unconditional security', 0.3134),\n",
       "  ('ultimate security', 0.3253),\n",
       "  ('perfect security', 0.3255),\n",
       "  ('represents perfect security', 0.3292),\n",
       "  ('provide general proof unconditional security kljn', 0.3472),\n",
       "  ('implement key exchange scheme', 0.356),\n",
       "  ('similar type convergence toward perfect security', 0.3564),\n",
       "  ('potentially reach perfect security', 0.3567),\n",
       "  ('recorded key exchange', 0.3587),\n",
       "  ('presents general proof unconditional security kljn system type', 0.368),\n",
       "  ('perfect unconditional security', 0.3872),\n",
       "  ('characterizing security key exchange decays', 0.3895),\n",
       "  ('physical competitor quantum communicators', 0.403),\n",
       "  ('secure key exchange scheme', 0.4244),\n",
       "  ('secure key exchange', 0.4294),\n",
       "  ('secure key exchange system', 0.4455),\n",
       "  ('trace distance quantum key distribution', 0.4529),\n",
       "  ('theoretic security', 0.4723),\n",
       "  ('based secure key exchange systems', 0.48),\n",
       "  ('explore various physical phenomena secure key exchange', 0.4835)],\n",
       " [('face database', 0.4795),\n",
       "  ('aspects face recognition', 0.483),\n",
       "  ('based face recognition methods', 0.4935),\n",
       "  ('learned appearance model', 0.4957),\n",
       "  ('based face verification', 0.5092),\n",
       "  ('learning appearance variation model', 0.5115),\n",
       "  ('explain face recognition algorithm', 0.515),\n",
       "  ('based face recognition algorithm', 0.5302),\n",
       "  ('collected face video database', 0.5347),\n",
       "  ('using 3d models face recognition', 0.5377),\n",
       "  ('face recognition large datasets', 0.5414),\n",
       "  ('pose invariant face recognition', 0.5469),\n",
       "  ('challenges videobased face recognition', 0.5509),\n",
       "  ('based facerecognition systems', 0.56),\n",
       "  ('learns manifolds face variations face recognition video', 0.5785),\n",
       "  ('perform face recognition', 0.5802),\n",
       "  ('varying face recognition', 0.5902),\n",
       "  ('based face recognition', 0.5908),\n",
       "  ('face recognition performance', 0.6102),\n",
       "  ('invariant face recognition', 0.6457)],\n",
       " [('news media', 0.3983),\n",
       "  ('media curation', 0.3989),\n",
       "  ('journalism conference', 0.4027),\n",
       "  ('tumblr blog relevant audiences', 0.4135),\n",
       "  ('social network sites', 0.4303),\n",
       "  ('community blog', 0.4427),\n",
       "  ('largely following model traditional news media', 0.4492),\n",
       "  ('newspapers', 0.4559),\n",
       "  ('freelance journalists', 0.4588),\n",
       "  ('improving stories social recruitment', 0.4659),\n",
       "  ('collaborative storytelling system', 0.4672),\n",
       "  ('collaborative stories', 0.4693),\n",
       "  ('us news industry', 0.4714),\n",
       "  ('add media newspad story', 0.4736),\n",
       "  ('microblog content', 0.4784),\n",
       "  ('content editor cooperative community', 0.4857),\n",
       "  ('blogs', 0.4902),\n",
       "  ('fulfill role journalism', 0.5076),\n",
       "  ('readers newspad stories', 0.5192),\n",
       "  ('neighborhood bloggers', 0.5656)]]"
      ]
     },
     "execution_count": 25,
     "metadata": {},
     "output_type": "execute_result"
    }
   ],
   "source": [
    "timelogger.log('initiate pos_vectorizer START')\n",
    "pos_pattern = (\n",
    "    # Verb-led methodological action (optional subject/aux/adv, main verb, noun phrase core, optional chained PPs)\n",
    "    # \"derive MIMO processing matrices\"\n",
    "    # \"compare the performance\"\n",
    "    # \"factor the MU MIMO precoding matrix\"\n",
    "    '(<AUX>?<RB>?<V.*><PRT>?<DT>?<J.*>*<N.*>+(<IN><DT>?<J.*>*<N.*>+)*)' + '|'\n",
    "    \n",
    "    # Nominal methodological construct (adjective/noun/proper stacks + optional PP tails)\n",
    "    # \"singular value decomposition\"\n",
    "    # \"MIMO processing matrices\"\n",
    "    # \"regularized block diagonal AF algorithm\"\n",
    "    '(<J.*>*<N.*>+(<N.*>+)*(<IN><J.*>*<N.*>+)*)' + '|'\n",
    "    \n",
    "    # Metric/result short form\n",
    "    # \"bit error rate\"\n",
    "    # \"BER performance\"\n",
    "    # \"SNR gain\"\n",
    "    '(<J.*>*<N.*>+)'\n",
    ")\n",
    "\n",
    "pos_vectorizer = KeyphraseCountVectorizer(\n",
    "    spacy_pipeline=nlp,\n",
    "    pos_pattern=pos_pattern,\n",
    ")\n",
    "\n",
    "print(sentence_transformer_model_name)\n",
    "timelogger.log('extract keywords | Default Top20 MaxSum KCV pos_pattern 02 | START')\n",
    "initial_keywords = keybert_model.extract_keywords(\n",
    "    docs=texts_only_list,\n",
    "    top_n=20,\n",
    "    use_maxsum=True,\n",
    "    vectorizer=pos_vectorizer,\n",
    ")\n",
    "timelogger.log('extract keywords | Default Top20 MaxSum KCV pos_pattern 02 | END')\n",
    "initial_keywords"
   ]
  },
  {
   "cell_type": "code",
   "execution_count": 107,
   "id": "727e8e90-5504-4272-a8f2-02217f9628c0",
   "metadata": {
    "execution": {
     "iopub.execute_input": "2025-09-10T20:58:04.857955Z",
     "iopub.status.busy": "2025-09-10T20:58:04.857651Z",
     "iopub.status.idle": "2025-09-10T20:58:04.869215Z",
     "shell.execute_reply": "2025-09-10T20:58:04.868444Z",
     "shell.execute_reply.started": "2025-09-10T20:58:04.857933Z"
    }
   },
   "outputs": [
    {
     "data": {
      "text/plain": [
       "['present results simulations',\n",
       " 'estimates h',\n",
       " 'proposed algorithm performance system',\n",
       " 'perform resource allocation',\n",
       " 'proposed system',\n",
       " 'estimate h',\n",
       " 'compare performance rbd af algorithm',\n",
       " 'received power kth ut',\n",
       " 'compare bit error rate',\n",
       " 'describe relaying system',\n",
       " 'estimate h 2,k f r k',\n",
       " 'denotes number',\n",
       " 'investigate different power allocation algorithms',\n",
       " 'using following optimization',\n",
       " 'using matrices f r',\n",
       " 'design mimo',\n",
       " 'provide information additive noise variances receivers transmitters',\n",
       " 'describe antenna configuration system',\n",
       " 'perform mimo',\n",
       " 'design mu mimo',\n",
       " 'optimize kth ut performance',\n",
       " 'denotes kth ut',\n",
       " 'channel estimation errors',\n",
       " 'negligible performance loss',\n",
       " 'provide reliable transmission',\n",
       " 'estimate effective mimo matrix',\n",
       " 'serving users',\n",
       " 'multi - user',\n",
       " 'receive matrices rn',\n",
       " 'consider mu mimo dl system',\n",
       " 'receive matrix rn',\n",
       " 'minimizes mu interference',\n",
       " 'kth ut mimo',\n",
       " 'minimize mu interference',\n",
       " 'denotes additive noise correlation matrix',\n",
       " 'design optimum matrix f r c',\n",
       " 'design mimo processing matrices bs',\n",
       " 'represents mui',\n",
       " 'use qr decomposition combination dpc',\n",
       " 'receive matrix',\n",
       " 'transmit power bs',\n",
       " 'feedback noise variance',\n",
       " 'assuming mimo',\n",
       " 'receive matrix uts',\n",
       " 'obtaining robust communication',\n",
       " 'following equation',\n",
       " 'simultaneously using space',\n",
       " 'factor mu mimo',\n",
       " 'spatially multiplexed data streams kth user',\n",
       " 'precoding matrix rn',\n",
       " 'precoding matrix bs',\n",
       " 'rn mimo',\n",
       " 'includes mimo processing bs',\n",
       " 'using mimo channel matrix bs rn',\n",
       " 'r ∈ r r×r',\n",
       " 'assuming large path loss',\n",
       " 'estimated ul channel dl transmission',\n",
       " 'mean complex gaussian random variables variance',\n",
       " 'using mimo channel matrices bs rn',\n",
       " 'derive mimo processing matrices bs',\n",
       " 'denotes identity matrix',\n",
       " 'combined effective channel matrix rn uts',\n",
       " 'define singular value decomposition',\n",
       " 'define svd h 2,k f r',\n",
       " 'estimate channel matrix h',\n",
       " 'function mimo processing matrix',\n",
       " 'resulting mimo processing matrices',\n",
       " 'supports single communication pair',\n",
       " 'derived mimo processing matrices bs',\n",
       " 'design spatial processing matrices transmitter',\n",
       " 'stacked vector',\n",
       " 'precoding matrix',\n",
       " 'precoding matrix relay',\n",
       " 'spatially multiplexed data streams',\n",
       " 'minimize co',\n",
       " 'minimize mui kth ut co - channel uts',\n",
       " 'diagonal positive definite power',\n",
       " 'regarding total number antennas uts',\n",
       " 'receive antennas kth ut',\n",
       " 'define svd h 2,k',\n",
       " 'precoding matrix f.',\n",
       " 'denotes transmit vector correlation matrix',\n",
       " 'find optimum mimo processing matrices',\n",
       " 'using 4qam modulation',\n",
       " 'limitations mimo processing matrices',\n",
       " 'regularized block',\n",
       " 'assuming mu mimo channel',\n",
       " 'derive mimo processing matrices',\n",
       " 'precoding matrix f',\n",
       " 'update matrix f',\n",
       " 'reducing overlap row spaces',\n",
       " 'using quadrature amplitude modulation',\n",
       " 'jointly optimizes mimo processing matrices bs',\n",
       " 'simultaneously improve channel conditions',\n",
       " 'extend mimo',\n",
       " 'reduce distances individual nodes',\n",
       " 'transmit vector correlation matrix',\n",
       " 'multiple antennas',\n",
       " 'fading channels',\n",
       " 'omit influence additive noise input rn antenna']"
      ]
     },
     "execution_count": 107,
     "metadata": {},
     "output_type": "execute_result"
    }
   ],
   "source": [
    "from sklearn.metrics.pairwise import cosine_similarity, euclidean_distances\n",
    "\n",
    "top_n = 10\n",
    "pairwise_distances = euclidean_distances(initial_keyword_embeddings, generic_methodology_phrase_embeddings)\n",
    "closest_distances_per_keyword = [[index, min(ds)] for index, ds in enumerate(pairwise_distances)]\n",
    "sorted_closest_distances_per_keyword = sorted(closest_distances_per_keyword, key=lambda x: x[1])\n",
    "keywords = [initial_keywords_top100[index][0] for (index, distance) in sorted_closest_distances_per_keyword]\n",
    "keywords"
   ]
  },
  {
   "cell_type": "code",
   "execution_count": 70,
   "id": "08ee2604-a831-44ef-a74a-01dc46c43d8c",
   "metadata": {
    "execution": {
     "iopub.execute_input": "2025-09-10T20:06:25.133187Z",
     "iopub.status.busy": "2025-09-10T20:06:25.132749Z",
     "iopub.status.idle": "2025-09-10T20:06:25.139951Z",
     "shell.execute_reply": "2025-09-10T20:06:25.138961Z",
     "shell.execute_reply.started": "2025-09-10T20:06:25.133147Z"
    }
   },
   "outputs": [
    {
     "data": {
      "text/plain": [
       "[[0, 1.4426476], [1, 1.4687278]]"
      ]
     },
     "execution_count": 70,
     "metadata": {},
     "output_type": "execute_result"
    }
   ],
   "source": [
    "closest_distances_per_keyword"
   ]
  },
  {
   "cell_type": "code",
   "execution_count": 63,
   "id": "5d349f34-0ac0-4899-849b-e15940bd8f04",
   "metadata": {
    "execution": {
     "iopub.execute_input": "2025-09-10T19:59:54.248592Z",
     "iopub.status.busy": "2025-09-10T19:59:54.247977Z",
     "iopub.status.idle": "2025-09-10T19:59:54.254548Z",
     "shell.execute_reply": "2025-09-10T19:59:54.253531Z",
     "shell.execute_reply.started": "2025-09-10T19:59:54.248561Z"
    }
   },
   "outputs": [
    {
     "data": {
      "text/plain": [
       "array([[1.4426476, 1.4526964],\n",
       "       [1.4687278, 1.4915861]], dtype=float32)"
      ]
     },
     "execution_count": 63,
     "metadata": {},
     "output_type": "execute_result"
    }
   ],
   "source": [
    "distances"
   ]
  },
  {
   "cell_type": "code",
   "execution_count": null,
   "id": "d65862d2-feff-4b50-945e-2e4c87eb013e",
   "metadata": {},
   "outputs": [],
   "source": []
  }
 ],
 "metadata": {
  "kernelspec": {
   "display_name": "python_311_2",
   "language": "python",
   "name": "python_311_2"
  },
  "language_info": {
   "codemirror_mode": {
    "name": "ipython",
    "version": 3
   },
   "file_extension": ".py",
   "mimetype": "text/x-python",
   "name": "python",
   "nbconvert_exporter": "python",
   "pygments_lexer": "ipython3",
   "version": "3.11.13"
  }
 },
 "nbformat": 4,
 "nbformat_minor": 5
}
