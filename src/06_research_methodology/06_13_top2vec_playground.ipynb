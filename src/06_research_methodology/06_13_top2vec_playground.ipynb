{
 "cells": [
  {
   "cell_type": "code",
   "execution_count": 1,
   "id": "f4f121b4-b7c9-45dc-838d-fbeca2010c68",
   "metadata": {
    "execution": {
     "iopub.execute_input": "2025-09-21T17:35:38.709246Z",
     "iopub.status.busy": "2025-09-21T17:35:38.709011Z",
     "iopub.status.idle": "2025-09-21T17:35:44.856330Z",
     "shell.execute_reply": "2025-09-21T17:35:44.855702Z",
     "shell.execute_reply.started": "2025-09-21T17:35:38.709228Z"
    }
   },
   "outputs": [
    {
     "name": "stdout",
     "output_type": "stream",
     "text": [
      "sagemaker.config INFO - Not applying SDK defaults from location: /etc/xdg/sagemaker/config.yaml\n",
      "sagemaker.config INFO - Not applying SDK defaults from location: /home/sagemaker-user/.config/sagemaker/config.yaml\n",
      "config.py loaded: v0.1\n",
      "utils.py loaded: v0.2.12\n",
      "utils.py loaded: v0.2.12\n",
      "config.py loaded: v0.1\n"
     ]
    }
   ],
   "source": [
    "import requests\n",
    "import boto3\n",
    "import json\n",
    "import os\n",
    "import sys\n",
    "import argparse\n",
    "import importlib\n",
    "import transformers\n",
    "import torch\n",
    "import pathlib\n",
    "import smart_open\n",
    "import awswrangler as wr\n",
    "from IPython.display import display\n",
    "from sagemaker.huggingface.processing import HuggingFaceProcessor\n",
    "from sagemaker.sklearn.processing import SKLearnProcessor\n",
    "from sagemaker.processing import FrameworkProcessor\n",
    "from sagemaker.sklearn.estimator import SKLearn\n",
    "from sagemaker.workflow.steps import ProcessingStep\n",
    "from sagemaker.workflow.pipeline_context import PipelineSession\n",
    "from sagemaker.processing import ProcessingInput, ProcessingOutput\n",
    "from sagemaker.session import get_execution_role\n",
    "\n",
    "\n",
    "# Adding ../01_modules or ./01_modules to the system path so that we can load modules from \n",
    "# there as well\n",
    "if '__file__' in globals():\n",
    "    script_dir = pathlib.Path(__file__).parent.resolve()\n",
    "else:\n",
    "    script_dir = pathlib.Path().absolute()\n",
    "modules_path_in_dev = os.path.abspath(os.path.join(script_dir, '..', '01_modules'))\n",
    "modules_path_in_prod = os.path.abspath(os.path.join(script_dir, '01_modules'))\n",
    "if os.path.exists(modules_path_in_dev):\n",
    "    sys.path.append(modules_path_in_dev)\n",
    "if os.path.exists(modules_path_in_prod):\n",
    "    sys.path.append(modules_path_in_prod)\n",
    "\n",
    "\n",
    "# # Jupyter only reads a local module the first time after \n",
    "# # kernel start. Re-running a cell with \n",
    "# # \"from mymodulename import *\" would not change\n",
    "# # anything, even if the imported module has since changed.\n",
    "# # As a workaround, we need to directly load the module, \n",
    "# # use importlib.reload to reload it and then import * \n",
    "import utils\n",
    "_ = importlib.reload(utils)\n",
    "import config\n",
    "_ = importlib.reload(config)"
   ]
  },
  {
   "cell_type": "code",
   "execution_count": 2,
   "id": "2b7767a8-952f-47c4-b400-6ca3bf32468a",
   "metadata": {
    "execution": {
     "iopub.execute_input": "2025-09-21T17:35:44.857290Z",
     "iopub.status.busy": "2025-09-21T17:35:44.857100Z",
     "iopub.status.idle": "2025-09-21T17:35:50.789362Z",
     "shell.execute_reply": "2025-09-21T17:35:50.788652Z",
     "shell.execute_reply.started": "2025-09-21T17:35:44.857273Z"
    }
   },
   "outputs": [
    {
     "name": "stdout",
     "output_type": "stream",
     "text": [
      "Collecting en-core-web-sm==3.8.0\n",
      "  Downloading https://github.com/explosion/spacy-models/releases/download/en_core_web_sm-3.8.0/en_core_web_sm-3.8.0-py3-none-any.whl (12.8 MB)\n",
      "\u001b[2K     \u001b[90m━━━━━━━━━━━━━━━━━━━━━━━━━━━━━━━━━━━━━━━━\u001b[0m \u001b[32m12.8/12.8 MB\u001b[0m \u001b[31m87.1 MB/s\u001b[0m  \u001b[33m0:00:00\u001b[0m\n",
      "\u001b[?25h\u001b[38;5;2m✔ Download and installation successful\u001b[0m\n",
      "You can now load the package via spacy.load('en_core_web_sm')\n",
      "\u001b[38;5;3m⚠ Restart to reload dependencies\u001b[0m\n",
      "If you are in a Jupyter or Colab notebook, you may need to restart Python in\n",
      "order to load all the package's dependencies. You can do this by selecting the\n",
      "'Restart kernel' or 'Restart runtime' option.\n",
      " :: :: TIMELOGGER STARTED :: | since_start: 0.00 seconds | since_last: 0.00 seconds :: \n"
     ]
    },
    {
     "data": {
      "text/plain": [
       "'\\n@conference{schopf_etal_kdir22,\\nauthor={Tim Schopf and Simon Klimek and Florian Matthes},\\ntitle={PatternRank: Leveraging Pretrained Language Models and Part of Speech for Unsupervised Keyphrase Extraction},\\nbooktitle={Proceedings of the 14th International Joint Conference on Knowledge Discovery, Knowledge Engineering and Knowledge Management (IC3K 2022) - KDIR},\\nyear={2022},\\npages={243-248},\\npublisher={SciTePress},\\norganization={INSTICC},\\ndoi={10.5220/0011546600003335},\\nisbn={978-989-758-614-9},\\nissn={2184-3228},\\n}\\n'"
      ]
     },
     "execution_count": 2,
     "metadata": {},
     "output_type": "execute_result"
    }
   ],
   "source": [
    "import os, json, re, argparse, math\n",
    "from pathlib import Path\n",
    "from collections import Counter\n",
    "import numpy as np\n",
    "import spacy\n",
    "from sentence_transformers import SentenceTransformer, util\n",
    "from keybert import KeyBERT\n",
    "from keyphrase_vectorizers import KeyphraseCountVectorizer\n",
    "import spacy.cli\n",
    "spacy_model = 'en_core_web_sm'\n",
    "spacy.cli.download(spacy_model)\n",
    "spacy_exclude = ['parser', 'attribute_ruler', 'lemmatizer', 'ner', 'textcat']\n",
    "nlp = spacy.load(spacy_model, exclude=spacy_exclude)\n",
    "timelogger = utils.TimeLogger()\n",
    "\"\"\"\n",
    "@conference{schopf_etal_kdir22,\n",
    "author={Tim Schopf and Simon Klimek and Florian Matthes},\n",
    "title={PatternRank: Leveraging Pretrained Language Models and Part of Speech for Unsupervised Keyphrase Extraction},\n",
    "booktitle={Proceedings of the 14th International Joint Conference on Knowledge Discovery, Knowledge Engineering and Knowledge Management (IC3K 2022) - KDIR},\n",
    "year={2022},\n",
    "pages={243-248},\n",
    "publisher={SciTePress},\n",
    "organization={INSTICC},\n",
    "doi={10.5220/0011546600003335},\n",
    "isbn={978-989-758-614-9},\n",
    "issn={2184-3228},\n",
    "}\n",
    "\"\"\""
   ]
  },
  {
   "cell_type": "code",
   "execution_count": 3,
   "id": "a6abd9ca-1256-43cd-9a9f-7b95887d54bf",
   "metadata": {
    "execution": {
     "iopub.execute_input": "2025-09-21T17:35:50.790617Z",
     "iopub.status.busy": "2025-09-21T17:35:50.790214Z",
     "iopub.status.idle": "2025-09-21T17:35:56.034741Z",
     "shell.execute_reply": "2025-09-21T17:35:56.033829Z",
     "shell.execute_reply.started": "2025-09-21T17:35:50.790597Z"
    }
   },
   "outputs": [
    {
     "data": {
      "text/plain": [
       "'As was noted earlier, we formed our dataset utilizing the existing relations present in SNOMED CT. T'"
      ]
     },
     "execution_count": 3,
     "metadata": {},
     "output_type": "execute_result"
    }
   ],
   "source": [
    "database_name = '02_stg'\n",
    "table_name = 'stg_filtered_work_chapters_methodology_single'\n",
    "id_columns = ['work_id']\n",
    "text_column_name = 'chapter_text'\n",
    "text_batch_size = 1000\n",
    "\n",
    "utils.pd_set_options(cols=100)\n",
    "id_column_names = ', '.join(id_columns)\n",
    "# TODO: pagination\n",
    "texts_df = wr.athena.read_sql_query(f\"\"\"\n",
    "    SELECT\n",
    "        {id_column_names}, {text_column_name} \n",
    "    FROM\n",
    "        \"{database_name}\".{table_name}\n",
    "    ORDER BY\n",
    "        {id_column_names}\n",
    "    LIMIT\n",
    "        {text_batch_size}\n",
    "    \"\"\",\n",
    "    database_name\n",
    ")\n",
    "texts_only_list = texts_df[text_column_name].tolist()\n",
    "texts_only_list[0][0:100]"
   ]
  },
  {
   "cell_type": "code",
   "execution_count": 4,
   "id": "ce627b11-1035-41b1-93d1-2f01ba438e36",
   "metadata": {
    "execution": {
     "iopub.execute_input": "2025-09-21T17:35:56.036332Z",
     "iopub.status.busy": "2025-09-21T17:35:56.036006Z",
     "iopub.status.idle": "2025-09-21T17:37:51.268830Z",
     "shell.execute_reply": "2025-09-21T17:37:51.267904Z",
     "shell.execute_reply.started": "2025-09-21T17:35:56.036299Z"
    }
   },
   "outputs": [
    {
     "name": "stderr",
     "output_type": "stream",
     "text": [
      "2025-09-21 17:36:00,554 - top2vec - INFO - Pre-processing documents for training\n",
      "/home/sagemaker-user/.conda/envs/python_311/lib/python3.11/site-packages/sklearn/feature_extraction/text.py:528: UserWarning: The parameter 'token_pattern' will not be used since 'tokenizer' is not None'\n",
      "  warnings.warn(\n",
      "2025-09-21 17:36:01,669 - top2vec - INFO - Creating vocabulary embedding\n",
      "Embedding vocabulary: 100%|██████████| 30/30 [00:36<00:00,  1.22s/it]\n",
      "2025-09-21 17:36:38,778 - top2vec - INFO - Create contextualized document embeddings\n",
      "Embedding documents: 100%|██████████| 32/32 [00:35<00:00,  1.10s/it]\n",
      "1000it [00:00, 7291.47it/s]\n",
      "2025-09-21 17:37:17,841 - top2vec - INFO - Creating lower dimension embedding of documents\n",
      "2025-09-21 17:37:45,394 - top2vec - INFO - Finding dense areas of documents\n",
      "2025-09-21 17:37:45,573 - top2vec - INFO - Finding topics\n",
      "Smoothing document token embeddings: 100%|██████████| 1000/1000 [00:04<00:00, 246.96it/s]\n",
      "Calculating document topic distributions: 100%|██████████| 1000/1000 [00:00<00:00, 3836.20it/s]\n"
     ]
    }
   ],
   "source": [
    "from top2vec import Top2Vec\n",
    "\n",
    "# Create a Contextual Top2Vec model\n",
    "top2vec_model = Top2Vec(documents=texts_only_list,\n",
    "                        ngram_vocab=True,\n",
    "                        contextual_top2vec=True)"
   ]
  },
  {
   "cell_type": "code",
   "execution_count": 5,
   "id": "9ecb38a7-a093-4ae3-9471-f9b8038b0e56",
   "metadata": {
    "execution": {
     "iopub.execute_input": "2025-09-21T17:37:51.270215Z",
     "iopub.status.busy": "2025-09-21T17:37:51.269751Z",
     "iopub.status.idle": "2025-09-21T17:37:51.274597Z",
     "shell.execute_reply": "2025-09-21T17:37:51.274002Z",
     "shell.execute_reply.started": "2025-09-21T17:37:51.270193Z"
    }
   },
   "outputs": [
    {
     "data": {
      "text/plain": [
       "88"
      ]
     },
     "execution_count": 5,
     "metadata": {},
     "output_type": "execute_result"
    }
   ],
   "source": [
    "top2vec_model.get_num_topics()"
   ]
  },
  {
   "cell_type": "code",
   "execution_count": 6,
   "id": "7c9cdad6-787d-4ed6-81e1-5225373f1f02",
   "metadata": {
    "execution": {
     "iopub.execute_input": "2025-09-21T17:37:51.275344Z",
     "iopub.status.busy": "2025-09-21T17:37:51.275160Z",
     "iopub.status.idle": "2025-09-21T17:37:51.282002Z",
     "shell.execute_reply": "2025-09-21T17:37:51.281324Z",
     "shell.execute_reply.started": "2025-09-21T17:37:51.275325Z"
    }
   },
   "outputs": [
    {
     "data": {
      "text/plain": [
       "(array([17641, 10604,  9503,  7937,  7685,  7272,  6715,  6636,  6583,\n",
       "         6236,  5603,  5600,  5125,  5113,  5025,  4456,  4379,  3984,\n",
       "         3845,  3834,  3791,  3739,  3317,  3287,  3262,  3209,  2918,\n",
       "         2915,  2875,  2825,  2744,  2734,  2720,  2696,  2667,  2644,\n",
       "         2639,  2574,  2543,  2513,  2425,  2415,  2383,  2334,  2315,\n",
       "         2288,  2256,  2241,  2209,  2125,  2056,  2034,  2024,  2022,\n",
       "         1994,  1979,  1920,  1861,  1855,  1832,  1768,  1753,  1737,\n",
       "         1670,  1627,  1614,  1607,  1598,  1581,  1514,  1476,  1429,\n",
       "         1405,  1402,  1372,  1311,  1234,  1212,  1201,  1138,  1074,\n",
       "         1028,  1020,  1013,  1010,   853,   769,   727]),\n",
       " array([52, 84, 87,  0, 83, 74, 76, 53, 49, 39, 77, 63, 70, 65, 67, 34, 26,\n",
       "        31, 72, 78, 64, 66,  3, 75, 55, 41, 35, 82, 32,  8, 46,  9, 37, 50,\n",
       "         1, 40, 56,  5,  6, 62, 28, 58, 43, 25, 29, 86, 15, 20, 68, 79, 51,\n",
       "        11, 36, 48, 73, 69, 44, 22, 47, 85, 71, 24,  2, 19, 30, 80, 81, 14,\n",
       "        42, 54, 10, 59, 33, 60,  7, 13, 45, 27, 57, 17, 38, 23, 21, 12, 16,\n",
       "        61, 18,  4]))"
      ]
     },
     "execution_count": 6,
     "metadata": {},
     "output_type": "execute_result"
    }
   ],
   "source": [
    "top2vec_model.get_topic_sizes()"
   ]
  },
  {
   "cell_type": "code",
   "execution_count": 10,
   "id": "d8261be8-f524-4c57-86be-2b87e45187c9",
   "metadata": {
    "execution": {
     "iopub.execute_input": "2025-09-13T20:04:41.688244Z",
     "iopub.status.busy": "2025-09-13T20:04:41.687984Z",
     "iopub.status.idle": "2025-09-13T20:04:41.693032Z",
     "shell.execute_reply": "2025-09-13T20:04:41.692561Z",
     "shell.execute_reply.started": "2025-09-13T20:04:41.688224Z"
    },
    "scrolled": true
   },
   "outputs": [
    {
     "data": {
      "text/plain": [
       "(array(['research methodology', 'qualitative research', 'action research',\n",
       "        'qualitative data', 'grounded theory', 'research questions',\n",
       "        'software measurement', 'present study', 'digital repository',\n",
       "        'software engineering', 'software development',\n",
       "        'provisioning model', 'scientific research', 'pilot study',\n",
       "        'software system', 'design science', 'proposed methodology',\n",
       "        'content analysis', 'questionnaire was', 'to analyze',\n",
       "        'sub processes', 'case study', 'data sources', 'itbm ontology',\n",
       "        'design modeling', 'web archiving', 'object oriented',\n",
       "        'are summarized', 'this study', 'expert interviews',\n",
       "        'evaluation metrics', 'engineering design',\n",
       "        'security practitioners', 'google scholar', 'data collection',\n",
       "        'icase tools', 'case studies', 'review process',\n",
       "        'means clustering', 'to develop', 'knowledge architecture',\n",
       "        'professional competence', 'information retrieval',\n",
       "        'social science', 'main objective', 'source synonym', 'copy tasks',\n",
       "        'test cases', 'service oriented', 'data persistence'], dtype='<U25'),\n",
       " array([0.34984928, 0.30723757, 0.29029366, 0.28580925, 0.27875155,\n",
       "        0.27704373, 0.27309743, 0.2727351 , 0.27254632, 0.27246866,\n",
       "        0.2721973 , 0.27119803, 0.27059314, 0.2697082 , 0.26746088,\n",
       "        0.26480317, 0.26184803, 0.25883448, 0.25641316, 0.25635326,\n",
       "        0.2561118 , 0.25547865, 0.25334916, 0.25301823, 0.25258306,\n",
       "        0.2468943 , 0.24446693, 0.24374671, 0.24100967, 0.24078813,\n",
       "        0.24077277, 0.24050124, 0.23954625, 0.23856312, 0.23788498,\n",
       "        0.23458566, 0.23363847, 0.23324883, 0.23087025, 0.2308459 ,\n",
       "        0.22936688, 0.22886318, 0.22859092, 0.22668682, 0.22625144,\n",
       "        0.22543944, 0.22458908, 0.22445582, 0.22408372, 0.22187953],\n",
       "       dtype=float32),\n",
       " 79)"
      ]
     },
     "execution_count": 10,
     "metadata": {},
     "output_type": "execute_result"
    }
   ],
   "source": [
    "topic_words, word_scores, topic_nums = top2vec_model.get_topics()\n",
    "topic_words[79], word_scores[79], topic_nums[79]"
   ]
  },
  {
   "cell_type": "code",
   "execution_count": 11,
   "id": "15e6b91c-e67b-4562-bd42-c7c43e4928bc",
   "metadata": {
    "execution": {
     "iopub.execute_input": "2025-09-13T20:05:19.717178Z",
     "iopub.status.busy": "2025-09-13T20:05:19.716920Z",
     "iopub.status.idle": "2025-09-13T20:05:19.721977Z",
     "shell.execute_reply": "2025-09-13T20:05:19.721482Z",
     "shell.execute_reply.started": "2025-09-13T20:05:19.717159Z"
    },
    "scrolled": true
   },
   "outputs": [
    {
     "data": {
      "text/plain": [
       "(array(['sensed images', 'feature extraction', 'optical flow',\n",
       "        'extracted features', 'region fidelity', 'image enhancement',\n",
       "        'semi supervised', 'saliency map', 'each pixel', 'medical images',\n",
       "        'spatial resolution', 'satellite images', 'sparse coding',\n",
       "        'feature maps', 'feature vectors', 'similarity measure',\n",
       "        'remote sensing', 'pattern recognition', 'classification tasks',\n",
       "        'intensity saliency', 'features among', 'brain images',\n",
       "        'eye tracker', 'instance learning', 'sensory data',\n",
       "        'conjugate features', 'binary mask', 'visual abstraction',\n",
       "        'feature map', 'machine svm', 'nearest neighbor',\n",
       "        'labeled dataset', 'feature selection', 'rgb based',\n",
       "        'proposed algorithm', 'support vector', 'similarity scores',\n",
       "        'cover image', 'deep multi', 'supervised classification',\n",
       "        'clustering method', 'spectrum saliency', 'brain image',\n",
       "        'convolutional layers', 'product features',\n",
       "        'classification accuracy', 'feature vector', 'median filter',\n",
       "        'svm classifier', 'feature space'], dtype='<U25'),\n",
       " array([0.37113747, 0.28777748, 0.27698404, 0.27147165, 0.26943028,\n",
       "        0.26772547, 0.26460794, 0.2631526 , 0.26008335, 0.25742033,\n",
       "        0.24630716, 0.24416658, 0.24360435, 0.23608957, 0.23566133,\n",
       "        0.22790778, 0.22448798, 0.22320564, 0.22029787, 0.21762268,\n",
       "        0.21689892, 0.21569233, 0.21535401, 0.21425943, 0.2137453 ,\n",
       "        0.21374422, 0.21183519, 0.20829983, 0.20637518, 0.20013638,\n",
       "        0.19639885, 0.19501957, 0.19371991, 0.19249287, 0.1914939 ,\n",
       "        0.19062859, 0.19046521, 0.189224  , 0.18810451, 0.18763182,\n",
       "        0.1875463 , 0.18688382, 0.18458404, 0.18415602, 0.18408516,\n",
       "        0.18405814, 0.18373321, 0.18314643, 0.18272169, 0.18245983],\n",
       "       dtype=float32),\n",
       " 53)"
      ]
     },
     "execution_count": 11,
     "metadata": {},
     "output_type": "execute_result"
    }
   ],
   "source": [
    "topic_words, word_scores, topic_nums = top2vec_model.get_topics()\n",
    "topic_words[53], word_scores[53], topic_nums[53]"
   ]
  },
  {
   "cell_type": "code",
   "execution_count": 14,
   "id": "b4382f5e-cbb5-4a61-b1ff-270d5c687764",
   "metadata": {
    "execution": {
     "iopub.execute_input": "2025-09-13T20:06:47.246353Z",
     "iopub.status.busy": "2025-09-13T20:06:47.246088Z",
     "iopub.status.idle": "2025-09-13T20:06:47.264876Z",
     "shell.execute_reply": "2025-09-13T20:06:47.263963Z",
     "shell.execute_reply.started": "2025-09-13T20:06:47.246334Z"
    }
   },
   "outputs": [
    {
     "data": {
      "text/plain": [
       "([array(['research methodology', 'qualitative research', 'action research',\n",
       "         'qualitative data', 'grounded theory', 'research questions',\n",
       "         'software measurement', 'present study', 'digital repository',\n",
       "         'software engineering', 'software development',\n",
       "         'provisioning model', 'scientific research', 'pilot study',\n",
       "         'software system', 'design science', 'proposed methodology',\n",
       "         'content analysis', 'questionnaire was', 'to analyze',\n",
       "         'sub processes', 'case study', 'data sources', 'itbm ontology',\n",
       "         'design modeling', 'web archiving', 'object oriented',\n",
       "         'are summarized', 'this study', 'expert interviews',\n",
       "         'evaluation metrics', 'engineering design',\n",
       "         'security practitioners', 'google scholar', 'data collection',\n",
       "         'icase tools', 'case studies', 'review process',\n",
       "         'means clustering', 'to develop', 'knowledge architecture',\n",
       "         'professional competence', 'information retrieval',\n",
       "         'social science', 'main objective', 'source synonym', 'copy tasks',\n",
       "         'test cases', 'service oriented', 'data persistence'], dtype='<U25'),\n",
       "  array(['survey instrument', 'questionnaire was', 'students who',\n",
       "         'research methodology', 'present study', 'software system',\n",
       "         'software measurement', 'qualitative research',\n",
       "         'pedagogical conditions', 'qualitative data', 'evaluation metrics',\n",
       "         'presenting curriculum', 'mobile learning', 'data collection',\n",
       "         'data acquisition', 'this study', 'data bank', 'data sources',\n",
       "         'research questions', 'pilot study', 'web archiving',\n",
       "         'itbm ontology', 'professional competence', 'provisioning model',\n",
       "         'software development', 'learning rate', 'content analysis',\n",
       "         'digital literacy', 'digital repository', 'higher education',\n",
       "         'grounded theory', 'software engineering', 'action research',\n",
       "         'to assess', 'mobile device', 'information retrieval',\n",
       "         'cloud provider', 'means clustering', 'usability testing',\n",
       "         'cloud service', 'google scholar', 'proposed methodology',\n",
       "         'by applying', 'design modeling', 'information security',\n",
       "         'undergraduate students', 'to analyze', 'were analyzed',\n",
       "         'sample size', 'operating system'], dtype='<U25'),\n",
       "  array(['software measurement', 'object oriented', 'sub processes',\n",
       "         'design modeling', 'provisioning model', 'umls semantic',\n",
       "         'prototype application', 'software system', 'engineering design',\n",
       "         'software engineering', 'proposed framework', 'processing step',\n",
       "         'named entities', 'semantic constraints', 'programming language',\n",
       "         'visual abstraction', 'software development', 'design science',\n",
       "         'copy tasks', 'research methodology', 'functional model',\n",
       "         'icase tools', 'itbm ontology', 'evaluation metrics',\n",
       "         'proposed methodology', 'comsdm method', 'concurrent system',\n",
       "         'programming languages', 'micro architectural', 'data collection',\n",
       "         'objective function', 'semantic types', 'service oriented',\n",
       "         'usability testing', 'google analytics', 'user interface',\n",
       "         'knowledge architecture', 'code reusability', 'data persistence',\n",
       "         'physical computing', 'data acquisition', 'coupling measures',\n",
       "         'classification tasks', 'section describes', 'formal description',\n",
       "         'to analyze', 'semi structured', 'operating system',\n",
       "         'proposed system', 'pre processing'], dtype='<U25'),\n",
       "  array(['data acquisition', 'grounded theory', 'digital repository',\n",
       "         'information security', 'digital forensic', 'software measurement',\n",
       "         'software system', 'research methodology', 'data sources',\n",
       "         'to analyze', 'icase tools', 'digital literacy', 'to investigate',\n",
       "         'action research', 'cyber security', 'data bank',\n",
       "         'security practitioners', 'cybersecurity culture',\n",
       "         'data persistence', 'operating system', 'sub processes',\n",
       "         'secret information', 'data centers', 'copy tasks',\n",
       "         'human computer', 'software engineering', 'test cases',\n",
       "         'secondary data', 'access control', 'research questions',\n",
       "         'questionnaire was', 'data collection', 'engineering design',\n",
       "         'design science', 'vs test', 'review process', 'to assess',\n",
       "         'to validate', 'pilot study', 'object oriented',\n",
       "         'software development', 'evaluation metrics',\n",
       "         'proposed methodology', 'extracted features', 'region fidelity',\n",
       "         'proposed framework', 'virtual machine', 'content analysis',\n",
       "         'contextual information', 'expert interviews'], dtype='<U25'),\n",
       "  array(['questionnaire was', 'evaluation metrics', 'survey instrument',\n",
       "         'contextual information', 'usability testing', 'mobile device',\n",
       "         'software system', 'content analysis', 'information retrieval',\n",
       "         'mobile devices', 'was evaluated', 'design modeling',\n",
       "         'grounded theory', 'similarity scores', 'research methodology',\n",
       "         'are presented', 'user interface', 'software measurement',\n",
       "         'each participant', 'to analyze', 'qualitative data',\n",
       "         'human computer', 'semantic types', 'copy tasks',\n",
       "         'mobile learning', 'correspond to', 'were conducted',\n",
       "         'descriptive statistics', 'participants were', 'itbm ontology',\n",
       "         'umls semantic', 'review process', 'characterized by',\n",
       "         'data acquisition', 'was conducted', 'to evaluate',\n",
       "         'for evaluating', 'to facilitate', 'were analyzed',\n",
       "         'section describes', 'to assess', 'are summarized', 'shared task',\n",
       "         'participant under', 'classification tasks',\n",
       "         'qualitative research', 'features among', 'functional model',\n",
       "         'data collection', 'semantic constraints'], dtype='<U25'),\n",
       "  array(['visual abstraction', 'visualization techniques', 'axial coding',\n",
       "         'feature maps', 'qualitative data', 'object oriented',\n",
       "         'feature map', 'flow chart', 'clustering method', 'data sets',\n",
       "         'research methodology', 'semantic types', 'descriptive statistics',\n",
       "         'extracted features', 'tib patterns', 'to analyze',\n",
       "         'three dimensional', 'user interface', 'sub processes',\n",
       "         'programming language', 'feature extraction', 'icase tools',\n",
       "         'data collection', 'training data', 'data persistence',\n",
       "         'hierarchical clustering', 'labeled dataset', 'data sources',\n",
       "         'were analyzed', 'google analytics', 'objective function',\n",
       "         'topological patterns', 'software system', 'means clustering',\n",
       "         'processing step', 'spatial resolution', 'itbm ontology',\n",
       "         'design modeling', 'information retrieval', 'content analysis',\n",
       "         'classification tasks', 'contextual information', 'feature space',\n",
       "         'focus groups', 'umls semantic', 'synonym vector',\n",
       "         'dimensional space', 'are summarized', 'programming languages',\n",
       "         'semantic constraints'], dtype='<U25'),\n",
       "  array(['security practitioners', 'information security',\n",
       "         'cybersecurity culture', 'access control', 'cyber security',\n",
       "         'software measurement', 'secret information', 'design science',\n",
       "         'data bank', 'data centers', 'google analytics',\n",
       "         'questionnaire was', 'software system', 'data acquisition',\n",
       "         'human computer', 'pull requests', 'engineering design',\n",
       "         'expert interviews', 'smart monitoring', 'design modeling',\n",
       "         'software engineering', 'user interface', 'web archiving',\n",
       "         'monitoring service', 'web archives', 'research questions',\n",
       "         'cloud computing', 'main objective', 'computer science',\n",
       "         'mobile devices', 'research methodology', 'data sources',\n",
       "         'to analyze', 'object oriented', 'digital repository',\n",
       "         'risk factors', 'data collection', 'usability testing',\n",
       "         'frequent itemsets', 'icase tools', 'itbm ontology',\n",
       "         'frequent itemset', 'service oriented', 'evaluation metrics',\n",
       "         'provisioning model', 'anomaly detection', 'cpu core',\n",
       "         'mobile device', 'potential risk', 'were analyzed'], dtype='<U25'),\n",
       "  array(['sub processes', 'software measurement', 'object oriented',\n",
       "         'icase tools', 'semantic constraints', 'design modeling',\n",
       "         'software system', 'classification tasks', 'objective function',\n",
       "         'software engineering', 'evaluation metrics', 'concurrent system',\n",
       "         'decision tree', 'copy tasks', 'umls semantic',\n",
       "         'engineering design', 'programming language',\n",
       "         'software development', 'data mining', 'functional model',\n",
       "         'processing step', 'visual abstraction', 'programming languages',\n",
       "         'comsdm method', 'proposed methodology', 'prototype application',\n",
       "         'proposed framework', 'provisioning model', 'parameter sets',\n",
       "         'initiator matrix', 'itbm ontology', 'design science',\n",
       "         'shared task', 'google analytics', 'access control',\n",
       "         'knowledge architecture', 'research methodology', 'user interface',\n",
       "         'bayesian classifier', 'training examples', 'flow chart',\n",
       "         'usability testing', 'coupling measures', 'anomaly detection',\n",
       "         'semantic types', 'svm classifier', 'code reusability',\n",
       "         'temporal outliers', 'pre processing', 'training data'],\n",
       "        dtype='<U25'),\n",
       "  array(['survey instrument', 'questionnaire was', 'digital repository',\n",
       "         'data sources', 'web archives', 'web archiving', 'data collection',\n",
       "         'students who', 'pull requests', 'data persistence',\n",
       "         'research questions', 'were analyzed', 'sample size', 'data bank',\n",
       "         'data acquisition', 'academic year', 'correspond to',\n",
       "         'were conducted', 'experimental group', 'to facilitate',\n",
       "         'qualitative data', 'by applying', 'survey was', 'interviews were',\n",
       "         'th semester', 'google scholar', 'data centers',\n",
       "         'sampling technique', 'secondary data', 'information retrieval',\n",
       "         'were collected', 'pull request', 'graduate students',\n",
       "         'participants were', 'information security', 'labeled samples',\n",
       "         'be applied', 'higher education', 'expert interviews',\n",
       "         'after applying', 'action research', 'digital literacy',\n",
       "         'are presented', 'google analytics', 'training data', 'this study',\n",
       "         'mailing list', 'our experiments', 'to retrieve', 'to assess'],\n",
       "        dtype='<U25'),\n",
       "  array(['pedagogical conditions', 'students who',\n",
       "         'professional competence', 'presenting curriculum',\n",
       "         'present study', 'experimental group', 'questionnaire was',\n",
       "         'th semester', 'academic year', 'pilot study', 'this study',\n",
       "         'each participant', 'were conducted', 'undergraduate students',\n",
       "         'were analyzed', 'participant under', 'higher education',\n",
       "         'was conducted', 'level courses', 'testing phase',\n",
       "         'training examples', 'test set', 'to analyze', 'participants were',\n",
       "         'prototype application', 'graduate students', 'test sets',\n",
       "         'research methodology', 'engineering design', 'teaching aids',\n",
       "         'test cases', 'proposed methodology', 'software engineering',\n",
       "         'after applying', 'maximum posteriori', 'research questions',\n",
       "         'descriptive statistics', 'experimented with', 'sub processes',\n",
       "         'classical conjunction', 'are extracted', 'scientific research',\n",
       "         'all experiments', 'three stages', 'experimental results',\n",
       "         'concurrent system', 'to evaluate', 'by applying',\n",
       "         'mobile learning', 'fitness function'], dtype='<U25')],\n",
       " [array([0.34984928, 0.30723757, 0.29029366, 0.28580925, 0.27875155,\n",
       "         0.27704373, 0.27309743, 0.2727351 , 0.27254632, 0.27246866,\n",
       "         0.2721973 , 0.27119803, 0.27059314, 0.2697082 , 0.26746088,\n",
       "         0.26480317, 0.26184803, 0.25883448, 0.25641316, 0.25635326,\n",
       "         0.2561118 , 0.25547865, 0.25334916, 0.25301823, 0.25258306,\n",
       "         0.2468943 , 0.24446693, 0.24374671, 0.24100967, 0.24078813,\n",
       "         0.24077277, 0.24050124, 0.23954625, 0.23856312, 0.23788498,\n",
       "         0.23458566, 0.23363847, 0.23324883, 0.23087025, 0.2308459 ,\n",
       "         0.22936688, 0.22886318, 0.22859092, 0.22668682, 0.22625144,\n",
       "         0.22543944, 0.22458908, 0.22445582, 0.22408372, 0.22187953],\n",
       "        dtype=float32),\n",
       "  array([0.30367368, 0.3003864 , 0.27400243, 0.2733949 , 0.2621177 ,\n",
       "         0.26159266, 0.2615493 , 0.2548447 , 0.2540932 , 0.25398922,\n",
       "         0.2506465 , 0.24674547, 0.24617891, 0.24585423, 0.24342424,\n",
       "         0.24063194, 0.2393197 , 0.23625138, 0.23551156, 0.23522064,\n",
       "         0.23518075, 0.23489879, 0.23418237, 0.2333339 , 0.22730792,\n",
       "         0.22725274, 0.22558028, 0.2255163 , 0.22546041, 0.22526279,\n",
       "         0.22477885, 0.22352791, 0.22195718, 0.22184512, 0.21947157,\n",
       "         0.21938224, 0.21869971, 0.21860391, 0.21816897, 0.21708593,\n",
       "         0.21699935, 0.21634704, 0.21627522, 0.21543255, 0.21420887,\n",
       "         0.21338038, 0.21273336, 0.21222775, 0.21207428, 0.21195015],\n",
       "        dtype=float32),\n",
       "  array([0.3142614 , 0.30098268, 0.29480585, 0.2868766 , 0.27727088,\n",
       "         0.2516506 , 0.2504479 , 0.24979213, 0.24773552, 0.24344401,\n",
       "         0.23831475, 0.23815861, 0.23737963, 0.2360339 , 0.23518164,\n",
       "         0.23101228, 0.22922392, 0.22910191, 0.22724389, 0.22242384,\n",
       "         0.22185695, 0.22135317, 0.22132026, 0.21662952, 0.21583487,\n",
       "         0.21463159, 0.21428601, 0.21222526, 0.20780523, 0.20690162,\n",
       "         0.2066171 , 0.2065269 , 0.20604363, 0.20294982, 0.19824108,\n",
       "         0.19793376, 0.19609937, 0.19486864, 0.19442445, 0.19203325,\n",
       "         0.19028534, 0.19011517, 0.1892774 , 0.1875353 , 0.18623625,\n",
       "         0.18582761, 0.18525171, 0.18358606, 0.1819284 , 0.18133871],\n",
       "        dtype=float32),\n",
       "  array([0.26179913, 0.2388672 , 0.23419397, 0.23378968, 0.22694725,\n",
       "         0.2241747 , 0.22279282, 0.21413618, 0.21254668, 0.21232331,\n",
       "         0.20508058, 0.20407087, 0.2038984 , 0.20107035, 0.1964074 ,\n",
       "         0.19422038, 0.19404905, 0.19288936, 0.19264954, 0.1897275 ,\n",
       "         0.18818557, 0.18815258, 0.1865244 , 0.18628377, 0.18534209,\n",
       "         0.18302639, 0.18240102, 0.1823362 , 0.18163797, 0.18080513,\n",
       "         0.17762773, 0.17723724, 0.17390828, 0.17389208, 0.17369395,\n",
       "         0.17357545, 0.17293052, 0.1721112 , 0.17051592, 0.16965605,\n",
       "         0.16832612, 0.16824853, 0.16766284, 0.16650695, 0.16566452,\n",
       "         0.16562225, 0.1652541 , 0.16466983, 0.16377756, 0.16368821],\n",
       "        dtype=float32),\n",
       "  array([0.2641261 , 0.2585406 , 0.2428213 , 0.22962065, 0.22763939,\n",
       "         0.22620015, 0.22539587, 0.22508979, 0.22457083, 0.2219712 ,\n",
       "         0.22123824, 0.21948367, 0.21443054, 0.21395515, 0.20727268,\n",
       "         0.20726556, 0.20726544, 0.20524809, 0.20468172, 0.2018227 ,\n",
       "         0.19912624, 0.19903341, 0.19881007, 0.19688807, 0.19637786,\n",
       "         0.19618408, 0.19599283, 0.19542935, 0.19180073, 0.19052604,\n",
       "         0.19028069, 0.18977137, 0.18923625, 0.18884453, 0.18835494,\n",
       "         0.18771923, 0.18696338, 0.18674937, 0.18573195, 0.18521929,\n",
       "         0.18462951, 0.18438274, 0.18378845, 0.18252526, 0.18194602,\n",
       "         0.18186244, 0.18177222, 0.18101782, 0.18088482, 0.18047404],\n",
       "        dtype=float32),\n",
       "  array([0.26632193, 0.25239065, 0.22923647, 0.20680334, 0.20464943,\n",
       "         0.20286517, 0.19944116, 0.19837236, 0.19832268, 0.19533104,\n",
       "         0.19417207, 0.1929025 , 0.19038907, 0.19008593, 0.18139814,\n",
       "         0.18136902, 0.18113866, 0.18080923, 0.18055972, 0.18035108,\n",
       "         0.17895651, 0.17791714, 0.17705037, 0.17597802, 0.1748722 ,\n",
       "         0.17455246, 0.17272243, 0.1722377 , 0.17130339, 0.16978446,\n",
       "         0.16861688, 0.1676001 , 0.16521595, 0.16213244, 0.16195656,\n",
       "         0.16128218, 0.15936327, 0.15855126, 0.15709336, 0.15693253,\n",
       "         0.15593618, 0.15530114, 0.15514168, 0.15507191, 0.15478899,\n",
       "         0.15390263, 0.15332328, 0.1531867 , 0.15271616, 0.15261702],\n",
       "        dtype=float32),\n",
       "  array([0.37179512, 0.3464376 , 0.2686554 , 0.2633096 , 0.25744203,\n",
       "         0.23687835, 0.22849557, 0.2256636 , 0.22476962, 0.22107372,\n",
       "         0.21714829, 0.21531466, 0.21077766, 0.20993535, 0.20617639,\n",
       "         0.2043067 , 0.20224407, 0.20195818, 0.20076965, 0.20045057,\n",
       "         0.19798836, 0.19576026, 0.19492905, 0.19376238, 0.19364524,\n",
       "         0.1912073 , 0.18976547, 0.18741147, 0.18740757, 0.18666802,\n",
       "         0.18549542, 0.18343355, 0.18319604, 0.18309647, 0.18307815,\n",
       "         0.18270427, 0.18258852, 0.18190295, 0.18185481, 0.18160728,\n",
       "         0.18143094, 0.18047564, 0.17962661, 0.17839906, 0.17751947,\n",
       "         0.17630494, 0.17608212, 0.1754079 , 0.17388237, 0.17190586],\n",
       "        dtype=float32),\n",
       "  array([0.29201278, 0.28627473, 0.28029516, 0.26362735, 0.25751823,\n",
       "         0.25155696, 0.24465838, 0.24444692, 0.23975535, 0.23552339,\n",
       "         0.23109043, 0.22794698, 0.22499181, 0.22453558, 0.22078113,\n",
       "         0.22048959, 0.21947591, 0.21171282, 0.20992287, 0.20657451,\n",
       "         0.20601065, 0.20548266, 0.20333046, 0.20106706, 0.19897185,\n",
       "         0.19859172, 0.19663952, 0.19655725, 0.19547565, 0.19413951,\n",
       "         0.1934367 , 0.19323024, 0.19037071, 0.18999252, 0.1899668 ,\n",
       "         0.1871504 , 0.18544497, 0.1847944 , 0.18454865, 0.18447286,\n",
       "         0.18370241, 0.18278663, 0.1824991 , 0.18113108, 0.1810654 ,\n",
       "         0.18056522, 0.18011402, 0.17899519, 0.17887169, 0.17840035],\n",
       "        dtype=float32),\n",
       "  array([0.3393351 , 0.29582426, 0.29302064, 0.27687177, 0.2759915 ,\n",
       "         0.2749515 , 0.26918158, 0.26175842, 0.25941756, 0.258899  ,\n",
       "         0.25811282, 0.25354806, 0.2533828 , 0.25043604, 0.24542005,\n",
       "         0.24384497, 0.24261172, 0.23520404, 0.23479329, 0.23238581,\n",
       "         0.2320683 , 0.23127976, 0.22946313, 0.22679207, 0.22612602,\n",
       "         0.2254273 , 0.22512867, 0.22461551, 0.22449271, 0.22261614,\n",
       "         0.22258994, 0.22115503, 0.22060719, 0.21991533, 0.21717525,\n",
       "         0.21622571, 0.21515523, 0.21462089, 0.21384698, 0.21264589,\n",
       "         0.21257596, 0.21109551, 0.21082096, 0.20894876, 0.20856313,\n",
       "         0.20804866, 0.20788194, 0.20760982, 0.20756331, 0.20729034],\n",
       "        dtype=float32),\n",
       "  array([0.2856785 , 0.26107052, 0.25674486, 0.24584727, 0.2399488 ,\n",
       "         0.23739909, 0.22644809, 0.22495848, 0.21550398, 0.20395887,\n",
       "         0.20252098, 0.20142798, 0.19977012, 0.19961308, 0.19700783,\n",
       "         0.18849081, 0.18762752, 0.18397662, 0.1834213 , 0.18242326,\n",
       "         0.18094574, 0.18040654, 0.1802484 , 0.17950681, 0.17816521,\n",
       "         0.17655878, 0.17563541, 0.17411597, 0.16935126, 0.16808183,\n",
       "         0.16712166, 0.16345306, 0.16075532, 0.1601431 , 0.16013606,\n",
       "         0.15939438, 0.15903386, 0.15900505, 0.15861677, 0.15778592,\n",
       "         0.1560475 , 0.1532139 , 0.15270972, 0.15262341, 0.15190357,\n",
       "         0.15140124, 0.15095064, 0.15077396, 0.15074244, 0.1503433 ],\n",
       "        dtype=float32)],\n",
       " array([0.34984924, 0.27339499, 0.22242382, 0.21413618, 0.20727268,\n",
       "        0.19417216, 0.18549543, 0.18544509, 0.17563394, 0.17411605]),\n",
       " array([79, 85, 70, 64, 75, 45, 77, 71, 83, 78]))"
      ]
     },
     "execution_count": 14,
     "metadata": {},
     "output_type": "execute_result"
    }
   ],
   "source": [
    "topic_words, word_scores, topic_scores, topic_nums = top2vec_model.search_topics(keywords=['research methodology'], num_topics=10)\n",
    "topic_words, word_scores, topic_scores, topic_nums"
   ]
  },
  {
   "cell_type": "code",
   "execution_count": 12,
   "id": "7a7ae198-0303-4cb0-b7b5-33e587c1dfc2",
   "metadata": {
    "execution": {
     "iopub.execute_input": "2025-09-21T18:00:04.183565Z",
     "iopub.status.busy": "2025-09-21T18:00:04.183127Z",
     "iopub.status.idle": "2025-09-21T18:01:52.685263Z",
     "shell.execute_reply": "2025-09-21T18:01:52.684678Z",
     "shell.execute_reply.started": "2025-09-21T18:00:04.183528Z"
    }
   },
   "outputs": [
    {
     "name": "stderr",
     "output_type": "stream",
     "text": [
      "2025-09-21 18:00:04,186 - top2vec - INFO - Pre-processing documents for training\n",
      "/home/sagemaker-user/.conda/envs/python_311/lib/python3.11/site-packages/sklearn/feature_extraction/text.py:528: UserWarning: The parameter 'token_pattern' will not be used since 'tokenizer' is not None'\n",
      "  warnings.warn(\n",
      "2025-09-21 18:00:06,119 - top2vec - INFO - Downloading all-MiniLM-L6-v2 model\n",
      "2025-09-21 18:00:07,471 - top2vec - INFO - Creating joint document/word embedding\n",
      "2025-09-21 18:01:40,918 - top2vec - INFO - Creating lower dimension embedding of documents\n",
      "2025-09-21 18:01:52,532 - top2vec - INFO - Finding dense areas of documents\n",
      "2025-09-21 18:01:52,558 - top2vec - INFO - Finding topics\n"
     ]
    }
   ],
   "source": [
    "from top2vec import Top2Vec\n",
    "\n",
    "# Create a Contextual Top2Vec model\n",
    "top2vec_model = Top2Vec(documents=texts_only_list,\n",
    "                        ngram_vocab=True,\n",
    "                        contextual_top2vec=False)"
   ]
  },
  {
   "cell_type": "code",
   "execution_count": 15,
   "id": "1c6a5e47-8c00-48fd-833c-8918c986f842",
   "metadata": {
    "execution": {
     "iopub.execute_input": "2025-09-21T18:14:50.856978Z",
     "iopub.status.busy": "2025-09-21T18:14:50.856584Z",
     "iopub.status.idle": "2025-09-21T18:14:50.861494Z",
     "shell.execute_reply": "2025-09-21T18:14:50.860779Z",
     "shell.execute_reply.started": "2025-09-21T18:14:50.856947Z"
    }
   },
   "outputs": [
    {
     "data": {
      "text/plain": [
       "2"
      ]
     },
     "execution_count": 15,
     "metadata": {},
     "output_type": "execute_result"
    }
   ],
   "source": [
    "top2vec_model.get_num_topics()"
   ]
  },
  {
   "cell_type": "code",
   "execution_count": null,
   "id": "c8af1a45-93de-4127-abae-2b1eacb1be41",
   "metadata": {},
   "outputs": [],
   "source": []
  }
 ],
 "metadata": {
  "kernelspec": {
   "display_name": "python_311_2",
   "language": "python",
   "name": "python_311_2"
  },
  "language_info": {
   "codemirror_mode": {
    "name": "ipython",
    "version": 3
   },
   "file_extension": ".py",
   "mimetype": "text/x-python",
   "name": "python",
   "nbconvert_exporter": "python",
   "pygments_lexer": "ipython3",
   "version": "3.11.13"
  }
 },
 "nbformat": 4,
 "nbformat_minor": 5
}
