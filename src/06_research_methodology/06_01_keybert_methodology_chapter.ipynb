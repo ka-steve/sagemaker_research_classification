{
 "cells": [
  {
   "cell_type": "code",
   "execution_count": 1,
   "id": "f4f121b4-b7c9-45dc-838d-fbeca2010c68",
   "metadata": {},
   "outputs": [
    {
     "name": "stdout",
     "output_type": "stream",
     "text": [
      "sagemaker.config INFO - Not applying SDK defaults from location: /etc/xdg/sagemaker/config.yaml\n",
      "sagemaker.config INFO - Not applying SDK defaults from location: /home/sagemaker-user/.config/sagemaker/config.yaml\n",
      "config.py loaded: v0.1\n",
      "utils.py loaded: v0.2.12\n",
      "utils.py loaded: v0.2.12\n",
      "config.py loaded: v0.1\n"
     ]
    }
   ],
   "source": [
    "import requests\n",
    "import boto3\n",
    "import json\n",
    "import os\n",
    "import sys\n",
    "import argparse\n",
    "import importlib\n",
    "import transformers\n",
    "import torch\n",
    "import pathlib\n",
    "import smart_open\n",
    "import awswrangler as wr\n",
    "from IPython.display import display\n",
    "from sagemaker.huggingface.processing import HuggingFaceProcessor\n",
    "from sagemaker.sklearn.processing import SKLearnProcessor\n",
    "from sagemaker.processing import FrameworkProcessor\n",
    "from sagemaker.sklearn.estimator import SKLearn\n",
    "from sagemaker.workflow.steps import ProcessingStep\n",
    "from sagemaker.workflow.pipeline_context import PipelineSession\n",
    "from sagemaker.processing import ProcessingInput, ProcessingOutput\n",
    "from sagemaker.session import get_execution_role\n",
    "\n",
    "\n",
    "# Adding ../01_modules or ./01_modules to the system path so that we can load modules from \n",
    "# there as well\n",
    "if '__file__' in globals():\n",
    "    script_dir = pathlib.Path(__file__).parent.resolve()\n",
    "else:\n",
    "    script_dir = pathlib.Path().absolute()\n",
    "modules_path_in_dev = os.path.abspath(os.path.join(script_dir, '..', '01_modules'))\n",
    "modules_path_in_prod = os.path.abspath(os.path.join(script_dir, '01_modules'))\n",
    "if os.path.exists(modules_path_in_dev):\n",
    "    sys.path.append(modules_path_in_dev)\n",
    "if os.path.exists(modules_path_in_prod):\n",
    "    sys.path.append(modules_path_in_prod)\n",
    "\n",
    "\n",
    "# # Jupyter only reads a local module the first time after \n",
    "# # kernel start. Re-running a cell with \n",
    "# # \"from mymodulename import *\" would not change\n",
    "# # anything, even if the imported module has since changed.\n",
    "# # As a workaround, we need to directly load the module, \n",
    "# # use importlib.reload to reload it and then import * \n",
    "import utils\n",
    "_ = importlib.reload(utils)\n",
    "import config\n",
    "_ = importlib.reload(config)"
   ]
  },
  {
   "cell_type": "code",
   "execution_count": 2,
   "id": "2b7767a8-952f-47c4-b400-6ca3bf32468a",
   "metadata": {
    "execution": {
     "iopub.execute_input": "2025-09-20T17:49:57.872874Z",
     "iopub.status.busy": "2025-09-20T17:49:57.872714Z",
     "iopub.status.idle": "2025-09-20T17:50:06.963239Z",
     "shell.execute_reply": "2025-09-20T17:50:06.962734Z",
     "shell.execute_reply.started": "2025-09-20T17:49:57.872856Z"
    }
   },
   "outputs": [
    {
     "name": "stdout",
     "output_type": "stream",
     "text": [
      "Collecting en-core-web-sm==3.8.0\n",
      "  Downloading https://github.com/explosion/spacy-models/releases/download/en_core_web_sm-3.8.0/en_core_web_sm-3.8.0-py3-none-any.whl (12.8 MB)\n",
      "\u001b[2K     \u001b[90m━━━━━━━━━━━━━━━━━━━━━━━━━━━━━━━━━━━━━━━━\u001b[0m \u001b[32m12.8/12.8 MB\u001b[0m \u001b[31m184.3 MB/s\u001b[0m  \u001b[33m0:00:00\u001b[0m\n",
      "\u001b[?25h\u001b[38;5;2m✔ Download and installation successful\u001b[0m\n",
      "You can now load the package via spacy.load('en_core_web_sm')\n",
      "\u001b[38;5;3m⚠ Restart to reload dependencies\u001b[0m\n",
      "If you are in a Jupyter or Colab notebook, you may need to restart Python in\n",
      "order to load all the package's dependencies. You can do this by selecting the\n",
      "'Restart kernel' or 'Restart runtime' option.\n",
      " :: :: TIMELOGGER STARTED :: | since_start: 0.00 seconds | since_last: 0.00 seconds :: \n"
     ]
    },
    {
     "data": {
      "text/plain": [
       "'\\n@conference{schopf_etal_kdir22,\\nauthor={Tim Schopf and Simon Klimek and Florian Matthes},\\ntitle={PatternRank: Leveraging Pretrained Language Models and Part of Speech for Unsupervised Keyphrase Extraction},\\nbooktitle={Proceedings of the 14th International Joint Conference on Knowledge Discovery, Knowledge Engineering and Knowledge Management (IC3K 2022) - KDIR},\\nyear={2022},\\npages={243-248},\\npublisher={SciTePress},\\norganization={INSTICC},\\ndoi={10.5220/0011546600003335},\\nisbn={978-989-758-614-9},\\nissn={2184-3228},\\n}\\n'"
      ]
     },
     "execution_count": 2,
     "metadata": {},
     "output_type": "execute_result"
    }
   ],
   "source": [
    "import os, json, re, argparse, math\n",
    "from pathlib import Path\n",
    "from collections import Counter\n",
    "import numpy as np\n",
    "import spacy\n",
    "from sentence_transformers import SentenceTransformer, util\n",
    "from keybert import KeyBERT\n",
    "from keyphrase_vectorizers import KeyphraseCountVectorizer\n",
    "import spacy.cli\n",
    "spacy_model = 'en_core_web_sm'\n",
    "spacy.cli.download(spacy_model)\n",
    "spacy_exclude = ['parser', 'attribute_ruler', 'lemmatizer', 'ner', 'textcat']\n",
    "nlp = spacy.load(spacy_model, exclude=spacy_exclude)\n",
    "timelogger = utils.TimeLogger()\n",
    "\"\"\"\n",
    "@conference{schopf_etal_kdir22,\n",
    "author={Tim Schopf and Simon Klimek and Florian Matthes},\n",
    "title={PatternRank: Leveraging Pretrained Language Models and Part of Speech for Unsupervised Keyphrase Extraction},\n",
    "booktitle={Proceedings of the 14th International Joint Conference on Knowledge Discovery, Knowledge Engineering and Knowledge Management (IC3K 2022) - KDIR},\n",
    "year={2022},\n",
    "pages={243-248},\n",
    "publisher={SciTePress},\n",
    "organization={INSTICC},\n",
    "doi={10.5220/0011546600003335},\n",
    "isbn={978-989-758-614-9},\n",
    "issn={2184-3228},\n",
    "}\n",
    "\"\"\""
   ]
  },
  {
   "cell_type": "markdown",
   "id": "8f64851c-210b-4cdf-bfbd-881e212c6dae",
   "metadata": {
    "execution": {
     "iopub.execute_input": "2025-09-13T19:34:07.453420Z",
     "iopub.status.busy": "2025-09-13T19:34:07.453249Z",
     "iopub.status.idle": "2025-09-13T19:34:12.072676Z",
     "shell.execute_reply": "2025-09-13T19:34:12.072100Z",
     "shell.execute_reply.started": "2025-09-13T19:34:07.453402Z"
    }
   },
   "source": [
    "## Methodology Chapter"
   ]
  },
  {
   "cell_type": "code",
   "execution_count": 3,
   "id": "727205d0-5cd6-4724-8177-99f139610b08",
   "metadata": {
    "execution": {
     "iopub.execute_input": "2025-09-20T17:50:06.965841Z",
     "iopub.status.busy": "2025-09-20T17:50:06.965672Z",
     "iopub.status.idle": "2025-09-20T17:50:11.501153Z",
     "shell.execute_reply": "2025-09-20T17:50:11.500659Z",
     "shell.execute_reply.started": "2025-09-20T17:50:06.965824Z"
    },
    "scrolled": true
   },
   "outputs": [
    {
     "data": {
      "text/plain": [
       "'In age estimation, the most popular performance measurement is the mean absolute error (MAE), which '"
      ]
     },
     "execution_count": 3,
     "metadata": {},
     "output_type": "execute_result"
    }
   ],
   "source": [
    "database_name = '02_stg'\n",
    "table_name = 'stg_filtered_work_chapters_methodology_single'\n",
    "id_columns = ['work_id']\n",
    "text_column_name = 'chapter_text'\n",
    "\n",
    "text_batch_size = 3\n",
    "\n",
    "utils.pd_set_options(cols=100)\n",
    "id_column_names = ', '.join(id_columns)\n",
    "# TODO: pagination\n",
    "texts_df = wr.athena.read_sql_query(f\"\"\"\n",
    "    SELECT\n",
    "        {id_column_names}, {text_column_name} \n",
    "    FROM\n",
    "        \"{database_name}\".{table_name}\n",
    "    ORDER BY\n",
    "        {id_column_names}\n",
    "    OFFSET \n",
    "        100\n",
    "    LIMIT\n",
    "        {text_batch_size}\n",
    "    \"\"\",\n",
    "    database_name\n",
    ")\n",
    "texts_only_list = texts_df[text_column_name].tolist()\n",
    "texts_only_list[0][0:100]"
   ]
  },
  {
   "cell_type": "code",
   "execution_count": 4,
   "id": "5fa01da2-0cac-418c-af40-395e10567d4e",
   "metadata": {
    "execution": {
     "iopub.execute_input": "2025-09-20T17:50:21.746289Z",
     "iopub.status.busy": "2025-09-20T17:50:21.746010Z",
     "iopub.status.idle": "2025-09-20T17:50:23.362148Z",
     "shell.execute_reply": "2025-09-20T17:50:23.361597Z",
     "shell.execute_reply.started": "2025-09-20T17:50:21.746267Z"
    }
   },
   "outputs": [],
   "source": [
    "# sentence_transformer_model_name = 'sentence-transformers/all-mpnet-base-v2'\n",
    "sentence_transformer_model_name = 'sentence-transformers/all-distilroberta-v1'\n",
    "st_embed_model = SentenceTransformer(sentence_transformer_model_name)"
   ]
  },
  {
   "cell_type": "code",
   "execution_count": 5,
   "id": "24b7f749-a8d8-48e4-a725-5a39c8dba4c7",
   "metadata": {
    "execution": {
     "iopub.execute_input": "2025-09-20T17:50:23.363072Z",
     "iopub.status.busy": "2025-09-20T17:50:23.362877Z",
     "iopub.status.idle": "2025-09-20T17:50:23.365644Z",
     "shell.execute_reply": "2025-09-20T17:50:23.365176Z",
     "shell.execute_reply.started": "2025-09-20T17:50:23.363054Z"
    }
   },
   "outputs": [],
   "source": [
    "_ = \"\"\"\n",
    "timelogger.log('generic methodology phrases encoded START')\n",
    "generic_methodology_phrases = [\n",
    "    'research method',\n",
    "    'research methodology',\n",
    "    'methodological approach',\n",
    "    'experimental study',\n",
    "    'empirical evaluation',\n",
    "    'case study',\n",
    "    'simulation study',\n",
    "    'measurement study',\n",
    "    'formal proof'\n",
    "]\n",
    "\n",
    "generic_methodology_phrase_embeddings = st_embed_model.encode(generic_methodology_phrases)\n",
    "timelogger.log('generic methodology phrases encoded END')\n",
    "generic_methodology_phrase_embeddings\n",
    "\"\"\""
   ]
  },
  {
   "cell_type": "code",
   "execution_count": 6,
   "id": "5ae2d78b-ec82-4634-8fc7-9063ba0715a5",
   "metadata": {
    "execution": {
     "iopub.execute_input": "2025-09-20T17:50:27.096225Z",
     "iopub.status.busy": "2025-09-20T17:50:27.095930Z",
     "iopub.status.idle": "2025-09-20T17:50:27.847063Z",
     "shell.execute_reply": "2025-09-20T17:50:27.846502Z",
     "shell.execute_reply.started": "2025-09-20T17:50:27.096201Z"
    },
    "scrolled": true
   },
   "outputs": [
    {
     "name": "stdout",
     "output_type": "stream",
     "text": [
      " :: text encoded START | since_start: 20.14 seconds | since_last: 20.14 seconds :: \n",
      " :: text encoded END | since_start: 20.88 seconds | since_last: 0.75 seconds :: \n"
     ]
    },
    {
     "data": {
      "text/plain": [
       "array([[-0.0093935 ,  0.00672289, -0.0115801 , ..., -0.00489294,\n",
       "        -0.00844138,  0.01074106],\n",
       "       [ 0.01454419, -0.04212667, -0.00838728, ..., -0.04204104,\n",
       "        -0.00282833, -0.02174634]], dtype=float32)"
      ]
     },
     "execution_count": 6,
     "metadata": {},
     "output_type": "execute_result"
    }
   ],
   "source": [
    "timelogger.log('text encoded START')\n",
    "text_list_embeddings = st_embed_model.encode(texts_only_list)\n",
    "timelogger.log('text encoded END')\n",
    "text_list_embeddings[0:2]"
   ]
  },
  {
   "cell_type": "code",
   "execution_count": 7,
   "id": "ccc4f3c6-164b-43ed-adc9-399adf6de6a4",
   "metadata": {
    "execution": {
     "iopub.execute_input": "2025-09-20T17:50:29.048361Z",
     "iopub.status.busy": "2025-09-20T17:50:29.048075Z",
     "iopub.status.idle": "2025-09-20T17:50:29.054728Z",
     "shell.execute_reply": "2025-09-20T17:50:29.054153Z",
     "shell.execute_reply.started": "2025-09-20T17:50:29.048337Z"
    }
   },
   "outputs": [
    {
     "name": "stdout",
     "output_type": "stream",
     "text": [
      " :: initiate pos_vectorizer START | since_start: 22.09 seconds | since_last: 1.21 seconds :: \n",
      " :: initiate pos_vectorizer END | since_start: 22.09 seconds | since_last: 0.00 seconds :: \n"
     ]
    },
    {
     "data": {
      "text/plain": [
       "' :: initiate pos_vectorizer END | since_start: 22.09 seconds | since_last: 0.00 seconds :: '"
      ]
     },
     "execution_count": 7,
     "metadata": {},
     "output_type": "execute_result"
    }
   ],
   "source": [
    "timelogger.log('initiate pos_vectorizer START')\n",
    "pos_pattern = (\n",
    "    # Verb-led methodological action (optional subject/aux/adv, main verb, noun phrase core, optional chained PPs)\n",
    "    # we derive MIMO processing matrices\n",
    "    # we compare the performance\n",
    "    # we factor the MU MIMO precoding matrix\n",
    "    '(<AUX>?<RB>?<V.*><PRT>?<DT>?<J.*>*<N.*>+(<IN><DT>?<J.*>*<N.*>+)*)' #+ '|'\n",
    "    \n",
    "    # Nominal methodological construct (adjective/noun/proper stacks + optional PP tails)\n",
    "    # singular value decomposition\n",
    "    # MIMO processing matrices\n",
    "    # regularized block diagonal AF algorithm\n",
    "    # '(<J.*>*<N.*>+(<N.*>+)*(<IN><J.*>*<N.*>+)*)' # + '|'\n",
    "    \n",
    "    # Metric/result short form\n",
    "    # bit error rate\n",
    "    # BER performance\n",
    "    # SNR gain\n",
    "    # '(<J.*>*<N.*>+)'\n",
    ")\n",
    "pos_vectorizer = KeyphraseCountVectorizer(\n",
    "    spacy_pipeline=nlp,\n",
    "    # pos_pattern=pos_pattern, # '<J.*>*<N.*>+',\n",
    "    # min_df=1, # cutoff\n",
    ")\n",
    "timelogger.log('initiate pos_vectorizer END')"
   ]
  },
  {
   "cell_type": "code",
   "execution_count": 8,
   "id": "4ccd1fca-ad48-4e61-b4bf-b845638902d3",
   "metadata": {
    "execution": {
     "iopub.execute_input": "2025-09-20T17:50:31.303574Z",
     "iopub.status.busy": "2025-09-20T17:50:31.303271Z",
     "iopub.status.idle": "2025-09-20T17:50:31.309258Z",
     "shell.execute_reply": "2025-09-20T17:50:31.308670Z",
     "shell.execute_reply.started": "2025-09-20T17:50:31.303549Z"
    }
   },
   "outputs": [
    {
     "name": "stdout",
     "output_type": "stream",
     "text": [
      " :: initiate keybert_model START | since_start: 24.35 seconds | since_last: 2.25 seconds :: \n",
      " :: initiate keybert_model END | since_start: 24.35 seconds | since_last: 0.00 seconds :: \n"
     ]
    },
    {
     "data": {
      "text/plain": [
       "' :: initiate keybert_model END | since_start: 24.35 seconds | since_last: 0.00 seconds :: '"
      ]
     },
     "execution_count": 8,
     "metadata": {},
     "output_type": "execute_result"
    }
   ],
   "source": [
    "timelogger.log('initiate keybert_model START')\n",
    "keybert_model = KeyBERT(model=st_embed_model)\n",
    "timelogger.log('initiate keybert_model END')"
   ]
  },
  {
   "cell_type": "code",
   "execution_count": 9,
   "id": "89581663-a9f3-4349-baaf-16c1d898fd84",
   "metadata": {
    "execution": {
     "iopub.execute_input": "2025-09-20T17:50:32.958187Z",
     "iopub.status.busy": "2025-09-20T17:50:32.957933Z",
     "iopub.status.idle": "2025-09-20T17:50:33.831019Z",
     "shell.execute_reply": "2025-09-20T17:50:33.830088Z",
     "shell.execute_reply.started": "2025-09-20T17:50:32.958167Z"
    }
   },
   "outputs": [
    {
     "name": "stdout",
     "output_type": "stream",
     "text": [
      "sentence-transformers/all-distilroberta-v1\n",
      " :: extract keywords | Default | START | since_start: 26.00 seconds | since_last: 1.65 seconds :: \n",
      " :: extract keywords | Default | END | since_start: 26.87 seconds | since_last: 0.86 seconds :: \n"
     ]
    },
    {
     "data": {
      "text/plain": [
       "[[('age', 0.3123),\n",
       "  ('ages', 0.3058),\n",
       "  ('label', 0.2091),\n",
       "  ('estimation', 0.1949),\n",
       "  ('estimated', 0.1192)],\n",
       " [('gpu', 0.4938),\n",
       "  ('cpu', 0.3882),\n",
       "  ('cpu2006', 0.3607),\n",
       "  ('amd', 0.3017),\n",
       "  ('benchmarks', 0.2952)],\n",
       " [('questionnaire', 0.336),\n",
       "  ('survey', 0.3206),\n",
       "  ('descriptive', 0.2658),\n",
       "  ('structured', 0.265),\n",
       "  ('quantitative', 0.2584)]]"
      ]
     },
     "execution_count": 9,
     "metadata": {},
     "output_type": "execute_result"
    }
   ],
   "source": [
    "print(sentence_transformer_model_name)\n",
    "timelogger.log('extract keywords | Default | START')\n",
    "initial_keywords = keybert_model.extract_keywords(\n",
    "    docs=texts_only_list,\n",
    ")\n",
    "timelogger.log('extract keywords | Default | END')\n",
    "initial_keywords"
   ]
  },
  {
   "cell_type": "code",
   "execution_count": 10,
   "id": "0cb653e9-587a-4bc9-893c-2b9643de1e85",
   "metadata": {
    "execution": {
     "iopub.execute_input": "2025-09-20T17:50:44.468410Z",
     "iopub.status.busy": "2025-09-20T17:50:44.468134Z",
     "iopub.status.idle": "2025-09-20T17:50:45.246635Z",
     "shell.execute_reply": "2025-09-20T17:50:45.245589Z",
     "shell.execute_reply.started": "2025-09-20T17:50:44.468389Z"
    }
   },
   "outputs": [
    {
     "name": "stdout",
     "output_type": "stream",
     "text": [
      "sentence-transformers/all-distilroberta-v1\n",
      " :: extract keywords | Default Top20 | START | since_start: 37.51 seconds | since_last: 10.65 seconds :: \n",
      " :: extract keywords | Default Top20 | END | since_start: 38.28 seconds | since_last: 0.77 seconds :: \n"
     ]
    },
    {
     "data": {
      "text/plain": [
       "[[('age', 0.3123),\n",
       "  ('ages', 0.3058),\n",
       "  ('label', 0.2091),\n",
       "  ('estimation', 0.1949),\n",
       "  ('estimated', 0.1192),\n",
       "  ('mean', 0.0881),\n",
       "  ('predicted', 0.0786),\n",
       "  ('method', 0.0744),\n",
       "  ('ldl', 0.071),\n",
       "  ('images', 0.0679),\n",
       "  ('algorithm', 0.0675),\n",
       "  ('lld', 0.066),\n",
       "  ('measurement', 0.0633),\n",
       "  ('methods', 0.056),\n",
       "  ('sdm', 0.0456),\n",
       "  ('triangle', 0.045),\n",
       "  ('figure', 0.0443),\n",
       "  ('degrees', 0.0436),\n",
       "  ('gaussian', 0.0335),\n",
       "  ('distribution', 0.0262)],\n",
       " [('gpu', 0.4938),\n",
       "  ('cpu', 0.3882),\n",
       "  ('cpu2006', 0.3607),\n",
       "  ('amd', 0.3017),\n",
       "  ('benchmarks', 0.2952),\n",
       "  ('benchmark', 0.2919),\n",
       "  ('radeon', 0.2751),\n",
       "  ('x86', 0.2554),\n",
       "  ('cache', 0.2554),\n",
       "  ('processor', 0.2542),\n",
       "  ('compute', 0.2307),\n",
       "  ('cores', 0.2213),\n",
       "  ('performance', 0.2094),\n",
       "  ('spec', 0.2006),\n",
       "  ('gpus', 0.1865),\n",
       "  ('memory', 0.1749),\n",
       "  ('throughput', 0.1744),\n",
       "  ('buffers', 0.1661),\n",
       "  ('5870', 0.1629),\n",
       "  ('sdram', 0.1625)],\n",
       " [('questionnaire', 0.336),\n",
       "  ('survey', 0.3206),\n",
       "  ('descriptive', 0.2658),\n",
       "  ('structured', 0.265),\n",
       "  ('quantitative', 0.2584),\n",
       "  ('analysis', 0.2428),\n",
       "  ('characterized', 0.2084),\n",
       "  ('surveys', 0.2055),\n",
       "  ('physical', 0.1975),\n",
       "  ('data', 0.1973),\n",
       "  ('research', 0.1903),\n",
       "  ('cloud', 0.1763),\n",
       "  ('quantification', 0.173),\n",
       "  ('information', 0.1676),\n",
       "  ('perspective', 0.1553),\n",
       "  ('composed', 0.1444),\n",
       "  ('conclusions', 0.1424),\n",
       "  ('researches', 0.1395),\n",
       "  ('studied', 0.1335),\n",
       "  ('method', 0.1307)]]"
      ]
     },
     "execution_count": 10,
     "metadata": {},
     "output_type": "execute_result"
    }
   ],
   "source": [
    "print(sentence_transformer_model_name)\n",
    "timelogger.log('extract keywords | Default Top20 | START')\n",
    "initial_keywords = keybert_model.extract_keywords(\n",
    "    docs=texts_only_list,\n",
    "    top_n=20,\n",
    ")\n",
    "timelogger.log('extract keywords | Default Top20 | END')\n",
    "initial_keywords"
   ]
  },
  {
   "cell_type": "code",
   "execution_count": 11,
   "id": "3e34ea87-7992-4fff-a7a9-61f52df31bbe",
   "metadata": {
    "execution": {
     "iopub.execute_input": "2025-09-20T17:50:54.329736Z",
     "iopub.status.busy": "2025-09-20T17:50:54.329447Z",
     "iopub.status.idle": "2025-09-20T17:50:55.200602Z",
     "shell.execute_reply": "2025-09-20T17:50:55.199814Z",
     "shell.execute_reply.started": "2025-09-20T17:50:54.329713Z"
    }
   },
   "outputs": [
    {
     "name": "stdout",
     "output_type": "stream",
     "text": [
      "sentence-transformers/all-distilroberta-v1\n",
      " :: extract keywords | Default Top20 MaxSum | START | since_start: 47.37 seconds | since_last: 9.09 seconds :: \n",
      " :: extract keywords | Default Top20 MaxSum | END | since_start: 48.23 seconds | since_last: 0.86 seconds :: \n"
     ]
    },
    {
     "data": {
      "text/plain": [
       "[[('distribution', 0.0262),\n",
       "  ('gaussian', 0.0335),\n",
       "  ('degrees', 0.0436),\n",
       "  ('figure', 0.0443),\n",
       "  ('triangle', 0.045),\n",
       "  ('sdm', 0.0456),\n",
       "  ('methods', 0.056),\n",
       "  ('measurement', 0.0633),\n",
       "  ('lld', 0.066),\n",
       "  ('algorithm', 0.0675),\n",
       "  ('images', 0.0679),\n",
       "  ('ldl', 0.071),\n",
       "  ('method', 0.0744),\n",
       "  ('predicted', 0.0786),\n",
       "  ('mean', 0.0881),\n",
       "  ('estimated', 0.1192),\n",
       "  ('estimation', 0.1949),\n",
       "  ('label', 0.2091),\n",
       "  ('ages', 0.3058),\n",
       "  ('age', 0.3123)],\n",
       " [('sdram', 0.1625),\n",
       "  ('5870', 0.1629),\n",
       "  ('buffers', 0.1661),\n",
       "  ('throughput', 0.1744),\n",
       "  ('memory', 0.1749),\n",
       "  ('gpus', 0.1865),\n",
       "  ('spec', 0.2006),\n",
       "  ('performance', 0.2094),\n",
       "  ('cores', 0.2213),\n",
       "  ('compute', 0.2307),\n",
       "  ('processor', 0.2542),\n",
       "  ('cache', 0.2554),\n",
       "  ('x86', 0.2554),\n",
       "  ('radeon', 0.2751),\n",
       "  ('benchmark', 0.2919),\n",
       "  ('benchmarks', 0.2952),\n",
       "  ('amd', 0.3017),\n",
       "  ('cpu2006', 0.3607),\n",
       "  ('cpu', 0.3882),\n",
       "  ('gpu', 0.4938)],\n",
       " [('method', 0.1307),\n",
       "  ('studied', 0.1335),\n",
       "  ('researches', 0.1395),\n",
       "  ('conclusions', 0.1424),\n",
       "  ('composed', 0.1444),\n",
       "  ('perspective', 0.1553),\n",
       "  ('information', 0.1676),\n",
       "  ('quantification', 0.173),\n",
       "  ('cloud', 0.1763),\n",
       "  ('research', 0.1903),\n",
       "  ('data', 0.1973),\n",
       "  ('physical', 0.1975),\n",
       "  ('surveys', 0.2055),\n",
       "  ('characterized', 0.2084),\n",
       "  ('analysis', 0.2428),\n",
       "  ('quantitative', 0.2584),\n",
       "  ('structured', 0.265),\n",
       "  ('descriptive', 0.2658),\n",
       "  ('survey', 0.3206),\n",
       "  ('questionnaire', 0.336)]]"
      ]
     },
     "execution_count": 11,
     "metadata": {},
     "output_type": "execute_result"
    }
   ],
   "source": [
    "print(sentence_transformer_model_name)\n",
    "timelogger.log('extract keywords | Default Top20 MaxSum | START')\n",
    "initial_keywords = keybert_model.extract_keywords(\n",
    "    docs=texts_only_list,\n",
    "    top_n=20,\n",
    "    use_maxsum=True,\n",
    ")\n",
    "timelogger.log('extract keywords | Default Top20 MaxSum | END')\n",
    "initial_keywords"
   ]
  },
  {
   "cell_type": "code",
   "execution_count": 12,
   "id": "65f5d612-bafd-419d-9055-8a7bff8d4283",
   "metadata": {
    "execution": {
     "iopub.execute_input": "2025-09-20T17:51:13.930004Z",
     "iopub.status.busy": "2025-09-20T17:51:13.929724Z",
     "iopub.status.idle": "2025-09-20T17:51:14.718710Z",
     "shell.execute_reply": "2025-09-20T17:51:14.717941Z",
     "shell.execute_reply.started": "2025-09-20T17:51:13.929983Z"
    }
   },
   "outputs": [
    {
     "name": "stdout",
     "output_type": "stream",
     "text": [
      "sentence-transformers/all-distilroberta-v1\n",
      " :: extract keywords | Default Top20 MaxSum KCV | START | since_start: 1.0 minute, 6.97 seconds | since_last: 18.74 seconds :: \n",
      " :: extract keywords | Default Top20 MaxSum KCV | END | since_start: 1.0 minute, 7.75 seconds | since_last: 0.78 seconds :: \n"
     ]
    },
    {
     "data": {
      "text/plain": [
       "[[('lld', 0.066),\n",
       "  ('popular performance measurement', 0.0673),\n",
       "  ('algorithm', 0.0675),\n",
       "  ('ldl', 0.071),\n",
       "  ('respective features', 0.0808),\n",
       "  ('following ldl', 0.0916),\n",
       "  ('original ldl', 0.1479),\n",
       "  ('test images', 0.1614),\n",
       "  ('triangle distribution', 0.197),\n",
       "  ('authentic age', 0.2033),\n",
       "  ('lld method', 0.2097),\n",
       "  ('p(y|x', 0.2288),\n",
       "  ('ldl methods', 0.232),\n",
       "  ('chronological age', 0.2663),\n",
       "  ('mean absolute error', 0.2967),\n",
       "  ('ages', 0.3058),\n",
       "  ('age', 0.3123),\n",
       "  ('multi - label distribution', 0.3193),\n",
       "  ('age estimation', 0.4403),\n",
       "  ('age label distribution', 0.5354)],\n",
       " [('different performance requirements', 0.4671),\n",
       "  ('gpu applications', 0.4736),\n",
       "  ('internal gpu caches', 0.4904),\n",
       "  ('gpu', 0.4938),\n",
       "  ('cpu caches', 0.4964),\n",
       "  ('gpu relative', 0.5036),\n",
       "  ('gpu speedup', 0.5105),\n",
       "  ('graphics performance benchmarks', 0.5192),\n",
       "  ('cpu benchmark', 0.5234),\n",
       "  ('cpu benchmarks', 0.532),\n",
       "  ('gpu performance', 0.5433),\n",
       "  ('gpu traces', 0.5437),\n",
       "  ('gpu memory accesses', 0.5502),\n",
       "  ('gpu requests', 0.5524),\n",
       "  ('gpu weighted speedup', 0.5539),\n",
       "  ('gpu simulation framework', 0.5739),\n",
       "  ('gpu memory traces', 0.5892),\n",
       "  ('gpu benchmarks', 0.5938),\n",
       "  ('gpu benchmark', 0.596),\n",
       "  ('gpu memory requests', 0.6237)],\n",
       " [('information', 0.1676),\n",
       "  ('quantification', 0.173),\n",
       "  ('main advantages', 0.1838),\n",
       "  ('direct knowledge', 0.185),\n",
       "  ('direct questioning people', 0.1892),\n",
       "  ('research', 0.1903),\n",
       "  ('data', 0.1973),\n",
       "  ('surveys', 0.2055),\n",
       "  ('facts study', 0.2291),\n",
       "  ('analysis', 0.2428),\n",
       "  ('cloud computing model', 0.2588),\n",
       "  ('opinion surveys', 0.2641),\n",
       "  ('quantitative analysis', 0.2966),\n",
       "  ('questionnaire', 0.336),\n",
       "  ('field survey', 0.3361),\n",
       "  ('survey instrument', 0.354),\n",
       "  ('research method', 0.3572),\n",
       "  ('descriptive research group', 0.458),\n",
       "  ('structured questionnaire', 0.4627),\n",
       "  ('descriptive research', 0.5005)]]"
      ]
     },
     "execution_count": 12,
     "metadata": {},
     "output_type": "execute_result"
    }
   ],
   "source": [
    "pos_vectorizer = KeyphraseCountVectorizer(\n",
    "    spacy_pipeline=nlp\n",
    ")\n",
    "\n",
    "print(sentence_transformer_model_name)\n",
    "timelogger.log('extract keywords | Default Top20 MaxSum KCV | START')\n",
    "initial_keywords = keybert_model.extract_keywords(\n",
    "    docs=texts_only_list,\n",
    "    top_n=20,\n",
    "    use_maxsum=True,\n",
    "    vectorizer=pos_vectorizer,\n",
    ")\n",
    "timelogger.log('extract keywords | Default Top20 MaxSum KCV | END')\n",
    "initial_keywords"
   ]
  },
  {
   "cell_type": "code",
   "execution_count": 13,
   "id": "cd5ee2e1-14f8-4b3b-b909-ef3c2ce5c107",
   "metadata": {
    "execution": {
     "iopub.execute_input": "2025-09-20T17:51:48.874274Z",
     "iopub.status.busy": "2025-09-20T17:51:48.874008Z",
     "iopub.status.idle": "2025-09-20T17:51:49.427302Z",
     "shell.execute_reply": "2025-09-20T17:51:49.426624Z",
     "shell.execute_reply.started": "2025-09-20T17:51:48.874254Z"
    }
   },
   "outputs": [
    {
     "name": "stdout",
     "output_type": "stream",
     "text": [
      "sentence-transformers/all-distilroberta-v1\n",
      " :: extract keywords | Default Top20 MaxSum KCV pos_pattern 01 | START | since_start: 1.0 minute, 41.92 seconds | since_last: 34.17 seconds :: \n",
      " :: extract keywords | Default Top20 MaxSum KCV pos_pattern 01 | END | since_start: 1.0 minute, 42.46 seconds | since_last: 0.54 seconds :: \n"
     ]
    },
    {
     "data": {
      "text/plain": [
       "[[],\n",
       " [('shows mpki cpu benchmark', 0.3544),\n",
       "  ('model memory', 0.358),\n",
       "  ('propose integrated cpu', 0.3651),\n",
       "  ('multiprogrammed workloads', 0.3677),\n",
       "  ('determines weight gpu relative cpu core', 0.3886),\n",
       "  ('share cpu caches', 0.39),\n",
       "  ('measure performance multi - core cpu', 0.4042),\n",
       "  ('prevent gpu requests', 0.4154),\n",
       "  ('shows detailed system parameters evaluated cpu', 0.4234),\n",
       "  ('include memory requests', 0.4246),\n",
       "  ('measuring overall system performance integrated cpu', 0.4479),\n",
       "  ('measure performance gpu', 0.4653),\n",
       "  ('compute gpu speedup ratio', 0.4669),\n",
       "  ('different performance requirements', 0.4671),\n",
       "  ('classify cpu benchmarks', 0.4935),\n",
       "  ('commonly used graphics performance', 0.4967),\n",
       "  ('shows memory intensity gpu applications', 0.5181),\n",
       "  ('running gpu benchmark', 0.5502),\n",
       "  ('model internal gpu caches', 0.563),\n",
       "  ('perform coalescing gpu memory requests', 0.624)],\n",
       " []]"
      ]
     },
     "execution_count": 13,
     "metadata": {},
     "output_type": "execute_result"
    }
   ],
   "source": [
    "pos_vectorizer = KeyphraseCountVectorizer(\n",
    "    spacy_pipeline=nlp,\n",
    "    pos_pattern='(<AUX>?<RB>?<V.*><PRT>?<DT>?<J.*>*<N.*>+(<IN><DT>?<J.*>*<N.*>+)*)',\n",
    ")\n",
    "\n",
    "print(sentence_transformer_model_name)\n",
    "timelogger.log('extract keywords | Default Top20 MaxSum KCV pos_pattern 01 | START')\n",
    "initial_keywords = keybert_model.extract_keywords(\n",
    "    docs=texts_only_list,\n",
    "    top_n=20,\n",
    "    use_maxsum=True,\n",
    "    vectorizer=pos_vectorizer,\n",
    ")\n",
    "timelogger.log('extract keywords | Default Top20 MaxSum KCV pos_pattern 01 | END')\n",
    "initial_keywords"
   ]
  },
  {
   "cell_type": "code",
   "execution_count": 14,
   "id": "4fdf5843-7a5e-4fa6-95c5-8f89bc40ff46",
   "metadata": {
    "execution": {
     "iopub.execute_input": "2025-09-20T17:52:14.099556Z",
     "iopub.status.busy": "2025-09-20T17:52:14.099232Z",
     "iopub.status.idle": "2025-09-20T17:52:14.936533Z",
     "shell.execute_reply": "2025-09-20T17:52:14.935686Z",
     "shell.execute_reply.started": "2025-09-20T17:52:14.099532Z"
    }
   },
   "outputs": [
    {
     "name": "stdout",
     "output_type": "stream",
     "text": [
      " :: initiate pos_vectorizer START | since_start: 2.0 minutes, 7.14 seconds | since_last: 24.68 seconds :: \n",
      "sentence-transformers/all-distilroberta-v1\n",
      " :: extract keywords | Default Top20 MaxSum KCV pos_pattern 02 | START | since_start: 2.0 minutes, 7.14 seconds | since_last: 0.00 seconds :: \n",
      " :: extract keywords | Default Top20 MaxSum KCV pos_pattern 02 | END | since_start: 2.0 minutes, 7.97 seconds | since_last: 0.83 seconds :: \n"
     ]
    },
    {
     "data": {
      "text/plain": [
       "[[('popular performance measurement', 0.0673),\n",
       "  ('ldl', 0.071),\n",
       "  ('proposed algorithm', 0.0729),\n",
       "  ('based experiments', 0.0757),\n",
       "  ('respective features', 0.0808),\n",
       "  ('following ldl', 0.0916),\n",
       "  ('including original ldl', 0.1741),\n",
       "  ('number test images', 0.1934),\n",
       "  ('triangle distribution', 0.197),\n",
       "  ('authentic age', 0.2033),\n",
       "  ('existing ldl methods', 0.205),\n",
       "  ('lld method', 0.2097),\n",
       "  ('computing p(y|x', 0.2476),\n",
       "  ('given chronological age', 0.2959),\n",
       "  ('mean absolute error', 0.2967),\n",
       "  ('multi - label distribution equal description degrees', 0.3081),\n",
       "  ('predicted ages', 0.3591),\n",
       "  ('estimated age', 0.3689),\n",
       "  ('age estimation', 0.4403),\n",
       "  ('initially generating age label distribution', 0.5691)],\n",
       " [('gpu application', 0.453),\n",
       "  ('measure performance gpu', 0.4653),\n",
       "  ('compute gpu speedup ratio', 0.4669),\n",
       "  ('different performance requirements', 0.4671),\n",
       "  ('classify cpu benchmarks', 0.4935),\n",
       "  ('gpu', 0.4938),\n",
       "  ('commonly used graphics performance', 0.4967),\n",
       "  ('shows memory intensity gpu applications', 0.5181),\n",
       "  ('graphics performance benchmarks', 0.5192),\n",
       "  ('cpu benchmark', 0.5234),\n",
       "  ('gpu performance', 0.5433),\n",
       "  ('gpu traces', 0.5437),\n",
       "  ('running gpu benchmark', 0.5502),\n",
       "  ('gpu memory accesses', 0.5502),\n",
       "  ('gpu weighted speedup', 0.5539),\n",
       "  ('model internal gpu caches', 0.563),\n",
       "  ('gpu simulation framework', 0.5739),\n",
       "  ('gpu memory traces', 0.5892),\n",
       "  ('gpu benchmarks', 0.5938),\n",
       "  ('perform coalescing gpu memory requests', 0.624)],\n",
       " [('main advantages', 0.1838),\n",
       "  ('direct questioning people', 0.1892),\n",
       "  ('research', 0.1903),\n",
       "  ('perspective executives', 0.1977),\n",
       "  ('surveys', 0.2055),\n",
       "  ('obtain conclusions', 0.2075),\n",
       "  ('collected data', 0.2135),\n",
       "  ('direct knowledge reality', 0.2201),\n",
       "  ('facts study', 0.2291),\n",
       "  ('analysis', 0.2428),\n",
       "  ('cloud computing model', 0.2588),\n",
       "  ('opinion surveys', 0.2641),\n",
       "  ('quantitative analysis', 0.2966),\n",
       "  ('questionnaire', 0.336),\n",
       "  ('field survey', 0.3361),\n",
       "  ('survey instrument', 0.354),\n",
       "  ('research method', 0.3572),\n",
       "  ('descriptive research group', 0.458),\n",
       "  ('structured questionnaire', 0.4627),\n",
       "  ('descriptive research', 0.5005)]]"
      ]
     },
     "execution_count": 14,
     "metadata": {},
     "output_type": "execute_result"
    }
   ],
   "source": [
    "timelogger.log('initiate pos_vectorizer START')\n",
    "pos_pattern = (\n",
    "    # Verb-led methodological action (optional subject/aux/adv, main verb, noun phrase core, optional chained PPs)\n",
    "    # \"derive MIMO processing matrices\"\n",
    "    # \"compare the performance\"\n",
    "    # \"factor the MU MIMO precoding matrix\"\n",
    "    '(<AUX>?<RB>?<V.*><PRT>?<DT>?<J.*>*<N.*>+(<IN><DT>?<J.*>*<N.*>+)*)' + '|'\n",
    "    \n",
    "    # Nominal methodological construct (adjective/noun/proper stacks + optional PP tails)\n",
    "    # \"singular value decomposition\"\n",
    "    # \"MIMO processing matrices\"\n",
    "    # \"regularized block diagonal AF algorithm\"\n",
    "    '(<J.*>*<N.*>+(<N.*>+)*(<IN><J.*>*<N.*>+)*)' + '|'\n",
    "    \n",
    "    # Metric/result short form\n",
    "    # \"bit error rate\"\n",
    "    # \"BER performance\"\n",
    "    # \"SNR gain\"\n",
    "    '(<J.*>*<N.*>+)'\n",
    ")\n",
    "\n",
    "pos_vectorizer = KeyphraseCountVectorizer(\n",
    "    spacy_pipeline=nlp,\n",
    "    pos_pattern=pos_pattern,\n",
    ")\n",
    "\n",
    "print(sentence_transformer_model_name)\n",
    "timelogger.log('extract keywords | Default Top20 MaxSum KCV pos_pattern 02 | START')\n",
    "initial_keywords = keybert_model.extract_keywords(\n",
    "    docs=texts_only_list,\n",
    "    top_n=20,\n",
    "    use_maxsum=True,\n",
    "    vectorizer=pos_vectorizer,\n",
    ")\n",
    "timelogger.log('extract keywords | Default Top20 MaxSum KCV pos_pattern 02 | END')\n",
    "initial_keywords"
   ]
  },
  {
   "cell_type": "code",
   "execution_count": 107,
   "id": "727e8e90-5504-4272-a8f2-02217f9628c0",
   "metadata": {
    "execution": {
     "iopub.execute_input": "2025-09-10T20:58:04.857955Z",
     "iopub.status.busy": "2025-09-10T20:58:04.857651Z",
     "iopub.status.idle": "2025-09-10T20:58:04.869215Z",
     "shell.execute_reply": "2025-09-10T20:58:04.868444Z",
     "shell.execute_reply.started": "2025-09-10T20:58:04.857933Z"
    }
   },
   "outputs": [
    {
     "data": {
      "text/plain": [
       "['present results simulations',\n",
       " 'estimates h',\n",
       " 'proposed algorithm performance system',\n",
       " 'perform resource allocation',\n",
       " 'proposed system',\n",
       " 'estimate h',\n",
       " 'compare performance rbd af algorithm',\n",
       " 'received power kth ut',\n",
       " 'compare bit error rate',\n",
       " 'describe relaying system',\n",
       " 'estimate h 2,k f r k',\n",
       " 'denotes number',\n",
       " 'investigate different power allocation algorithms',\n",
       " 'using following optimization',\n",
       " 'using matrices f r',\n",
       " 'design mimo',\n",
       " 'provide information additive noise variances receivers transmitters',\n",
       " 'describe antenna configuration system',\n",
       " 'perform mimo',\n",
       " 'design mu mimo',\n",
       " 'optimize kth ut performance',\n",
       " 'denotes kth ut',\n",
       " 'channel estimation errors',\n",
       " 'negligible performance loss',\n",
       " 'provide reliable transmission',\n",
       " 'estimate effective mimo matrix',\n",
       " 'serving users',\n",
       " 'multi - user',\n",
       " 'receive matrices rn',\n",
       " 'consider mu mimo dl system',\n",
       " 'receive matrix rn',\n",
       " 'minimizes mu interference',\n",
       " 'kth ut mimo',\n",
       " 'minimize mu interference',\n",
       " 'denotes additive noise correlation matrix',\n",
       " 'design optimum matrix f r c',\n",
       " 'design mimo processing matrices bs',\n",
       " 'represents mui',\n",
       " 'use qr decomposition combination dpc',\n",
       " 'receive matrix',\n",
       " 'transmit power bs',\n",
       " 'feedback noise variance',\n",
       " 'assuming mimo',\n",
       " 'receive matrix uts',\n",
       " 'obtaining robust communication',\n",
       " 'following equation',\n",
       " 'simultaneously using space',\n",
       " 'factor mu mimo',\n",
       " 'spatially multiplexed data streams kth user',\n",
       " 'precoding matrix rn',\n",
       " 'precoding matrix bs',\n",
       " 'rn mimo',\n",
       " 'includes mimo processing bs',\n",
       " 'using mimo channel matrix bs rn',\n",
       " 'r ∈ r r×r',\n",
       " 'assuming large path loss',\n",
       " 'estimated ul channel dl transmission',\n",
       " 'mean complex gaussian random variables variance',\n",
       " 'using mimo channel matrices bs rn',\n",
       " 'derive mimo processing matrices bs',\n",
       " 'denotes identity matrix',\n",
       " 'combined effective channel matrix rn uts',\n",
       " 'define singular value decomposition',\n",
       " 'define svd h 2,k f r',\n",
       " 'estimate channel matrix h',\n",
       " 'function mimo processing matrix',\n",
       " 'resulting mimo processing matrices',\n",
       " 'supports single communication pair',\n",
       " 'derived mimo processing matrices bs',\n",
       " 'design spatial processing matrices transmitter',\n",
       " 'stacked vector',\n",
       " 'precoding matrix',\n",
       " 'precoding matrix relay',\n",
       " 'spatially multiplexed data streams',\n",
       " 'minimize co',\n",
       " 'minimize mui kth ut co - channel uts',\n",
       " 'diagonal positive definite power',\n",
       " 'regarding total number antennas uts',\n",
       " 'receive antennas kth ut',\n",
       " 'define svd h 2,k',\n",
       " 'precoding matrix f.',\n",
       " 'denotes transmit vector correlation matrix',\n",
       " 'find optimum mimo processing matrices',\n",
       " 'using 4qam modulation',\n",
       " 'limitations mimo processing matrices',\n",
       " 'regularized block',\n",
       " 'assuming mu mimo channel',\n",
       " 'derive mimo processing matrices',\n",
       " 'precoding matrix f',\n",
       " 'update matrix f',\n",
       " 'reducing overlap row spaces',\n",
       " 'using quadrature amplitude modulation',\n",
       " 'jointly optimizes mimo processing matrices bs',\n",
       " 'simultaneously improve channel conditions',\n",
       " 'extend mimo',\n",
       " 'reduce distances individual nodes',\n",
       " 'transmit vector correlation matrix',\n",
       " 'multiple antennas',\n",
       " 'fading channels',\n",
       " 'omit influence additive noise input rn antenna']"
      ]
     },
     "execution_count": 107,
     "metadata": {},
     "output_type": "execute_result"
    }
   ],
   "source": [
    "from sklearn.metrics.pairwise import cosine_similarity, euclidean_distances\n",
    "\n",
    "top_n = 10\n",
    "pairwise_distances = euclidean_distances(initial_keyword_embeddings, generic_methodology_phrase_embeddings)\n",
    "closest_distances_per_keyword = [[index, min(ds)] for index, ds in enumerate(pairwise_distances)]\n",
    "sorted_closest_distances_per_keyword = sorted(closest_distances_per_keyword, key=lambda x: x[1])\n",
    "keywords = [initial_keywords_top100[index][0] for (index, distance) in sorted_closest_distances_per_keyword]\n",
    "keywords"
   ]
  },
  {
   "cell_type": "code",
   "execution_count": 70,
   "id": "08ee2604-a831-44ef-a74a-01dc46c43d8c",
   "metadata": {
    "execution": {
     "iopub.execute_input": "2025-09-10T20:06:25.133187Z",
     "iopub.status.busy": "2025-09-10T20:06:25.132749Z",
     "iopub.status.idle": "2025-09-10T20:06:25.139951Z",
     "shell.execute_reply": "2025-09-10T20:06:25.138961Z",
     "shell.execute_reply.started": "2025-09-10T20:06:25.133147Z"
    }
   },
   "outputs": [
    {
     "data": {
      "text/plain": [
       "[[0, 1.4426476], [1, 1.4687278]]"
      ]
     },
     "execution_count": 70,
     "metadata": {},
     "output_type": "execute_result"
    }
   ],
   "source": [
    "closest_distances_per_keyword"
   ]
  },
  {
   "cell_type": "code",
   "execution_count": 63,
   "id": "5d349f34-0ac0-4899-849b-e15940bd8f04",
   "metadata": {
    "execution": {
     "iopub.execute_input": "2025-09-10T19:59:54.248592Z",
     "iopub.status.busy": "2025-09-10T19:59:54.247977Z",
     "iopub.status.idle": "2025-09-10T19:59:54.254548Z",
     "shell.execute_reply": "2025-09-10T19:59:54.253531Z",
     "shell.execute_reply.started": "2025-09-10T19:59:54.248561Z"
    }
   },
   "outputs": [
    {
     "data": {
      "text/plain": [
       "array([[1.4426476, 1.4526964],\n",
       "       [1.4687278, 1.4915861]], dtype=float32)"
      ]
     },
     "execution_count": 63,
     "metadata": {},
     "output_type": "execute_result"
    }
   ],
   "source": [
    "distances"
   ]
  },
  {
   "cell_type": "code",
   "execution_count": null,
   "id": "d65862d2-feff-4b50-945e-2e4c87eb013e",
   "metadata": {},
   "outputs": [],
   "source": []
  }
 ],
 "metadata": {
  "kernelspec": {
   "display_name": "python_311_2",
   "language": "python",
   "name": "python_311_2"
  },
  "language_info": {
   "codemirror_mode": {
    "name": "ipython",
    "version": 3
   },
   "file_extension": ".py",
   "mimetype": "text/x-python",
   "name": "python",
   "nbconvert_exporter": "python",
   "pygments_lexer": "ipython3",
   "version": "3.11.13"
  }
 },
 "nbformat": 4,
 "nbformat_minor": 5
}
