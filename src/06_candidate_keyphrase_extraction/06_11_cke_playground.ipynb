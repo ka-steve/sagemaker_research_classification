{
 "cells": [
  {
   "cell_type": "code",
   "execution_count": 1,
   "id": "f4f121b4-b7c9-45dc-838d-fbeca2010c68",
   "metadata": {},
   "outputs": [
    {
     "name": "stdout",
     "output_type": "stream",
     "text": [
      "sagemaker.config INFO - Not applying SDK defaults from location: /etc/xdg/sagemaker/config.yaml\n",
      "sagemaker.config INFO - Not applying SDK defaults from location: /home/sagemaker-user/.config/sagemaker/config.yaml\n",
      "config.py loaded: v0.1\n",
      "utils.py loaded: v0.2.12\n",
      "utils.py loaded: v0.2.12\n",
      "config.py loaded: v0.1\n"
     ]
    }
   ],
   "source": [
    "import requests\n",
    "import boto3\n",
    "import json\n",
    "import os\n",
    "import sys\n",
    "import argparse\n",
    "import importlib\n",
    "import transformers\n",
    "import torch\n",
    "import pathlib\n",
    "import smart_open\n",
    "import awswrangler as wr\n",
    "from IPython.display import display\n",
    "from sagemaker.huggingface.processing import HuggingFaceProcessor\n",
    "from sagemaker.sklearn.processing import SKLearnProcessor\n",
    "from sagemaker.processing import FrameworkProcessor\n",
    "from sagemaker.sklearn.estimator import SKLearn\n",
    "from sagemaker.workflow.steps import ProcessingStep\n",
    "from sagemaker.workflow.pipeline_context import PipelineSession\n",
    "from sagemaker.processing import ProcessingInput, ProcessingOutput\n",
    "from sagemaker.session import get_execution_role\n",
    "\n",
    "\n",
    "# Adding ../01_modules or ./01_modules to the system path so that we can load modules from \n",
    "# there as well\n",
    "if '__file__' in globals():\n",
    "    script_dir = pathlib.Path(__file__).parent.resolve()\n",
    "else:\n",
    "    script_dir = pathlib.Path().absolute()\n",
    "modules_path_in_dev = os.path.abspath(os.path.join(script_dir, '..', '01_modules'))\n",
    "modules_path_in_prod = os.path.abspath(os.path.join(script_dir, '01_modules'))\n",
    "if os.path.exists(modules_path_in_dev):\n",
    "    sys.path.append(modules_path_in_dev)\n",
    "if os.path.exists(modules_path_in_prod):\n",
    "    sys.path.append(modules_path_in_prod)\n",
    "\n",
    "\n",
    "# # Jupyter only reads a local module the first time after \n",
    "# # kernel start. Re-running a cell with \n",
    "# # \"from mymodulename import *\" would not change\n",
    "# # anything, even if the imported module has since changed.\n",
    "# # As a workaround, we need to directly load the module, \n",
    "# # use importlib.reload to reload it and then import * \n",
    "import utils\n",
    "_ = importlib.reload(utils)\n",
    "import config\n",
    "_ = importlib.reload(config)"
   ]
  },
  {
   "cell_type": "code",
   "execution_count": 2,
   "id": "2b7767a8-952f-47c4-b400-6ca3bf32468a",
   "metadata": {
    "execution": {
     "iopub.execute_input": "2025-09-13T01:28:30.741182Z",
     "iopub.status.busy": "2025-09-13T01:28:30.741030Z",
     "iopub.status.idle": "2025-09-13T01:28:40.443321Z",
     "shell.execute_reply": "2025-09-13T01:28:40.442812Z",
     "shell.execute_reply.started": "2025-09-13T01:28:30.741166Z"
    }
   },
   "outputs": [
    {
     "name": "stdout",
     "output_type": "stream",
     "text": [
      "Collecting en-core-web-sm==3.8.0\n",
      "  Downloading https://github.com/explosion/spacy-models/releases/download/en_core_web_sm-3.8.0/en_core_web_sm-3.8.0-py3-none-any.whl (12.8 MB)\n",
      "\u001b[2K     \u001b[90m━━━━━━━━━━━━━━━━━━━━━━━━━━━━━━━━━━━━━━━━\u001b[0m \u001b[32m12.8/12.8 MB\u001b[0m \u001b[31m181.3 MB/s\u001b[0m  \u001b[33m0:00:00\u001b[0m\n",
      "\u001b[?25h\u001b[38;5;2m✔ Download and installation successful\u001b[0m\n",
      "You can now load the package via spacy.load('en_core_web_sm')\n",
      "\u001b[38;5;3m⚠ Restart to reload dependencies\u001b[0m\n",
      "If you are in a Jupyter or Colab notebook, you may need to restart Python in\n",
      "order to load all the package's dependencies. You can do this by selecting the\n",
      "'Restart kernel' or 'Restart runtime' option.\n",
      " :: :: TIMELOGGER STARTED :: | since_start: 0.00 seconds | since_last: 0.00 seconds :: \n"
     ]
    },
    {
     "data": {
      "text/plain": [
       "'\\n@conference{schopf_etal_kdir22,\\nauthor={Tim Schopf and Simon Klimek and Florian Matthes},\\ntitle={PatternRank: Leveraging Pretrained Language Models and Part of Speech for Unsupervised Keyphrase Extraction},\\nbooktitle={Proceedings of the 14th International Joint Conference on Knowledge Discovery, Knowledge Engineering and Knowledge Management (IC3K 2022) - KDIR},\\nyear={2022},\\npages={243-248},\\npublisher={SciTePress},\\norganization={INSTICC},\\ndoi={10.5220/0011546600003335},\\nisbn={978-989-758-614-9},\\nissn={2184-3228},\\n}\\n'"
      ]
     },
     "execution_count": 2,
     "metadata": {},
     "output_type": "execute_result"
    }
   ],
   "source": [
    "import os, json, re, argparse, math\n",
    "from pathlib import Path\n",
    "from collections import Counter\n",
    "import numpy as np\n",
    "import spacy\n",
    "from sentence_transformers import SentenceTransformer, util\n",
    "from keybert import KeyBERT\n",
    "from keyphrase_vectorizers import KeyphraseCountVectorizer\n",
    "import spacy.cli\n",
    "spacy_model = 'en_core_web_sm'\n",
    "spacy.cli.download(spacy_model)\n",
    "spacy_exclude = ['parser', 'attribute_ruler', 'lemmatizer', 'ner', 'textcat']\n",
    "nlp = spacy.load(spacy_model, exclude=spacy_exclude)\n",
    "timelogger = utils.TimeLogger()\n",
    "\"\"\"\n",
    "@conference{schopf_etal_kdir22,\n",
    "author={Tim Schopf and Simon Klimek and Florian Matthes},\n",
    "title={PatternRank: Leveraging Pretrained Language Models and Part of Speech for Unsupervised Keyphrase Extraction},\n",
    "booktitle={Proceedings of the 14th International Joint Conference on Knowledge Discovery, Knowledge Engineering and Knowledge Management (IC3K 2022) - KDIR},\n",
    "year={2022},\n",
    "pages={243-248},\n",
    "publisher={SciTePress},\n",
    "organization={INSTICC},\n",
    "doi={10.5220/0011546600003335},\n",
    "isbn={978-989-758-614-9},\n",
    "issn={2184-3228},\n",
    "}\n",
    "\"\"\""
   ]
  },
  {
   "cell_type": "code",
   "execution_count": 3,
   "id": "a6abd9ca-1256-43cd-9a9f-7b95887d54bf",
   "metadata": {
    "execution": {
     "iopub.execute_input": "2025-09-13T01:28:40.444162Z",
     "iopub.status.busy": "2025-09-13T01:28:40.443882Z",
     "iopub.status.idle": "2025-09-13T01:28:45.997603Z",
     "shell.execute_reply": "2025-09-13T01:28:45.997100Z",
     "shell.execute_reply.started": "2025-09-13T01:28:40.444147Z"
    }
   },
   "outputs": [
    {
     "data": {
      "text/plain": [
       "'As was noted earlier, we formed our dataset utilizing the existing relations present in SNOMED CT. There are hundreds of different kinds relations present in SNOMED CT, some of them are more important than others (examples of some of the unimportant relations are \"duplicate concept\" and \"inactive concept\"). We report our results on the fourteen important and most frequent relations, each of which had more than ten thousand instances. The \"is a(procedure,procedure)\" relation had the highest number of 93, 925 instances. For each relation, positive examples for both training and testing were randomly selected without replacement as pairs of concepts for which the relation is known to exist. Then equal number of negative examples were randomly selected without replacement as pairs of concepts of the required types which are not related by that relation. There was no overlap between training and testing datasets. We employed SVM using the LibSVM package3 along with the user-defined kernel as defined in the previous section.\\n\\nWe measured precision and recall. Precision is the percentage of correctly identified relations out of all the identified relations. Recall is the percentage of correctly identified relations out of all the relations present in the test set. The evaluation was done for the combined output of all the folds. SVM can also give the confidences for its classification decisions through Platt\\'s method (Platt, 1999). We used these confidences to measure precision and recall at every confidence level and plotted precision-recall curves. We also measured the maximum F-measure across the precision-recall curves, where F-measure is the harmonic mean of precision can recall.\\n\\nWe compared our approach with a baseline method which only uses the amount of word overlap between the two concepts to identify a relation between them. It is not a learning-based approach. It outputs its confidence on a relation as the degree of overlap between the two concepts (i.e. the number of common words after normalization for word lengths). We call this baseline the similarity baseline. Note that the similarity scores are already included as features in the kernel used in the learning approach. 4  Since there were equal number of positive and negative examples, the accuracy of a random classifier would be 50%. Trained System Similarity Baseline Figure 1: Precision-recall curves for the \"is a(procedure, procedure)\" relation obtained using the similarity baseline and using the trained system.'"
      ]
     },
     "execution_count": 3,
     "metadata": {},
     "output_type": "execute_result"
    }
   ],
   "source": [
    "database_name = '02_stg'\n",
    "table_name = 'stg_filtered_work_chapters_methodology_single'\n",
    "id_columns = ['work_id']\n",
    "text_column_name = 'chapter_text'\n",
    "text_batch_size = 1000\n",
    "\n",
    "utils.pd_set_options(cols=100)\n",
    "id_column_names = ', '.join(id_columns)\n",
    "# TODO: pagination\n",
    "texts_df = wr.athena.read_sql_query(f\"\"\"\n",
    "    SELECT\n",
    "        {id_column_names}, {text_column_name} \n",
    "    FROM\n",
    "        \"{database_name}\".{table_name}\n",
    "    ORDER BY\n",
    "        {id_column_names}\n",
    "    LIMIT\n",
    "        {text_batch_size}\n",
    "    \"\"\",\n",
    "    database_name\n",
    ")\n",
    "texts_only_list = texts_df[text_column_name].tolist()\n",
    "texts_only_list[0]"
   ]
  },
  {
   "cell_type": "code",
   "execution_count": 81,
   "id": "727205d0-5cd6-4724-8177-99f139610b08",
   "metadata": {
    "execution": {
     "iopub.execute_input": "2025-09-10T20:11:54.365788Z",
     "iopub.status.busy": "2025-09-10T20:11:54.365412Z",
     "iopub.status.idle": "2025-09-10T20:12:04.439915Z",
     "shell.execute_reply": "2025-09-10T20:12:04.438743Z",
     "shell.execute_reply.started": "2025-09-10T20:11:54.365756Z"
    },
    "scrolled": true
   },
   "outputs": [
    {
     "data": {
      "text/plain": [
       "'\\nIntroduction\\n\\nAn important part of future wireless communication systems is multi-user (MU) multiple-input multiple-output (MIMO) processing. It has been shown that the linear increase of the MU MIMO systems\\' data rate in the number of transmit antennas can be achieved by serving users simultaneously using the space-division multiple access (SDMA) [1]. In multi-hop-based systems additional, intermediate radio access points, or relay nodes (RNs), are used to reduce distances between individual nodes and simultaneously improve the channel conditions. The relays traditionally have been used to mitigate the effect of path loss for obtaining robust communication. The three-terminal relay channel where a single intermediate node supports a single communication pair was introduced in seminal paper [2]. Different relaying protocols which still serve as a basis for many relaying strategies were proposed later in [3]. The idea of relaying was first applied to wireless fading channels in [4]. Wireless relays are essential to provide reliable transmission, high throughput, and broad coverage for next generation wireless networks. The http://asp.eurasipjournals.com/content/2012/1/186 MU MIMO communication system, where a single source, a base station (BS), communicates with a group of user terminals (UTs) over a single RN was investigated in [11][12][13][14]. The optimum design of non-regenerative relays for MU MIMO relay systems in [11] is based on sum rate optimization. Assuming zero-forcing (ZF) dirty paper coding (DPC) at the BS and linear operations at the RN, it proposes upper and lower bounds on the achievable sum rate, neglecting the direct links from the BS to the UTs. The authors in [12] investigate different power allocation algorithms assuming MIMO processing only at the RN. At the BS, there is no processing or simple eigen decomposition is used. At the RN, the authors use QR decomposition in combination with DPC. In [13], the authors extend the MIMO two-way relaying scheme with XOR precoding to a MU cellular relaying scenario, where a BS communicates with K UTs via a single DF relay. Different UTs are spatially multiplexed using ZF beam forming or ZF DPC. A novel iterative semidefinite programming-based algorithm is used for sum rate maximization. The problem of joint linear optimization of MIMO processing matrices at the RN and at the BS for both downlink (DL) and uplink (UL) in MU non-regenerative MIMO relay systems based on MMSE criterion was investigated in [14]. The resulting MIMO processing matrices are calculated iteratively, the nodes require the knowledge of global CSI, and the solution for one matrix is a function of the other MIMO processing matrix. As a consequence, we either need to have some central node that would use global CSI to find the optimum MIMO processing matrices or the BS and the RN have to exchange the CSI and the respective MIMO processing matrices. The exchange of the information between the BS and the RN means that the part of the system throughput has to be used for this purpose. Because the algorithm is iterative, the computational complexity and the part of the system throughput that is used for the information exchange will be higher. This significantly reduces the practicality of this algorithm. Additionally, the antenna configuration in [14] considers only single antenna UTs and requires that the number of the antenna at the BS, RN and the number of UTs to be equal. In this article, we consider a more general scenario where the number of the antennas at the BS, RN and UTs is not limited.\\n\\nIn our article, we derive MIMO processing matrices at the BS, RN, and the UTs using MMSE criterion, as opposed to the ZF criterion used in [11][12][13]. Unlike [14], we assume that these matrices are designed using only local CSI available at the nodes, and the feedback overhead is used only to provide the information about the additive noise variances at the receivers to the transmitters. The MMSE criterion is motivated by robustness to channel estimation errors and a lower implementation complexity. Moreover, MIMO processing matrices designed using the MMSE criterion do not have the same limitations as the MIMO processing matrices that are designed using the ZF criterion, i.e., that the total number of the antennas at the UTs is less than or equal to the number of the antennas at the BS/RN. The use of only local CSI means that the MIMO processing matrix at the BS is designed using only MIMO channel matrix from BS to RN and the MIMO processing matrix at the RN is designed using MIMO channel matrices from BS to RN and from RN to the UTs. Also, our goal is to design MIMO processing matrices at the BS and at the RN independently from each other. In [11,14], the authors assume that the BS and RN each have multiple antennas, but that the UTs have only a single receive antenna. We do not have any restrictions regarding the total number of the antennas at the UTs.\\n\\nThe article is organized as follows. In section \"System model\", we describe the relaying system. In section \"Design of MIMO processing matrices\", we derive the MIMO processing matrices and in the section \"Numerical results\", we present the results of simulations. A short summary follows in the section \"Conclusions\".\\n\\nSystem model\\n\\nWe consider a MU MIMO DL system, where a BS communicates with K UTs over a single RN. The direct links from BS to the UTs are neglected assuming large path loss. There are M B antennas at the BS, M R antennas at the RN, and M U k receive antennas at the kth UT, k = 1, 2, . . . , K. The total number of antennas at the UTs is\\n\\nWe use the notation M U 1 , . . . , M U K × M R × M B to describe the antenna configuration of the system. A block diagram of such a system is depicted in Figure 1. The channel matrix from RN to the kth UT is denoted as H 2,k ∈ C M U k ×M R , and the combined channel matrix from RN to the UTs is given by\\n\\nChannel matrix from BS to the RN is denoted as H 1 ∈ C M R ×M B . The transmit data vectors x k ∈ C r k ×1 , and the receive data vectors y k ∈ C r k ×1 , k = 1, . . . , K, for the K UTs are stacked in vectors\\n\\nwhere r k denotes the number of spatially multiplexed data streams to the kth user.\\n\\nThe input-output signal model is given by the following equation:\\n\\nwhere\\n\\nis the stacked vector of the zero mean additive white Gaussian noise at the input of the UT antenna arrays, and n 1 ∈ C M R ×1 is the zero mean additive white Gaussian noise vector at the RN antenna array. MIMO precoding matrix at the BS is denoted as F ∈ C M B ×r and MIMO receive matrix at the RN is denoted as D R ∈ C r×M R . The combined MIMO precoding matrix at the RN and the combined MIMO receive matrix at the UTs are denoted as F R ∈ C M R ×r and D ∈ C r×M U , respectively\\n\\nwhere F R k ∈ C M R ×r k is the RN MIMO precoding matrix corresponding to the k-th UT and D k ∈ C r k ×M U k is the kth UT MIMO receive matrix. The parameters β 1 and β 2 are chosen such to set the total transmit power at the BS and at the RN to P T B and P T R , respectively. The total number of spatially multiplexed data streams is denoted as r = K k=1 r k ≤ min(rank(H 1 ), rank(H 2 )) ≤ min(M B , M R , M U ). The elements of vectors x, n 1 , and n 2 are assumed to be statistically independent.\\n\\nChannel estimation\\n\\nWe assume the system operates in time division duplex (TDD) so that we can exploit the estimated UL channel for DL transmission due to the reciprocity principle. In general, on the DL the UTs need only to estimate the effective MIMO matrix that includes the MIMO processing at the BS to perform the MIMO receive processing. However, on the UL, the BS requires both the effective channel matrix and the over-the-air MIMO channel estimates to perform resource allocation and MU MIMO processing. Therefore, on the DL, we would need only one type of pilot symbols for CSI estimation, while on the UL we need two types of pilots that are used for estimation of over-the-air UT\\'s MIMO channel matrices and the effective channel matrices. Different types of pilot symbols used in MIMO channel estimation are described in [15]. In our case, the BS has the estimate of H 1 , RN has the estimates of H 1 F and H 2 and the UT has the estimate of H 2,k F R k .\\n\\nDesign of MIMO processing matrices\\n\\nThe design of MIMO precoding matrix at the BS and MIMO receive matrices at the RN and the UTs will be straightforward as we use only local CSI.\\n\\nAt the RN, we have the estimate of H 1 F, and the optimum MIMO receive matrix D R is obtained from\\n\\nwhere R x = E{xx H } denotes the transmit vector correlation matrix, R n 1 = E{n 1 n H 1 } denotes the additive noise correlation matrix, and (·) H denotes conjugate transpose.\\n\\nLet us define the singular value decomposition (SVD) of the channel matrix H 1 as\\n\\nFrom [16,17], we can assume that the matrix F is in the form:\\n\\nwhere V (r) 1 contains the first r columns of the matrix V 1 and ∈ C r×r . Then, from Equation (5) matrix D R can be also written as\\n\\nwhere R ∈ C r×r and U At the BS, we assume we have the estimate of the channel matrix H 1 . MIMO precoding matrix at the BS is derived from the following optimization:\\n\\nThe MIMO precoding matrix F can be obtained in several ways. Using the approach presented in [16,17], we can substitute the solution for D R from (5) in (9) and then find the optimum F. Another approach is used in [10]. The matrices F and D R are designed iteratively. In this case, we start with some solution for F, then we calculate D R , then use this solution to update the matrix F and so on. Unlike these approaches, in this article, we want to be able to design the spatial processing matrices at the transmitter and at the receiver independently. The transmit MIMO processing matrices are designed assuming only eigenmode decomposition at the receiver, regardless of the actual spatial processing used at the receiver. This is the worst case assumption as only the transmitter would have to deal with the noise and spatial interference. Therefore, the matrix F is designed in a non-iterative way by assuming at the BS that R = I r , where I r ∈ R r×r denotes the identity matrix. At high signal-to-noise ratios (SNRs) this assumption is true. Equation (9) can be written then as\\n\\nwhere (r) 1 ∈ C r×r is a diagonal matrix with r largest singular values of H 1 on the main diagonal and n 1 = U (r) H 1 n 1 . Using the method of Lagrangian multipliers, from Equation (10) it can easily be shown that the optimum F is in the form of\\n\\nFrom Equation (11), it follows that the optimum is diagonal positive definite power-loading matrix. If the elements of the additive noise vector at the input of the RN antenna array are independent and identically distributed (i.i.d.) zero mean complex Gaussian random variables with variance σ 2 n 1 then tr R n 1 = rσ 2 n 1 . Then, we only need to feedback the noise variance σ 2 n 1 from RN to the BS to design the MIMO precoding matrix F.\\n\\nUnder the assumption that the estimate of H 2,k F R k is available at the kth UT, the kth UT MIMO receive matrix is obtained from\\n\\nas\\n\\nwhere R x R ,k = E x R k x H R k denotes the kth UT\\'s RN transmit vector correlation matrix, and R n 2 ,k = E n 2,k n H 2,k denotes the correlation matrix of the additive noise at the input of kth UT antenna array.\\n\\nOur goal is to use as much as possible of the available users\\' spatial resources and at the same time minimize the MU interference (MUI) between different users. Let us consider the MSE at the UTs:\\n\\nwhere\\n\\nand\\n\\nWe can rewrite this equation as\\n\\nMatrix DH 2 F R is a block diagonal matrix with matrices D k H 2,k F R k on the main diagonal. Matrix DH 2 F R is given by\\n\\nand represents the MUI. http://asp.eurasipjournals.com/content/2012/1/186\\n\\nIn order to design the MU MIMO precoding matrix at the RN we have to meet two contradictory requirements. First, we need to minimize the co-channel interference between different users by reducing the overlap of the row spaces spanned by the effective channel matrices of different users. However, to maximize the spatial processing gains we need to use as much as possible of the available UTs\\' channel row vector subspaces. Therefore, we factor the MU MIMO precoding matrix at the RN as\\n\\nwhere the matrix F R a ,k is used to minimize the MUI from the kth UT to the co-channel UTs, matrix F R b ,k is used to maximize the received power of the kth UT and the matrix F R c ,k is used to optimize the kth UT performance according to a specific criterion. Matrix F R a is obtained from Equation (17) using the following optimization:\\n\\nassuming matrices D k , F R b ,k , and F R c ,k are unitary, r k = rank(H 2,k · H 1 ) and without the loss of generality that the elements of vectors x R and n R are i.i.d. zero mean unit variance random variables. These assumptions correspond to the initial requirement that all UTs use as much as possible of the available subspace for communication. Equation (20) can be written as\\n\\nThe joint co-channel UTs channel matrix H 2,k ∈ C (M U −M U k )×M R is defined as\\n\\nLet us define the SVD of H 2,k as\\n\\nthen the non-trivial solution for F R a in Equation (21) is given by [17] \\n\\nassuming matrices D k and F R c ,k are unitary and r k = rank(H 2,k · H 1 ). Again, without the loss of generality we can assume that the elements of vectors x R and n R are i.i.d. zero mean unit variance random variables. Equation (25) is rewritten as\\n\\nThe non-trivial solution of (26) is given by\\n\\nFinally, we can design the optimum matrix F R c ,k according to a specific optimization criterion. In our case, we use the MMSE criterion so the optimum F R c ,k is obtained from\\n\\nassuming the MU MIMO channel is decomposed into the set of parallel SU MIMO channels using matrices F R a ,k . Let us define the SVD of H 2,k F R a ,k F R b ,k as\\n\\nAgain, we can assume in the worst case scenario that at the UTs we perform only eigenmode decomposition of the http://asp.eurasipjournals.com/content/2012/1/186 effective UTs\\' channel matrices, i.e., D k = U (r k ) H R k . We can rewrite Equation (28) as\\n\\nwhere we have assumed that the optimum F R c is in the form [17] \\n\\nand n 2,k = U (r k ) H R k n 2,k . After setting the derivative of (30) to zero, we have\\n\\nFrom Equation (32) we have\\n\\nFinally, the parameter β 2 is chosen such to set the total transmit power at the RN to P T R :\\n\\nNumerical results\\n\\nIn this section, we compare the performance of the proposed algorithm to the performance of a system using hard decision DF relaying and to the optimal joint (OJ) MMSE algorithm proposed in [14] that jointly optimizes MIMO processing matrices at the BS and at the RN. We denote the algorithm proposed in this article as regularized block diagonal AF (RBD AF) as at high SNRs and when the total number of the antennas at the UTs is less than or equal to the number of the antennas at the RN, the combined effective channel matrix from RN to the UTs, H 2 F R , is block diagonal since the UTs transmit only in the null subspace of the co-channel UTs. We assume that the RN is placed half-way between the BS and the UTs, and that the path loss exponent is n = 4. The transmit power at the BS and the transmit power at the RN are equal, P T B = P T R = P T . Additive noise variances at the input of the RN and the UTs\\' antenna arrays are assumed also to be equal, σ 2 n 1 = σ 2 n 2 = σ 2 n . MIMO channel matrices between the BS and RN, and RN and UTs, are modeled as spatially white uncorrelated MIMO channels H w . The elements of the channel matrices are zero mean, unit variance complex Gaussian variables.\\n\\nFirst, in Figure 2, we compare the bit error rate (BER) performance of RBD AF and OJ MMSE under the assumption used in [14] that all UTs are equipped with only one antenna. The system antenna configuration is {1, 1, 1} × 4 × 4, i.e, there are K = 3 UTs in the system equipped with single antenna each, there are M R = 4 antennas at the RN and M B = 4 antennas at the BS. Data are uncoded and mapped using quadrature amplitude modulation (4QAM). As we can see from the figure, the OJ MMSE algorithm that jointly optimizes the MIMO processing matrices at the BS and RN has only slight advantage over RBD AF at low SNRs. At high SNRs the difference between RBD AF and OJ MMSE is negligible.\\n\\nHowever, if we consider UTs equipped with multiple antennas then the RBD AF algorithm gains significantly over OJ MMSE. In Figure 3 is transmitting one data stream per UT using the 4QAM modulation. In order to keep the comparison fair, in case of OJ MMSE we have two data streams per UT modulated using binary phase shift keying (BPSK). The RBD AF algorithm extracts higher array and diversity gains than OJ MMSE.\\n\\nIn Figure 4, we compare the performance of RBD AF algorithm and a system using hard decision DF relaying in an overloaded system, i.e., the system where the total number of antennas at the UTs is greater than the number of antennas at the RN. In case of DF system we use again the RBD algorithm to design the MIMO precoding matrix at the RN. However, we omit the influence of the additive noise at the input of the RN antenna array. The DF system has slightly higher spatial processing gains, and an SNR gain over RBD AF of around 3dB at BER = 10 −3 .\\n\\nConclusions\\n\\nIn this article, we investigated a two-hop communication from BS to the UTs over one RN. We derived the MIMO processing matrices at the BS, RN and the UTs using only local CSI. In order to be able to design the spatial processing matrices at the transmitter and the receiver independently, the transmit MIMO processing matrices are designed assuming only eigenmode decomposition at the receiver, regardless of the actual spatial processing used at the receiver. This is the worst case assumption as only the transmitter would have to deal with the noise and spatial interference. The emphasis is on the design of the MIMO precoding matrix at the relay as it has to process noise and interference on the first and the second hop at the same time. The MU MIMO precoding matrix at the relay is designed using a criterion which minimizes the MU interference while at the same time tries to exploit as much as possible of the available UT spatial processing gains. In our simulations, we have shown that the proposed system has the negligible performance loss compared to the system that iteratively and jointly optimizes MIMO processing matrices at the BS and at the RN, and around 3 dB SNR loss at the BER of interest compared to the system that is using hard decision DF relaying.\\n\\n\\n\\n\\n\\n\\n'"
      ]
     },
     "execution_count": 81,
     "metadata": {},
     "output_type": "execute_result"
    }
   ],
   "source": [
    "database_name = '03_core'\n",
    "table_name = 'unified_works'\n",
    "id_columns = ['id']\n",
    "text_column_name = 'fulltext'\n",
    "text_batch_size = 1\n",
    "\n",
    "utils.pd_set_options(cols=100)\n",
    "id_column_names = ', '.join(id_columns)\n",
    "# TODO: pagination\n",
    "texts_df = wr.athena.read_sql_query(f\"\"\"\n",
    "    SELECT\n",
    "        {id_column_names}, {text_column_name} \n",
    "    FROM\n",
    "        \"{database_name}\".{table_name}\n",
    "    ORDER BY\n",
    "        {id_column_names}\n",
    "    LIMIT\n",
    "        {text_batch_size}\n",
    "    \"\"\",\n",
    "    database_name\n",
    ")\n",
    "texts_only_list = texts_df[text_column_name].tolist()\n",
    "texts_only_list[0]"
   ]
  },
  {
   "cell_type": "code",
   "execution_count": 4,
   "id": "5fa01da2-0cac-418c-af40-395e10567d4e",
   "metadata": {
    "execution": {
     "iopub.execute_input": "2025-09-13T01:28:46.000216Z",
     "iopub.status.busy": "2025-09-13T01:28:46.000081Z",
     "iopub.status.idle": "2025-09-13T01:28:49.369624Z",
     "shell.execute_reply": "2025-09-13T01:28:49.369136Z",
     "shell.execute_reply.started": "2025-09-13T01:28:46.000202Z"
    }
   },
   "outputs": [
    {
     "name": "stdout",
     "output_type": "stream",
     "text": [
      " :: SentenceTransformer initialized | since_start: 8.93 seconds | since_last: 8.93 seconds :: \n"
     ]
    },
    {
     "data": {
      "text/plain": [
       "' :: SentenceTransformer initialized | since_start: 8.93 seconds | since_last: 8.93 seconds :: '"
      ]
     },
     "execution_count": 4,
     "metadata": {},
     "output_type": "execute_result"
    }
   ],
   "source": [
    "# sentence_transformer_model_name = 'sentence-transformers/all-mpnet-base-v2'\n",
    "sentence_transformer_model_name = 'sentence-transformers/all-distilroberta-v1'\n",
    "\n",
    "st_embed_model = SentenceTransformer(sentence_transformer_model_name)\n",
    "timelogger.log('SentenceTransformer initialized')"
   ]
  },
  {
   "cell_type": "code",
   "execution_count": 5,
   "id": "24b7f749-a8d8-48e4-a725-5a39c8dba4c7",
   "metadata": {
    "execution": {
     "iopub.execute_input": "2025-09-13T01:28:49.370314Z",
     "iopub.status.busy": "2025-09-13T01:28:49.370150Z",
     "iopub.status.idle": "2025-09-13T01:28:49.902751Z",
     "shell.execute_reply": "2025-09-13T01:28:49.902124Z",
     "shell.execute_reply.started": "2025-09-13T01:28:49.370298Z"
    }
   },
   "outputs": [
    {
     "name": "stdout",
     "output_type": "stream",
     "text": [
      " :: generic methodology phrases encoded START | since_start: 8.93 seconds | since_last: 0.01 seconds :: \n",
      " :: generic methodology phrases encoded END | since_start: 9.46 seconds | since_last: 0.53 seconds :: \n"
     ]
    },
    {
     "data": {
      "text/plain": [
       "array([[-0.00535334, -0.00680358,  0.00489835, ...,  0.01841469,\n",
       "        -0.03167967, -0.0050952 ],\n",
       "       [-0.00022194,  0.00414018,  0.01022064, ..., -0.01404903,\n",
       "        -0.03241681, -0.02545266],\n",
       "       [ 0.01189183,  0.01842934,  0.02846571, ..., -0.03430157,\n",
       "        -0.02436642, -0.03020135],\n",
       "       ...,\n",
       "       [-0.03220616, -0.01856573,  0.02224939, ..., -0.03424376,\n",
       "        -0.04298651, -0.09180258],\n",
       "       [-0.02929969, -0.07373922, -0.00920675, ...,  0.0107948 ,\n",
       "         0.03783655, -0.0565296 ],\n",
       "       [ 0.03346384,  0.01161797, -0.01428204, ..., -0.07280515,\n",
       "        -0.08783866, -0.0287721 ]], dtype=float32)"
      ]
     },
     "execution_count": 5,
     "metadata": {},
     "output_type": "execute_result"
    }
   ],
   "source": [
    "timelogger.log('generic methodology phrases encoded START')\n",
    "generic_methodology_phrases = [\n",
    "    'research method',\n",
    "    'research methodology',\n",
    "    'methodological approach',\n",
    "    'experimental study',\n",
    "    'empirical evaluation',\n",
    "    'case study',\n",
    "    'simulation study',\n",
    "    'measurement study',\n",
    "    'formal proof'\n",
    "]\n",
    "\n",
    "generic_methodology_phrase_embeddings = st_embed_model.encode(generic_methodology_phrases)\n",
    "timelogger.log('generic methodology phrases encoded END')\n",
    "generic_methodology_phrase_embeddings"
   ]
  },
  {
   "cell_type": "code",
   "execution_count": 6,
   "id": "5ae2d78b-ec82-4634-8fc7-9063ba0715a5",
   "metadata": {
    "execution": {
     "iopub.execute_input": "2025-09-13T01:28:49.903460Z",
     "iopub.status.busy": "2025-09-13T01:28:49.903275Z",
     "iopub.status.idle": "2025-09-13T01:28:53.815929Z",
     "shell.execute_reply": "2025-09-13T01:28:53.815465Z",
     "shell.execute_reply.started": "2025-09-13T01:28:49.903445Z"
    },
    "scrolled": true
   },
   "outputs": [
    {
     "name": "stdout",
     "output_type": "stream",
     "text": [
      " :: text encoded START | since_start: 9.47 seconds | since_last: 0.01 seconds :: \n",
      " :: text encoded END | since_start: 13.37 seconds | since_last: 3.91 seconds :: \n"
     ]
    },
    {
     "data": {
      "text/plain": [
       "array([[ 0.0458746 ,  0.02019153,  0.01326156, ..., -0.10766113,\n",
       "         0.05190925,  0.00696905],\n",
       "       [-0.00781273, -0.03953062, -0.00649838, ..., -0.03321216,\n",
       "        -0.03041473, -0.003624  ]], dtype=float32)"
      ]
     },
     "execution_count": 6,
     "metadata": {},
     "output_type": "execute_result"
    }
   ],
   "source": [
    "timelogger.log('text encoded START')\n",
    "text_list_embeddings = st_embed_model.encode(texts_only_list)\n",
    "timelogger.log('text encoded END')\n",
    "text_list_embeddings[0:2]"
   ]
  },
  {
   "cell_type": "code",
   "execution_count": null,
   "id": "b6815002-c4b7-4927-a91c-dd24d94a9fc9",
   "metadata": {},
   "outputs": [],
   "source": []
  },
  {
   "cell_type": "code",
   "execution_count": 7,
   "id": "ccc4f3c6-164b-43ed-adc9-399adf6de6a4",
   "metadata": {
    "execution": {
     "iopub.execute_input": "2025-09-13T01:40:08.646267Z",
     "iopub.status.busy": "2025-09-13T01:40:08.646038Z",
     "iopub.status.idle": "2025-09-13T01:40:08.651398Z",
     "shell.execute_reply": "2025-09-13T01:40:08.650941Z",
     "shell.execute_reply.started": "2025-09-13T01:40:08.646252Z"
    }
   },
   "outputs": [
    {
     "name": "stdout",
     "output_type": "stream",
     "text": [
      " :: initiate pos_vectorizer START | since_start: 11.0 minutes, 28.21 seconds | since_last: 11.0 minutes, 14.84 seconds :: \n",
      " :: initiate pos_vectorizer END | since_start: 11.0 minutes, 28.21 seconds | since_last: 0.00 seconds :: \n"
     ]
    },
    {
     "data": {
      "text/plain": [
       "' :: initiate pos_vectorizer END | since_start: 11.0 minutes, 28.21 seconds | since_last: 0.00 seconds :: '"
      ]
     },
     "execution_count": 7,
     "metadata": {},
     "output_type": "execute_result"
    }
   ],
   "source": [
    "timelogger.log('initiate pos_vectorizer START')\n",
    "pos_pattern = (\n",
    "    # Verb-led methodological action (optional subject/aux/adv, main verb, noun phrase core, optional chained PPs)\n",
    "    # we derive MIMO processing matrices\n",
    "    # we compare the performance\n",
    "    # we factor the MU MIMO precoding matrix\n",
    "    '(<AUX>?<RB>?<V.*><PRT>?<DT>?<J.*>*<N.*>+(<IN><DT>?<J.*>*<N.*>+)*)' #+ '|'\n",
    "    \n",
    "    # Nominal methodological construct (adjective/noun/proper stacks + optional PP tails)\n",
    "    # singular value decomposition\n",
    "    # MIMO processing matrices\n",
    "    # regularized block diagonal AF algorithm\n",
    "    # '(<J.*>*<N.*>+(<N.*>+)*(<IN><J.*>*<N.*>+)*)' # + '|'\n",
    "    \n",
    "    # Metric/result short form\n",
    "    # bit error rate\n",
    "    # BER performance\n",
    "    # SNR gain\n",
    "    # '(<J.*>*<N.*>+)'\n",
    ")\n",
    "pos_vectorizer = KeyphraseCountVectorizer(\n",
    "    spacy_pipeline=nlp,\n",
    "    # pos_pattern=pos_pattern, # '<J.*>*<N.*>+',\n",
    "    # min_df=1, # cutoff\n",
    ")\n",
    "timelogger.log('initiate pos_vectorizer END')"
   ]
  },
  {
   "cell_type": "code",
   "execution_count": 8,
   "id": "4ccd1fca-ad48-4e61-b4bf-b845638902d3",
   "metadata": {
    "execution": {
     "iopub.execute_input": "2025-09-13T01:40:09.688893Z",
     "iopub.status.busy": "2025-09-13T01:40:09.688725Z",
     "iopub.status.idle": "2025-09-13T01:40:09.693220Z",
     "shell.execute_reply": "2025-09-13T01:40:09.692778Z",
     "shell.execute_reply.started": "2025-09-13T01:40:09.688879Z"
    }
   },
   "outputs": [
    {
     "name": "stdout",
     "output_type": "stream",
     "text": [
      " :: initiate keybert_model START | since_start: 11.0 minutes, 29.25 seconds | since_last: 1.04 seconds :: \n",
      " :: initiate keybert_model END | since_start: 11.0 minutes, 29.25 seconds | since_last: 0.00 seconds :: \n"
     ]
    },
    {
     "data": {
      "text/plain": [
       "' :: initiate keybert_model END | since_start: 11.0 minutes, 29.25 seconds | since_last: 0.00 seconds :: '"
      ]
     },
     "execution_count": 8,
     "metadata": {},
     "output_type": "execute_result"
    }
   ],
   "source": [
    "timelogger.log('initiate keybert_model START')\n",
    "keybert_model = KeyBERT(model=st_embed_model)\n",
    "timelogger.log('initiate keybert_model END')"
   ]
  },
  {
   "cell_type": "code",
   "execution_count": null,
   "id": "65f5d612-bafd-419d-9055-8a7bff8d4283",
   "metadata": {
    "execution": {
     "iopub.execute_input": "2025-09-13T01:40:43.657872Z",
     "iopub.status.busy": "2025-09-13T01:40:43.657611Z"
    }
   },
   "outputs": [
    {
     "name": "stdout",
     "output_type": "stream",
     "text": [
      "sentence-transformers/all-distilroberta-v1\n",
      " :: extract 100 keywords START | since_start: 12.0 minutes, 3.22 seconds | since_last: 33.97 seconds :: \n"
     ]
    }
   ],
   "source": [
    "print(sentence_transformer_model_name)\n",
    "timelogger.log('extract 10 keywords START')\n",
    "initial_keywords_top10 = keybert_model.extract_keywords(  # TODO: consider using this with candidates=[...] for the next round\n",
    "    docs=texts_only_list,\n",
    "    top_n=10,\n",
    "    vectorizer=pos_vectorizer,\n",
    "    use_maxsum=True,\n",
    "    nr_candidates=100\n",
    ")\n",
    "initial_keyword_embeddings = st_embed_model.encode([kw[0] for kw in initial_keywords_top10])\n",
    "timelogger.log('extract 10 keywords END')\n",
    "initial_keywords_top10"
   ]
  },
  {
   "cell_type": "code",
   "execution_count": 106,
   "id": "cd5ee2e1-14f8-4b3b-b909-ef3c2ce5c107",
   "metadata": {
    "execution": {
     "iopub.execute_input": "2025-09-10T20:57:46.931323Z",
     "iopub.status.busy": "2025-09-10T20:57:46.930972Z",
     "iopub.status.idle": "2025-09-10T20:57:53.413305Z",
     "shell.execute_reply": "2025-09-10T20:57:53.412381Z",
     "shell.execute_reply.started": "2025-09-10T20:57:46.931296Z"
    },
    "scrolled": true
   },
   "outputs": [
    {
     "name": "stdout",
     "output_type": "stream",
     "text": [
      " :: extract 100 keywords START | since_start: 1.0 hour, 14.0 minutes, 2.27 seconds | since_last: 0.38 seconds :: \n",
      " :: extract 100 keywords END | since_start: 1.0 hour, 14.0 minutes, 8.74 seconds | since_last: 6.47 seconds :: \n"
     ]
    },
    {
     "data": {
      "text/plain": [
       "[('assuming mu mimo channel', 0.5829),\n",
       " ('design mu mimo', 0.5529),\n",
       " ('design mimo', 0.5449),\n",
       " ('find optimum mimo processing matrices', 0.5336),\n",
       " ('perform mimo', 0.5299),\n",
       " ('limitations mimo processing matrices', 0.5292),\n",
       " ('resulting mimo processing matrices', 0.5119),\n",
       " ('jointly optimizes mimo processing matrices bs', 0.5002),\n",
       " ('using mimo channel matrices bs rn', 0.4936),\n",
       " ('consider mu mimo dl system', 0.4799),\n",
       " ('derive mimo processing matrices', 0.4728),\n",
       " ('factor mu mimo', 0.4699),\n",
       " ('rn mimo', 0.4653),\n",
       " ('design mimo processing matrices bs', 0.4631),\n",
       " ('extend mimo', 0.4596),\n",
       " ('estimate effective mimo matrix', 0.4501),\n",
       " ('using mimo channel matrix bs rn', 0.4466),\n",
       " ('function mimo processing matrix', 0.4409),\n",
       " ('multiple antennas', 0.4325),\n",
       " ('derive mimo processing matrices bs', 0.4223),\n",
       " ('derived mimo processing matrices bs', 0.4211),\n",
       " ('assuming mimo', 0.42),\n",
       " ('kth ut mimo', 0.4147),\n",
       " ('fading channels', 0.4047),\n",
       " ('minimize mui kth ut co - channel uts', 0.3998),\n",
       " ('precoding matrix relay', 0.3698),\n",
       " ('describe relaying system', 0.3611),\n",
       " ('combined effective channel matrix rn uts', 0.3568),\n",
       " ('minimizes mu interference', 0.3489),\n",
       " ('regarding total number antennas uts', 0.3468),\n",
       " ('includes mimo processing bs', 0.3352),\n",
       " ('minimize mu interference', 0.3266),\n",
       " ('simultaneously improve channel conditions', 0.3237),\n",
       " ('transmit vector correlation matrix', 0.3149),\n",
       " ('receive antennas kth ut', 0.3054),\n",
       " ('provide information additive noise variances receivers transmitters',\n",
       "  0.2975),\n",
       " ('estimated ul channel dl transmission', 0.2868),\n",
       " ('estimate channel matrix h', 0.2855),\n",
       " ('design spatial processing matrices transmitter', 0.2704),\n",
       " ('describe antenna configuration system', 0.2639),\n",
       " ('obtaining robust communication', 0.2618),\n",
       " ('spatially multiplexed data streams', 0.2417),\n",
       " ('spatially multiplexed data streams kth user', 0.2392),\n",
       " ('denotes transmit vector correlation matrix', 0.239),\n",
       " ('receive matrix uts', 0.2387),\n",
       " ('receive matrices rn', 0.2365),\n",
       " ('transmit power bs', 0.2358),\n",
       " ('supports single communication pair', 0.2358),\n",
       " ('provide reliable transmission', 0.2275),\n",
       " ('channel estimation errors', 0.2257),\n",
       " ('multi - user', 0.2187),\n",
       " ('omit influence additive noise input rn antenna', 0.2056),\n",
       " ('using 4qam modulation', 0.195),\n",
       " ('denotes additive noise correlation matrix', 0.1903),\n",
       " ('design optimum matrix f r c', 0.1825),\n",
       " ('receive matrix', 0.1802),\n",
       " ('assuming large path loss', 0.1774),\n",
       " ('simultaneously using space', 0.1769),\n",
       " ('serving users', 0.1766),\n",
       " ('receive matrix rn', 0.1727),\n",
       " ('feedback noise variance', 0.1697),\n",
       " ('update matrix f', 0.1666),\n",
       " ('stacked vector', 0.1664),\n",
       " ('precoding matrix', 0.1648),\n",
       " ('using following optimization', 0.163),\n",
       " ('define singular value decomposition', 0.1625),\n",
       " ('precoding matrix rn', 0.1621),\n",
       " ('investigate different power allocation algorithms', 0.156),\n",
       " ('reduce distances individual nodes', 0.154),\n",
       " ('precoding matrix f.', 0.1515),\n",
       " ('using matrices f r', 0.149),\n",
       " ('define svd h 2,k', 0.1459),\n",
       " ('mean complex gaussian random variables variance', 0.1448),\n",
       " ('received power kth ut', 0.1395),\n",
       " ('reducing overlap row spaces', 0.1391),\n",
       " ('precoding matrix f', 0.138),\n",
       " ('using quadrature amplitude modulation', 0.1328),\n",
       " ('define svd h 2,k f r', 0.1313),\n",
       " ('optimize kth ut performance', 0.1291),\n",
       " ('proposed system', 0.1265),\n",
       " ('perform resource allocation', 0.126),\n",
       " ('r ∈ r r×r', 0.1241),\n",
       " ('precoding matrix bs', 0.1204),\n",
       " ('denotes identity matrix', 0.1189),\n",
       " ('following equation', 0.1176),\n",
       " ('represents mui', 0.1176),\n",
       " ('proposed algorithm performance system', 0.1119),\n",
       " ('use qr decomposition combination dpc', 0.1119),\n",
       " ('estimates h', 0.1108),\n",
       " ('diagonal positive definite power', 0.1068),\n",
       " ('estimate h 2,k f r k', 0.1053),\n",
       " ('regularized block', 0.1025),\n",
       " ('estimate h', 0.1022),\n",
       " ('compare bit error rate', 0.0998),\n",
       " ('compare performance rbd af algorithm', 0.0979),\n",
       " ('minimize co', 0.0956),\n",
       " ('denotes kth ut', 0.094),\n",
       " ('negligible performance loss', 0.0926),\n",
       " ('denotes number', 0.0885),\n",
       " ('present results simulations', 0.0884)]"
      ]
     },
     "execution_count": 106,
     "metadata": {},
     "output_type": "execute_result"
    }
   ],
   "source": [
    "timelogger.log('extract 100 keywords START')\n",
    "initial_keywords_top100 = keybert_model.extract_keywords(  # TODO: consider using this with candidates=[...] for the next round\n",
    "    docs=texts_only_list,\n",
    "    top_n=100,\n",
    "    vectorizer=pos_vectorizer\n",
    ")\n",
    "initial_keyword_embeddings = st_embed_model.encode([kw[0] for kw in initial_keywords_top100])\n",
    "timelogger.log('extract 100 keywords END')\n",
    "initial_keywords_top100"
   ]
  },
  {
   "cell_type": "code",
   "execution_count": 107,
   "id": "727e8e90-5504-4272-a8f2-02217f9628c0",
   "metadata": {
    "execution": {
     "iopub.execute_input": "2025-09-10T20:58:04.857955Z",
     "iopub.status.busy": "2025-09-10T20:58:04.857651Z",
     "iopub.status.idle": "2025-09-10T20:58:04.869215Z",
     "shell.execute_reply": "2025-09-10T20:58:04.868444Z",
     "shell.execute_reply.started": "2025-09-10T20:58:04.857933Z"
    }
   },
   "outputs": [
    {
     "data": {
      "text/plain": [
       "['present results simulations',\n",
       " 'estimates h',\n",
       " 'proposed algorithm performance system',\n",
       " 'perform resource allocation',\n",
       " 'proposed system',\n",
       " 'estimate h',\n",
       " 'compare performance rbd af algorithm',\n",
       " 'received power kth ut',\n",
       " 'compare bit error rate',\n",
       " 'describe relaying system',\n",
       " 'estimate h 2,k f r k',\n",
       " 'denotes number',\n",
       " 'investigate different power allocation algorithms',\n",
       " 'using following optimization',\n",
       " 'using matrices f r',\n",
       " 'design mimo',\n",
       " 'provide information additive noise variances receivers transmitters',\n",
       " 'describe antenna configuration system',\n",
       " 'perform mimo',\n",
       " 'design mu mimo',\n",
       " 'optimize kth ut performance',\n",
       " 'denotes kth ut',\n",
       " 'channel estimation errors',\n",
       " 'negligible performance loss',\n",
       " 'provide reliable transmission',\n",
       " 'estimate effective mimo matrix',\n",
       " 'serving users',\n",
       " 'multi - user',\n",
       " 'receive matrices rn',\n",
       " 'consider mu mimo dl system',\n",
       " 'receive matrix rn',\n",
       " 'minimizes mu interference',\n",
       " 'kth ut mimo',\n",
       " 'minimize mu interference',\n",
       " 'denotes additive noise correlation matrix',\n",
       " 'design optimum matrix f r c',\n",
       " 'design mimo processing matrices bs',\n",
       " 'represents mui',\n",
       " 'use qr decomposition combination dpc',\n",
       " 'receive matrix',\n",
       " 'transmit power bs',\n",
       " 'feedback noise variance',\n",
       " 'assuming mimo',\n",
       " 'receive matrix uts',\n",
       " 'obtaining robust communication',\n",
       " 'following equation',\n",
       " 'simultaneously using space',\n",
       " 'factor mu mimo',\n",
       " 'spatially multiplexed data streams kth user',\n",
       " 'precoding matrix rn',\n",
       " 'precoding matrix bs',\n",
       " 'rn mimo',\n",
       " 'includes mimo processing bs',\n",
       " 'using mimo channel matrix bs rn',\n",
       " 'r ∈ r r×r',\n",
       " 'assuming large path loss',\n",
       " 'estimated ul channel dl transmission',\n",
       " 'mean complex gaussian random variables variance',\n",
       " 'using mimo channel matrices bs rn',\n",
       " 'derive mimo processing matrices bs',\n",
       " 'denotes identity matrix',\n",
       " 'combined effective channel matrix rn uts',\n",
       " 'define singular value decomposition',\n",
       " 'define svd h 2,k f r',\n",
       " 'estimate channel matrix h',\n",
       " 'function mimo processing matrix',\n",
       " 'resulting mimo processing matrices',\n",
       " 'supports single communication pair',\n",
       " 'derived mimo processing matrices bs',\n",
       " 'design spatial processing matrices transmitter',\n",
       " 'stacked vector',\n",
       " 'precoding matrix',\n",
       " 'precoding matrix relay',\n",
       " 'spatially multiplexed data streams',\n",
       " 'minimize co',\n",
       " 'minimize mui kth ut co - channel uts',\n",
       " 'diagonal positive definite power',\n",
       " 'regarding total number antennas uts',\n",
       " 'receive antennas kth ut',\n",
       " 'define svd h 2,k',\n",
       " 'precoding matrix f.',\n",
       " 'denotes transmit vector correlation matrix',\n",
       " 'find optimum mimo processing matrices',\n",
       " 'using 4qam modulation',\n",
       " 'limitations mimo processing matrices',\n",
       " 'regularized block',\n",
       " 'assuming mu mimo channel',\n",
       " 'derive mimo processing matrices',\n",
       " 'precoding matrix f',\n",
       " 'update matrix f',\n",
       " 'reducing overlap row spaces',\n",
       " 'using quadrature amplitude modulation',\n",
       " 'jointly optimizes mimo processing matrices bs',\n",
       " 'simultaneously improve channel conditions',\n",
       " 'extend mimo',\n",
       " 'reduce distances individual nodes',\n",
       " 'transmit vector correlation matrix',\n",
       " 'multiple antennas',\n",
       " 'fading channels',\n",
       " 'omit influence additive noise input rn antenna']"
      ]
     },
     "execution_count": 107,
     "metadata": {},
     "output_type": "execute_result"
    }
   ],
   "source": [
    "from sklearn.metrics.pairwise import cosine_similarity, euclidean_distances\n",
    "\n",
    "top_n = 10\n",
    "pairwise_distances = euclidean_distances(initial_keyword_embeddings, generic_methodology_phrase_embeddings)\n",
    "closest_distances_per_keyword = [[index, min(ds)] for index, ds in enumerate(pairwise_distances)]\n",
    "sorted_closest_distances_per_keyword = sorted(closest_distances_per_keyword, key=lambda x: x[1])\n",
    "keywords = [initial_keywords_top100[index][0] for (index, distance) in sorted_closest_distances_per_keyword]\n",
    "keywords"
   ]
  },
  {
   "cell_type": "code",
   "execution_count": 70,
   "id": "08ee2604-a831-44ef-a74a-01dc46c43d8c",
   "metadata": {
    "execution": {
     "iopub.execute_input": "2025-09-10T20:06:25.133187Z",
     "iopub.status.busy": "2025-09-10T20:06:25.132749Z",
     "iopub.status.idle": "2025-09-10T20:06:25.139951Z",
     "shell.execute_reply": "2025-09-10T20:06:25.138961Z",
     "shell.execute_reply.started": "2025-09-10T20:06:25.133147Z"
    }
   },
   "outputs": [
    {
     "data": {
      "text/plain": [
       "[[0, 1.4426476], [1, 1.4687278]]"
      ]
     },
     "execution_count": 70,
     "metadata": {},
     "output_type": "execute_result"
    }
   ],
   "source": [
    "closest_distances_per_keyword"
   ]
  },
  {
   "cell_type": "code",
   "execution_count": 63,
   "id": "5d349f34-0ac0-4899-849b-e15940bd8f04",
   "metadata": {
    "execution": {
     "iopub.execute_input": "2025-09-10T19:59:54.248592Z",
     "iopub.status.busy": "2025-09-10T19:59:54.247977Z",
     "iopub.status.idle": "2025-09-10T19:59:54.254548Z",
     "shell.execute_reply": "2025-09-10T19:59:54.253531Z",
     "shell.execute_reply.started": "2025-09-10T19:59:54.248561Z"
    }
   },
   "outputs": [
    {
     "data": {
      "text/plain": [
       "array([[1.4426476, 1.4526964],\n",
       "       [1.4687278, 1.4915861]], dtype=float32)"
      ]
     },
     "execution_count": 63,
     "metadata": {},
     "output_type": "execute_result"
    }
   ],
   "source": [
    "distances"
   ]
  },
  {
   "cell_type": "code",
   "execution_count": null,
   "id": "d65862d2-feff-4b50-945e-2e4c87eb013e",
   "metadata": {},
   "outputs": [],
   "source": []
  }
 ],
 "metadata": {
  "kernelspec": {
   "display_name": "python_311_2",
   "language": "python",
   "name": "python_311_2"
  },
  "language_info": {
   "codemirror_mode": {
    "name": "ipython",
    "version": 3
   },
   "file_extension": ".py",
   "mimetype": "text/x-python",
   "name": "python",
   "nbconvert_exporter": "python",
   "pygments_lexer": "ipython3",
   "version": "3.11.13"
  }
 },
 "nbformat": 4,
 "nbformat_minor": 5
}
