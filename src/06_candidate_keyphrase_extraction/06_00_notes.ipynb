{
 "cells": [
  {
   "cell_type": "code",
   "execution_count": null,
   "id": "f514b2d9-7c94-49fd-8cd1-b14489f2ef78",
   "metadata": {},
   "outputs": [],
   "source": [
    "\"\"\"\n",
    "\n",
    "IN: In \"CSO Classifier 3.0: a scalable unsupervised method for classifying documents in terms of \n",
    "research topics\" (Salatino et al., 2022), the authors present an unsupervised model for \n",
    "research paper classification, using the predefined taxonomy of Computer Science Ontology \n",
    "(CSO).\n",
    "OUT: Fixed tagging system, no tagging for anything methodology-related \n",
    "\n",
    "\n",
    "\n",
    "\n",
    "\"\"\""
   ]
  }
 ],
 "metadata": {
  "kernelspec": {
   "display_name": "python_311_2",
   "language": "python",
   "name": "python_311_2"
  },
  "language_info": {
   "codemirror_mode": {
    "name": "ipython",
    "version": 3
   },
   "file_extension": ".py",
   "mimetype": "text/x-python",
   "name": "python",
   "nbconvert_exporter": "python",
   "pygments_lexer": "ipython3",
   "version": "3.11.13"
  }
 },
 "nbformat": 4,
 "nbformat_minor": 5
}
