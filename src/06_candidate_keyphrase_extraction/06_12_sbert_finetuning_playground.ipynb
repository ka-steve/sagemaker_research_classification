{
 "cells": [
  {
   "cell_type": "code",
   "execution_count": 1,
   "id": "f4f121b4-b7c9-45dc-838d-fbeca2010c68",
   "metadata": {
    "execution": {
     "iopub.execute_input": "2025-09-12T19:56:08.156260Z",
     "iopub.status.busy": "2025-09-12T19:56:08.156004Z",
     "iopub.status.idle": "2025-09-12T19:56:13.665674Z",
     "shell.execute_reply": "2025-09-12T19:56:13.664775Z",
     "shell.execute_reply.started": "2025-09-12T19:56:08.156240Z"
    }
   },
   "outputs": [
    {
     "name": "stdout",
     "output_type": "stream",
     "text": [
      "sagemaker.config INFO - Not applying SDK defaults from location: /etc/xdg/sagemaker/config.yaml\n",
      "sagemaker.config INFO - Not applying SDK defaults from location: /home/sagemaker-user/.config/sagemaker/config.yaml\n",
      "config.py loaded: v0.1\n",
      "utils.py loaded: v0.2.12\n",
      "utils.py loaded: v0.2.12\n",
      "config.py loaded: v0.1\n"
     ]
    }
   ],
   "source": [
    "import requests\n",
    "import boto3\n",
    "import json\n",
    "import os\n",
    "import sys\n",
    "import argparse\n",
    "import importlib\n",
    "import transformers\n",
    "import torch\n",
    "import pathlib\n",
    "import smart_open\n",
    "import awswrangler as wr\n",
    "from IPython.display import display\n",
    "from sagemaker.huggingface.processing import HuggingFaceProcessor\n",
    "from sagemaker.sklearn.processing import SKLearnProcessor\n",
    "from sagemaker.processing import FrameworkProcessor\n",
    "from sagemaker.sklearn.estimator import SKLearn\n",
    "from sagemaker.workflow.steps import ProcessingStep\n",
    "from sagemaker.workflow.pipeline_context import PipelineSession\n",
    "from sagemaker.processing import ProcessingInput, ProcessingOutput\n",
    "from sagemaker.session import get_execution_role\n",
    "\n",
    "\n",
    "# Adding ../01_modules or ./01_modules to the system path so that we can load modules from \n",
    "# there as well\n",
    "if '__file__' in globals():\n",
    "    script_dir = pathlib.Path(__file__).parent.resolve()\n",
    "else:\n",
    "    script_dir = pathlib.Path().absolute()\n",
    "modules_path_in_dev = os.path.abspath(os.path.join(script_dir, '..', '01_modules'))\n",
    "modules_path_in_prod = os.path.abspath(os.path.join(script_dir, '01_modules'))\n",
    "if os.path.exists(modules_path_in_dev):\n",
    "    sys.path.append(modules_path_in_dev)\n",
    "if os.path.exists(modules_path_in_prod):\n",
    "    sys.path.append(modules_path_in_prod)\n",
    "\n",
    "\n",
    "# # Jupyter only reads a local module the first time after \n",
    "# # kernel start. Re-running a cell with \n",
    "# # \"from mymodulename import *\" would not change\n",
    "# # anything, even if the imported module has since changed.\n",
    "# # As a workaround, we need to directly load the module, \n",
    "# # use importlib.reload to reload it and then import * \n",
    "import utils\n",
    "_ = importlib.reload(utils)\n",
    "import config\n",
    "_ = importlib.reload(config)"
   ]
  },
  {
   "cell_type": "code",
   "execution_count": 15,
   "id": "96797edf-2883-4cf8-9da6-2ae44c797d56",
   "metadata": {
    "execution": {
     "iopub.execute_input": "2025-09-12T22:57:02.189088Z",
     "iopub.status.busy": "2025-09-12T22:57:02.188646Z",
     "iopub.status.idle": "2025-09-12T22:57:11.762676Z",
     "shell.execute_reply": "2025-09-12T22:57:11.761757Z",
     "shell.execute_reply.started": "2025-09-12T22:57:02.189052Z"
    }
   },
   "outputs": [
    {
     "data": {
      "text/plain": [
       "'As was noted earlier, we formed our dataset utilizing the existing relations present in SNOMED CT. T'"
      ]
     },
     "execution_count": 15,
     "metadata": {},
     "output_type": "execute_result"
    }
   ],
   "source": [
    "database_name = '02_stg'\n",
    "table_name = 'stg_filtered_work_chapters_methodology_single'\n",
    "id_columns = ['work_id']\n",
    "text_column_name = 'chapter_text'\n",
    "text_batch_size = 100000\n",
    "\n",
    "utils.pd_set_options(cols=100)\n",
    "id_column_names = ', '.join(id_columns)\n",
    "# TODO: pagination\n",
    "texts_df = wr.athena.read_sql_query(f\"\"\"\n",
    "    SELECT\n",
    "        {id_column_names}, {text_column_name} \n",
    "    FROM\n",
    "        \"{database_name}\".{table_name}\n",
    "    ORDER BY\n",
    "        {id_column_names}\n",
    "    LIMIT\n",
    "        {text_batch_size}\n",
    "    \"\"\",\n",
    "    database_name\n",
    ")\n",
    "texts_only_list = texts_df[text_column_name].tolist()\n",
    "texts_only_list[0][0:100]"
   ]
  },
  {
   "cell_type": "code",
   "execution_count": 18,
   "id": "486351f7-d367-4059-b915-e9668441f08f",
   "metadata": {
    "execution": {
     "iopub.execute_input": "2025-09-13T00:11:09.322041Z",
     "iopub.status.busy": "2025-09-13T00:11:09.321634Z",
     "iopub.status.idle": "2025-09-13T00:40:27.407552Z",
     "shell.execute_reply": "2025-09-13T00:40:27.406731Z",
     "shell.execute_reply.started": "2025-09-13T00:11:09.322015Z"
    }
   },
   "outputs": [
    {
     "name": "stdout",
     "output_type": "stream",
     "text": [
      " :: :: TIMELOGGER STARTED :: | since_start: 0.00 seconds | since_last: 0.00 seconds :: \n",
      " :: BERTopic training done | since_start: 29.0 minutes, 18.07 seconds | since_last: 29.0 minutes, 18.07 seconds :: \n"
     ]
    },
    {
     "data": {
      "text/html": [
       "<div>\n",
       "<style scoped>\n",
       "    .dataframe tbody tr th:only-of-type {\n",
       "        vertical-align: middle;\n",
       "    }\n",
       "\n",
       "    .dataframe tbody tr th {\n",
       "        vertical-align: top;\n",
       "    }\n",
       "\n",
       "    .dataframe thead th {\n",
       "        text-align: right;\n",
       "    }\n",
       "</style>\n",
       "<table border=\"1\" class=\"dataframe\">\n",
       "  <thead>\n",
       "    <tr style=\"text-align: right;\">\n",
       "      <th></th>\n",
       "      <th>Topic</th>\n",
       "      <th>Count</th>\n",
       "      <th>Name</th>\n",
       "      <th>Representation</th>\n",
       "      <th>Representative_Docs</th>\n",
       "    </tr>\n",
       "  </thead>\n",
       "  <tbody>\n",
       "    <tr>\n",
       "      <th>0</th>\n",
       "      <td>-1</td>\n",
       "      <td>13469</td>\n",
       "      <td>-1_data_used_research_model</td>\n",
       "      <td>[data, used, research, model, study, based, using, learning, analysis, information]</td>\n",
       "      <td>[Fig. 1 is the conceptual framework or architecture of the data-driven support and decision mode...</td>\n",
       "    </tr>\n",
       "    <tr>\n",
       "      <th>1</th>\n",
       "      <td>0</td>\n",
       "      <td>14142</td>\n",
       "      <td>0_data_model_used_using</td>\n",
       "      <td>[data, model, used, using, based, proposed, section, network, figure, features]</td>\n",
       "      <td>[The CNN model used for the experiment is a custom model with three convolutional layers with ma...</td>\n",
       "    </tr>\n",
       "    <tr>\n",
       "      <th>2</th>\n",
       "      <td>1</td>\n",
       "      <td>4357</td>\n",
       "      <td>1_research_study_data_students</td>\n",
       "      <td>[research, study, data, students, used, analysis, design, using, based, development]</td>\n",
       "      <td>[This chapter describes the research method used in this study. It includes the research design,...</td>\n",
       "    </tr>\n",
       "    <tr>\n",
       "      <th>3</th>\n",
       "      <td>2</td>\n",
       "      <td>120</td>\n",
       "      <td>2_quantum_qubit_circuit_state</td>\n",
       "      <td>[quantum, qubit, circuit, state, qubits, circuits, classical, gates, number, states]</td>\n",
       "      <td>[In this paper, we utilized Quantum Neural Network (QNN), a subfield of Quantum Machine Learning...</td>\n",
       "    </tr>\n",
       "  </tbody>\n",
       "</table>\n",
       "</div>"
      ],
      "text/plain": [
       "   Topic  Count                            Name                                                                        Representation                                                                                  Representative_Docs\n",
       "0     -1  13469     -1_data_used_research_model   [data, used, research, model, study, based, using, learning, analysis, information]  [Fig. 1 is the conceptual framework or architecture of the data-driven support and decision mode...\n",
       "1      0  14142         0_data_model_used_using       [data, model, used, using, based, proposed, section, network, figure, features]  [The CNN model used for the experiment is a custom model with three convolutional layers with ma...\n",
       "2      1   4357  1_research_study_data_students  [research, study, data, students, used, analysis, design, using, based, development]  [This chapter describes the research method used in this study. It includes the research design,...\n",
       "3      2    120   2_quantum_qubit_circuit_state  [quantum, qubit, circuit, state, qubits, circuits, classical, gates, number, states]  [In this paper, we utilized Quantum Neural Network (QNN), a subfield of Quantum Machine Learning..."
      ]
     },
     "execution_count": 18,
     "metadata": {},
     "output_type": "execute_result"
    }
   ],
   "source": [
    "timelogger = utils.TimeLogger()\n",
    "from bertopic import BERTopic\n",
    "\n",
    "from sentence_transformers import SentenceTransformer\n",
    "embedding_model = SentenceTransformer('all-MiniLM-L6-v2')\n",
    "\n",
    "from sklearn.feature_extraction.text import CountVectorizer\n",
    "vectorizer_model = CountVectorizer(stop_words='english')\n",
    "\n",
    "# from transformers.pipelines import pipeline\n",
    "# embedding_model = pipeline('feature-extraction', model='distilbert-base-cased')\n",
    "topic_model = BERTopic(\n",
    "    vectorizer_model=vectorizer_model,\n",
    "    embedding_model=embedding_model,\n",
    "    nr_topics=4\n",
    ")\n",
    "topics, probs = topic_model.fit_transform(texts_only_list)\n",
    "timelogger.log(f'BERTopic training done')\n",
    "topic_model.get_topic_info()"
   ]
  },
  {
   "cell_type": "code",
   "execution_count": 3,
   "id": "220dd3a8-0b31-45f5-94a2-a684c89b355d",
   "metadata": {
    "execution": {
     "iopub.execute_input": "2025-09-12T20:42:00.738999Z",
     "iopub.status.busy": "2025-09-12T20:42:00.738725Z",
     "iopub.status.idle": "2025-09-12T20:42:02.143921Z",
     "shell.execute_reply": "2025-09-12T20:42:02.143015Z",
     "shell.execute_reply.started": "2025-09-12T20:42:00.738979Z"
    }
   },
   "outputs": [
    {
     "name": "stdout",
     "output_type": "stream",
     "text": [
      "(3, 768)\n"
     ]
    },
    {
     "data": {
      "text/plain": [
       "tensor([[1.0000, 0.6699, 0.1119],\n",
       "        [0.6699, 1.0000, 0.0798],\n",
       "        [0.1119, 0.0798, 1.0000]])"
      ]
     },
     "execution_count": 3,
     "metadata": {},
     "output_type": "execute_result"
    }
   ],
   "source": [
    "from sentence_transformers import SentenceTransformer\n",
    "\n",
    "# 1. Load a pretrained Sentence Transformer model\n",
    "model = SentenceTransformer('sentence-transformers/all-distilroberta-v1')\n",
    "\n",
    "# The sentences to encode\n",
    "sentences = [\n",
    "    \"The weather is lovely today.\",\n",
    "    \"It's so sunny outside!\",\n",
    "    \"He drove to the stadium.\",\n",
    "]\n",
    "\n",
    "# 2. Calculate embeddings by calling model.encode()\n",
    "embeddings = model.encode(sentences)\n",
    "print(embeddings.shape)\n",
    "# [3, 384]\n",
    "\n",
    "# 3. Calculate the embedding similarities\n",
    "similarities = model.similarity(embeddings, embeddings)\n",
    "similarities"
   ]
  },
  {
   "cell_type": "code",
   "execution_count": 39,
   "id": "2b7767a8-952f-47c4-b400-6ca3bf32468a",
   "metadata": {
    "execution": {
     "iopub.execute_input": "2025-09-10T19:43:40.747640Z",
     "iopub.status.busy": "2025-09-10T19:43:40.747334Z",
     "iopub.status.idle": "2025-09-10T19:43:44.667410Z",
     "shell.execute_reply": "2025-09-10T19:43:44.666682Z",
     "shell.execute_reply.started": "2025-09-10T19:43:40.747614Z"
    }
   },
   "outputs": [
    {
     "name": "stdout",
     "output_type": "stream",
     "text": [
      "Collecting en-core-web-sm==3.8.0\n",
      "  Downloading https://github.com/explosion/spacy-models/releases/download/en_core_web_sm-3.8.0/en_core_web_sm-3.8.0-py3-none-any.whl (12.8 MB)\n",
      "\u001b[2K     \u001b[90m━━━━━━━━━━━━━━━━━━━━━━━━━━━━━━━━━━━━━━━━\u001b[0m \u001b[32m12.8/12.8 MB\u001b[0m \u001b[31m22.6 MB/s\u001b[0m  \u001b[33m0:00:00\u001b[0meta \u001b[36m0:00:01\u001b[0m\n",
      "\u001b[?25h\u001b[38;5;2m✔ Download and installation successful\u001b[0m\n",
      "You can now load the package via spacy.load('en_core_web_sm')\n",
      "\u001b[38;5;3m⚠ Restart to reload dependencies\u001b[0m\n",
      "If you are in a Jupyter or Colab notebook, you may need to restart Python in\n",
      "order to load all the package's dependencies. You can do this by selecting the\n",
      "'Restart kernel' or 'Restart runtime' option.\n",
      " :: :: TIMELOGGER STARTED :: | since_start: 0.00 seconds | since_last: 0.00 seconds :: \n"
     ]
    },
    {
     "data": {
      "text/plain": [
       "'\\n@conference{schopf_etal_kdir22,\\nauthor={Tim Schopf and Simon Klimek and Florian Matthes},\\ntitle={PatternRank: Leveraging Pretrained Language Models and Part of Speech for Unsupervised Keyphrase Extraction},\\nbooktitle={Proceedings of the 14th International Joint Conference on Knowledge Discovery, Knowledge Engineering and Knowledge Management (IC3K 2022) - KDIR},\\nyear={2022},\\npages={243-248},\\npublisher={SciTePress},\\norganization={INSTICC},\\ndoi={10.5220/0011546600003335},\\nisbn={978-989-758-614-9},\\nissn={2184-3228},\\n}\\n'"
      ]
     },
     "execution_count": 39,
     "metadata": {},
     "output_type": "execute_result"
    }
   ],
   "source": [
    "# Source: https://huggingface.co/sentence-transformers/static-retrieval-mrl-en-v1/blob/main/train.py\n",
    "\n",
    "import random\n",
    "import logging\n",
    "from datasets import load_dataset, Dataset, DatasetDict\n",
    "from sentence_transformers import (\n",
    "    SentenceTransformer,\n",
    "    SentenceTransformerTrainer,\n",
    "    SentenceTransformerTrainingArguments,\n",
    "    SentenceTransformerModelCardData,\n",
    ")\n",
    "from sentence_transformers.losses import MatryoshkaLoss, MultipleNegativesRankingLoss\n",
    "from sentence_transformers.training_args import BatchSamplers, MultiDatasetBatchSamplers\n",
    "from sentence_transformers.evaluation import NanoBEIREvaluator\n",
    "from sentence_transformers.models.StaticEmbedding import StaticEmbedding\n",
    "\n",
    "from transformers import AutoTokenizer\n",
    "\n",
    "random.seed(1)\n",
    "\n",
    "\n",
    "def load_train_eval_datasets():\n",
    "        print(\"Loading s2orc dataset...\")\n",
    "        s2orc_dataset = load_dataset(\"sentence-transformers/s2orc\", \"title-abstract-pair\", split=\"train[:1000]\")\n",
    "        s2orc_dataset_dict = s2orc_dataset.train_test_split(test_size=100, seed=1)\n",
    "        s2orc_train_dataset: Dataset = s2orc_dataset_dict[\"train\"]\n",
    "        s2orc_eval_dataset: Dataset = s2orc_dataset_dict[\"test\"]\n",
    "        print(\"Loaded s2orc dataset.\")\n",
    "    \n",
    "        train_dataset = DatasetDict({\n",
    "            \"s2orc\": s2orc_train_dataset,\n",
    "        })\n",
    "        eval_dataset = DatasetDict({\n",
    "            \"s2orc\": s2orc_eval_dataset,\n",
    "        })\n",
    "\n",
    "        train_dataset.save_to_disk(\"datasets/train_dataset\")\n",
    "        eval_dataset.save_to_disk(\"datasets/eval_dataset\")\n",
    "        \n",
    "        # The `train_test_split` calls have put a lot of the datasets in memory, while we want it to just be on disk\n",
    "        # So we're calling quit() here. Running the script again will load the datasets from disk.\n",
    "        quit()\n",
    "    \n",
    "\n",
    "def main():\n",
    "    # 1. Load a model to finetune with 2. (Optional) model card data\n",
    "    static_embedding = StaticEmbedding(AutoTokenizer.from_pretrained(\"google-bert/bert-base-uncased\"), embedding_dim=1024)\n",
    "    model = SentenceTransformer(\n",
    "        modules=[static_embedding],\n",
    "        model_card_data=SentenceTransformerModelCardData(\n",
    "            language=\"en\",\n",
    "            license=\"apache-2.0\",\n",
    "            model_name=\"Static Embeddings with BERT uncased tokenizer finetuned on various datasets\",\n",
    "        ),\n",
    "    )\n",
    "\n",
    "    # 3. Set up training & evaluation datasets - each dataset is trained with MNRL (with MRL)\n",
    "    train_dataset, eval_dataset = load_train_eval_datasets()\n",
    "    print(train_dataset)\n",
    "\n",
    "    # 4. Define a loss function\n",
    "    loss = MultipleNegativesRankingLoss(model)\n",
    "    loss = MatryoshkaLoss(model, loss, matryoshka_dims=[32, 64, 128, 256, 512, 1024])\n",
    "\n",
    "    # 5. (Optional) Specify training arguments\n",
    "    run_name = \"static-retrieval-mrl-en-v1\"\n",
    "    args = SentenceTransformerTrainingArguments(\n",
    "        # Required parameter:\n",
    "        output_dir=f\"models/{run_name}\",\n",
    "        # Optional training parameters:\n",
    "        num_train_epochs=1,\n",
    "        per_device_train_batch_size=2048,\n",
    "        per_device_eval_batch_size=2048,\n",
    "        learning_rate=2e-1,\n",
    "        warmup_ratio=0.1,\n",
    "        fp16=False,  # Set to False if you get an error that your GPU can't run on FP16\n",
    "        bf16=True,  # Set to True if you have a GPU that supports BF16\n",
    "        batch_sampler=BatchSamplers.NO_DUPLICATES,  # MultipleNegativesRankingLoss benefits from no duplicate samples in a batch\n",
    "        multi_dataset_batch_sampler=MultiDatasetBatchSamplers.PROPORTIONAL,\n",
    "        # Optional tracking/debugging parameters:\n",
    "        eval_strategy=\"steps\",\n",
    "        eval_steps=250,\n",
    "        save_strategy=\"steps\",\n",
    "        save_steps=250,\n",
    "        save_total_limit=2,\n",
    "        logging_steps=250,\n",
    "        logging_first_step=True,\n",
    "        run_name=run_name,  # Will be used in W&B if `wandb` is installed\n",
    "    )\n",
    "\n",
    "    # 6. (Optional) Create an evaluator & evaluate the base model\n",
    "    evaluator = NanoBEIREvaluator()\n",
    "    evaluator(model)\n",
    "\n",
    "    # 7. Create a trainer & train\n",
    "    trainer = SentenceTransformerTrainer(\n",
    "        model=model,\n",
    "        args=args,\n",
    "        train_dataset=train_dataset,\n",
    "        eval_dataset=eval_dataset,\n",
    "        loss=loss,\n",
    "        evaluator=evaluator,\n",
    "    )\n",
    "    trainer.train()\n",
    "\n",
    "    # (Optional) Evaluate the trained model on the evaluator after training\n",
    "    evaluator(model)\n",
    "\n",
    "    # 8. Save the trained model\n",
    "    model.save_pretrained(f\"models/{run_name}/final\")\n",
    "\n",
    "    # 9. (Optional) Push it to the Hugging Face Hub\n",
    "    model.push_to_hub(run_name, private=True)\n",
    "\n",
    "if __name__ == \"__main__\":\n",
    "    main()"
   ]
  },
  {
   "cell_type": "code",
   "execution_count": 81,
   "id": "727205d0-5cd6-4724-8177-99f139610b08",
   "metadata": {
    "execution": {
     "iopub.execute_input": "2025-09-10T20:11:54.365788Z",
     "iopub.status.busy": "2025-09-10T20:11:54.365412Z",
     "iopub.status.idle": "2025-09-10T20:12:04.439915Z",
     "shell.execute_reply": "2025-09-10T20:12:04.438743Z",
     "shell.execute_reply.started": "2025-09-10T20:11:54.365756Z"
    },
    "scrolled": true
   },
   "outputs": [
    {
     "data": {
      "text/plain": [
       "'\\nIntroduction\\n\\nAn important part of future wireless communication systems is multi-user (MU) multiple-input multiple-output (MIMO) processing. It has been shown that the linear increase of the MU MIMO systems\\' data rate in the number of transmit antennas can be achieved by serving users simultaneously using the space-division multiple access (SDMA) [1]. In multi-hop-based systems additional, intermediate radio access points, or relay nodes (RNs), are used to reduce distances between individual nodes and simultaneously improve the channel conditions. The relays traditionally have been used to mitigate the effect of path loss for obtaining robust communication. The three-terminal relay channel where a single intermediate node supports a single communication pair was introduced in seminal paper [2]. Different relaying protocols which still serve as a basis for many relaying strategies were proposed later in [3]. The idea of relaying was first applied to wireless fading channels in [4]. Wireless relays are essential to provide reliable transmission, high throughput, and broad coverage for next generation wireless networks. The http://asp.eurasipjournals.com/content/2012/1/186 MU MIMO communication system, where a single source, a base station (BS), communicates with a group of user terminals (UTs) over a single RN was investigated in [11][12][13][14]. The optimum design of non-regenerative relays for MU MIMO relay systems in [11] is based on sum rate optimization. Assuming zero-forcing (ZF) dirty paper coding (DPC) at the BS and linear operations at the RN, it proposes upper and lower bounds on the achievable sum rate, neglecting the direct links from the BS to the UTs. The authors in [12] investigate different power allocation algorithms assuming MIMO processing only at the RN. At the BS, there is no processing or simple eigen decomposition is used. At the RN, the authors use QR decomposition in combination with DPC. In [13], the authors extend the MIMO two-way relaying scheme with XOR precoding to a MU cellular relaying scenario, where a BS communicates with K UTs via a single DF relay. Different UTs are spatially multiplexed using ZF beam forming or ZF DPC. A novel iterative semidefinite programming-based algorithm is used for sum rate maximization. The problem of joint linear optimization of MIMO processing matrices at the RN and at the BS for both downlink (DL) and uplink (UL) in MU non-regenerative MIMO relay systems based on MMSE criterion was investigated in [14]. The resulting MIMO processing matrices are calculated iteratively, the nodes require the knowledge of global CSI, and the solution for one matrix is a function of the other MIMO processing matrix. As a consequence, we either need to have some central node that would use global CSI to find the optimum MIMO processing matrices or the BS and the RN have to exchange the CSI and the respective MIMO processing matrices. The exchange of the information between the BS and the RN means that the part of the system throughput has to be used for this purpose. Because the algorithm is iterative, the computational complexity and the part of the system throughput that is used for the information exchange will be higher. This significantly reduces the practicality of this algorithm. Additionally, the antenna configuration in [14] considers only single antenna UTs and requires that the number of the antenna at the BS, RN and the number of UTs to be equal. In this article, we consider a more general scenario where the number of the antennas at the BS, RN and UTs is not limited.\\n\\nIn our article, we derive MIMO processing matrices at the BS, RN, and the UTs using MMSE criterion, as opposed to the ZF criterion used in [11][12][13]. Unlike [14], we assume that these matrices are designed using only local CSI available at the nodes, and the feedback overhead is used only to provide the information about the additive noise variances at the receivers to the transmitters. The MMSE criterion is motivated by robustness to channel estimation errors and a lower implementation complexity. Moreover, MIMO processing matrices designed using the MMSE criterion do not have the same limitations as the MIMO processing matrices that are designed using the ZF criterion, i.e., that the total number of the antennas at the UTs is less than or equal to the number of the antennas at the BS/RN. The use of only local CSI means that the MIMO processing matrix at the BS is designed using only MIMO channel matrix from BS to RN and the MIMO processing matrix at the RN is designed using MIMO channel matrices from BS to RN and from RN to the UTs. Also, our goal is to design MIMO processing matrices at the BS and at the RN independently from each other. In [11,14], the authors assume that the BS and RN each have multiple antennas, but that the UTs have only a single receive antenna. We do not have any restrictions regarding the total number of the antennas at the UTs.\\n\\nThe article is organized as follows. In section \"System model\", we describe the relaying system. In section \"Design of MIMO processing matrices\", we derive the MIMO processing matrices and in the section \"Numerical results\", we present the results of simulations. A short summary follows in the section \"Conclusions\".\\n\\nSystem model\\n\\nWe consider a MU MIMO DL system, where a BS communicates with K UTs over a single RN. The direct links from BS to the UTs are neglected assuming large path loss. There are M B antennas at the BS, M R antennas at the RN, and M U k receive antennas at the kth UT, k = 1, 2, . . . , K. The total number of antennas at the UTs is\\n\\nWe use the notation M U 1 , . . . , M U K × M R × M B to describe the antenna configuration of the system. A block diagram of such a system is depicted in Figure 1. The channel matrix from RN to the kth UT is denoted as H 2,k ∈ C M U k ×M R , and the combined channel matrix from RN to the UTs is given by\\n\\nChannel matrix from BS to the RN is denoted as H 1 ∈ C M R ×M B . The transmit data vectors x k ∈ C r k ×1 , and the receive data vectors y k ∈ C r k ×1 , k = 1, . . . , K, for the K UTs are stacked in vectors\\n\\nwhere r k denotes the number of spatially multiplexed data streams to the kth user.\\n\\nThe input-output signal model is given by the following equation:\\n\\nwhere\\n\\nis the stacked vector of the zero mean additive white Gaussian noise at the input of the UT antenna arrays, and n 1 ∈ C M R ×1 is the zero mean additive white Gaussian noise vector at the RN antenna array. MIMO precoding matrix at the BS is denoted as F ∈ C M B ×r and MIMO receive matrix at the RN is denoted as D R ∈ C r×M R . The combined MIMO precoding matrix at the RN and the combined MIMO receive matrix at the UTs are denoted as F R ∈ C M R ×r and D ∈ C r×M U , respectively\\n\\nwhere F R k ∈ C M R ×r k is the RN MIMO precoding matrix corresponding to the k-th UT and D k ∈ C r k ×M U k is the kth UT MIMO receive matrix. The parameters β 1 and β 2 are chosen such to set the total transmit power at the BS and at the RN to P T B and P T R , respectively. The total number of spatially multiplexed data streams is denoted as r = K k=1 r k ≤ min(rank(H 1 ), rank(H 2 )) ≤ min(M B , M R , M U ). The elements of vectors x, n 1 , and n 2 are assumed to be statistically independent.\\n\\nChannel estimation\\n\\nWe assume the system operates in time division duplex (TDD) so that we can exploit the estimated UL channel for DL transmission due to the reciprocity principle. In general, on the DL the UTs need only to estimate the effective MIMO matrix that includes the MIMO processing at the BS to perform the MIMO receive processing. However, on the UL, the BS requires both the effective channel matrix and the over-the-air MIMO channel estimates to perform resource allocation and MU MIMO processing. Therefore, on the DL, we would need only one type of pilot symbols for CSI estimation, while on the UL we need two types of pilots that are used for estimation of over-the-air UT\\'s MIMO channel matrices and the effective channel matrices. Different types of pilot symbols used in MIMO channel estimation are described in [15]. In our case, the BS has the estimate of H 1 , RN has the estimates of H 1 F and H 2 and the UT has the estimate of H 2,k F R k .\\n\\nDesign of MIMO processing matrices\\n\\nThe design of MIMO precoding matrix at the BS and MIMO receive matrices at the RN and the UTs will be straightforward as we use only local CSI.\\n\\nAt the RN, we have the estimate of H 1 F, and the optimum MIMO receive matrix D R is obtained from\\n\\nwhere R x = E{xx H } denotes the transmit vector correlation matrix, R n 1 = E{n 1 n H 1 } denotes the additive noise correlation matrix, and (·) H denotes conjugate transpose.\\n\\nLet us define the singular value decomposition (SVD) of the channel matrix H 1 as\\n\\nFrom [16,17], we can assume that the matrix F is in the form:\\n\\nwhere V (r) 1 contains the first r columns of the matrix V 1 and ∈ C r×r . Then, from Equation (5) matrix D R can be also written as\\n\\nwhere R ∈ C r×r and U At the BS, we assume we have the estimate of the channel matrix H 1 . MIMO precoding matrix at the BS is derived from the following optimization:\\n\\nThe MIMO precoding matrix F can be obtained in several ways. Using the approach presented in [16,17], we can substitute the solution for D R from (5) in (9) and then find the optimum F. Another approach is used in [10]. The matrices F and D R are designed iteratively. In this case, we start with some solution for F, then we calculate D R , then use this solution to update the matrix F and so on. Unlike these approaches, in this article, we want to be able to design the spatial processing matrices at the transmitter and at the receiver independently. The transmit MIMO processing matrices are designed assuming only eigenmode decomposition at the receiver, regardless of the actual spatial processing used at the receiver. This is the worst case assumption as only the transmitter would have to deal with the noise and spatial interference. Therefore, the matrix F is designed in a non-iterative way by assuming at the BS that R = I r , where I r ∈ R r×r denotes the identity matrix. At high signal-to-noise ratios (SNRs) this assumption is true. Equation (9) can be written then as\\n\\nwhere (r) 1 ∈ C r×r is a diagonal matrix with r largest singular values of H 1 on the main diagonal and n 1 = U (r) H 1 n 1 . Using the method of Lagrangian multipliers, from Equation (10) it can easily be shown that the optimum F is in the form of\\n\\nFrom Equation (11), it follows that the optimum is diagonal positive definite power-loading matrix. If the elements of the additive noise vector at the input of the RN antenna array are independent and identically distributed (i.i.d.) zero mean complex Gaussian random variables with variance σ 2 n 1 then tr R n 1 = rσ 2 n 1 . Then, we only need to feedback the noise variance σ 2 n 1 from RN to the BS to design the MIMO precoding matrix F.\\n\\nUnder the assumption that the estimate of H 2,k F R k is available at the kth UT, the kth UT MIMO receive matrix is obtained from\\n\\nas\\n\\nwhere R x R ,k = E x R k x H R k denotes the kth UT\\'s RN transmit vector correlation matrix, and R n 2 ,k = E n 2,k n H 2,k denotes the correlation matrix of the additive noise at the input of kth UT antenna array.\\n\\nOur goal is to use as much as possible of the available users\\' spatial resources and at the same time minimize the MU interference (MUI) between different users. Let us consider the MSE at the UTs:\\n\\nwhere\\n\\nand\\n\\nWe can rewrite this equation as\\n\\nMatrix DH 2 F R is a block diagonal matrix with matrices D k H 2,k F R k on the main diagonal. Matrix DH 2 F R is given by\\n\\nand represents the MUI. http://asp.eurasipjournals.com/content/2012/1/186\\n\\nIn order to design the MU MIMO precoding matrix at the RN we have to meet two contradictory requirements. First, we need to minimize the co-channel interference between different users by reducing the overlap of the row spaces spanned by the effective channel matrices of different users. However, to maximize the spatial processing gains we need to use as much as possible of the available UTs\\' channel row vector subspaces. Therefore, we factor the MU MIMO precoding matrix at the RN as\\n\\nwhere the matrix F R a ,k is used to minimize the MUI from the kth UT to the co-channel UTs, matrix F R b ,k is used to maximize the received power of the kth UT and the matrix F R c ,k is used to optimize the kth UT performance according to a specific criterion. Matrix F R a is obtained from Equation (17) using the following optimization:\\n\\nassuming matrices D k , F R b ,k , and F R c ,k are unitary, r k = rank(H 2,k · H 1 ) and without the loss of generality that the elements of vectors x R and n R are i.i.d. zero mean unit variance random variables. These assumptions correspond to the initial requirement that all UTs use as much as possible of the available subspace for communication. Equation (20) can be written as\\n\\nThe joint co-channel UTs channel matrix H 2,k ∈ C (M U −M U k )×M R is defined as\\n\\nLet us define the SVD of H 2,k as\\n\\nthen the non-trivial solution for F R a in Equation (21) is given by [17] \\n\\nassuming matrices D k and F R c ,k are unitary and r k = rank(H 2,k · H 1 ). Again, without the loss of generality we can assume that the elements of vectors x R and n R are i.i.d. zero mean unit variance random variables. Equation (25) is rewritten as\\n\\nThe non-trivial solution of (26) is given by\\n\\nFinally, we can design the optimum matrix F R c ,k according to a specific optimization criterion. In our case, we use the MMSE criterion so the optimum F R c ,k is obtained from\\n\\nassuming the MU MIMO channel is decomposed into the set of parallel SU MIMO channels using matrices F R a ,k . Let us define the SVD of H 2,k F R a ,k F R b ,k as\\n\\nAgain, we can assume in the worst case scenario that at the UTs we perform only eigenmode decomposition of the http://asp.eurasipjournals.com/content/2012/1/186 effective UTs\\' channel matrices, i.e., D k = U (r k ) H R k . We can rewrite Equation (28) as\\n\\nwhere we have assumed that the optimum F R c is in the form [17] \\n\\nand n 2,k = U (r k ) H R k n 2,k . After setting the derivative of (30) to zero, we have\\n\\nFrom Equation (32) we have\\n\\nFinally, the parameter β 2 is chosen such to set the total transmit power at the RN to P T R :\\n\\nNumerical results\\n\\nIn this section, we compare the performance of the proposed algorithm to the performance of a system using hard decision DF relaying and to the optimal joint (OJ) MMSE algorithm proposed in [14] that jointly optimizes MIMO processing matrices at the BS and at the RN. We denote the algorithm proposed in this article as regularized block diagonal AF (RBD AF) as at high SNRs and when the total number of the antennas at the UTs is less than or equal to the number of the antennas at the RN, the combined effective channel matrix from RN to the UTs, H 2 F R , is block diagonal since the UTs transmit only in the null subspace of the co-channel UTs. We assume that the RN is placed half-way between the BS and the UTs, and that the path loss exponent is n = 4. The transmit power at the BS and the transmit power at the RN are equal, P T B = P T R = P T . Additive noise variances at the input of the RN and the UTs\\' antenna arrays are assumed also to be equal, σ 2 n 1 = σ 2 n 2 = σ 2 n . MIMO channel matrices between the BS and RN, and RN and UTs, are modeled as spatially white uncorrelated MIMO channels H w . The elements of the channel matrices are zero mean, unit variance complex Gaussian variables.\\n\\nFirst, in Figure 2, we compare the bit error rate (BER) performance of RBD AF and OJ MMSE under the assumption used in [14] that all UTs are equipped with only one antenna. The system antenna configuration is {1, 1, 1} × 4 × 4, i.e, there are K = 3 UTs in the system equipped with single antenna each, there are M R = 4 antennas at the RN and M B = 4 antennas at the BS. Data are uncoded and mapped using quadrature amplitude modulation (4QAM). As we can see from the figure, the OJ MMSE algorithm that jointly optimizes the MIMO processing matrices at the BS and RN has only slight advantage over RBD AF at low SNRs. At high SNRs the difference between RBD AF and OJ MMSE is negligible.\\n\\nHowever, if we consider UTs equipped with multiple antennas then the RBD AF algorithm gains significantly over OJ MMSE. In Figure 3 is transmitting one data stream per UT using the 4QAM modulation. In order to keep the comparison fair, in case of OJ MMSE we have two data streams per UT modulated using binary phase shift keying (BPSK). The RBD AF algorithm extracts higher array and diversity gains than OJ MMSE.\\n\\nIn Figure 4, we compare the performance of RBD AF algorithm and a system using hard decision DF relaying in an overloaded system, i.e., the system where the total number of antennas at the UTs is greater than the number of antennas at the RN. In case of DF system we use again the RBD algorithm to design the MIMO precoding matrix at the RN. However, we omit the influence of the additive noise at the input of the RN antenna array. The DF system has slightly higher spatial processing gains, and an SNR gain over RBD AF of around 3dB at BER = 10 −3 .\\n\\nConclusions\\n\\nIn this article, we investigated a two-hop communication from BS to the UTs over one RN. We derived the MIMO processing matrices at the BS, RN and the UTs using only local CSI. In order to be able to design the spatial processing matrices at the transmitter and the receiver independently, the transmit MIMO processing matrices are designed assuming only eigenmode decomposition at the receiver, regardless of the actual spatial processing used at the receiver. This is the worst case assumption as only the transmitter would have to deal with the noise and spatial interference. The emphasis is on the design of the MIMO precoding matrix at the relay as it has to process noise and interference on the first and the second hop at the same time. The MU MIMO precoding matrix at the relay is designed using a criterion which minimizes the MU interference while at the same time tries to exploit as much as possible of the available UT spatial processing gains. In our simulations, we have shown that the proposed system has the negligible performance loss compared to the system that iteratively and jointly optimizes MIMO processing matrices at the BS and at the RN, and around 3 dB SNR loss at the BER of interest compared to the system that is using hard decision DF relaying.\\n\\n\\n\\n\\n\\n\\n'"
      ]
     },
     "execution_count": 81,
     "metadata": {},
     "output_type": "execute_result"
    }
   ],
   "source": [
    "database_name = '03_core'\n",
    "table_name = 'unified_works'\n",
    "id_columns = ['id']\n",
    "text_column_name = 'fulltext'\n",
    "text_batch_size = 1\n",
    "\n",
    "utils.pd_set_options(cols=100)\n",
    "id_column_names = ', '.join(id_columns)\n",
    "# TODO: pagination\n",
    "texts_df = wr.athena.read_sql_query(f\"\"\"\n",
    "    SELECT\n",
    "        {id_column_names}, {text_column_name} \n",
    "    FROM\n",
    "        \"{database_name}\".{table_name}\n",
    "    ORDER BY\n",
    "        {id_column_names}\n",
    "    LIMIT\n",
    "        {text_batch_size}\n",
    "    \"\"\",\n",
    "    database_name\n",
    ")\n",
    "texts_only_list = texts_df[text_column_name].tolist()\n",
    "texts_only_list[0]"
   ]
  },
  {
   "cell_type": "code",
   "execution_count": 109,
   "id": "5fa01da2-0cac-418c-af40-395e10567d4e",
   "metadata": {
    "execution": {
     "iopub.execute_input": "2025-09-10T21:52:10.945424Z",
     "iopub.status.busy": "2025-09-10T21:52:10.945035Z",
     "iopub.status.idle": "2025-09-10T21:52:18.763233Z",
     "shell.execute_reply": "2025-09-10T21:52:18.762015Z",
     "shell.execute_reply.started": "2025-09-10T21:52:10.945394Z"
    }
   },
   "outputs": [
    {
     "data": {
      "application/vnd.jupyter.widget-view+json": {
       "model_id": "b3b7b3dfa9dc433a882230b111ab5aff",
       "version_major": 2,
       "version_minor": 0
      },
      "text/plain": [
       "modules.json:   0%|          | 0.00/349 [00:00<?, ?B/s]"
      ]
     },
     "metadata": {},
     "output_type": "display_data"
    },
    {
     "data": {
      "application/vnd.jupyter.widget-view+json": {
       "model_id": "2e18b5a7c5b244d2860f0534e7621878",
       "version_major": 2,
       "version_minor": 0
      },
      "text/plain": [
       "config_sentence_transformers.json:   0%|          | 0.00/116 [00:00<?, ?B/s]"
      ]
     },
     "metadata": {},
     "output_type": "display_data"
    },
    {
     "data": {
      "application/vnd.jupyter.widget-view+json": {
       "model_id": "5102dd4f764b4bbfb657eb69b073073e",
       "version_major": 2,
       "version_minor": 0
      },
      "text/plain": [
       "README.md: 0.00B [00:00, ?B/s]"
      ]
     },
     "metadata": {},
     "output_type": "display_data"
    },
    {
     "data": {
      "application/vnd.jupyter.widget-view+json": {
       "model_id": "794a346da0c54d1380432af611e2da07",
       "version_major": 2,
       "version_minor": 0
      },
      "text/plain": [
       "sentence_bert_config.json:   0%|          | 0.00/53.0 [00:00<?, ?B/s]"
      ]
     },
     "metadata": {},
     "output_type": "display_data"
    },
    {
     "data": {
      "application/vnd.jupyter.widget-view+json": {
       "model_id": "68530cb926db444e985c5dff0800800a",
       "version_major": 2,
       "version_minor": 0
      },
      "text/plain": [
       "config.json:   0%|          | 0.00/653 [00:00<?, ?B/s]"
      ]
     },
     "metadata": {},
     "output_type": "display_data"
    },
    {
     "data": {
      "application/vnd.jupyter.widget-view+json": {
       "model_id": "312dbfde5f724e169135f9bb9063c3ce",
       "version_major": 2,
       "version_minor": 0
      },
      "text/plain": [
       "model.safetensors:   0%|          | 0.00/328M [00:00<?, ?B/s]"
      ]
     },
     "metadata": {},
     "output_type": "display_data"
    },
    {
     "data": {
      "application/vnd.jupyter.widget-view+json": {
       "model_id": "64d170c8cc4143b6b5505319f2d6737e",
       "version_major": 2,
       "version_minor": 0
      },
      "text/plain": [
       "tokenizer_config.json:   0%|          | 0.00/333 [00:00<?, ?B/s]"
      ]
     },
     "metadata": {},
     "output_type": "display_data"
    },
    {
     "data": {
      "application/vnd.jupyter.widget-view+json": {
       "model_id": "bb25fe6c23fb4f19974c862fce400da5",
       "version_major": 2,
       "version_minor": 0
      },
      "text/plain": [
       "vocab.json: 0.00B [00:00, ?B/s]"
      ]
     },
     "metadata": {},
     "output_type": "display_data"
    },
    {
     "data": {
      "application/vnd.jupyter.widget-view+json": {
       "model_id": "ba74280018c74e79829ee0c5597584cb",
       "version_major": 2,
       "version_minor": 0
      },
      "text/plain": [
       "merges.txt: 0.00B [00:00, ?B/s]"
      ]
     },
     "metadata": {},
     "output_type": "display_data"
    },
    {
     "data": {
      "application/vnd.jupyter.widget-view+json": {
       "model_id": "7eb95c4cde1d40e383e8fb43a22fb259",
       "version_major": 2,
       "version_minor": 0
      },
      "text/plain": [
       "tokenizer.json: 0.00B [00:00, ?B/s]"
      ]
     },
     "metadata": {},
     "output_type": "display_data"
    },
    {
     "data": {
      "application/vnd.jupyter.widget-view+json": {
       "model_id": "0ba2b2c84d0f44cc912406fc9f063529",
       "version_major": 2,
       "version_minor": 0
      },
      "text/plain": [
       "special_tokens_map.json:   0%|          | 0.00/239 [00:00<?, ?B/s]"
      ]
     },
     "metadata": {},
     "output_type": "display_data"
    },
    {
     "data": {
      "application/vnd.jupyter.widget-view+json": {
       "model_id": "e2e7d19b356f49c1aa756d6f8be14e67",
       "version_major": 2,
       "version_minor": 0
      },
      "text/plain": [
       "config.json:   0%|          | 0.00/190 [00:00<?, ?B/s]"
      ]
     },
     "metadata": {},
     "output_type": "display_data"
    },
    {
     "name": "stdout",
     "output_type": "stream",
     "text": [
      " :: SentenceTransformer initialized | since_start: 2.0 hours, 8.0 minutes, 34.10 seconds | since_last: 54.0 minutes, 25.36 seconds :: \n"
     ]
    },
    {
     "data": {
      "text/plain": [
       "' :: SentenceTransformer initialized | since_start: 2.0 hours, 8.0 minutes, 34.10 seconds | since_last: 54.0 minutes, 25.36 seconds :: '"
      ]
     },
     "execution_count": 109,
     "metadata": {},
     "output_type": "execute_result"
    }
   ],
   "source": [
    "# sentence_transformer_model_name = 'sentence-transformers/all-mpnet-base-v2'\n",
    "sentence_transformer_model_name = 'sentence-transformers/all-distilroberta-v1'\n",
    "\n",
    "st_embed_model = SentenceTransformer(sentence_transformer_model_name)\n",
    "timelogger.log('SentenceTransformer initialized')"
   ]
  },
  {
   "cell_type": "code",
   "execution_count": 110,
   "id": "24b7f749-a8d8-48e4-a725-5a39c8dba4c7",
   "metadata": {
    "execution": {
     "iopub.execute_input": "2025-09-10T21:52:18.765604Z",
     "iopub.status.busy": "2025-09-10T21:52:18.764888Z",
     "iopub.status.idle": "2025-09-10T21:52:18.908448Z",
     "shell.execute_reply": "2025-09-10T21:52:18.907400Z",
     "shell.execute_reply.started": "2025-09-10T21:52:18.765523Z"
    }
   },
   "outputs": [
    {
     "name": "stdout",
     "output_type": "stream",
     "text": [
      " :: generic methodology phrases encoded START | since_start: 2.0 hours, 8.0 minutes, 34.11 seconds | since_last: 0.01 seconds :: \n",
      " :: generic methodology phrases encoded END | since_start: 2.0 hours, 8.0 minutes, 34.24 seconds | since_last: 0.13 seconds :: \n"
     ]
    },
    {
     "data": {
      "text/plain": [
       "array([[-0.00535332, -0.00680356,  0.00489834, ...,  0.01841462,\n",
       "        -0.03167965, -0.00509521],\n",
       "       [-0.00022198,  0.00414012,  0.01022068, ..., -0.01404907,\n",
       "        -0.03241678, -0.02545267],\n",
       "       [ 0.01189187,  0.01842939,  0.0284657 , ..., -0.03430156,\n",
       "        -0.0243664 , -0.03020132],\n",
       "       ...,\n",
       "       [-0.03220619, -0.01856576,  0.02224939, ..., -0.03424371,\n",
       "        -0.04298648, -0.09180254],\n",
       "       [-0.0292997 , -0.07373923, -0.00920676, ...,  0.01079469,\n",
       "         0.03783653, -0.05652967],\n",
       "       [ 0.03346384,  0.01161791, -0.01428203, ..., -0.0728052 ,\n",
       "        -0.08783861, -0.02877215]], dtype=float32)"
      ]
     },
     "execution_count": 110,
     "metadata": {},
     "output_type": "execute_result"
    }
   ],
   "source": [
    "timelogger.log('generic methodology phrases encoded START')\n",
    "generic_methodology_phrases = [\n",
    "    'research method',\n",
    "    'research methodology',\n",
    "    'methodological approach',\n",
    "    'experimental study',\n",
    "    'empirical evaluation',\n",
    "    'case study',\n",
    "    'simulation study',\n",
    "    'measurement study',\n",
    "    'formal proof'\n",
    "]\n",
    "\n",
    "generic_methodology_phrase_embeddings = st_embed_model.encode(generic_methodology_phrases)\n",
    "timelogger.log('generic methodology phrases encoded END')\n",
    "generic_methodology_phrase_embeddings"
   ]
  },
  {
   "cell_type": "code",
   "execution_count": 111,
   "id": "5ae2d78b-ec82-4634-8fc7-9063ba0715a5",
   "metadata": {
    "execution": {
     "iopub.execute_input": "2025-09-10T21:52:18.909911Z",
     "iopub.status.busy": "2025-09-10T21:52:18.909508Z",
     "iopub.status.idle": "2025-09-10T21:52:19.498686Z",
     "shell.execute_reply": "2025-09-10T21:52:19.497970Z",
     "shell.execute_reply.started": "2025-09-10T21:52:18.909876Z"
    },
    "scrolled": true
   },
   "outputs": [
    {
     "name": "stdout",
     "output_type": "stream",
     "text": [
      " :: text encoded START | since_start: 2.0 hours, 8.0 minutes, 34.25 seconds | since_last: 0.01 seconds :: \n",
      " :: text encoded END | since_start: 2.0 hours, 8.0 minutes, 34.83 seconds | since_last: 0.58 seconds :: \n"
     ]
    },
    {
     "data": {
      "text/plain": [
       "array([[-8.68145283e-03, -2.51142345e-02,  2.16977093e-02,\n",
       "        -2.85870284e-02,  3.27077694e-02,  4.55734618e-02,\n",
       "         4.37250361e-02, -6.21308619e-03,  2.23551840e-02,\n",
       "        -4.74536456e-02, -2.16707382e-02, -1.47131896e-02,\n",
       "         9.49765742e-03, -8.06958601e-03,  7.63178244e-03,\n",
       "        -1.06652007e-02, -4.67619672e-02,  4.03063446e-02,\n",
       "         1.06130861e-01,  5.98782562e-02, -1.11165433e-03,\n",
       "        -1.61547996e-02, -3.47634330e-02, -1.67096574e-02,\n",
       "        -3.38133238e-02, -5.47860563e-02, -1.94171444e-02,\n",
       "         1.39202615e-02,  3.44496183e-02, -5.42909727e-02,\n",
       "        -2.12978981e-02,  2.26298757e-02,  2.46357527e-02,\n",
       "        -1.68850962e-02, -8.19400698e-02, -3.47034670e-02,\n",
       "         5.49847521e-02, -1.75220110e-02, -2.89288480e-02,\n",
       "        -2.06967480e-02,  1.09603209e-02, -1.87469758e-02,\n",
       "         9.30347480e-03,  6.04046229e-03,  1.71626043e-02,\n",
       "         3.21358442e-02,  3.05631086e-02, -3.89634669e-02,\n",
       "        -8.14654585e-03, -3.22841965e-02,  5.55476174e-02,\n",
       "        -4.58215689e-03, -3.39919887e-02, -5.56768812e-02,\n",
       "        -2.11631414e-02,  1.88506506e-02, -1.55522441e-02,\n",
       "        -2.01516710e-02, -2.93829609e-02,  2.75556184e-02,\n",
       "         4.47045676e-02, -2.73564439e-02, -1.23750875e-02,\n",
       "         1.11453068e-02, -2.10014116e-02, -1.60640161e-02,\n",
       "        -2.82951947e-02,  5.74686043e-02, -3.56897078e-02,\n",
       "         1.53846219e-02, -8.63324329e-02, -4.96800952e-02,\n",
       "         1.35289384e-02, -1.89887080e-02,  2.68433336e-02,\n",
       "         1.77621108e-03, -3.71226929e-02,  9.83876064e-02,\n",
       "        -5.26230875e-03,  5.32149523e-03, -4.45664413e-02,\n",
       "        -2.00635456e-02,  5.01785800e-02, -6.09953376e-03,\n",
       "        -1.56052383e-02,  3.70057374e-02, -3.09845526e-02,\n",
       "        -6.94894791e-02,  1.30356289e-02, -7.90217146e-03,\n",
       "         2.30419021e-02, -2.15524994e-02, -5.81531413e-02,\n",
       "         7.56101310e-02, -2.11452730e-02, -9.74501297e-02,\n",
       "        -1.74497981e-02, -3.61531302e-02, -3.45705822e-02,\n",
       "        -1.12637961e-02,  6.21303394e-02, -3.58963385e-02,\n",
       "         2.92632580e-02,  1.66565261e-03,  3.27213928e-02,\n",
       "        -2.14051548e-02, -2.30665784e-02, -3.39924917e-02,\n",
       "        -6.50102040e-03, -5.01467884e-02, -7.16554001e-03,\n",
       "        -3.39650624e-02, -8.13481165e-04, -1.24850003e-02,\n",
       "         1.19829504e-02, -2.73781503e-03,  3.73491757e-02,\n",
       "        -3.74902487e-02, -2.92468630e-02,  1.58163253e-02,\n",
       "         2.69602388e-02,  6.19244054e-02,  6.08778484e-02,\n",
       "        -4.33267690e-02, -2.19893996e-02, -1.78205334e-02,\n",
       "        -2.22173333e-02,  3.29795405e-02,  2.56335884e-02,\n",
       "        -1.71777476e-02,  2.97974031e-02,  5.18465452e-02,\n",
       "         1.40050333e-02, -3.40571441e-02,  1.47221226e-03,\n",
       "        -3.10753565e-02,  4.97395694e-02, -2.54127808e-04,\n",
       "         4.78880145e-02,  9.43770912e-03, -1.23310806e-02,\n",
       "        -3.09505165e-02,  8.74841493e-03, -2.69998759e-02,\n",
       "        -6.20576367e-02, -4.36802395e-02, -5.36451750e-02,\n",
       "        -8.02464085e-04,  1.84283908e-02, -5.23599517e-03,\n",
       "        -5.64808259e-04,  3.98301817e-02, -5.48907835e-03,\n",
       "         3.83298732e-02,  4.42746654e-02, -2.68263798e-02,\n",
       "        -2.57913601e-02, -3.00969533e-03,  2.41125692e-02,\n",
       "         2.98302690e-03, -4.24546935e-02, -5.04048541e-02,\n",
       "         7.49042490e-03,  5.29505797e-02,  4.50569158e-03,\n",
       "        -6.90262998e-03, -6.75215153e-04, -1.98848378e-02,\n",
       "         2.57608276e-02, -1.17098596e-02, -4.89159534e-03,\n",
       "         7.55568361e-03,  1.39461150e-02, -3.02060656e-02,\n",
       "        -5.32649048e-02,  2.96692457e-02,  5.26451357e-02,\n",
       "        -1.16190352e-02,  5.62922992e-02,  5.28393276e-02,\n",
       "         1.03008300e-02, -2.00040569e-03, -4.10253042e-03,\n",
       "        -2.69048456e-02,  4.22501676e-02,  3.48979607e-02,\n",
       "        -2.50187032e-02, -3.34076919e-02,  1.73058975e-02,\n",
       "         1.57865603e-02, -1.05714798e-02, -1.26910647e-02,\n",
       "         1.71569176e-02, -2.47381604e-03,  8.16303946e-04,\n",
       "        -2.85634268e-02,  5.00783809e-02, -3.20715532e-02,\n",
       "        -1.82080474e-02, -1.28414351e-02,  2.16111355e-03,\n",
       "        -7.97887966e-02, -9.88893304e-03, -1.55740185e-02,\n",
       "         2.43301824e-04, -4.34584282e-02,  5.29633798e-02,\n",
       "         2.29185838e-02,  1.10920854e-02, -1.38710793e-02,\n",
       "         8.22468027e-02,  1.93479080e-02,  1.11434069e-02,\n",
       "         9.25785825e-02,  3.35190794e-03,  1.00897243e-02,\n",
       "        -8.24302956e-02, -1.01302098e-02,  3.59064288e-04,\n",
       "        -1.88243389e-02, -8.63409117e-02,  4.11997037e-03,\n",
       "         4.32202071e-02, -3.13435197e-02, -2.86307782e-02,\n",
       "        -8.77828058e-03, -9.24588460e-03, -6.62753209e-02,\n",
       "         2.92847063e-02, -1.99677628e-02, -1.10903485e-02,\n",
       "        -8.49839859e-03,  2.67762337e-02, -3.24902423e-02,\n",
       "        -8.72448552e-03, -5.98481216e-04,  4.87921573e-02,\n",
       "        -3.81033011e-02, -6.97244033e-02,  3.24216783e-02,\n",
       "        -5.57920672e-02, -1.96521729e-02,  3.84968030e-03,\n",
       "         1.62826292e-02,  2.71026660e-02, -2.92523187e-02,\n",
       "        -4.07004617e-02, -2.32670102e-02,  1.01877712e-02,\n",
       "         8.82427916e-02,  1.82590205e-02, -5.10933399e-02,\n",
       "         2.79229265e-02,  2.51347516e-02,  5.93812242e-02,\n",
       "        -6.20506890e-02, -1.66290849e-02, -3.71903256e-02,\n",
       "        -5.55177219e-02, -7.52999112e-02, -3.07073705e-02,\n",
       "         8.73052478e-02, -1.82515550e-02, -3.59466225e-02,\n",
       "         6.86503276e-02, -4.64446917e-02, -3.80507559e-02,\n",
       "         1.34316208e-02,  5.97716905e-02,  2.92833075e-02,\n",
       "         1.35354260e-02,  4.72831493e-03, -3.01770270e-02,\n",
       "         8.74716230e-03, -2.96759084e-02,  1.02299848e-03,\n",
       "        -7.56543316e-03, -1.90201998e-02, -1.37965577e-02,\n",
       "        -2.42289919e-02, -2.51162685e-02,  3.29937483e-03,\n",
       "         5.86755387e-02, -5.03179990e-03,  1.30458064e-02,\n",
       "         9.05086398e-02,  8.37080181e-02, -6.00249469e-02,\n",
       "        -2.92181335e-02,  9.65448562e-03,  7.09835021e-03,\n",
       "         2.08788924e-02,  2.27560997e-02, -5.07651009e-02,\n",
       "         2.49962267e-02,  2.17185100e-03,  4.46187593e-02,\n",
       "         4.58268411e-02,  1.56503394e-02, -3.04534677e-02,\n",
       "        -2.17693225e-02,  2.92872768e-02, -9.36893076e-02,\n",
       "        -9.57152399e-04,  1.74571369e-02, -3.70979533e-02,\n",
       "        -2.56680720e-03, -4.74609882e-02, -1.02518685e-02,\n",
       "        -8.46881128e-04, -2.48906128e-02,  1.33323604e-02,\n",
       "        -5.96177503e-02, -3.86206545e-02,  1.93800759e-02,\n",
       "         2.10625380e-02,  1.02493512e-02,  2.01105364e-02,\n",
       "         7.76761323e-02,  4.69622808e-03,  8.25035851e-03,\n",
       "         2.56034103e-03, -3.14354189e-02, -4.75080051e-02,\n",
       "         6.17468357e-03,  4.15826477e-02, -6.03233539e-02,\n",
       "         3.44928652e-02, -5.03638759e-03, -4.05191965e-02,\n",
       "         2.11547744e-02, -4.12958525e-02, -1.82102267e-02,\n",
       "        -2.08918210e-02, -3.08298618e-02,  6.21240661e-02,\n",
       "         7.71037582e-03,  3.44478562e-02,  1.00738676e-02,\n",
       "         4.40541357e-02, -2.91361306e-02,  1.09753609e-02,\n",
       "         1.85139552e-02, -4.64437753e-02,  2.08640564e-02,\n",
       "        -2.79428884e-02,  2.08643097e-02,  1.08212736e-02,\n",
       "         4.81157638e-02, -1.82134937e-02, -3.75255272e-02,\n",
       "        -4.41199988e-02, -3.84248630e-03,  2.79576648e-02,\n",
       "        -4.70701046e-03,  8.44111759e-03,  7.23071992e-02,\n",
       "        -8.35717190e-04, -3.45374085e-02, -5.69019839e-02,\n",
       "         2.01291312e-02,  1.52216982e-02,  5.08647761e-04,\n",
       "         4.03850190e-02, -2.25970950e-02,  5.82290627e-02,\n",
       "        -3.46342102e-03, -2.76467210e-04, -4.11806703e-02,\n",
       "        -1.77197941e-02, -2.50244839e-03, -4.35791872e-02,\n",
       "         7.50290346e-04,  9.42871626e-03,  7.28427479e-03,\n",
       "        -1.95917604e-03,  6.97074970e-03,  1.15802633e-02,\n",
       "        -1.25035224e-02,  4.22823317e-02,  3.99999432e-02,\n",
       "        -3.01391594e-02, -3.39852013e-02, -4.06217575e-03,\n",
       "        -4.03759368e-02, -2.78386148e-03, -5.55388443e-03,\n",
       "         1.20287500e-02, -3.77919455e-03,  3.19661200e-02,\n",
       "         4.87949923e-02,  5.20346835e-02, -1.47606069e-02,\n",
       "        -5.52077517e-02, -4.92116027e-02,  4.37743925e-02,\n",
       "        -2.11464111e-02,  1.50757013e-02,  8.36691726e-03,\n",
       "         2.93537155e-02,  4.35786173e-02,  2.73450110e-02,\n",
       "        -2.23023128e-02, -5.15518673e-02,  5.10375462e-02,\n",
       "        -1.80176413e-03, -1.99272521e-02, -2.14614701e-02,\n",
       "        -3.72132286e-02, -5.99418432e-02, -1.30175054e-02,\n",
       "        -4.51898947e-02,  2.46120673e-02, -4.99230390e-03,\n",
       "        -3.99015797e-03,  3.99696417e-02,  6.49373187e-03,\n",
       "         3.84186916e-02,  1.97941456e-02,  1.16277614e-03,\n",
       "         6.06504902e-02, -1.16955678e-04, -1.64106973e-02,\n",
       "         1.55322615e-03,  3.21189351e-02, -1.79555342e-02,\n",
       "         2.22946554e-02,  4.46266606e-02,  7.13184290e-03,\n",
       "         3.07007898e-02,  4.71361587e-03,  5.12220291e-03,\n",
       "         3.14101181e-03,  1.57768242e-02, -2.44090435e-04,\n",
       "         5.00875991e-03, -4.75968467e-03, -2.90103648e-02,\n",
       "         1.42428651e-02,  5.21441065e-02,  3.34014073e-02,\n",
       "        -5.16616926e-02,  3.36356014e-02,  2.66490802e-02,\n",
       "        -1.11790365e-02, -2.47742664e-02, -3.31449998e-03,\n",
       "         3.03043444e-02, -7.60810599e-02, -2.03809626e-02,\n",
       "         1.51426066e-02,  4.10839655e-02, -9.13838297e-03,\n",
       "        -1.36486748e-02,  3.26052718e-02,  9.05606337e-03,\n",
       "        -2.85834391e-02, -3.64705324e-02, -5.91774145e-03,\n",
       "         5.20284660e-02, -6.50311355e-03,  2.30571395e-03,\n",
       "         8.76106974e-03, -6.11892045e-02,  3.24643441e-02,\n",
       "         1.18872980e-02, -1.94820687e-02, -1.60393696e-02,\n",
       "        -3.71683091e-02,  3.04055922e-02,  2.35403832e-02,\n",
       "         9.74213984e-03, -1.77969467e-02, -2.58207023e-02,\n",
       "        -7.28344824e-03, -4.83171688e-03,  7.51098916e-02,\n",
       "        -4.74693701e-02,  1.07401172e-02,  9.71345510e-03,\n",
       "        -5.55991009e-02,  5.94307610e-04, -1.17334230e-02,\n",
       "         1.82334222e-02, -2.47748359e-03,  3.10720634e-02,\n",
       "        -4.97623980e-02, -5.23100086e-02,  1.74231119e-02,\n",
       "        -2.27301233e-02,  8.63376036e-02,  8.26270282e-02,\n",
       "         1.50874036e-03, -5.84155768e-02,  3.83897941e-33,\n",
       "        -1.85799450e-02, -7.88225979e-02, -2.69831605e-02,\n",
       "         1.00440821e-02,  3.64197120e-02, -1.56298280e-02,\n",
       "         8.40377808e-02,  4.51039635e-02, -6.10117242e-03,\n",
       "        -1.05453525e-02,  9.22012981e-03,  1.24475372e-03,\n",
       "        -7.21002650e-03,  3.34953517e-02,  4.67704199e-02,\n",
       "        -1.49595793e-02,  3.90803181e-02, -1.75342094e-02,\n",
       "         1.81338396e-02,  1.53534720e-02,  1.17127774e-02,\n",
       "        -3.43342051e-02, -1.18969902e-02, -4.24186625e-02,\n",
       "         6.39721304e-02,  3.56474817e-02,  6.06233329e-02,\n",
       "         7.59889334e-02, -1.79291386e-02,  2.32940130e-02,\n",
       "         3.16502973e-02,  3.20027210e-02,  2.67065298e-02,\n",
       "         2.34698527e-03,  2.50458419e-02,  7.66196847e-03,\n",
       "         1.75261702e-02, -4.66882112e-03,  1.01250010e-02,\n",
       "        -8.44570994e-03,  1.35467490e-02, -4.54506353e-02,\n",
       "         6.25350401e-02, -4.12012674e-02,  4.96303604e-04,\n",
       "         8.63048527e-03, -4.85009551e-02,  6.06900863e-02,\n",
       "         1.42971175e-02, -5.83701693e-02, -4.81048636e-02,\n",
       "         4.14273255e-02,  4.14571501e-02, -2.51249652e-02,\n",
       "         6.00791499e-02, -2.46877559e-02,  9.77282301e-02,\n",
       "         6.70900345e-02, -3.67442449e-03, -2.77132671e-02,\n",
       "        -6.05367012e-02,  1.20907715e-02, -1.19050601e-02,\n",
       "         5.52955735e-03, -3.19304541e-02, -4.78551164e-02,\n",
       "         6.03596456e-02,  9.62099619e-03,  2.18402240e-02,\n",
       "         6.78029880e-02,  3.40110622e-02,  1.07077649e-02,\n",
       "         8.34081974e-03, -1.52600622e-02,  3.59428078e-02,\n",
       "         5.75258844e-02, -3.59752662e-02, -9.41403396e-03,\n",
       "        -7.71644805e-03, -2.14525349e-02,  3.24262562e-03,\n",
       "        -1.51633993e-02,  1.52347265e-02, -3.42806499e-03,\n",
       "         6.82133390e-03, -1.51563268e-02,  4.66719270e-02,\n",
       "         5.03645353e-02,  2.17316989e-02, -7.43156821e-02,\n",
       "        -1.11033721e-02, -1.16352752e-01, -4.74690786e-03,\n",
       "        -1.03706901e-03, -4.48515080e-02, -2.94908248e-02,\n",
       "         1.93140621e-03,  4.09075804e-02, -3.88341956e-02,\n",
       "        -1.36154993e-02, -2.85779200e-02,  2.30568112e-03,\n",
       "         2.43849158e-02, -1.02103753e-02, -9.44974087e-03,\n",
       "        -6.02794401e-02, -3.08496524e-02,  2.43421700e-02,\n",
       "        -1.26720471e-02, -8.93939007e-03,  6.07547052e-02,\n",
       "        -6.56035915e-02, -3.11373621e-02,  3.32562886e-02,\n",
       "         3.96989696e-02,  1.22429635e-02,  1.51744541e-02,\n",
       "         1.97130125e-02,  1.03637442e-01, -3.34578007e-02,\n",
       "        -2.05544252e-02, -1.96522847e-02,  1.90880690e-02,\n",
       "         3.81334522e-03, -1.09960020e-01, -5.93562727e-04,\n",
       "        -2.14788839e-02, -6.29313663e-03, -1.42241552e-01,\n",
       "        -4.12620679e-02, -8.27195309e-03,  3.17605063e-02,\n",
       "        -4.96331826e-02, -7.41055459e-02, -8.20997581e-02,\n",
       "        -1.70238130e-02,  8.77492968e-03, -1.03582777e-02,\n",
       "         4.42525186e-02, -3.40213291e-02, -5.30935712e-02,\n",
       "         3.79743539e-02,  2.70385128e-02,  6.46892656e-03,\n",
       "         1.51316393e-02,  1.30326767e-02,  9.06932652e-02,\n",
       "         1.81662664e-02,  1.20908031e-02,  3.52202728e-02,\n",
       "         5.19251414e-02,  2.07345653e-02, -6.50182143e-02,\n",
       "        -1.33412397e-02, -1.51508171e-02,  3.06638107e-02,\n",
       "         1.35657247e-02, -6.23090602e-02,  3.17082368e-02,\n",
       "         2.49409713e-02, -8.77111852e-02, -3.92986182e-03,\n",
       "        -2.25354861e-02, -1.10651273e-03,  8.33406895e-02,\n",
       "         2.76865289e-02,  4.80435975e-02,  7.64000288e-05,\n",
       "         1.11561734e-02, -3.25077539e-03,  1.66649409e-02,\n",
       "        -5.48763806e-03,  4.57463274e-03,  2.24268232e-02,\n",
       "        -7.16245547e-02,  2.84047592e-02, -6.01095073e-02,\n",
       "        -1.97674185e-02,  1.56948175e-02,  2.43779812e-02,\n",
       "        -2.82557793e-02, -3.77001837e-02,  1.69453174e-02,\n",
       "        -4.54238094e-02,  2.82648578e-02,  8.24387651e-03,\n",
       "        -5.40090390e-02, -1.04139615e-02,  3.65169570e-02,\n",
       "        -4.00341153e-02,  1.76373608e-02,  4.50227857e-02,\n",
       "         3.31098251e-02, -5.34724966e-02, -7.02314079e-02,\n",
       "         1.65367573e-02,  2.42482368e-02, -7.54763111e-02,\n",
       "        -3.45751789e-04,  4.26996779e-03,  1.78820342e-02,\n",
       "         9.95881110e-03, -5.83265610e-02,  6.17796630e-02,\n",
       "         2.81548239e-02,  6.11112043e-02,  5.39773609e-03,\n",
       "         4.25135009e-02,  1.20770186e-02, -1.22824823e-03,\n",
       "        -6.34454517e-03,  2.01661233e-02, -2.65475847e-02,\n",
       "        -3.79084796e-02,  1.04026161e-02,  3.57619897e-02,\n",
       "        -1.23098781e-02,  3.30714881e-02, -1.27058076e-02,\n",
       "        -3.78862303e-03, -4.12849411e-02,  5.54774255e-02,\n",
       "        -2.51660608e-02,  4.47310880e-02,  1.87106729e-02,\n",
       "        -4.94115315e-02,  2.94426940e-02,  5.32861352e-02,\n",
       "         7.98925310e-02, -9.73415095e-04,  6.12383895e-02,\n",
       "        -3.60465189e-03, -6.99797049e-02,  7.28613790e-03,\n",
       "        -1.99179351e-02, -4.97455476e-03,  4.55350289e-03,\n",
       "         2.86485273e-02, -8.54183584e-02, -2.67087370e-02,\n",
       "         6.17530168e-05, -5.60375815e-03, -3.69371064e-02,\n",
       "        -6.99702767e-04, -3.29106972e-02,  7.62976892e-03,\n",
       "         2.13530939e-02, -1.49846533e-02,  5.14019169e-02,\n",
       "        -3.42718288e-02, -1.30473757e-02,  1.53282573e-02,\n",
       "         8.36867187e-03,  9.79072321e-03, -1.95111521e-02,\n",
       "         4.08401042e-02,  3.19098681e-03, -1.70639493e-02,\n",
       "        -3.81291918e-02,  3.10097961e-03, -5.92166521e-02,\n",
       "        -1.47542043e-03,  1.08974269e-02,  4.82356660e-02,\n",
       "         5.03343763e-03,  2.18235627e-02, -3.72685771e-03,\n",
       "         1.01972977e-02, -1.96876675e-02, -4.56125513e-02,\n",
       "         2.20670924e-02, -3.00303828e-02,  2.18782052e-02]], dtype=float32)"
      ]
     },
     "execution_count": 111,
     "metadata": {},
     "output_type": "execute_result"
    }
   ],
   "source": [
    "timelogger.log('text encoded START')\n",
    "text_list_embeddings = st_embed_model.encode(texts_only_list)\n",
    "timelogger.log('text encoded END')\n",
    "text_list_embeddings"
   ]
  },
  {
   "cell_type": "code",
   "execution_count": null,
   "id": "b6815002-c4b7-4927-a91c-dd24d94a9fc9",
   "metadata": {},
   "outputs": [],
   "source": []
  },
  {
   "cell_type": "code",
   "execution_count": 112,
   "id": "ccc4f3c6-164b-43ed-adc9-399adf6de6a4",
   "metadata": {
    "execution": {
     "iopub.execute_input": "2025-09-10T21:52:19.729670Z",
     "iopub.status.busy": "2025-09-10T21:52:19.729328Z",
     "iopub.status.idle": "2025-09-10T21:52:19.739451Z",
     "shell.execute_reply": "2025-09-10T21:52:19.738522Z",
     "shell.execute_reply.started": "2025-09-10T21:52:19.729643Z"
    }
   },
   "outputs": [
    {
     "name": "stdout",
     "output_type": "stream",
     "text": [
      " :: initiate pos_vectorizer START | since_start: 2.0 hours, 8.0 minutes, 35.07 seconds | since_last: 0.24 seconds :: \n",
      " :: initiate pos_vectorizer END | since_start: 2.0 hours, 8.0 minutes, 35.07 seconds | since_last: 0.00 seconds :: \n"
     ]
    },
    {
     "data": {
      "text/plain": [
       "' :: initiate pos_vectorizer END | since_start: 2.0 hours, 8.0 minutes, 35.07 seconds | since_last: 0.00 seconds :: '"
      ]
     },
     "execution_count": 112,
     "metadata": {},
     "output_type": "execute_result"
    }
   ],
   "source": [
    "timelogger.log('initiate pos_vectorizer START')\n",
    "pos_pattern = (\n",
    "    # Verb-led methodological action (optional subject/aux/adv, main verb, noun phrase core, optional chained PPs)\n",
    "    # we derive MIMO processing matrices\n",
    "    # we compare the performance\n",
    "    # we factor the MU MIMO precoding matrix\n",
    "    '(<AUX>?<RB>?<V.*><PRT>?<DT>?<J.*>*<N.*>+(<IN><DT>?<J.*>*<N.*>+)*)' #+ '|'\n",
    "    \n",
    "    # Nominal methodological construct (adjective/noun/proper stacks + optional PP tails)\n",
    "    # singular value decomposition\n",
    "    # MIMO processing matrices\n",
    "    # regularized block diagonal AF algorithm\n",
    "    # '(<J.*>*<N.*>+(<N.*>+)*(<IN><J.*>*<N.*>+)*)' # + '|'\n",
    "    \n",
    "    # Metric/result short form\n",
    "    # bit error rate\n",
    "    # BER performance\n",
    "    # SNR gain\n",
    "    # '(<J.*>*<N.*>+)'\n",
    ")\n",
    "pos_vectorizer = KeyphraseCountVectorizer(\n",
    "    spacy_pipeline=nlp,\n",
    "    pos_pattern=pos_pattern, # '<J.*>*<N.*>+',\n",
    "    # min_df=1, # cutoff\n",
    ")\n",
    "timelogger.log('initiate pos_vectorizer END')"
   ]
  },
  {
   "cell_type": "code",
   "execution_count": 113,
   "id": "4ccd1fca-ad48-4e61-b4bf-b845638902d3",
   "metadata": {
    "execution": {
     "iopub.execute_input": "2025-09-10T21:52:23.252831Z",
     "iopub.status.busy": "2025-09-10T21:52:23.252497Z",
     "iopub.status.idle": "2025-09-10T21:52:23.259797Z",
     "shell.execute_reply": "2025-09-10T21:52:23.258814Z",
     "shell.execute_reply.started": "2025-09-10T21:52:23.252798Z"
    }
   },
   "outputs": [
    {
     "name": "stdout",
     "output_type": "stream",
     "text": [
      " :: initiate keybert_model START | since_start: 2.0 hours, 8.0 minutes, 38.59 seconds | since_last: 3.52 seconds :: \n",
      " :: initiate keybert_model END | since_start: 2.0 hours, 8.0 minutes, 38.59 seconds | since_last: 0.00 seconds :: \n"
     ]
    },
    {
     "data": {
      "text/plain": [
       "' :: initiate keybert_model END | since_start: 2.0 hours, 8.0 minutes, 38.59 seconds | since_last: 0.00 seconds :: '"
      ]
     },
     "execution_count": 113,
     "metadata": {},
     "output_type": "execute_result"
    }
   ],
   "source": [
    "timelogger.log('initiate keybert_model START')\n",
    "keybert_model = KeyBERT(model=st_embed_model)\n",
    "timelogger.log('initiate keybert_model END')"
   ]
  },
  {
   "cell_type": "code",
   "execution_count": 118,
   "id": "65f5d612-bafd-419d-9055-8a7bff8d4283",
   "metadata": {
    "execution": {
     "iopub.execute_input": "2025-09-10T21:54:46.929976Z",
     "iopub.status.busy": "2025-09-10T21:54:46.929685Z",
     "iopub.status.idle": "2025-09-10T21:54:50.518635Z",
     "shell.execute_reply": "2025-09-10T21:54:50.517761Z",
     "shell.execute_reply.started": "2025-09-10T21:54:46.929954Z"
    }
   },
   "outputs": [
    {
     "name": "stdout",
     "output_type": "stream",
     "text": [
      "sentence-transformers/all-distilroberta-v1\n",
      " :: extract 100 keywords START | since_start: 2.0 hours, 11.0 minutes, 2.27 seconds | since_last: 6.24 seconds :: \n",
      " :: extract 100 keywords END | since_start: 2.0 hours, 11.0 minutes, 5.85 seconds | since_last: 3.58 seconds :: \n"
     ]
    },
    {
     "data": {
      "text/plain": [
       "[('rewrite equation', 0.0461),\n",
       " ('block', 0.051),\n",
       " ('denotes identity matrix', 0.0525),\n",
       " ('denotes additive noise correlation matrix', 0.053),\n",
       " ('proposed algorithm performance system', 0.0561),\n",
       " ('using binary phase shift keying', 0.0592),\n",
       " ('denote algorithm', 0.062),\n",
       " ('central node', 0.0625),\n",
       " ('significantly reduces practicality algorithm', 0.0632),\n",
       " ('assuming large path loss', 0.067),\n",
       " ('reducing overlap row spaces', 0.0673),\n",
       " ('feedback noise variance', 0.071),\n",
       " ('consider uts', 0.0719),\n",
       " ('diagonal positive definite power', 0.0837),\n",
       " ('provide reliable transmission', 0.0869),\n",
       " ('design mimo', 0.0874),\n",
       " ('compare bit error rate', 0.09),\n",
       " ('received power kth ut', 0.0949),\n",
       " ('perform mimo', 0.095),\n",
       " ('diagonal matrix r', 0.0986),\n",
       " ('reduce distances individual nodes', 0.0997),\n",
       " ('find optimum f.', 0.1016),\n",
       " ('neglecting direct links bs uts', 0.102),\n",
       " ('serving users', 0.1024),\n",
       " ('using zf beam', 0.1031),\n",
       " ('consider mse uts', 0.1082),\n",
       " ('kth ut mimo', 0.1084),\n",
       " ('using method lagrangian multipliers', 0.1092),\n",
       " ('rn mimo', 0.1102),\n",
       " ('assuming mimo', 0.1108),\n",
       " ('optimize kth ut performance', 0.1139),\n",
       " ('simultaneously using space', 0.118),\n",
       " ('omit influence additive noise input rn antenna', 0.1205),\n",
       " ('minimize co', 0.1236),\n",
       " ('compare performance rbd af algorithm', 0.1302),\n",
       " ('perform resource allocation', 0.1314),\n",
       " ('includes mimo processing bs', 0.1324),\n",
       " ('maximize spatial processing gains', 0.1358),\n",
       " ('receive processing', 0.1391),\n",
       " ('using mmse criterion', 0.1395),\n",
       " ('multi - user', 0.1401),\n",
       " ('obtaining robust communication', 0.1412),\n",
       " ('update matrix f', 0.1466),\n",
       " ('factor mu mimo', 0.1484),\n",
       " ('design mu mimo', 0.15),\n",
       " ('using quadrature amplitude modulation', 0.1524),\n",
       " ('using matrices f r', 0.1673),\n",
       " ('using 4qam modulation', 0.1681),\n",
       " ('denotes transmit vector correlation matrix', 0.1741),\n",
       " ('transmit vector correlation matrix', 0.1776),\n",
       " ('using following optimization', 0.1797),\n",
       " ('use qr decomposition combination dpc', 0.1801),\n",
       " ('channel estimation errors', 0.1807),\n",
       " ('spatially multiplexed data streams', 0.1812),\n",
       " ('provide information additive noise variances receivers transmitters',\n",
       "  0.1847),\n",
       " ('extend mimo', 0.1855),\n",
       " ('spatially multiplexed data streams kth user', 0.1894),\n",
       " ('use mmse criterion optimum f r c', 0.1926),\n",
       " ('transmit power bs', 0.1936),\n",
       " ('precoding matrix rn', 0.1955),\n",
       " ('precoding matrix f', 0.2005),\n",
       " ('function mimo processing matrix', 0.2076),\n",
       " ('describe antenna configuration system', 0.2082),\n",
       " ('precoding matrix f.', 0.2089),\n",
       " ('precoding matrix bs', 0.2134),\n",
       " ('precoding matrix', 0.2299),\n",
       " ('receive matrix rn', 0.2309),\n",
       " ('investigate different power allocation algorithms', 0.2326),\n",
       " ('fading channels', 0.2337),\n",
       " ('derived mimo processing matrices bs', 0.2363),\n",
       " ('supports single communication pair', 0.2395),\n",
       " ('resulting mimo processing matrices', 0.2444),\n",
       " ('receive matrices rn', 0.2458),\n",
       " ('receive matrix uts', 0.2493),\n",
       " ('derive mimo processing matrices', 0.2501),\n",
       " ('receive antennas kth ut', 0.2544),\n",
       " ('derive mimo processing matrices bs', 0.2568),\n",
       " ('limitations mimo processing matrices', 0.2587),\n",
       " ('consider mu mimo dl system', 0.2619),\n",
       " ('receive matrix', 0.2626),\n",
       " ('estimate channel matrix h', 0.2643),\n",
       " ('design optimum matrix f r c', 0.2645),\n",
       " ('design mimo processing matrices bs', 0.2663),\n",
       " ('estimated ul channel dl transmission', 0.2793),\n",
       " ('minimize mui kth ut co - channel uts', 0.2896),\n",
       " ('simultaneously improve channel conditions', 0.2928),\n",
       " ('find optimum mimo processing matrices', 0.2967),\n",
       " ('estimate effective mimo matrix', 0.3003),\n",
       " ('minimizes mu interference', 0.3015),\n",
       " ('minimize mu interference', 0.3057),\n",
       " ('assuming mu mimo channel', 0.3074),\n",
       " ('design spatial processing matrices transmitter', 0.3168),\n",
       " ('jointly optimizes mimo processing matrices bs', 0.318),\n",
       " ('regarding total number antennas uts', 0.3201),\n",
       " ('multiple antennas', 0.3507),\n",
       " ('using mimo channel matrix bs rn', 0.3571),\n",
       " ('using mimo channel matrices bs rn', 0.3675),\n",
       " ('combined effective channel matrix rn uts', 0.3696),\n",
       " ('describe relaying system', 0.4),\n",
       " ('precoding matrix relay', 0.4971)]"
      ]
     },
     "execution_count": 118,
     "metadata": {},
     "output_type": "execute_result"
    }
   ],
   "source": [
    "print(sentence_transformer_model_name)\n",
    "timelogger.log('extract 100 keywords START')\n",
    "initial_keywords_top100 = keybert_model.extract_keywords(  # TODO: consider using this with candidates=[...] for the next round\n",
    "    docs=texts_only_list,\n",
    "    top_n=100,\n",
    "    vectorizer=pos_vectorizer,\n",
    "    use_maxsum=True,\n",
    "    nr_candidates=100\n",
    ")\n",
    "initial_keyword_embeddings = st_embed_model.encode([kw[0] for kw in initial_keywords_top100])\n",
    "timelogger.log('extract 100 keywords END')\n",
    "initial_keywords_top100"
   ]
  },
  {
   "cell_type": "code",
   "execution_count": 106,
   "id": "cd5ee2e1-14f8-4b3b-b909-ef3c2ce5c107",
   "metadata": {
    "execution": {
     "iopub.execute_input": "2025-09-10T20:57:46.931323Z",
     "iopub.status.busy": "2025-09-10T20:57:46.930972Z",
     "iopub.status.idle": "2025-09-10T20:57:53.413305Z",
     "shell.execute_reply": "2025-09-10T20:57:53.412381Z",
     "shell.execute_reply.started": "2025-09-10T20:57:46.931296Z"
    },
    "scrolled": true
   },
   "outputs": [
    {
     "name": "stdout",
     "output_type": "stream",
     "text": [
      " :: extract 100 keywords START | since_start: 1.0 hour, 14.0 minutes, 2.27 seconds | since_last: 0.38 seconds :: \n",
      " :: extract 100 keywords END | since_start: 1.0 hour, 14.0 minutes, 8.74 seconds | since_last: 6.47 seconds :: \n"
     ]
    },
    {
     "data": {
      "text/plain": [
       "[('assuming mu mimo channel', 0.5829),\n",
       " ('design mu mimo', 0.5529),\n",
       " ('design mimo', 0.5449),\n",
       " ('find optimum mimo processing matrices', 0.5336),\n",
       " ('perform mimo', 0.5299),\n",
       " ('limitations mimo processing matrices', 0.5292),\n",
       " ('resulting mimo processing matrices', 0.5119),\n",
       " ('jointly optimizes mimo processing matrices bs', 0.5002),\n",
       " ('using mimo channel matrices bs rn', 0.4936),\n",
       " ('consider mu mimo dl system', 0.4799),\n",
       " ('derive mimo processing matrices', 0.4728),\n",
       " ('factor mu mimo', 0.4699),\n",
       " ('rn mimo', 0.4653),\n",
       " ('design mimo processing matrices bs', 0.4631),\n",
       " ('extend mimo', 0.4596),\n",
       " ('estimate effective mimo matrix', 0.4501),\n",
       " ('using mimo channel matrix bs rn', 0.4466),\n",
       " ('function mimo processing matrix', 0.4409),\n",
       " ('multiple antennas', 0.4325),\n",
       " ('derive mimo processing matrices bs', 0.4223),\n",
       " ('derived mimo processing matrices bs', 0.4211),\n",
       " ('assuming mimo', 0.42),\n",
       " ('kth ut mimo', 0.4147),\n",
       " ('fading channels', 0.4047),\n",
       " ('minimize mui kth ut co - channel uts', 0.3998),\n",
       " ('precoding matrix relay', 0.3698),\n",
       " ('describe relaying system', 0.3611),\n",
       " ('combined effective channel matrix rn uts', 0.3568),\n",
       " ('minimizes mu interference', 0.3489),\n",
       " ('regarding total number antennas uts', 0.3468),\n",
       " ('includes mimo processing bs', 0.3352),\n",
       " ('minimize mu interference', 0.3266),\n",
       " ('simultaneously improve channel conditions', 0.3237),\n",
       " ('transmit vector correlation matrix', 0.3149),\n",
       " ('receive antennas kth ut', 0.3054),\n",
       " ('provide information additive noise variances receivers transmitters',\n",
       "  0.2975),\n",
       " ('estimated ul channel dl transmission', 0.2868),\n",
       " ('estimate channel matrix h', 0.2855),\n",
       " ('design spatial processing matrices transmitter', 0.2704),\n",
       " ('describe antenna configuration system', 0.2639),\n",
       " ('obtaining robust communication', 0.2618),\n",
       " ('spatially multiplexed data streams', 0.2417),\n",
       " ('spatially multiplexed data streams kth user', 0.2392),\n",
       " ('denotes transmit vector correlation matrix', 0.239),\n",
       " ('receive matrix uts', 0.2387),\n",
       " ('receive matrices rn', 0.2365),\n",
       " ('transmit power bs', 0.2358),\n",
       " ('supports single communication pair', 0.2358),\n",
       " ('provide reliable transmission', 0.2275),\n",
       " ('channel estimation errors', 0.2257),\n",
       " ('multi - user', 0.2187),\n",
       " ('omit influence additive noise input rn antenna', 0.2056),\n",
       " ('using 4qam modulation', 0.195),\n",
       " ('denotes additive noise correlation matrix', 0.1903),\n",
       " ('design optimum matrix f r c', 0.1825),\n",
       " ('receive matrix', 0.1802),\n",
       " ('assuming large path loss', 0.1774),\n",
       " ('simultaneously using space', 0.1769),\n",
       " ('serving users', 0.1766),\n",
       " ('receive matrix rn', 0.1727),\n",
       " ('feedback noise variance', 0.1697),\n",
       " ('update matrix f', 0.1666),\n",
       " ('stacked vector', 0.1664),\n",
       " ('precoding matrix', 0.1648),\n",
       " ('using following optimization', 0.163),\n",
       " ('define singular value decomposition', 0.1625),\n",
       " ('precoding matrix rn', 0.1621),\n",
       " ('investigate different power allocation algorithms', 0.156),\n",
       " ('reduce distances individual nodes', 0.154),\n",
       " ('precoding matrix f.', 0.1515),\n",
       " ('using matrices f r', 0.149),\n",
       " ('define svd h 2,k', 0.1459),\n",
       " ('mean complex gaussian random variables variance', 0.1448),\n",
       " ('received power kth ut', 0.1395),\n",
       " ('reducing overlap row spaces', 0.1391),\n",
       " ('precoding matrix f', 0.138),\n",
       " ('using quadrature amplitude modulation', 0.1328),\n",
       " ('define svd h 2,k f r', 0.1313),\n",
       " ('optimize kth ut performance', 0.1291),\n",
       " ('proposed system', 0.1265),\n",
       " ('perform resource allocation', 0.126),\n",
       " ('r ∈ r r×r', 0.1241),\n",
       " ('precoding matrix bs', 0.1204),\n",
       " ('denotes identity matrix', 0.1189),\n",
       " ('following equation', 0.1176),\n",
       " ('represents mui', 0.1176),\n",
       " ('proposed algorithm performance system', 0.1119),\n",
       " ('use qr decomposition combination dpc', 0.1119),\n",
       " ('estimates h', 0.1108),\n",
       " ('diagonal positive definite power', 0.1068),\n",
       " ('estimate h 2,k f r k', 0.1053),\n",
       " ('regularized block', 0.1025),\n",
       " ('estimate h', 0.1022),\n",
       " ('compare bit error rate', 0.0998),\n",
       " ('compare performance rbd af algorithm', 0.0979),\n",
       " ('minimize co', 0.0956),\n",
       " ('denotes kth ut', 0.094),\n",
       " ('negligible performance loss', 0.0926),\n",
       " ('denotes number', 0.0885),\n",
       " ('present results simulations', 0.0884)]"
      ]
     },
     "execution_count": 106,
     "metadata": {},
     "output_type": "execute_result"
    }
   ],
   "source": [
    "timelogger.log('extract 100 keywords START')\n",
    "initial_keywords_top100 = keybert_model.extract_keywords(  # TODO: consider using this with candidates=[...] for the next round\n",
    "    docs=texts_only_list,\n",
    "    top_n=100,\n",
    "    vectorizer=pos_vectorizer\n",
    ")\n",
    "initial_keyword_embeddings = st_embed_model.encode([kw[0] for kw in initial_keywords_top100])\n",
    "timelogger.log('extract 100 keywords END')\n",
    "initial_keywords_top100"
   ]
  },
  {
   "cell_type": "code",
   "execution_count": 107,
   "id": "727e8e90-5504-4272-a8f2-02217f9628c0",
   "metadata": {
    "execution": {
     "iopub.execute_input": "2025-09-10T20:58:04.857955Z",
     "iopub.status.busy": "2025-09-10T20:58:04.857651Z",
     "iopub.status.idle": "2025-09-10T20:58:04.869215Z",
     "shell.execute_reply": "2025-09-10T20:58:04.868444Z",
     "shell.execute_reply.started": "2025-09-10T20:58:04.857933Z"
    }
   },
   "outputs": [
    {
     "data": {
      "text/plain": [
       "['present results simulations',\n",
       " 'estimates h',\n",
       " 'proposed algorithm performance system',\n",
       " 'perform resource allocation',\n",
       " 'proposed system',\n",
       " 'estimate h',\n",
       " 'compare performance rbd af algorithm',\n",
       " 'received power kth ut',\n",
       " 'compare bit error rate',\n",
       " 'describe relaying system',\n",
       " 'estimate h 2,k f r k',\n",
       " 'denotes number',\n",
       " 'investigate different power allocation algorithms',\n",
       " 'using following optimization',\n",
       " 'using matrices f r',\n",
       " 'design mimo',\n",
       " 'provide information additive noise variances receivers transmitters',\n",
       " 'describe antenna configuration system',\n",
       " 'perform mimo',\n",
       " 'design mu mimo',\n",
       " 'optimize kth ut performance',\n",
       " 'denotes kth ut',\n",
       " 'channel estimation errors',\n",
       " 'negligible performance loss',\n",
       " 'provide reliable transmission',\n",
       " 'estimate effective mimo matrix',\n",
       " 'serving users',\n",
       " 'multi - user',\n",
       " 'receive matrices rn',\n",
       " 'consider mu mimo dl system',\n",
       " 'receive matrix rn',\n",
       " 'minimizes mu interference',\n",
       " 'kth ut mimo',\n",
       " 'minimize mu interference',\n",
       " 'denotes additive noise correlation matrix',\n",
       " 'design optimum matrix f r c',\n",
       " 'design mimo processing matrices bs',\n",
       " 'represents mui',\n",
       " 'use qr decomposition combination dpc',\n",
       " 'receive matrix',\n",
       " 'transmit power bs',\n",
       " 'feedback noise variance',\n",
       " 'assuming mimo',\n",
       " 'receive matrix uts',\n",
       " 'obtaining robust communication',\n",
       " 'following equation',\n",
       " 'simultaneously using space',\n",
       " 'factor mu mimo',\n",
       " 'spatially multiplexed data streams kth user',\n",
       " 'precoding matrix rn',\n",
       " 'precoding matrix bs',\n",
       " 'rn mimo',\n",
       " 'includes mimo processing bs',\n",
       " 'using mimo channel matrix bs rn',\n",
       " 'r ∈ r r×r',\n",
       " 'assuming large path loss',\n",
       " 'estimated ul channel dl transmission',\n",
       " 'mean complex gaussian random variables variance',\n",
       " 'using mimo channel matrices bs rn',\n",
       " 'derive mimo processing matrices bs',\n",
       " 'denotes identity matrix',\n",
       " 'combined effective channel matrix rn uts',\n",
       " 'define singular value decomposition',\n",
       " 'define svd h 2,k f r',\n",
       " 'estimate channel matrix h',\n",
       " 'function mimo processing matrix',\n",
       " 'resulting mimo processing matrices',\n",
       " 'supports single communication pair',\n",
       " 'derived mimo processing matrices bs',\n",
       " 'design spatial processing matrices transmitter',\n",
       " 'stacked vector',\n",
       " 'precoding matrix',\n",
       " 'precoding matrix relay',\n",
       " 'spatially multiplexed data streams',\n",
       " 'minimize co',\n",
       " 'minimize mui kth ut co - channel uts',\n",
       " 'diagonal positive definite power',\n",
       " 'regarding total number antennas uts',\n",
       " 'receive antennas kth ut',\n",
       " 'define svd h 2,k',\n",
       " 'precoding matrix f.',\n",
       " 'denotes transmit vector correlation matrix',\n",
       " 'find optimum mimo processing matrices',\n",
       " 'using 4qam modulation',\n",
       " 'limitations mimo processing matrices',\n",
       " 'regularized block',\n",
       " 'assuming mu mimo channel',\n",
       " 'derive mimo processing matrices',\n",
       " 'precoding matrix f',\n",
       " 'update matrix f',\n",
       " 'reducing overlap row spaces',\n",
       " 'using quadrature amplitude modulation',\n",
       " 'jointly optimizes mimo processing matrices bs',\n",
       " 'simultaneously improve channel conditions',\n",
       " 'extend mimo',\n",
       " 'reduce distances individual nodes',\n",
       " 'transmit vector correlation matrix',\n",
       " 'multiple antennas',\n",
       " 'fading channels',\n",
       " 'omit influence additive noise input rn antenna']"
      ]
     },
     "execution_count": 107,
     "metadata": {},
     "output_type": "execute_result"
    }
   ],
   "source": [
    "from sklearn.metrics.pairwise import cosine_similarity, euclidean_distances\n",
    "\n",
    "top_n = 10\n",
    "pairwise_distances = euclidean_distances(initial_keyword_embeddings, generic_methodology_phrase_embeddings)\n",
    "closest_distances_per_keyword = [[index, min(ds)] for index, ds in enumerate(pairwise_distances)]\n",
    "sorted_closest_distances_per_keyword = sorted(closest_distances_per_keyword, key=lambda x: x[1])\n",
    "keywords = [initial_keywords_top100[index][0] for (index, distance) in sorted_closest_distances_per_keyword]\n",
    "keywords"
   ]
  },
  {
   "cell_type": "code",
   "execution_count": 70,
   "id": "08ee2604-a831-44ef-a74a-01dc46c43d8c",
   "metadata": {
    "execution": {
     "iopub.execute_input": "2025-09-10T20:06:25.133187Z",
     "iopub.status.busy": "2025-09-10T20:06:25.132749Z",
     "iopub.status.idle": "2025-09-10T20:06:25.139951Z",
     "shell.execute_reply": "2025-09-10T20:06:25.138961Z",
     "shell.execute_reply.started": "2025-09-10T20:06:25.133147Z"
    }
   },
   "outputs": [
    {
     "data": {
      "text/plain": [
       "[[0, 1.4426476], [1, 1.4687278]]"
      ]
     },
     "execution_count": 70,
     "metadata": {},
     "output_type": "execute_result"
    }
   ],
   "source": [
    "closest_distances_per_keyword"
   ]
  },
  {
   "cell_type": "code",
   "execution_count": 63,
   "id": "5d349f34-0ac0-4899-849b-e15940bd8f04",
   "metadata": {
    "execution": {
     "iopub.execute_input": "2025-09-10T19:59:54.248592Z",
     "iopub.status.busy": "2025-09-10T19:59:54.247977Z",
     "iopub.status.idle": "2025-09-10T19:59:54.254548Z",
     "shell.execute_reply": "2025-09-10T19:59:54.253531Z",
     "shell.execute_reply.started": "2025-09-10T19:59:54.248561Z"
    }
   },
   "outputs": [
    {
     "data": {
      "text/plain": [
       "array([[1.4426476, 1.4526964],\n",
       "       [1.4687278, 1.4915861]], dtype=float32)"
      ]
     },
     "execution_count": 63,
     "metadata": {},
     "output_type": "execute_result"
    }
   ],
   "source": [
    "distances"
   ]
  },
  {
   "cell_type": "code",
   "execution_count": null,
   "id": "d65862d2-feff-4b50-945e-2e4c87eb013e",
   "metadata": {},
   "outputs": [],
   "source": []
  }
 ],
 "metadata": {
  "kernelspec": {
   "display_name": "python_311_2",
   "language": "python",
   "name": "python_311_2"
  },
  "language_info": {
   "codemirror_mode": {
    "name": "ipython",
    "version": 3
   },
   "file_extension": ".py",
   "mimetype": "text/x-python",
   "name": "python",
   "nbconvert_exporter": "python",
   "pygments_lexer": "ipython3",
   "version": "3.11.13"
  }
 },
 "nbformat": 4,
 "nbformat_minor": 5
}
