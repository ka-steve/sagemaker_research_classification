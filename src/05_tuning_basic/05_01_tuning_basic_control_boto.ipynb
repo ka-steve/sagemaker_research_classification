{
 "cells": [
  {
   "cell_type": "code",
   "execution_count": 23,
   "id": "1344db8e",
   "metadata": {
    "execution": {
     "iopub.execute_input": "2025-09-17T14:32:14.115072Z",
     "iopub.status.busy": "2025-09-17T14:32:14.114684Z",
     "iopub.status.idle": "2025-09-17T14:32:14.143948Z",
     "shell.execute_reply": "2025-09-17T14:32:14.142869Z",
     "shell.execute_reply.started": "2025-09-17T14:32:14.115036Z"
    }
   },
   "outputs": [
    {
     "name": "stdout",
     "output_type": "stream",
     "text": [
      "utils.py loaded: v0.2.12\n",
      "config.py loaded: v0.1\n"
     ]
    },
    {
     "data": {
      "text/plain": [
       "PosixPath('/home/sagemaker-user/sagemaker_research_classification/src/05_tuning_basic')"
      ]
     },
     "execution_count": 23,
     "metadata": {},
     "output_type": "execute_result"
    }
   ],
   "source": [
    "import argparse\n",
    "import boto3\n",
    "import evaluate\n",
    "import importlib\n",
    "import json\n",
    "import lighteval\n",
    "import os\n",
    "import pathlib\n",
    "import requests\n",
    "import shutil\n",
    "import sys\n",
    "import tarfile\n",
    "import time\n",
    "import torch\n",
    "import transformers\n",
    "import uuid\n",
    "import wandb\n",
    "\n",
    "import awswrangler as wr\n",
    "import numpy as np\n",
    "\n",
    "from botocore.exceptions import ClientError\n",
    "from datasets import load_dataset, DatasetDict, Dataset\n",
    "from datetime import datetime, timezone\n",
    "from IPython.display import display\n",
    "from peft import PeftModel, PeftConfig, get_peft_model, LoraConfig\n",
    "from sagemaker import image_uris, utils as sm_utils\n",
    "from sagemaker.huggingface.processing import HuggingFaceProcessor\n",
    "from sagemaker.sklearn.processing import SKLearnProcessor\n",
    "from sagemaker.processing import FrameworkProcessor\n",
    "from sagemaker.sklearn.estimator import SKLearn\n",
    "from sagemaker.workflow.steps import ProcessingStep\n",
    "from sagemaker.workflow.pipeline_context import PipelineSession\n",
    "from sagemaker.processing import ProcessingInput, ProcessingOutput\n",
    "from sagemaker.session import get_execution_role\n",
    "from sklearn.metrics import accuracy_score, precision_recall_fscore_support\n",
    "from tqdm import tqdm\n",
    "from transformers import (\n",
    "    AutoTokenizer,\n",
    "    AutoConfig, \n",
    "    AutoModelForSequenceClassification,\n",
    "    DataCollatorWithPadding,\n",
    "    TrainingArguments,\n",
    "    Trainer\n",
    ")\n",
    "from typing import List, Union, Optional\n",
    "\n",
    "\n",
    "# Adding ../01_modules or ./01_modules to the system path so that we can load modules from \n",
    "# there as well\n",
    "if '__file__' in globals():\n",
    "    script_dir = pathlib.Path(__file__).parent.resolve()\n",
    "else:\n",
    "    script_dir = pathlib.Path().absolute()\n",
    "modules_path_in_dev = os.path.abspath(os.path.join(script_dir, '..', '01_modules'))\n",
    "modules_path_in_prod = os.path.abspath(os.path.join(script_dir, '01_modules'))\n",
    "if os.path.exists(modules_path_in_dev):\n",
    "    sys.path.append(modules_path_in_dev)\n",
    "if os.path.exists(modules_path_in_prod):\n",
    "    sys.path.append(modules_path_in_prod)\n",
    "\n",
    "\n",
    "# # Jupyter only reads a local module the first time after \n",
    "# # kernel start. Re-running a cell with \n",
    "# # \"from mymodulename import *\" would not change\n",
    "# # anything, even if the imported module has since changed.\n",
    "# # As a workaround, we need to directly load the module, \n",
    "# # use importlib.reload to reload it and then import * \n",
    "import utils\n",
    "_ = importlib.reload(utils)\n",
    "import config\n",
    "_ = importlib.reload(config) \n",
    "\n",
    "_ = \"\"\"\n",
    "ml.g6.xlarge:   6     250GB\n",
    "ml.g6.2xlarge:  3\n",
    "ml.g6.4xlarge:  6\n",
    "ml.g6.8xlarge:  6\n",
    "ml.g6.12xlarge: 6\n",
    "ml.g6.16xlarge: 6\n",
    "ml.g6.24xlarge: 6\n",
    "ml.g6.48xlarge: 6\n",
    "\n",
    "google-bert/bert-base-uncased\n",
    "distilbert/distilbert-base-uncased\n",
    "microsoft/deberta-v3-base\n",
    "FacebookAI/roberta-base\n",
    "answerdotai/ModernBERT-base\n",
    "answerdotai/ModernBERT-large\n",
    "allenai/scibert_scivocab_uncased\n",
    "google/bigbird-roberta-base\n",
    "allenai/longformer-base-4096\n",
    "\"\"\"\n",
    "script_dir"
   ]
  },
  {
   "cell_type": "code",
   "execution_count": 30,
   "id": "930fcda6-f417-4bd2-8d81-8259752fb03f",
   "metadata": {
    "execution": {
     "iopub.execute_input": "2025-09-17T14:42:56.188688Z",
     "iopub.status.busy": "2025-09-17T14:42:56.188292Z",
     "iopub.status.idle": "2025-09-17T14:42:56.193407Z",
     "shell.execute_reply": "2025-09-17T14:42:56.192289Z",
     "shell.execute_reply.started": "2025-09-17T14:42:56.188653Z"
    }
   },
   "outputs": [],
   "source": [
    "RUNS = {}\n",
    "MAX_RUNTIME = 2*24*60*60"
   ]
  },
  {
   "cell_type": "code",
   "execution_count": 13,
   "id": "d12ffe49-3ae4-4920-81d3-5f1323aa9463",
   "metadata": {
    "execution": {
     "iopub.execute_input": "2025-09-17T01:02:20.668055Z",
     "iopub.status.busy": "2025-09-17T01:02:20.667756Z",
     "iopub.status.idle": "2025-09-17T01:02:20.678647Z",
     "shell.execute_reply": "2025-09-17T01:02:20.677824Z",
     "shell.execute_reply.started": "2025-09-17T01:02:20.668031Z"
    }
   },
   "outputs": [],
   "source": [
    "MODEL_NAME = 'bert-base-uncased'\n",
    "RUNS[MODEL_NAME] = [\n",
    "    {'TEXT_KEY': 'title', 'LABEL_TYPE': 'subfield', 'SAMPLE': '1', 'INSTANCE_TYPE': 'ml.g6.xlarge',\n",
    "     'done': 'bert-subfield-title-s1-0916224638'},\n",
    "    {'TEXT_KEY': 'title', 'LABEL_TYPE': 'topic', 'SAMPLE': '1', 'INSTANCE_TYPE': 'ml.g6.xlarge',\n",
    "     'done': 'bert-topic-title-s1-0917004738'},\n",
    "    {'TEXT_KEY': 'abstract', 'LABEL_TYPE': 'subfield', 'SAMPLE': '1', 'INSTANCE_TYPE': 'ml.g6.2xlarge',\n",
    "     'done': 'bert-subfield-abstract-s1-0917011627'},\n",
    "    {'TEXT_KEY': 'abstract', 'LABEL_TYPE': 'topic', 'SAMPLE': '1', 'INSTANCE_TYPE': 'ml.g6.2xlarge',\n",
    "     'done': 'bert-topic-abstract-s1-0917012628'},\n",
    "    {'TEXT_KEY': 'fulltext', 'LABEL_TYPE': 'subfield', 'SAMPLE': '1', 'INSTANCE_TYPE': 'ml.g6.4xlarge',\n",
    "     'done': 'bert-subfield-fulltext-s1-0917013629'},\n",
    "    {'TEXT_KEY': 'fulltext', 'LABEL_TYPE': 'topic', 'SAMPLE': '1', 'INSTANCE_TYPE': 'ml.g6.4xlarge',\n",
    "     'done': 'bert-topic-fulltext-s1-0917014630'},\n",
    "    \n",
    "    {'TEXT_KEY': 'title', 'LABEL_TYPE': 'subfield', 'SAMPLE': '10', 'INSTANCE_TYPE': 'ml.g6.4xlarge',\n",
    "     'done': 'bert-subfield-title-s10-0917015631'},\n",
    "    {'TEXT_KEY': 'title', 'LABEL_TYPE': 'topic', 'SAMPLE': '10', 'INSTANCE_TYPE': 'ml.g6.4xlarge',\n",
    "     'done': 'bert-topic-title-s10-0917020632'},\n",
    "    {'TEXT_KEY': 'abstract', 'LABEL_TYPE': 'subfield', 'SAMPLE': '10', 'INSTANCE_TYPE': 'ml.g6.8xlarge',\n",
    "     'done': 'bert-subfield-abstract-s10-0917021633'},\n",
    "    {'TEXT_KEY': 'abstract', 'LABEL_TYPE': 'topic', 'SAMPLE': '10', 'INSTANCE_TYPE': 'ml.g6.8xlarge',\n",
    "     'done': 'bert-topic-abstract-s10-0917022634'},\n",
    "    {'TEXT_KEY': 'fulltext', 'LABEL_TYPE': 'subfield', 'SAMPLE': '10', 'INSTANCE_TYPE': 'ml.g6.12xlarge',\n",
    "     'done': 'bert-subfield-fulltext-s10-0917023635'},\n",
    "    {'TEXT_KEY': 'fulltext', 'LABEL_TYPE': 'topic', 'SAMPLE': '10', 'INSTANCE_TYPE': 'ml.g6.12xlarge',\n",
    "     'done': 'bert-topic-fulltext-s10-0917024635'},\n",
    "    \n",
    "    {'TEXT_KEY': 'title', 'LABEL_TYPE': 'subfield', 'SAMPLE': '100', 'INSTANCE_TYPE': 'ml.g6.8xlarge',\n",
    "     'done': 'bert-subfield-title-s100-0917025636'},\n",
    "    {'TEXT_KEY': 'title', 'LABEL_TYPE': 'topic', 'SAMPLE': '100', 'INSTANCE_TYPE': 'ml.g6.8xlarge',\n",
    "     'done': 'bert-topic-title-s100-0917030637'},\n",
    "    {'TEXT_KEY': 'abstract', 'LABEL_TYPE': 'subfield', 'SAMPLE': '100', 'INSTANCE_TYPE': 'ml.g6.12xlarge',\n",
    "     'done': 'bert-subfield-abstract-s100-0917031638'},\n",
    "    {'TEXT_KEY': 'abstract', 'LABEL_TYPE': 'topic', 'SAMPLE': '100', 'INSTANCE_TYPE': 'ml.g6.12xlarge',\n",
    "     'done': 'bert-topic-abstract-s100-0917032639'},\n",
    "    {'TEXT_KEY': 'fulltext', 'LABEL_TYPE': 'subfield', 'SAMPLE': '100', 'INSTANCE_TYPE': 'ml.g6.24xlarge',\n",
    "     'done': 'bert-subfield-fulltext-s100-0917033640'},\n",
    "    {'TEXT_KEY': 'fulltext', 'LABEL_TYPE': 'topic', 'SAMPLE': '100', 'INSTANCE_TYPE': 'ml.g6.24xlarge',\n",
    "     'done': 'bert-topic-fulltext-s100-0917034641'},\n",
    "]"
   ]
  },
  {
   "cell_type": "code",
   "execution_count": null,
   "id": "32e79722-3ec1-44ac-8621-e3116c77c538",
   "metadata": {
    "execution": {
     "iopub.execute_input": "2025-09-17T01:16:27.879256Z",
     "iopub.status.busy": "2025-09-17T01:16:27.878873Z",
     "iopub.status.idle": "2025-09-17T03:56:41.891426Z"
    }
   },
   "outputs": [
    {
     "name": "stdout",
     "output_type": "stream",
     "text": [
      "Training job created: bert-subfield-abstract-s1-0917011627\n",
      "Training job created: bert-topic-abstract-s1-0917012628\n",
      "Training job created: bert-subfield-fulltext-s1-0917013629\n",
      "Training job created: bert-topic-fulltext-s1-0917014630\n",
      "Training job created: bert-topic-abstract-s100-0917032639\n",
      "Training job created: bert-subfield-fulltext-s100-0917033640\n",
      "Training job created: bert-topic-fulltext-s100-0917034641\n"
     ]
    }
   ],
   "source": [
    "MODEL_NAME = 'bert-base-uncased'\n",
    "for run in RUNS[MODEL_NAME]:\n",
    "    if 'done' not in run or not run['done']:\n",
    "        JOB_NAME = utils.create_supervised_multiclass_classification_training_job(\n",
    "            SCRIPT_FILEPATH=script_dir,\n",
    "            MODEL_NAME=MODEL_NAME,\n",
    "            INSTANCE_TYPE=run['INSTANCE_TYPE'],\n",
    "            TEXT_KEY=run['TEXT_KEY'],\n",
    "            LABEL_TYPE=run['LABEL_TYPE'],\n",
    "            SAMPLE=run['SAMPLE'],\n",
    "            MAX_RUNTIME_S=MAX_RUNTIME\n",
    "        )\n",
    "        time.sleep(10*60)"
   ]
  },
  {
   "cell_type": "code",
   "execution_count": 8,
   "id": "a514cd2f-fbd8-49e4-9022-cdd7f8ccac71",
   "metadata": {
    "execution": {
     "iopub.execute_input": "2025-09-17T09:39:28.348328Z",
     "iopub.status.busy": "2025-09-17T09:39:28.347662Z",
     "iopub.status.idle": "2025-09-17T09:39:28.361888Z",
     "shell.execute_reply": "2025-09-17T09:39:28.360741Z",
     "shell.execute_reply.started": "2025-09-17T09:39:28.348292Z"
    }
   },
   "outputs": [],
   "source": [
    "MODEL_NAME = 'distilbert-base-uncased'\n",
    "RUNS[MODEL_NAME] = [\n",
    "    {'TEXT_KEY': 'title', 'LABEL_TYPE': 'subfield', 'SAMPLE': '1', 'INSTANCE_TYPE': 'ml.g6.xlarge',\n",
    "     'done': 'distilbert-subfield-title-s1-0917084400'},\n",
    "    {'TEXT_KEY': 'title', 'LABEL_TYPE': 'topic', 'SAMPLE': '1', 'INSTANCE_TYPE': 'ml.g6.xlarge',\n",
    "     'done': 'distilbert-topic-title-s1-0917093942'},\n",
    "    {'TEXT_KEY': 'abstract', 'LABEL_TYPE': 'subfield', 'SAMPLE': '1', 'INSTANCE_TYPE': 'ml.g6.2xlarge',\n",
    "     'done': 'distilbert-subfield-abstract-s1-0917094943'},\n",
    "    {'TEXT_KEY': 'abstract', 'LABEL_TYPE': 'topic', 'SAMPLE': '1', 'INSTANCE_TYPE': 'ml.g6.2xlarge',\n",
    "     'done': 'distilbert-topic-abstract-s1-0917095944'},\n",
    "    {'TEXT_KEY': 'fulltext', 'LABEL_TYPE': 'subfield', 'SAMPLE': '1', 'INSTANCE_TYPE': 'ml.g6.4xlarge',\n",
    "     'done': 'InProgress: distilbert-subfield-fulltext-s1-0917100945'},\n",
    "    {'TEXT_KEY': 'fulltext', 'LABEL_TYPE': 'topic', 'SAMPLE': '1', 'INSTANCE_TYPE': 'ml.g6.4xlarge',\n",
    "     'done': 'distilbert-topic-fulltext-s1-0917101945'},\n",
    "    \n",
    "    {'TEXT_KEY': 'title', 'LABEL_TYPE': 'subfield', 'SAMPLE': '10', 'INSTANCE_TYPE': 'ml.g6.4xlarge',\n",
    "     'done': False},\n",
    "    {'TEXT_KEY': 'title', 'LABEL_TYPE': 'topic', 'SAMPLE': '10', 'INSTANCE_TYPE': 'ml.g6.4xlarge',\n",
    "     'done': False},\n",
    "    {'TEXT_KEY': 'abstract', 'LABEL_TYPE': 'subfield', 'SAMPLE': '10', 'INSTANCE_TYPE': 'ml.g6.8xlarge',\n",
    "     'done': False},\n",
    "    {'TEXT_KEY': 'abstract', 'LABEL_TYPE': 'topic', 'SAMPLE': '10', 'INSTANCE_TYPE': 'ml.g6.8xlarge',\n",
    "     'done': False},\n",
    "    {'TEXT_KEY': 'fulltext', 'LABEL_TYPE': 'subfield', 'SAMPLE': '10', 'INSTANCE_TYPE': 'ml.g6.12xlarge',\n",
    "     'done': False},\n",
    "    {'TEXT_KEY': 'fulltext', 'LABEL_TYPE': 'topic', 'SAMPLE': '10', 'INSTANCE_TYPE': 'ml.g6.12xlarge',\n",
    "     'done': False},\n",
    "    \n",
    "    {'TEXT_KEY': 'title', 'LABEL_TYPE': 'subfield', 'SAMPLE': '100', 'INSTANCE_TYPE': 'ml.g6.8xlarge',\n",
    "     'done': False},\n",
    "    {'TEXT_KEY': 'title', 'LABEL_TYPE': 'topic', 'SAMPLE': '100', 'INSTANCE_TYPE': 'ml.g6.8xlarge',\n",
    "     'done': False},\n",
    "    {'TEXT_KEY': 'abstract', 'LABEL_TYPE': 'subfield', 'SAMPLE': '100', 'INSTANCE_TYPE': 'ml.g6.12xlarge',\n",
    "     'done': False},\n",
    "    {'TEXT_KEY': 'abstract', 'LABEL_TYPE': 'topic', 'SAMPLE': '100', 'INSTANCE_TYPE': 'ml.g6.12xlarge',\n",
    "     'done': False},\n",
    "    {'TEXT_KEY': 'fulltext', 'LABEL_TYPE': 'subfield', 'SAMPLE': '100', 'INSTANCE_TYPE': 'ml.g6.24xlarge',\n",
    "     'done': False},\n",
    "    {'TEXT_KEY': 'fulltext', 'LABEL_TYPE': 'topic', 'SAMPLE': '100', 'INSTANCE_TYPE': 'ml.g6.24xlarge',\n",
    "     'done': False},\n",
    "]"
   ]
  },
  {
   "cell_type": "code",
   "execution_count": 9,
   "id": "40d1a92e-ce59-4754-8a8e-7b7d2c9c6109",
   "metadata": {
    "execution": {
     "iopub.execute_input": "2025-09-17T09:39:42.344995Z",
     "iopub.status.busy": "2025-09-17T09:39:42.344680Z",
     "iopub.status.idle": "2025-09-17T12:29:58.104658Z",
     "shell.execute_reply": "2025-09-17T12:29:58.103357Z",
     "shell.execute_reply.started": "2025-09-17T09:39:42.344970Z"
    }
   },
   "outputs": [
    {
     "name": "stdout",
     "output_type": "stream",
     "text": [
      "Training job created: distilbert-topic-title-s1-0917093942\n",
      "Training job created: distilbert-subfield-abstract-s1-0917094943\n",
      "Training job created: distilbert-topic-abstract-s1-0917095944\n",
      "Training job created: distilbert-subfield-fulltext-s1-0917100945\n",
      "Training job created: distilbert-topic-fulltext-s1-0917101945\n",
      "Training job created: distilbert-subfield-title-s10-0917102947\n",
      "Training job created: distilbert-topic-title-s10-0917103948\n",
      "Training job created: distilbert-subfield-abstract-s10-0917104949\n",
      "Training job created: distilbert-topic-abstract-s10-0917105949\n",
      "Training job created: distilbert-subfield-fulltext-s10-0917110950\n",
      "Training job created: distilbert-topic-fulltext-s10-0917111951\n",
      "Training job created: distilbert-subfield-title-s100-0917112952\n",
      "Training job created: distilbert-topic-title-s100-0917113953\n",
      "Training job created: distilbert-subfield-abstract-s100-0917114954\n",
      "Training job created: distilbert-topic-abstract-s100-0917115955\n",
      "Training job created: distilbert-subfield-fulltext-s100-0917120956\n",
      "Training job created: distilbert-topic-fulltext-s100-0917121957\n"
     ]
    }
   ],
   "source": [
    "MODEL_NAME = 'distilbert-base-uncased'\n",
    "for run in RUNS[MODEL_NAME]:\n",
    "    if 'done' not in run or not run['done']:\n",
    "        JOB_NAME = utils.create_supervised_multiclass_classification_training_job(\n",
    "            SCRIPT_FILEPATH=script_dir,\n",
    "            MODEL_NAME=MODEL_NAME,\n",
    "            INSTANCE_TYPE=run['INSTANCE_TYPE'],\n",
    "            TEXT_KEY=run['TEXT_KEY'],\n",
    "            LABEL_TYPE=run['LABEL_TYPE'],\n",
    "            SAMPLE=run['SAMPLE'],\n",
    "            MAX_RUNTIME_S=MAX_RUNTIME\n",
    "        )\n",
    "        time.sleep(3*60)"
   ]
  },
  {
   "cell_type": "code",
   "execution_count": 13,
   "id": "334a50a9-04dd-44f9-a672-d60c25086d23",
   "metadata": {
    "execution": {
     "iopub.execute_input": "2025-09-17T13:18:57.312882Z",
     "iopub.status.busy": "2025-09-17T13:18:57.312360Z",
     "iopub.status.idle": "2025-09-17T13:18:57.328564Z",
     "shell.execute_reply": "2025-09-17T13:18:57.327246Z",
     "shell.execute_reply.started": "2025-09-17T13:18:57.312843Z"
    }
   },
   "outputs": [],
   "source": [
    "MODEL_NAME = 'microsoft/deberta-v3-base'\n",
    "RUNS[MODEL_NAME] = [\n",
    "    {'TEXT_KEY': 'title', 'LABEL_TYPE': 'subfield', 'SAMPLE': '1', 'INSTANCE_TYPE': 'ml.g6.xlarge',\n",
    "     'done': 'deberta-subfield-title-s1-0917123950'},\n",
    "    {'TEXT_KEY': 'title', 'LABEL_TYPE': 'topic', 'SAMPLE': '1', 'INSTANCE_TYPE': 'ml.g6.xlarge',\n",
    "     'done': False},\n",
    "    {'TEXT_KEY': 'abstract', 'LABEL_TYPE': 'subfield', 'SAMPLE': '1', 'INSTANCE_TYPE': 'ml.g6.2xlarge',\n",
    "     'done': False},\n",
    "    {'TEXT_KEY': 'abstract', 'LABEL_TYPE': 'topic', 'SAMPLE': '1', 'INSTANCE_TYPE': 'ml.g6.2xlarge',\n",
    "     'done': False},\n",
    "    {'TEXT_KEY': 'fulltext', 'LABEL_TYPE': 'subfield', 'SAMPLE': '1', 'INSTANCE_TYPE': 'ml.g6.4xlarge',\n",
    "     'done': False},\n",
    "    {'TEXT_KEY': 'fulltext', 'LABEL_TYPE': 'topic', 'SAMPLE': '1', 'INSTANCE_TYPE': 'ml.g6.4xlarge',\n",
    "     'done': False},\n",
    "\n",
    "    {'TEXT_KEY': 'title', 'LABEL_TYPE': 'subfield', 'SAMPLE': '10', 'INSTANCE_TYPE': 'ml.g6.8xlarge',\n",
    "     'done': False},\n",
    "    {'TEXT_KEY': 'title', 'LABEL_TYPE': 'topic', 'SAMPLE': '10', 'INSTANCE_TYPE': 'ml.g6.8xlarge',\n",
    "     'done': False},\n",
    "    {'TEXT_KEY': 'abstract', 'LABEL_TYPE': 'subfield', 'SAMPLE': '10', 'INSTANCE_TYPE': 'ml.g6.12xlarge',\n",
    "     'done': False},\n",
    "    {'TEXT_KEY': 'abstract', 'LABEL_TYPE': 'topic', 'SAMPLE': '10', 'INSTANCE_TYPE': 'ml.g6.12xlarge',\n",
    "     'done': False},\n",
    "    {'TEXT_KEY': 'fulltext', 'LABEL_TYPE': 'subfield', 'SAMPLE': '10', 'INSTANCE_TYPE': 'ml.g6.16xlarge',\n",
    "     'done': False},\n",
    "    {'TEXT_KEY': 'fulltext', 'LABEL_TYPE': 'topic', 'SAMPLE': '10', 'INSTANCE_TYPE': 'ml.g6.16xlarge',\n",
    "     'done': False},\n",
    "    \n",
    "    {'TEXT_KEY': 'title', 'LABEL_TYPE': 'subfield', 'SAMPLE': '100', 'INSTANCE_TYPE': 'ml.g6.16xlarge',\n",
    "     'done': False},\n",
    "    {'TEXT_KEY': 'title', 'LABEL_TYPE': 'topic', 'SAMPLE': '100', 'INSTANCE_TYPE': 'ml.g6.16xlarge',\n",
    "     'done': False},\n",
    "    {'TEXT_KEY': 'abstract', 'LABEL_TYPE': 'subfield', 'SAMPLE': '100', 'INSTANCE_TYPE': 'ml.g6.16xlarge',\n",
    "     'done': False},\n",
    "    {'TEXT_KEY': 'abstract', 'LABEL_TYPE': 'topic', 'SAMPLE': '100', 'INSTANCE_TYPE': 'ml.g6.16xlarge',\n",
    "     'done': False},\n",
    "    {'TEXT_KEY': 'fulltext', 'LABEL_TYPE': 'subfield', 'SAMPLE': '100', 'INSTANCE_TYPE': 'ml.g6.24xlarge',\n",
    "     'done': False},\n",
    "    {'TEXT_KEY': 'fulltext', 'LABEL_TYPE': 'topic', 'SAMPLE': '100', 'INSTANCE_TYPE': 'ml.g6.24xlarge',\n",
    "     'done': False},\n",
    "]"
   ]
  },
  {
   "cell_type": "code",
   "execution_count": 14,
   "id": "97e4faa9-80ed-4d3c-a498-c7251e00045e",
   "metadata": {
    "execution": {
     "iopub.execute_input": "2025-09-17T13:19:04.345757Z",
     "iopub.status.busy": "2025-09-17T13:19:04.345420Z",
     "iopub.status.idle": "2025-09-17T14:10:21.535801Z",
     "shell.execute_reply": "2025-09-17T14:10:21.534335Z",
     "shell.execute_reply.started": "2025-09-17T13:19:04.345730Z"
    }
   },
   "outputs": [
    {
     "name": "stdout",
     "output_type": "stream",
     "text": [
      "Training job created: deberta-topic-title-s1-0917131904\n",
      "Training job created: deberta-subfield-abstract-s1-0917132205\n",
      "Training job created: deberta-topic-abstract-s1-0917132506\n",
      "Training job created: deberta-subfield-fulltext-s1-0917132807\n",
      "Training job created: deberta-topic-fulltext-s1-0917133108\n",
      "Training job created: deberta-subfield-title-s10-0917133409\n",
      "Training job created: deberta-topic-title-s10-0917133710\n",
      "Training job created: deberta-subfield-abstract-s10-0917134010\n",
      "Training job created: deberta-topic-abstract-s10-0917134312\n",
      "Training job created: deberta-subfield-fulltext-s10-0917134613\n",
      "Training job created: deberta-topic-fulltext-s10-0917134914\n",
      "Training job created: deberta-subfield-title-s100-0917135215\n",
      "Training job created: deberta-topic-title-s100-0917135516\n",
      "Training job created: deberta-subfield-abstract-s100-0917135817\n",
      "Training job created: deberta-topic-abstract-s100-0917140118\n",
      "Training job created: deberta-subfield-fulltext-s100-0917140419\n",
      "Training job created: deberta-topic-fulltext-s100-0917140720\n"
     ]
    }
   ],
   "source": [
    "MODEL_NAME = 'microsoft/deberta-v3-base'\n",
    "for run in RUNS[MODEL_NAME]:\n",
    "    if 'done' not in run or not run['done']:\n",
    "        JOB_NAME = utils.create_supervised_multiclass_classification_training_job(\n",
    "            SCRIPT_FILEPATH=script_dir,\n",
    "            MODEL_NAME=MODEL_NAME,\n",
    "            INSTANCE_TYPE=run['INSTANCE_TYPE'],\n",
    "            TEXT_KEY=run['TEXT_KEY'],\n",
    "            LABEL_TYPE=run['LABEL_TYPE'],\n",
    "            SAMPLE=run['SAMPLE'],\n",
    "            MAX_RUNTIME_S=MAX_RUNTIME\n",
    "        )\n",
    "        time.sleep(3*60)"
   ]
  },
  {
   "cell_type": "code",
   "execution_count": 31,
   "id": "a3655e06-d95c-44ac-acbf-de5166b9612d",
   "metadata": {
    "execution": {
     "iopub.execute_input": "2025-09-17T14:48:16.466610Z",
     "iopub.status.busy": "2025-09-17T14:48:16.466170Z",
     "iopub.status.idle": "2025-09-17T14:48:16.485244Z",
     "shell.execute_reply": "2025-09-17T14:48:16.483719Z",
     "shell.execute_reply.started": "2025-09-17T14:48:16.466573Z"
    }
   },
   "outputs": [],
   "source": [
    "MODEL_NAME = 'roberta-base'\n",
    "RUNS[MODEL_NAME] = [\n",
    "    {'TEXT_KEY': 'title', 'LABEL_TYPE': 'subfield', 'SAMPLE': '1', 'INSTANCE_TYPE': 'ml.g6.xlarge',\n",
    "     'done': 'InProgress: roberta-subfield-title-s1-0917142512'},\n",
    "    {'TEXT_KEY': 'title', 'LABEL_TYPE': 'topic', 'SAMPLE': '1', 'INSTANCE_TYPE': 'ml.g6.xlarge',\n",
    "     'done': False},\n",
    "    {'TEXT_KEY': 'abstract', 'LABEL_TYPE': 'subfield', 'SAMPLE': '1', 'INSTANCE_TYPE': 'ml.g6.2xlarge',\n",
    "     'done': False},\n",
    "    {'TEXT_KEY': 'abstract', 'LABEL_TYPE': 'topic', 'SAMPLE': '1', 'INSTANCE_TYPE': 'ml.g6.2xlarge',\n",
    "     'done': False},\n",
    "    {'TEXT_KEY': 'fulltext', 'LABEL_TYPE': 'subfield', 'SAMPLE': '1', 'INSTANCE_TYPE': 'ml.g6.4xlarge',\n",
    "     'done': False},\n",
    "    {'TEXT_KEY': 'fulltext', 'LABEL_TYPE': 'topic', 'SAMPLE': '1', 'INSTANCE_TYPE': 'ml.g6.4xlarge',\n",
    "     'done': False},\n",
    "\n",
    "    {'TEXT_KEY': 'title', 'LABEL_TYPE': 'subfield', 'SAMPLE': '10', 'INSTANCE_TYPE': 'ml.g6.4xlarge',\n",
    "     'done': False},\n",
    "    {'TEXT_KEY': 'title', 'LABEL_TYPE': 'topic', 'SAMPLE': '10', 'INSTANCE_TYPE': 'ml.g6.4xlarge',\n",
    "     'done': False},\n",
    "    {'TEXT_KEY': 'abstract', 'LABEL_TYPE': 'subfield', 'SAMPLE': '10', 'INSTANCE_TYPE': 'ml.g6.24xlarge',\n",
    "     'done': False},\n",
    "    {'TEXT_KEY': 'abstract', 'LABEL_TYPE': 'topic', 'SAMPLE': '10', 'INSTANCE_TYPE': 'ml.g6.24xlarge',\n",
    "     'done': False},\n",
    "    {'TEXT_KEY': 'fulltext', 'LABEL_TYPE': 'subfield', 'SAMPLE': '10', 'INSTANCE_TYPE': 'ml.g6.48xlarge',\n",
    "     'done': False},\n",
    "    {'TEXT_KEY': 'fulltext', 'LABEL_TYPE': 'topic', 'SAMPLE': '10', 'INSTANCE_TYPE': 'ml.g6.48xlarge',\n",
    "     'done': False},\n",
    "    \n",
    "    {'TEXT_KEY': 'title', 'LABEL_TYPE': 'subfield', 'SAMPLE': '100', 'INSTANCE_TYPE': 'ml.g6.8xlarge',\n",
    "     'done': False},\n",
    "    {'TEXT_KEY': 'title', 'LABEL_TYPE': 'topic', 'SAMPLE': '100', 'INSTANCE_TYPE': 'ml.g6.8xlarge',\n",
    "     'done': False},\n",
    "    {'TEXT_KEY': 'abstract', 'LABEL_TYPE': 'subfield', 'SAMPLE': '100', 'INSTANCE_TYPE': 'ml.g6.48xlarge',\n",
    "     'done': False},\n",
    "    {'TEXT_KEY': 'abstract', 'LABEL_TYPE': 'topic', 'SAMPLE': '100', 'INSTANCE_TYPE': 'ml.g6.48xlarge',\n",
    "     'done': False},\n",
    "    {'TEXT_KEY': 'fulltext', 'LABEL_TYPE': 'subfield', 'SAMPLE': '100', 'INSTANCE_TYPE': 'ml.g6.48xlarge',\n",
    "     'done': False},\n",
    "    {'TEXT_KEY': 'fulltext', 'LABEL_TYPE': 'topic', 'SAMPLE': '100', 'INSTANCE_TYPE': 'ml.g6.48xlarge',\n",
    "     'done': False},\n",
    "]"
   ]
  },
  {
   "cell_type": "code",
   "execution_count": null,
   "id": "fcc5c9bc-5a25-4f6d-b562-b25228209e49",
   "metadata": {
    "execution": {
     "iopub.execute_input": "2025-09-17T14:48:19.876857Z",
     "iopub.status.busy": "2025-09-17T14:48:19.876446Z"
    }
   },
   "outputs": [
    {
     "name": "stdout",
     "output_type": "stream",
     "text": [
      "Training job created: roberta-topic-fulltext-s100-0917144819\n"
     ]
    }
   ],
   "source": [
    "MODEL_NAME = 'roberta-base'\n",
    "for run in reversed(RUNS[MODEL_NAME]):\n",
    "    if 'done' not in run or not run['done']:\n",
    "        JOB_NAME = utils.create_supervised_multiclass_classification_training_job(\n",
    "            SCRIPT_FILEPATH=script_dir,\n",
    "            MODEL_NAME=MODEL_NAME,\n",
    "            INSTANCE_TYPE=run['INSTANCE_TYPE'],\n",
    "            TEXT_KEY=run['TEXT_KEY'],\n",
    "            LABEL_TYPE=run['LABEL_TYPE'],\n",
    "            SAMPLE=run['SAMPLE'],\n",
    "            MAX_RUNTIME_S=MAX_RUNTIME\n",
    "        )\n",
    "        time.sleep(3*60)"
   ]
  },
  {
   "cell_type": "code",
   "execution_count": 19,
   "id": "6f1b5b6f-81d8-4f4e-aa2a-325403a8a57d",
   "metadata": {
    "execution": {
     "iopub.execute_input": "2025-09-17T14:28:12.990147Z",
     "iopub.status.busy": "2025-09-17T14:28:12.989815Z",
     "iopub.status.idle": "2025-09-17T14:28:13.000474Z",
     "shell.execute_reply": "2025-09-17T14:28:12.999336Z",
     "shell.execute_reply.started": "2025-09-17T14:28:12.990115Z"
    }
   },
   "outputs": [],
   "source": [
    "MODEL_NAME = 'answerdotai/ModernBERT-base'\n",
    "RUNS[MODEL_NAME] = [\n",
    "    {'TEXT_KEY': 'title', 'LABEL_TYPE': 'subfield', 'SAMPLE': '1', 'INSTANCE_TYPE': 'ml.g6.xlarge',\n",
    "     'done': False},\n",
    "    {'TEXT_KEY': 'title', 'LABEL_TYPE': 'topic', 'SAMPLE': '1', 'INSTANCE_TYPE': 'ml.g6.xlarge',\n",
    "     'done': 'not yet'},\n",
    "    {'TEXT_KEY': 'abstract', 'LABEL_TYPE': 'subfield', 'SAMPLE': '1', 'INSTANCE_TYPE': 'ml.g6.2xlarge',\n",
    "     'done': 'not yet'},\n",
    "    {'TEXT_KEY': 'abstract', 'LABEL_TYPE': 'topic', 'SAMPLE': '1', 'INSTANCE_TYPE': 'ml.g6.2xlarge',\n",
    "     'done': 'not yet'},\n",
    "    {'TEXT_KEY': 'fulltext', 'LABEL_TYPE': 'subfield', 'SAMPLE': '1', 'INSTANCE_TYPE': 'ml.g6.4xlarge',\n",
    "     'done': 'not yet'},\n",
    "    {'TEXT_KEY': 'fulltext', 'LABEL_TYPE': 'topic', 'SAMPLE': '1', 'INSTANCE_TYPE': 'ml.g6.4xlarge',\n",
    "     'done': 'not yet'},\n",
    "\n",
    "    {'TEXT_KEY': 'title', 'LABEL_TYPE': 'subfield', 'SAMPLE': '10', 'INSTANCE_TYPE': 'ml.g6.8xlarge',\n",
    "     'done': 'not yet'},\n",
    "    {'TEXT_KEY': 'title', 'LABEL_TYPE': 'topic', 'SAMPLE': '10', 'INSTANCE_TYPE': 'ml.g6.8xlarge',\n",
    "     'done': 'not yet'},\n",
    "    {'TEXT_KEY': 'abstract', 'LABEL_TYPE': 'subfield', 'SAMPLE': '10', 'INSTANCE_TYPE': 'ml.g6.12xlarge',\n",
    "     'done': 'not yet'},\n",
    "    {'TEXT_KEY': 'abstract', 'LABEL_TYPE': 'topic', 'SAMPLE': '10', 'INSTANCE_TYPE': 'ml.g6.12xlarge',\n",
    "     'done': 'not yet'},\n",
    "    {'TEXT_KEY': 'fulltext', 'LABEL_TYPE': 'subfield', 'SAMPLE': '10', 'INSTANCE_TYPE': 'ml.g6.16xlarge',\n",
    "     'done': 'not yet'},\n",
    "    {'TEXT_KEY': 'fulltext', 'LABEL_TYPE': 'topic', 'SAMPLE': '10', 'INSTANCE_TYPE': 'ml.g6.16xlarge',\n",
    "     'done': 'not yet'},\n",
    "    \n",
    "    {'TEXT_KEY': 'title', 'LABEL_TYPE': 'subfield', 'SAMPLE': '100', 'INSTANCE_TYPE': 'ml.g6.16xlarge',\n",
    "     'done': 'not yet'},\n",
    "    {'TEXT_KEY': 'title', 'LABEL_TYPE': 'topic', 'SAMPLE': '100', 'INSTANCE_TYPE': 'ml.g6.16xlarge',\n",
    "     'done': 'not yet'},\n",
    "    {'TEXT_KEY': 'abstract', 'LABEL_TYPE': 'subfield', 'SAMPLE': '100', 'INSTANCE_TYPE': 'ml.g6.16xlarge',\n",
    "     'done': 'not yet'},\n",
    "    {'TEXT_KEY': 'abstract', 'LABEL_TYPE': 'topic', 'SAMPLE': '100', 'INSTANCE_TYPE': 'ml.g6.16xlarge',\n",
    "     'done': 'not yet'},\n",
    "    {'TEXT_KEY': 'fulltext', 'LABEL_TYPE': 'subfield', 'SAMPLE': '100', 'INSTANCE_TYPE': 'ml.g6.24xlarge',\n",
    "     'done': 'not yet'},\n",
    "    {'TEXT_KEY': 'fulltext', 'LABEL_TYPE': 'topic', 'SAMPLE': '100', 'INSTANCE_TYPE': 'ml.g6.24xlarge',\n",
    "     'done': 'not yet'},\n",
    "]"
   ]
  },
  {
   "cell_type": "code",
   "execution_count": 20,
   "id": "cbc4f1c7-bdc8-4df2-8a80-da7fffb90596",
   "metadata": {
    "execution": {
     "iopub.execute_input": "2025-09-17T14:28:13.001917Z",
     "iopub.status.busy": "2025-09-17T14:28:13.001554Z",
     "iopub.status.idle": "2025-09-17T14:31:13.821093Z",
     "shell.execute_reply": "2025-09-17T14:31:13.820162Z",
     "shell.execute_reply.started": "2025-09-17T14:28:13.001880Z"
    }
   },
   "outputs": [
    {
     "name": "stdout",
     "output_type": "stream",
     "text": [
      "Training job created: ModernBERT-subfield-title-s1-0917142813\n"
     ]
    }
   ],
   "source": [
    "MODEL_NAME = 'answerdotai/ModernBERT-base'\n",
    "for run in reversed(RUNS[MODEL_NAME]):\n",
    "    if 'done' not in run or not run['done']:\n",
    "        JOB_NAME = utils.create_supervised_multiclass_classification_training_job(\n",
    "            SCRIPT_FILEPATH=script_dir,\n",
    "            MODEL_NAME=MODEL_NAME,\n",
    "            INSTANCE_TYPE=run['INSTANCE_TYPE'],\n",
    "            TEXT_KEY=run['TEXT_KEY'],\n",
    "            LABEL_TYPE=run['LABEL_TYPE'],\n",
    "            SAMPLE=run['SAMPLE'],\n",
    "            MAX_RUNTIME_S=MAX_RUNTIME\n",
    "        )\n",
    "        time.sleep(3*60)"
   ]
  },
  {
   "cell_type": "code",
   "execution_count": 24,
   "id": "3ab379ed-40d4-42e3-bff5-1e1d46b07a6c",
   "metadata": {
    "execution": {
     "iopub.execute_input": "2025-09-17T14:32:24.509231Z",
     "iopub.status.busy": "2025-09-17T14:32:24.508814Z",
     "iopub.status.idle": "2025-09-17T14:32:24.536529Z",
     "shell.execute_reply": "2025-09-17T14:32:24.534824Z",
     "shell.execute_reply.started": "2025-09-17T14:32:24.509194Z"
    }
   },
   "outputs": [],
   "source": [
    "MODEL_NAME = 'allenai/scibert_scivocab_uncased'\n",
    "RUNS[MODEL_NAME] = [\n",
    "    {'TEXT_KEY': 'title', 'LABEL_TYPE': 'subfield', 'SAMPLE': '1', 'INSTANCE_TYPE': 'ml.g6.xlarge',\n",
    "     'done': False},\n",
    "    {'TEXT_KEY': 'title', 'LABEL_TYPE': 'topic', 'SAMPLE': '1', 'INSTANCE_TYPE': 'ml.g6.xlarge',\n",
    "     'done': 'not yet'},\n",
    "    {'TEXT_KEY': 'abstract', 'LABEL_TYPE': 'subfield', 'SAMPLE': '1', 'INSTANCE_TYPE': 'ml.g6.2xlarge',\n",
    "     'done': 'not yet'},\n",
    "    {'TEXT_KEY': 'abstract', 'LABEL_TYPE': 'topic', 'SAMPLE': '1', 'INSTANCE_TYPE': 'ml.g6.2xlarge',\n",
    "     'done': 'not yet'},\n",
    "    {'TEXT_KEY': 'fulltext', 'LABEL_TYPE': 'subfield', 'SAMPLE': '1', 'INSTANCE_TYPE': 'ml.g6.4xlarge',\n",
    "     'done': 'not yet'},\n",
    "    {'TEXT_KEY': 'fulltext', 'LABEL_TYPE': 'topic', 'SAMPLE': '1', 'INSTANCE_TYPE': 'ml.g6.4xlarge',\n",
    "     'done': 'not yet'},\n",
    "\n",
    "    {'TEXT_KEY': 'title', 'LABEL_TYPE': 'subfield', 'SAMPLE': '10', 'INSTANCE_TYPE': 'ml.g6.8xlarge',\n",
    "     'done': 'not yet'},\n",
    "    {'TEXT_KEY': 'title', 'LABEL_TYPE': 'topic', 'SAMPLE': '10', 'INSTANCE_TYPE': 'ml.g6.8xlarge',\n",
    "     'done': 'not yet'},\n",
    "    {'TEXT_KEY': 'abstract', 'LABEL_TYPE': 'subfield', 'SAMPLE': '10', 'INSTANCE_TYPE': 'ml.g6.12xlarge',\n",
    "     'done': 'not yet'},\n",
    "    {'TEXT_KEY': 'abstract', 'LABEL_TYPE': 'topic', 'SAMPLE': '10', 'INSTANCE_TYPE': 'ml.g6.12xlarge',\n",
    "     'done': 'not yet'},\n",
    "    {'TEXT_KEY': 'fulltext', 'LABEL_TYPE': 'subfield', 'SAMPLE': '10', 'INSTANCE_TYPE': 'ml.g6.16xlarge',\n",
    "     'done': 'not yet'},\n",
    "    {'TEXT_KEY': 'fulltext', 'LABEL_TYPE': 'topic', 'SAMPLE': '10', 'INSTANCE_TYPE': 'ml.g6.16xlarge',\n",
    "     'done': 'not yet'},\n",
    "    \n",
    "    {'TEXT_KEY': 'title', 'LABEL_TYPE': 'subfield', 'SAMPLE': '100', 'INSTANCE_TYPE': 'ml.g6.16xlarge',\n",
    "     'done': 'not yet'},\n",
    "    {'TEXT_KEY': 'title', 'LABEL_TYPE': 'topic', 'SAMPLE': '100', 'INSTANCE_TYPE': 'ml.g6.16xlarge',\n",
    "     'done': 'not yet'},\n",
    "    {'TEXT_KEY': 'abstract', 'LABEL_TYPE': 'subfield', 'SAMPLE': '100', 'INSTANCE_TYPE': 'ml.g6.16xlarge',\n",
    "     'done': 'not yet'},\n",
    "    {'TEXT_KEY': 'abstract', 'LABEL_TYPE': 'topic', 'SAMPLE': '100', 'INSTANCE_TYPE': 'ml.g6.16xlarge',\n",
    "     'done': 'not yet'},\n",
    "    {'TEXT_KEY': 'fulltext', 'LABEL_TYPE': 'subfield', 'SAMPLE': '100', 'INSTANCE_TYPE': 'ml.g6.24xlarge',\n",
    "     'done': 'not yet'},\n",
    "    {'TEXT_KEY': 'fulltext', 'LABEL_TYPE': 'topic', 'SAMPLE': '100', 'INSTANCE_TYPE': 'ml.g6.24xlarge',\n",
    "     'done': 'not yet'},\n",
    "]"
   ]
  },
  {
   "cell_type": "code",
   "execution_count": 25,
   "id": "51195875-5d42-446d-b1b7-3df9de90c10a",
   "metadata": {
    "execution": {
     "iopub.execute_input": "2025-09-17T14:32:25.351043Z",
     "iopub.status.busy": "2025-09-17T14:32:25.350655Z",
     "iopub.status.idle": "2025-09-17T14:35:26.299563Z",
     "shell.execute_reply": "2025-09-17T14:35:26.298420Z",
     "shell.execute_reply.started": "2025-09-17T14:32:25.351010Z"
    }
   },
   "outputs": [
    {
     "name": "stdout",
     "output_type": "stream",
     "text": [
      "Training job created: scibert-subfield-title-s1-0917143225\n"
     ]
    }
   ],
   "source": [
    "MODEL_NAME = 'allenai/scibert_scivocab_uncased'\n",
    "for run in reversed(RUNS[MODEL_NAME]):\n",
    "    if 'done' not in run or not run['done']:\n",
    "        JOB_NAME = utils.create_supervised_multiclass_classification_training_job(\n",
    "            SCRIPT_FILEPATH=script_dir,\n",
    "            MODEL_NAME=MODEL_NAME,\n",
    "            INSTANCE_TYPE=run['INSTANCE_TYPE'],\n",
    "            TEXT_KEY=run['TEXT_KEY'],\n",
    "            LABEL_TYPE=run['LABEL_TYPE'],\n",
    "            SAMPLE=run['SAMPLE'],\n",
    "            MAX_RUNTIME_S=MAX_RUNTIME\n",
    "        )\n",
    "        time.sleep(3*60)"
   ]
  },
  {
   "cell_type": "code",
   "execution_count": 26,
   "id": "1282c01e-2ad0-43c1-a231-afb9dda9a180",
   "metadata": {
    "execution": {
     "iopub.execute_input": "2025-09-17T14:35:26.302187Z",
     "iopub.status.busy": "2025-09-17T14:35:26.301783Z",
     "iopub.status.idle": "2025-09-17T14:35:26.311125Z",
     "shell.execute_reply": "2025-09-17T14:35:26.310028Z",
     "shell.execute_reply.started": "2025-09-17T14:35:26.302149Z"
    }
   },
   "outputs": [],
   "source": [
    "MODEL_NAME = 'google/bigbird-roberta-base'\n",
    "RUNS[MODEL_NAME] = [\n",
    "    {'TEXT_KEY': 'title', 'LABEL_TYPE': 'subfield', 'SAMPLE': '1', 'INSTANCE_TYPE': 'ml.g6.xlarge',\n",
    "     'done': False},\n",
    "    {'TEXT_KEY': 'title', 'LABEL_TYPE': 'topic', 'SAMPLE': '1', 'INSTANCE_TYPE': 'ml.g6.xlarge',\n",
    "     'done': 'not yet'},\n",
    "    {'TEXT_KEY': 'abstract', 'LABEL_TYPE': 'subfield', 'SAMPLE': '1', 'INSTANCE_TYPE': 'ml.g6.2xlarge',\n",
    "     'done': 'not yet'},\n",
    "    {'TEXT_KEY': 'abstract', 'LABEL_TYPE': 'topic', 'SAMPLE': '1', 'INSTANCE_TYPE': 'ml.g6.2xlarge',\n",
    "     'done': 'not yet'},\n",
    "    {'TEXT_KEY': 'fulltext', 'LABEL_TYPE': 'subfield', 'SAMPLE': '1', 'INSTANCE_TYPE': 'ml.g6.4xlarge',\n",
    "     'done': 'not yet'},\n",
    "    {'TEXT_KEY': 'fulltext', 'LABEL_TYPE': 'topic', 'SAMPLE': '1', 'INSTANCE_TYPE': 'ml.g6.4xlarge',\n",
    "     'done': 'not yet'},\n",
    "\n",
    "    {'TEXT_KEY': 'title', 'LABEL_TYPE': 'subfield', 'SAMPLE': '10', 'INSTANCE_TYPE': 'ml.g6.8xlarge',\n",
    "     'done': 'not yet'},\n",
    "    {'TEXT_KEY': 'title', 'LABEL_TYPE': 'topic', 'SAMPLE': '10', 'INSTANCE_TYPE': 'ml.g6.8xlarge',\n",
    "     'done': 'not yet'},\n",
    "    {'TEXT_KEY': 'abstract', 'LABEL_TYPE': 'subfield', 'SAMPLE': '10', 'INSTANCE_TYPE': 'ml.g6.12xlarge',\n",
    "     'done': 'not yet'},\n",
    "    {'TEXT_KEY': 'abstract', 'LABEL_TYPE': 'topic', 'SAMPLE': '10', 'INSTANCE_TYPE': 'ml.g6.12xlarge',\n",
    "     'done': 'not yet'},\n",
    "    {'TEXT_KEY': 'fulltext', 'LABEL_TYPE': 'subfield', 'SAMPLE': '10', 'INSTANCE_TYPE': 'ml.g6.16xlarge',\n",
    "     'done': 'not yet'},\n",
    "    {'TEXT_KEY': 'fulltext', 'LABEL_TYPE': 'topic', 'SAMPLE': '10', 'INSTANCE_TYPE': 'ml.g6.16xlarge',\n",
    "     'done': 'not yet'},\n",
    "    \n",
    "    {'TEXT_KEY': 'title', 'LABEL_TYPE': 'subfield', 'SAMPLE': '100', 'INSTANCE_TYPE': 'ml.g6.16xlarge',\n",
    "     'done': 'not yet'},\n",
    "    {'TEXT_KEY': 'title', 'LABEL_TYPE': 'topic', 'SAMPLE': '100', 'INSTANCE_TYPE': 'ml.g6.16xlarge',\n",
    "     'done': 'not yet'},\n",
    "    {'TEXT_KEY': 'abstract', 'LABEL_TYPE': 'subfield', 'SAMPLE': '100', 'INSTANCE_TYPE': 'ml.g6.16xlarge',\n",
    "     'done': 'not yet'},\n",
    "    {'TEXT_KEY': 'abstract', 'LABEL_TYPE': 'topic', 'SAMPLE': '100', 'INSTANCE_TYPE': 'ml.g6.16xlarge',\n",
    "     'done': 'not yet'},\n",
    "    {'TEXT_KEY': 'fulltext', 'LABEL_TYPE': 'subfield', 'SAMPLE': '100', 'INSTANCE_TYPE': 'ml.g6.24xlarge',\n",
    "     'done': 'not yet'},\n",
    "    {'TEXT_KEY': 'fulltext', 'LABEL_TYPE': 'topic', 'SAMPLE': '100', 'INSTANCE_TYPE': 'ml.g6.24xlarge',\n",
    "     'done': 'not yet'},\n",
    "]"
   ]
  },
  {
   "cell_type": "code",
   "execution_count": 27,
   "id": "ee4cabe3-bb03-458d-afa6-9d60d6acceb6",
   "metadata": {
    "execution": {
     "iopub.execute_input": "2025-09-17T14:35:26.313283Z",
     "iopub.status.busy": "2025-09-17T14:35:26.312135Z",
     "iopub.status.idle": "2025-09-17T14:38:27.114024Z",
     "shell.execute_reply": "2025-09-17T14:38:27.112904Z",
     "shell.execute_reply.started": "2025-09-17T14:35:26.313248Z"
    }
   },
   "outputs": [
    {
     "name": "stdout",
     "output_type": "stream",
     "text": [
      "Training job created: bigbird-subfield-title-s1-0917143526\n"
     ]
    }
   ],
   "source": [
    "MODEL_NAME = 'google/bigbird-roberta-base'\n",
    "for run in reversed(RUNS[MODEL_NAME]):\n",
    "    if 'done' not in run or not run['done']:\n",
    "        JOB_NAME = utils.create_supervised_multiclass_classification_training_job(\n",
    "            SCRIPT_FILEPATH=script_dir,\n",
    "            MODEL_NAME=MODEL_NAME,\n",
    "            INSTANCE_TYPE=run['INSTANCE_TYPE'],\n",
    "            TEXT_KEY=run['TEXT_KEY'],\n",
    "            LABEL_TYPE=run['LABEL_TYPE'],\n",
    "            SAMPLE=run['SAMPLE'],\n",
    "            MAX_RUNTIME_S=MAX_RUNTIME\n",
    "        )\n",
    "        time.sleep(3*60)"
   ]
  },
  {
   "cell_type": "code",
   "execution_count": 28,
   "id": "e7258b3b-068e-470e-924c-8f03bed149c6",
   "metadata": {
    "execution": {
     "iopub.execute_input": "2025-09-17T14:38:27.117489Z",
     "iopub.status.busy": "2025-09-17T14:38:27.117164Z",
     "iopub.status.idle": "2025-09-17T14:38:27.127023Z",
     "shell.execute_reply": "2025-09-17T14:38:27.125758Z",
     "shell.execute_reply.started": "2025-09-17T14:38:27.117463Z"
    }
   },
   "outputs": [],
   "source": [
    "MODEL_NAME = 'allenai/longformer-base-4096'\n",
    "RUNS[MODEL_NAME] = [\n",
    "    {'TEXT_KEY': 'title', 'LABEL_TYPE': 'subfield', 'SAMPLE': '1', 'INSTANCE_TYPE': 'ml.g6.xlarge',\n",
    "     'done': False},\n",
    "    {'TEXT_KEY': 'title', 'LABEL_TYPE': 'topic', 'SAMPLE': '1', 'INSTANCE_TYPE': 'ml.g6.xlarge',\n",
    "     'done': 'not yet'},\n",
    "    {'TEXT_KEY': 'abstract', 'LABEL_TYPE': 'subfield', 'SAMPLE': '1', 'INSTANCE_TYPE': 'ml.g6.2xlarge',\n",
    "     'done': 'not yet'},\n",
    "    {'TEXT_KEY': 'abstract', 'LABEL_TYPE': 'topic', 'SAMPLE': '1', 'INSTANCE_TYPE': 'ml.g6.2xlarge',\n",
    "     'done': 'not yet'},\n",
    "    {'TEXT_KEY': 'fulltext', 'LABEL_TYPE': 'subfield', 'SAMPLE': '1', 'INSTANCE_TYPE': 'ml.g6.4xlarge',\n",
    "     'done': 'not yet'},\n",
    "    {'TEXT_KEY': 'fulltext', 'LABEL_TYPE': 'topic', 'SAMPLE': '1', 'INSTANCE_TYPE': 'ml.g6.4xlarge',\n",
    "     'done': 'not yet'},\n",
    "\n",
    "    {'TEXT_KEY': 'title', 'LABEL_TYPE': 'subfield', 'SAMPLE': '10', 'INSTANCE_TYPE': 'ml.g6.8xlarge',\n",
    "     'done': 'not yet'},\n",
    "    {'TEXT_KEY': 'title', 'LABEL_TYPE': 'topic', 'SAMPLE': '10', 'INSTANCE_TYPE': 'ml.g6.8xlarge',\n",
    "     'done': 'not yet'},\n",
    "    {'TEXT_KEY': 'abstract', 'LABEL_TYPE': 'subfield', 'SAMPLE': '10', 'INSTANCE_TYPE': 'ml.g6.12xlarge',\n",
    "     'done': 'not yet'},\n",
    "    {'TEXT_KEY': 'abstract', 'LABEL_TYPE': 'topic', 'SAMPLE': '10', 'INSTANCE_TYPE': 'ml.g6.12xlarge',\n",
    "     'done': 'not yet'},\n",
    "    {'TEXT_KEY': 'fulltext', 'LABEL_TYPE': 'subfield', 'SAMPLE': '10', 'INSTANCE_TYPE': 'ml.g6.16xlarge',\n",
    "     'done': 'not yet'},\n",
    "    {'TEXT_KEY': 'fulltext', 'LABEL_TYPE': 'topic', 'SAMPLE': '10', 'INSTANCE_TYPE': 'ml.g6.16xlarge',\n",
    "     'done': 'not yet'},\n",
    "    \n",
    "    {'TEXT_KEY': 'title', 'LABEL_TYPE': 'subfield', 'SAMPLE': '100', 'INSTANCE_TYPE': 'ml.g6.16xlarge',\n",
    "     'done': 'not yet'},\n",
    "    {'TEXT_KEY': 'title', 'LABEL_TYPE': 'topic', 'SAMPLE': '100', 'INSTANCE_TYPE': 'ml.g6.16xlarge',\n",
    "     'done': 'not yet'},\n",
    "    {'TEXT_KEY': 'abstract', 'LABEL_TYPE': 'subfield', 'SAMPLE': '100', 'INSTANCE_TYPE': 'ml.g6.16xlarge',\n",
    "     'done': 'not yet'},\n",
    "    {'TEXT_KEY': 'abstract', 'LABEL_TYPE': 'topic', 'SAMPLE': '100', 'INSTANCE_TYPE': 'ml.g6.16xlarge',\n",
    "     'done': 'not yet'},\n",
    "    {'TEXT_KEY': 'fulltext', 'LABEL_TYPE': 'subfield', 'SAMPLE': '100', 'INSTANCE_TYPE': 'ml.g6.24xlarge',\n",
    "     'done': 'not yet'},\n",
    "    {'TEXT_KEY': 'fulltext', 'LABEL_TYPE': 'topic', 'SAMPLE': '100', 'INSTANCE_TYPE': 'ml.g6.24xlarge',\n",
    "     'done': 'not yet'},\n",
    "]"
   ]
  },
  {
   "cell_type": "code",
   "execution_count": 29,
   "id": "8a7f17c7-106a-4d71-8284-a8f0bf76d554",
   "metadata": {
    "execution": {
     "iopub.execute_input": "2025-09-17T14:38:27.128600Z",
     "iopub.status.busy": "2025-09-17T14:38:27.128069Z",
     "iopub.status.idle": "2025-09-17T14:41:28.037879Z",
     "shell.execute_reply": "2025-09-17T14:41:28.036970Z",
     "shell.execute_reply.started": "2025-09-17T14:38:27.128563Z"
    }
   },
   "outputs": [
    {
     "name": "stdout",
     "output_type": "stream",
     "text": [
      "Training job created: longformer-subfield-title-s1-0917143827\n"
     ]
    }
   ],
   "source": [
    "MODEL_NAME = 'allenai/longformer-base-4096'\n",
    "for run in reversed(RUNS[MODEL_NAME]):\n",
    "    if 'done' not in run or not run['done']:\n",
    "        JOB_NAME = utils.create_supervised_multiclass_classification_training_job(\n",
    "            SCRIPT_FILEPATH=script_dir,\n",
    "            MODEL_NAME=MODEL_NAME,\n",
    "            INSTANCE_TYPE=run['INSTANCE_TYPE'],\n",
    "            TEXT_KEY=run['TEXT_KEY'],\n",
    "            LABEL_TYPE=run['LABEL_TYPE'],\n",
    "            SAMPLE=run['SAMPLE'],\n",
    "            MAX_RUNTIME_S=MAX_RUNTIME\n",
    "        )\n",
    "        time.sleep(3*60)"
   ]
  },
  {
   "cell_type": "code",
   "execution_count": null,
   "id": "dbd04414-d005-4ce7-86eb-a2ad1c311657",
   "metadata": {},
   "outputs": [],
   "source": []
  }
 ],
 "metadata": {
  "kernelspec": {
   "display_name": "python_311_2",
   "language": "python",
   "name": "python_311_2"
  },
  "language_info": {
   "codemirror_mode": {
    "name": "ipython",
    "version": 3
   },
   "file_extension": ".py",
   "mimetype": "text/x-python",
   "name": "python",
   "nbconvert_exporter": "python",
   "pygments_lexer": "ipython3",
   "version": "3.11.13"
  }
 },
 "nbformat": 4,
 "nbformat_minor": 5
}
