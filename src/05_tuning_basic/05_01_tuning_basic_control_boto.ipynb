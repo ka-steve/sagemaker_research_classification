{
 "cells": [
  {
   "cell_type": "code",
   "execution_count": 17,
   "id": "1344db8e",
   "metadata": {
    "execution": {
     "iopub.execute_input": "2025-09-20T16:39:10.317825Z",
     "iopub.status.busy": "2025-09-20T16:39:10.317547Z",
     "iopub.status.idle": "2025-09-20T16:39:10.336016Z",
     "shell.execute_reply": "2025-09-20T16:39:10.335204Z",
     "shell.execute_reply.started": "2025-09-20T16:39:10.317802Z"
    }
   },
   "outputs": [
    {
     "name": "stdout",
     "output_type": "stream",
     "text": [
      "utils.py loaded: v0.2.12\n",
      "config.py loaded: v0.1\n"
     ]
    },
    {
     "data": {
      "text/plain": [
       "PosixPath('/home/sagemaker-user/sagemaker_research_classification/src/05_tuning_basic')"
      ]
     },
     "execution_count": 17,
     "metadata": {},
     "output_type": "execute_result"
    }
   ],
   "source": [
    "import argparse\n",
    "import boto3\n",
    "import evaluate\n",
    "import importlib\n",
    "import json\n",
    "import lighteval\n",
    "import os\n",
    "import pathlib\n",
    "import requests\n",
    "import shutil\n",
    "import sys\n",
    "import tarfile\n",
    "import time\n",
    "import torch\n",
    "import transformers\n",
    "import uuid\n",
    "import wandb\n",
    "\n",
    "import awswrangler as wr\n",
    "import numpy as np\n",
    "\n",
    "from botocore.exceptions import ClientError\n",
    "from datasets import load_dataset, DatasetDict, Dataset\n",
    "from datetime import datetime, timezone\n",
    "from IPython.display import display\n",
    "from peft import PeftModel, PeftConfig, get_peft_model, LoraConfig\n",
    "from sagemaker import image_uris, utils as sm_utils\n",
    "from sagemaker.huggingface.processing import HuggingFaceProcessor\n",
    "from sagemaker.sklearn.processing import SKLearnProcessor\n",
    "from sagemaker.processing import FrameworkProcessor\n",
    "from sagemaker.sklearn.estimator import SKLearn\n",
    "from sagemaker.workflow.steps import ProcessingStep\n",
    "from sagemaker.workflow.pipeline_context import PipelineSession\n",
    "from sagemaker.processing import ProcessingInput, ProcessingOutput\n",
    "from sagemaker.session import get_execution_role\n",
    "from sklearn.metrics import accuracy_score, precision_recall_fscore_support\n",
    "from tqdm import tqdm\n",
    "from transformers import (\n",
    "    AutoTokenizer,\n",
    "    AutoConfig, \n",
    "    AutoModelForSequenceClassification,\n",
    "    DataCollatorWithPadding,\n",
    "    TrainingArguments,\n",
    "    Trainer\n",
    ")\n",
    "from typing import List, Union, Optional\n",
    "\n",
    "\n",
    "# Adding ../01_modules or ./01_modules to the system path so that we can load modules from \n",
    "# there as well\n",
    "if '__file__' in globals():\n",
    "    script_dir = pathlib.Path(__file__).parent.resolve()\n",
    "else:\n",
    "    script_dir = pathlib.Path().absolute()\n",
    "modules_path_in_dev = os.path.abspath(os.path.join(script_dir, '..', '01_modules'))\n",
    "modules_path_in_prod = os.path.abspath(os.path.join(script_dir, '01_modules'))\n",
    "if os.path.exists(modules_path_in_dev):\n",
    "    sys.path.append(modules_path_in_dev)\n",
    "if os.path.exists(modules_path_in_prod):\n",
    "    sys.path.append(modules_path_in_prod)\n",
    "\n",
    "\n",
    "# # Jupyter only reads a local module the first time after \n",
    "# # kernel start. Re-running a cell with \n",
    "# # \"from mymodulename import *\" would not change\n",
    "# # anything, even if the imported module has since changed.\n",
    "# # As a workaround, we need to directly load the module, \n",
    "# # use importlib.reload to reload it and then import * \n",
    "import utils\n",
    "_ = importlib.reload(utils)\n",
    "import config\n",
    "_ = importlib.reload(config) \n",
    "\n",
    "_ = \"\"\"\n",
    "ml.g6.xlarge:   6     250GB\n",
    "ml.g6.2xlarge:  3\n",
    "ml.g6.4xlarge:  6\n",
    "ml.g6.8xlarge:  6\n",
    "\n",
    "google-bert/bert-base-uncased\n",
    "distilbert/distilbert-base-uncased\n",
    "microsoft/deberta-v3-base\n",
    "FacebookAI/roberta-base\n",
    "answerdotai/ModernBERT-base\n",
    "allenai/scibert_scivocab_uncased\n",
    "google/bigbird-roberta-base\n",
    "allenai/longformer-base-4096\n",
    "\"\"\"\n",
    "script_dir"
   ]
  },
  {
   "cell_type": "code",
   "execution_count": 18,
   "id": "930fcda6-f417-4bd2-8d81-8259752fb03f",
   "metadata": {
    "execution": {
     "iopub.execute_input": "2025-09-20T16:39:11.281370Z",
     "iopub.status.busy": "2025-09-20T16:39:11.280946Z",
     "iopub.status.idle": "2025-09-20T16:39:11.284958Z",
     "shell.execute_reply": "2025-09-20T16:39:11.284050Z",
     "shell.execute_reply.started": "2025-09-20T16:39:11.281339Z"
    }
   },
   "outputs": [],
   "source": [
    "RUNS = {}\n",
    "MAX_RUNTIME = 2*24*60*60"
   ]
  },
  {
   "cell_type": "code",
   "execution_count": 4,
   "id": "d12ffe49-3ae4-4920-81d3-5f1323aa9463",
   "metadata": {
    "execution": {
     "iopub.execute_input": "2025-09-19T18:13:24.716157Z",
     "iopub.status.busy": "2025-09-19T18:13:24.714182Z",
     "iopub.status.idle": "2025-09-19T18:13:24.730593Z",
     "shell.execute_reply": "2025-09-19T18:13:24.729497Z",
     "shell.execute_reply.started": "2025-09-19T18:13:24.716112Z"
    }
   },
   "outputs": [],
   "source": [
    "# DONE\n",
    "MODEL_NAME = 'bert-base-uncased'\n",
    "RUNS[MODEL_NAME] = [\n",
    "    {'TEXT_KEY': 'title', 'LABEL_TYPE': 'subfield', 'SAMPLE': '1', 'INSTANCE_TYPE': 'ml.g6.xlarge',\n",
    "     'done': 'bert-subfield-title-s1-0916224638'},\n",
    "    {'TEXT_KEY': 'title', 'LABEL_TYPE': 'topic', 'SAMPLE': '1', 'INSTANCE_TYPE': 'ml.g6.xlarge',\n",
    "     'done': 'bert-topic-title-s1-0917004738'},\n",
    "    {'TEXT_KEY': 'abstract', 'LABEL_TYPE': 'subfield', 'SAMPLE': '1', 'INSTANCE_TYPE': 'ml.g6.xlarge',\n",
    "     'done': 'bert-subfield-abstract-s1-0917011627'},\n",
    "    {'TEXT_KEY': 'abstract', 'LABEL_TYPE': 'topic', 'SAMPLE': '1', 'INSTANCE_TYPE': 'ml.g6.xlarge',\n",
    "     'done': 'bert-topic-abstract-s1-0917012628'},\n",
    "    {'TEXT_KEY': 'fulltext', 'LABEL_TYPE': 'subfield', 'SAMPLE': '1', 'INSTANCE_TYPE': 'ml.g6.2xlarge',\n",
    "     'done': 'bert-subfield-fulltext-s1-0917013629'},\n",
    "    {'TEXT_KEY': 'fulltext', 'LABEL_TYPE': 'topic', 'SAMPLE': '1', 'INSTANCE_TYPE': 'ml.g6.2xlarge',\n",
    "     'done': 'bert-topic-fulltext-s1-0917014630'},\n",
    "    \n",
    "    {'TEXT_KEY': 'title', 'LABEL_TYPE': 'subfield', 'SAMPLE': '10', 'INSTANCE_TYPE': 'ml.g6.xlarge',\n",
    "     'done': 'bert-subfield-title-s10-0917015631'},\n",
    "    {'TEXT_KEY': 'title', 'LABEL_TYPE': 'topic', 'SAMPLE': '10', 'INSTANCE_TYPE': 'ml.g6.xlarge',\n",
    "     'done': 'bert-topic-title-s10-0917020632'},\n",
    "    {'TEXT_KEY': 'abstract', 'LABEL_TYPE': 'subfield', 'SAMPLE': '10', 'INSTANCE_TYPE': 'ml.g6.4xlarge',\n",
    "     'done': 'bert-subfield-abstract-s10-0917021633'},\n",
    "    {'TEXT_KEY': 'abstract', 'LABEL_TYPE': 'topic', 'SAMPLE': '10', 'INSTANCE_TYPE': 'ml.g6.4xlarge',\n",
    "     'done': 'bert-topic-abstract-s10-0917022634'},\n",
    "    {'TEXT_KEY': 'fulltext', 'LABEL_TYPE': 'subfield', 'SAMPLE': '10', 'INSTANCE_TYPE': 'ml.g6.8xlarge',\n",
    "     'done': 'bert-subfield-fulltext-s10-0917023635'},\n",
    "    {'TEXT_KEY': 'fulltext', 'LABEL_TYPE': 'topic', 'SAMPLE': '10', 'INSTANCE_TYPE': 'ml.g6.8xlarge',\n",
    "     'done': 'bert-topic-fulltext-s10-0917024635'},\n",
    "    \n",
    "    {'TEXT_KEY': 'title', 'LABEL_TYPE': 'subfield', 'SAMPLE': '100', 'INSTANCE_TYPE': 'ml.g6.4xlarge',\n",
    "     'done': 'bert-subfield-title-s100-0917025636'},\n",
    "    {'TEXT_KEY': 'title', 'LABEL_TYPE': 'topic', 'SAMPLE': '100', 'INSTANCE_TYPE': 'ml.g6.4xlarge',\n",
    "     'done': 'bert-topic-title-s100-0917030637'},\n",
    "    {'TEXT_KEY': 'abstract', 'LABEL_TYPE': 'subfield', 'SAMPLE': '100', 'INSTANCE_TYPE': 'ml.g6.8xlarge',\n",
    "     'done': 'bert-subfield-abstract-s100-0917031638'},\n",
    "    {'TEXT_KEY': 'abstract', 'LABEL_TYPE': 'topic', 'SAMPLE': '100', 'INSTANCE_TYPE': 'ml.g6.8xlarge',\n",
    "     'done': 'bert-topic-abstract-s100-0917032639'},\n",
    "    {'TEXT_KEY': 'fulltext', 'LABEL_TYPE': 'subfield', 'SAMPLE': '100', 'INSTANCE_TYPE': 'ml.g6.8xlarge',\n",
    "     'done': 'bert-subfield-fulltext-s100-0917033640'},\n",
    "    {'TEXT_KEY': 'fulltext', 'LABEL_TYPE': 'topic', 'SAMPLE': '100', 'INSTANCE_TYPE': 'ml.g6.8xlarge',\n",
    "     'done': 'bert-topic-fulltext-s100-0917034641'},\n",
    "]"
   ]
  },
  {
   "cell_type": "code",
   "execution_count": null,
   "id": "32e79722-3ec1-44ac-8621-e3116c77c538",
   "metadata": {
    "execution": {
     "iopub.execute_input": "2025-09-17T01:16:27.879256Z",
     "iopub.status.busy": "2025-09-17T01:16:27.878873Z",
     "iopub.status.idle": "2025-09-17T03:56:41.891426Z"
    }
   },
   "outputs": [
    {
     "name": "stdout",
     "output_type": "stream",
     "text": [
      "Training job created: bert-subfield-abstract-s1-0917011627\n",
      "Training job created: bert-topic-abstract-s1-0917012628\n",
      "Training job created: bert-subfield-fulltext-s1-0917013629\n",
      "Training job created: bert-topic-fulltext-s1-0917014630\n",
      "Training job created: bert-topic-abstract-s100-0917032639\n",
      "Training job created: bert-subfield-fulltext-s100-0917033640\n",
      "Training job created: bert-topic-fulltext-s100-0917034641\n"
     ]
    }
   ],
   "source": [
    "MODEL_NAME = 'bert-base-uncased'\n",
    "for run in RUNS[MODEL_NAME]:\n",
    "    if 'done' not in run or not run['done']:\n",
    "        JOB_NAME = utils.create_supervised_multiclass_classification_training_job(\n",
    "            SCRIPT_FILEPATH=script_dir,\n",
    "            MODEL_NAME=MODEL_NAME,\n",
    "            INSTANCE_TYPE=run['INSTANCE_TYPE'],\n",
    "            TEXT_KEY=run['TEXT_KEY'],\n",
    "            LABEL_TYPE=run['LABEL_TYPE'],\n",
    "            SAMPLE=run['SAMPLE'],\n",
    "            MAX_RUNTIME_S=MAX_RUNTIME\n",
    "        )\n",
    "        time.sleep(10*60)"
   ]
  },
  {
   "cell_type": "code",
   "execution_count": 11,
   "id": "a514cd2f-fbd8-49e4-9022-cdd7f8ccac71",
   "metadata": {
    "execution": {
     "iopub.execute_input": "2025-09-19T18:19:18.647808Z",
     "iopub.status.busy": "2025-09-19T18:19:18.647509Z",
     "iopub.status.idle": "2025-09-19T18:19:18.657293Z",
     "shell.execute_reply": "2025-09-19T18:19:18.656202Z",
     "shell.execute_reply.started": "2025-09-19T18:19:18.647785Z"
    }
   },
   "outputs": [],
   "source": [
    "# DONE\n",
    "MODEL_NAME = 'distilbert-base-uncased'\n",
    "RUNS[MODEL_NAME] = [\n",
    "    {'TEXT_KEY': 'title', 'LABEL_TYPE': 'subfield', 'SAMPLE': '1', 'INSTANCE_TYPE': 'ml.g6.xlarge',\n",
    "     'done': 'distilbert-subfield-title-s1-0917084400'},\n",
    "    {'TEXT_KEY': 'title', 'LABEL_TYPE': 'topic', 'SAMPLE': '1', 'INSTANCE_TYPE': 'ml.g6.xlarge',\n",
    "     'done': 'distilbert-topic-title-s1-0917093942'},\n",
    "    {'TEXT_KEY': 'abstract', 'LABEL_TYPE': 'subfield', 'SAMPLE': '1', 'INSTANCE_TYPE': 'ml.g6.xlarge',\n",
    "     'done': 'distilbert-subfield-abstract-s1-0917094943'},\n",
    "    {'TEXT_KEY': 'abstract', 'LABEL_TYPE': 'topic', 'SAMPLE': '1', 'INSTANCE_TYPE': 'ml.g6.xlarge',\n",
    "     'done': 'distilbert-topic-abstract-s1-0917095944'},\n",
    "    {'TEXT_KEY': 'fulltext', 'LABEL_TYPE': 'subfield', 'SAMPLE': '1', 'INSTANCE_TYPE': 'ml.g6.2xlarge',\n",
    "     'done': 'InProgress: distilbert-subfield-fulltext-s1-0917100945'},\n",
    "    {'TEXT_KEY': 'fulltext', 'LABEL_TYPE': 'topic', 'SAMPLE': '1', 'INSTANCE_TYPE': 'ml.g6.2xlarge',\n",
    "     'done': 'distilbert-topic-fulltext-s1-0917101945'},\n",
    "    \n",
    "    {'TEXT_KEY': 'title', 'LABEL_TYPE': 'subfield', 'SAMPLE': '10', 'INSTANCE_TYPE': 'ml.g6.xlarge',\n",
    "     'done': 'distilbert-subfield-title-s10-0917102947'},\n",
    "    {'TEXT_KEY': 'title', 'LABEL_TYPE': 'topic', 'SAMPLE': '10', 'INSTANCE_TYPE': 'ml.g6.xlarge',\n",
    "     'done': 'distilbert-topic-title-s10-0917103948'},\n",
    "    {'TEXT_KEY': 'abstract', 'LABEL_TYPE': 'subfield', 'SAMPLE': '10', 'INSTANCE_TYPE': 'ml.g6.4xlarge',\n",
    "     'done': 'distilbert-subfield-abstract-s10-0917104949'},\n",
    "    {'TEXT_KEY': 'abstract', 'LABEL_TYPE': 'topic', 'SAMPLE': '10', 'INSTANCE_TYPE': 'ml.g6.4xlarge',\n",
    "     'done': 'distilbert-topic-abstract-s10-0917105949'},\n",
    "    {'TEXT_KEY': 'fulltext', 'LABEL_TYPE': 'subfield', 'SAMPLE': '10', 'INSTANCE_TYPE': 'ml.g6.8xlarge',\n",
    "     'done': 'distilbert-subfield-fulltext-s10-0917110950'},\n",
    "    {'TEXT_KEY': 'fulltext', 'LABEL_TYPE': 'topic', 'SAMPLE': '10', 'INSTANCE_TYPE': 'ml.g6.8xlarge',\n",
    "     'done': 'distilbert-topic-fulltext-s10-0917111951'},\n",
    "    \n",
    "    {'TEXT_KEY': 'title', 'LABEL_TYPE': 'subfield', 'SAMPLE': '100', 'INSTANCE_TYPE': 'ml.g6.4xlarge',\n",
    "     'done': 'distilbert-subfield-title-s100-0917112952'},\n",
    "    {'TEXT_KEY': 'title', 'LABEL_TYPE': 'topic', 'SAMPLE': '100', 'INSTANCE_TYPE': 'ml.g6.4xlarge',\n",
    "     'done': 'distilbert-topic-title-s100-0917113953'},\n",
    "    {'TEXT_KEY': 'abstract', 'LABEL_TYPE': 'subfield', 'SAMPLE': '100', 'INSTANCE_TYPE': 'ml.g6.8xlarge',\n",
    "     'done': 'distilbert-subfield-abstract-s100-0917114954'},\n",
    "    {'TEXT_KEY': 'abstract', 'LABEL_TYPE': 'topic', 'SAMPLE': '100', 'INSTANCE_TYPE': 'ml.g6.8xlarge',\n",
    "     'done': 'distilbert-topic-abstract-s100-0917115955'},\n",
    "    {'TEXT_KEY': 'fulltext', 'LABEL_TYPE': 'subfield', 'SAMPLE': '100', 'INSTANCE_TYPE': 'ml.g6.8xlarge',\n",
    "     'done': 'distilbert-subfield-fulltext-s100-0917120956'},\n",
    "    {'TEXT_KEY': 'fulltext', 'LABEL_TYPE': 'topic', 'SAMPLE': '100', 'INSTANCE_TYPE': 'ml.g6.8xlarge',\n",
    "     'done': 'distilbert-topic-fulltext-s100-0917121957'},\n",
    "]"
   ]
  },
  {
   "cell_type": "code",
   "execution_count": 9,
   "id": "40d1a92e-ce59-4754-8a8e-7b7d2c9c6109",
   "metadata": {
    "execution": {
     "iopub.execute_input": "2025-09-17T09:39:42.344995Z",
     "iopub.status.busy": "2025-09-17T09:39:42.344680Z",
     "iopub.status.idle": "2025-09-17T12:29:58.104658Z",
     "shell.execute_reply": "2025-09-17T12:29:58.103357Z",
     "shell.execute_reply.started": "2025-09-17T09:39:42.344970Z"
    }
   },
   "outputs": [
    {
     "name": "stdout",
     "output_type": "stream",
     "text": [
      "Training job created: distilbert-topic-title-s1-0917093942\n",
      "Training job created: distilbert-subfield-abstract-s1-0917094943\n",
      "Training job created: distilbert-topic-abstract-s1-0917095944\n",
      "Training job created: distilbert-subfield-fulltext-s1-0917100945\n",
      "Training job created: distilbert-topic-fulltext-s1-0917101945\n",
      "Training job created: distilbert-subfield-title-s10-0917102947\n",
      "Training job created: distilbert-topic-title-s10-0917103948\n",
      "Training job created: distilbert-subfield-abstract-s10-0917104949\n",
      "Training job created: distilbert-topic-abstract-s10-0917105949\n",
      "Training job created: distilbert-subfield-fulltext-s10-0917110950\n",
      "Training job created: distilbert-topic-fulltext-s10-0917111951\n",
      "Training job created: distilbert-subfield-title-s100-0917112952\n",
      "Training job created: distilbert-topic-title-s100-0917113953\n",
      "Training job created: distilbert-subfield-abstract-s100-0917114954\n",
      "Training job created: distilbert-topic-abstract-s100-0917115955\n",
      "Training job created: distilbert-subfield-fulltext-s100-0917120956\n",
      "Training job created: distilbert-topic-fulltext-s100-0917121957\n"
     ]
    }
   ],
   "source": [
    "MODEL_NAME = 'distilbert-base-uncased'\n",
    "for run in RUNS[MODEL_NAME]:\n",
    "    if 'done' not in run or not run['done']:\n",
    "        JOB_NAME = utils.create_supervised_multiclass_classification_training_job(\n",
    "            SCRIPT_FILEPATH=script_dir,\n",
    "            MODEL_NAME=MODEL_NAME,\n",
    "            INSTANCE_TYPE=run['INSTANCE_TYPE'],\n",
    "            TEXT_KEY=run['TEXT_KEY'],\n",
    "            LABEL_TYPE=run['LABEL_TYPE'],\n",
    "            SAMPLE=run['SAMPLE'],\n",
    "            MAX_RUNTIME_S=MAX_RUNTIME\n",
    "        )\n",
    "        time.sleep(3*60)"
   ]
  },
  {
   "cell_type": "code",
   "execution_count": 5,
   "id": "334a50a9-04dd-44f9-a672-d60c25086d23",
   "metadata": {
    "execution": {
     "iopub.execute_input": "2025-09-19T18:13:58.672969Z",
     "iopub.status.busy": "2025-09-19T18:13:58.672576Z",
     "iopub.status.idle": "2025-09-19T18:13:58.686259Z",
     "shell.execute_reply": "2025-09-19T18:13:58.685277Z",
     "shell.execute_reply.started": "2025-09-19T18:13:58.672935Z"
    }
   },
   "outputs": [],
   "source": [
    "# DONE\n",
    "MODEL_NAME = 'microsoft/deberta-v3-base'\n",
    "RUNS[MODEL_NAME] = [\n",
    "    {'TEXT_KEY': 'title', 'LABEL_TYPE': 'subfield', 'SAMPLE': '1', 'INSTANCE_TYPE': 'ml.g6.xlarge',\n",
    "     'done': 'deberta-subfield-title-s1-0917123950'},\n",
    "    {'TEXT_KEY': 'title', 'LABEL_TYPE': 'topic', 'SAMPLE': '1', 'INSTANCE_TYPE': 'ml.g6.xlarge',\n",
    "     'done': 'deberta-topic-title-s1-0917131904'},\n",
    "    {'TEXT_KEY': 'abstract', 'LABEL_TYPE': 'subfield', 'SAMPLE': '1', 'INSTANCE_TYPE': 'ml.g6.xlarge',\n",
    "     'done': 'deberta-subfield-abstract-s1-0917132205'},\n",
    "    {'TEXT_KEY': 'abstract', 'LABEL_TYPE': 'topic', 'SAMPLE': '1', 'INSTANCE_TYPE': 'ml.g6.xlarge',\n",
    "     'done': 'deberta-topic-abstract-s1-0917132506'},\n",
    "    {'TEXT_KEY': 'fulltext', 'LABEL_TYPE': 'subfield', 'SAMPLE': '1', 'INSTANCE_TYPE': 'ml.g6.2xlarge',\n",
    "     'done': 'deberta-subfield-fulltext-s1-0917132807'},\n",
    "    {'TEXT_KEY': 'fulltext', 'LABEL_TYPE': 'topic', 'SAMPLE': '1', 'INSTANCE_TYPE': 'ml.g6.2xlarge',\n",
    "     'done': 'deberta-topic-fulltext-s1-0917133108'},\n",
    "\n",
    "    {'TEXT_KEY': 'title', 'LABEL_TYPE': 'subfield', 'SAMPLE': '10', 'INSTANCE_TYPE': 'ml.g6.xlarge',\n",
    "     'done': 'deberta-subfield-title-s10-0917133409'},\n",
    "    {'TEXT_KEY': 'title', 'LABEL_TYPE': 'topic', 'SAMPLE': '10', 'INSTANCE_TYPE': 'ml.g6.xlarge',\n",
    "     'done': 'deberta-topic-title-s10-0917133710'},\n",
    "    {'TEXT_KEY': 'abstract', 'LABEL_TYPE': 'subfield', 'SAMPLE': '10', 'INSTANCE_TYPE': 'ml.g6.4xlarge',\n",
    "     'done': 'deberta-subfield-abstract-s10-0917134010'},\n",
    "    {'TEXT_KEY': 'abstract', 'LABEL_TYPE': 'topic', 'SAMPLE': '10', 'INSTANCE_TYPE': 'ml.g6.4xlarge',\n",
    "     'done': 'deberta-topic-abstract-s10-0917134312'},\n",
    "    {'TEXT_KEY': 'fulltext', 'LABEL_TYPE': 'subfield', 'SAMPLE': '10', 'INSTANCE_TYPE': 'ml.g6.8xlarge',\n",
    "     'done': 'deberta-subfield-fulltext-s10-0917134613'},\n",
    "    {'TEXT_KEY': 'fulltext', 'LABEL_TYPE': 'topic', 'SAMPLE': '10', 'INSTANCE_TYPE': 'ml.g6.8xlarge',\n",
    "     'done': 'deberta-topic-fulltext-s10-0917134914'},\n",
    "    \n",
    "    {'TEXT_KEY': 'title', 'LABEL_TYPE': 'subfield', 'SAMPLE': '100', 'INSTANCE_TYPE': 'ml.g6.4xlarge',\n",
    "     'done': 'deberta-subfield-title-s100-0917135215'},\n",
    "    {'TEXT_KEY': 'title', 'LABEL_TYPE': 'topic', 'SAMPLE': '100', 'INSTANCE_TYPE': 'ml.g6.4xlarge',\n",
    "     'done': 'deberta-topic-title-s100-0917135516'},\n",
    "    {'TEXT_KEY': 'abstract', 'LABEL_TYPE': 'subfield', 'SAMPLE': '100', 'INSTANCE_TYPE': 'ml.g6.8xlarge',\n",
    "     'done': 'deberta-subfield-abstract-s100-0918144955'},\n",
    "    {'TEXT_KEY': 'abstract', 'LABEL_TYPE': 'topic', 'SAMPLE': '100', 'INSTANCE_TYPE': 'ml.g6.8xlarge',\n",
    "     'done': 'deberta-topic-abstract-s100-0918145257'},\n",
    "    {'TEXT_KEY': 'fulltext', 'LABEL_TYPE': 'subfield', 'SAMPLE': '100', 'INSTANCE_TYPE': 'ml.g6.8xlarge',\n",
    "     'done': 'deberta-subfield-fulltext-s100-0917140419'},\n",
    "    {'TEXT_KEY': 'fulltext', 'LABEL_TYPE': 'topic', 'SAMPLE': '100', 'INSTANCE_TYPE': 'ml.g6.8xlarge',\n",
    "     'done': 'deberta-topic-fulltext-s100-0917140720'},\n",
    "]"
   ]
  },
  {
   "cell_type": "code",
   "execution_count": 32,
   "id": "97e4faa9-80ed-4d3c-a498-c7251e00045e",
   "metadata": {
    "execution": {
     "iopub.execute_input": "2025-09-18T14:49:55.990287Z",
     "iopub.status.busy": "2025-09-18T14:49:55.989753Z",
     "iopub.status.idle": "2025-09-18T14:55:58.035217Z",
     "shell.execute_reply": "2025-09-18T14:55:58.034227Z",
     "shell.execute_reply.started": "2025-09-18T14:49:55.990251Z"
    }
   },
   "outputs": [
    {
     "name": "stdout",
     "output_type": "stream",
     "text": [
      "Training job created: deberta-subfield-abstract-s100-0918144955\n",
      "Training job created: deberta-topic-abstract-s100-0918145257\n"
     ]
    }
   ],
   "source": [
    "MODEL_NAME = 'microsoft/deberta-v3-base'\n",
    "for run in RUNS[MODEL_NAME]:\n",
    "    if 'done' not in run or not run['done']:\n",
    "        JOB_NAME = utils.create_supervised_multiclass_classification_training_job(\n",
    "            SCRIPT_FILEPATH=script_dir,\n",
    "            MODEL_NAME=MODEL_NAME,\n",
    "            INSTANCE_TYPE=run['INSTANCE_TYPE'],\n",
    "            TEXT_KEY=run['TEXT_KEY'],\n",
    "            LABEL_TYPE=run['LABEL_TYPE'],\n",
    "            SAMPLE=run['SAMPLE'],\n",
    "            MAX_RUNTIME_S=MAX_RUNTIME\n",
    "        )\n",
    "        time.sleep(3*60)"
   ]
  },
  {
   "cell_type": "code",
   "execution_count": 6,
   "id": "a3655e06-d95c-44ac-acbf-de5166b9612d",
   "metadata": {
    "execution": {
     "iopub.execute_input": "2025-09-19T18:14:43.119928Z",
     "iopub.status.busy": "2025-09-19T18:14:43.119562Z",
     "iopub.status.idle": "2025-09-19T18:14:43.134029Z",
     "shell.execute_reply": "2025-09-19T18:14:43.133041Z",
     "shell.execute_reply.started": "2025-09-19T18:14:43.119895Z"
    }
   },
   "outputs": [],
   "source": [
    "# DONE\n",
    "MODEL_NAME = 'roberta-base'\n",
    "RUNS[MODEL_NAME] = [\n",
    "    {'TEXT_KEY': 'title', 'LABEL_TYPE': 'subfield', 'SAMPLE': '1', 'INSTANCE_TYPE': 'ml.g6.xlarge',\n",
    "     'done': 'roberta-subfield-title-s1-0917142512'},\n",
    "    {'TEXT_KEY': 'title', 'LABEL_TYPE': 'topic', 'SAMPLE': '1', 'INSTANCE_TYPE': 'ml.g6.xlarge',\n",
    "     'done': 'roberta-topic-title-s1-0917153634'},\n",
    "    {'TEXT_KEY': 'abstract', 'LABEL_TYPE': 'subfield', 'SAMPLE': '1', 'INSTANCE_TYPE': 'ml.g6.xlarge',\n",
    "     'done': 'roberta-subfield-abstract-s1-0917153333'},\n",
    "    {'TEXT_KEY': 'abstract', 'LABEL_TYPE': 'topic', 'SAMPLE': '1', 'INSTANCE_TYPE': 'ml.g6.xlarge',\n",
    "     'done': 'roberta-topic-abstract-s1-0917153032'},\n",
    "    {'TEXT_KEY': 'fulltext', 'LABEL_TYPE': 'subfield', 'SAMPLE': '1', 'INSTANCE_TYPE': 'ml.g6.2xlarge',\n",
    "     'done': 'roberta-subfield-fulltext-s1-0917152731'},\n",
    "    {'TEXT_KEY': 'fulltext', 'LABEL_TYPE': 'topic', 'SAMPLE': '1', 'INSTANCE_TYPE': 'ml.g6.2xlarge',\n",
    "     'done': 'roberta-topic-fulltext-s1-0917152431'},\n",
    "\n",
    "    {'TEXT_KEY': 'title', 'LABEL_TYPE': 'subfield', 'SAMPLE': '10', 'INSTANCE_TYPE': 'ml.g6.xlarge',\n",
    "     'done': 'roberta-subfield-title-s10-0917152130'},\n",
    "    {'TEXT_KEY': 'title', 'LABEL_TYPE': 'topic', 'SAMPLE': '10', 'INSTANCE_TYPE': 'ml.g6.xlarge',\n",
    "     'done': 'roberta-topic-title-s10-0917151829'},\n",
    "    {'TEXT_KEY': 'abstract', 'LABEL_TYPE': 'subfield', 'SAMPLE': '10', 'INSTANCE_TYPE': 'ml.g6.4xlarge',\n",
    "     'done': 'roberta-subfield-abstract-s10-0917151528'},\n",
    "    {'TEXT_KEY': 'abstract', 'LABEL_TYPE': 'topic', 'SAMPLE': '10', 'INSTANCE_TYPE': 'ml.g6.4xlarge',\n",
    "     'done': 'roberta-topic-abstract-s10-0917151227'},\n",
    "    {'TEXT_KEY': 'fulltext', 'LABEL_TYPE': 'subfield', 'SAMPLE': '10', 'INSTANCE_TYPE': 'ml.g6.8xlarge',\n",
    "     'done': 'roberta-subfield-fulltext-s10-0917150926'},\n",
    "    {'TEXT_KEY': 'fulltext', 'LABEL_TYPE': 'topic', 'SAMPLE': '10', 'INSTANCE_TYPE': 'ml.g6.8xlarge',\n",
    "     'done': 'roberta-topic-fulltext-s10-0917150625'},\n",
    "    \n",
    "    {'TEXT_KEY': 'title', 'LABEL_TYPE': 'subfield', 'SAMPLE': '100', 'INSTANCE_TYPE': 'ml.g6.4xlarge',\n",
    "     'done': 'roberta-subfield-title-s100-0917150324'},\n",
    "    {'TEXT_KEY': 'title', 'LABEL_TYPE': 'topic', 'SAMPLE': '100', 'INSTANCE_TYPE': 'ml.g6.4xlarge',\n",
    "     'done': 'roberta-topic-title-s100-0917150024'},\n",
    "    {'TEXT_KEY': 'abstract', 'LABEL_TYPE': 'subfield', 'SAMPLE': '100', 'INSTANCE_TYPE': 'ml.g6.8xlarge',\n",
    "     'done': 'roberta-subfield-abstract-s100-0917145723'},\n",
    "    {'TEXT_KEY': 'abstract', 'LABEL_TYPE': 'topic', 'SAMPLE': '100', 'INSTANCE_TYPE': 'ml.g6.8xlarge',\n",
    "     'done': 'roberta-topic-abstract-s100-0917145422'},\n",
    "    {'TEXT_KEY': 'fulltext', 'LABEL_TYPE': 'subfield', 'SAMPLE': '100', 'INSTANCE_TYPE': 'ml.g6.8xlarge',\n",
    "     'done': 'roberta-subfield-fulltext-s100-0917145120-copy-09-17'}, # Testing manual restart on failure\n",
    "    {'TEXT_KEY': 'fulltext', 'LABEL_TYPE': 'topic', 'SAMPLE': '100', 'INSTANCE_TYPE': 'ml.g6.8xlarge',\n",
    "     'done': 'roberta-topic-fulltext-s100-0917144819'},\n",
    "]"
   ]
  },
  {
   "cell_type": "code",
   "execution_count": 32,
   "id": "fcc5c9bc-5a25-4f6d-b562-b25228209e49",
   "metadata": {
    "execution": {
     "iopub.execute_input": "2025-09-17T14:48:19.876857Z",
     "iopub.status.busy": "2025-09-17T14:48:19.876446Z",
     "iopub.status.idle": "2025-09-17T15:39:35.792203Z",
     "shell.execute_reply": "2025-09-17T15:39:35.791243Z",
     "shell.execute_reply.started": "2025-09-17T14:48:19.876829Z"
    }
   },
   "outputs": [
    {
     "name": "stdout",
     "output_type": "stream",
     "text": [
      "Training job created: roberta-topic-fulltext-s100-0917144819\n",
      "Training job created: roberta-subfield-fulltext-s100-0917145120\n",
      "Training job created: roberta-topic-abstract-s100-0917145422\n",
      "Training job created: roberta-subfield-abstract-s100-0917145723\n",
      "Training job created: roberta-topic-title-s100-0917150024\n",
      "Training job created: roberta-subfield-title-s100-0917150324\n",
      "Training job created: roberta-topic-fulltext-s10-0917150625\n",
      "Training job created: roberta-subfield-fulltext-s10-0917150926\n",
      "Training job created: roberta-topic-abstract-s10-0917151227\n",
      "Training job created: roberta-subfield-abstract-s10-0917151528\n",
      "Training job created: roberta-topic-title-s10-0917151829\n",
      "Training job created: roberta-subfield-title-s10-0917152130\n",
      "Training job created: roberta-topic-fulltext-s1-0917152431\n",
      "Training job created: roberta-subfield-fulltext-s1-0917152731\n",
      "Training job created: roberta-topic-abstract-s1-0917153032\n",
      "Training job created: roberta-subfield-abstract-s1-0917153333\n",
      "Training job created: roberta-topic-title-s1-0917153634\n"
     ]
    }
   ],
   "source": [
    "MODEL_NAME = 'roberta-base'\n",
    "for run in reversed(RUNS[MODEL_NAME]):\n",
    "    if 'done' not in run or not run['done']:\n",
    "        JOB_NAME = utils.create_supervised_multiclass_classification_training_job(\n",
    "            SCRIPT_FILEPATH=script_dir,\n",
    "            MODEL_NAME=MODEL_NAME,\n",
    "            INSTANCE_TYPE=run['INSTANCE_TYPE'],\n",
    "            TEXT_KEY=run['TEXT_KEY'],\n",
    "            LABEL_TYPE=run['LABEL_TYPE'],\n",
    "            SAMPLE=run['SAMPLE'],\n",
    "            MAX_RUNTIME_S=MAX_RUNTIME\n",
    "        )\n",
    "        time.sleep(3*60)"
   ]
  },
  {
   "cell_type": "code",
   "execution_count": 7,
   "id": "6f1b5b6f-81d8-4f4e-aa2a-325403a8a57d",
   "metadata": {
    "execution": {
     "iopub.execute_input": "2025-09-19T18:15:25.999058Z",
     "iopub.status.busy": "2025-09-19T18:15:25.998683Z",
     "iopub.status.idle": "2025-09-19T18:15:26.011247Z",
     "shell.execute_reply": "2025-09-19T18:15:26.010309Z",
     "shell.execute_reply.started": "2025-09-19T18:15:25.999024Z"
    }
   },
   "outputs": [],
   "source": [
    "# DONE\n",
    "MODEL_NAME = 'answerdotai/ModernBERT-base'\n",
    "RUNS[MODEL_NAME] = [\n",
    "    {'TEXT_KEY': 'title', 'LABEL_TYPE': 'subfield', 'SAMPLE': '1', 'INSTANCE_TYPE': 'ml.g6.xlarge',\n",
    "     'done': 'ModernBERT-subfield-title-s1-0917175205'},\n",
    "    {'TEXT_KEY': 'title', 'LABEL_TYPE': 'topic', 'SAMPLE': '1', 'INSTANCE_TYPE': 'ml.g6.xlarge',\n",
    "     'done': 'ModernBERT-topic-title-s1-0917184208'},\n",
    "    {'TEXT_KEY': 'abstract', 'LABEL_TYPE': 'subfield', 'SAMPLE': '1', 'INSTANCE_TYPE': 'ml.g6.xlarge',\n",
    "     'done': 'ModernBERT-subfield-abstract-s1-0917183907'},\n",
    "    {'TEXT_KEY': 'abstract', 'LABEL_TYPE': 'topic', 'SAMPLE': '1', 'INSTANCE_TYPE': 'ml.g6.xlarge',\n",
    "     'done': 'ModernBERT-topic-abstract-s1-0917183606'},\n",
    "    {'TEXT_KEY': 'fulltext', 'LABEL_TYPE': 'subfield', 'SAMPLE': '1', 'INSTANCE_TYPE': 'ml.g6.2xlarge',\n",
    "     'done': 'ModernBERT-subfield-fulltext-s1-0917183306'},\n",
    "    {'TEXT_KEY': 'fulltext', 'LABEL_TYPE': 'topic', 'SAMPLE': '1', 'INSTANCE_TYPE': 'ml.g6.2xlarge',\n",
    "     'done': 'ModernBERT-topic-fulltext-s1-0917183004'},\n",
    "\n",
    "    {'TEXT_KEY': 'title', 'LABEL_TYPE': 'subfield', 'SAMPLE': '10', 'INSTANCE_TYPE': 'ml.g6.xlarge',\n",
    "     'done': 'ModernBERT-subfield-title-s10-0917182703'},\n",
    "    {'TEXT_KEY': 'title', 'LABEL_TYPE': 'topic', 'SAMPLE': '10', 'INSTANCE_TYPE': 'ml.g6.xlarge',\n",
    "     'done': 'ModernBERT-topic-title-s10-0917182403'},\n",
    "    {'TEXT_KEY': 'abstract', 'LABEL_TYPE': 'subfield', 'SAMPLE': '10', 'INSTANCE_TYPE': 'ml.g6.4xlarge',\n",
    "     'done': 'ModernBERT-subfield-abstract-s10-0917182102'},\n",
    "    {'TEXT_KEY': 'abstract', 'LABEL_TYPE': 'topic', 'SAMPLE': '10', 'INSTANCE_TYPE': 'ml.g6.4xlarge',\n",
    "     'done': 'ModernBERT-topic-abstract-s10-0917181801'},\n",
    "    {'TEXT_KEY': 'fulltext', 'LABEL_TYPE': 'subfield', 'SAMPLE': '10', 'INSTANCE_TYPE': 'ml.g6.8xlarge',\n",
    "     'done': 'ModernBERT-subfield-fulltext-s10-0917181500'},\n",
    "    {'TEXT_KEY': 'fulltext', 'LABEL_TYPE': 'topic', 'SAMPLE': '10', 'INSTANCE_TYPE': 'ml.g6.8xlarge',\n",
    "     'done': 'ModernBERT-topic-fulltext-s10-0917181159'},\n",
    "    \n",
    "    {'TEXT_KEY': 'title', 'LABEL_TYPE': 'subfield', 'SAMPLE': '100', 'INSTANCE_TYPE': 'ml.g6.4xlarge',\n",
    "     'done': 'ModernBERT-subfield-title-s100-0917180858'},\n",
    "    {'TEXT_KEY': 'title', 'LABEL_TYPE': 'topic', 'SAMPLE': '100', 'INSTANCE_TYPE': 'ml.g6.4xlarge',\n",
    "     'done': 'ModernBERT-topic-title-s100-0917180557'},\n",
    "    {'TEXT_KEY': 'abstract', 'LABEL_TYPE': 'subfield', 'SAMPLE': '100', 'INSTANCE_TYPE': 'ml.g6.8xlarge',\n",
    "     'done': 'ModernBERT-subfield-abstract-s100-0918004625'},\n",
    "    {'TEXT_KEY': 'abstract', 'LABEL_TYPE': 'topic', 'SAMPLE': '100', 'INSTANCE_TYPE': 'ml.g6.8xlarge',\n",
    "     'done': 'ModernBERT-topic-abstract-s100-0918004324'},\n",
    "    {'TEXT_KEY': 'fulltext', 'LABEL_TYPE': 'subfield', 'SAMPLE': '100', 'INSTANCE_TYPE': 'ml.g6.8xlarge',\n",
    "     'done': 'ModernBERT-subfield-fulltext-s100-0918144655'},\n",
    "    {'TEXT_KEY': 'fulltext', 'LABEL_TYPE': 'topic', 'SAMPLE': '100', 'INSTANCE_TYPE': 'ml.g6.8xlarge',\n",
    "     'done': 'ModernBERT-topic-fulltext-s100-0918144354'},\n",
    "]"
   ]
  },
  {
   "cell_type": "code",
   "execution_count": 30,
   "id": "cbc4f1c7-bdc8-4df2-8a80-da7fffb90596",
   "metadata": {
    "execution": {
     "iopub.execute_input": "2025-09-18T14:43:54.405150Z",
     "iopub.status.busy": "2025-09-18T14:43:54.404850Z",
     "iopub.status.idle": "2025-09-18T14:49:55.976334Z",
     "shell.execute_reply": "2025-09-18T14:49:55.975463Z",
     "shell.execute_reply.started": "2025-09-18T14:43:54.405129Z"
    }
   },
   "outputs": [
    {
     "name": "stdout",
     "output_type": "stream",
     "text": [
      "Training job created: ModernBERT-topic-fulltext-s100-0918144354\n",
      "Training job created: ModernBERT-subfield-fulltext-s100-0918144655\n"
     ]
    }
   ],
   "source": [
    "MODEL_NAME = 'answerdotai/ModernBERT-base'\n",
    "for run in reversed(RUNS[MODEL_NAME]):\n",
    "    if 'done' not in run or not run['done']:\n",
    "        JOB_NAME = utils.create_supervised_multiclass_classification_training_job(\n",
    "            SCRIPT_FILEPATH=script_dir,\n",
    "            MODEL_NAME=MODEL_NAME,\n",
    "            INSTANCE_TYPE=run['INSTANCE_TYPE'],\n",
    "            TEXT_KEY=run['TEXT_KEY'],\n",
    "            LABEL_TYPE=run['LABEL_TYPE'],\n",
    "            SAMPLE=run['SAMPLE'],\n",
    "            MAX_RUNTIME_S=MAX_RUNTIME,\n",
    "            # To prevent \"RuntimeError: Detected that you are using FX to symbolically trace a dynamo-optimized function. This is not supported at the moment.\"\n",
    "            # Source: https://huggingface.co/answerdotai/ModernBERT-base/discussions/14\n",
    "            SCP_REFERENCE_COMPILE=False,\n",
    "            SCP_ATTN_IMPLEMENTATION='eager'\n",
    "        )\n",
    "        time.sleep(3*60)"
   ]
  },
  {
   "cell_type": "code",
   "execution_count": 8,
   "id": "3ab379ed-40d4-42e3-bff5-1e1d46b07a6c",
   "metadata": {
    "execution": {
     "iopub.execute_input": "2025-09-19T18:16:12.359890Z",
     "iopub.status.busy": "2025-09-19T18:16:12.359530Z",
     "iopub.status.idle": "2025-09-19T18:16:12.373332Z",
     "shell.execute_reply": "2025-09-19T18:16:12.372137Z",
     "shell.execute_reply.started": "2025-09-19T18:16:12.359860Z"
    }
   },
   "outputs": [],
   "source": [
    "# DONE\n",
    "MODEL_NAME = 'allenai/scibert_scivocab_uncased'\n",
    "RUNS[MODEL_NAME] = [\n",
    "    {'TEXT_KEY': 'title', 'LABEL_TYPE': 'subfield', 'SAMPLE': '1', 'INSTANCE_TYPE': 'ml.g6.xlarge',\n",
    "     'done': 'scibert-subfield-title-s1-0917143225'},\n",
    "    {'TEXT_KEY': 'title', 'LABEL_TYPE': 'topic', 'SAMPLE': '1', 'INSTANCE_TYPE': 'ml.g6.xlarge',\n",
    "     'done': 'scibert-topic-title-s1-0917222652'},\n",
    "    {'TEXT_KEY': 'abstract', 'LABEL_TYPE': 'subfield', 'SAMPLE': '1', 'INSTANCE_TYPE': 'ml.g6.xlarge',\n",
    "     'done': 'scibert-subfield-abstract-s1-0917222351'},\n",
    "    {'TEXT_KEY': 'abstract', 'LABEL_TYPE': 'topic', 'SAMPLE': '1', 'INSTANCE_TYPE': 'ml.g6.xlarge',\n",
    "     'done': 'scibert-topic-abstract-s1-0917222050'},\n",
    "    {'TEXT_KEY': 'fulltext', 'LABEL_TYPE': 'subfield', 'SAMPLE': '1', 'INSTANCE_TYPE': 'ml.g6.2xlarge',\n",
    "     'done': 'scibert-subfield-fulltext-s1-0917221749'},\n",
    "    {'TEXT_KEY': 'fulltext', 'LABEL_TYPE': 'topic', 'SAMPLE': '1', 'INSTANCE_TYPE': 'ml.g6.2xlarge',\n",
    "     'done': 'scibert-topic-fulltext-s1-0917221448'},\n",
    "\n",
    "    {'TEXT_KEY': 'title', 'LABEL_TYPE': 'subfield', 'SAMPLE': '10', 'INSTANCE_TYPE': 'ml.g6.xlarge',\n",
    "     'done': 'scibert-subfield-title-s10-0917221147'},\n",
    "    {'TEXT_KEY': 'title', 'LABEL_TYPE': 'topic', 'SAMPLE': '10', 'INSTANCE_TYPE': 'ml.g6.xlarge',\n",
    "     'done': 'scibert-topic-title-s10-0917220846'},\n",
    "    {'TEXT_KEY': 'abstract', 'LABEL_TYPE': 'subfield', 'SAMPLE': '10', 'INSTANCE_TYPE': 'ml.g6.4xlarge',\n",
    "     'done': 'scibert-subfield-abstract-s10-0917220545'},\n",
    "    {'TEXT_KEY': 'abstract', 'LABEL_TYPE': 'topic', 'SAMPLE': '10', 'INSTANCE_TYPE': 'ml.g6.4xlarge',\n",
    "     'done': 'scibert-topic-abstract-s10-0917220245'},\n",
    "    {'TEXT_KEY': 'fulltext', 'LABEL_TYPE': 'subfield', 'SAMPLE': '10', 'INSTANCE_TYPE': 'ml.g6.8xlarge',\n",
    "     'done': 'scibert-subfield-fulltext-s10-0917215944'},\n",
    "    {'TEXT_KEY': 'fulltext', 'LABEL_TYPE': 'topic', 'SAMPLE': '10', 'INSTANCE_TYPE': 'ml.g6.8xlarge',\n",
    "     'done': 'scibert-topic-fulltext-s10-0917215643'},\n",
    "\n",
    "    {'TEXT_KEY': 'title', 'LABEL_TYPE': 'subfield', 'SAMPLE': '100', 'INSTANCE_TYPE': 'ml.g6.4xlarge',\n",
    "     'done': 'scibert-subfield-title-s100-0917215342'},\n",
    "    {'TEXT_KEY': 'title', 'LABEL_TYPE': 'topic', 'SAMPLE': '100', 'INSTANCE_TYPE': 'ml.g6.4xlarge',\n",
    "     'done': 'scibert-topic-title-s100-0917215041'},\n",
    "    {'TEXT_KEY': 'abstract', 'LABEL_TYPE': 'subfield', 'SAMPLE': '100', 'INSTANCE_TYPE': 'ml.g6.8xlarge',\n",
    "     'done': 'scibert-subfield-abstract-s100-0917214740'},\n",
    "    {'TEXT_KEY': 'abstract', 'LABEL_TYPE': 'topic', 'SAMPLE': '100', 'INSTANCE_TYPE': 'ml.g6.8xlarge',\n",
    "     'done': 'scibert-topic-abstract-s100-0917214440'},\n",
    "    {'TEXT_KEY': 'fulltext', 'LABEL_TYPE': 'subfield', 'SAMPLE': '100', 'INSTANCE_TYPE': 'ml.g6.8xlarge',\n",
    "     'done': 'scibert-subfield-fulltext-s100-0917214139'},\n",
    "    {'TEXT_KEY': 'fulltext', 'LABEL_TYPE': 'topic', 'SAMPLE': '100', 'INSTANCE_TYPE': 'ml.g6.8xlarge',\n",
    "     'done': 'scibert-topic-fulltext-s100-0917213838'},\n",
    "]"
   ]
  },
  {
   "cell_type": "code",
   "execution_count": 48,
   "id": "51195875-5d42-446d-b1b7-3df9de90c10a",
   "metadata": {
    "execution": {
     "iopub.execute_input": "2025-09-17T21:38:38.407963Z",
     "iopub.status.busy": "2025-09-17T21:38:38.407667Z",
     "iopub.status.idle": "2025-09-17T22:29:52.877621Z",
     "shell.execute_reply": "2025-09-17T22:29:52.876776Z",
     "shell.execute_reply.started": "2025-09-17T21:38:38.407930Z"
    }
   },
   "outputs": [
    {
     "name": "stdout",
     "output_type": "stream",
     "text": [
      "Training job created: scibert-topic-fulltext-s100-0917213838\n",
      "Training job created: scibert-subfield-fulltext-s100-0917214139\n",
      "Training job created: scibert-topic-abstract-s100-0917214440\n",
      "Training job created: scibert-subfield-abstract-s100-0917214740\n",
      "Training job created: scibert-topic-title-s100-0917215041\n",
      "Training job created: scibert-subfield-title-s100-0917215342\n",
      "Training job created: scibert-topic-fulltext-s10-0917215643\n",
      "Training job created: scibert-subfield-fulltext-s10-0917215944\n",
      "Training job created: scibert-topic-abstract-s10-0917220245\n",
      "Training job created: scibert-subfield-abstract-s10-0917220545\n",
      "Training job created: scibert-topic-title-s10-0917220846\n",
      "Training job created: scibert-subfield-title-s10-0917221147\n",
      "Training job created: scibert-topic-fulltext-s1-0917221448\n",
      "Training job created: scibert-subfield-fulltext-s1-0917221749\n",
      "Training job created: scibert-topic-abstract-s1-0917222050\n",
      "Training job created: scibert-subfield-abstract-s1-0917222351\n",
      "Training job created: scibert-topic-title-s1-0917222652\n"
     ]
    }
   ],
   "source": [
    "MODEL_NAME = 'allenai/scibert_scivocab_uncased'\n",
    "for run in reversed(RUNS[MODEL_NAME]):\n",
    "    if 'done' not in run or not run['done']:\n",
    "        JOB_NAME = utils.create_supervised_multiclass_classification_training_job(\n",
    "            SCRIPT_FILEPATH=script_dir,\n",
    "            MODEL_NAME=MODEL_NAME,\n",
    "            INSTANCE_TYPE=run['INSTANCE_TYPE'],\n",
    "            TEXT_KEY=run['TEXT_KEY'],\n",
    "            LABEL_TYPE=run['LABEL_TYPE'],\n",
    "            SAMPLE=run['SAMPLE'],\n",
    "            MAX_RUNTIME_S=MAX_RUNTIME\n",
    "        )\n",
    "        time.sleep(3*60)"
   ]
  },
  {
   "cell_type": "code",
   "execution_count": 9,
   "id": "1282c01e-2ad0-43c1-a231-afb9dda9a180",
   "metadata": {
    "execution": {
     "iopub.execute_input": "2025-09-19T18:16:55.450481Z",
     "iopub.status.busy": "2025-09-19T18:16:55.449476Z",
     "iopub.status.idle": "2025-09-19T18:16:55.460898Z",
     "shell.execute_reply": "2025-09-19T18:16:55.459969Z",
     "shell.execute_reply.started": "2025-09-19T18:16:55.450449Z"
    }
   },
   "outputs": [],
   "source": [
    "# DONE\n",
    "MODEL_NAME = 'google/bigbird-roberta-base'\n",
    "RUNS[MODEL_NAME] = [\n",
    "    {'TEXT_KEY': 'title', 'LABEL_TYPE': 'subfield', 'SAMPLE': '1', 'INSTANCE_TYPE': 'ml.g6.xlarge',\n",
    "     'done': 'bigbird-subfield-title-s1-0917143526'},\n",
    "    {'TEXT_KEY': 'title', 'LABEL_TYPE': 'topic', 'SAMPLE': '1', 'INSTANCE_TYPE': 'ml.g6.xlarge',\n",
    "     'done': 'bigbird-topic-title-s1-0918024259'},\n",
    "    {'TEXT_KEY': 'abstract', 'LABEL_TYPE': 'subfield', 'SAMPLE': '1', 'INSTANCE_TYPE': 'ml.g6.xlarge',\n",
    "     'done': 'bigbird-subfield-abstract-s1-0918023958'},\n",
    "    {'TEXT_KEY': 'abstract', 'LABEL_TYPE': 'topic', 'SAMPLE': '1', 'INSTANCE_TYPE': 'ml.g6.xlarge',\n",
    "     'done': 'bigbird-topic-abstract-s1-0918023658'},\n",
    "    {'TEXT_KEY': 'fulltext', 'LABEL_TYPE': 'subfield', 'SAMPLE': '1', 'INSTANCE_TYPE': 'ml.g6.2xlarge',\n",
    "     'done': 'bigbird-subfield-fulltext-s1-0918023356'},\n",
    "    {'TEXT_KEY': 'fulltext', 'LABEL_TYPE': 'topic', 'SAMPLE': '1', 'INSTANCE_TYPE': 'ml.g6.2xlarge',\n",
    "     'done': 'bigbird-topic-fulltext-s1-0918023055'},\n",
    "\n",
    "    {'TEXT_KEY': 'title', 'LABEL_TYPE': 'subfield', 'SAMPLE': '10', 'INSTANCE_TYPE': 'ml.g6.xlarge',\n",
    "     'done': 'bigbird-subfield-title-s10-0918022755'},\n",
    "    {'TEXT_KEY': 'title', 'LABEL_TYPE': 'topic', 'SAMPLE': '10', 'INSTANCE_TYPE': 'ml.g6.xlarge',\n",
    "     'done': 'bigbird-topic-title-s10-0918022454'},\n",
    "    {'TEXT_KEY': 'abstract', 'LABEL_TYPE': 'subfield', 'SAMPLE': '10', 'INSTANCE_TYPE': 'ml.g6.4xlarge',\n",
    "     'done': 'bigbird-subfield-abstract-s10-0918022153'},\n",
    "    {'TEXT_KEY': 'abstract', 'LABEL_TYPE': 'topic', 'SAMPLE': '10', 'INSTANCE_TYPE': 'ml.g6.4xlarge',\n",
    "     'done': 'bigbird-topic-abstract-s10-0918021852'},\n",
    "    {'TEXT_KEY': 'fulltext', 'LABEL_TYPE': 'subfield', 'SAMPLE': '10', 'INSTANCE_TYPE': 'ml.g6.8xlarge',\n",
    "     'done': 'bigbird-subfield-fulltext-s10-0918021552'},\n",
    "    {'TEXT_KEY': 'fulltext', 'LABEL_TYPE': 'topic', 'SAMPLE': '10', 'INSTANCE_TYPE': 'ml.g6.8xlarge',\n",
    "     'done': 'bigbird-topic-fulltext-s10-0918021250'},\n",
    "\n",
    "    {'TEXT_KEY': 'title', 'LABEL_TYPE': 'subfield', 'SAMPLE': '100', 'INSTANCE_TYPE': 'ml.g6.4xlarge',\n",
    "     'done': 'bigbird-subfield-title-s100-0918020949'},\n",
    "    {'TEXT_KEY': 'title', 'LABEL_TYPE': 'topic', 'SAMPLE': '100', 'INSTANCE_TYPE': 'ml.g6.4xlarge',\n",
    "     'done': 'bigbird-topic-title-s100-0918020649'},\n",
    "    {'TEXT_KEY': 'abstract', 'LABEL_TYPE': 'subfield', 'SAMPLE': '100', 'INSTANCE_TYPE': 'ml.g6.8xlarge',\n",
    "     'done': 'bigbird-subfield-abstract-s100-0918020348'},\n",
    "    {'TEXT_KEY': 'abstract', 'LABEL_TYPE': 'topic', 'SAMPLE': '100', 'INSTANCE_TYPE': 'ml.g6.8xlarge',\n",
    "     'done': 'bigbird-topic-abstract-s100-0918020047'},\n",
    "    {'TEXT_KEY': 'fulltext', 'LABEL_TYPE': 'subfield', 'SAMPLE': '100', 'INSTANCE_TYPE': 'ml.g6.8xlarge',\n",
    "     'done': 'bigbird-subfield-fulltext-s100-0918015746'},\n",
    "    {'TEXT_KEY': 'fulltext', 'LABEL_TYPE': 'topic', 'SAMPLE': '100', 'INSTANCE_TYPE': 'ml.g6.8xlarge',\n",
    "     'done': 'bigbird-topic-fulltext-s100-0918015446'},\n",
    "]"
   ]
  },
  {
   "cell_type": "code",
   "execution_count": 53,
   "id": "ee4cabe3-bb03-458d-afa6-9d60d6acceb6",
   "metadata": {
    "execution": {
     "iopub.execute_input": "2025-09-18T01:54:46.024283Z",
     "iopub.status.busy": "2025-09-18T01:54:46.023991Z",
     "iopub.status.idle": "2025-09-18T02:46:00.439270Z",
     "shell.execute_reply": "2025-09-18T02:46:00.438523Z",
     "shell.execute_reply.started": "2025-09-18T01:54:46.024261Z"
    }
   },
   "outputs": [
    {
     "name": "stdout",
     "output_type": "stream",
     "text": [
      "Training job created: bigbird-topic-fulltext-s100-0918015446\n",
      "Training job created: bigbird-subfield-fulltext-s100-0918015746\n",
      "Training job created: bigbird-topic-abstract-s100-0918020047\n",
      "Training job created: bigbird-subfield-abstract-s100-0918020348\n",
      "Training job created: bigbird-topic-title-s100-0918020649\n",
      "Training job created: bigbird-subfield-title-s100-0918020949\n",
      "Training job created: bigbird-topic-fulltext-s10-0918021250\n",
      "Training job created: bigbird-subfield-fulltext-s10-0918021552\n",
      "Training job created: bigbird-topic-abstract-s10-0918021852\n",
      "Training job created: bigbird-subfield-abstract-s10-0918022153\n",
      "Training job created: bigbird-topic-title-s10-0918022454\n",
      "Training job created: bigbird-subfield-title-s10-0918022755\n",
      "Training job created: bigbird-topic-fulltext-s1-0918023055\n",
      "Training job created: bigbird-subfield-fulltext-s1-0918023356\n",
      "Training job created: bigbird-topic-abstract-s1-0918023658\n",
      "Training job created: bigbird-subfield-abstract-s1-0918023958\n",
      "Training job created: bigbird-topic-title-s1-0918024259\n"
     ]
    }
   ],
   "source": [
    "MODEL_NAME = 'google/bigbird-roberta-base'\n",
    "for run in reversed(RUNS[MODEL_NAME]):\n",
    "    if 'done' not in run or not run['done']:\n",
    "        JOB_NAME = utils.create_supervised_multiclass_classification_training_job(\n",
    "            SCRIPT_FILEPATH=script_dir,\n",
    "            MODEL_NAME=MODEL_NAME,\n",
    "            INSTANCE_TYPE=run['INSTANCE_TYPE'],\n",
    "            TEXT_KEY=run['TEXT_KEY'],\n",
    "            LABEL_TYPE=run['LABEL_TYPE'],\n",
    "            SAMPLE=run['SAMPLE'],\n",
    "            MAX_RUNTIME_S=MAX_RUNTIME\n",
    "        )\n",
    "        time.sleep(3*60)"
   ]
  },
  {
   "cell_type": "code",
   "execution_count": 12,
   "id": "e7258b3b-068e-470e-924c-8f03bed149c6",
   "metadata": {
    "execution": {
     "iopub.execute_input": "2025-09-19T18:21:56.167896Z",
     "iopub.status.busy": "2025-09-19T18:21:56.167584Z",
     "iopub.status.idle": "2025-09-19T18:21:56.176654Z",
     "shell.execute_reply": "2025-09-19T18:21:56.175895Z",
     "shell.execute_reply.started": "2025-09-19T18:21:56.167872Z"
    }
   },
   "outputs": [],
   "source": [
    "MODEL_NAME = 'allenai/longformer-base-4096'\n",
    "RUNS[MODEL_NAME] = [\n",
    "    {'TEXT_KEY': 'title', 'LABEL_TYPE': 'subfield', 'SAMPLE': '1', 'INSTANCE_TYPE': 'ml.g6.xlarge',\n",
    "     'done': 'longformer-subfield-title-s1-0917143827'},\n",
    "    {'TEXT_KEY': 'title', 'LABEL_TYPE': 'topic', 'SAMPLE': '1', 'INSTANCE_TYPE': 'ml.g6.xlarge',\n",
    "     'done': 'longformer-topic-title-s1-0918110303'},\n",
    "    {'TEXT_KEY': 'abstract', 'LABEL_TYPE': 'subfield', 'SAMPLE': '1', 'INSTANCE_TYPE': 'ml.g6.xlarge',\n",
    "     'done': 'longformer-subfield-abstract-s1-0918110003'},\n",
    "    {'TEXT_KEY': 'abstract', 'LABEL_TYPE': 'topic', 'SAMPLE': '1', 'INSTANCE_TYPE': 'ml.g6.xlarge',\n",
    "     'done': 'longformer-topic-abstract-s1-0918105701'},\n",
    "    {'TEXT_KEY': 'fulltext', 'LABEL_TYPE': 'subfield', 'SAMPLE': '1', 'INSTANCE_TYPE': 'ml.g6.2xlarge',\n",
    "     'done': 'longformer-subfield-fulltext-s1-0918105400'},\n",
    "    {'TEXT_KEY': 'fulltext', 'LABEL_TYPE': 'topic', 'SAMPLE': '1', 'INSTANCE_TYPE': 'ml.g6.2xlarge',\n",
    "     'done': 'longformer-topic-fulltext-s1-0918105100'},\n",
    "\n",
    "    {'TEXT_KEY': 'title', 'LABEL_TYPE': 'subfield', 'SAMPLE': '10', 'INSTANCE_TYPE': 'ml.g6.xlarge',\n",
    "     'done': 'longformer-subfield-title-s10-0918104759'},\n",
    "    {'TEXT_KEY': 'title', 'LABEL_TYPE': 'topic', 'SAMPLE': '10', 'INSTANCE_TYPE': 'ml.g6.xlarge',\n",
    "     'done': 'longformer-topic-title-s10-0918104458'},\n",
    "    {'TEXT_KEY': 'abstract', 'LABEL_TYPE': 'subfield', 'SAMPLE': '10', 'INSTANCE_TYPE': 'ml.g6.4xlarge',\n",
    "     'done': 'longformer-subfield-abstract-s10-0918104157'},\n",
    "    {'TEXT_KEY': 'abstract', 'LABEL_TYPE': 'topic', 'SAMPLE': '10', 'INSTANCE_TYPE': 'ml.g6.4xlarge',\n",
    "     'done': 'longformer-topic-abstract-s10-0918103856'},\n",
    "    {'TEXT_KEY': 'fulltext', 'LABEL_TYPE': 'subfield', 'SAMPLE': '10', 'INSTANCE_TYPE': 'ml.g6.8xlarge',\n",
    "     'done': 'longformer-subfield-fulltext-s10-0918103555'},\n",
    "    {'TEXT_KEY': 'fulltext', 'LABEL_TYPE': 'topic', 'SAMPLE': '10', 'INSTANCE_TYPE': 'ml.g6.8xlarge',\n",
    "     'done': 'longformer-topic-fulltext-s10-0918103254'},\n",
    "    \n",
    "    {'TEXT_KEY': 'title', 'LABEL_TYPE': 'subfield', 'SAMPLE': '100', 'INSTANCE_TYPE': 'ml.g6.4xlarge',\n",
    "     'done': 'longformer-subfield-title-s100-0918102953'},\n",
    "    {'TEXT_KEY': 'title', 'LABEL_TYPE': 'topic', 'SAMPLE': '100', 'INSTANCE_TYPE': 'ml.g6.4xlarge',\n",
    "     'done': 'longformer-topic-title-s100-0918102652'},\n",
    "    {'TEXT_KEY': 'abstract', 'LABEL_TYPE': 'subfield', 'SAMPLE': '100', 'INSTANCE_TYPE': 'ml.g6.8xlarge',\n",
    "     'done': 'longformer-subfield-abstract-s100-0918102352'},\n",
    "    {'TEXT_KEY': 'abstract', 'LABEL_TYPE': 'topic', 'SAMPLE': '100', 'INSTANCE_TYPE': 'ml.g6.8xlarge',\n",
    "     'done': 'longformer-topic-abstract-s100-0918102051'},\n",
    "    {'TEXT_KEY': 'fulltext', 'LABEL_TYPE': 'subfield', 'SAMPLE': '100', 'INSTANCE_TYPE': 'ml.g6.8xlarge',\n",
    "     'done': 'longformer-subfield-fulltext-s100-0918101749'},\n",
    "    {'TEXT_KEY': 'fulltext', 'LABEL_TYPE': 'topic', 'SAMPLE': '100', 'INSTANCE_TYPE': 'ml.g6.8xlarge',\n",
    "     'done': 'longformer-topic-fulltext-s100-0918101448'},\n",
    "]"
   ]
  },
  {
   "cell_type": "code",
   "execution_count": 4,
   "id": "8a7f17c7-106a-4d71-8284-a8f0bf76d554",
   "metadata": {
    "execution": {
     "iopub.execute_input": "2025-09-18T10:14:48.648256Z",
     "iopub.status.busy": "2025-09-18T10:14:48.647973Z",
     "iopub.status.idle": "2025-09-18T11:06:04.700914Z",
     "shell.execute_reply": "2025-09-18T11:06:04.699950Z",
     "shell.execute_reply.started": "2025-09-18T10:14:48.648234Z"
    }
   },
   "outputs": [
    {
     "name": "stdout",
     "output_type": "stream",
     "text": [
      "Training job created: longformer-topic-fulltext-s100-0918101448\n",
      "Training job created: longformer-subfield-fulltext-s100-0918101749\n",
      "Training job created: longformer-topic-abstract-s100-0918102051\n",
      "Training job created: longformer-subfield-abstract-s100-0918102352\n",
      "Training job created: longformer-topic-title-s100-0918102652\n",
      "Training job created: longformer-subfield-title-s100-0918102953\n",
      "Training job created: longformer-topic-fulltext-s10-0918103254\n",
      "Training job created: longformer-subfield-fulltext-s10-0918103555\n",
      "Training job created: longformer-topic-abstract-s10-0918103856\n",
      "Training job created: longformer-subfield-abstract-s10-0918104157\n",
      "Training job created: longformer-topic-title-s10-0918104458\n",
      "Training job created: longformer-subfield-title-s10-0918104759\n",
      "Training job created: longformer-topic-fulltext-s1-0918105100\n",
      "Training job created: longformer-subfield-fulltext-s1-0918105400\n",
      "Training job created: longformer-topic-abstract-s1-0918105701\n",
      "Training job created: longformer-subfield-abstract-s1-0918110003\n",
      "Training job created: longformer-topic-title-s1-0918110303\n"
     ]
    }
   ],
   "source": [
    "MODEL_NAME = 'allenai/longformer-base-4096'\n",
    "for run in reversed(RUNS[MODEL_NAME]):\n",
    "    if 'done' not in run or not run['done']:\n",
    "        JOB_NAME = utils.create_supervised_multiclass_classification_training_job(\n",
    "            SCRIPT_FILEPATH=script_dir,\n",
    "            MODEL_NAME=MODEL_NAME,\n",
    "            INSTANCE_TYPE=run['INSTANCE_TYPE'],\n",
    "            TEXT_KEY=run['TEXT_KEY'],\n",
    "            LABEL_TYPE=run['LABEL_TYPE'],\n",
    "            SAMPLE=run['SAMPLE'],\n",
    "            MAX_RUNTIME_S=MAX_RUNTIME\n",
    "        )\n",
    "        time.sleep(3*60)"
   ]
  },
  {
   "cell_type": "code",
   "execution_count": 19,
   "id": "f2b2b688-2aa5-45a0-9a4b-cbdae9fc316e",
   "metadata": {
    "execution": {
     "iopub.execute_input": "2025-09-20T16:39:31.310962Z",
     "iopub.status.busy": "2025-09-20T16:39:31.310679Z",
     "iopub.status.idle": "2025-09-20T16:39:31.315701Z",
     "shell.execute_reply": "2025-09-20T16:39:31.314644Z",
     "shell.execute_reply.started": "2025-09-20T16:39:31.310939Z"
    }
   },
   "outputs": [],
   "source": [
    "MODEL_NAME = 'allenai/scibert_scivocab_uncased'\n",
    "USE_SEMIBALANCED = True\n",
    "RUNS['semibalanced_'+MODEL_NAME] = [\n",
    "    {'TEXT_KEY': 'abstract', 'LABEL_TYPE': 'subfield', 'SAMPLE': '100', 'INSTANCE_TYPE': 'ml.g6.8xlarge',\n",
    "     'done': False},\n",
    "    {'TEXT_KEY': 'abstract', 'LABEL_TYPE': 'topic', 'SAMPLE': '100', 'INSTANCE_TYPE': 'ml.g6.8xlarge',\n",
    "     'done': False},\n",
    "    {'TEXT_KEY': 'fulltext', 'LABEL_TYPE': 'subfield', 'SAMPLE': '100', 'INSTANCE_TYPE': 'ml.g6.8xlarge',\n",
    "     'done': False},\n",
    "    {'TEXT_KEY': 'fulltext', 'LABEL_TYPE': 'topic', 'SAMPLE': '100', 'INSTANCE_TYPE': 'ml.g6.8xlarge',\n",
    "     'done': False},\n",
    "]"
   ]
  },
  {
   "cell_type": "code",
   "execution_count": 20,
   "id": "7bc20228-7435-46b4-a3a3-5e884099b4e8",
   "metadata": {
    "execution": {
     "iopub.execute_input": "2025-09-20T16:39:33.505950Z",
     "iopub.status.busy": "2025-09-20T16:39:33.505663Z",
     "iopub.status.idle": "2025-09-20T16:51:36.890284Z",
     "shell.execute_reply": "2025-09-20T16:51:36.889150Z",
     "shell.execute_reply.started": "2025-09-20T16:39:33.505928Z"
    }
   },
   "outputs": [
    {
     "name": "stdout",
     "output_type": "stream",
     "text": [
      "Training job created: semibalanced-scibert-topic-fulltext-s100-0920163933\n",
      "Training job created: semibalanced-scibert-subfield-fulltext-s100-0920164234\n",
      "Training job created: semibalanced-scibert-topic-abstract-s100-0920164535\n",
      "Training job created: semibalanced-scibert-subfield-abstract-s100-0920164836\n"
     ]
    }
   ],
   "source": [
    "MODEL_NAME = 'allenai/scibert_scivocab_uncased'\n",
    "for run in reversed(RUNS['semibalanced_'+MODEL_NAME]):\n",
    "    if 'done' not in run or not run['done']:\n",
    "        JOB_NAME = utils.create_supervised_multiclass_classification_training_job(\n",
    "            SCRIPT_FILEPATH=script_dir,\n",
    "            MODEL_NAME=MODEL_NAME,\n",
    "            INSTANCE_TYPE=run['INSTANCE_TYPE'],\n",
    "            TEXT_KEY=run['TEXT_KEY'],\n",
    "            LABEL_TYPE=run['LABEL_TYPE'],\n",
    "            SAMPLE=run['SAMPLE'],\n",
    "            MAX_RUNTIME_S=MAX_RUNTIME,\n",
    "            USE_SEMIBALANCED=USE_SEMIBALANCED\n",
    "        )\n",
    "        time.sleep(3*60)"
   ]
  },
  {
   "cell_type": "code",
   "execution_count": 13,
   "id": "dbd04414-d005-4ce7-86eb-a2ad1c311657",
   "metadata": {
    "execution": {
     "iopub.execute_input": "2025-09-19T18:21:59.611088Z",
     "iopub.status.busy": "2025-09-19T18:21:59.610318Z",
     "iopub.status.idle": "2025-09-19T18:21:59.618172Z",
     "shell.execute_reply": "2025-09-19T18:21:59.616810Z",
     "shell.execute_reply.started": "2025-09-19T18:21:59.611059Z"
    }
   },
   "outputs": [],
   "source": [
    "for model_name, model_runs in RUNS.items():\n",
    "    for model_run in model_runs:\n",
    "        if 'done' not in model_run or not model_run['done']:\n",
    "            # longformer-subfield-title-s1-0917143827\n",
    "            model_short_name = model_name.replace('_','-').split(\"/\")[-1].split(\"-\")[0]\n",
    "            job_name_prefix = f'{model_short_name}-{model_run[\"LABEL_TYPE\"]}-{model_run[\"TEXT_KEY\"]}-s{model_run[\"SAMPLE\"]}-'\n",
    "            print(job_name_prefix)"
   ]
  },
  {
   "cell_type": "code",
   "execution_count": null,
   "id": "17bc3a22-5bce-437b-ad81-028eb0805fd7",
   "metadata": {},
   "outputs": [],
   "source": []
  }
 ],
 "metadata": {
  "kernelspec": {
   "display_name": "python_311_2",
   "language": "python",
   "name": "python_311_2"
  },
  "language_info": {
   "codemirror_mode": {
    "name": "ipython",
    "version": 3
   },
   "file_extension": ".py",
   "mimetype": "text/x-python",
   "name": "python",
   "nbconvert_exporter": "python",
   "pygments_lexer": "ipython3",
   "version": "3.11.13"
  }
 },
 "nbformat": 4,
 "nbformat_minor": 5
}
