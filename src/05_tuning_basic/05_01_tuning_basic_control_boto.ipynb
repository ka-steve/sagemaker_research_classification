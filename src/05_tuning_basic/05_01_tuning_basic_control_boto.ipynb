{
 "cells": [
  {
   "cell_type": "code",
   "execution_count": 49,
   "id": "1344db8e",
   "metadata": {
    "execution": {
     "iopub.execute_input": "2025-09-06T21:40:02.870889Z",
     "iopub.status.busy": "2025-09-06T21:40:02.870504Z",
     "iopub.status.idle": "2025-09-06T21:40:02.891755Z",
     "shell.execute_reply": "2025-09-06T21:40:02.890943Z",
     "shell.execute_reply.started": "2025-09-06T21:40:02.870855Z"
    }
   },
   "outputs": [
    {
     "name": "stdout",
     "output_type": "stream",
     "text": [
      "utils.py loaded: v0.2.12\n",
      "config.py loaded: v0.1\n"
     ]
    }
   ],
   "source": [
    "import argparse\n",
    "import boto3\n",
    "import evaluate\n",
    "import importlib\n",
    "import json\n",
    "import lighteval\n",
    "import os\n",
    "import pathlib\n",
    "import requests\n",
    "import shutil\n",
    "import sys\n",
    "import tarfile\n",
    "import time\n",
    "import torch\n",
    "import transformers\n",
    "import uuid\n",
    "import wandb\n",
    "\n",
    "import awswrangler as wr\n",
    "import numpy as np\n",
    "\n",
    "from botocore.exceptions import ClientError\n",
    "from datasets import load_dataset, DatasetDict, Dataset\n",
    "from datetime import datetime, timezone\n",
    "from IPython.display import display\n",
    "from peft import PeftModel, PeftConfig, get_peft_model, LoraConfig\n",
    "from sagemaker import image_uris, utils as sm_utils\n",
    "from sagemaker.huggingface.processing import HuggingFaceProcessor\n",
    "from sagemaker.sklearn.processing import SKLearnProcessor\n",
    "from sagemaker.processing import FrameworkProcessor\n",
    "from sagemaker.sklearn.estimator import SKLearn\n",
    "from sagemaker.workflow.steps import ProcessingStep\n",
    "from sagemaker.workflow.pipeline_context import PipelineSession\n",
    "from sagemaker.processing import ProcessingInput, ProcessingOutput\n",
    "from sagemaker.session import get_execution_role\n",
    "from sklearn.metrics import accuracy_score, precision_recall_fscore_support\n",
    "from tqdm import tqdm\n",
    "from transformers import (\n",
    "    AutoTokenizer,\n",
    "    AutoConfig, \n",
    "    AutoModelForSequenceClassification,\n",
    "    DataCollatorWithPadding,\n",
    "    TrainingArguments,\n",
    "    Trainer\n",
    ")\n",
    "from typing import List, Union, Optional\n",
    "\n",
    "\n",
    "# Adding ../01_modules or ./01_modules to the system path so that we can load modules from \n",
    "# there as well\n",
    "if '__file__' in globals():\n",
    "    script_dir = pathlib.Path(__file__).parent.resolve()\n",
    "else:\n",
    "    script_dir = pathlib.Path().absolute()\n",
    "modules_path_in_dev = os.path.abspath(os.path.join(script_dir, '..', '01_modules'))\n",
    "modules_path_in_prod = os.path.abspath(os.path.join(script_dir, '01_modules'))\n",
    "if os.path.exists(modules_path_in_dev):\n",
    "    sys.path.append(modules_path_in_dev)\n",
    "if os.path.exists(modules_path_in_prod):\n",
    "    sys.path.append(modules_path_in_prod)\n",
    "\n",
    "\n",
    "# # Jupyter only reads a local module the first time after \n",
    "# # kernel start. Re-running a cell with \n",
    "# # \"from mymodulename import *\" would not change\n",
    "# # anything, even if the imported module has since changed.\n",
    "# # As a workaround, we need to directly load the module, \n",
    "# # use importlib.reload to reload it and then import * \n",
    "import utils\n",
    "_ = importlib.reload(utils)\n",
    "import config\n",
    "_ = importlib.reload(config) \n",
    "\n",
    "_ = \"\"\"\n",
    "ml.g6.xlarge:   6\n",
    "ml.g6.2xlarge:  3\n",
    "ml.g6.4xlarge:  3\n",
    "ml.g6.8xlarge:  3\n",
    "ml.g6.12xlarge: 3\n",
    "ml.g6.16xlarge: 3\n",
    "ml.g6.24xlarge: 3\n",
    "ml.g6.48xlarge: 3\n",
    "\n",
    "google-bert/bert-base-uncased\n",
    "distilbert/distilbert-base-uncased\n",
    "microsoft/deberta-v3-base\n",
    "FacebookAI/roberta-base\n",
    "answerdotai/ModernBERT-base\n",
    "answerdotai/ModernBERT-large\n",
    "allenai/scibert_scivocab_uncased\n",
    "google/bigbird-roberta-base\n",
    "allenai/longformer-base-4096\n",
    "\"\"\""
   ]
  },
  {
   "cell_type": "code",
   "execution_count": 52,
   "id": "32e79722-3ec1-44ac-8621-e3116c77c538",
   "metadata": {
    "execution": {
     "iopub.execute_input": "2025-09-06T22:29:25.134898Z",
     "iopub.status.busy": "2025-09-06T22:29:25.134613Z",
     "iopub.status.idle": "2025-09-06T22:29:25.819887Z",
     "shell.execute_reply": "2025-09-06T22:29:25.819074Z",
     "shell.execute_reply.started": "2025-09-06T22:29:25.134874Z"
    }
   },
   "outputs": [
    {
     "name": "stdout",
     "output_type": "stream",
     "text": [
      "Training job created: distilbert-topic-title-s100-0906222925\n"
     ]
    },
    {
     "data": {
      "text/plain": [
       "'distilbert-topic-title-s100-0906222925'"
      ]
     },
     "execution_count": 52,
     "metadata": {},
     "output_type": "execute_result"
    }
   ],
   "source": [
    "JOB_NAME = utils.create_supervised_multiclass_classification_training_job(\n",
    "    SCRIPT_FILEPATH = script_dir,\n",
    "    MODEL_NAME='distilbert-base-uncased',\n",
    "    INSTANCE_TYPE='ml.g6.8xlarge',\n",
    "    HF_DATASET_SUFFIX='_Title_TopicIndex',\n",
    "    TEXT_KEY='title',\n",
    "    LABEL_TYPE='topic',\n",
    "    SAMPLE='100', # must be string\n",
    "    MAX_RUNTIME_S=2*60*60\n",
    ")\n",
    "JOB_NAME"
   ]
  },
  {
   "cell_type": "code",
   "execution_count": 53,
   "id": "5c550215-eaa4-4fbc-8a21-ad1d551fe186",
   "metadata": {
    "execution": {
     "iopub.execute_input": "2025-09-07T00:49:10.878314Z",
     "iopub.status.busy": "2025-09-07T00:49:10.878026Z",
     "iopub.status.idle": "2025-09-07T00:49:11.554417Z",
     "shell.execute_reply": "2025-09-07T00:49:11.553446Z",
     "shell.execute_reply.started": "2025-09-07T00:49:10.878293Z"
    }
   },
   "outputs": [
    {
     "name": "stdout",
     "output_type": "stream",
     "text": [
      "Training job created: google-topic-abstract-s100-0907004910\n"
     ]
    },
    {
     "data": {
      "text/plain": [
       "'google-topic-abstract-s100-0907004910'"
      ]
     },
     "execution_count": 53,
     "metadata": {},
     "output_type": "execute_result"
    }
   ],
   "source": [
    "JOB_NAME = utils.create_supervised_multiclass_classification_training_job(\n",
    "    SCRIPT_FILEPATH = script_dir,\n",
    "    MODEL_NAME='google-bert/bert-base-uncased',\n",
    "    INSTANCE_TYPE='ml.g6.24xlarge',\n",
    "    HF_DATASET_SUFFIX='_Abstract_TopicIndex',\n",
    "    TEXT_KEY='abstract',\n",
    "    LABEL_TYPE='topic',\n",
    "    SAMPLE='100', # must be string\n",
    "    MAX_RUNTIME_S=24*60*60\n",
    ")\n",
    "JOB_NAME"
   ]
  },
  {
   "cell_type": "code",
   "execution_count": 27,
   "id": "51195875-5d42-446d-b1b7-3df9de90c10a",
   "metadata": {
    "execution": {
     "iopub.execute_input": "2025-09-06T17:50:41.321728Z",
     "iopub.status.busy": "2025-09-06T17:50:41.321464Z",
     "iopub.status.idle": "2025-09-06T17:50:41.368643Z",
     "shell.execute_reply": "2025-09-06T17:50:41.367954Z",
     "shell.execute_reply.started": "2025-09-06T17:50:41.321710Z"
    }
   },
   "outputs": [
    {
     "name": "stdout",
     "output_type": "stream",
     "text": [
      "SOURCE_DIRPATH /home/sagemaker-user/research_methodology_extraction/src\n"
     ]
    }
   ],
   "source": [
    "_ = \"\"\"\n",
    "ml.g6.xlarge:   6\n",
    "ml.g6.2xlarge:  3\n",
    "ml.g6.4xlarge:  3\n",
    "ml.g6.8xlarge:  3\n",
    "ml.g6.12xlarge: 3\n",
    "ml.g6.16xlarge: 3\n",
    "ml.g6.24xlarge: 3\n",
    "ml.g6.48xlarge: 3\n",
    "\"\"\"\n",
    "\n",
    "INSTANCE_TYPE = 'ml.g6.4xlarge'\n",
    "ENTRY_POINT = '05_tuning_basic/05_12_tuning_basic_simple.py'\n",
    "MODEL_NAME = 'distilbert-base-uncased'\n",
    "\n",
    "HF_DATASET_SUFFIX = '_Title_SubfieldIndex'\n",
    "LABEL_TYPE = 'subfield'\n",
    "TEXT_KEY = 'title'\n",
    "TEXT_KEY_RENAME_TO = 'text'\n",
    "LABEL_KEY_RENAME_TO = 'label'\n",
    "SAMPLE = '1'          # must be string\n",
    "VOLUME_SIZE_GB = 450\n",
    "MAX_RUNTIME_S = 60*60\n",
    "\n",
    "\n",
    "\n",
    "NOW = datetime.now().strftime('%Y%m%d%H%M%S')\n",
    "JOB_NAME = f'{MODEL_NAME}{HF_DATASET_SUFFIX}_sample-{SAMPLE}_{NOW}_{INSTANCE_TYPE.replace(\".\",\"-\")}' # TODO: add more params\n",
    "SAGEMAKER_CLIENT = boto3.client('sagemaker', region_name=config.AWS_REGION)\n",
    "S3_CLIENT = boto3.client('s3')\n",
    "EXECUTION_ROLE = get_execution_role()\n",
    "SCRIPT_FILEPATH = script_dir\n",
    "SOURCE_DIRPATH = SCRIPT_FILEPATH.parents[0]\n",
    "ROOT_DIRPATH = SCRIPT_FILEPATH.parents[1]\n",
    "TEMP_DIRPATH = pathlib.Path(f'./_code/{JOB_NAME}')\n",
    "TAR_FILEPATH = pathlib.Path(f'./_tar/source-{JOB_NAME}.tar.gz')\n",
    "ENV_VARS = {\n",
    "    'HUGGINGFACE_HUB_CACHE': '/tmp/.cache'\n",
    "}\n",
    "# config.DEFAULT_S3_BUCKET_NAME\n",
    "print('SOURCE_DIRPATH', SOURCE_DIRPATH)"
   ]
  },
  {
   "cell_type": "code",
   "execution_count": 28,
   "id": "1282c01e-2ad0-43c1-a231-afb9dda9a180",
   "metadata": {
    "execution": {
     "iopub.execute_input": "2025-09-06T17:50:42.123009Z",
     "iopub.status.busy": "2025-09-06T17:50:42.122725Z",
     "iopub.status.idle": "2025-09-06T17:50:42.238381Z",
     "shell.execute_reply": "2025-09-06T17:50:42.237581Z",
     "shell.execute_reply.started": "2025-09-06T17:50:42.122987Z"
    }
   },
   "outputs": [],
   "source": [
    "if TEMP_DIRPATH.parents[0].exists():\n",
    "    shutil.rmtree(TEMP_DIRPATH.parents[0])\n",
    "TEMP_DIRPATH.mkdir(parents=True, exist_ok=True)\n",
    "\n",
    "if TAR_FILEPATH.parents[0].exists():\n",
    "    shutil.rmtree(TAR_FILEPATH.parents[0])\n",
    "TAR_FILEPATH.parents[0].mkdir(parents=True, exist_ok=True)\n",
    "\n",
    "ignore_names = {'__pycache__', '.ipynb_checkpoints'}\n",
    "for item in SOURCE_DIRPATH.iterdir():\n",
    "    name = item.name\n",
    "    if name in ignore_names:\n",
    "        continue\n",
    "    dest = TEMP_DIRPATH / name\n",
    "    if item.is_dir():\n",
    "        # print('item.is_dir()', item, dest)\n",
    "        for item2 in item.iterdir():\n",
    "            name2 = item2.name\n",
    "            if name2 in ignore_names:\n",
    "                continue\n",
    "            dest2 = TEMP_DIRPATH / name / name2\n",
    "            if item2.is_dir():\n",
    "                pass\n",
    "                # print('item2.is_dir() NOT COPYING', item2, dest2)\n",
    "                # shutil.copytree(item, dest, ignore=shutil.ignore_patterns('__pycache__', '*.pyc', '*.pyo', '*.tmp'), dirs_exist_ok=True)\n",
    "            else:\n",
    "                # print('else', item2, dest2)\n",
    "                dest.mkdir(parents=True, exist_ok=True)\n",
    "                shutil.copy2(item2, dest2)\n",
    "        # shutil.copytree(item, dest, ignore=shutil.ignore_patterns('__pycache__', '*.pyc', '*.pyo', '*.tmp'), dirs_exist_ok=True)\n",
    "    else:\n",
    "        # print('else', item, dest)\n",
    "        shutil.copy2(item, dest)\n",
    "\n",
    "shutil.copy2(ROOT_DIRPATH / 'requirements_train.txt', TEMP_DIRPATH / 'requirements.txt')\n",
    "\n",
    "# Tar the temp_dir (its contents become root of /opt/ml/code)\n",
    "with tarfile.open(TAR_FILEPATH, 'w:gz') as tar:\n",
    "    tar.add(str(TEMP_DIRPATH), arcname='.')\n"
   ]
  },
  {
   "cell_type": "code",
   "execution_count": 29,
   "id": "ee4cabe3-bb03-458d-afa6-9d60d6acceb6",
   "metadata": {
    "execution": {
     "iopub.execute_input": "2025-09-06T17:50:43.461200Z",
     "iopub.status.busy": "2025-09-06T17:50:43.460933Z",
     "iopub.status.idle": "2025-09-06T17:50:43.589737Z",
     "shell.execute_reply": "2025-09-06T17:50:43.589026Z",
     "shell.execute_reply.started": "2025-09-06T17:50:43.461181Z"
    }
   },
   "outputs": [],
   "source": [
    "code_s3_key = f'02_code/train/{JOB_NAME}/source.tar.gz'\n",
    "S3_CLIENT.upload_file(str(TAR_FILEPATH), config.DEFAULT_S3_BUCKET_NAME, code_s3_key)\n",
    "code_s3_uri = f's3://{config.DEFAULT_S3_BUCKET_NAME}/{code_s3_key}'"
   ]
  },
  {
   "cell_type": "code",
   "execution_count": 30,
   "id": "e7258b3b-068e-470e-924c-8f03bed149c6",
   "metadata": {
    "execution": {
     "iopub.execute_input": "2025-09-06T17:50:43.915304Z",
     "iopub.status.busy": "2025-09-06T17:50:43.915020Z",
     "iopub.status.idle": "2025-09-06T17:50:43.963020Z",
     "shell.execute_reply": "2025-09-06T17:50:43.962335Z",
     "shell.execute_reply.started": "2025-09-06T17:50:43.915283Z"
    }
   },
   "outputs": [
    {
     "name": "stdout",
     "output_type": "stream",
     "text": [
      "Using training image: 763104351884.dkr.ecr.eu-west-2.amazonaws.com/huggingface-pytorch-training:1.13.1-transformers4.26.0-gpu-py39-cu117-ubuntu20.04\n",
      "Using training image: 763104351884.dkr.ecr.eu-west-2.amazonaws.com/huggingface-pytorch-training:2.5.1-transformers4.49.0-gpu-py311-cu124-ubuntu22.04\n"
     ]
    }
   ],
   "source": [
    "image_uri = image_uris.retrieve(\n",
    "    framework='huggingface',\n",
    "    region=config.AWS_REGION,\n",
    "    version='4.26.0',                 # transformers version\n",
    "    py_version='py39',\n",
    "    instance_type=INSTANCE_TYPE,\n",
    "    image_scope='training',\n",
    "    base_framework_version='pytorch1.13.1'\n",
    ")\n",
    "print('Using training image:', image_uri)\n",
    "\n",
    "image_uri = image_uris.retrieve(\n",
    "    framework='huggingface',\n",
    "    region=config.AWS_REGION,\n",
    "    version='4.49.0',                 # transformers version\n",
    "    py_version='py311',\n",
    "    instance_type=INSTANCE_TYPE,\n",
    "    image_scope='training',\n",
    "    base_framework_version='pytorch2.5.1'\n",
    ")\n",
    "print('Using training image:', image_uri)"
   ]
  },
  {
   "cell_type": "code",
   "execution_count": 31,
   "id": "8a7f17c7-106a-4d71-8284-a8f0bf76d554",
   "metadata": {
    "execution": {
     "iopub.execute_input": "2025-09-06T17:50:45.004545Z",
     "iopub.status.busy": "2025-09-06T17:50:45.004266Z",
     "iopub.status.idle": "2025-09-06T17:50:45.009932Z",
     "shell.execute_reply": "2025-09-06T17:50:45.008690Z",
     "shell.execute_reply.started": "2025-09-06T17:50:45.004523Z"
    }
   },
   "outputs": [
    {
     "data": {
      "text/plain": [
       "''"
      ]
     },
     "execution_count": 31,
     "metadata": {},
     "output_type": "execute_result"
    }
   ],
   "source": [
    "''"
   ]
  },
  {
   "cell_type": "code",
   "execution_count": 32,
   "id": "bd231a07-a0b0-4952-a37f-c5eedc525951",
   "metadata": {
    "execution": {
     "iopub.execute_input": "2025-09-06T17:50:45.610678Z",
     "iopub.status.busy": "2025-09-06T17:50:45.610408Z",
     "iopub.status.idle": "2025-09-06T17:50:45.614596Z",
     "shell.execute_reply": "2025-09-06T17:50:45.613819Z",
     "shell.execute_reply.started": "2025-09-06T17:50:45.610657Z"
    }
   },
   "outputs": [],
   "source": [
    "hyperparameters = {\n",
    "    # SageMaker training toolkit special keys:\n",
    "    'sagemaker_program': ENTRY_POINT,\n",
    "    'sagemaker_submit_directory': code_s3_uri,\n",
    "    'sagemaker_container_log_level': '20',\n",
    "    'sagemaker_region': config.AWS_REGION,\n",
    "\n",
    "    # Your script args:\n",
    "    'runtype': 'prod',\n",
    "    'now': NOW,\n",
    "    'instance_type': INSTANCE_TYPE,\n",
    "    'model_name': MODEL_NAME,\n",
    "    \n",
    "    'hf_dataset_suffix': HF_DATASET_SUFFIX,\n",
    "    'label_type': LABEL_TYPE,\n",
    "    'text_key': TEXT_KEY,\n",
    "    'text_key_rename_to': TEXT_KEY_RENAME_TO,\n",
    "    'label_key_rename_to': LABEL_KEY_RENAME_TO,\n",
    "    'sample': SAMPLE,          # must be string\n",
    "    # 'epochs': '5',\n",
    "    # 'train_batch_size': '32',\n",
    "    # 'eval_batch_size': '64',\n",
    "    # 'warmup_steps': '500',\n",
    "    # 'learning_rate': '5e-5'\n",
    "}"
   ]
  },
  {
   "cell_type": "code",
   "execution_count": 33,
   "id": "34ba0fd7-eead-473e-80f1-dd48dc24b6d0",
   "metadata": {
    "execution": {
     "iopub.execute_input": "2025-09-06T17:50:47.127871Z",
     "iopub.status.busy": "2025-09-06T17:50:47.127595Z",
     "iopub.status.idle": "2025-09-06T17:50:47.131636Z",
     "shell.execute_reply": "2025-09-06T17:50:47.130713Z",
     "shell.execute_reply.started": "2025-09-06T17:50:47.127851Z"
    }
   },
   "outputs": [],
   "source": [
    "input_data_config = [\n",
    "    {\n",
    "        'ChannelName': 'train',\n",
    "        'DataSource': {\n",
    "            'S3DataSource': {\n",
    "                'S3DataType': 'S3Prefix',\n",
    "                'S3Uri': 's3://sagemaker-research-methodology-extraction/01_data/03_core/unified_works_train/',\n",
    "                'S3DataDistributionType': 'FullyReplicated'\n",
    "            }\n",
    "        },\n",
    "        'InputMode': 'File'\n",
    "    }\n",
    "]"
   ]
  },
  {
   "cell_type": "code",
   "execution_count": 34,
   "id": "281ab9c2-051f-411e-b3ce-d9b53b2b79e0",
   "metadata": {
    "execution": {
     "iopub.execute_input": "2025-09-06T17:50:47.986237Z",
     "iopub.status.busy": "2025-09-06T17:50:47.985934Z",
     "iopub.status.idle": "2025-09-06T17:50:48.397813Z",
     "shell.execute_reply": "2025-09-06T17:50:48.397105Z",
     "shell.execute_reply.started": "2025-09-06T17:50:47.986202Z"
    }
   },
   "outputs": [
    {
     "name": "stdout",
     "output_type": "stream",
     "text": [
      "Training job created: hf-boto-20250906175041-ml-g6-4xlarge\n"
     ]
    }
   ],
   "source": [
    "try:\n",
    "    resp = SAGEMAKER_CLIENT.create_training_job(\n",
    "        TrainingJobName=JOB_NAME,\n",
    "        RoleArn=EXECUTION_ROLE,\n",
    "        AlgorithmSpecification={\n",
    "            'TrainingImage': image_uri,\n",
    "            'TrainingInputMode': 'File'\n",
    "        },\n",
    "        HyperParameters=hyperparameters,\n",
    "        InputDataConfig=input_data_config,\n",
    "        OutputDataConfig={\n",
    "            'S3OutputPath': f's3://{config.DEFAULT_S3_BUCKET_NAME}/03_training_output/{JOB_NAME}'\n",
    "        },\n",
    "        ResourceConfig={\n",
    "            'InstanceType': INSTANCE_TYPE,\n",
    "            'InstanceCount': 1,\n",
    "            'VolumeSizeInGB': VOLUME_SIZE_GB\n",
    "        },\n",
    "        StoppingCondition={'MaxRuntimeInSeconds': MAX_RUNTIME_S},\n",
    "        Environment=ENV_VARS,\n",
    "        EnableManagedSpotTraining=False\n",
    "    )\n",
    "    print('Training job created:', JOB_NAME)\n",
    "except ClientError as e:\n",
    "    print('create_training_job failed:')\n",
    "    print(e.response.get('Error', e))\n",
    "    raise"
   ]
  },
  {
   "cell_type": "code",
   "execution_count": 35,
   "id": "bd0dc9f9-d08e-4d06-9954-6db191d7b36d",
   "metadata": {
    "execution": {
     "iopub.execute_input": "2025-09-06T17:50:49.503188Z",
     "iopub.status.busy": "2025-09-06T17:50:49.502919Z",
     "iopub.status.idle": "2025-09-06T17:56:20.695995Z",
     "shell.execute_reply": "2025-09-06T17:56:20.695002Z",
     "shell.execute_reply.started": "2025-09-06T17:50:49.503169Z"
    }
   },
   "outputs": [
    {
     "name": "stdout",
     "output_type": "stream",
     "text": [
      "Polling status (CTRL+C to stop)...\n",
      "Status: InProgress\n",
      "Status: InProgress\n",
      "Status: InProgress\n",
      "Status: InProgress\n",
      "Status: InProgress\n",
      "Status: InProgress\n",
      "Status: InProgress\n",
      "Status: InProgress\n",
      "Status: InProgress\n",
      "Status: InProgress\n",
      "Status: InProgress\n",
      "Status: InProgress\n"
     ]
    },
    {
     "data": {
      "text/html": [
       "<pre style=\"white-space:pre;overflow-x:auto;line-height:normal;font-family:Menlo,'DejaVu Sans Mono',consolas,'Courier New',monospace\"><span style=\"color: #ff0000; text-decoration-color: #ff0000\">╭─────────────────────────────── </span><span style=\"color: #ff0000; text-decoration-color: #ff0000; font-weight: bold\">Traceback </span><span style=\"color: #ff7f7f; text-decoration-color: #ff7f7f; font-weight: bold\">(most recent call last)</span><span style=\"color: #ff0000; text-decoration-color: #ff0000\"> ────────────────────────────────╮</span>\n",
       "<span style=\"color: #ff0000; text-decoration-color: #ff0000\">│</span> in &lt;module&gt;:41                                                                                   <span style=\"color: #ff0000; text-decoration-color: #ff0000\">│</span>\n",
       "<span style=\"color: #ff0000; text-decoration-color: #ff0000\">│</span>                                                                                                  <span style=\"color: #ff0000; text-decoration-color: #ff0000\">│</span>\n",
       "<span style=\"color: #ff0000; text-decoration-color: #ff0000\">│</span>   <span style=\"color: #7f7f7f; text-decoration-color: #7f7f7f\">38 </span><span style=\"color: #7f7f7f; text-decoration-color: #7f7f7f\">│   │   </span>time.sleep(<span style=\"color: #0000ff; text-decoration-color: #0000ff\">30</span>)                                                                      <span style=\"color: #ff0000; text-decoration-color: #ff0000\">│</span>\n",
       "<span style=\"color: #ff0000; text-decoration-color: #ff0000\">│</span>   <span style=\"color: #7f7f7f; text-decoration-color: #7f7f7f\">39 </span>                                                                                            <span style=\"color: #ff0000; text-decoration-color: #ff0000\">│</span>\n",
       "<span style=\"color: #ff0000; text-decoration-color: #ff0000\">│</span>   <span style=\"color: #7f7f7f; text-decoration-color: #7f7f7f\">40 # tail inside script run:</span>                                                                   <span style=\"color: #ff0000; text-decoration-color: #ff0000\">│</span>\n",
       "<span style=\"color: #ff0000; text-decoration-color: #ff0000\">│</span> <span style=\"color: #800000; text-decoration-color: #800000\">❱ </span>41 <span style=\"font-weight: bold; text-decoration: underline\">stream_logs()</span>                                                                               <span style=\"color: #ff0000; text-decoration-color: #ff0000\">│</span>\n",
       "<span style=\"color: #ff0000; text-decoration-color: #ff0000\">│</span>   <span style=\"color: #7f7f7f; text-decoration-color: #7f7f7f\">42 </span>                                                                                            <span style=\"color: #ff0000; text-decoration-color: #ff0000\">│</span>\n",
       "<span style=\"color: #ff0000; text-decoration-color: #ff0000\">│</span>                                                                                                  <span style=\"color: #ff0000; text-decoration-color: #ff0000\">│</span>\n",
       "<span style=\"color: #ff0000; text-decoration-color: #ff0000\">│</span> in stream_logs:26                                                                                <span style=\"color: #ff0000; text-decoration-color: #ff0000\">│</span>\n",
       "<span style=\"color: #ff0000; text-decoration-color: #ff0000\">│</span>                                                                                                  <span style=\"color: #ff0000; text-decoration-color: #ff0000\">│</span>\n",
       "<span style=\"color: #ff0000; text-decoration-color: #ff0000\">│</span>   <span style=\"color: #7f7f7f; text-decoration-color: #7f7f7f\">23 </span><span style=\"color: #7f7f7f; text-decoration-color: #7f7f7f\">│   │   │   │   │   </span>startFromHead=<span style=\"color: #0000ff; text-decoration-color: #0000ff\">True</span>                                                      <span style=\"color: #ff0000; text-decoration-color: #ff0000\">│</span>\n",
       "<span style=\"color: #ff0000; text-decoration-color: #ff0000\">│</span>   <span style=\"color: #7f7f7f; text-decoration-color: #7f7f7f\">24 </span><span style=\"color: #7f7f7f; text-decoration-color: #7f7f7f\">│   │   │   │   </span>)[<span style=\"color: #808000; text-decoration-color: #808000\">'events'</span>]                                                                 <span style=\"color: #ff0000; text-decoration-color: #ff0000\">│</span>\n",
       "<span style=\"color: #ff0000; text-decoration-color: #ff0000\">│</span>   <span style=\"color: #7f7f7f; text-decoration-color: #7f7f7f\">25 </span><span style=\"color: #7f7f7f; text-decoration-color: #7f7f7f\">│   │   │   │   </span><span style=\"color: #0000ff; text-decoration-color: #0000ff\">for</span> ev <span style=\"color: #ff00ff; text-decoration-color: #ff00ff\">in</span> events:                                                           <span style=\"color: #ff0000; text-decoration-color: #ff0000\">│</span>\n",
       "<span style=\"color: #ff0000; text-decoration-color: #ff0000\">│</span> <span style=\"color: #800000; text-decoration-color: #800000\">❱ </span>26 <span style=\"color: #7f7f7f; text-decoration-color: #7f7f7f\">│   │   │   │   │   </span><span style=\"color: #0000ff; text-decoration-color: #0000ff\">if</span> ev[<span style=\"color: #808000; text-decoration-color: #808000\">'eventId'</span>] <span style=\"color: #ff00ff; text-decoration-color: #ff00ff\">in</span> seen:                                               <span style=\"color: #ff0000; text-decoration-color: #ff0000\">│</span>\n",
       "<span style=\"color: #ff0000; text-decoration-color: #ff0000\">│</span>   <span style=\"color: #7f7f7f; text-decoration-color: #7f7f7f\">27 </span><span style=\"color: #7f7f7f; text-decoration-color: #7f7f7f\">│   │   │   │   │   │   </span><span style=\"color: #0000ff; text-decoration-color: #0000ff\">continue</span>                                                            <span style=\"color: #ff0000; text-decoration-color: #ff0000\">│</span>\n",
       "<span style=\"color: #ff0000; text-decoration-color: #ff0000\">│</span>   <span style=\"color: #7f7f7f; text-decoration-color: #7f7f7f\">28 </span><span style=\"color: #7f7f7f; text-decoration-color: #7f7f7f\">│   │   │   │   │   </span>seen.add(ev[<span style=\"color: #808000; text-decoration-color: #808000\">'eventId'</span>])                                                 <span style=\"color: #ff0000; text-decoration-color: #ff0000\">│</span>\n",
       "<span style=\"color: #ff0000; text-decoration-color: #ff0000\">│</span>   <span style=\"color: #7f7f7f; text-decoration-color: #7f7f7f\">29 </span><span style=\"color: #7f7f7f; text-decoration-color: #7f7f7f\">│   │   │   │   │   </span><span style=\"color: #00ffff; text-decoration-color: #00ffff\">print</span>(ev[<span style=\"color: #808000; text-decoration-color: #808000\">'message'</span>].rstrip())                                           <span style=\"color: #ff0000; text-decoration-color: #ff0000\">│</span>\n",
       "<span style=\"color: #ff0000; text-decoration-color: #ff0000\">╰──────────────────────────────────────────────────────────────────────────────────────────────────╯</span>\n",
       "<span style=\"color: #ff0000; text-decoration-color: #ff0000; font-weight: bold\">KeyError: </span><span style=\"color: #008700; text-decoration-color: #008700\">'eventId'</span>\n",
       "</pre>\n"
      ],
      "text/plain": [
       "\u001b[38;2;255;0;0m╭─\u001b[0m\u001b[38;2;255;0;0m──────────────────────────────\u001b[0m\u001b[38;2;255;0;0m \u001b[0m\u001b[1;38;2;255;0;0mTraceback \u001b[0m\u001b[1;2;38;2;255;0;0m(most recent call last)\u001b[0m\u001b[38;2;255;0;0m \u001b[0m\u001b[38;2;255;0;0m───────────────────────────────\u001b[0m\u001b[38;2;255;0;0m─╮\u001b[0m\n",
       "\u001b[38;2;255;0;0m│\u001b[0m in <module>:41                                                                                   \u001b[38;2;255;0;0m│\u001b[0m\n",
       "\u001b[38;2;255;0;0m│\u001b[0m                                                                                                  \u001b[38;2;255;0;0m│\u001b[0m\n",
       "\u001b[38;2;255;0;0m│\u001b[0m   \u001b[2m38 \u001b[0m\u001b[2m│   │   \u001b[0mtime.sleep(\u001b[94m30\u001b[0m)                                                                      \u001b[38;2;255;0;0m│\u001b[0m\n",
       "\u001b[38;2;255;0;0m│\u001b[0m   \u001b[2m39 \u001b[0m                                                                                            \u001b[38;2;255;0;0m│\u001b[0m\n",
       "\u001b[38;2;255;0;0m│\u001b[0m   \u001b[2m40 \u001b[0m\u001b[2m# tail inside script run:\u001b[0m                                                                   \u001b[38;2;255;0;0m│\u001b[0m\n",
       "\u001b[38;2;255;0;0m│\u001b[0m \u001b[31m❱ \u001b[0m41 \u001b[1;4mstream_logs()\u001b[0m                                                                               \u001b[38;2;255;0;0m│\u001b[0m\n",
       "\u001b[38;2;255;0;0m│\u001b[0m   \u001b[2m42 \u001b[0m                                                                                            \u001b[38;2;255;0;0m│\u001b[0m\n",
       "\u001b[38;2;255;0;0m│\u001b[0m                                                                                                  \u001b[38;2;255;0;0m│\u001b[0m\n",
       "\u001b[38;2;255;0;0m│\u001b[0m in stream_logs:26                                                                                \u001b[38;2;255;0;0m│\u001b[0m\n",
       "\u001b[38;2;255;0;0m│\u001b[0m                                                                                                  \u001b[38;2;255;0;0m│\u001b[0m\n",
       "\u001b[38;2;255;0;0m│\u001b[0m   \u001b[2m23 \u001b[0m\u001b[2m│   │   │   │   │   \u001b[0mstartFromHead=\u001b[94mTrue\u001b[0m                                                      \u001b[38;2;255;0;0m│\u001b[0m\n",
       "\u001b[38;2;255;0;0m│\u001b[0m   \u001b[2m24 \u001b[0m\u001b[2m│   │   │   │   \u001b[0m)[\u001b[33m'\u001b[0m\u001b[33mevents\u001b[0m\u001b[33m'\u001b[0m]                                                                 \u001b[38;2;255;0;0m│\u001b[0m\n",
       "\u001b[38;2;255;0;0m│\u001b[0m   \u001b[2m25 \u001b[0m\u001b[2m│   │   │   │   \u001b[0m\u001b[94mfor\u001b[0m ev \u001b[95min\u001b[0m events:                                                           \u001b[38;2;255;0;0m│\u001b[0m\n",
       "\u001b[38;2;255;0;0m│\u001b[0m \u001b[31m❱ \u001b[0m26 \u001b[2m│   │   │   │   │   \u001b[0m\u001b[94mif\u001b[0m ev[\u001b[33m'\u001b[0m\u001b[33meventId\u001b[0m\u001b[33m'\u001b[0m] \u001b[95min\u001b[0m seen:                                               \u001b[38;2;255;0;0m│\u001b[0m\n",
       "\u001b[38;2;255;0;0m│\u001b[0m   \u001b[2m27 \u001b[0m\u001b[2m│   │   │   │   │   │   \u001b[0m\u001b[94mcontinue\u001b[0m                                                            \u001b[38;2;255;0;0m│\u001b[0m\n",
       "\u001b[38;2;255;0;0m│\u001b[0m   \u001b[2m28 \u001b[0m\u001b[2m│   │   │   │   │   \u001b[0mseen.add(ev[\u001b[33m'\u001b[0m\u001b[33meventId\u001b[0m\u001b[33m'\u001b[0m])                                                 \u001b[38;2;255;0;0m│\u001b[0m\n",
       "\u001b[38;2;255;0;0m│\u001b[0m   \u001b[2m29 \u001b[0m\u001b[2m│   │   │   │   │   \u001b[0m\u001b[96mprint\u001b[0m(ev[\u001b[33m'\u001b[0m\u001b[33mmessage\u001b[0m\u001b[33m'\u001b[0m].rstrip())                                           \u001b[38;2;255;0;0m│\u001b[0m\n",
       "\u001b[38;2;255;0;0m╰──────────────────────────────────────────────────────────────────────────────────────────────────╯\u001b[0m\n",
       "\u001b[1;91mKeyError: \u001b[0m\u001b[38;2;0;135;0m'eventId'\u001b[0m\n"
      ]
     },
     "metadata": {},
     "output_type": "display_data"
    }
   ],
   "source": [
    "\n",
    "\n",
    "# 7. (Optional) simple waiter + log group polling\n",
    "print('Polling status (CTRL+C to stop)...')\n",
    "LOGS_CLIENT = boto3.client('logs', region_name=config.AWS_REGION)\n",
    "log_group = '/aws/sagemaker/TrainingJobs'\n",
    "\n",
    "def stream_logs():\n",
    "    seen = set()\n",
    "    while True:\n",
    "        desc = SAGEMAKER_CLIENT.describe_training_job(TrainingJobName=JOB_NAME)\n",
    "        status = desc['TrainingJobStatus']\n",
    "        print('Status:', status)\n",
    "        # Try to fetch log streams\n",
    "        try:\n",
    "            streams = LOGS_CLIENT.describe_log_streams(\n",
    "                logGroupName=log_group,\n",
    "                logStreamNamePrefix=JOB_NAME\n",
    "            ).get('logStreams', [])\n",
    "            for s in streams:\n",
    "                stream_name = s['logStreamName']\n",
    "                events = LOGS_CLIENT.get_log_events(\n",
    "                    logGroupName=log_group,\n",
    "                    logStreamName=stream_name,\n",
    "                    startFromHead=True\n",
    "                )['events']\n",
    "                for ev in events:\n",
    "                    if ev['eventId'] in seen: \n",
    "                        continue\n",
    "                    seen.add(ev['eventId'])\n",
    "                    print(ev['message'].rstrip())\n",
    "        except LOGS_CLIENT.exceptions.ResourceNotFoundException:\n",
    "            pass\n",
    "\n",
    "        if status in ('Completed','Failed','Stopped'):\n",
    "            print('Final status:', status)\n",
    "            if status == 'Failed':\n",
    "                print('Failure reason:', desc.get('FailureReason'))\n",
    "            break\n",
    "        time.sleep(30)\n",
    "\n",
    "# tail inside script run:\n",
    "stream_logs()"
   ]
  }
 ],
 "metadata": {
  "kernelspec": {
   "display_name": "python_311_2",
   "language": "python",
   "name": "python_311_2"
  },
  "language_info": {
   "codemirror_mode": {
    "name": "ipython",
    "version": 3
   },
   "file_extension": ".py",
   "mimetype": "text/x-python",
   "name": "python",
   "nbconvert_exporter": "python",
   "pygments_lexer": "ipython3",
   "version": "3.11.13"
  }
 },
 "nbformat": 4,
 "nbformat_minor": 5
}
