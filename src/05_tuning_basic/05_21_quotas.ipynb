{
 "cells": [
  {
   "cell_type": "code",
   "execution_count": 4,
   "id": "238dd052-1386-4f54-9d5d-be3d83004211",
   "metadata": {
    "execution": {
     "iopub.execute_input": "2025-09-19T18:10:23.119190Z",
     "iopub.status.busy": "2025-09-19T18:10:23.118873Z",
     "iopub.status.idle": "2025-09-19T18:10:23.151657Z",
     "shell.execute_reply": "2025-09-19T18:10:23.150303Z",
     "shell.execute_reply.started": "2025-09-19T18:10:23.119164Z"
    }
   },
   "outputs": [
    {
     "name": "stdout",
     "output_type": "stream",
     "text": [
      "utils.py loaded: v0.2.12\n",
      "config.py loaded: v0.1\n"
     ]
    }
   ],
   "source": [
    "import boto3\n",
    "import importlib\n",
    "import json\n",
    "import os\n",
    "import pathlib\n",
    "import sys\n",
    "\n",
    "import awswrangler as wr\n",
    "\n",
    "from botocore.exceptions import ClientError\n",
    "from IPython.display import display\n",
    "\n",
    "# Adding ../01_modules or ./01_modules to the system path so that we can load modules from \n",
    "# there as well\n",
    "if '__file__' in globals():\n",
    "    script_dir = pathlib.Path(__file__).parent.resolve()\n",
    "else:\n",
    "    script_dir = pathlib.Path().absolute()\n",
    "modules_path_in_dev = os.path.abspath(os.path.join(script_dir, '..', '01_modules'))\n",
    "modules_path_in_prod = os.path.abspath(os.path.join(script_dir, '01_modules'))\n",
    "if os.path.exists(modules_path_in_dev):\n",
    "    sys.path.append(modules_path_in_dev)\n",
    "if os.path.exists(modules_path_in_prod):\n",
    "    sys.path.append(modules_path_in_prod)\n",
    "\n",
    "\n",
    "# # Jupyter only reads a local module the first time after \n",
    "# # kernel start. Re-running a cell with \n",
    "# # \"from mymodulename import *\" would not change\n",
    "# # anything, even if the imported module has since changed.\n",
    "# # As a workaround, we need to directly load the module, \n",
    "# # use importlib.reload to reload it and then import * \n",
    "import utils\n",
    "_ = importlib.reload(utils)\n",
    "import config\n",
    "_ = importlib.reload(config) "
   ]
  },
  {
   "cell_type": "code",
   "execution_count": 5,
   "id": "03f1b7d8-9b9f-4f82-aecf-b7565800a68d",
   "metadata": {
    "execution": {
     "iopub.execute_input": "2025-09-19T18:10:23.624233Z",
     "iopub.status.busy": "2025-09-19T18:10:23.623882Z",
     "iopub.status.idle": "2025-09-19T18:10:28.010258Z",
     "shell.execute_reply": "2025-09-19T18:10:28.009518Z",
     "shell.execute_reply.started": "2025-09-19T18:10:23.624207Z"
    }
   },
   "outputs": [
    {
     "data": {
      "text/plain": [
       "{'ml.g6.xlarge': {'quota': 6, 'usage': 0, 'available': 6},\n",
       " 'ml.g6.2xlarge': {'quota': 3, 'usage': 0, 'available': 3},\n",
       " 'ml.g6.4xlarge': {'quota': 6, 'usage': 0, 'available': 6},\n",
       " 'ml.g6.8xlarge': {'quota': 6, 'usage': 0, 'available': 6}}"
      ]
     },
     "execution_count": 5,
     "metadata": {},
     "output_type": "execute_result"
    }
   ],
   "source": [
    "q = utils.get_available_training_quotas()\n",
    "q"
   ]
  },
  {
   "cell_type": "code",
   "execution_count": 6,
   "id": "8f824251-1db7-4d12-ad8f-8ca222cc3178",
   "metadata": {
    "execution": {
     "iopub.execute_input": "2025-09-19T18:10:28.012902Z",
     "iopub.status.busy": "2025-09-19T18:10:28.012648Z",
     "iopub.status.idle": "2025-09-19T18:10:28.020742Z",
     "shell.execute_reply": "2025-09-19T18:10:28.019995Z",
     "shell.execute_reply.started": "2025-09-19T18:10:28.012880Z"
    }
   },
   "outputs": [
    {
     "data": {
      "text/plain": [
       "0"
      ]
     },
     "execution_count": 6,
     "metadata": {},
     "output_type": "execute_result"
    }
   ],
   "source": [
    "sum([v['usage'] for k,v in q.items()])"
   ]
  },
  {
   "cell_type": "code",
   "execution_count": null,
   "id": "2a73110d-c013-4ca6-af17-22bc546a82b6",
   "metadata": {},
   "outputs": [],
   "source": []
  },
  {
   "cell_type": "code",
   "execution_count": null,
   "id": "f4c63529-df45-442f-b485-c25315bb69eb",
   "metadata": {},
   "outputs": [],
   "source": []
  }
 ],
 "metadata": {
  "kernelspec": {
   "display_name": "python_311_2",
   "language": "python",
   "name": "python_311_2"
  },
  "language_info": {
   "codemirror_mode": {
    "name": "ipython",
    "version": 3
   },
   "file_extension": ".py",
   "mimetype": "text/x-python",
   "name": "python",
   "nbconvert_exporter": "python",
   "pygments_lexer": "ipython3",
   "version": "3.11.13"
  }
 },
 "nbformat": 4,
 "nbformat_minor": 5
}
