{
 "cells": [
  {
   "cell_type": "code",
   "execution_count": 21,
   "id": "62dacfd3",
   "metadata": {
    "execution": {
     "iopub.execute_input": "2025-09-04T14:38:33.196278Z",
     "iopub.status.busy": "2025-09-04T14:38:33.196002Z",
     "iopub.status.idle": "2025-09-04T14:38:41.133935Z",
     "shell.execute_reply": "2025-09-04T14:38:41.133029Z",
     "shell.execute_reply.started": "2025-09-04T14:38:33.196256Z"
    },
    "nbdime-conflicts": {
     "local_diff": [
      {
       "diff": [
        {
         "diff": [
          {
           "key": 0,
           "op": "addrange",
           "valuelist": [
            "2025-09-05T16:21:39.908391Z"
           ]
          },
          {
           "key": 0,
           "length": 1,
           "op": "removerange"
          }
         ],
         "key": "iopub.execute_input",
         "op": "patch"
        },
        {
         "diff": [
          {
           "key": 0,
           "op": "addrange",
           "valuelist": [
            "2025-09-05T16:21:39.908104Z"
           ]
          },
          {
           "key": 0,
           "length": 1,
           "op": "removerange"
          }
         ],
         "key": "iopub.status.busy",
         "op": "patch"
        },
        {
         "diff": [
          {
           "key": 0,
           "op": "addrange",
           "valuelist": [
            "2025-09-05T16:21:39.918402Z"
           ]
          },
          {
           "key": 0,
           "length": 1,
           "op": "removerange"
          }
         ],
         "key": "iopub.status.idle",
         "op": "patch"
        },
        {
         "diff": [
          {
           "key": 0,
           "op": "addrange",
           "valuelist": [
            "2025-09-05T16:21:39.917549Z"
           ]
          },
          {
           "key": 0,
           "length": 1,
           "op": "removerange"
          }
         ],
         "key": "shell.execute_reply",
         "op": "patch"
        },
        {
         "diff": [
          {
           "key": 0,
           "op": "addrange",
           "valuelist": [
            "2025-09-05T16:21:39.908371Z"
           ]
          },
          {
           "key": 0,
           "length": 1,
           "op": "removerange"
          }
         ],
         "key": "shell.execute_reply.started",
         "op": "patch"
        }
       ],
       "key": "execution",
       "op": "patch"
      }
     ],
     "remote_diff": [
      {
       "diff": [
        {
         "diff": [
          {
           "key": 0,
           "op": "addrange",
           "valuelist": [
            "2025-09-05T00:58:04.147909Z"
           ]
          },
          {
           "key": 0,
           "length": 1,
           "op": "removerange"
          }
         ],
         "key": "iopub.execute_input",
         "op": "patch"
        },
        {
         "diff": [
          {
           "key": 0,
           "op": "addrange",
           "valuelist": [
            "2025-09-05T00:58:04.147462Z"
           ]
          },
          {
           "key": 0,
           "length": 1,
           "op": "removerange"
          }
         ],
         "key": "iopub.status.busy",
         "op": "patch"
        },
        {
         "diff": [
          {
           "key": 0,
           "op": "addrange",
           "valuelist": [
            "2025-09-05T00:58:14.686360Z"
           ]
          },
          {
           "key": 0,
           "length": 1,
           "op": "removerange"
          }
         ],
         "key": "iopub.status.idle",
         "op": "patch"
        },
        {
         "diff": [
          {
           "key": 0,
           "op": "addrange",
           "valuelist": [
            "2025-09-05T00:58:14.685411Z"
           ]
          },
          {
           "key": 0,
           "length": 1,
           "op": "removerange"
          }
         ],
         "key": "shell.execute_reply",
         "op": "patch"
        },
        {
         "diff": [
          {
           "key": 0,
           "op": "addrange",
           "valuelist": [
            "2025-09-05T00:58:04.147885Z"
           ]
          },
          {
           "key": 0,
           "length": 1,
           "op": "removerange"
          }
         ],
         "key": "shell.execute_reply.started",
         "op": "patch"
        }
       ],
       "key": "execution",
       "op": "patch"
      }
     ]
    }
   },
   "outputs": [
    {
     "name": "stdout",
     "output_type": "stream",
     "text": [
      "utils.py loaded: v0.2.12\n",
      "config.py loaded: v0.1\n"
     ]
    }
   ],
   "source": [
    "import requests\n",
    "import boto3\n",
    "import json\n",
    "import os\n",
    "import sys\n",
    "import argparse\n",
    "import importlib\n",
    "import transformers\n",
    "import torch\n",
    "import pathlib\n",
    "import awswrangler as wr\n",
    "from IPython.display import display\n",
    "from sagemaker.huggingface.processing import HuggingFaceProcessor\n",
    "from sagemaker.sklearn.processing import SKLearnProcessor\n",
    "from sagemaker.processing import FrameworkProcessor\n",
    "from sagemaker.sklearn.estimator import SKLearn\n",
    "from sagemaker.workflow.steps import ProcessingStep\n",
    "from sagemaker.workflow.pipeline_context import PipelineSession\n",
    "from sagemaker.processing import ProcessingInput, ProcessingOutput\n",
    "from sagemaker.session import get_execution_role\n",
    "\n",
    "\n",
    "# Adding ../01_modules or ./01_modules to the system path so that we can load modules from \n",
    "# there as well\n",
    "if '__file__' in globals():\n",
    "    script_dir = pathlib.Path(__file__).parent.resolve()\n",
    "else:\n",
    "    script_dir = pathlib.Path().absolute()\n",
    "modules_path_in_dev = os.path.abspath(os.path.join(script_dir, '..', '01_modules'))\n",
    "modules_path_in_prod = os.path.abspath(os.path.join(script_dir, '01_modules'))\n",
    "if os.path.exists(modules_path_in_dev):\n",
    "    sys.path.append(modules_path_in_dev)\n",
    "if os.path.exists(modules_path_in_prod):\n",
    "    sys.path.append(modules_path_in_prod)\n",
    "\n",
    "\n",
    "# # Jupyter only reads a local module the first time after \n",
    "# # kernel start. Re-running a cell with \n",
    "# # \"from mymodulename import *\" would not change\n",
    "# # anything, even if the imported module has since changed.\n",
    "# # As a workaround, we need to directly load the module, \n",
    "# # use importlib.reload to reload it and then import * \n",
    "import utils\n",
    "_ = importlib.reload(utils)\n",
    "import config\n",
    "_ = importlib.reload(config) \n"
   ]
  },
  {
   "cell_type": "code",
   "execution_count": 22,
   "id": "d28dbc25",
   "metadata": {
    "execution": {
     "iopub.execute_input": "2025-09-04T14:38:41.137129Z",
     "iopub.status.busy": "2025-09-04T14:38:41.136904Z",
     "iopub.status.idle": "2025-09-04T14:38:47.426565Z",
     "shell.execute_reply": "2025-09-04T14:38:47.425660Z",
     "shell.execute_reply.started": "2025-09-04T14:38:41.137109Z"
    },
    "nbdime-conflicts": {
     "local_diff": [
      {
       "diff": [
        {
         "diff": [
          {
           "key": 0,
           "op": "addrange",
           "valuelist": [
            "2025-09-05T16:21:40.702760Z"
           ]
          },
          {
           "key": 0,
           "length": 1,
           "op": "removerange"
          }
         ],
         "key": "iopub.execute_input",
         "op": "patch"
        },
        {
         "diff": [
          {
           "key": 0,
           "op": "addrange",
           "valuelist": [
            "2025-09-05T16:21:40.702476Z"
           ]
          },
          {
           "key": 0,
           "length": 1,
           "op": "removerange"
          }
         ],
         "key": "iopub.status.busy",
         "op": "patch"
        },
        {
         "diff": [
          {
           "key": 0,
           "op": "addrange",
           "valuelist": [
            "2025-09-05T16:21:40.707580Z"
           ]
          },
          {
           "key": 0,
           "length": 1,
           "op": "removerange"
          }
         ],
         "key": "iopub.status.idle",
         "op": "patch"
        },
        {
         "diff": [
          {
           "key": 0,
           "op": "addrange",
           "valuelist": [
            "2025-09-05T16:21:40.706333Z"
           ]
          },
          {
           "key": 0,
           "length": 1,
           "op": "removerange"
          }
         ],
         "key": "shell.execute_reply",
         "op": "patch"
        },
        {
         "diff": [
          {
           "key": 0,
           "op": "addrange",
           "valuelist": [
            "2025-09-05T16:21:40.702737Z"
           ]
          },
          {
           "key": 0,
           "length": 1,
           "op": "removerange"
          }
         ],
         "key": "shell.execute_reply.started",
         "op": "patch"
        }
       ],
       "key": "execution",
       "op": "patch"
      }
     ],
     "remote_diff": [
      {
       "diff": [
        {
         "diff": [
          {
           "key": 0,
           "op": "addrange",
           "valuelist": [
            "2025-09-05T00:58:14.687338Z"
           ]
          },
          {
           "key": 0,
           "length": 1,
           "op": "removerange"
          }
         ],
         "key": "iopub.execute_input",
         "op": "patch"
        },
        {
         "diff": [
          {
           "key": 0,
           "op": "addrange",
           "valuelist": [
            "2025-09-05T00:58:14.687129Z"
           ]
          },
          {
           "key": 0,
           "length": 1,
           "op": "removerange"
          }
         ],
         "key": "iopub.status.busy",
         "op": "patch"
        },
        {
         "diff": [
          {
           "key": 0,
           "op": "addrange",
           "valuelist": [
            "2025-09-05T00:58:20.420868Z"
           ]
          },
          {
           "key": 0,
           "length": 1,
           "op": "removerange"
          }
         ],
         "key": "iopub.status.idle",
         "op": "patch"
        },
        {
         "diff": [
          {
           "key": 0,
           "op": "addrange",
           "valuelist": [
            "2025-09-05T00:58:20.419997Z"
           ]
          },
          {
           "key": 0,
           "length": 1,
           "op": "removerange"
          }
         ],
         "key": "shell.execute_reply",
         "op": "patch"
        },
        {
         "diff": [
          {
           "key": 0,
           "op": "addrange",
           "valuelist": [
            "2025-09-05T00:58:14.687321Z"
           ]
          },
          {
           "key": 0,
           "length": 1,
           "op": "removerange"
          }
         ],
         "key": "shell.execute_reply.started",
         "op": "patch"
        }
       ],
       "key": "execution",
       "op": "patch"
      }
     ]
    }
   },
   "outputs": [],
   "source": [
    "# TODO: reorganize\n",
    "\n",
    "from datasets import load_dataset, DatasetDict, Dataset\n",
    "\n",
    "from transformers import (\n",
    "    AutoTokenizer,\n",
    "    AutoConfig, \n",
    "    AutoModelForSequenceClassification,\n",
    "    DataCollatorWithPadding,\n",
    "    TrainingArguments,\n",
    "    Trainer)\n",
    "\n",
    "from peft import PeftModel, PeftConfig, get_peft_model, LoraConfig\n",
    "import evaluate\n",
    "#import torch\n",
    "import lighteval\n",
    "import numpy as np"
   ]
  },
  {
   "cell_type": "code",
   "execution_count": 23,
   "id": "92e73cdb",
   "metadata": {
    "execution": {
     "iopub.execute_input": "2025-09-05T16:21:41.201977Z",
     "iopub.status.busy": "2025-09-05T16:21:41.201679Z",
     "iopub.status.idle": "2025-09-05T16:21:41.205439Z",
     "shell.execute_reply": "2025-09-05T16:21:41.204708Z",
     "shell.execute_reply.started": "2025-09-05T16:21:41.201956Z"
    }
   },
   "outputs": [],
   "source": [
    "# PRETRAINED_MODEL_NAME = 'roberta-base'\n",
    "# LABEL_TYPE = 'topic'"
   ]
  },
  {
   "cell_type": "code",
   "execution_count": 24,
   "id": "cd8c96a2",
   "metadata": {
    "execution": {
     "iopub.execute_input": "2025-09-05T16:21:41.785606Z",
     "iopub.status.busy": "2025-09-05T16:21:41.785301Z",
     "iopub.status.idle": "2025-09-05T16:21:41.789454Z",
     "shell.execute_reply": "2025-09-05T16:21:41.788520Z",
     "shell.execute_reply.started": "2025-09-05T16:21:41.785585Z"
    }
   },
   "outputs": [],
   "source": [
    "import torch\n"
   ]
  },
  {
   "cell_type": "code",
   "execution_count": 25,
   "id": "852ea0cb",
   "metadata": {
    "execution": {
     "iopub.execute_input": "2025-09-05T16:21:42.885700Z",
     "iopub.status.busy": "2025-09-05T16:21:42.885405Z",
     "iopub.status.idle": "2025-09-05T16:21:42.900569Z",
     "shell.execute_reply": "2025-09-05T16:21:42.899575Z",
     "shell.execute_reply.started": "2025-09-05T16:21:42.885679Z"
    }
   },
   "outputs": [
    {
     "data": {
      "text/plain": [
       "Namespace(model_name='distilbert-base-uncased', hf_dataset_suffix='_Title_SubfieldIndex', label_type='subfield', text_key='title', text_key_rename_to='text', label_key_rename_to='label', epochs=3, train_batch_size=32, eval_batch_size=64, warmup_steps=500, learning_rate=5e-05, output_data_dir='SM_OUTPUT_DATA_DIR', model_dir='SM_MODEL_DIR', n_gpus=0)"
      ]
     },
     "execution_count": 25,
     "metadata": {},
     "output_type": "execute_result"
    }
   ],
   "source": [
    "parser = argparse.ArgumentParser()\n",
    "\n",
    "parser.add_argument(\"--model_name\", type=str, default='distilbert-base-uncased')\n",
    "parser.add_argument(\"--hf_dataset_suffix\", type=str, default='_Title_SubfieldIndex')\n",
    "parser.add_argument(\"--label_type\", type=str, default='subfield')\n",
    "parser.add_argument(\"--text_key\", type=str, default='title')\n",
    "parser.add_argument(\"--text_key_rename_to\", type=str, default='text')\n",
    "parser.add_argument(\"--label_key_rename_to\", type=str, default='label')\n",
    "\n",
    "parser.add_argument(\"--epochs\", type=int, default=3)\n",
    "parser.add_argument(\"--train_batch_size\", type=int, default=32)\n",
    "parser.add_argument(\"--eval_batch_size\", type=int, default=64)\n",
    "parser.add_argument(\"--warmup_steps\", type=int, default=500)\n",
    "parser.add_argument(\"--learning_rate\", type=str, default=5e-5)\n",
    "\n",
    "# Data, model, and output directories\n",
    "parser.add_argument(\"--output_data_dir\", type=str, default='SM_OUTPUT_DATA_DIR') # os.environ['SM_OUTPUT_DATA_DIR'])\n",
    "parser.add_argument(\"--model_dir\", type=str, default='SM_MODEL_DIR') # os.environ['SM_MODEL_DIR'])\n",
    "parser.add_argument(\"--n_gpus\", type=str, default=torch.cuda.device_count()) # os.environ['SM_NUM_GPUS'])\n",
    "\n",
    "args, _ = parser.parse_known_args()\n",
    "LABEL_KEY = f'{args.label_type}_index'\n",
    "args"
   ]
  },
  {
   "cell_type": "code",
   "execution_count": 26,
   "id": "e1df0e16",
   "metadata": {
    "execution": {
     "iopub.execute_input": "2025-09-05T16:21:44.274664Z",
     "iopub.status.busy": "2025-09-05T16:21:44.274084Z",
     "iopub.status.idle": "2025-09-05T16:22:10.026263Z",
     "shell.execute_reply": "2025-09-05T16:22:10.025285Z",
     "shell.execute_reply.started": "2025-09-05T16:21:44.274617Z"
    }
   },
   "outputs": [
    {
     "data": {
      "application/vnd.jupyter.widget-view+json": {
       "model_id": "9cc90f282a164903be9d64ae87c2d226",
       "version_major": 2,
       "version_minor": 0
      },
      "text/plain": [
       "README.md:   0%|          | 0.00/540 [00:00<?, ?B/s]"
      ]
     },
     "metadata": {},
     "output_type": "display_data"
    },
    {
     "data": {
      "application/vnd.jupyter.widget-view+json": {
       "model_id": "a882426e8160458685e950065c161feb",
       "version_major": 2,
       "version_minor": 0
      },
      "text/plain": [
       "data/train-00000-of-00008.parquet:   0%|          | 0.00/2.24M [00:00<?, ?B/s]"
      ]
     },
     "metadata": {},
     "output_type": "display_data"
    },
    {
     "data": {
      "application/vnd.jupyter.widget-view+json": {
       "model_id": "1069a28f4cab46c49dd0f05d099edae7",
       "version_major": 2,
       "version_minor": 0
      },
      "text/plain": [
       "data/train-00001-of-00008.parquet:   0%|          | 0.00/2.25M [00:00<?, ?B/s]"
      ]
     },
     "metadata": {},
     "output_type": "display_data"
    },
    {
     "data": {
      "application/vnd.jupyter.widget-view+json": {
       "model_id": "5ef7309edea44c398122e3f4da18c7f6",
       "version_major": 2,
       "version_minor": 0
      },
      "text/plain": [
       "data/train-00002-of-00008.parquet:   0%|          | 0.00/2.25M [00:00<?, ?B/s]"
      ]
     },
     "metadata": {},
     "output_type": "display_data"
    },
    {
     "data": {
      "application/vnd.jupyter.widget-view+json": {
       "model_id": "7937acd1fbd84340a86a76b905441692",
       "version_major": 2,
       "version_minor": 0
      },
      "text/plain": [
       "data/train-00003-of-00008.parquet:   0%|          | 0.00/2.22M [00:00<?, ?B/s]"
      ]
     },
     "metadata": {},
     "output_type": "display_data"
    },
    {
     "data": {
      "application/vnd.jupyter.widget-view+json": {
       "model_id": "37d76af0ba3c45c18046e4c9325cfd16",
       "version_major": 2,
       "version_minor": 0
      },
      "text/plain": [
       "data/train-00004-of-00008.parquet:   0%|          | 0.00/2.24M [00:00<?, ?B/s]"
      ]
     },
     "metadata": {},
     "output_type": "display_data"
    },
    {
     "data": {
      "application/vnd.jupyter.widget-view+json": {
       "model_id": "da210c440d9c4891a1d95802ba42c5f3",
       "version_major": 2,
       "version_minor": 0
      },
      "text/plain": [
       "data/train-00005-of-00008.parquet:   0%|          | 0.00/2.24M [00:00<?, ?B/s]"
      ]
     },
     "metadata": {},
     "output_type": "display_data"
    },
    {
     "data": {
      "application/vnd.jupyter.widget-view+json": {
       "model_id": "725f4f3489954ed882c8475944e2b480",
       "version_major": 2,
       "version_minor": 0
      },
      "text/plain": [
       "data/train-00006-of-00008.parquet:   0%|          | 0.00/2.23M [00:00<?, ?B/s]"
      ]
     },
     "metadata": {},
     "output_type": "display_data"
    },
    {
     "data": {
      "application/vnd.jupyter.widget-view+json": {
       "model_id": "d36b02a806ff47fc82827abe1d20429f",
       "version_major": 2,
       "version_minor": 0
      },
      "text/plain": [
       "data/train-00007-of-00008.parquet:   0%|          | 0.00/2.22M [00:00<?, ?B/s]"
      ]
     },
     "metadata": {},
     "output_type": "display_data"
    },
    {
     "data": {
      "application/vnd.jupyter.widget-view+json": {
       "model_id": "a3987fad871b4e55b0d27796d0d3219e",
       "version_major": 2,
       "version_minor": 0
      },
      "text/plain": [
       "data/validation-00000-of-00008.parquet:   0%|          | 0.00/281k [00:00<?, ?B/s]"
      ]
     },
     "metadata": {},
     "output_type": "display_data"
    },
    {
     "data": {
      "application/vnd.jupyter.widget-view+json": {
       "model_id": "5f8779ac8893446793a2e98d03efb777",
       "version_major": 2,
       "version_minor": 0
      },
      "text/plain": [
       "data/validation-00001-of-00008.parquet:   0%|          | 0.00/290k [00:00<?, ?B/s]"
      ]
     },
     "metadata": {},
     "output_type": "display_data"
    },
    {
     "data": {
      "application/vnd.jupyter.widget-view+json": {
       "model_id": "16361e70754e4b08a66329395cca838d",
       "version_major": 2,
       "version_minor": 0
      },
      "text/plain": [
       "data/validation-00002-of-00008.parquet:   0%|          | 0.00/279k [00:00<?, ?B/s]"
      ]
     },
     "metadata": {},
     "output_type": "display_data"
    },
    {
     "data": {
      "application/vnd.jupyter.widget-view+json": {
       "model_id": "a2d1b0a5754f4584a329cce315db5f0b",
       "version_major": 2,
       "version_minor": 0
      },
      "text/plain": [
       "data/validation-00003-of-00008.parquet:   0%|          | 0.00/282k [00:00<?, ?B/s]"
      ]
     },
     "metadata": {},
     "output_type": "display_data"
    },
    {
     "data": {
      "application/vnd.jupyter.widget-view+json": {
       "model_id": "c73689bc9f4e421791d4c42c28ecda5d",
       "version_major": 2,
       "version_minor": 0
      },
      "text/plain": [
       "data/validation-00004-of-00008.parquet:   0%|          | 0.00/292k [00:00<?, ?B/s]"
      ]
     },
     "metadata": {},
     "output_type": "display_data"
    },
    {
     "data": {
      "application/vnd.jupyter.widget-view+json": {
       "model_id": "deff5a39bdce45d8a0f63ec21058cb17",
       "version_major": 2,
       "version_minor": 0
      },
      "text/plain": [
       "data/validation-00005-of-00008.parquet:   0%|          | 0.00/297k [00:00<?, ?B/s]"
      ]
     },
     "metadata": {},
     "output_type": "display_data"
    },
    {
     "data": {
      "application/vnd.jupyter.widget-view+json": {
       "model_id": "1f521cf29dac4d7581b9f177321b63e9",
       "version_major": 2,
       "version_minor": 0
      },
      "text/plain": [
       "data/validation-00006-of-00008.parquet:   0%|          | 0.00/289k [00:00<?, ?B/s]"
      ]
     },
     "metadata": {},
     "output_type": "display_data"
    },
    {
     "data": {
      "application/vnd.jupyter.widget-view+json": {
       "model_id": "624cf11f236145b0abe2dbf2bdc72d99",
       "version_major": 2,
       "version_minor": 0
      },
      "text/plain": [
       "data/validation-00007-of-00008.parquet:   0%|          | 0.00/293k [00:00<?, ?B/s]"
      ]
     },
     "metadata": {},
     "output_type": "display_data"
    },
    {
     "data": {
      "application/vnd.jupyter.widget-view+json": {
       "model_id": "f7401a14a02b49cdbc5d1347ccd88883",
       "version_major": 2,
       "version_minor": 0
      },
      "text/plain": [
       "data/test-00000-of-00008.parquet:   0%|          | 0.00/283k [00:00<?, ?B/s]"
      ]
     },
     "metadata": {},
     "output_type": "display_data"
    },
    {
     "data": {
      "application/vnd.jupyter.widget-view+json": {
       "model_id": "aa81c54e60af4587ad96ef903d8570a1",
       "version_major": 2,
       "version_minor": 0
      },
      "text/plain": [
       "data/test-00001-of-00008.parquet:   0%|          | 0.00/284k [00:00<?, ?B/s]"
      ]
     },
     "metadata": {},
     "output_type": "display_data"
    },
    {
     "data": {
      "application/vnd.jupyter.widget-view+json": {
       "model_id": "f5e5373b7a45471e968f9250ccdcc7f4",
       "version_major": 2,
       "version_minor": 0
      },
      "text/plain": [
       "data/test-00002-of-00008.parquet:   0%|          | 0.00/286k [00:00<?, ?B/s]"
      ]
     },
     "metadata": {},
     "output_type": "display_data"
    },
    {
     "data": {
      "application/vnd.jupyter.widget-view+json": {
       "model_id": "847b7fc72ae240ecac576cd8744541f8",
       "version_major": 2,
       "version_minor": 0
      },
      "text/plain": [
       "data/test-00003-of-00008.parquet:   0%|          | 0.00/292k [00:00<?, ?B/s]"
      ]
     },
     "metadata": {},
     "output_type": "display_data"
    },
    {
     "data": {
      "application/vnd.jupyter.widget-view+json": {
       "model_id": "b5dfbde3aa8f42f787c0168c9d8b7226",
       "version_major": 2,
       "version_minor": 0
      },
      "text/plain": [
       "data/test-00004-of-00008.parquet:   0%|          | 0.00/289k [00:00<?, ?B/s]"
      ]
     },
     "metadata": {},
     "output_type": "display_data"
    },
    {
     "data": {
      "application/vnd.jupyter.widget-view+json": {
       "model_id": "9e4a336a1d9b44c68d0fdd6306713982",
       "version_major": 2,
       "version_minor": 0
      },
      "text/plain": [
       "data/test-00005-of-00008.parquet:   0%|          | 0.00/292k [00:00<?, ?B/s]"
      ]
     },
     "metadata": {},
     "output_type": "display_data"
    },
    {
     "data": {
      "application/vnd.jupyter.widget-view+json": {
       "model_id": "3df5478da0574544a5ab1f66e596768a",
       "version_major": 2,
       "version_minor": 0
      },
      "text/plain": [
       "data/test-00006-of-00008.parquet:   0%|          | 0.00/293k [00:00<?, ?B/s]"
      ]
     },
     "metadata": {},
     "output_type": "display_data"
    },
    {
     "data": {
      "application/vnd.jupyter.widget-view+json": {
       "model_id": "ed2c0514dbb249c5bd5a5e359a6a89c7",
       "version_major": 2,
       "version_minor": 0
      },
      "text/plain": [
       "data/test-00007-of-00008.parquet:   0%|          | 0.00/284k [00:00<?, ?B/s]"
      ]
     },
     "metadata": {},
     "output_type": "display_data"
    },
    {
     "data": {
      "application/vnd.jupyter.widget-view+json": {
       "model_id": "ab725142ad7b496fa55ab5ee06317579",
       "version_major": 2,
       "version_minor": 0
      },
      "text/plain": [
       "Generating train split:   0%|          | 0/346344 [00:00<?, ? examples/s]"
      ]
     },
     "metadata": {},
     "output_type": "display_data"
    },
    {
     "data": {
      "application/vnd.jupyter.widget-view+json": {
       "model_id": "a4bb180455854a3c92eed5c5a4d89baf",
       "version_major": 2,
       "version_minor": 0
      },
      "text/plain": [
       "Generating validation split:   0%|          | 0/43439 [00:00<?, ? examples/s]"
      ]
     },
     "metadata": {},
     "output_type": "display_data"
    },
    {
     "data": {
      "application/vnd.jupyter.widget-view+json": {
       "model_id": "ea10d0eef9774e5c8033f409018bef25",
       "version_major": 2,
       "version_minor": 0
      },
      "text/plain": [
       "Generating test split:   0%|          | 0/43478 [00:00<?, ? examples/s]"
      ]
     },
     "metadata": {},
     "output_type": "display_data"
    },
    {
     "data": {
      "text/plain": [
       "DatasetDict({\n",
       "    train: Dataset({\n",
       "        features: ['text', 'label'],\n",
       "        num_rows: 3463\n",
       "    })\n",
       "    test: Dataset({\n",
       "        features: ['text', 'label'],\n",
       "        num_rows: 435\n",
       "    })\n",
       "})"
      ]
     },
     "execution_count": 26,
     "metadata": {},
     "output_type": "execute_result"
    }
   ],
   "source": [
    "dataset_train = load_dataset(\n",
    "    'SteveAKopias/SemanticScholarCSFullTextWithOpenAlexTopics'+args.hf_dataset_suffix, \n",
    "    split='train[:1%]'\n",
    ")\n",
    "dataset_test = load_dataset(\n",
    "    'SteveAKopias/SemanticScholarCSFullTextWithOpenAlexTopics'+args.hf_dataset_suffix, \n",
    "    split='test[:1%]'\n",
    ")\n",
    "dataset = DatasetDict({\n",
    "    'train': dataset_train,\n",
    "    'test': dataset_test\n",
    "})\n",
    "dataset = dataset.rename_column(args.text_key, args.text_key_rename_to)\n",
    "dataset = dataset.rename_column(LABEL_KEY, args.label_key_rename_to)\n",
    "dataset"
   ]
  },
  {
   "cell_type": "code",
   "execution_count": 27,
   "id": "8b0ea10a",
   "metadata": {
    "execution": {
     "iopub.execute_input": "2025-09-05T16:22:32.650251Z",
     "iopub.status.busy": "2025-09-05T16:22:32.649912Z",
     "iopub.status.idle": "2025-09-05T16:22:36.199658Z",
     "shell.execute_reply": "2025-09-05T16:22:36.198738Z",
     "shell.execute_reply.started": "2025-09-05T16:22:32.650228Z"
    }
   },
   "outputs": [
    {
     "name": "stdout",
     "output_type": "stream",
     "text": [
      "index2label {0: 'Artificial Intelligence', 3: 'Computer Networks and Communications', 4: 'Computational Theory and Mathematics', 7: 'Computer Science Applications', 8: 'Hardware and Architecture', 9: 'Computer Graphics and Computer-Aided Design', 10: 'Software', 5: 'Signal Processing', 6: 'Human-Computer Interaction', 1: 'Computer Vision and Pattern Recognition', 2: 'Information Systems'}\n",
      "label2index {'Artificial Intelligence': 0, 'Computer Networks and Communications': 3, 'Computational Theory and Mathematics': 4, 'Computer Science Applications': 7, 'Hardware and Architecture': 8, 'Computer Graphics and Computer-Aided Design': 9, 'Software': 10, 'Signal Processing': 5, 'Human-Computer Interaction': 6, 'Computer Vision and Pattern Recognition': 1, 'Information Systems': 2}\n"
     ]
    }
   ],
   "source": [
    "label_df = wr.athena.read_sql_query(\n",
    "f\"\"\"\n",
    "SELECT \n",
    "    {args.label_type}_index AS index, \n",
    "    {args.label_type}_display_name AS display_name\n",
    "FROM\n",
    "    {args.label_type}s\n",
    "\"\"\", '03_core'\n",
    ")\n",
    "index2label = dict(zip(label_df[f'index'].astype(int), label_df['display_name']))\n",
    "label2index = dict(zip(label_df['display_name'], label_df['index'].astype(int)))\n",
    "print('index2label', index2label)\n",
    "print('label2index', label2index)"
   ]
  },
  {
   "cell_type": "code",
   "execution_count": 28,
   "id": "b1af63bd",
   "metadata": {
    "execution": {
     "iopub.execute_input": "2025-09-05T16:22:36.201042Z",
     "iopub.status.busy": "2025-09-05T16:22:36.200771Z",
     "iopub.status.idle": "2025-09-05T16:22:36.206890Z",
     "shell.execute_reply": "2025-09-05T16:22:36.206135Z",
     "shell.execute_reply.started": "2025-09-05T16:22:36.201021Z"
    }
   },
   "outputs": [
    {
     "data": {
      "text/plain": [
       "11"
      ]
     },
     "execution_count": 28,
     "metadata": {},
     "output_type": "execute_result"
    }
   ],
   "source": [
    "label_df.shape[0]"
   ]
  },
  {
   "cell_type": "code",
   "execution_count": 29,
   "id": "9229b8f5",
   "metadata": {
    "execution": {
     "iopub.execute_input": "2025-09-05T16:24:58.928533Z",
     "iopub.status.busy": "2025-09-05T16:24:58.928225Z",
     "iopub.status.idle": "2025-09-05T16:24:59.118116Z",
     "shell.execute_reply": "2025-09-05T16:24:59.117093Z",
     "shell.execute_reply.started": "2025-09-05T16:24:58.928511Z"
    }
   },
   "outputs": [
    {
     "name": "stderr",
     "output_type": "stream",
     "text": [
      "Some weights of DistilBertForSequenceClassification were not initialized from the model checkpoint at distilbert-base-uncased and are newly initialized: ['classifier.bias', 'classifier.weight', 'pre_classifier.bias', 'pre_classifier.weight']\n",
      "You should probably TRAIN this model on a down-stream task to be able to use it for predictions and inference.\n"
     ]
    }
   ],
   "source": [
    "model = AutoModelForSequenceClassification.from_pretrained(\n",
    "    args.model_name,\n",
    "    num_labels=label_df.shape[0],\n",
    "    id2label=index2label,\n",
    "    label2id=label2index\n",
    ")"
   ]
  },
  {
   "cell_type": "code",
   "execution_count": 30,
   "id": "ef2439a2",
   "metadata": {
    "execution": {
     "iopub.execute_input": "2025-09-05T16:25:00.161627Z",
     "iopub.status.busy": "2025-09-05T16:25:00.161322Z",
     "iopub.status.idle": "2025-09-05T16:25:00.168635Z",
     "shell.execute_reply": "2025-09-05T16:25:00.167273Z",
     "shell.execute_reply.started": "2025-09-05T16:25:00.161605Z"
    }
   },
   "outputs": [
    {
     "data": {
      "text/plain": [
       "DistilBertForSequenceClassification(\n",
       "  (distilbert): DistilBertModel(\n",
       "    (embeddings): Embeddings(\n",
       "      (word_embeddings): Embedding(30522, 768, padding_idx=0)\n",
       "      (position_embeddings): Embedding(512, 768)\n",
       "      (LayerNorm): LayerNorm((768,), eps=1e-12, elementwise_affine=True)\n",
       "      (dropout): Dropout(p=0.1, inplace=False)\n",
       "    )\n",
       "    (transformer): Transformer(\n",
       "      (layer): ModuleList(\n",
       "        (0-5): 6 x TransformerBlock(\n",
       "          (attention): DistilBertSdpaAttention(\n",
       "            (dropout): Dropout(p=0.1, inplace=False)\n",
       "            (q_lin): Linear(in_features=768, out_features=768, bias=True)\n",
       "            (k_lin): Linear(in_features=768, out_features=768, bias=True)\n",
       "            (v_lin): Linear(in_features=768, out_features=768, bias=True)\n",
       "            (out_lin): Linear(in_features=768, out_features=768, bias=True)\n",
       "          )\n",
       "          (sa_layer_norm): LayerNorm((768,), eps=1e-12, elementwise_affine=True)\n",
       "          (ffn): FFN(\n",
       "            (dropout): Dropout(p=0.1, inplace=False)\n",
       "            (lin1): Linear(in_features=768, out_features=3072, bias=True)\n",
       "            (lin2): Linear(in_features=3072, out_features=768, bias=True)\n",
       "            (activation): GELUActivation()\n",
       "          )\n",
       "          (output_layer_norm): LayerNorm((768,), eps=1e-12, elementwise_affine=True)\n",
       "        )\n",
       "      )\n",
       "    )\n",
       "  )\n",
       "  (pre_classifier): Linear(in_features=768, out_features=768, bias=True)\n",
       "  (classifier): Linear(in_features=768, out_features=11, bias=True)\n",
       "  (dropout): Dropout(p=0.2, inplace=False)\n",
       ")"
      ]
     },
     "execution_count": 30,
     "metadata": {},
     "output_type": "execute_result"
    }
   ],
   "source": [
    "model"
   ]
  },
  {
   "cell_type": "code",
   "execution_count": 31,
   "id": "1edd49d6",
   "metadata": {
    "execution": {
     "iopub.execute_input": "2025-09-05T16:25:02.189752Z",
     "iopub.status.busy": "2025-09-05T16:25:02.189365Z",
     "iopub.status.idle": "2025-09-05T16:25:02.366399Z",
     "shell.execute_reply": "2025-09-05T16:25:02.365473Z",
     "shell.execute_reply.started": "2025-09-05T16:25:02.189720Z"
    }
   },
   "outputs": [
    {
     "data": {
      "text/plain": [
       "DistilBertTokenizerFast(name_or_path='distilbert-base-uncased', vocab_size=30522, model_max_length=512, is_fast=True, padding_side='right', truncation_side='right', special_tokens={'unk_token': '[UNK]', 'sep_token': '[SEP]', 'pad_token': '[PAD]', 'cls_token': '[CLS]', 'mask_token': '[MASK]'}, clean_up_tokenization_spaces=False, added_tokens_decoder={\n",
       "\t0: AddedToken(\"[PAD]\", rstrip=False, lstrip=False, single_word=False, normalized=False, special=True),\n",
       "\t100: AddedToken(\"[UNK]\", rstrip=False, lstrip=False, single_word=False, normalized=False, special=True),\n",
       "\t101: AddedToken(\"[CLS]\", rstrip=False, lstrip=False, single_word=False, normalized=False, special=True),\n",
       "\t102: AddedToken(\"[SEP]\", rstrip=False, lstrip=False, single_word=False, normalized=False, special=True),\n",
       "\t103: AddedToken(\"[MASK]\", rstrip=False, lstrip=False, single_word=False, normalized=False, special=True),\n",
       "}\n",
       ")"
      ]
     },
     "execution_count": 31,
     "metadata": {},
     "output_type": "execute_result"
    }
   ],
   "source": [
    "tokenizer = AutoTokenizer.from_pretrained(args.model_name, add_prefix_space=True)\n",
    "tokenizer"
   ]
  },
  {
   "cell_type": "code",
   "execution_count": 32,
   "id": "d50ce63d",
   "metadata": {
    "execution": {
     "iopub.execute_input": "2025-09-05T16:25:04.039809Z",
     "iopub.status.busy": "2025-09-05T16:25:04.039274Z",
     "iopub.status.idle": "2025-09-05T16:25:04.044934Z",
     "shell.execute_reply": "2025-09-05T16:25:04.042711Z",
     "shell.execute_reply.started": "2025-09-05T16:25:04.039739Z"
    }
   },
   "outputs": [],
   "source": [
    "# if tokenizer.pad_token is None:\n",
    "#    tokenizer.add_special_tokens({'pad_token': '[PAD]'})\n",
    "#    model.resize_token_embeddings(len(tokenizer))"
   ]
  },
  {
   "cell_type": "code",
   "execution_count": 33,
   "id": "a30c3279",
   "metadata": {
    "execution": {
     "iopub.execute_input": "2025-09-05T16:25:04.456618Z",
     "iopub.status.busy": "2025-09-05T16:25:04.456239Z",
     "iopub.status.idle": "2025-09-05T16:25:04.678209Z",
     "shell.execute_reply": "2025-09-05T16:25:04.677116Z",
     "shell.execute_reply.started": "2025-09-05T16:25:04.456586Z"
    }
   },
   "outputs": [
    {
     "data": {
      "application/vnd.jupyter.widget-view+json": {
       "model_id": "b4ba12f6fe34466c853c55514cd2a791",
       "version_major": 2,
       "version_minor": 0
      },
      "text/plain": [
       "Map:   0%|          | 0/3463 [00:00<?, ? examples/s]"
      ]
     },
     "metadata": {},
     "output_type": "display_data"
    },
    {
     "data": {
      "application/vnd.jupyter.widget-view+json": {
       "model_id": "dcdba94a515a448b904c4eecd086f28a",
       "version_major": 2,
       "version_minor": 0
      },
      "text/plain": [
       "Map:   0%|          | 0/435 [00:00<?, ? examples/s]"
      ]
     },
     "metadata": {},
     "output_type": "display_data"
    },
    {
     "data": {
      "text/plain": [
       "DatasetDict({\n",
       "    train: Dataset({\n",
       "        features: ['text', 'label', 'input_ids', 'attention_mask'],\n",
       "        num_rows: 3463\n",
       "    })\n",
       "    test: Dataset({\n",
       "        features: ['text', 'label', 'input_ids', 'attention_mask'],\n",
       "        num_rows: 435\n",
       "    })\n",
       "})"
      ]
     },
     "execution_count": 33,
     "metadata": {},
     "output_type": "execute_result"
    }
   ],
   "source": [
    "def tokenize_function(example):\n",
    "    text = example[args.text_key_rename_to]\n",
    "    tokenizer.truncation_side = 'right'\n",
    "    tokenized_inputs = tokenizer(\n",
    "        text,\n",
    "        return_tensors='np',\n",
    "        truncation=True,\n",
    "        max_length=512\n",
    "    )\n",
    "\n",
    "    return tokenized_inputs\n",
    "\n",
    "\n",
    "tokenized_dataset = dataset.map(tokenize_function, batched=True)\n",
    "tokenized_dataset"
   ]
  },
  {
   "cell_type": "code",
   "execution_count": 34,
   "id": "0f24a1fb",
   "metadata": {
    "execution": {
     "iopub.execute_input": "2025-09-05T16:25:08.778658Z",
     "iopub.status.busy": "2025-09-05T16:25:08.778359Z",
     "iopub.status.idle": "2025-09-05T16:25:08.787290Z",
     "shell.execute_reply": "2025-09-05T16:25:08.786324Z",
     "shell.execute_reply.started": "2025-09-05T16:25:08.778637Z"
    }
   },
   "outputs": [
    {
     "data": {
      "text/plain": [
       "{'text': ['Evaluation of Weighted Nuclear Norm Minimization Algorithm for Ultrasound Image Denoising',\n",
       "  'Quality-Aware Memory Network for Interactive Volumetric Image Segmentation',\n",
       "  'vol2Brain: A New Online Pipeline for Whole Brain MRI Analysis',\n",
       "  'A Toolchain for Privacy-Preserving Distributed Aggregation on Edge-Devices',\n",
       "  'Hierarchical and Decentralised Federated Learning'],\n",
       " 'label': [1, 1, 1, 0, 0],\n",
       " 'input_ids': [[101,\n",
       "   9312,\n",
       "   1997,\n",
       "   18215,\n",
       "   4517,\n",
       "   13373,\n",
       "   7163,\n",
       "   4328,\n",
       "   9276,\n",
       "   9896,\n",
       "   2005,\n",
       "   27312,\n",
       "   3746,\n",
       "   7939,\n",
       "   10054,\n",
       "   2075,\n",
       "   102],\n",
       "  [101,\n",
       "   3737,\n",
       "   1011,\n",
       "   5204,\n",
       "   3638,\n",
       "   2897,\n",
       "   2005,\n",
       "   9123,\n",
       "   3872,\n",
       "   12412,\n",
       "   3746,\n",
       "   6903,\n",
       "   3370,\n",
       "   102],\n",
       "  [101,\n",
       "   5285,\n",
       "   2475,\n",
       "   10024,\n",
       "   2378,\n",
       "   1024,\n",
       "   1037,\n",
       "   2047,\n",
       "   3784,\n",
       "   13117,\n",
       "   2005,\n",
       "   2878,\n",
       "   4167,\n",
       "   27011,\n",
       "   4106,\n",
       "   102],\n",
       "  [101,\n",
       "   1037,\n",
       "   6994,\n",
       "   24925,\n",
       "   2078,\n",
       "   2005,\n",
       "   9394,\n",
       "   1011,\n",
       "   15224,\n",
       "   5500,\n",
       "   28041,\n",
       "   2006,\n",
       "   3341,\n",
       "   1011,\n",
       "   5733,\n",
       "   102],\n",
       "  [101, 25835, 1998, 11519, 7941, 5084, 7349, 16848, 4083, 102]],\n",
       " 'attention_mask': [[1, 1, 1, 1, 1, 1, 1, 1, 1, 1, 1, 1, 1, 1, 1, 1, 1],\n",
       "  [1, 1, 1, 1, 1, 1, 1, 1, 1, 1, 1, 1, 1, 1],\n",
       "  [1, 1, 1, 1, 1, 1, 1, 1, 1, 1, 1, 1, 1, 1, 1, 1],\n",
       "  [1, 1, 1, 1, 1, 1, 1, 1, 1, 1, 1, 1, 1, 1, 1, 1],\n",
       "  [1, 1, 1, 1, 1, 1, 1, 1, 1, 1]]}"
      ]
     },
     "execution_count": 34,
     "metadata": {},
     "output_type": "execute_result"
    }
   ],
   "source": [
    "tokenized_dataset['train'][0:5]"
   ]
  },
  {
   "cell_type": "code",
   "execution_count": 35,
   "id": "280cdfae",
   "metadata": {
    "execution": {
     "iopub.execute_input": "2025-09-05T16:25:11.080431Z",
     "iopub.status.busy": "2025-09-05T16:25:11.080122Z",
     "iopub.status.idle": "2025-09-05T16:25:11.086888Z",
     "shell.execute_reply": "2025-09-05T16:25:11.085919Z",
     "shell.execute_reply.started": "2025-09-05T16:25:11.080405Z"
    }
   },
   "outputs": [
    {
     "data": {
      "text/plain": [
       "DataCollatorWithPadding(tokenizer=DistilBertTokenizerFast(name_or_path='distilbert-base-uncased', vocab_size=30522, model_max_length=512, is_fast=True, padding_side='right', truncation_side='right', special_tokens={'unk_token': '[UNK]', 'sep_token': '[SEP]', 'pad_token': '[PAD]', 'cls_token': '[CLS]', 'mask_token': '[MASK]'}, clean_up_tokenization_spaces=False, added_tokens_decoder={\n",
       "\t0: AddedToken(\"[PAD]\", rstrip=False, lstrip=False, single_word=False, normalized=False, special=True),\n",
       "\t100: AddedToken(\"[UNK]\", rstrip=False, lstrip=False, single_word=False, normalized=False, special=True),\n",
       "\t101: AddedToken(\"[CLS]\", rstrip=False, lstrip=False, single_word=False, normalized=False, special=True),\n",
       "\t102: AddedToken(\"[SEP]\", rstrip=False, lstrip=False, single_word=False, normalized=False, special=True),\n",
       "\t103: AddedToken(\"[MASK]\", rstrip=False, lstrip=False, single_word=False, normalized=False, special=True),\n",
       "}\n",
       "), padding=True, max_length=None, pad_to_multiple_of=None, return_tensors='pt')"
      ]
     },
     "execution_count": 35,
     "metadata": {},
     "output_type": "execute_result"
    }
   ],
   "source": [
    "data_collator = DataCollatorWithPadding(tokenizer=tokenizer)\n",
    "data_collator"
   ]
  },
  {
   "cell_type": "code",
   "execution_count": 48,
   "id": "2e487386",
   "metadata": {
    "execution": {
     "iopub.execute_input": "2025-09-05T17:12:58.042860Z",
     "iopub.status.busy": "2025-09-05T17:12:58.042558Z",
     "iopub.status.idle": "2025-09-05T17:12:58.047943Z",
     "shell.execute_reply": "2025-09-05T17:12:58.046967Z",
     "shell.execute_reply.started": "2025-09-05T17:12:58.042839Z"
    }
   },
   "outputs": [],
   "source": [
    "from sklearn.metrics import accuracy_score, precision_recall_fscore_support\n",
    "# TODO: replace it with lighteval?\n",
    "# accuracy = evaluate.load(\"accuracy\")\n",
    "\n",
    "def compute_metrics(pred):\n",
    "    labels = pred.label_ids\n",
    "    predictions = pred.predictions.argmax(-1)\n",
    "    precision, recall, f1, _ = precision_recall_fscore_support(labels, predictions, average='micro') # TODO: weighted when not using 1% sample that skips some labels\n",
    "    accuracy = accuracy_score(labels, predictions)\n",
    "    return {\n",
    "        'accuracy': accuracy, \n",
    "        'f1': f1,\n",
    "        'precision': precision,\n",
    "        'recall': recall\n",
    "    }"
   ]
  },
  {
   "cell_type": "code",
   "execution_count": 49,
   "id": "7c58e303",
   "metadata": {
    "execution": {
     "iopub.execute_input": "2025-09-05T17:12:58.378431Z",
     "iopub.status.busy": "2025-09-05T17:12:58.378120Z",
     "iopub.status.idle": "2025-09-05T17:12:58.387069Z",
     "shell.execute_reply": "2025-09-05T17:12:58.386094Z",
     "shell.execute_reply.started": "2025-09-05T17:12:58.378408Z"
    }
   },
   "outputs": [
    {
     "data": {
      "text/plain": [
       "TrainingArguments(\n",
       "_n_gpu=0,\n",
       "accelerator_config={'split_batches': False, 'dispatch_batches': None, 'even_batches': True, 'use_seedable_sampler': True, 'non_blocking': False, 'gradient_accumulation_kwargs': None, 'use_configured_state': False},\n",
       "adafactor=False,\n",
       "adam_beta1=0.9,\n",
       "adam_beta2=0.999,\n",
       "adam_epsilon=1e-08,\n",
       "auto_find_batch_size=False,\n",
       "average_tokens_across_devices=False,\n",
       "batch_eval_metrics=False,\n",
       "bf16=False,\n",
       "bf16_full_eval=False,\n",
       "data_seed=None,\n",
       "dataloader_drop_last=False,\n",
       "dataloader_num_workers=0,\n",
       "dataloader_persistent_workers=False,\n",
       "dataloader_pin_memory=True,\n",
       "dataloader_prefetch_factor=None,\n",
       "ddp_backend=None,\n",
       "ddp_broadcast_buffers=None,\n",
       "ddp_bucket_cap_mb=None,\n",
       "ddp_find_unused_parameters=None,\n",
       "ddp_timeout=1800,\n",
       "debug=[],\n",
       "deepspeed=None,\n",
       "disable_tqdm=False,\n",
       "dispatch_batches=None,\n",
       "do_eval=True,\n",
       "do_predict=False,\n",
       "do_train=False,\n",
       "eval_accumulation_steps=None,\n",
       "eval_delay=0,\n",
       "eval_do_concat_batches=True,\n",
       "eval_on_start=False,\n",
       "eval_steps=None,\n",
       "eval_strategy=IntervalStrategy.EPOCH,\n",
       "eval_use_gather_object=False,\n",
       "evaluation_strategy=None,\n",
       "fp16=False,\n",
       "fp16_backend=auto,\n",
       "fp16_full_eval=False,\n",
       "fp16_opt_level=O1,\n",
       "fsdp=[],\n",
       "fsdp_config={'min_num_params': 0, 'xla': False, 'xla_fsdp_v2': False, 'xla_fsdp_grad_ckpt': False},\n",
       "fsdp_min_num_params=0,\n",
       "fsdp_transformer_layer_cls_to_wrap=None,\n",
       "full_determinism=False,\n",
       "gradient_accumulation_steps=1,\n",
       "gradient_checkpointing=False,\n",
       "gradient_checkpointing_kwargs=None,\n",
       "greater_is_better=None,\n",
       "group_by_length=False,\n",
       "half_precision_backend=auto,\n",
       "hub_always_push=False,\n",
       "hub_model_id=None,\n",
       "hub_private_repo=None,\n",
       "hub_strategy=HubStrategy.EVERY_SAVE,\n",
       "hub_token=<HUB_TOKEN>,\n",
       "ignore_data_skip=False,\n",
       "include_for_metrics=[],\n",
       "include_inputs_for_metrics=False,\n",
       "include_num_input_tokens_seen=False,\n",
       "include_tokens_per_second=False,\n",
       "jit_mode_eval=False,\n",
       "label_names=None,\n",
       "label_smoothing_factor=0.0,\n",
       "learning_rate=5e-05,\n",
       "length_column_name=length,\n",
       "load_best_model_at_end=False,\n",
       "local_rank=0,\n",
       "log_level=passive,\n",
       "log_level_replica=warning,\n",
       "log_on_each_node=True,\n",
       "logging_dir=SM_OUTPUT_DATA_DIR/logs,\n",
       "logging_first_step=False,\n",
       "logging_nan_inf_filter=True,\n",
       "logging_steps=500,\n",
       "logging_strategy=IntervalStrategy.STEPS,\n",
       "lr_scheduler_kwargs={},\n",
       "lr_scheduler_type=SchedulerType.LINEAR,\n",
       "max_grad_norm=1.0,\n",
       "max_steps=-1,\n",
       "metric_for_best_model=None,\n",
       "mp_parameters=,\n",
       "neftune_noise_alpha=None,\n",
       "no_cuda=False,\n",
       "num_train_epochs=3,\n",
       "optim=OptimizerNames.ADAMW_TORCH,\n",
       "optim_args=None,\n",
       "optim_target_modules=None,\n",
       "output_dir=SM_MODEL_DIR,\n",
       "overwrite_output_dir=False,\n",
       "past_index=-1,\n",
       "per_device_eval_batch_size=8,\n",
       "per_device_train_batch_size=8,\n",
       "prediction_loss_only=False,\n",
       "push_to_hub=False,\n",
       "push_to_hub_model_id=None,\n",
       "push_to_hub_organization=None,\n",
       "push_to_hub_token=<PUSH_TO_HUB_TOKEN>,\n",
       "ray_scope=last,\n",
       "remove_unused_columns=True,\n",
       "report_to=[],\n",
       "restore_callback_states_from_checkpoint=False,\n",
       "resume_from_checkpoint=None,\n",
       "run_name=SM_MODEL_DIR,\n",
       "save_on_each_node=False,\n",
       "save_only_model=False,\n",
       "save_safetensors=True,\n",
       "save_steps=500,\n",
       "save_strategy=SaveStrategy.STEPS,\n",
       "save_total_limit=None,\n",
       "seed=42,\n",
       "skip_memory_metrics=True,\n",
       "split_batches=None,\n",
       "tf32=None,\n",
       "torch_compile=False,\n",
       "torch_compile_backend=None,\n",
       "torch_compile_mode=None,\n",
       "torch_empty_cache_steps=None,\n",
       "torchdynamo=None,\n",
       "tpu_metrics_debug=False,\n",
       "tpu_num_cores=None,\n",
       "use_cpu=False,\n",
       "use_ipex=False,\n",
       "use_legacy_prediction_loop=False,\n",
       "use_liger_kernel=False,\n",
       "use_mps_device=False,\n",
       "warmup_ratio=0.0,\n",
       "warmup_steps=0,\n",
       "weight_decay=0.0,\n",
       ")"
      ]
     },
     "execution_count": 49,
     "metadata": {},
     "output_type": "execute_result"
    }
   ],
   "source": [
    "training_args = TrainingArguments(\n",
    "    output_dir=args.model_dir,\n",
    "    num_train_epochs=args.epochs,\n",
    "    # per_device_train_batch_size=args.train_batch_size,\n",
    "    # per_device_eval_batch_size=args.eval_batch_size,\n",
    "    # warmup_steps=args.warmup_steps,\n",
    "    eval_strategy='epoch',\n",
    "    logging_dir=f'{args.output_data_dir}/logs',\n",
    "    learning_rate=float(args.learning_rate),\n",
    ")\n",
    "training_args"
   ]
  },
  {
   "cell_type": "code",
   "execution_count": 50,
   "id": "d4c02bd7",
   "metadata": {
    "execution": {
     "iopub.execute_input": "2025-09-05T17:12:58.811823Z",
     "iopub.status.busy": "2025-09-05T17:12:58.811407Z",
     "iopub.status.idle": "2025-09-05T17:12:58.825296Z",
     "shell.execute_reply": "2025-09-05T17:12:58.824358Z",
     "shell.execute_reply.started": "2025-09-05T17:12:58.811680Z"
    }
   },
   "outputs": [],
   "source": [
    "trainer = Trainer(\n",
    "    model=model,\n",
    "    args=training_args,\n",
    "    compute_metrics=compute_metrics,\n",
    "    train_dataset=tokenized_dataset['train'],\n",
    "    eval_dataset=tokenized_dataset['test'],\n",
    "    processing_class=tokenizer,\n",
    "    data_collator=data_collator,\n",
    ")"
   ]
  },
  {
   "cell_type": "code",
   "execution_count": 51,
   "id": "46385222",
   "metadata": {
    "execution": {
     "iopub.execute_input": "2025-09-05T17:12:59.783374Z",
     "iopub.status.busy": "2025-09-05T17:12:59.783060Z",
     "iopub.status.idle": "2025-09-05T17:25:23.671601Z",
     "shell.execute_reply": "2025-09-05T17:25:23.670798Z",
     "shell.execute_reply.started": "2025-09-05T17:12:59.783353Z"
    }
   },
   "outputs": [
    {
     "data": {
      "text/html": [
       "\n",
       "    <div>\n",
       "      \n",
       "      <progress value='1299' max='1299' style='width:300px; height:20px; vertical-align: middle;'></progress>\n",
       "      [1299/1299 12:22, Epoch 3/3]\n",
       "    </div>\n",
       "    <table border=\"1\" class=\"dataframe\">\n",
       "  <thead>\n",
       " <tr style=\"text-align: left;\">\n",
       "      <th>Epoch</th>\n",
       "      <th>Training Loss</th>\n",
       "      <th>Validation Loss</th>\n",
       "      <th>Accuracy</th>\n",
       "      <th>F1</th>\n",
       "      <th>Precision</th>\n",
       "      <th>Recall</th>\n",
       "    </tr>\n",
       "  </thead>\n",
       "  <tbody>\n",
       "    <tr>\n",
       "      <td>1</td>\n",
       "      <td>No log</td>\n",
       "      <td>2.222072</td>\n",
       "      <td>0.618391</td>\n",
       "      <td>0.618391</td>\n",
       "      <td>0.618391</td>\n",
       "      <td>0.618391</td>\n",
       "    </tr>\n",
       "    <tr>\n",
       "      <td>2</td>\n",
       "      <td>0.182900</td>\n",
       "      <td>2.147113</td>\n",
       "      <td>0.664368</td>\n",
       "      <td>0.664368</td>\n",
       "      <td>0.664368</td>\n",
       "      <td>0.664368</td>\n",
       "    </tr>\n",
       "    <tr>\n",
       "      <td>3</td>\n",
       "      <td>0.180000</td>\n",
       "      <td>2.170430</td>\n",
       "      <td>0.666667</td>\n",
       "      <td>0.666667</td>\n",
       "      <td>0.666667</td>\n",
       "      <td>0.666667</td>\n",
       "    </tr>\n",
       "  </tbody>\n",
       "</table><p>"
      ],
      "text/plain": [
       "<IPython.core.display.HTML object>"
      ]
     },
     "metadata": {},
     "output_type": "display_data"
    },
    {
     "data": {
      "text/plain": [
       "TrainOutput(global_step=1299, training_loss=0.15539860743756842, metrics={'train_runtime': 743.4036, 'train_samples_per_second': 13.975, 'train_steps_per_second': 1.747, 'total_flos': 70568842650768.0, 'train_loss': 0.15539860743756842, 'epoch': 3.0})"
      ]
     },
     "execution_count": 51,
     "metadata": {},
     "output_type": "execute_result"
    }
   ],
   "source": [
    "trainer.train()"
   ]
  },
  {
   "cell_type": "code",
   "execution_count": 53,
   "id": "223dfaa4",
   "metadata": {
    "execution": {
     "iopub.execute_input": "2025-09-05T17:34:07.886366Z",
     "iopub.status.busy": "2025-09-05T17:34:07.886067Z",
     "iopub.status.idle": "2025-09-05T17:34:12.858631Z",
     "shell.execute_reply": "2025-09-05T17:34:12.857557Z",
     "shell.execute_reply.started": "2025-09-05T17:34:07.886346Z"
    }
   },
   "outputs": [
    {
     "data": {
      "text/plain": [
       "{'eval_loss': 2.1704301834106445,\n",
       " 'eval_accuracy': 0.6666666666666666,\n",
       " 'eval_f1': 0.6666666666666666,\n",
       " 'eval_precision': 0.6666666666666666,\n",
       " 'eval_recall': 0.6666666666666666,\n",
       " 'eval_runtime': 4.9615,\n",
       " 'eval_samples_per_second': 87.675,\n",
       " 'eval_steps_per_second': 11.085,\n",
       " 'epoch': 3.0}"
      ]
     },
     "execution_count": 53,
     "metadata": {},
     "output_type": "execute_result"
    }
   ],
   "source": [
    "eval_result = trainer.evaluate(eval_dataset=tokenized_dataset['test'])\n",
    "eval_result"
   ]
  },
  {
   "cell_type": "code",
   "execution_count": null,
   "id": "59f6c535",
   "metadata": {},
   "outputs": [],
   "source": []
  }
 ],
 "metadata": {
  "kernelspec": {
   "display_name": "python_311_2",
   "language": "python",
   "name": "python_311_2"
  },
  "language_info": {
   "codemirror_mode": {
    "name": "ipython",
    "version": 3
   },
   "file_extension": ".py",
   "mimetype": "text/x-python",
   "name": "python",
   "nbconvert_exporter": "python",
   "pygments_lexer": "ipython3",
   "version": "3.11.13"
  }
 },
 "nbformat": 4,
 "nbformat_minor": 5
}
