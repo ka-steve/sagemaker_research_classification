{
 "cells": [
  {
   "cell_type": "code",
   "execution_count": 1,
   "id": "1344db8e",
   "metadata": {
    "execution": {
     "iopub.execute_input": "2025-09-03T23:09:31.123924Z",
     "iopub.status.busy": "2025-09-03T23:09:31.123395Z",
     "iopub.status.idle": "2025-09-03T23:09:36.635471Z",
     "shell.execute_reply": "2025-09-03T23:09:36.634664Z",
     "shell.execute_reply.started": "2025-09-03T23:09:31.123894Z"
    }
   },
   "outputs": [
    {
     "name": "stdout",
     "output_type": "stream",
     "text": [
      "sagemaker.config INFO - Not applying SDK defaults from location: /etc/xdg/sagemaker/config.yaml\n",
      "sagemaker.config INFO - Not applying SDK defaults from location: /home/sagemaker-user/.config/sagemaker/config.yaml\n",
      "config.py loaded: v0.1\n",
      "utils.py loaded: v0.2.12\n",
      "utils.py loaded: v0.2.12\n",
      "config.py loaded: v0.1\n"
     ]
    }
   ],
   "source": [
    "import requests\n",
    "import boto3\n",
    "import json\n",
    "import os\n",
    "import sys\n",
    "import argparse\n",
    "import importlib\n",
    "import transformers\n",
    "import torch\n",
    "import pathlib\n",
    "import awswrangler as wr\n",
    "from IPython.display import display\n",
    "from sagemaker.huggingface.processing import HuggingFaceProcessor\n",
    "from sagemaker.sklearn.processing import SKLearnProcessor\n",
    "from sagemaker.processing import FrameworkProcessor\n",
    "from sagemaker.sklearn.estimator import SKLearn\n",
    "from sagemaker.workflow.steps import ProcessingStep\n",
    "from sagemaker.workflow.pipeline_context import PipelineSession\n",
    "from sagemaker.processing import ProcessingInput, ProcessingOutput\n",
    "from sagemaker.session import get_execution_role\n",
    "\n",
    "\n",
    "# Adding ../01_modules or ./01_modules to the system path so that we can load modules from \n",
    "# there as well\n",
    "if '__file__' in globals():\n",
    "    script_dir = pathlib.Path(__file__).parent.resolve()\n",
    "else:\n",
    "    script_dir = pathlib.Path().absolute()\n",
    "modules_path_in_dev = os.path.abspath(os.path.join(script_dir, '..', '01_modules'))\n",
    "modules_path_in_prod = os.path.abspath(os.path.join(script_dir, '01_modules'))\n",
    "if os.path.exists(modules_path_in_dev):\n",
    "    sys.path.append(modules_path_in_dev)\n",
    "if os.path.exists(modules_path_in_prod):\n",
    "    sys.path.append(modules_path_in_prod)\n",
    "\n",
    "\n",
    "# # Jupyter only reads a local module the first time after \n",
    "# # kernel start. Re-running a cell with \n",
    "# # \"from mymodulename import *\" would not change\n",
    "# # anything, even if the imported module has since changed.\n",
    "# # As a workaround, we need to directly load the module, \n",
    "# # use importlib.reload to reload it and then import * \n",
    "import utils\n",
    "_ = importlib.reload(utils)\n",
    "import config\n",
    "_ = importlib.reload(config) \n"
   ]
  },
  {
   "cell_type": "code",
   "execution_count": 2,
   "id": "f4d49f5f-2a5e-46e7-8e23-d17e557c8f26",
   "metadata": {
    "execution": {
     "iopub.execute_input": "2025-09-03T23:09:36.636689Z",
     "iopub.status.busy": "2025-09-03T23:09:36.636351Z",
     "iopub.status.idle": "2025-09-03T23:09:39.233725Z",
     "shell.execute_reply": "2025-09-03T23:09:39.232974Z",
     "shell.execute_reply.started": "2025-09-03T23:09:36.636659Z"
    }
   },
   "outputs": [],
   "source": [
    "# TODO: reorganize\n",
    "\n",
    "from datasets import load_dataset, DatasetDict, Dataset\n",
    "\n",
    "from transformers import (\n",
    "    AutoTokenizer,\n",
    "    AutoConfig, \n",
    "    AutoModelForSequenceClassification,\n",
    "    DataCollatorWithPadding,\n",
    "    TrainingArguments,\n",
    "    Trainer)\n",
    "\n",
    "from peft import PeftModel, PeftConfig, get_peft_model, LoraConfig\n",
    "import evaluate\n",
    "#import torch\n",
    "import lighteval\n",
    "import numpy as np"
   ]
  },
  {
   "cell_type": "code",
   "execution_count": 8,
   "id": "8ebeaaf5-9d6f-4a3e-a704-c8194d4982f7",
   "metadata": {
    "execution": {
     "iopub.execute_input": "2025-09-03T23:10:31.176475Z",
     "iopub.status.busy": "2025-09-03T23:10:31.176110Z",
     "iopub.status.idle": "2025-09-03T23:10:31.185431Z",
     "shell.execute_reply": "2025-09-03T23:10:31.184607Z",
     "shell.execute_reply.started": "2025-09-03T23:10:31.176443Z"
    }
   },
   "outputs": [
    {
     "data": {
      "text/plain": [
       "['sagemaker-research-methodology-extraction/01_data/03_core/unified_works/20250903_224748_00007_ingyc_010872c6-1d30-414d-9a62-885c774541c8',\n",
       " 'sagemaker-research-methodology-extraction/01_data/03_core/unified_works/20250903_224748_00007_ingyc_2b9ae78e-0730-461d-8fc3-8228584affab',\n",
       " 'sagemaker-research-methodology-extraction/01_data/03_core/unified_works/20250903_224748_00007_ingyc_2dc4d8a0-e03c-4329-b431-38b90b6019f5',\n",
       " 'sagemaker-research-methodology-extraction/01_data/03_core/unified_works/20250903_224748_00007_ingyc_2eb1e912-14ea-4faf-bccd-9613ca499174',\n",
       " 'sagemaker-research-methodology-extraction/01_data/03_core/unified_works/20250903_224748_00007_ingyc_34b580a1-0657-4571-acee-77bc1d22dce2',\n",
       " 'sagemaker-research-methodology-extraction/01_data/03_core/unified_works/20250903_224748_00007_ingyc_3507606d-21f3-46c4-b1a7-d4572a214890',\n",
       " 'sagemaker-research-methodology-extraction/01_data/03_core/unified_works/20250903_224748_00007_ingyc_3896e412-c136-41df-bb03-86f2d3fab168',\n",
       " 'sagemaker-research-methodology-extraction/01_data/03_core/unified_works/20250903_224748_00007_ingyc_4a65b726-fdea-4a0d-af1a-75e5e4fe387c',\n",
       " 'sagemaker-research-methodology-extraction/01_data/03_core/unified_works/20250903_224748_00007_ingyc_5dd378fc-29d9-40af-8dfd-700cbfe1d32c',\n",
       " 'sagemaker-research-methodology-extraction/01_data/03_core/unified_works/20250903_224748_00007_ingyc_891898fe-7070-4c31-82dc-6e2a6a2ab8aa',\n",
       " 'sagemaker-research-methodology-extraction/01_data/03_core/unified_works/20250903_224748_00007_ingyc_912d4d8f-c14a-4c4f-a76f-6363ad383e0a',\n",
       " 'sagemaker-research-methodology-extraction/01_data/03_core/unified_works/20250903_224748_00007_ingyc_aa08ef98-43ba-40f9-b79c-1eb2132ed35f',\n",
       " 'sagemaker-research-methodology-extraction/01_data/03_core/unified_works/20250903_224748_00007_ingyc_b71caa74-2cc7-4ecf-9865-f031aba1e2ce',\n",
       " 'sagemaker-research-methodology-extraction/01_data/03_core/unified_works/20250903_224748_00007_ingyc_cbae56f4-4c41-49a3-86a2-12a060415250',\n",
       " 'sagemaker-research-methodology-extraction/01_data/03_core/unified_works/20250903_224748_00007_ingyc_d20df9b4-e892-4c55-b6c9-19ff8210bc9a',\n",
       " 'sagemaker-research-methodology-extraction/01_data/03_core/unified_works/20250903_224748_00007_ingyc_db9986cc-7640-4730-9d24-85696f13bd3c',\n",
       " 'sagemaker-research-methodology-extraction/01_data/03_core/unified_works/20250903_224748_00007_ingyc_e01b8ad2-7f08-4855-8363-1cf973f1e266',\n",
       " 'sagemaker-research-methodology-extraction/01_data/03_core/unified_works/20250903_224748_00007_ingyc_e5b43539-3eed-4b73-9238-f7e19a6d5db1',\n",
       " 'sagemaker-research-methodology-extraction/01_data/03_core/unified_works/20250903_224748_00007_ingyc_e6eac052-4405-4d9c-9482-fcc24a8b15b2',\n",
       " 'sagemaker-research-methodology-extraction/01_data/03_core/unified_works/20250903_224748_00007_ingyc_eb95ccbf-43a7-4791-8848-c39dab760436',\n",
       " 'sagemaker-research-methodology-extraction/01_data/03_core/unified_works/20250903_224748_00007_ingyc_edb7c70f-e1bf-4c42-a9bd-dff97cbcca3d',\n",
       " 'sagemaker-research-methodology-extraction/01_data/03_core/unified_works/20250903_224748_00007_ingyc_f2d05533-8726-4bb2-bf67-355897343fb4']"
      ]
     },
     "execution_count": 8,
     "metadata": {},
     "output_type": "execute_result"
    }
   ],
   "source": []
  },
  {
   "cell_type": "code",
   "execution_count": 10,
   "id": "e85886ea-fb0c-4056-9f11-e873c0ee90b2",
   "metadata": {
    "execution": {
     "iopub.execute_input": "2025-09-03T23:20:21.144339Z",
     "iopub.status.busy": "2025-09-03T23:20:21.144066Z",
     "iopub.status.idle": "2025-09-03T23:20:21.164178Z",
     "shell.execute_reply": "2025-09-03T23:20:21.163657Z",
     "shell.execute_reply.started": "2025-09-03T23:20:21.144319Z"
    }
   },
   "outputs": [
    {
     "data": {
      "application/vnd.jupyter.widget-view+json": {
       "model_id": "42aab5dfa6f64691b217dd4c23993b60",
       "version_major": 2,
       "version_minor": 0
      },
      "text/plain": [
       "VBox(children=(HTML(value='<center> <img\\nsrc=https://huggingface.co/front/assets/huggingface_logo-noborder.sv…"
      ]
     },
     "metadata": {},
     "output_type": "display_data"
    }
   ],
   "source": [
    "from huggingface_hub import login\n",
    "login()"
   ]
  },
  {
   "cell_type": "code",
   "execution_count": 11,
   "id": "85affba4-eb11-4ddc-b1b0-77fcb918bb4d",
   "metadata": {
    "execution": {
     "iopub.execute_input": "2025-09-03T23:21:12.890920Z",
     "iopub.status.busy": "2025-09-03T23:21:12.890549Z",
     "iopub.status.idle": "2025-09-03T23:21:13.293142Z",
     "shell.execute_reply": "2025-09-03T23:21:13.292127Z",
     "shell.execute_reply.started": "2025-09-03T23:21:12.890889Z"
    }
   },
   "outputs": [
    {
     "data": {
      "application/vnd.jupyter.widget-view+json": {
       "model_id": "a2a324396f7d441dafd3bbc5badf0054",
       "version_major": 2,
       "version_minor": 0
      },
      "text/plain": [
       "  0%|          | 0/22 [00:00<?, ?it/s]"
      ]
     },
     "metadata": {},
     "output_type": "display_data"
    },
    {
     "name": "stdout",
     "output_type": "stream",
     "text": [
      "903_224748_00007_ingyc_010872c6-1d30-414d-9a62-885c774541c8\n",
      "903_224748_00007_ingyc_2b9ae78e-0730-461d-8fc3-8228584affab\n",
      "903_224748_00007_ingyc_2dc4d8a0-e03c-4329-b431-38b90b6019f5\n",
      "903_224748_00007_ingyc_2eb1e912-14ea-4faf-bccd-9613ca499174\n",
      "903_224748_00007_ingyc_34b580a1-0657-4571-acee-77bc1d22dce2\n",
      "903_224748_00007_ingyc_3507606d-21f3-46c4-b1a7-d4572a214890\n",
      "903_224748_00007_ingyc_3896e412-c136-41df-bb03-86f2d3fab168\n",
      "903_224748_00007_ingyc_4a65b726-fdea-4a0d-af1a-75e5e4fe387c\n",
      "903_224748_00007_ingyc_5dd378fc-29d9-40af-8dfd-700cbfe1d32c\n",
      "903_224748_00007_ingyc_891898fe-7070-4c31-82dc-6e2a6a2ab8aa\n",
      "903_224748_00007_ingyc_912d4d8f-c14a-4c4f-a76f-6363ad383e0a\n",
      "903_224748_00007_ingyc_aa08ef98-43ba-40f9-b79c-1eb2132ed35f\n",
      "903_224748_00007_ingyc_b71caa74-2cc7-4ecf-9865-f031aba1e2ce\n",
      "903_224748_00007_ingyc_cbae56f4-4c41-49a3-86a2-12a060415250\n",
      "903_224748_00007_ingyc_d20df9b4-e892-4c55-b6c9-19ff8210bc9a\n",
      "903_224748_00007_ingyc_db9986cc-7640-4730-9d24-85696f13bd3c\n",
      "903_224748_00007_ingyc_e01b8ad2-7f08-4855-8363-1cf973f1e266\n",
      "903_224748_00007_ingyc_e5b43539-3eed-4b73-9238-f7e19a6d5db1\n",
      "903_224748_00007_ingyc_e6eac052-4405-4d9c-9482-fcc24a8b15b2\n",
      "903_224748_00007_ingyc_eb95ccbf-43a7-4791-8848-c39dab760436\n",
      "903_224748_00007_ingyc_edb7c70f-e1bf-4c42-a9bd-dff97cbcca3d\n",
      "903_224748_00007_ingyc_f2d05533-8726-4bb2-bf67-355897343fb4\n"
     ]
    }
   ],
   "source": [
    "from huggingface_hub import create_repo, upload_file\n",
    "from tqdm.auto import tqdm\n",
    "import fsspec\n",
    "fs = fsspec.filesystem('s3')  # s3 / gcs / abfs / adl / oci / ...\n",
    "data_dir = 's3://sagemaker-research-methodology-extraction/01_data/03_core/unified_works/'\n",
    "pattern = '*'\n",
    "data_files = fs.glob(data_dir + pattern)\n",
    "data_files\n",
    "destination_dataset = 'SteveAKopias/testdataset' # SemanticScholarCSFullTextWithOpenAlexTopics\n",
    "create_repo(destination_dataset, repo_type='dataset')\n",
    "for data_file in tqdm(fs.glob(data_dir + pattern)):\n",
    "    with fs.open(data_file) as fileobj:\n",
    "        path_in_repo = data_file[len(data_dir):]\n",
    "        print(path_in_repo)"
   ]
  },
  {
   "cell_type": "code",
   "execution_count": 4,
   "id": "954cf37d-c847-4f16-9de4-b61fe0e2dd12",
   "metadata": {
    "execution": {
     "iopub.execute_input": "2025-09-03T23:09:39.923967Z",
     "iopub.status.busy": "2025-09-03T23:09:39.923716Z",
     "iopub.status.idle": "2025-09-03T23:09:39.928869Z",
     "shell.execute_reply": "2025-09-03T23:09:39.928015Z",
     "shell.execute_reply.started": "2025-09-03T23:09:39.923945Z"
    }
   },
   "outputs": [],
   "source": [
    "# dataset = load_dataset('shawhin/imdb-truncated')\n",
    "# dataset"
   ]
  }
 ],
 "metadata": {
  "kernelspec": {
   "display_name": "python_311_2",
   "language": "python",
   "name": "python_311_2"
  },
  "language_info": {
   "codemirror_mode": {
    "name": "ipython",
    "version": 3
   },
   "file_extension": ".py",
   "mimetype": "text/x-python",
   "name": "python",
   "nbconvert_exporter": "python",
   "pygments_lexer": "ipython3",
   "version": "3.11.13"
  }
 },
 "nbformat": 4,
 "nbformat_minor": 5
}
