{
 "cells": [
  {
   "cell_type": "code",
   "execution_count": 1,
   "id": "1344db8e",
   "metadata": {
    "execution": {
     "iopub.execute_input": "2025-09-20T16:03:36.346929Z",
     "iopub.status.busy": "2025-09-20T16:03:36.346645Z",
     "iopub.status.idle": "2025-09-20T16:03:45.099307Z",
     "shell.execute_reply": "2025-09-20T16:03:45.097677Z",
     "shell.execute_reply.started": "2025-09-20T16:03:36.346905Z"
    }
   },
   "outputs": [
    {
     "name": "stdout",
     "output_type": "stream",
     "text": [
      "sagemaker.config INFO - Not applying SDK defaults from location: /etc/xdg/sagemaker/config.yaml\n",
      "sagemaker.config INFO - Not applying SDK defaults from location: /home/sagemaker-user/.config/sagemaker/config.yaml\n",
      "config.py loaded: v0.1\n",
      "utils.py loaded: v0.2.12\n",
      "utils.py loaded: v0.2.12\n",
      "config.py loaded: v0.1\n"
     ]
    }
   ],
   "source": [
    "import requests\n",
    "import boto3\n",
    "import json\n",
    "import os\n",
    "import sys\n",
    "import argparse\n",
    "import importlib\n",
    "import transformers\n",
    "import torch\n",
    "import pathlib\n",
    "import awswrangler as wr\n",
    "from IPython.display import display\n",
    "from sagemaker.huggingface import HuggingFace\n",
    "from sagemaker.huggingface.processing import HuggingFaceProcessor\n",
    "from sagemaker.sklearn.processing import SKLearnProcessor\n",
    "from sagemaker.processing import FrameworkProcessor\n",
    "from sagemaker.sklearn.estimator import SKLearn\n",
    "from sagemaker.workflow.steps import ProcessingStep\n",
    "from sagemaker.workflow.pipeline_context import PipelineSession\n",
    "from sagemaker.processing import ProcessingInput, ProcessingOutput\n",
    "from sagemaker.session import get_execution_role\n",
    "\n",
    "\n",
    "# Adding ../01_modules or ./01_modules to the system path so that we can load modules from \n",
    "# there as well\n",
    "if '__file__' in globals():\n",
    "    script_dir = pathlib.Path(__file__).parent.resolve()\n",
    "else:\n",
    "    script_dir = pathlib.Path().absolute()\n",
    "modules_path_in_dev = os.path.abspath(os.path.join(script_dir, '..', '01_modules'))\n",
    "modules_path_in_prod = os.path.abspath(os.path.join(script_dir, '01_modules'))\n",
    "if os.path.exists(modules_path_in_dev):\n",
    "    sys.path.append(modules_path_in_dev)\n",
    "if os.path.exists(modules_path_in_prod):\n",
    "    sys.path.append(modules_path_in_prod)\n",
    "\n",
    "\n",
    "# # Jupyter only reads a local module the first time after \n",
    "# # kernel start. Re-running a cell with \n",
    "# # \"from mymodulename import *\" would not change\n",
    "# # anything, even if the imported module has since changed.\n",
    "# # As a workaround, we need to directly load the module, \n",
    "# # use importlib.reload to reload it and then import * \n",
    "import utils\n",
    "_ = importlib.reload(utils)\n",
    "import config\n",
    "_ = importlib.reload(config) \n"
   ]
  },
  {
   "cell_type": "code",
   "execution_count": 2,
   "id": "da3acbd4-1244-4897-b4f5-29e108e29768",
   "metadata": {
    "execution": {
     "iopub.execute_input": "2025-09-20T16:03:45.101009Z",
     "iopub.status.busy": "2025-09-20T16:03:45.100632Z",
     "iopub.status.idle": "2025-09-20T16:03:45.861381Z",
     "shell.execute_reply": "2025-09-20T16:03:45.860408Z",
     "shell.execute_reply.started": "2025-09-20T16:03:45.100975Z"
    }
   },
   "outputs": [],
   "source": [
    "execution_role = get_execution_role()\n",
    "\n",
    "_ = \"\"\"\n",
    "ml.g6.xlarge:   6\n",
    "ml.g6.2xlarge:  3\n",
    "ml.g6.4xlarge:  3\n",
    "ml.g6.8xlarge:  3\n",
    "ml.g6.12xlarge: 3\n",
    "ml.g6.16xlarge: 3\n",
    "ml.g6.24xlarge: 3\n",
    "ml.g6.48xlarge: 3\n",
    "\"\"\"\n",
    "\n",
    "instance_type = 'ml.g6.2xlarge'\n",
    "\n",
    "hyperparameters={\n",
    "    'runtype': 'prod',\n",
    "    'instance_type': instance_type,\n",
    "    'model_name': 'distilbert-base-uncased',\n",
    "    'hf_dataset_suffix': '_Title_SubfieldIndex',\n",
    "    'label_type': 'subfield',\n",
    "    'text_key': 'title',\n",
    "    'text_key_rename_to': 'text',\n",
    "    'label_key_rename_to': 'label',\n",
    "    'sample': 1,\n",
    "    \n",
    "    # 'epochs': 1,                                       # number of training epochs\n",
    "    # 'train_batch_size': 32,                            # training batch size\n",
    "    # 'model_name':'distilbert/distilbert-base-uncased'  # name of pretrained model\n",
    "}\n",
    "\n",
    "env_vars = {\n",
    "    'HUGGINGFACE_HUB_CACHE': '/tmp/.cache'\n",
    "}\n",
    "\n",
    "huggingface_estimator = HuggingFace(\n",
    "    entry_point='05_tuning_basic/05_12_tuning_basic_simple.py',                 # fine-tuning script to use in training job\n",
    "    source_dir='..',                 # directory where fine-tuning script is stored\n",
    "    max_run=1*60*60, # in seconds\n",
    "    volume_size=300,\n",
    "    instance_type=instance_type,          # instance type\n",
    "    instance_count=1,                       # number of instances\n",
    "    role=execution_role,                              # IAM role used in training job to acccess AWS resources (S3)\n",
    "    transformers_version='4.26',             # Transformers version\n",
    "    pytorch_version='1.13',                  # PyTorch version\n",
    "    py_version='py39',                      # Python version\n",
    "    disable_output_compression=True,\n",
    "    environment=env_vars,\n",
    "    hyperparameters=hyperparameters         # hyperparameters to use in training job\n",
    ")"
   ]
  },
  {
   "cell_type": "code",
   "execution_count": 3,
   "id": "620302ef-7b72-4e0e-b11f-c972957f6f5a",
   "metadata": {
    "execution": {
     "iopub.execute_input": "2025-09-20T16:03:45.862779Z",
     "iopub.status.busy": "2025-09-20T16:03:45.862442Z",
     "iopub.status.idle": "2025-09-20T16:03:54.913205Z",
     "shell.execute_reply": "2025-09-20T16:03:54.912125Z",
     "shell.execute_reply.started": "2025-09-20T16:03:45.862746Z"
    }
   },
   "outputs": [
    {
     "name": "stderr",
     "output_type": "stream",
     "text": [
      "INFO:sagemaker.image_uris:image_uri is not presented, retrieving image_uri based on instance_type, framework etc.\n",
      "INFO:sagemaker:Creating training-job with name: huggingface-pytorch-training-2025-09-20-16-03-45-892\n"
     ]
    }
   ],
   "source": [
    "huggingface_estimator.fit(\n",
    "    {\n",
    "        'train': 's3://sagemaker-research-methodology-extraction/01_data/03_core/unified_works_train/'\n",
    "    },\n",
    "    wait=False\n",
    ") # {\"train\": training_input_path, \"test\": test_input_path}"
   ]
  },
  {
   "cell_type": "code",
   "execution_count": null,
   "id": "d7312c5a-2987-48f2-b65e-1ef5fa994240",
   "metadata": {},
   "outputs": [],
   "source": [
    "instance_type = 'ml.g6.2xlarge'\n",
    "\n",
    "hyperparameters = {\n",
    "    'runtype': 'prod',\n",
    "    'instance_type': instance_type,\n",
    "    'model_name': 'distilbert-base-uncased',\n",
    "    'hf_dataset_suffix': '_Title_SubfieldIndex',\n",
    "    'label_type': 'subfield',\n",
    "    'text_key': 'title',\n",
    "    'text_key_rename_to': 'text',\n",
    "    'label_key_rename_to': 'label',\n",
    "    'sample': 1\n",
    "}\n",
    "\n",
    "env_vars = {\n",
    "    'HUGGINGFACE_HUB_CACHE': '/tmp/.cache'\n",
    "}\n",
    "\n",
    "huggingface_estimator = HuggingFace(\n",
    "    entry_point='05_tuning_basic/05_12_tuning_basic_simple.py',\n",
    "    source_dir='..',\n",
    "    max_run=1*60*60,\n",
    "    volume_size=300,\n",
    "    instance_type=instance_type,\n",
    "    role=execution_role,\n",
    "    transformers_version='4.26',\n",
    "    pytorch_version='1.13',\n",
    "    py_version='py311',\n",
    "    environment=env_vars,\n",
    "    hyperparameters=hyperparameters\n",
    ")\n",
    "huggingface_estimator.fit()\n"
   ]
  }
 ],
 "metadata": {
  "kernelspec": {
   "display_name": "python_311_2",
   "language": "python",
   "name": "python_311_2"
  },
  "language_info": {
   "codemirror_mode": {
    "name": "ipython",
    "version": 3
   },
   "file_extension": ".py",
   "mimetype": "text/x-python",
   "name": "python",
   "nbconvert_exporter": "python",
   "pygments_lexer": "ipython3",
   "version": "3.11.13"
  }
 },
 "nbformat": 4,
 "nbformat_minor": 5
}
