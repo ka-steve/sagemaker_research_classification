{
 "cells": [
  {
   "cell_type": "markdown",
   "id": "9b180834-6180-49f4-bc4b-cb64dda195ff",
   "metadata": {},
   "source": [
    "### Startup  \n",
    "  \n",
    "This script is supposed to be executed when a SageMaker AI Notebook Instance is started. It can contain multiple functionalities, but currently only contains one: it saves the lifecycle configurations (that were entered manually on the AWS console) into files to make sure they can be version controlled. It is Ouroboros solution, since it needs to be called from the lifecycle scripts it exports. Using Terraform would be much more straightforward, but that is not within the scope of the current project.  \n",
    "\n",
    "The on_start.ipynb Notebook file is linked through Jupytext to on_start.py so that changes in either of those automatically update the other. This allows for quick development in a notebook, while executing it later as a Python script."
   ]
  },
  {
   "cell_type": "markdown",
   "id": "1409db17-3e6b-4cea-9383-5fdf1a3d5a08",
   "metadata": {},
   "source": [
    "#### 1. Exporting Notebook Instance Lifecycle Configurations"
   ]
  },
  {
   "cell_type": "code",
   "execution_count": 1,
   "id": "61257817-417b-4d99-a019-e540a33ea60d",
   "metadata": {},
   "outputs": [],
   "source": [
    "import json\n",
    "import boto3\n",
    "import base64\n",
    "import os\n",
    "from pathlib import Path"
   ]
  },
  {
   "cell_type": "code",
   "execution_count": 2,
   "id": "f4c256bc-34b1-4321-89a2-062216989eef",
   "metadata": {},
   "outputs": [],
   "source": [
    "cwd = os.getcwd()\n",
    "lifecycle_config_exports_path = os.path.join(cwd, 'lifecycle_config_exports')\n",
    "Path(lifecycle_config_exports_path).mkdir(parents=True, exist_ok=True)"
   ]
  },
  {
   "cell_type": "code",
   "execution_count": 3,
   "id": "952f1314-ec81-46c9-bc00-205ad9a6df20",
   "metadata": {},
   "outputs": [],
   "source": [
    "boto_sagemaker = boto3.client('sagemaker')"
   ]
  },
  {
   "cell_type": "code",
   "execution_count": 4,
   "id": "2134bd9d-3f14-4b15-b711-bd9bb691867d",
   "metadata": {},
   "outputs": [
    {
     "name": "stdout",
     "output_type": "stream",
     "text": [
      "pip-install-001 OnCreate\n",
      "pip-install-001 OnStart\n",
      "pip-install-002 OnCreate\n",
      "pip-install-003 OnCreate\n",
      "pip-install-004 OnCreate\n",
      "pip-install-005 OnCreate\n",
      "pip-install-005 OnStart\n",
      "pip-install-006 OnCreate\n",
      "pip-install-006 OnStart\n",
      "pip-install-007 OnCreate\n",
      "pip-install-007 OnStart\n"
     ]
    }
   ],
   "source": [
    "notebook_instance_lifecycle_configs_response = boto_sagemaker.list_notebook_instance_lifecycle_configs(\n",
    "    SortBy = 'Name',\n",
    "    SortOrder = 'Ascending',\n",
    "    MaxResults = 100 # Max value, implement paging loging using \n",
    "    # response.NextToken if more than 100 Lifecycle Configurations are possible\n",
    "    # See: https://boto3.amazonaws.com/v1/documentation/api/latest/reference/services/sagemaker/client/list_notebook_instance_lifecycle_configs.html\n",
    ")\n",
    "for notebook_instance_lifecycle_config in notebook_instance_lifecycle_configs_response['NotebookInstanceLifecycleConfigs']:\n",
    "    notebok_instance_lifecycle_config_name = notebook_instance_lifecycle_config['NotebookInstanceLifecycleConfigName']\n",
    "    notebok_instance_lifecycle_config_description = boto_sagemaker.describe_notebook_instance_lifecycle_config(\n",
    "        NotebookInstanceLifecycleConfigName = notebok_instance_lifecycle_config_name\n",
    "    )\n",
    "    for runtype in ['OnCreate', 'OnStart']:\n",
    "        if runtype in notebok_instance_lifecycle_config_description:\n",
    "            print(notebok_instance_lifecycle_config_name, runtype)\n",
    "            lifecycle_base64 = notebok_instance_lifecycle_config_description[runtype][0]['Content']\n",
    "            lifecycle_string = '\\n'.join(f'{base64.b64decode(lifecycle_base64).decode(\"utf-8\")}'.split('\\\\n'))\n",
    "            filename = f'{notebok_instance_lifecycle_config_name}__{runtype}.sh'\n",
    "            filepath = os.path.join(lifecycle_config_exports_path, filename)\n",
    "            with open(filepath, \"w\", encoding='utf-8') as config_file:\n",
    "                config_file.write(lifecycle_string)"
   ]
  }
 ],
 "metadata": {
  "jupytext": {
   "formats": "ipynb,auto:percent"
  },
  "kernelspec": {
   "display_name": "conda_pytorch_p310",
   "language": "python",
   "name": "conda_pytorch_p310"
  },
  "language_info": {
   "codemirror_mode": {
    "name": "ipython",
    "version": 3
   },
   "file_extension": ".py",
   "mimetype": "text/x-python",
   "name": "python",
   "nbconvert_exporter": "python",
   "pygments_lexer": "ipython3",
   "version": "3.10.14"
  }
 },
 "nbformat": 4,
 "nbformat_minor": 5
}
