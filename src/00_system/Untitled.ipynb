{
 "cells": [
  {
   "cell_type": "code",
   "execution_count": null,
   "id": "85b6b645-639a-49ec-8376-608802e5ef81",
   "metadata": {},
   "outputs": [],
   "source": [
    "import awswrangler as wr\n",
    "\n",
    "sql_query = \"\"\"\n",
    "WITH\n",
    "core_unified_works AS (\n",
    "    SELECT * FROM \"03_core\".unified_works\n",
    "),\n",
    "core_unified_works_subset AS (\n",
    "    SELECT * FROM core_unified_works WHERE subset = 'test'\n",
    ")\n",
    "SELECT * FROM core_unified_works_subset\n",
    "\"\"\"\n",
    "\n",
    "wr.athena.create_ctas_table(\n",
    "    sql=sql_query,\n",
    "    database='03_core',\n",
    "    wait=True,\n",
    "    ctas_table='unified_works_test',\n",
    "    s3_output=(\n",
    "        's3://sagemaker_research_classification'\n",
    "        '/00_data/03_core/unified_works_subset'\n",
    "    ),\n",
    ")"
   ]
  }
 ],
 "metadata": {
  "kernelspec": {
   "display_name": "python_311_2",
   "language": "python",
   "name": "python_311_2"
  },
  "language_info": {
   "codemirror_mode": {
    "name": "ipython",
    "version": 3
   },
   "file_extension": ".py",
   "mimetype": "text/x-python",
   "name": "python",
   "nbconvert_exporter": "python",
   "pygments_lexer": "ipython3",
   "version": "3.11.13"
  }
 },
 "nbformat": 4,
 "nbformat_minor": 5
}
