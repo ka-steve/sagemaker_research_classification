{
 "cells": [
  {
   "cell_type": "code",
   "execution_count": 1,
   "id": "74fb44e7-c883-45ac-a90d-1cf738644de2",
   "metadata": {
    "execution": {
     "iopub.execute_input": "2025-08-20T14:18:50.242625Z",
     "iopub.status.busy": "2025-08-20T14:18:50.242411Z",
     "iopub.status.idle": "2025-08-20T14:18:50.246004Z",
     "shell.execute_reply": "2025-08-20T14:18:50.245401Z",
     "shell.execute_reply.started": "2025-08-20T14:18:50.242607Z"
    }
   },
   "outputs": [
    {
     "name": "stdout",
     "output_type": "stream",
     "text": [
      "/home/sagemaker-user/research_methodology_extraction/src/00_system\n"
     ]
    }
   ],
   "source": [
    "import os\n",
    "print(os.getcwd())"
   ]
  },
  {
   "cell_type": "code",
   "execution_count": 2,
   "id": "ef1d997d-500f-48ae-9141-1c89f5b7495d",
   "metadata": {
    "execution": {
     "iopub.execute_input": "2025-08-20T14:18:52.545288Z",
     "iopub.status.busy": "2025-08-20T14:18:52.544876Z",
     "iopub.status.idle": "2025-08-20T14:18:52.548275Z",
     "shell.execute_reply": "2025-08-20T14:18:52.547793Z",
     "shell.execute_reply.started": "2025-08-20T14:18:52.545271Z"
    }
   },
   "outputs": [
    {
     "name": "stdout",
     "output_type": "stream",
     "text": [
      "/home/sagemaker-user/.conda/envs/python_311/bin/python\n",
      "/home/sagemaker-user/.conda/envs/python_311\n"
     ]
    }
   ],
   "source": [
    "import sys\n",
    "print(sys.executable)\n",
    "print(sys.prefix)"
   ]
  },
  {
   "cell_type": "code",
   "execution_count": 3,
   "id": "200a04a6-0af7-4d97-9dfc-9eb32fc9d46d",
   "metadata": {
    "execution": {
     "iopub.execute_input": "2025-08-20T14:18:54.561852Z",
     "iopub.status.busy": "2025-08-20T14:18:54.561311Z",
     "iopub.status.idle": "2025-08-20T14:18:54.564478Z",
     "shell.execute_reply": "2025-08-20T14:18:54.564040Z",
     "shell.execute_reply.started": "2025-08-20T14:18:54.561832Z"
    }
   },
   "outputs": [
    {
     "name": "stdout",
     "output_type": "stream",
     "text": [
      "3.11.13\n"
     ]
    }
   ],
   "source": [
    "import platform\n",
    "print(platform.python_version())"
   ]
  },
  {
   "cell_type": "code",
   "execution_count": 4,
   "id": "28c71e4b-032c-4ccf-80f0-c3fd706b120b",
   "metadata": {
    "execution": {
     "iopub.execute_input": "2025-08-20T14:20:51.106208Z",
     "iopub.status.busy": "2025-08-20T14:20:51.105974Z",
     "iopub.status.idle": "2025-08-20T14:20:51.129933Z",
     "shell.execute_reply": "2025-08-20T14:20:51.129330Z",
     "shell.execute_reply.started": "2025-08-20T14:20:51.106192Z"
    }
   },
   "outputs": [
    {
     "name": "stdout",
     "output_type": "stream",
     "text": [
      "Installed numexpr.__version__==2.11.0 as expected\n",
      "Installed pandas.__version__==2.3.1 as expected\n",
      "sagemaker.config INFO - Not applying SDK defaults from location: /etc/xdg/sagemaker/config.yaml\n",
      "sagemaker.config INFO - Not applying SDK defaults from location: /home/sagemaker-user/.config/sagemaker/config.yaml\n",
      "Installed sagemaker.__version__==2.250.0 as expected\n",
      "Installed transformers.__version__==4.49.0 as expected\n",
      "Installed datasets.__version__==4.0.0 as expected\n",
      "Installed accelerate.__version__==1.10.0 as expected\n",
      "Installed torch.__version__==2.5.1+cu124 ERROR: expected 2.5.1\n",
      "Installed ipywidgets.__version__==8.1.7 as expected\n",
      "Installed ipykernel.__version__==6.30.1 as expected\n",
      "Installed jupyterlab.__version__==4.4.6 as expected\n",
      "Installed matplotlib.__version__==3.10.5 as expected\n"
     ]
    }
   ],
   "source": [
    "import importlib\n",
    "sagemaker_ai_req_filepath = '/home/ec2-user/SageMaker/research_methodology_extraction/requirements.txt'\n",
    "sagemaker_studio_req_filepath = '/home/sagemaker-user/research_methodology_extraction/requirements.txt'\n",
    "if os.path.exists(sagemaker_ai_req_filepath):\n",
    "    with open(sagemaker_ai_req_filepath) as reqstxt:\n",
    "        reqscontent = reqstxt.read()\n",
    "elif os.path.exists(sagemaker_studio_req_filepath):\n",
    "    with open(sagemaker_studio_req_filepath) as reqstxt:\n",
    "        reqscontent = reqstxt.read()\n",
    "\n",
    "reqslines = reqscontent.split('\\n')\n",
    "reqs = {}\n",
    "for reqsline in reqslines:\n",
    "    reqsline_parts = reqsline.split('#')\n",
    "    reqsline_pure = reqsline_parts[0]\n",
    "    module, version = reqsline_pure.strip().split('==')\n",
    "    reqs[module] = version\n",
    "    locals()[module] = importlib.import_module(module)\n",
    "    print(f'Installed {module}.__version__=={locals()[module].__version__}', 'as expected' if locals()[module].__version__==version else f'ERROR: expected {version}')"
   ]
  },
  {
   "cell_type": "code",
   "execution_count": 1,
   "id": "ec2b3ae0-e39e-470d-9887-70404f800323",
   "metadata": {},
   "outputs": [
    {
     "name": "stdout",
     "output_type": "stream",
     "text": [
      "Package                                     Version\n",
      "------------------------------------------- -----------\n",
      "aioboto3                                    14.1.0\n",
      "aiohttp-cors                                0.7.0\n",
      "altair                                      5.5.0\n",
      "amazon-q-developer-jupyterlab-ext           3.4.8\n",
      "amazon_sagemaker_jupyter_ai_q_developer     1.2.7\n",
      "amazon_sagemaker_jupyter_scheduler          3.1.15\n",
      "amazon-sagemaker-sql-editor                 0.1.18\n",
      "amazon-sagemaker-sql-magic                  0.1.4\n",
      "amzn_sagemaker_aiops_jupyterlab_extension   1.0.4\n",
      "autogluon                                   1.3.1\n",
      "autopep8                                    2.0.4\n",
      "aws-glue-sessions                           1.0.9\n",
      "aws_s3_access_grants_boto3_plugin           1.2.0\n",
      "Brotli                                      1.1.0\n",
      "cached-property                             1.5.2\n",
      "catboost                                    1.2.8\n",
      "colorful                                    0.5.6\n",
      "conda-libmamba-solver                       25.4.0\n",
      "contextlib2                                 21.6.0\n",
      "cookiecutter                                2.6.0\n",
      "cytoolz                                     1.0.1\n",
      "dataclasses                                 0.8\n",
      "Deprecated                                  1.2.18\n",
      "distributed                                 2025.5.1\n",
      "email_validator                             2.2.0\n",
      "exceptiongroup                              1.3.0\n",
      "faiss                                       1.9.0\n",
      "fastai                                      2.8.2\n",
      "fastapi-cli                                 0.0.8\n",
      "flake8                                      7.1.2\n",
      "fqdn                                        1.5.1\n",
      "git-remote-codecommit                       1.16\n",
      "gmpy2                                       2.2.1\n",
      "gssapi                                      1.9.0\n",
      "h2                                          4.2.0\n",
      "httptools                                   0.6.4\n",
      "hyperopt                                    0.2.7\n",
      "imagecodecs                                 2025.3.30\n",
      "importlib_resources                         6.5.2\n",
      "isoduration                                 20.11.0\n",
      "jupyter-activity-monitor-extension          0.3.2\n",
      "jupyter-collaboration                       3.1.0\n",
      "jupyter-dash                                0.4.2\n",
      "jupyter_server_proxy                        4.4.0\n",
      "krb5                                        0.5.1\n",
      "langchain-aws                               0.2.19\n",
      "libmambapy                                  2.3.0\n",
      "lightgbm                                    4.6.0\n",
      "mlflow-skinny                               2.22.0\n",
      "munkres                                     1.1.4\n",
      "numexpr                                     2.11.0\n",
      "onnxruntime-gpu                             1.22.0\n",
      "opencensus                                  0.11.3\n",
      "paramiko                                    3.5.1\n",
      "pickleshare                                 0.7.5\n",
      "pkgutil_resolve_name                        1.3.10\n",
      "prometheus_flask_exporter                   0.23.2\n",
      "pybind11                                    2.13.6\n",
      "pybind11_global                             2.13.6\n",
      "pydocstyle                                  6.3.0\n",
      "PyHive                                      0.7.0\n",
      "pylint                                      3.3.7\n",
      "PySocks                                     1.7.1\n",
      "python-lsp-server                           1.12.2\n",
      "python-multipart                            0.0.20\n",
      "pyu2f                                       0.1.5\n",
      "PyWavelets                                  1.8.0\n",
      "querystring_parser                          1.2.4\n",
      "ray                                         2.44.1\n",
      "rope                                        1.13.0\n",
      "s3fs                                        2024.12.0\n",
      "sagemaker                                   2.250.0\n",
      "sagemaker-headless-execution-driver         0.0.13\n",
      "sagemaker-jupyterlab-emr-extension          0.4.0\n",
      "sagemaker-jupyterlab-extension              0.5.0\n",
      "sagemaker-kernel-wrapper                    0.0.5\n",
      "sagemaker-mlflow                            0.1.0\n",
      "sagemaker-studio-analytics-extension        0.2.0\n",
      "sagemaker_studio_cli                        1.0.6\n",
      "sagemaker-studio-dataengineering-extensions 1.1.2\n",
      "sagemaker-studio-dataengineering-sessions   1.1.2\n",
      "seaborn                                     0.13.2\n",
      "sentencepiece                               0.2.0\n",
      "setproctitle                                1.3.6\n",
      "supervisor                                  4.2.5\n",
      "tensorboardX                                2.6.2.2\n",
      "tensorflow_estimator                        2.15.0\n",
      "tf_keras                                    2.18.0\n",
      "thrift_sasl                                 0.4.3\n",
      "tinycss2                                    1.4.0\n",
      "toml                                        0.10.2\n",
      "tomli                                       2.2.1\n",
      "torchaudio                                  2.6.0+cu126\n",
      "torchvision-extra-decoders                  0.0.2\n",
      "typer-slim                                  0.16.0\n",
      "typing_utils                                0.1.0\n",
      "unicodedata2                                16.0.0\n",
      "uri-template                                1.3.0\n",
      "uvloop                                      0.21.0\n",
      "virtualenv                                  20.31.2\n",
      "watchfiles                                  1.1.0\n",
      "webcolors                                   24.11.1\n",
      "websockets                                  15.0.1\n",
      "whatthepatch                                1.0.7\n",
      "wheel                                       0.45.1\n",
      "xgboost                                     2.1.4\n",
      "yapf                                        0.43.0\n"
     ]
    }
   ],
   "source": [
    "# list all directly installed packages but not dependencies\n",
    "!pip list --not-required"
   ]
  },
  {
   "cell_type": "code",
   "execution_count": null,
   "id": "6de5525a-82be-4a02-a33b-1f6223e137e8",
   "metadata": {},
   "outputs": [],
   "source": [
    "import json\n",
    "import boto3\n",
    "import base64\n",
    "with open('/etc/opt/ml/sagemaker-notebook-instance-config.json') as json_file:\n",
    "    notebook_config = json.load(json_file)\n",
    "print('notebook_config:', notebook_config)\n",
    "print(\"notebook_config['notebook_uri']:\", notebook_config['notebook_uri'])\n",
    "# Not using regex on purpose. Parsing an already double-escaped regex pattern is doable, but is usually very brittle. \n",
    "# In this case it's more robust to build the pattern matching on simple splitting based on structures we can assume an automatically generated configuration string always has.\n",
    "parts_first = notebook_config['notebook_uri'].split('(')\n",
    "print('parts_first:', parts_first)\n",
    "parts_second = parts_first[1].split('|')\n",
    "print('parts_second:', parts_second)\n",
    "notebook_instance_name = parts_second[0]\n",
    "print(f'notebook_instance_name: {notebook_instance_name}')\n",
    "\n",
    "boto_sagemaker = boto3.client('sagemaker')\n",
    "notebok_instance_description = boto_sagemaker.describe_notebook_instance(\n",
    "    NotebookInstanceName = notebook_instance_name\n",
    ")\n",
    "print('notebok_instance_description: ', notebok_instance_description)\n",
    "notebok_instance_lifecycle_config_name = notebok_instance_description['NotebookInstanceLifecycleConfigName']\n",
    "print('notebok_instance_lifecycle_config_name:', notebok_instance_lifecycle_config_name)\n",
    "notebok_instance_lifecycle_config_description = boto_sagemaker.describe_notebook_instance_lifecycle_config(\n",
    "    NotebookInstanceLifecycleConfigName = notebok_instance_lifecycle_config_name\n",
    ")\n",
    "print('notebok_instance_lifecycle_config_description_', notebok_instance_lifecycle_config_description)\n",
    "lifecycle_on_create_base64 = notebok_instance_lifecycle_config_description['OnCreate'][0]['Content']\n",
    "lifecycle_on_start_base64 = notebok_instance_lifecycle_config_description['OnStart'][0]['Content']\n",
    "print('lifecycle_on_create_base64:', lifecycle_on_create_base64)\n",
    "print('lifecycle_on_start_base64:', lifecycle_on_start_base64)\n",
    "lifecycle_on_create_string = '\\n'.join(f'{base64.b64decode(lifecycle_on_create_base64)}'.split('\\\\n'))\n",
    "lifecycle_on_start_string = '\\n'.join(f'{base64.b64decode(lifecycle_on_start_base64)}'.split('\\\\n'))\n",
    "print('lifecycle_on_create_string:', '\\n', lifecycle_on_create_string)\n",
    "print('lifecycle_on_start_string:', '\\n', lifecycle_on_start_string)"
   ]
  },
  {
   "cell_type": "code",
   "execution_count": null,
   "id": "c8e9b437-1320-445d-8eff-a1cddf10a07b",
   "metadata": {},
   "outputs": [],
   "source": []
  }
 ],
 "metadata": {
  "kernelspec": {
   "display_name": "python_311",
   "language": "python",
   "name": "python3"
  },
  "language_info": {
   "codemirror_mode": {
    "name": "ipython",
    "version": 3
   },
   "file_extension": ".py",
   "mimetype": "text/x-python",
   "name": "python",
   "nbconvert_exporter": "python",
   "pygments_lexer": "ipython3",
   "version": "3.11.13"
  }
 },
 "nbformat": 4,
 "nbformat_minor": 5
}
