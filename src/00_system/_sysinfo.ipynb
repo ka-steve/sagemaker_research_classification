{
 "cells": [
  {
   "cell_type": "code",
   "execution_count": 38,
   "id": "74fb44e7-c883-45ac-a90d-1cf738644de2",
   "metadata": {},
   "outputs": [
    {
     "name": "stdout",
     "output_type": "stream",
     "text": [
      "/home/ec2-user/SageMaker/research_methodology_extraction/src\n"
     ]
    }
   ],
   "source": [
    "import os\n",
    "print(os.getcwd())"
   ]
  },
  {
   "cell_type": "code",
   "execution_count": 2,
   "id": "ef1d997d-500f-48ae-9141-1c89f5b7495d",
   "metadata": {},
   "outputs": [
    {
     "name": "stdout",
     "output_type": "stream",
     "text": [
      "/home/ec2-user/anaconda3/envs/pytorch_p310/bin/python\n",
      "/home/ec2-user/anaconda3/envs/pytorch_p310\n"
     ]
    }
   ],
   "source": [
    "import sys\n",
    "print(sys.executable)\n",
    "print(sys.prefix)"
   ]
  },
  {
   "cell_type": "code",
   "execution_count": 5,
   "id": "28c71e4b-032c-4ccf-80f0-c3fd706b120b",
   "metadata": {},
   "outputs": [
    {
     "name": "stdout",
     "output_type": "stream",
     "text": [
      "Installed numexpr.__version__==2.11.0 as expected\n",
      "Installed pandas.__version__==2.3.1 as expected\n",
      "Installed sagemaker.__version__==2.250.0 as expected\n",
      "Installed transformers.__version__==4.55.2 as expected\n",
      "Installed datasets.__version__==4.0.0 as expected\n",
      "Installed accelerate.__version__==1.10.0 as expected\n"
     ]
    }
   ],
   "source": [
    "import importlib\n",
    "with open(\"/home/ec2-user/SageMaker/research_methodology_extraction/requirements.txt\") as reqstxt:\n",
    "    reqscontent = reqstxt.read()\n",
    "\n",
    "reqslines = reqscontent.split('\\n')\n",
    "reqs = {}\n",
    "for reqsline in reqslines:\n",
    "    module, version = reqsline.split('==')\n",
    "    reqs[module] = version\n",
    "    locals()[module] = importlib.import_module(module)\n",
    "    print(f'Installed {module}.__version__=={locals()[module].__version__}', 'as expected' if locals()[module].__version__==version else f'ERROR: expected {version}')"
   ]
  },
  {
   "cell_type": "code",
   "execution_count": 4,
   "id": "ec2b3ae0-e39e-470d-9887-70404f800323",
   "metadata": {},
   "outputs": [
    {
     "name": "stdout",
     "output_type": "stream",
     "text": [
      "Package                 Version\n",
      "----------------------- ---------------\n",
      "accelerate              1.10.0\n",
      "aiohttp                 3.12.15\n",
      "Authlib                 1.6.0\n",
      "awscli                  1.41.13\n",
      "awscrt                  0.26.1\n",
      "bokeh                   3.7.3\n",
      "Brotli                  1.1.0\n",
      "cached-property         1.5.2\n",
      "captum                  0.8.0\n",
      "datasets                4.0.0\n",
      "distro                  1.8.0\n",
      "environment-kernels     1.2.0\n",
      "fqdn                    1.5.1\n",
      "gmpy2                   2.2.1\n",
      "gssapi                  1.9.0\n",
      "gym                     0.26.2\n",
      "h2                      4.2.0\n",
      "imageio                 2.37.0\n",
      "importlib_resources     6.5.2\n",
      "isoduration             20.11.0\n",
      "jsonpointer             3.0.0\n",
      "krb5                    0.7.1\n",
      "marshmallow             4.0.0\n",
      "mpi4py                  4.1.0\n",
      "munkres                 1.1.4\n",
      "nltk                    3.9.1\n",
      "numexpr                 2.11.0\n",
      "nvgpu                   0.10.0\n",
      "onnx                    1.16.2\n",
      "opencv-python           4.11.0.86\n",
      "pickleshare             0.7.5\n",
      "pip                     25.1.1\n",
      "pkgutil_resolve_name    1.3.10\n",
      "pybind11                3.0.0\n",
      "pybind11-global         3.0.0\n",
      "pygame                  2.6.1\n",
      "PySocks                 1.7.1\n",
      "safety-schemas          0.0.14\n",
      "sagemaker               2.250.0\n",
      "sagemaker_pyspark       1.4.5\n",
      "seaborn                 0.13.2\n",
      "shap                    0.40.0\n",
      "smclarify               0.5\n",
      "sparkmagic              0.23.0\n",
      "statsmodels             0.14.5\n",
      "tenacity                9.1.2\n",
      "tinycss2                1.4.0\n",
      "tomlkit                 0.13.3\n",
      "torch-model-archiver    0.7.1b20230208\n",
      "torch-workflow-archiver 0.2.15b20240930\n",
      "torchaudio              2.2.2\n",
      "torchserve              0.11.0b20240516\n",
      "torchtext               0.17.2\n",
      "torchvision             0.17.2\n",
      "transformers            4.55.2\n",
      "triton                  2.2.0\n",
      "typer                   0.16.0\n",
      "typing-inspection       0.4.1\n",
      "typing_utils            0.1.0\n",
      "ujson                   5.10.0\n",
      "unicodedata2            16.0.0\n",
      "uri-template            1.3.0\n",
      "webcolors               24.11.1\n"
     ]
    }
   ],
   "source": [
    "# list all directly installed packages but not dependencies\n",
    "!pip list --not-required"
   ]
  },
  {
   "cell_type": "code",
   "execution_count": 36,
   "id": "6de5525a-82be-4a02-a33b-1f6223e137e8",
   "metadata": {},
   "outputs": [
    {
     "name": "stdout",
     "output_type": "stream",
     "text": [
      "notebook_config: {'csrf_check': 'enabled', 'direct_internet_access': 'enabled', 'vpc_support': 'disabled', 'notebook_uri': 'https:\\\\/\\\\/(test017-ml-g5-xlarge|test017-ml-g5-xlarge).notebook.eu-west-2.sagemaker.aws', 'root_access': 'enabled'}\n",
      "notebook_config['notebook_uri']: https:\\/\\/(test017-ml-g5-xlarge|test017-ml-g5-xlarge).notebook.eu-west-2.sagemaker.aws\n",
      "parts_first: ['https:\\\\/\\\\/', 'test017-ml-g5-xlarge|test017-ml-g5-xlarge).notebook.eu-west-2.sagemaker.aws']\n",
      "parts_second: ['test017-ml-g5-xlarge', 'test017-ml-g5-xlarge).notebook.eu-west-2.sagemaker.aws']\n",
      "notebook_instance_name: test017-ml-g5-xlarge\n",
      "notebok_instance_description:  {'NotebookInstanceArn': 'arn:aws:sagemaker:eu-west-2:762595428873:notebook-instance/test017-ml-g5-xlarge', 'NotebookInstanceName': 'test017-ml-g5-xlarge', 'NotebookInstanceStatus': 'InService', 'Url': 'test017-ml-g5-xlarge.notebook.eu-west-2.sagemaker.aws', 'InstanceType': 'ml.g5.xlarge', 'RoleArn': 'arn:aws:iam::762595428873:role/SageMakerExecutionRole', 'LastModifiedTime': datetime.datetime(2025, 8, 18, 12, 45, 42, 70000, tzinfo=tzlocal()), 'CreationTime': datetime.datetime(2025, 8, 18, 12, 28, 18, 759000, tzinfo=tzlocal()), 'NotebookInstanceLifecycleConfigName': 'pip-install-007', 'DirectInternetAccess': 'Enabled', 'VolumeSizeInGB': 50, 'DefaultCodeRepository': 'ka-steve-research-methodology-extraction', 'RootAccess': 'Enabled', 'PlatformIdentifier': 'notebook-al2-v3', 'InstanceMetadataServiceConfiguration': {'MinimumInstanceMetadataServiceVersion': '2'}, 'ResponseMetadata': {'RequestId': '791e2800-908c-48af-9f51-1408f5a883de', 'HTTPStatusCode': 200, 'HTTPHeaders': {'x-amzn-requestid': '791e2800-908c-48af-9f51-1408f5a883de', 'content-type': 'application/x-amz-json-1.1', 'content-length': '759', 'date': 'Mon, 18 Aug 2025 22:52:48 GMT'}, 'RetryAttempts': 0}}\n",
      "notebok_instance_lifecycle_config_name: pip-install-007\n",
      "notebok_instance_lifecycle_config_description_ {'NotebookInstanceLifecycleConfigArn': 'arn:aws:sagemaker:eu-west-2:762595428873:notebook-instance-lifecycle-config/pip-install-007', 'NotebookInstanceLifecycleConfigName': 'pip-install-007', 'OnCreate': [{'Content': 'IyEvYmluL2Jhc2gK'}], 'OnStart': [{'Content': 'IyEvYmluL2Jhc2gKCnNldCAtZQoKZWNobyAiWFhYWFhYIHN0YXJ0X25vdGVib29rIFNUQVJUIFhYWFhYWFhYWFhYWFhYWFhYWCIKCnN1ZG8gLXUgZWMyLXVzZXIgLWkgPDxFT0YKCmVjaG8gIjo6Ojo6OiBzdGFydF9ub3RlYm9vayBTVURPIDEgU1RBUlQgOjo6Ojo6Ojo6Ojo6Ojo6Ojo6Ojo6Ojo6IgoKZWNobyAiOjogc291cmNlIC9ob21lL2VjMi11c2VyL2FuYWNvbmRhMy9iaW4vYWN0aXZhdGUgL2hvbWUvZWMyLXVzZXIvYW5hY29uZGEzL2VudnMvcHl0b3JjaF9wMzEwIgpzb3VyY2UgL2hvbWUvZWMyLXVzZXIvYW5hY29uZGEzL2Jpbi9hY3RpdmF0ZSAvaG9tZS9lYzItdXNlci9hbmFjb25kYTMvZW52cy9weXRvcmNoX3AzMTAKCmVjaG8gIjo6IHBpcCBpbnN0YWxsIC1yIC9ob21lL2VjMi11c2VyL1NhZ2VNYWtlci9yZXNlYXJjaF9tZXRob2RvbG9neV9leHRyYWN0aW9uL3JlcXVpcmVtZW50cy50eHQiCnBpcCBpbnN0YWxsIC1yIC9ob21lL2VjMi11c2VyL1NhZ2VNYWtlci9yZXNlYXJjaF9tZXRob2RvbG9neV9leHRyYWN0aW9uL3JlcXVpcmVtZW50cy50eHQKCmVjaG8gIjo6IGNvbmRhIGRlYWN0aXZhdGUiCmNvbmRhIGRlYWN0aXZhdGUKCmVjaG8gIjo6Ojo6OiBzdGFydF9ub3RlYm9vayBTVURPIDEgRU5EIDo6Ojo6Ojo6Ojo6Ojo6Ojo6Ojo6Ojo6OiIKCkVPRgoKc3VkbyAtdSBlYzItdXNlciAtaSA8PEVPRgoKZWNobyAiOjo6Ojo6IHN0YXJ0X25vdGVib29rIFNVRE8gMiBTVEFSVCA6Ojo6Ojo6Ojo6Ojo6Ojo6Ojo6Ojo6OjoiCmVjaG8gIjo6IHNvdXJjZSAvaG9tZS9lYzItdXNlci9hbmFjb25kYTMvYmluL2FjdGl2YXRlIC9ob21lL2VjMi11c2VyL2FuYWNvbmRhMy9lbnZzL0p1cHl0ZXJTeXN0ZW1FbnYiCnNvdXJjZSAvaG9tZS9lYzItdXNlci9hbmFjb25kYTMvYmluL2FjdGl2YXRlIC9ob21lL2VjMi11c2VyL2FuYWNvbmRhMy9lbnZzL0p1cHl0ZXJTeXN0ZW1FbnYKCmVjaG8gIjo6IHBpcCBpbnN0YWxsIGp1cHl0ZXh0IC0tdXBncmFkZSIKcGlwIGluc3RhbGwganVweXRleHQgLS11cGdyYWRlCgoKZWNobyAiOjogc3VkbyBzeXN0ZW1jdGwgcmVzdGFydCBqdXB5dGVyLXNlcnZlciIKc3VkbyBzeXN0ZW1jdGwgcmVzdGFydCBqdXB5dGVyLXNlcnZlcgplY2hvICI6Ojo6Ojogc3RhcnRfbm90ZWJvb2sgU1VETyAyIEVORCA6Ojo6Ojo6Ojo6Ojo6Ojo6Ojo6Ojo6OjoiCgpFT0YKCmVjaG8gIlhYWFhYWCBzdGFydF9ub3RlYm9vayBFTkQgWFhYWFhYWFhYWFhYWFhYWFhYIg=='}], 'LastModifiedTime': datetime.datetime(2025, 8, 18, 12, 19, 7, 480000, tzinfo=tzlocal()), 'CreationTime': datetime.datetime(2025, 8, 18, 12, 19, 7, 480000, tzinfo=tzlocal()), 'ResponseMetadata': {'RequestId': 'd2d87a88-fd45-4816-a71e-8faff578453c', 'HTTPStatusCode': 200, 'HTTPHeaders': {'x-amzn-requestid': 'd2d87a88-fd45-4816-a71e-8faff578453c', 'content-type': 'application/x-amz-json-1.1', 'content-length': '1973', 'date': 'Mon, 18 Aug 2025 22:52:49 GMT'}, 'RetryAttempts': 0}}\n",
      "lifecycle_on_create_base64: IyEvYmluL2Jhc2gK\n",
      "lifecycle_on_start_base64: IyEvYmluL2Jhc2gKCnNldCAtZQoKZWNobyAiWFhYWFhYIHN0YXJ0X25vdGVib29rIFNUQVJUIFhYWFhYWFhYWFhYWFhYWFhYWCIKCnN1ZG8gLXUgZWMyLXVzZXIgLWkgPDxFT0YKCmVjaG8gIjo6Ojo6OiBzdGFydF9ub3RlYm9vayBTVURPIDEgU1RBUlQgOjo6Ojo6Ojo6Ojo6Ojo6Ojo6Ojo6Ojo6IgoKZWNobyAiOjogc291cmNlIC9ob21lL2VjMi11c2VyL2FuYWNvbmRhMy9iaW4vYWN0aXZhdGUgL2hvbWUvZWMyLXVzZXIvYW5hY29uZGEzL2VudnMvcHl0b3JjaF9wMzEwIgpzb3VyY2UgL2hvbWUvZWMyLXVzZXIvYW5hY29uZGEzL2Jpbi9hY3RpdmF0ZSAvaG9tZS9lYzItdXNlci9hbmFjb25kYTMvZW52cy9weXRvcmNoX3AzMTAKCmVjaG8gIjo6IHBpcCBpbnN0YWxsIC1yIC9ob21lL2VjMi11c2VyL1NhZ2VNYWtlci9yZXNlYXJjaF9tZXRob2RvbG9neV9leHRyYWN0aW9uL3JlcXVpcmVtZW50cy50eHQiCnBpcCBpbnN0YWxsIC1yIC9ob21lL2VjMi11c2VyL1NhZ2VNYWtlci9yZXNlYXJjaF9tZXRob2RvbG9neV9leHRyYWN0aW9uL3JlcXVpcmVtZW50cy50eHQKCmVjaG8gIjo6IGNvbmRhIGRlYWN0aXZhdGUiCmNvbmRhIGRlYWN0aXZhdGUKCmVjaG8gIjo6Ojo6OiBzdGFydF9ub3RlYm9vayBTVURPIDEgRU5EIDo6Ojo6Ojo6Ojo6Ojo6Ojo6Ojo6Ojo6OiIKCkVPRgoKc3VkbyAtdSBlYzItdXNlciAtaSA8PEVPRgoKZWNobyAiOjo6Ojo6IHN0YXJ0X25vdGVib29rIFNVRE8gMiBTVEFSVCA6Ojo6Ojo6Ojo6Ojo6Ojo6Ojo6Ojo6OjoiCmVjaG8gIjo6IHNvdXJjZSAvaG9tZS9lYzItdXNlci9hbmFjb25kYTMvYmluL2FjdGl2YXRlIC9ob21lL2VjMi11c2VyL2FuYWNvbmRhMy9lbnZzL0p1cHl0ZXJTeXN0ZW1FbnYiCnNvdXJjZSAvaG9tZS9lYzItdXNlci9hbmFjb25kYTMvYmluL2FjdGl2YXRlIC9ob21lL2VjMi11c2VyL2FuYWNvbmRhMy9lbnZzL0p1cHl0ZXJTeXN0ZW1FbnYKCmVjaG8gIjo6IHBpcCBpbnN0YWxsIGp1cHl0ZXh0IC0tdXBncmFkZSIKcGlwIGluc3RhbGwganVweXRleHQgLS11cGdyYWRlCgoKZWNobyAiOjogc3VkbyBzeXN0ZW1jdGwgcmVzdGFydCBqdXB5dGVyLXNlcnZlciIKc3VkbyBzeXN0ZW1jdGwgcmVzdGFydCBqdXB5dGVyLXNlcnZlcgplY2hvICI6Ojo6Ojogc3RhcnRfbm90ZWJvb2sgU1VETyAyIEVORCA6Ojo6Ojo6Ojo6Ojo6Ojo6Ojo6Ojo6OjoiCgpFT0YKCmVjaG8gIlhYWFhYWCBzdGFydF9ub3RlYm9vayBFTkQgWFhYWFhYWFhYWFhYWFhYWFhYIg==\n",
      "lifecycle_on_create_string: \n",
      " b'#!/bin/bash\n",
      "'\n",
      "lifecycle_on_start_string: \n",
      " b'#!/bin/bash\n",
      "\n",
      "set -e\n",
      "\n",
      "echo \"XXXXXX start_notebook START XXXXXXXXXXXXXXXXXX\"\n",
      "\n",
      "sudo -u ec2-user -i <<EOF\n",
      "\n",
      "echo \":::::: start_notebook SUDO 1 START ::::::::::::::::::::::::\"\n",
      "\n",
      "echo \":: source /home/ec2-user/anaconda3/bin/activate /home/ec2-user/anaconda3/envs/pytorch_p310\"\n",
      "source /home/ec2-user/anaconda3/bin/activate /home/ec2-user/anaconda3/envs/pytorch_p310\n",
      "\n",
      "echo \":: pip install -r /home/ec2-user/SageMaker/research_methodology_extraction/requirements.txt\"\n",
      "pip install -r /home/ec2-user/SageMaker/research_methodology_extraction/requirements.txt\n",
      "\n",
      "echo \":: conda deactivate\"\n",
      "conda deactivate\n",
      "\n",
      "echo \":::::: start_notebook SUDO 1 END ::::::::::::::::::::::::\"\n",
      "\n",
      "EOF\n",
      "\n",
      "sudo -u ec2-user -i <<EOF\n",
      "\n",
      "echo \":::::: start_notebook SUDO 2 START ::::::::::::::::::::::::\"\n",
      "echo \":: source /home/ec2-user/anaconda3/bin/activate /home/ec2-user/anaconda3/envs/JupyterSystemEnv\"\n",
      "source /home/ec2-user/anaconda3/bin/activate /home/ec2-user/anaconda3/envs/JupyterSystemEnv\n",
      "\n",
      "echo \":: pip install jupytext --upgrade\"\n",
      "pip install jupytext --upgrade\n",
      "\n",
      "\n",
      "echo \":: sudo systemctl restart jupyter-server\"\n",
      "sudo systemctl restart jupyter-server\n",
      "echo \":::::: start_notebook SUDO 2 END ::::::::::::::::::::::::\"\n",
      "\n",
      "EOF\n",
      "\n",
      "echo \"XXXXXX start_notebook END XXXXXXXXXXXXXXXXXX\"'\n"
     ]
    }
   ],
   "source": [
    "import json\n",
    "import boto3\n",
    "import base64\n",
    "with open('/etc/opt/ml/sagemaker-notebook-instance-config.json') as json_file:\n",
    "    notebook_config = json.load(json_file)\n",
    "print('notebook_config:', notebook_config)\n",
    "print(\"notebook_config['notebook_uri']:\", notebook_config['notebook_uri'])\n",
    "# Not using regex on purpose. Parsing an already double-escaped regex pattern is doable, but is usually very brittle. \n",
    "# In this case it's more robust to build the pattern matching on simple splitting based on structures we can assume an automatically generated configuration string always has.\n",
    "parts_first = notebook_config['notebook_uri'].split('(')\n",
    "print('parts_first:', parts_first)\n",
    "parts_second = parts_first[1].split('|')\n",
    "print('parts_second:', parts_second)\n",
    "notebook_instance_name = parts_second[0]\n",
    "print(f'notebook_instance_name: {notebook_instance_name}')\n",
    "\n",
    "boto_sagemaker = boto3.client('sagemaker')\n",
    "notebok_instance_description = boto_sagemaker.describe_notebook_instance(\n",
    "    NotebookInstanceName = notebook_instance_name\n",
    ")\n",
    "print('notebok_instance_description: ', notebok_instance_description)\n",
    "notebok_instance_lifecycle_config_name = notebok_instance_description['NotebookInstanceLifecycleConfigName']\n",
    "print('notebok_instance_lifecycle_config_name:', notebok_instance_lifecycle_config_name)\n",
    "notebok_instance_lifecycle_config_description = boto_sagemaker.describe_notebook_instance_lifecycle_config(\n",
    "    NotebookInstanceLifecycleConfigName = notebok_instance_lifecycle_config_name\n",
    ")\n",
    "print('notebok_instance_lifecycle_config_description_', notebok_instance_lifecycle_config_description)\n",
    "lifecycle_on_create_base64 = notebok_instance_lifecycle_config_description['OnCreate'][0]['Content']\n",
    "lifecycle_on_start_base64 = notebok_instance_lifecycle_config_description['OnStart'][0]['Content']\n",
    "print('lifecycle_on_create_base64:', lifecycle_on_create_base64)\n",
    "print('lifecycle_on_start_base64:', lifecycle_on_start_base64)\n",
    "lifecycle_on_create_string = '\\n'.join(f'{base64.b64decode(lifecycle_on_create_base64)}'.split('\\\\n'))\n",
    "lifecycle_on_start_string = '\\n'.join(f'{base64.b64decode(lifecycle_on_start_base64)}'.split('\\\\n'))\n",
    "print('lifecycle_on_create_string:', '\\n', lifecycle_on_create_string)\n",
    "print('lifecycle_on_start_string:', '\\n', lifecycle_on_start_string)"
   ]
  },
  {
   "cell_type": "code",
   "execution_count": null,
   "id": "c8e9b437-1320-445d-8eff-a1cddf10a07b",
   "metadata": {},
   "outputs": [],
   "source": []
  }
 ],
 "metadata": {
  "kernelspec": {
   "display_name": "conda_pytorch_p310",
   "language": "python",
   "name": "conda_pytorch_p310"
  },
  "language_info": {
   "codemirror_mode": {
    "name": "ipython",
    "version": 3
   },
   "file_extension": ".py",
   "mimetype": "text/x-python",
   "name": "python",
   "nbconvert_exporter": "python",
   "pygments_lexer": "ipython3",
   "version": "3.10.14"
  }
 },
 "nbformat": 4,
 "nbformat_minor": 5
}
