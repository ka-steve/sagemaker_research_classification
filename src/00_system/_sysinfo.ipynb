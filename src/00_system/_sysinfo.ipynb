{
 "cells": [
  {
   "cell_type": "code",
   "execution_count": 1,
   "id": "74fb44e7-c883-45ac-a90d-1cf738644de2",
   "metadata": {
    "execution": {
     "iopub.execute_input": "2025-08-20T20:27:55.066847Z",
     "iopub.status.busy": "2025-08-20T20:27:55.066595Z",
     "iopub.status.idle": "2025-08-20T20:27:55.069707Z",
     "shell.execute_reply": "2025-08-20T20:27:55.069241Z",
     "shell.execute_reply.started": "2025-08-20T20:27:55.066831Z"
    }
   },
   "outputs": [
    {
     "name": "stdout",
     "output_type": "stream",
     "text": [
      "/home/sagemaker-user/research_methodology_extraction/src/00_system\n"
     ]
    }
   ],
   "source": [
    "import os\n",
    "print(os.getcwd())"
   ]
  },
  {
   "cell_type": "code",
   "execution_count": 6,
   "id": "b05a11f9",
   "metadata": {},
   "outputs": [
    {
     "name": "stdout",
     "output_type": "stream",
     "text": [
      "/home/sagemaker-user/research_methodology_extraction/src/00_system\n"
     ]
    }
   ],
   "source": [
    "import pathlib\n",
    "if '__file__' in globals():\n",
    "    print(pathlib.Path(__file__).parent.resolve())\n",
    "else:\n",
    "    print(pathlib.Path().absolute())"
   ]
  },
  {
   "cell_type": "code",
   "execution_count": 2,
   "id": "ef1d997d-500f-48ae-9141-1c89f5b7495d",
   "metadata": {
    "execution": {
     "iopub.execute_input": "2025-08-20T20:25:56.381211Z",
     "iopub.status.busy": "2025-08-20T20:25:56.380644Z",
     "iopub.status.idle": "2025-08-20T20:25:56.384007Z",
     "shell.execute_reply": "2025-08-20T20:25:56.383536Z",
     "shell.execute_reply.started": "2025-08-20T20:25:56.381192Z"
    }
   },
   "outputs": [
    {
     "name": "stdout",
     "output_type": "stream",
     "text": [
      "/home/sagemaker-user/.conda/envs/python_311/bin/python\n",
      "/home/sagemaker-user/.conda/envs/python_311\n"
     ]
    }
   ],
   "source": [
    "import sys\n",
    "print(sys.executable)\n",
    "print(sys.prefix)"
   ]
  },
  {
   "cell_type": "code",
   "execution_count": 3,
   "id": "200a04a6-0af7-4d97-9dfc-9eb32fc9d46d",
   "metadata": {
    "execution": {
     "iopub.execute_input": "2025-08-20T20:25:58.346476Z",
     "iopub.status.busy": "2025-08-20T20:25:58.346021Z",
     "iopub.status.idle": "2025-08-20T20:25:58.349135Z",
     "shell.execute_reply": "2025-08-20T20:25:58.348674Z",
     "shell.execute_reply.started": "2025-08-20T20:25:58.346461Z"
    }
   },
   "outputs": [
    {
     "name": "stdout",
     "output_type": "stream",
     "text": [
      "3.11.13\n"
     ]
    }
   ],
   "source": [
    "import platform\n",
    "print(platform.python_version())"
   ]
  },
  {
   "cell_type": "code",
   "execution_count": 4,
   "id": "28c71e4b-032c-4ccf-80f0-c3fd706b120b",
   "metadata": {
    "execution": {
     "iopub.execute_input": "2025-08-20T20:30:20.674383Z",
     "iopub.status.busy": "2025-08-20T20:30:20.674234Z",
     "iopub.status.idle": "2025-08-20T20:30:22.928955Z",
     "shell.execute_reply": "2025-08-20T20:30:22.928194Z",
     "shell.execute_reply.started": "2025-08-20T20:30:20.674368Z"
    }
   },
   "outputs": [
    {
     "name": "stdout",
     "output_type": "stream",
     "text": [
      "Installed numexpr.__version__==2.11.0 as expected\n",
      "Installed pandas.__version__==2.3.1 as expected\n",
      "sagemaker.config INFO - Not applying SDK defaults from location: /etc/xdg/sagemaker/config.yaml\n",
      "sagemaker.config INFO - Not applying SDK defaults from location: /home/sagemaker-user/.config/sagemaker/config.yaml\n",
      "Installed sagemaker.__version__==2.250.0 as expected\n",
      "Installed transformers.__version__==4.49.0 as expected\n",
      "Installed datasets.__version__==4.0.0 as expected\n",
      "Installed accelerate.__version__==1.10.0 as expected\n",
      "Installed torch.__version__==2.5.1 as expected\n",
      "Installed ipywidgets.__version__==8.1.7 as expected\n"
     ]
    }
   ],
   "source": [
    "import os\n",
    "import importlib\n",
    "sagemaker_ai_req_filepath = '/home/ec2-user/SageMaker/research_methodology_extraction/requirements.txt'\n",
    "sagemaker_studio_req_filepath = '/home/sagemaker-user/research_methodology_extraction/requirements.txt'\n",
    "if os.path.exists(sagemaker_ai_req_filepath):\n",
    "    with open(sagemaker_ai_req_filepath) as reqstxt:\n",
    "        reqscontent = reqstxt.read()\n",
    "elif os.path.exists(sagemaker_studio_req_filepath):\n",
    "    with open(sagemaker_studio_req_filepath) as reqstxt:\n",
    "        reqscontent = reqstxt.read()\n",
    "\n",
    "reqslines = reqscontent.split('\\n')\n",
    "reqs = {}\n",
    "for reqsline in reqslines:\n",
    "    reqsline_parts = reqsline.split('#')\n",
    "    reqsline_pure = reqsline_parts[0]\n",
    "    module, required_version = reqsline_pure.strip().split('==')\n",
    "    version_parts = required_version.split('+')\n",
    "    required_version = version_parts[0]  # Ignore any local version suffix like +cu124\n",
    "    reqs[module] = required_version\n",
    "    locals()[module] = importlib.import_module(module)\n",
    "    installed_version = locals()[module].__version__\n",
    "    installed_version_parts = installed_version.split('+')\n",
    "    installed_version_pure = installed_version_parts[0]  # Ignore any local version suffix like +cu124\n",
    "    print(f'Installed {module}.__version__=={installed_version_pure}', 'as expected' if installed_version_pure==required_version else f'ERROR: expected {required_version}')"
   ]
  },
  {
   "cell_type": "code",
   "execution_count": null,
   "id": "6de5525a-82be-4a02-a33b-1f6223e137e8",
   "metadata": {},
   "outputs": [],
   "source": [
    "# For SageMaker AI only\n",
    "\n",
    "import json\n",
    "import boto3\n",
    "import base64\n",
    "with open('/etc/opt/ml/sagemaker-notebook-instance-config.json') as json_file:\n",
    "    notebook_config = json.load(json_file)\n",
    "print('notebook_config:', notebook_config)\n",
    "print(\"notebook_config['notebook_uri']:\", notebook_config['notebook_uri'])\n",
    "# Not using regex on purpose. Parsing an already double-escaped regex pattern is doable, but is usually very brittle. \n",
    "# In this case it's more robust to build the pattern matching on simple splitting based on structures we can assume an automatically generated configuration string always has.\n",
    "parts_first = notebook_config['notebook_uri'].split('(')\n",
    "print('parts_first:', parts_first)\n",
    "parts_second = parts_first[1].split('|')\n",
    "print('parts_second:', parts_second)\n",
    "notebook_instance_name = parts_second[0]\n",
    "print(f'notebook_instance_name: {notebook_instance_name}')\n",
    "\n",
    "boto_sagemaker = boto3.client('sagemaker')\n",
    "notebok_instance_description = boto_sagemaker.describe_notebook_instance(\n",
    "    NotebookInstanceName = notebook_instance_name\n",
    ")\n",
    "print('notebok_instance_description: ', notebok_instance_description)\n",
    "notebok_instance_lifecycle_config_name = notebok_instance_description['NotebookInstanceLifecycleConfigName']\n",
    "print('notebok_instance_lifecycle_config_name:', notebok_instance_lifecycle_config_name)\n",
    "notebok_instance_lifecycle_config_description = boto_sagemaker.describe_notebook_instance_lifecycle_config(\n",
    "    NotebookInstanceLifecycleConfigName = notebok_instance_lifecycle_config_name\n",
    ")\n",
    "print('notebok_instance_lifecycle_config_description_', notebok_instance_lifecycle_config_description)\n",
    "lifecycle_on_create_base64 = notebok_instance_lifecycle_config_description['OnCreate'][0]['Content']\n",
    "lifecycle_on_start_base64 = notebok_instance_lifecycle_config_description['OnStart'][0]['Content']\n",
    "print('lifecycle_on_create_base64:', lifecycle_on_create_base64)\n",
    "print('lifecycle_on_start_base64:', lifecycle_on_start_base64)\n",
    "lifecycle_on_create_string = '\\n'.join(f'{base64.b64decode(lifecycle_on_create_base64)}'.split('\\\\n'))\n",
    "lifecycle_on_start_string = '\\n'.join(f'{base64.b64decode(lifecycle_on_start_base64)}'.split('\\\\n'))\n",
    "print('lifecycle_on_create_string:', '\\n', lifecycle_on_create_string)\n",
    "print('lifecycle_on_start_string:', '\\n', lifecycle_on_start_string)"
   ]
  },
  {
   "cell_type": "code",
   "execution_count": null,
   "id": "c8e9b437-1320-445d-8eff-a1cddf10a07b",
   "metadata": {},
   "outputs": [],
   "source": []
  }
 ],
 "metadata": {
  "kernelspec": {
   "display_name": "python_311",
   "language": "python",
   "name": "python3"
  },
  "language_info": {
   "codemirror_mode": {
    "name": "ipython",
    "version": 3
   },
   "file_extension": ".py",
   "mimetype": "text/x-python",
   "name": "python",
   "nbconvert_exporter": "python",
   "pygments_lexer": "ipython3",
   "version": "3.11.13"
  }
 },
 "nbformat": 4,
 "nbformat_minor": 5
}
