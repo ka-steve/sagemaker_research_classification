{
 "cells": [
  {
   "cell_type": "code",
   "execution_count": 2,
   "id": "19b3e29e-2885-4ff9-9398-914234b3c8f8",
   "metadata": {
    "execution": {
     "iopub.execute_input": "2025-08-27T20:06:18.296811Z",
     "iopub.status.busy": "2025-08-27T20:06:18.296506Z",
     "iopub.status.idle": "2025-08-27T20:06:18.316639Z",
     "shell.execute_reply": "2025-08-27T20:06:18.315914Z",
     "shell.execute_reply.started": "2025-08-27T20:06:18.296785Z"
    }
   },
   "outputs": [
    {
     "name": "stdout",
     "output_type": "stream",
     "text": [
      "utils.py loaded: v0.2.12\n",
      "config.py loaded: v0.1\n"
     ]
    }
   ],
   "source": [
    "import requests\n",
    "import boto3\n",
    "import json\n",
    "import os\n",
    "import sys\n",
    "import argparse\n",
    "import importlib\n",
    "import transformers\n",
    "import torch\n",
    "import pathlib\n",
    "import smart_open\n",
    "from IPython.display import display\n",
    "from sagemaker.huggingface.processing import HuggingFaceProcessor\n",
    "from sagemaker.sklearn.processing import SKLearnProcessor\n",
    "from sagemaker.processing import FrameworkProcessor\n",
    "from sagemaker.sklearn.estimator import SKLearn\n",
    "from sagemaker.workflow.steps import ProcessingStep\n",
    "from sagemaker.workflow.pipeline_context import PipelineSession\n",
    "from sagemaker.processing import ProcessingInput, ProcessingOutput\n",
    "from sagemaker.session import get_execution_role\n",
    "\n",
    "# Adding ../01_modules or ./01_modules to the system path so that we can load modules from \n",
    "# there as well\n",
    "if '__file__' in globals():\n",
    "    script_dir = pathlib.Path(__file__).parent.resolve()\n",
    "else:\n",
    "    script_dir = pathlib.Path().absolute()\n",
    "modules_path_in_dev = os.path.abspath(os.path.join(script_dir, '..', '01_modules'))\n",
    "modules_path_in_prod = os.path.abspath(os.path.join(script_dir, '01_modules'))\n",
    "if os.path.exists(modules_path_in_dev):\n",
    "    sys.path.append(modules_path_in_dev)\n",
    "if os.path.exists(modules_path_in_prod):\n",
    "    sys.path.append(modules_path_in_prod)\n",
    "\n",
    "\n",
    "# # Jupyter only reads a local module the first time after \n",
    "# # kernel start. Re-running a cell with \n",
    "# # \"from mymodulename import *\" would not change\n",
    "# # anything, even if the imported module has since changed.\n",
    "# # As a workaround, we need to directly load the module, \n",
    "# # use importlib.reload to reload it and then import * \n",
    "import utils\n",
    "_ = importlib.reload(utils)\n",
    "import config\n",
    "_ = importlib.reload(config) "
   ]
  },
  {
   "cell_type": "code",
   "execution_count": 11,
   "id": "676dcb9f-bed5-4d1b-ab82-b73abc619b57",
   "metadata": {
    "execution": {
     "iopub.execute_input": "2025-08-27T20:33:29.878704Z",
     "iopub.status.busy": "2025-08-27T20:33:29.878320Z",
     "iopub.status.idle": "2025-08-27T20:33:30.811513Z",
     "shell.execute_reply": "2025-08-27T20:33:30.809838Z",
     "shell.execute_reply.started": "2025-08-27T20:33:29.878672Z"
    }
   },
   "outputs": [
    {
     "name": "stdout",
     "output_type": "stream",
     "text": [
      "{'ResponseMetadata': {'RequestId': 'XY4983GACFX32MNW', 'HostId': 'es4c7LUDyUTmylKbbR8glcWexJ0UJ/Q5ybSz8Iw3o24lWkWmExfQQtqlWiovjQjYoDT4i1IEKgc=', 'HTTPStatusCode': 200, 'HTTPHeaders': {'x-amz-id-2': 'es4c7LUDyUTmylKbbR8glcWexJ0UJ/Q5ybSz8Iw3o24lWkWmExfQQtqlWiovjQjYoDT4i1IEKgc=', 'x-amz-request-id': 'XY4983GACFX32MNW', 'date': 'Wed, 27 Aug 2025 20:33:30 GMT', 'x-amz-bucket-region': 'eu-west-2', 'content-type': 'application/xml', 'transfer-encoding': 'chunked', 'server': 'AmazonS3'}, 'RetryAttempts': 0}, 'IsTruncated': False, 'Marker': '', 'Name': 'sagemaker-research-methodology-extraction', 'Prefix': '', 'Delimiter': '/', 'MaxKeys': 1000, 'CommonPrefixes': [{'Prefix': '00_test/'}, {'Prefix': '01_data/'}, {'Prefix': '01_raw/'}], 'EncodingType': 'url'}\n"
     ]
    },
    {
     "data": {
      "text/html": [
       "<pre style=\"white-space:pre;overflow-x:auto;line-height:normal;font-family:Menlo,'DejaVu Sans Mono',consolas,'Courier New',monospace\"><span style=\"color: #ff0000; text-decoration-color: #ff0000\">╭─────────────────────────────── </span><span style=\"color: #ff0000; text-decoration-color: #ff0000; font-weight: bold\">Traceback </span><span style=\"color: #ff7f7f; text-decoration-color: #ff7f7f; font-weight: bold\">(most recent call last)</span><span style=\"color: #ff0000; text-decoration-color: #ff0000\"> ────────────────────────────────╮</span>\n",
       "<span style=\"color: #ff0000; text-decoration-color: #ff0000\">│</span> in &lt;module&gt;:24                                                                                   <span style=\"color: #ff0000; text-decoration-color: #ff0000\">│</span>\n",
       "<span style=\"color: #ff0000; text-decoration-color: #ff0000\">│</span>                                                                                                  <span style=\"color: #ff0000; text-decoration-color: #ff0000\">│</span>\n",
       "<span style=\"color: #ff0000; text-decoration-color: #ff0000\">│</span>   <span style=\"color: #7f7f7f; text-decoration-color: #7f7f7f\">21 </span>total_record_limit = <span style=\"color: #0000ff; text-decoration-color: #0000ff\">15</span>                                                                     <span style=\"color: #ff0000; text-decoration-color: #ff0000\">│</span>\n",
       "<span style=\"color: #ff0000; text-decoration-color: #ff0000\">│</span>   <span style=\"color: #7f7f7f; text-decoration-color: #7f7f7f\">22 </span>files = s3_client.list_objects(Bucket=config.DEFAULT_S3_BUCKET_NAME, Prefix=<span style=\"color: #808000; text-decoration-color: #808000\">''</span>, Delimite    <span style=\"color: #ff0000; text-decoration-color: #ff0000\">│</span>\n",
       "<span style=\"color: #ff0000; text-decoration-color: #ff0000\">│</span>   <span style=\"color: #7f7f7f; text-decoration-color: #7f7f7f\">23 </span><span style=\"color: #00ffff; text-decoration-color: #00ffff\">print</span>(files)                                                                                <span style=\"color: #ff0000; text-decoration-color: #ff0000\">│</span>\n",
       "<span style=\"color: #ff0000; text-decoration-color: #ff0000\">│</span> <span style=\"color: #800000; text-decoration-color: #800000\">❱ </span>24 <span style=\"color: #0000ff; text-decoration-color: #0000ff\">for</span> file_ref <span style=\"color: #ff00ff; text-decoration-color: #ff00ff\">in</span> <span style=\"font-weight: bold; text-decoration: underline\">files[</span><span style=\"color: #808000; text-decoration-color: #808000; font-weight: bold; text-decoration: underline\">'Contents'</span><span style=\"font-weight: bold; text-decoration: underline\">]</span>:                                                          <span style=\"color: #ff0000; text-decoration-color: #ff0000\">│</span>\n",
       "<span style=\"color: #ff0000; text-decoration-color: #ff0000\">│</span>   <span style=\"color: #7f7f7f; text-decoration-color: #7f7f7f\">25 </span><span style=\"color: #7f7f7f; text-decoration-color: #7f7f7f\">│   </span><span style=\"color: #0000ff; text-decoration-color: #0000ff\">if</span> file_counter &lt; line_limit:                                                           <span style=\"color: #ff0000; text-decoration-color: #ff0000\">│</span>\n",
       "<span style=\"color: #ff0000; text-decoration-color: #ff0000\">│</span>   <span style=\"color: #7f7f7f; text-decoration-color: #7f7f7f\">26 </span><span style=\"color: #7f7f7f; text-decoration-color: #7f7f7f\">│   │   </span>line_counter = <span style=\"color: #0000ff; text-decoration-color: #0000ff\">0</span>                                                                    <span style=\"color: #ff0000; text-decoration-color: #ff0000\">│</span>\n",
       "<span style=\"color: #ff0000; text-decoration-color: #ff0000\">│</span>   <span style=\"color: #7f7f7f; text-decoration-color: #7f7f7f\">27 </span><span style=\"color: #7f7f7f; text-decoration-color: #7f7f7f\">│   │   </span>source_filepath = file_ref[<span style=\"color: #808000; text-decoration-color: #808000\">'Key'</span>]                                                   <span style=\"color: #ff0000; text-decoration-color: #ff0000\">│</span>\n",
       "<span style=\"color: #ff0000; text-decoration-color: #ff0000\">╰──────────────────────────────────────────────────────────────────────────────────────────────────╯</span>\n",
       "<span style=\"color: #ff0000; text-decoration-color: #ff0000; font-weight: bold\">KeyError: </span><span style=\"color: #008700; text-decoration-color: #008700\">'Contents'</span>\n",
       "</pre>\n"
      ],
      "text/plain": [
       "\u001b[38;2;255;0;0m╭─\u001b[0m\u001b[38;2;255;0;0m──────────────────────────────\u001b[0m\u001b[38;2;255;0;0m \u001b[0m\u001b[1;38;2;255;0;0mTraceback \u001b[0m\u001b[1;2;38;2;255;0;0m(most recent call last)\u001b[0m\u001b[38;2;255;0;0m \u001b[0m\u001b[38;2;255;0;0m───────────────────────────────\u001b[0m\u001b[38;2;255;0;0m─╮\u001b[0m\n",
       "\u001b[38;2;255;0;0m│\u001b[0m in <module>:24                                                                                   \u001b[38;2;255;0;0m│\u001b[0m\n",
       "\u001b[38;2;255;0;0m│\u001b[0m                                                                                                  \u001b[38;2;255;0;0m│\u001b[0m\n",
       "\u001b[38;2;255;0;0m│\u001b[0m   \u001b[2m21 \u001b[0mtotal_record_limit = \u001b[94m15\u001b[0m                                                                     \u001b[38;2;255;0;0m│\u001b[0m\n",
       "\u001b[38;2;255;0;0m│\u001b[0m   \u001b[2m22 \u001b[0mfiles = s3_client.list_objects(Bucket=config.DEFAULT_S3_BUCKET_NAME, Prefix=\u001b[33m'\u001b[0m\u001b[33m'\u001b[0m, Delimite    \u001b[38;2;255;0;0m│\u001b[0m\n",
       "\u001b[38;2;255;0;0m│\u001b[0m   \u001b[2m23 \u001b[0m\u001b[96mprint\u001b[0m(files)                                                                                \u001b[38;2;255;0;0m│\u001b[0m\n",
       "\u001b[38;2;255;0;0m│\u001b[0m \u001b[31m❱ \u001b[0m24 \u001b[94mfor\u001b[0m file_ref \u001b[95min\u001b[0m \u001b[1;4mfiles[\u001b[0m\u001b[1;4;33m'\u001b[0m\u001b[1;4;33mContents\u001b[0m\u001b[1;4;33m'\u001b[0m\u001b[1;4m]\u001b[0m:                                                          \u001b[38;2;255;0;0m│\u001b[0m\n",
       "\u001b[38;2;255;0;0m│\u001b[0m   \u001b[2m25 \u001b[0m\u001b[2m│   \u001b[0m\u001b[94mif\u001b[0m file_counter < line_limit:                                                           \u001b[38;2;255;0;0m│\u001b[0m\n",
       "\u001b[38;2;255;0;0m│\u001b[0m   \u001b[2m26 \u001b[0m\u001b[2m│   │   \u001b[0mline_counter = \u001b[94m0\u001b[0m                                                                    \u001b[38;2;255;0;0m│\u001b[0m\n",
       "\u001b[38;2;255;0;0m│\u001b[0m   \u001b[2m27 \u001b[0m\u001b[2m│   │   \u001b[0msource_filepath = file_ref[\u001b[33m'\u001b[0m\u001b[33mKey\u001b[0m\u001b[33m'\u001b[0m]                                                   \u001b[38;2;255;0;0m│\u001b[0m\n",
       "\u001b[38;2;255;0;0m╰──────────────────────────────────────────────────────────────────────────────────────────────────╯\u001b[0m\n",
       "\u001b[1;91mKeyError: \u001b[0m\u001b[38;2;0;135;0m'Contents'\u001b[0m\n"
      ]
     },
     "metadata": {},
     "output_type": "display_data"
    }
   ],
   "source": [
    "s3_client = boto3.client('s3')\n",
    "openalex_works_target_prefix = f'{config.OPENALEX_S3_RAW_DATA_PREFIX}/data/works_unpartitioned'\n",
    "openalex_works_target_path = f's3://{config.DEFAULT_S3_BUCKET_NAME}/{openalex_works_target_prefix}'\n",
    "\n",
    "_ = \"\"\"\n",
    "for key, content in smart_open.s3.iter_bucket(\n",
    "    bucket_name=config.DEFAULT_S3_BUCKET_NAME,\n",
    "    prefix=openalex_works_target_prefix,\n",
    "    accept_key=None,\n",
    "    key_limit=16,\n",
    "    workers=16,\n",
    "    retries=3,\n",
    "):\n",
    "    print(key, round(len(content) / 2**10))\n",
    "\"\"\"\n",
    "\n",
    "file_counter = 0\n",
    "file_limit = 2\n",
    "line_limit = 10\n",
    "total_record_counter = 0\n",
    "total_record_limit = 15\n",
    "files = s3_client.list_objects(Bucket=config.DEFAULT_S3_BUCKET_NAME, Prefix='', Delimiter='/', )\n",
    "print(files)\n",
    "for file_ref in files['Contents']:\n",
    "    if file_counter < line_limit:\n",
    "        line_counter = 0\n",
    "        source_filepath = file_ref['Key']\n",
    "        with smart_open.open(bucket_id=config.DEFAULT_S3_BUCKET_NAME, key_id=source_filepath, mode='rb', client=s3_client) as fl:\n",
    "            for line in fl:\n",
    "                if line_counter >= line_limit or total_record_counter >= total_record_limit:\n",
    "                    break\n",
    "                print(f'{total_record_counter:06}:{line_counter:06}|{line}')\n",
    "                line_counter += 1\n",
    "                total_record_counter += 1\n",
    "        file_counter += 1\n"
   ]
  }
 ],
 "metadata": {
  "kernelspec": {
   "display_name": "python_311_2",
   "language": "python",
   "name": "python_311_2"
  },
  "language_info": {
   "codemirror_mode": {
    "name": "ipython",
    "version": 3
   },
   "file_extension": ".py",
   "mimetype": "text/x-python",
   "name": "python",
   "nbconvert_exporter": "python",
   "pygments_lexer": "ipython3",
   "version": "3.11.13"
  }
 },
 "nbformat": 4,
 "nbformat_minor": 5
}
