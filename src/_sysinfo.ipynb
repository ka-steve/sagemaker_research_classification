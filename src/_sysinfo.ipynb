{
 "cells": [
  {
   "cell_type": "code",
   "execution_count": 1,
   "id": "74fb44e7-c883-45ac-a90d-1cf738644de2",
   "metadata": {},
   "outputs": [
    {
     "name": "stdout",
     "output_type": "stream",
     "text": [
      "/home/ec2-user/SageMaker/research_methodology_extraction/src\n"
     ]
    }
   ],
   "source": [
    "import os\n",
    "print(os.getcwd())"
   ]
  },
  {
   "cell_type": "code",
   "execution_count": 2,
   "id": "ef1d997d-500f-48ae-9141-1c89f5b7495d",
   "metadata": {},
   "outputs": [
    {
     "name": "stdout",
     "output_type": "stream",
     "text": [
      "/home/ec2-user/anaconda3/envs/pytorch_p310/bin/python\n",
      "/home/ec2-user/anaconda3/envs/pytorch_p310\n"
     ]
    }
   ],
   "source": [
    "import sys\n",
    "print(sys.executable)\n",
    "print(sys.prefix)"
   ]
  },
  {
   "cell_type": "code",
   "execution_count": 15,
   "id": "28c71e4b-032c-4ccf-80f0-c3fd706b120b",
   "metadata": {},
   "outputs": [
    {
     "name": "stdout",
     "output_type": "stream",
     "text": [
      "Installed numexpr.__version__==2.11.0 as expected\n",
      "Installed pandas.__version__==2.3.1 as expected\n",
      "Installed sagemaker.__version__==2.250.0 as expected\n",
      "Installed transformers.__version__==4.55.2 as expected\n",
      "Installed datasets.__version__==4.0.0 as expected\n",
      "Installed accelerate.__version__==1.10.0 as expected\n"
     ]
    }
   ],
   "source": [
    "import importlib\n",
    "with open(\"/home/ec2-user/SageMaker/research_methodology_extraction/requirements.txt\") as reqstxt:\n",
    "    reqscontent = reqstxt.read()\n",
    "\n",
    "reqslines = reqscontent.split('\\n')\n",
    "reqs = {}\n",
    "for reqsline in reqslines:\n",
    "    module, version = reqsline.split('==')\n",
    "    reqs[module] = version\n",
    "    locals()[module] = importlib.import_module(module)\n",
    "    print(f'Installed {module}.__version__=={locals()[module].__version__}', 'as expected' if locals()[module].__version__==version else f'ERROR: expected {version}')"
   ]
  },
  {
   "cell_type": "code",
   "execution_count": 3,
   "id": "ec2b3ae0-e39e-470d-9887-70404f800323",
   "metadata": {},
   "outputs": [
    {
     "name": "stdout",
     "output_type": "stream",
     "text": [
      "Package                 Version\n",
      "----------------------- ---------------\n",
      "accelerate              1.10.0\n",
      "aiohttp                 3.12.15\n",
      "Authlib                 1.6.0\n",
      "awscli                  1.41.13\n",
      "awscrt                  0.26.1\n",
      "bokeh                   3.7.3\n",
      "Brotli                  1.1.0\n",
      "cached-property         1.5.2\n",
      "captum                  0.8.0\n",
      "datasets                4.0.0\n",
      "distro                  1.8.0\n",
      "environment-kernels     1.2.0\n",
      "fqdn                    1.5.1\n",
      "gmpy2                   2.2.1\n",
      "gssapi                  1.9.0\n",
      "gym                     0.26.2\n",
      "h2                      4.2.0\n",
      "imageio                 2.37.0\n",
      "importlib_resources     6.5.2\n",
      "isoduration             20.11.0\n",
      "jsonpointer             3.0.0\n",
      "krb5                    0.7.1\n",
      "marshmallow             4.0.0\n",
      "mpi4py                  4.1.0\n",
      "munkres                 1.1.4\n",
      "nltk                    3.9.1\n",
      "numexpr                 2.11.0\n",
      "nvgpu                   0.10.0\n",
      "onnx                    1.16.2\n",
      "opencv-python           4.11.0.86\n",
      "pickleshare             0.7.5\n",
      "pip                     25.1.1\n",
      "pkgutil_resolve_name    1.3.10\n",
      "pybind11                3.0.0\n",
      "pybind11-global         3.0.0\n",
      "pygame                  2.6.1\n",
      "PySocks                 1.7.1\n",
      "safety-schemas          0.0.14\n",
      "sagemaker               2.250.0\n",
      "sagemaker_pyspark       1.4.5\n",
      "seaborn                 0.13.2\n",
      "shap                    0.40.0\n",
      "smclarify               0.5\n",
      "sparkmagic              0.23.0\n",
      "statsmodels             0.14.5\n",
      "tenacity                9.1.2\n",
      "tinycss2                1.4.0\n",
      "tomlkit                 0.13.3\n",
      "torch-model-archiver    0.7.1b20230208\n",
      "torch-workflow-archiver 0.2.15b20240930\n",
      "torchaudio              2.2.2\n",
      "torchserve              0.11.0b20240516\n",
      "torchtext               0.17.2\n",
      "torchvision             0.17.2\n",
      "transformers            4.55.2\n",
      "triton                  2.2.0\n",
      "typer                   0.16.0\n",
      "typing-inspection       0.4.1\n",
      "typing_utils            0.1.0\n",
      "ujson                   5.10.0\n",
      "unicodedata2            16.0.0\n",
      "uri-template            1.3.0\n",
      "webcolors               24.11.1\n"
     ]
    }
   ],
   "source": [
    "!pip list --not-required"
   ]
  }
 ],
 "metadata": {
  "kernelspec": {
   "display_name": "conda_pytorch_p310",
   "language": "python",
   "name": "conda_pytorch_p310"
  },
  "language_info": {
   "codemirror_mode": {
    "name": "ipython",
    "version": 3
   },
   "file_extension": ".py",
   "mimetype": "text/x-python",
   "name": "python",
   "nbconvert_exporter": "python",
   "pygments_lexer": "ipython3",
   "version": "3.10.14"
  }
 },
 "nbformat": 4,
 "nbformat_minor": 5
}
