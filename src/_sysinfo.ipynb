{
 "cells": [
  {
   "cell_type": "code",
   "execution_count": 1,
   "id": "74fb44e7-c883-45ac-a90d-1cf738644de2",
   "metadata": {},
   "outputs": [
    {
     "name": "stdout",
     "output_type": "stream",
     "text": [
      "/home/ec2-user/SageMaker/research_methodology_extraction/src\n"
     ]
    }
   ],
   "source": [
    "import os\n",
    "print(os.getcwd())"
   ]
  },
  {
   "cell_type": "code",
   "execution_count": 4,
   "id": "ef1d997d-500f-48ae-9141-1c89f5b7495d",
   "metadata": {},
   "outputs": [
    {
     "name": "stdout",
     "output_type": "stream",
     "text": [
      "/home/ec2-user/anaconda3/envs/pytorch_p310/bin/python\n",
      "/home/ec2-user/anaconda3/envs/pytorch_p310\n"
     ]
    }
   ],
   "source": [
    "import sys\n",
    "print(sys.executable)\n",
    "print(sys.prefix)"
   ]
  },
  {
   "cell_type": "code",
   "execution_count": 6,
   "id": "ec2b3ae0-e39e-470d-9887-70404f800323",
   "metadata": {},
   "outputs": [
    {
     "name": "stdout",
     "output_type": "stream",
     "text": [
      "Package                 Version\n",
      "----------------------- ---------------\n",
      "Authlib                 1.6.0\n",
      "awscli                  1.41.13\n",
      "awscrt                  0.26.1\n",
      "bokeh                   3.7.3\n",
      "Brotli                  1.1.0\n",
      "cached-property         1.5.2\n",
      "captum                  0.8.0\n",
      "distro                  1.8.0\n",
      "environment-kernels     1.2.0\n",
      "fqdn                    1.5.1\n",
      "gmpy2                   2.2.1\n",
      "gssapi                  1.9.0\n",
      "gym                     0.26.2\n",
      "h2                      4.2.0\n",
      "imageio                 2.37.0\n",
      "importlib_resources     6.5.2\n",
      "isoduration             20.11.0\n",
      "jsonpointer             3.0.0\n",
      "krb5                    0.7.1\n",
      "marshmallow             4.0.0\n",
      "mpi4py                  4.1.0\n",
      "munkres                 1.1.4\n",
      "nltk                    3.9.1\n",
      "nvgpu                   0.10.0\n",
      "onnx                    1.16.2\n",
      "opencv-python           4.11.0.86\n",
      "pickleshare             0.7.5\n",
      "pip                     25.1.1\n",
      "pkgutil_resolve_name    1.3.10\n",
      "pybind11                3.0.0\n",
      "pybind11-global         3.0.0\n",
      "pygame                  2.6.1\n",
      "PySocks                 1.7.1\n",
      "safety-schemas          0.0.14\n",
      "sagemaker               2.248.2\n",
      "sagemaker_pyspark       1.4.5\n",
      "seaborn                 0.13.2\n",
      "shap                    0.40.0\n",
      "smclarify               0.5\n",
      "sparkmagic              0.23.0\n",
      "statsmodels             0.14.5\n",
      "tenacity                9.1.2\n",
      "tinycss2                1.4.0\n",
      "tomlkit                 0.13.3\n",
      "torch-model-archiver    0.7.1b20230208\n",
      "torch-workflow-archiver 0.2.15b20240930\n",
      "torchaudio              2.2.2\n",
      "torchserve              0.11.0b20240516\n",
      "torchtext               0.17.2\n",
      "torchvision             0.17.2\n",
      "triton                  2.2.0\n",
      "typer                   0.16.0\n",
      "typing-inspection       0.4.1\n",
      "typing_utils            0.1.0\n",
      "ujson                   5.10.0\n",
      "unicodedata2            16.0.0\n",
      "uri-template            1.3.0\n",
      "webcolors               24.11.1\n"
     ]
    }
   ],
   "source": [
    "!pip list --not-required"
   ]
  },
  {
   "cell_type": "code",
   "execution_count": 2,
   "id": "e0241e13-1992-41f9-beb0-d302ed77b1c3",
   "metadata": {},
   "outputs": [
    {
     "name": "stdout",
     "output_type": "stream",
     "text": [
      "2.3.1\n"
     ]
    }
   ],
   "source": [
    "# should be 2.3.1\n",
    "import pandas\n",
    "print(pandas.__version__)"
   ]
  },
  {
   "cell_type": "code",
   "execution_count": 3,
   "id": "0e24e25b-b115-4cca-976f-d5fac704371a",
   "metadata": {},
   "outputs": [
    {
     "ename": "ModuleNotFoundError",
     "evalue": "No module named 'transformers'",
     "output_type": "error",
     "traceback": [
      "\u001b[0;31m---------------------------------------------------------------------------\u001b[0m",
      "\u001b[0;31mModuleNotFoundError\u001b[0m                       Traceback (most recent call last)",
      "Cell \u001b[0;32mIn[3], line 1\u001b[0m\n\u001b[0;32m----> 1\u001b[0m \u001b[38;5;28;01mimport\u001b[39;00m\u001b[38;5;250m \u001b[39m\u001b[38;5;21;01mtransformers\u001b[39;00m\u001b[38;5;241m,\u001b[39m\u001b[38;5;250m \u001b[39m\u001b[38;5;21;01maccelerate\u001b[39;00m\u001b[38;5;241m,\u001b[39m\u001b[38;5;250m \u001b[39m\u001b[38;5;21;01mdatasets\u001b[39;00m\u001b[38;5;241m,\u001b[39m\u001b[38;5;250m \u001b[39m\u001b[38;5;21;01msagemaker\u001b[39;00m\n\u001b[1;32m      2\u001b[0m \u001b[38;5;28mprint\u001b[39m(transformers\u001b[38;5;241m.\u001b[39m__version__, transformers\u001b[38;5;241m.\u001b[39m__version__\u001b[38;5;241m==\u001b[39m\u001b[38;5;124m'\u001b[39m\u001b[38;5;124m4.55.2\u001b[39m\u001b[38;5;124m'\u001b[39m)\n\u001b[1;32m      3\u001b[0m \u001b[38;5;66;03m#accelerate-1.10.0 datasets-4.0.0 dill-0.3.8 fsspec-2025.3.0 hf-xet-1.1.7 huggingface-hub-0.34.4 multiprocess-0.70.16 nvidia-cublas-cu12-12.4.5.8 nvidia-cuda-cupti-cu12-12.4.127 nvidia-cuda-nvrtc-cu12-12.4.127 nvidia-cuda-runtime-cu12-12.4.127 nvidia-cudnn-cu12-9.1.0.70 nvidia-cufft-cu12-11.2.1.3 nvidia-curand-cu12-10.3.5.147 nvidia-cusolver-cu12-11.6.1.9 nvidia-cusparse-cu12-12.3.1.170 nvidia-cusparselt-cu12-0.6.2 nvidia-nccl-cu12-2.21.5 nvidia-nvjitlink-cu12-12.4.127 nvidia-nvtx-cu12-12.4.127 pathos-0.3.2 safetensors-0.6.2 sagemaker-2.250.0\u001b[39;00m\n",
      "\u001b[0;31mModuleNotFoundError\u001b[0m: No module named 'transformers'"
     ]
    }
   ],
   "source": [
    "import transformers, accelerate, datasets, sagemaker\n",
    "print(transformers.__version__, transformers.__version__=='4.55.2')\n",
    "#accelerate-1.10.0 datasets-4.0.0 dill-0.3.8 fsspec-2025.3.0 hf-xet-1.1.7 huggingface-hub-0.34.4 multiprocess-0.70.16 nvidia-cublas-cu12-12.4.5.8 nvidia-cuda-cupti-cu12-12.4.127 nvidia-cuda-nvrtc-cu12-12.4.127 nvidia-cuda-runtime-cu12-12.4.127 nvidia-cudnn-cu12-9.1.0.70 nvidia-cufft-cu12-11.2.1.3 nvidia-curand-cu12-10.3.5.147 nvidia-cusolver-cu12-11.6.1.9 nvidia-cusparse-cu12-12.3.1.170 nvidia-cusparselt-cu12-0.6.2 nvidia-nccl-cu12-2.21.5 nvidia-nvjitlink-cu12-12.4.127 nvidia-nvtx-cu12-12.4.127 pathos-0.3.2 safetensors-0.6.2 sagemaker-2.250.0"
   ]
  }
 ],
 "metadata": {
  "kernelspec": {
   "display_name": "conda_pytorch_p310",
   "language": "python",
   "name": "conda_pytorch_p310"
  },
  "language_info": {
   "codemirror_mode": {
    "name": "ipython",
    "version": 3
   },
   "file_extension": ".py",
   "mimetype": "text/x-python",
   "name": "python",
   "nbconvert_exporter": "python",
   "pygments_lexer": "ipython3",
   "version": "3.10.14"
  }
 },
 "nbformat": 4,
 "nbformat_minor": 5
}
