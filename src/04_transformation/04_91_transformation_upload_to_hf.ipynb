{
 "cells": [
  {
   "cell_type": "code",
   "execution_count": null,
   "id": "a75e04f7",
   "metadata": {
    "execution": {
     "iopub.execute_input": "2025-09-04T15:32:20.997385Z",
     "iopub.status.busy": "2025-09-04T15:32:20.997080Z",
     "iopub.status.idle": "2025-09-04T15:32:21.007297Z",
     "shell.execute_reply": "2025-09-05T16:14:52.970999Z2025-09-04T15:32:21.006477Z",
     "shell.execute_reply.started": "2025-09-04T15:32:20.997359Z"
    },
    "nbdime-conflicts": {
     "local_diff": [
      {
       "diff": [
        {
         "diff": [
          {
           "key": 0,
           "op": "addrange",
           "valuelist": [
            "2025-09-05T16:14:47.293970Z"
           ]
          },
          {
           "key": 0,
           "length": 1,
           "op": "removerange"
          }
         ],
         "key": "iopub.execute_input",
         "op": "patch"
        },
        {
         "diff": [
          {
           "key": 0,
           "op": "addrange",
           "valuelist": [
            "2025-09-05T16:14:47.293456Z"
           ]
          },
          {
           "key": 0,
           "length": 1,
           "op": "removerange"
          }
         ],
         "key": "iopub.status.busy",
         "op": "patch"
        },
        {
         "diff": [
          {
           "key": 0,
           "op": "addrange",
           "valuelist": [
            "2025-09-05T16:14:52.971881Z"
           ]
          },
          {
           "key": 0,
           "length": 1,
           "op": "removerange"
          }
         ],
         "key": "iopub.status.idle",
         "op": "patch"
        },
        {
         "diff": [
          {
           "key": 0,
           "length": 1,
           "op": "removerange"
          }
         ],
         "key": "shell.execute_reply",
         "op": "patch"
        },
        {
         "diff": [
          {
           "key": 0,
           "op": "addrange",
           "valuelist": [
            "2025-09-05T16:14:47.293940Z"
           ]
          },
          {
           "key": 0,
           "length": 1,
           "op": "removerange"
          }
         ],
         "key": "shell.execute_reply.started",
         "op": "patch"
        }
       ],
       "key": "execution",
       "op": "patch"
      }
     ],
     "remote_diff": [
      {
       "diff": [
        {
         "diff": [
          {
           "key": 0,
           "op": "addrange",
           "valuelist": [
            "2025-09-04T23:43:32.010233Z"
           ]
          },
          {
           "key": 0,
           "length": 1,
           "op": "removerange"
          }
         ],
         "key": "iopub.execute_input",
         "op": "patch"
        },
        {
         "diff": [
          {
           "key": 0,
           "op": "addrange",
           "valuelist": [
            "2025-09-04T23:43:32.009951Z"
           ]
          },
          {
           "key": 0,
           "length": 1,
           "op": "removerange"
          }
         ],
         "key": "iopub.status.busy",
         "op": "patch"
        },
        {
         "diff": [
          {
           "key": 0,
           "op": "addrange",
           "valuelist": [
            "2025-09-04T23:43:32.021388Z"
           ]
          },
          {
           "key": 0,
           "length": 1,
           "op": "removerange"
          }
         ],
         "key": "iopub.status.idle",
         "op": "patch"
        },
        {
         "diff": [
          {
           "diff": [
            {
             "key": 11,
             "op": "addrange",
             "valuelist": "23:43"
            },
            {
             "key": 11,
             "length": 2,
             "op": "removerange"
            },
            {
             "key": 16,
             "length": 3,
             "op": "removerange"
            },
            {
             "key": 21,
             "op": "addrange",
             "valuelist": "2"
            },
            {
             "key": 23,
             "op": "addrange",
             "valuelist": "11"
            },
            {
             "key": 23,
             "length": 3,
             "op": "removerange"
            }
           ],
           "key": 0,
           "op": "patch"
          }
         ],
         "key": "shell.execute_reply",
         "op": "patch"
        },
        {
         "diff": [
          {
           "key": 0,
           "op": "addrange",
           "valuelist": [
            "2025-09-04T23:43:32.010209Z"
           ]
          },
          {
           "key": 0,
           "length": 1,
           "op": "removerange"
          }
         ],
         "key": "shell.execute_reply.started",
         "op": "patch"
        }
       ],
       "key": "execution",
       "op": "patch"
      }
     ]
    }
   },
   "outputs": [
    {
     "name": "stdout",
     "output_type": "stream",
     "text": [
      "sagemaker.config INFO - Not applying SDK defaults from location: /etc/xdg/sagemaker/config.yaml\n",
      "sagemaker.config INFO - Not applying SDK defaults from location: /home/sagemaker-user/.config/sagemaker/config.yaml\n",
      "config.py loaded: v0.1\n",
      "utils.py loaded: v0.2.12\n",
      "utils.py loaded: v0.2.12\n",
      "config.py loaded: v0.1\n"
     ]
    }
   ],
   "source": [
    "import requests\n",
    "import boto3\n",
    "import json\n",
    "import os\n",
    "import sys\n",
    "import argparse\n",
    "import importlib\n",
    "import transformers\n",
    "import torch\n",
    "import pathlib\n",
    "import awswrangler as wr\n",
    "from IPython.display import display\n",
    "from sagemaker.huggingface.processing import HuggingFaceProcessor\n",
    "from sagemaker.sklearn.processing import SKLearnProcessor\n",
    "from sagemaker.processing import FrameworkProcessor\n",
    "from sagemaker.sklearn.estimator import SKLearn\n",
    "from sagemaker.workflow.steps import ProcessingStep\n",
    "from sagemaker.workflow.pipeline_context import PipelineSession\n",
    "from sagemaker.processing import ProcessingInput, ProcessingOutput\n",
    "from sagemaker.session import get_execution_role\n",
    "from huggingface_hub import create_repo, upload_file, login\n",
    "from tqdm.auto import tqdm\n",
    "import fsspec\n",
    "\n",
    "\n",
    "# Adding ../01_modules or ./01_modules to the system path so that we can load modules from \n",
    "# there as well\n",
    "if '__file__' in globals():\n",
    "    script_dir = pathlib.Path(__file__).parent.resolve()\n",
    "else:\n",
    "    script_dir = pathlib.Path().absolute()\n",
    "modules_path_in_dev = os.path.abspath(os.path.join(script_dir, '..', '01_modules'))\n",
    "modules_path_in_prod = os.path.abspath(os.path.join(script_dir, '01_modules'))\n",
    "if os.path.exists(modules_path_in_dev):\n",
    "    sys.path.append(modules_path_in_dev)\n",
    "if os.path.exists(modules_path_in_prod):\n",
    "    sys.path.append(modules_path_in_prod)\n",
    "\n",
    "\n",
    "# # Jupyter only reads a local module the first time after \n",
    "# # kernel start. Re-running a cell with \n",
    "# # \"from mymodulename import *\" would not change\n",
    "# # anything, even if the imported module has since changed.\n",
    "# # As a workaround, we need to directly load the module, \n",
    "# # use importlib.reload to reload it and then import * \n",
    "import utils\n",
    "_ = importlib.reload(utils)\n",
    "import config\n",
    "_ = importlib.reload(config) \n"
   ]
  },
  {
   "cell_type": "code",
   "execution_count": null,
   "id": "88819f14",
   "metadata": {
    "execution": {
     "iopub.execute_input": "2025-09-03T23:32:19.350239Z",
     "iopub.status.busy": "2025-09-03T23:32:19.349932Z",
     "iopub.status.idle": "2025-09-03T23:32:19.366590Z",
     "shell.execute_reply": "2025-09-03T23:32:19.365636Z",
     "shell.execute_reply.started": "2025-09-05T16:14:52.973198Z2025-09-03T23:32:19.350212Z"
    },
    "nbdime-conflicts": {
     "local_diff": [
      {
       "diff": [
        {
         "diff": [
          {
           "key": 0,
           "length": 1,
           "op": "removerange"
          }
         ],
         "key": "iopub.execute_input",
         "op": "patch"
        },
        {
         "diff": [
          {
           "key": 0,
           "length": 1,
           "op": "removerange"
          }
         ],
         "key": "iopub.status.busy",
         "op": "patch"
        },
        {
         "diff": [
          {
           "key": 0,
           "length": 1,
           "op": "removerange"
          }
         ],
         "key": "iopub.status.idle",
         "op": "patch"
        },
        {
         "diff": [
          {
           "key": 0,
           "length": 1,
           "op": "removerange"
          }
         ],
         "key": "shell.execute_reply",
         "op": "patch"
        },
        {
         "diff": [
          {
           "key": 0,
           "length": 1,
           "op": "removerange"
          }
         ],
         "key": "shell.execute_reply.started",
         "op": "patch"
        }
       ],
       "key": "execution",
       "op": "patch"
      }
     ],
     "remote_diff": [
      {
       "diff": [
        {
         "diff": [
          {
           "diff": [
            {
             "key": 9,
             "op": "addrange",
             "valuelist": "4"
            },
            {
             "key": 9,
             "length": 1,
             "op": "removerange"
            },
            {
             "key": 14,
             "op": "addrange",
             "valuelist": "4"
            },
            {
             "key": 15,
             "length": 1,
             "op": "removerange"
            },
            {
             "key": 17,
             "op": "addrange",
             "valuelist": "34"
            },
            {
             "key": 17,
             "length": 2,
             "op": "removerange"
            },
            {
             "key": 22,
             "length": 2,
             "op": "removerange"
            },
            {
             "key": 25,
             "op": "addrange",
             "valuelist": "117"
            },
            {
             "key": 25,
             "length": 1,
             "op": "removerange"
            }
           ],
           "key": 0,
           "op": "patch"
          }
         ],
         "key": "iopub.execute_input",
         "op": "patch"
        },
        {
         "diff": [
          {
           "diff": [
            {
             "key": 9,
             "op": "addrange",
             "valuelist": "4"
            },
            {
             "key": 9,
             "length": 1,
             "op": "removerange"
            },
            {
             "key": 14,
             "op": "addrange",
             "valuelist": "4"
            },
            {
             "key": 15,
             "length": 1,
             "op": "removerange"
            },
            {
             "key": 17,
             "op": "addrange",
             "valuelist": "34"
            },
            {
             "key": 17,
             "length": 2,
             "op": "removerange"
            },
            {
             "key": 21,
             "op": "addrange",
             "valuelist": "528"
            },
            {
             "key": 23,
             "length": 3,
             "op": "removerange"
            }
           ],
           "key": 0,
           "op": "patch"
          }
         ],
         "key": "iopub.status.busy",
         "op": "patch"
        },
        {
         "diff": [
          {
           "diff": [
            {
             "key": 9,
             "op": "addrange",
             "valuelist": "4"
            },
            {
             "key": 9,
             "length": 1,
             "op": "removerange"
            },
            {
             "key": 14,
             "op": "addrange",
             "valuelist": "4"
            },
            {
             "key": 15,
             "length": 1,
             "op": "removerange"
            },
            {
             "key": 17,
             "op": "addrange",
             "valuelist": "34"
            },
            {
             "key": 17,
             "length": 2,
             "op": "removerange"
            },
            {
             "key": 23,
             "op": "addrange",
             "valuelist": "161"
            },
            {
             "key": 23,
             "length": 3,
             "op": "removerange"
            }
           ],
           "key": 0,
           "op": "patch"
          }
         ],
         "key": "iopub.status.idle",
         "op": "patch"
        },
        {
         "diff": [
          {
           "diff": [
            {
             "key": 9,
             "op": "addrange",
             "valuelist": "4"
            },
            {
             "key": 9,
             "length": 1,
             "op": "removerange"
            },
            {
             "key": 14,
             "op": "addrange",
             "valuelist": "4"
            },
            {
             "key": 15,
             "length": 1,
             "op": "removerange"
            },
            {
             "key": 17,
             "op": "addrange",
             "valuelist": "34"
            },
            {
             "key": 17,
             "length": 2,
             "op": "removerange"
            },
            {
             "key": 23,
             "op": "addrange",
             "valuelist": "481"
            },
            {
             "key": 23,
             "length": 3,
             "op": "removerange"
            }
           ],
           "key": 0,
           "op": "patch"
          }
         ],
         "key": "shell.execute_reply",
         "op": "patch"
        },
        {
         "diff": [
          {
           "diff": [
            {
             "key": 9,
             "op": "addrange",
             "valuelist": "4"
            },
            {
             "key": 9,
             "length": 1,
             "op": "removerange"
            },
            {
             "key": 14,
             "op": "addrange",
             "valuelist": "4"
            },
            {
             "key": 15,
             "length": 1,
             "op": "removerange"
            },
            {
             "key": 17,
             "op": "addrange",
             "valuelist": "34"
            },
            {
             "key": 17,
             "length": 2,
             "op": "removerange"
            },
            {
             "key": 22,
             "op": "addrange",
             "valuelist": "3"
            },
            {
             "key": 23,
             "op": "addrange",
             "valuelist": "96"
            },
            {
             "key": 23,
             "length": 3,
             "op": "removerange"
            }
           ],
           "key": 0,
           "op": "patch"
          }
         ],
         "key": "shell.execute_reply.started",
         "op": "patch"
        }
       ],
       "key": "execution",
       "op": "patch"
      }
     ]
    }
   },
   "outputs": [
    {
     "name": "stderr",
     "output_type": "stream",
     "text": [
      "<<<<<<< local\n"
     ]
    },
    {
     "data": {
      "application/vnd.jupyter.widget-view+json": {
       "model_id": "631b9abb62eb418caf28475936ba5c62",
       "version_major": 2,
       "version_minor": 0
      },
      "text/plain": [
       "VBox(children=(HTML(value='<center> <img\\nsrc=https://huggingface.co/front/assets/huggingface_logo-noborder.sv…"
      ]
     },
     "metadata": {},
     "output_type": "display_data"
    },
    {
     "name": "stderr",
     "output_type": "stream",
     "text": [
      "=======\n"
     ]
    },
    {
     "data": {
      "application/vnd.jupyter.widget-view+json": {
       "model_id": "cbf893d5bbbd4fea867273e71169efbb",
       "version_major": 2,
       "version_minor": 0
      },
      "text/plain": [
       "VBox(children=(HTML(value='<center> <img\\nsrc=https://huggingface.co/front/assets/huggingface_logo-noborder.sv…"
      ]
     },
     "metadata": {},
     "output_type": "display_data"
    },
    {
     "name": "stderr",
     "output_type": "stream",
     "text": [
      ">>>>>>> remote\n"
     ]
    }
   ],
   "source": [
    "login()"
   ]
  },
  {
   "cell_type": "code",
   "execution_count": 8,
   "id": "53eedcea",
   "metadata": {
    "execution": {
     "iopub.execute_input": "2025-09-04T23:43:54.210430Z",
     "iopub.status.busy": "2025-09-04T23:43:54.210164Z",
     "iopub.status.idle": "2025-09-04T23:43:54.214212Z",
     "shell.execute_reply": "2025-09-04T23:43:54.213425Z",
     "shell.execute_reply.started": "2025-09-04T23:43:54.210409Z"
    },
    "scrolled": true
   },
   "outputs": [],
   "source": [
    "_ = \"\"\"\n",
    "fs = fsspec.filesystem('s3')  # s3 / gcs / abfs / adl / oci / ...\n",
    "subset = 'test'\n",
    "data_dir = f's3://sagemaker-research-methodology-extraction/01_data/03_core/unified_works_{subset}/'\n",
    "pattern = '*'\n",
    "data_files = fs.glob(data_dir + pattern)\n",
    "\n",
    "utils.ensure_path('temp_files')\n",
    "# create_repo(destination_dataset, repo_type='dataset')\n",
    "for data_file in tqdm(fs.glob(data_dir + pattern)):\n",
    "    with fs.open(data_file, 'rb') as fileobj:\n",
    "        path_in_repo = f'data/{subset}/{data_file[len(data_dir):]}'\n",
    "        print(path_in_repo, type(fileobj))\n",
    "        upload_file(\n",
    "            path_or_fileobj=fileobj,\n",
    "            path_in_repo=path_in_repo,\n",
    "            repo_id=destination_dataset,\n",
    "            repo_type=\"dataset\",\n",
    "        )\n",
    "\"\"\""
   ]
  },
  {
   "cell_type": "code",
   "execution_count": 9,
   "id": "926b4a3c",
   "metadata": {
    "execution": {
     "iopub.execute_input": "2025-09-04T23:43:56.731634Z",
     "iopub.status.busy": "2025-09-04T23:43:56.731343Z",
     "iopub.status.idle": "2025-09-04T23:43:56.734685Z",
     "shell.execute_reply": "2025-09-04T23:43:56.734072Z",
     "shell.execute_reply.started": "2025-09-04T23:43:56.731597Z"
    }
   },
   "outputs": [],
   "source": [
    "_ = \"\"\"\n",
    "import smart_open\n",
    "\n",
    "bucket = 'sagemaker-research-methodology-extraction'\n",
    "subset = 'test'\n",
    "data_dir = f's3://sagemaker-research-methodology-extraction/01_data/03_core/unified_works_{subset}/'\n",
    "for key, content in s3.iter_bucket(bucket, prefix=data_dir, workers=8):\n",
    "\"\"\""
   ]
  },
  {
   "cell_type": "code",
   "execution_count": 10,
   "id": "dc81d5c4",
   "metadata": {
    "execution": {
     "iopub.execute_input": "2025-09-04T23:44:12.204747Z",
     "iopub.status.busy": "2025-09-04T23:44:12.204483Z",
     "iopub.status.idle": "2025-09-05T00:00:14.162976Z",
     "shell.execute_reply": "2025-09-05T00:00:14.162404Z",
     "shell.execute_reply.started": "2025-09-04T23:44:12.204727Z"
    },
    "scrolled": true
   },
   "outputs": [
    {
     "name": "stdout",
     "output_type": "stream",
     "text": [
      " :: :: TIMELOGGER STARTED :: | since_start: 0.00 seconds | since_last: 0.00 seconds :: \n",
      " :: START subset: train | since_start: 0.00 seconds | since_last: 0.00 seconds :: \n",
      "ensure_path(temp_files)\n",
      "path_in_repo data/train/20250904_234024_00199_vpvv2_03ed3d45-472c-46a2-89d2-f53707dacbe5.parquet\n"
     ]
    },
    {
     "data": {
      "application/vnd.jupyter.widget-view+json": {
       "model_id": "cc8af520622a4e36b5a73317ccd4603e",
       "version_major": 2,
       "version_minor": 0
      },
      "text/plain": [
       "Processing Files (0 / 0)                : |          |  0.00B /  0.00B            "
      ]
     },
     "metadata": {},
     "output_type": "display_data"
    },
    {
     "data": {
      "application/vnd.jupyter.widget-view+json": {
       "model_id": "0539cfa84fb24832a92e8fada12add4e",
       "version_major": 2,
       "version_minor": 0
      },
      "text/plain": [
       "New Data Upload                         : |          |  0.00B /  0.00B            "
      ]
     },
     "metadata": {},
     "output_type": "display_data"
    },
    {
     "data": {
      "application/vnd.jupyter.widget-view+json": {
       "model_id": "e5d9c67aeea444a99de8d29d3d8c2c43",
       "version_major": 2,
       "version_minor": 0
      },
      "text/plain": [
       "  ...3ed3d45-472c-46a2-89d2-f53707dacbe5:   0%|          |  524kB /  154MB            "
      ]
     },
     "metadata": {},
     "output_type": "display_data"
    },
    {
     "name": "stdout",
     "output_type": "stream",
     "text": [
      "path_in_repo data/train/20250904_234024_00199_vpvv2_04d8da34-f1d0-4570-9f40-9d5aef04cc2f.parquet\n"
     ]
    },
    {
     "data": {
      "application/vnd.jupyter.widget-view+json": {
       "model_id": "40698d0ac0384597beb64a3a8c792e2a",
       "version_major": 2,
       "version_minor": 0
      },
      "text/plain": [
       "Processing Files (0 / 0)                : |          |  0.00B /  0.00B            "
      ]
     },
     "metadata": {},
     "output_type": "display_data"
    },
    {
     "data": {
      "application/vnd.jupyter.widget-view+json": {
       "model_id": "2e1f8a48ceb040d486eabef62b4f0f45",
       "version_major": 2,
       "version_minor": 0
      },
      "text/plain": [
       "New Data Upload                         : |          |  0.00B /  0.00B            "
      ]
     },
     "metadata": {},
     "output_type": "display_data"
    },
    {
     "data": {
      "application/vnd.jupyter.widget-view+json": {
       "model_id": "2e288bc4db7f4dd8b28cb0f52a5cc4b4",
       "version_major": 2,
       "version_minor": 0
      },
      "text/plain": [
       "  ...4d8da34-f1d0-4570-9f40-9d5aef04cc2f:   2%|2         | 3.67MB /  155MB            "
      ]
     },
     "metadata": {},
     "output_type": "display_data"
    },
    {
     "name": "stdout",
     "output_type": "stream",
     "text": [
      "path_in_repo data/train/20250904_234024_00199_vpvv2_053fac04-dd34-4aef-95d6-04b34fcbf590.parquet\n"
     ]
    },
    {
     "data": {
      "application/vnd.jupyter.widget-view+json": {
       "model_id": "debbb7fcdc6f4a9e80089b8f6f1fc004",
       "version_major": 2,
       "version_minor": 0
      },
      "text/plain": [
       "Processing Files (0 / 0)                : |          |  0.00B /  0.00B            "
      ]
     },
     "metadata": {},
     "output_type": "display_data"
    },
    {
     "data": {
      "application/vnd.jupyter.widget-view+json": {
       "model_id": "c14710ec7b0443479f5ac545b681e3e6",
       "version_major": 2,
       "version_minor": 0
      },
      "text/plain": [
       "New Data Upload                         : |          |  0.00B /  0.00B            "
      ]
     },
     "metadata": {},
     "output_type": "display_data"
    },
    {
     "data": {
      "application/vnd.jupyter.widget-view+json": {
       "model_id": "ed9cbfaa401f49d98bbc2905d4e6cd0d",
       "version_major": 2,
       "version_minor": 0
      },
      "text/plain": [
       "  ...53fac04-dd34-4aef-95d6-04b34fcbf590:   2%|2         | 3.67MB /  157MB            "
      ]
     },
     "metadata": {},
     "output_type": "display_data"
    },
    {
     "name": "stdout",
     "output_type": "stream",
     "text": [
      "path_in_repo data/train/20250904_234024_00199_vpvv2_0fb7ddc7-15e1-46c2-8764-ba9b062e31dc.parquet\n"
     ]
    },
    {
     "data": {
      "application/vnd.jupyter.widget-view+json": {
       "model_id": "b7960cc77e684e6b94829b42ba6507c1",
       "version_major": 2,
       "version_minor": 0
      },
      "text/plain": [
       "Processing Files (0 / 0)                : |          |  0.00B /  0.00B            "
      ]
     },
     "metadata": {},
     "output_type": "display_data"
    },
    {
     "data": {
      "application/vnd.jupyter.widget-view+json": {
       "model_id": "c9d6e2ee6a6a4dbea8db780b863a6c9a",
       "version_major": 2,
       "version_minor": 0
      },
      "text/plain": [
       "New Data Upload                         : |          |  0.00B /  0.00B            "
      ]
     },
     "metadata": {},
     "output_type": "display_data"
    },
    {
     "data": {
      "application/vnd.jupyter.widget-view+json": {
       "model_id": "74704a82a4f74cb789b193aac3b5f055",
       "version_major": 2,
       "version_minor": 0
      },
      "text/plain": [
       "  ...fb7ddc7-15e1-46c2-8764-ba9b062e31dc:   2%|2         | 3.67MB /  158MB            "
      ]
     },
     "metadata": {},
     "output_type": "display_data"
    },
    {
     "name": "stdout",
     "output_type": "stream",
     "text": [
      "path_in_repo data/train/20250904_234024_00199_vpvv2_15f74530-b14c-45b3-9880-39d5720074b4.parquet\n"
     ]
    },
    {
     "data": {
      "application/vnd.jupyter.widget-view+json": {
       "model_id": "495ad804e4c642999464d5df72b62b4e",
       "version_major": 2,
       "version_minor": 0
      },
      "text/plain": [
       "Processing Files (0 / 0)                : |          |  0.00B /  0.00B            "
      ]
     },
     "metadata": {},
     "output_type": "display_data"
    },
    {
     "data": {
      "application/vnd.jupyter.widget-view+json": {
       "model_id": "a804000994444f3ebd6afa7f851af44a",
       "version_major": 2,
       "version_minor": 0
      },
      "text/plain": [
       "New Data Upload                         : |          |  0.00B /  0.00B            "
      ]
     },
     "metadata": {},
     "output_type": "display_data"
    },
    {
     "data": {
      "application/vnd.jupyter.widget-view+json": {
       "model_id": "63a8184551e74af4815bc130d6f3ea91",
       "version_major": 2,
       "version_minor": 0
      },
      "text/plain": [
       "  ...5f74530-b14c-45b3-9880-39d5720074b4:   2%|2         | 3.67MB /  155MB            "
      ]
     },
     "metadata": {},
     "output_type": "display_data"
    },
    {
     "name": "stdout",
     "output_type": "stream",
     "text": [
      "path_in_repo data/train/20250904_234024_00199_vpvv2_3949d684-e65e-42d5-9976-4fbd9f48090d.parquet\n"
     ]
    },
    {
     "data": {
      "application/vnd.jupyter.widget-view+json": {
       "model_id": "79cc7c3c7ebd47b5b3b7f36906d92b2d",
       "version_major": 2,
       "version_minor": 0
      },
      "text/plain": [
       "Processing Files (0 / 0)                : |          |  0.00B /  0.00B            "
      ]
     },
     "metadata": {},
     "output_type": "display_data"
    },
    {
     "data": {
      "application/vnd.jupyter.widget-view+json": {
       "model_id": "16d06bf1294646fe8ca1a5dbfa7b3c97",
       "version_major": 2,
       "version_minor": 0
      },
      "text/plain": [
       "New Data Upload                         : |          |  0.00B /  0.00B            "
      ]
     },
     "metadata": {},
     "output_type": "display_data"
    },
    {
     "data": {
      "application/vnd.jupyter.widget-view+json": {
       "model_id": "2b16570c3aa84d5eb40f7903bf0735fd",
       "version_major": 2,
       "version_minor": 0
      },
      "text/plain": [
       "  ...949d684-e65e-42d5-9976-4fbd9f48090d:   2%|2         | 3.67MB /  157MB            "
      ]
     },
     "metadata": {},
     "output_type": "display_data"
    },
    {
     "name": "stdout",
     "output_type": "stream",
     "text": [
      "path_in_repo data/train/20250904_234024_00199_vpvv2_3b922df1-ccbf-4853-9b31-d58de8130ed9.parquet\n"
     ]
    },
    {
     "data": {
      "application/vnd.jupyter.widget-view+json": {
       "model_id": "7b06811533d24533a42b29b3c25192cc",
       "version_major": 2,
       "version_minor": 0
      },
      "text/plain": [
       "Processing Files (0 / 0)                : |          |  0.00B /  0.00B            "
      ]
     },
     "metadata": {},
     "output_type": "display_data"
    },
    {
     "data": {
      "application/vnd.jupyter.widget-view+json": {
       "model_id": "1a5099dbfd4d43ca95cd204656f91830",
       "version_major": 2,
       "version_minor": 0
      },
      "text/plain": [
       "New Data Upload                         : |          |  0.00B /  0.00B            "
      ]
     },
     "metadata": {},
     "output_type": "display_data"
    },
    {
     "data": {
      "application/vnd.jupyter.widget-view+json": {
       "model_id": "394ec6669b644c159d0d9644a9bffcdd",
       "version_major": 2,
       "version_minor": 0
      },
      "text/plain": [
       "  ...b922df1-ccbf-4853-9b31-d58de8130ed9:   2%|2         | 3.67MB /  166MB            "
      ]
     },
     "metadata": {},
     "output_type": "display_data"
    },
    {
     "name": "stdout",
     "output_type": "stream",
     "text": [
      "path_in_repo data/train/20250904_234024_00199_vpvv2_6038e1cf-eb4e-4e8a-8a76-38bc943a82a5.parquet\n"
     ]
    },
    {
     "data": {
      "application/vnd.jupyter.widget-view+json": {
       "model_id": "442cfa09497848ce8e1703bd1455ff1a",
       "version_major": 2,
       "version_minor": 0
      },
      "text/plain": [
       "Processing Files (0 / 0)                : |          |  0.00B /  0.00B            "
      ]
     },
     "metadata": {},
     "output_type": "display_data"
    },
    {
     "data": {
      "application/vnd.jupyter.widget-view+json": {
       "model_id": "c9fe1e66ce8940039d6140952eaf0846",
       "version_major": 2,
       "version_minor": 0
      },
      "text/plain": [
       "New Data Upload                         : |          |  0.00B /  0.00B            "
      ]
     },
     "metadata": {},
     "output_type": "display_data"
    },
    {
     "data": {
      "application/vnd.jupyter.widget-view+json": {
       "model_id": "c730fb67a3f3454f9ff5614c50927e65",
       "version_major": 2,
       "version_minor": 0
      },
      "text/plain": [
       "  ...038e1cf-eb4e-4e8a-8a76-38bc943a82a5:   2%|2         | 3.67MB /  160MB            "
      ]
     },
     "metadata": {},
     "output_type": "display_data"
    },
    {
     "name": "stdout",
     "output_type": "stream",
     "text": [
      "path_in_repo data/train/20250904_234024_00199_vpvv2_759e7a36-104b-498f-b3e5-46dab315e706.parquet\n"
     ]
    },
    {
     "data": {
      "application/vnd.jupyter.widget-view+json": {
       "model_id": "62aa7c9da1c74549ac8d4663a7a4631f",
       "version_major": 2,
       "version_minor": 0
      },
      "text/plain": [
       "Processing Files (0 / 0)                : |          |  0.00B /  0.00B            "
      ]
     },
     "metadata": {},
     "output_type": "display_data"
    },
    {
     "data": {
      "application/vnd.jupyter.widget-view+json": {
       "model_id": "f2ad9dd7fd8a49d5a9679365dc07abf5",
       "version_major": 2,
       "version_minor": 0
      },
      "text/plain": [
       "New Data Upload                         : |          |  0.00B /  0.00B            "
      ]
     },
     "metadata": {},
     "output_type": "display_data"
    },
    {
     "data": {
      "application/vnd.jupyter.widget-view+json": {
       "model_id": "1ea902adda1243228cff673585188f4a",
       "version_major": 2,
       "version_minor": 0
      },
      "text/plain": [
       "  ...59e7a36-104b-498f-b3e5-46dab315e706:   2%|2         | 3.67MB /  165MB            "
      ]
     },
     "metadata": {},
     "output_type": "display_data"
    },
    {
     "name": "stdout",
     "output_type": "stream",
     "text": [
      "path_in_repo data/train/20250904_234024_00199_vpvv2_7f04693e-0341-4cd0-9f3a-6fdc0570470d.parquet\n"
     ]
    },
    {
     "data": {
      "application/vnd.jupyter.widget-view+json": {
       "model_id": "04a5ee9872bf4ac7ab6505cff23a98bb",
       "version_major": 2,
       "version_minor": 0
      },
      "text/plain": [
       "Processing Files (0 / 0)                : |          |  0.00B /  0.00B            "
      ]
     },
     "metadata": {},
     "output_type": "display_data"
    },
    {
     "data": {
      "application/vnd.jupyter.widget-view+json": {
       "model_id": "20131c200c704887bcc53453fdfaf600",
       "version_major": 2,
       "version_minor": 0
      },
      "text/plain": [
       "New Data Upload                         : |          |  0.00B /  0.00B            "
      ]
     },
     "metadata": {},
     "output_type": "display_data"
    },
    {
     "data": {
      "application/vnd.jupyter.widget-view+json": {
       "model_id": "b333e4718e3b430c86e6bc54371607bb",
       "version_major": 2,
       "version_minor": 0
      },
      "text/plain": [
       "  ...f04693e-0341-4cd0-9f3a-6fdc0570470d:   2%|2         | 3.67MB /  158MB            "
      ]
     },
     "metadata": {},
     "output_type": "display_data"
    },
    {
     "name": "stdout",
     "output_type": "stream",
     "text": [
      "path_in_repo data/train/20250904_234024_00199_vpvv2_82628148-b844-4de2-b0cf-4d1ebab730a5.parquet\n"
     ]
    },
    {
     "data": {
      "application/vnd.jupyter.widget-view+json": {
       "model_id": "7f499a9a4a23405287a72b49a10e0561",
       "version_major": 2,
       "version_minor": 0
      },
      "text/plain": [
       "Processing Files (0 / 0)                : |          |  0.00B /  0.00B            "
      ]
     },
     "metadata": {},
     "output_type": "display_data"
    },
    {
     "data": {
      "application/vnd.jupyter.widget-view+json": {
       "model_id": "fa7b64b0ca9545928f72e8371b072cb2",
       "version_major": 2,
       "version_minor": 0
      },
      "text/plain": [
       "New Data Upload                         : |          |  0.00B /  0.00B            "
      ]
     },
     "metadata": {},
     "output_type": "display_data"
    },
    {
     "data": {
      "application/vnd.jupyter.widget-view+json": {
       "model_id": "20f6429c360e4edeb40d026b5d4831e7",
       "version_major": 2,
       "version_minor": 0
      },
      "text/plain": [
       "  ...2628148-b844-4de2-b0cf-4d1ebab730a5:   2%|2         | 3.67MB /  157MB            "
      ]
     },
     "metadata": {},
     "output_type": "display_data"
    },
    {
     "name": "stdout",
     "output_type": "stream",
     "text": [
      "path_in_repo data/train/20250904_234024_00199_vpvv2_98e7da39-504f-4845-a204-98467490112b.parquet\n"
     ]
    },
    {
     "data": {
      "application/vnd.jupyter.widget-view+json": {
       "model_id": "6b9b420567194ebebb4823dbf0f2c7c6",
       "version_major": 2,
       "version_minor": 0
      },
      "text/plain": [
       "Processing Files (0 / 0)                : |          |  0.00B /  0.00B            "
      ]
     },
     "metadata": {},
     "output_type": "display_data"
    },
    {
     "data": {
      "application/vnd.jupyter.widget-view+json": {
       "model_id": "130a5e2659af4042a7293d38bb37f1d7",
       "version_major": 2,
       "version_minor": 0
      },
      "text/plain": [
       "New Data Upload                         : |          |  0.00B /  0.00B            "
      ]
     },
     "metadata": {},
     "output_type": "display_data"
    },
    {
     "data": {
      "application/vnd.jupyter.widget-view+json": {
       "model_id": "5564c3fa32e54917a2e9333df6bb2c35",
       "version_major": 2,
       "version_minor": 0
      },
      "text/plain": [
       "  ...8e7da39-504f-4845-a204-98467490112b:   2%|2         | 3.67MB /  158MB            "
      ]
     },
     "metadata": {},
     "output_type": "display_data"
    },
    {
     "name": "stdout",
     "output_type": "stream",
     "text": [
      "path_in_repo data/train/20250904_234024_00199_vpvv2_995cdbf0-6025-44de-836b-13160d13cfe8.parquet\n"
     ]
    },
    {
     "data": {
      "application/vnd.jupyter.widget-view+json": {
       "model_id": "95b51c1306a04191b99b7fe70b748da8",
       "version_major": 2,
       "version_minor": 0
      },
      "text/plain": [
       "Processing Files (0 / 0)                : |          |  0.00B /  0.00B            "
      ]
     },
     "metadata": {},
     "output_type": "display_data"
    },
    {
     "data": {
      "application/vnd.jupyter.widget-view+json": {
       "model_id": "81e9de6ac8ab4756ae2a82bd54b6ee85",
       "version_major": 2,
       "version_minor": 0
      },
      "text/plain": [
       "New Data Upload                         : |          |  0.00B /  0.00B            "
      ]
     },
     "metadata": {},
     "output_type": "display_data"
    },
    {
     "data": {
      "application/vnd.jupyter.widget-view+json": {
       "model_id": "aff433ed220d48aabf8b4cb2482f5456",
       "version_major": 2,
       "version_minor": 0
      },
      "text/plain": [
       "  ...95cdbf0-6025-44de-836b-13160d13cfe8:   0%|          |  131kB /  155MB            "
      ]
     },
     "metadata": {},
     "output_type": "display_data"
    },
    {
     "name": "stdout",
     "output_type": "stream",
     "text": [
      "path_in_repo data/train/20250904_234024_00199_vpvv2_a196f10b-1288-46df-a3c8-e1ccc6394036.parquet\n"
     ]
    },
    {
     "data": {
      "application/vnd.jupyter.widget-view+json": {
       "model_id": "97e4c2e498d4477299816a4b5abd54cf",
       "version_major": 2,
       "version_minor": 0
      },
      "text/plain": [
       "Processing Files (0 / 0)                : |          |  0.00B /  0.00B            "
      ]
     },
     "metadata": {},
     "output_type": "display_data"
    },
    {
     "data": {
      "application/vnd.jupyter.widget-view+json": {
       "model_id": "ca48156a485a41ea8bb9f303edfa5d9a",
       "version_major": 2,
       "version_minor": 0
      },
      "text/plain": [
       "New Data Upload                         : |          |  0.00B /  0.00B            "
      ]
     },
     "metadata": {},
     "output_type": "display_data"
    },
    {
     "data": {
      "application/vnd.jupyter.widget-view+json": {
       "model_id": "f942f9fd3c2f4a7c86f18603ab00f85a",
       "version_major": 2,
       "version_minor": 0
      },
      "text/plain": [
       "  ...196f10b-1288-46df-a3c8-e1ccc6394036:   2%|2         | 3.67MB /  157MB            "
      ]
     },
     "metadata": {},
     "output_type": "display_data"
    },
    {
     "name": "stdout",
     "output_type": "stream",
     "text": [
      "path_in_repo data/train/20250904_234024_00199_vpvv2_a7713f50-59d2-47e9-a384-436450090f9f.parquet\n"
     ]
    },
    {
     "data": {
      "application/vnd.jupyter.widget-view+json": {
       "model_id": "af159fac53f647d286d3a2bcd165954b",
       "version_major": 2,
       "version_minor": 0
      },
      "text/plain": [
       "Processing Files (0 / 0)                : |          |  0.00B /  0.00B            "
      ]
     },
     "metadata": {},
     "output_type": "display_data"
    },
    {
     "data": {
      "application/vnd.jupyter.widget-view+json": {
       "model_id": "cdabaa009b4d4ddbb0f2a02798162759",
       "version_major": 2,
       "version_minor": 0
      },
      "text/plain": [
       "New Data Upload                         : |          |  0.00B /  0.00B            "
      ]
     },
     "metadata": {},
     "output_type": "display_data"
    },
    {
     "data": {
      "application/vnd.jupyter.widget-view+json": {
       "model_id": "6c39e779d6ee4836a1e964450549ed55",
       "version_major": 2,
       "version_minor": 0
      },
      "text/plain": [
       "  ...7713f50-59d2-47e9-a384-436450090f9f:   2%|2         | 3.67MB /  157MB            "
      ]
     },
     "metadata": {},
     "output_type": "display_data"
    },
    {
     "name": "stdout",
     "output_type": "stream",
     "text": [
      "path_in_repo data/train/20250904_234024_00199_vpvv2_a963ac94-b644-49e3-9b60-1ac02ea4406d.parquet\n"
     ]
    },
    {
     "data": {
      "application/vnd.jupyter.widget-view+json": {
       "model_id": "c1f03f723d934eca998fbc228acb6e7a",
       "version_major": 2,
       "version_minor": 0
      },
      "text/plain": [
       "Processing Files (0 / 0)                : |          |  0.00B /  0.00B            "
      ]
     },
     "metadata": {},
     "output_type": "display_data"
    },
    {
     "data": {
      "application/vnd.jupyter.widget-view+json": {
       "model_id": "d755cdbf31424baa8d0954f8f3df3f35",
       "version_major": 2,
       "version_minor": 0
      },
      "text/plain": [
       "New Data Upload                         : |          |  0.00B /  0.00B            "
      ]
     },
     "metadata": {},
     "output_type": "display_data"
    },
    {
     "data": {
      "application/vnd.jupyter.widget-view+json": {
       "model_id": "53d459abdf8c4ea19647dac736651a48",
       "version_major": 2,
       "version_minor": 0
      },
      "text/plain": [
       "  ...963ac94-b644-49e3-9b60-1ac02ea4406d:   2%|2         | 3.67MB /  155MB            "
      ]
     },
     "metadata": {},
     "output_type": "display_data"
    },
    {
     "name": "stdout",
     "output_type": "stream",
     "text": [
      "path_in_repo data/train/20250904_234024_00199_vpvv2_ba800907-5676-4d28-aee3-bd8e294f1019.parquet\n"
     ]
    },
    {
     "data": {
      "application/vnd.jupyter.widget-view+json": {
       "model_id": "d55dcb92a6124fa99c0b8b95dcdcf015",
       "version_major": 2,
       "version_minor": 0
      },
      "text/plain": [
       "Processing Files (0 / 0)                : |          |  0.00B /  0.00B            "
      ]
     },
     "metadata": {},
     "output_type": "display_data"
    },
    {
     "data": {
      "application/vnd.jupyter.widget-view+json": {
       "model_id": "323fe529ccdf4719bdff74cccae3a6d0",
       "version_major": 2,
       "version_minor": 0
      },
      "text/plain": [
       "New Data Upload                         : |          |  0.00B /  0.00B            "
      ]
     },
     "metadata": {},
     "output_type": "display_data"
    },
    {
     "data": {
      "application/vnd.jupyter.widget-view+json": {
       "model_id": "8e120db9ce3b4d7e85263f7d5bbc1233",
       "version_major": 2,
       "version_minor": 0
      },
      "text/plain": [
       "  ...a800907-5676-4d28-aee3-bd8e294f1019:   2%|2         | 3.67MB /  158MB            "
      ]
     },
     "metadata": {},
     "output_type": "display_data"
    },
    {
     "name": "stdout",
     "output_type": "stream",
     "text": [
      "path_in_repo data/train/20250904_234024_00199_vpvv2_be15828a-e778-4125-8d14-7c647535756a.parquet\n"
     ]
    },
    {
     "data": {
      "application/vnd.jupyter.widget-view+json": {
       "model_id": "65bf57b704b04c87b9c5bd1ca4f3375d",
       "version_major": 2,
       "version_minor": 0
      },
      "text/plain": [
       "Processing Files (0 / 0)                : |          |  0.00B /  0.00B            "
      ]
     },
     "metadata": {},
     "output_type": "display_data"
    },
    {
     "data": {
      "application/vnd.jupyter.widget-view+json": {
       "model_id": "d55f1932f76249ed908825906ecb888e",
       "version_major": 2,
       "version_minor": 0
      },
      "text/plain": [
       "New Data Upload                         : |          |  0.00B /  0.00B            "
      ]
     },
     "metadata": {},
     "output_type": "display_data"
    },
    {
     "data": {
      "application/vnd.jupyter.widget-view+json": {
       "model_id": "9726653da23540e9abdf8fd5e08b005f",
       "version_major": 2,
       "version_minor": 0
      },
      "text/plain": [
       "  ...e15828a-e778-4125-8d14-7c647535756a:   2%|2         | 3.67MB /  157MB            "
      ]
     },
     "metadata": {},
     "output_type": "display_data"
    },
    {
     "name": "stdout",
     "output_type": "stream",
     "text": [
      "path_in_repo data/train/20250904_234024_00199_vpvv2_c5183ca4-55fa-4c8f-87ef-e593ca4c573e.parquet\n"
     ]
    },
    {
     "data": {
      "application/vnd.jupyter.widget-view+json": {
       "model_id": "755a63eb373e431cb430dd4f68bbb682",
       "version_major": 2,
       "version_minor": 0
      },
      "text/plain": [
       "Processing Files (0 / 0)                : |          |  0.00B /  0.00B            "
      ]
     },
     "metadata": {},
     "output_type": "display_data"
    },
    {
     "data": {
      "application/vnd.jupyter.widget-view+json": {
       "model_id": "1b0df4fb9f984a1caabff708027927f9",
       "version_major": 2,
       "version_minor": 0
      },
      "text/plain": [
       "New Data Upload                         : |          |  0.00B /  0.00B            "
      ]
     },
     "metadata": {},
     "output_type": "display_data"
    },
    {
     "data": {
      "application/vnd.jupyter.widget-view+json": {
       "model_id": "48073aaa168946edb4b46531f14b715b",
       "version_major": 2,
       "version_minor": 0
      },
      "text/plain": [
       "  ...5183ca4-55fa-4c8f-87ef-e593ca4c573e:   2%|2         | 3.67MB /  155MB            "
      ]
     },
     "metadata": {},
     "output_type": "display_data"
    },
    {
     "name": "stdout",
     "output_type": "stream",
     "text": [
      "path_in_repo data/train/20250904_234024_00199_vpvv2_c926669b-7e59-4826-b31a-b5deae125981.parquet\n"
     ]
    },
    {
     "data": {
      "application/vnd.jupyter.widget-view+json": {
       "model_id": "5d60bb7021274db7a5fd5c6f9932236b",
       "version_major": 2,
       "version_minor": 0
      },
      "text/plain": [
       "Processing Files (0 / 0)                : |          |  0.00B /  0.00B            "
      ]
     },
     "metadata": {},
     "output_type": "display_data"
    },
    {
     "data": {
      "application/vnd.jupyter.widget-view+json": {
       "model_id": "16d28cee1e864e5e9b3f40a5fbc42814",
       "version_major": 2,
       "version_minor": 0
      },
      "text/plain": [
       "New Data Upload                         : |          |  0.00B /  0.00B            "
      ]
     },
     "metadata": {},
     "output_type": "display_data"
    },
    {
     "data": {
      "application/vnd.jupyter.widget-view+json": {
       "model_id": "96d45432d0a74e86b017d89df568144f",
       "version_major": 2,
       "version_minor": 0
      },
      "text/plain": [
       "  ...926669b-7e59-4826-b31a-b5deae125981:   2%|2         | 3.67MB /  152MB            "
      ]
     },
     "metadata": {},
     "output_type": "display_data"
    },
    {
     "name": "stdout",
     "output_type": "stream",
     "text": [
      "path_in_repo data/train/20250904_234024_00199_vpvv2_e11d9808-a1fa-4ffe-ad59-6aff27f542d9.parquet\n"
     ]
    },
    {
     "data": {
      "application/vnd.jupyter.widget-view+json": {
       "model_id": "0bd6bbd901d142a58d190188356cfa58",
       "version_major": 2,
       "version_minor": 0
      },
      "text/plain": [
       "Processing Files (0 / 0)                : |          |  0.00B /  0.00B            "
      ]
     },
     "metadata": {},
     "output_type": "display_data"
    },
    {
     "data": {
      "application/vnd.jupyter.widget-view+json": {
       "model_id": "aa9bf684b6544c1196d307ac8dfb23f0",
       "version_major": 2,
       "version_minor": 0
      },
      "text/plain": [
       "New Data Upload                         : |          |  0.00B /  0.00B            "
      ]
     },
     "metadata": {},
     "output_type": "display_data"
    },
    {
     "data": {
      "application/vnd.jupyter.widget-view+json": {
       "model_id": "b73788032d48433b94ae4299aff158de",
       "version_major": 2,
       "version_minor": 0
      },
      "text/plain": [
       "  ...11d9808-a1fa-4ffe-ad59-6aff27f542d9:   2%|2         | 3.67MB /  153MB            "
      ]
     },
     "metadata": {},
     "output_type": "display_data"
    },
    {
     "name": "stdout",
     "output_type": "stream",
     "text": [
      "path_in_repo data/train/20250904_234024_00199_vpvv2_e500a727-f3fe-4af6-8b30-5a366e907b69.parquet\n"
     ]
    },
    {
     "data": {
      "application/vnd.jupyter.widget-view+json": {
       "model_id": "2eda26d8b3bd484d91ae00f0f76366a9",
       "version_major": 2,
       "version_minor": 0
      },
      "text/plain": [
       "Processing Files (0 / 0)                : |          |  0.00B /  0.00B            "
      ]
     },
     "metadata": {},
     "output_type": "display_data"
    },
    {
     "data": {
      "application/vnd.jupyter.widget-view+json": {
       "model_id": "559c079300e14564b3c29174fa28c07d",
       "version_major": 2,
       "version_minor": 0
      },
      "text/plain": [
       "New Data Upload                         : |          |  0.00B /  0.00B            "
      ]
     },
     "metadata": {},
     "output_type": "display_data"
    },
    {
     "data": {
      "application/vnd.jupyter.widget-view+json": {
       "model_id": "1718a33cd5c44949b3a22dd7f39ffb6c",
       "version_major": 2,
       "version_minor": 0
      },
      "text/plain": [
       "  ...500a727-f3fe-4af6-8b30-5a366e907b69:   2%|2         | 3.67MB /  155MB            "
      ]
     },
     "metadata": {},
     "output_type": "display_data"
    },
    {
     "name": "stdout",
     "output_type": "stream",
     "text": [
      " :: END subset: train | since_start: 6.0 minutes, 26.34 seconds | since_last: 6.0 minutes, 26.34 seconds :: \n",
      " :: START subset: test | since_start: 6.0 minutes, 26.34 seconds | since_last: 0.00 seconds :: \n",
      "ensure_path(temp_files)\n",
      "path_in_repo data/test/20250904_234106_00279_uggtr_0047265d-cb10-4193-b934-761de9c15dd5.parquet\n"
     ]
    },
    {
     "data": {
      "application/vnd.jupyter.widget-view+json": {
       "model_id": "4d9e3d0e5f3546bba031e6ad5b31a112",
       "version_major": 2,
       "version_minor": 0
      },
      "text/plain": [
       "Processing Files (0 / 0)                : |          |  0.00B /  0.00B            "
      ]
     },
     "metadata": {},
     "output_type": "display_data"
    },
    {
     "data": {
      "application/vnd.jupyter.widget-view+json": {
       "model_id": "7914f522cf07476291633dbaf409a9b3",
       "version_major": 2,
       "version_minor": 0
      },
      "text/plain": [
       "New Data Upload                         : |          |  0.00B /  0.00B            "
      ]
     },
     "metadata": {},
     "output_type": "display_data"
    },
    {
     "data": {
      "application/vnd.jupyter.widget-view+json": {
       "model_id": "dcdc17828f8c43b7869d340c039bb204",
       "version_major": 2,
       "version_minor": 0
      },
      "text/plain": [
       "  ...047265d-cb10-4193-b934-761de9c15dd5:  17%|#6        | 3.67MB / 21.8MB            "
      ]
     },
     "metadata": {},
     "output_type": "display_data"
    },
    {
     "name": "stdout",
     "output_type": "stream",
     "text": [
      "path_in_repo data/test/20250904_234106_00279_uggtr_0e0ffbe0-11ae-4b2c-9fda-c548472802b2.parquet\n"
     ]
    },
    {
     "data": {
      "application/vnd.jupyter.widget-view+json": {
       "model_id": "91047ea457404885843f1cece8051e56",
       "version_major": 2,
       "version_minor": 0
      },
      "text/plain": [
       "Processing Files (0 / 0)                : |          |  0.00B /  0.00B            "
      ]
     },
     "metadata": {},
     "output_type": "display_data"
    },
    {
     "data": {
      "application/vnd.jupyter.widget-view+json": {
       "model_id": "571215fa90f54e6294460838e6ca5c0e",
       "version_major": 2,
       "version_minor": 0
      },
      "text/plain": [
       "New Data Upload                         : |          |  0.00B /  0.00B            "
      ]
     },
     "metadata": {},
     "output_type": "display_data"
    },
    {
     "data": {
      "application/vnd.jupyter.widget-view+json": {
       "model_id": "147413ae917b41aca0ce72f8cd8a5f4e",
       "version_major": 2,
       "version_minor": 0
      },
      "text/plain": [
       "  ...e0ffbe0-11ae-4b2c-9fda-c548472802b2:  16%|#6        | 3.67MB / 22.5MB            "
      ]
     },
     "metadata": {},
     "output_type": "display_data"
    },
    {
     "name": "stdout",
     "output_type": "stream",
     "text": [
      "path_in_repo data/test/20250904_234106_00279_uggtr_24860b0a-2255-4219-a071-33ab587aa107.parquet\n"
     ]
    },
    {
     "data": {
      "application/vnd.jupyter.widget-view+json": {
       "model_id": "f87e25ea04c64936852c17a3b4a888b4",
       "version_major": 2,
       "version_minor": 0
      },
      "text/plain": [
       "Processing Files (0 / 0)                : |          |  0.00B /  0.00B            "
      ]
     },
     "metadata": {},
     "output_type": "display_data"
    },
    {
     "data": {
      "application/vnd.jupyter.widget-view+json": {
       "model_id": "a2ac34ffdc7742bea60216f6b2e3f15d",
       "version_major": 2,
       "version_minor": 0
      },
      "text/plain": [
       "New Data Upload                         : |          |  0.00B /  0.00B            "
      ]
     },
     "metadata": {},
     "output_type": "display_data"
    },
    {
     "data": {
      "application/vnd.jupyter.widget-view+json": {
       "model_id": "6905679dab7c49c28860518b28dab933",
       "version_major": 2,
       "version_minor": 0
      },
      "text/plain": [
       "  ...4860b0a-2255-4219-a071-33ab587aa107:  17%|#7        | 3.68MB / 21.4MB            "
      ]
     },
     "metadata": {},
     "output_type": "display_data"
    },
    {
     "name": "stdout",
     "output_type": "stream",
     "text": [
      "path_in_repo data/test/20250904_234106_00279_uggtr_2cb21912-20a1-490c-b158-2e23af73456e.parquet\n"
     ]
    },
    {
     "data": {
      "application/vnd.jupyter.widget-view+json": {
       "model_id": "c4a0ab9c43a54cf9aeaced5f53f7771a",
       "version_major": 2,
       "version_minor": 0
      },
      "text/plain": [
       "Processing Files (0 / 0)                : |          |  0.00B /  0.00B            "
      ]
     },
     "metadata": {},
     "output_type": "display_data"
    },
    {
     "data": {
      "application/vnd.jupyter.widget-view+json": {
       "model_id": "16e4b4ffade04f22ae17c89df80ff952",
       "version_major": 2,
       "version_minor": 0
      },
      "text/plain": [
       "New Data Upload                         : |          |  0.00B /  0.00B            "
      ]
     },
     "metadata": {},
     "output_type": "display_data"
    },
    {
     "data": {
      "application/vnd.jupyter.widget-view+json": {
       "model_id": "ed3e849400db40f886bf78f76bddf2d6",
       "version_major": 2,
       "version_minor": 0
      },
      "text/plain": [
       "  ...cb21912-20a1-490c-b158-2e23af73456e:  20%|##        | 3.67MB / 18.3MB            "
      ]
     },
     "metadata": {},
     "output_type": "display_data"
    },
    {
     "name": "stdout",
     "output_type": "stream",
     "text": [
      "path_in_repo data/test/20250904_234106_00279_uggtr_44761367-f198-4188-9981-c66b9bab051e.parquet\n"
     ]
    },
    {
     "data": {
      "application/vnd.jupyter.widget-view+json": {
       "model_id": "641a884087c7424ea8d87f780a5f352c",
       "version_major": 2,
       "version_minor": 0
      },
      "text/plain": [
       "Processing Files (0 / 0)                : |          |  0.00B /  0.00B            "
      ]
     },
     "metadata": {},
     "output_type": "display_data"
    },
    {
     "data": {
      "application/vnd.jupyter.widget-view+json": {
       "model_id": "878424de3463468388d77132efae41e7",
       "version_major": 2,
       "version_minor": 0
      },
      "text/plain": [
       "New Data Upload                         : |          |  0.00B /  0.00B            "
      ]
     },
     "metadata": {},
     "output_type": "display_data"
    },
    {
     "data": {
      "application/vnd.jupyter.widget-view+json": {
       "model_id": "c102fbeaff0d43739d27dd2a67d5b8fa",
       "version_major": 2,
       "version_minor": 0
      },
      "text/plain": [
       "  ...4761367-f198-4188-9981-c66b9bab051e:  21%|##1       | 3.67MB / 17.4MB            "
      ]
     },
     "metadata": {},
     "output_type": "display_data"
    },
    {
     "name": "stdout",
     "output_type": "stream",
     "text": [
      "path_in_repo data/test/20250904_234106_00279_uggtr_58468fc1-7d10-4f42-9d3c-876a034922b7.parquet\n"
     ]
    },
    {
     "data": {
      "application/vnd.jupyter.widget-view+json": {
       "model_id": "edf20df83cfe4787ba02cfe0c9d1cdb0",
       "version_major": 2,
       "version_minor": 0
      },
      "text/plain": [
       "Processing Files (0 / 0)                : |          |  0.00B /  0.00B            "
      ]
     },
     "metadata": {},
     "output_type": "display_data"
    },
    {
     "data": {
      "application/vnd.jupyter.widget-view+json": {
       "model_id": "c54e0d69cd16446792d50f916079808f",
       "version_major": 2,
       "version_minor": 0
      },
      "text/plain": [
       "New Data Upload                         : |          |  0.00B /  0.00B            "
      ]
     },
     "metadata": {},
     "output_type": "display_data"
    },
    {
     "data": {
      "application/vnd.jupyter.widget-view+json": {
       "model_id": "6cff6d589a0e42858f5d93a3c6f946e1",
       "version_major": 2,
       "version_minor": 0
      },
      "text/plain": [
       "  ...8468fc1-7d10-4f42-9d3c-876a034922b7:  19%|#8        | 3.67MB / 19.5MB            "
      ]
     },
     "metadata": {},
     "output_type": "display_data"
    },
    {
     "name": "stdout",
     "output_type": "stream",
     "text": [
      "path_in_repo data/test/20250904_234106_00279_uggtr_5cc88fae-6466-4568-b4ca-3ad31ef34109.parquet\n"
     ]
    },
    {
     "data": {
      "application/vnd.jupyter.widget-view+json": {
       "model_id": "52f0ce5dedbf492c90f579f5414c544d",
       "version_major": 2,
       "version_minor": 0
      },
      "text/plain": [
       "Processing Files (0 / 0)                : |          |  0.00B /  0.00B            "
      ]
     },
     "metadata": {},
     "output_type": "display_data"
    },
    {
     "data": {
      "application/vnd.jupyter.widget-view+json": {
       "model_id": "a24c02f8b20a4ae7a10f48745baff564",
       "version_major": 2,
       "version_minor": 0
      },
      "text/plain": [
       "New Data Upload                         : |          |  0.00B /  0.00B            "
      ]
     },
     "metadata": {},
     "output_type": "display_data"
    },
    {
     "data": {
      "application/vnd.jupyter.widget-view+json": {
       "model_id": "ccec9f17a58c4cb2b47c890e76fb4e9b",
       "version_major": 2,
       "version_minor": 0
      },
      "text/plain": [
       "  ...cc88fae-6466-4568-b4ca-3ad31ef34109:  18%|#8        | 3.67MB / 20.2MB            "
      ]
     },
     "metadata": {},
     "output_type": "display_data"
    },
    {
     "name": "stdout",
     "output_type": "stream",
     "text": [
      "path_in_repo data/test/20250904_234106_00279_uggtr_6b538d6a-47d3-4ca9-9449-f59f22d17326.parquet\n"
     ]
    },
    {
     "data": {
      "application/vnd.jupyter.widget-view+json": {
       "model_id": "d7b1e71e4f684aa1a6c54d95ab53f0d7",
       "version_major": 2,
       "version_minor": 0
      },
      "text/plain": [
       "Processing Files (0 / 0)                : |          |  0.00B /  0.00B            "
      ]
     },
     "metadata": {},
     "output_type": "display_data"
    },
    {
     "data": {
      "application/vnd.jupyter.widget-view+json": {
       "model_id": "4cb77c3c06e7443780696321e2c1f09d",
       "version_major": 2,
       "version_minor": 0
      },
      "text/plain": [
       "New Data Upload                         : |          |  0.00B /  0.00B            "
      ]
     },
     "metadata": {},
     "output_type": "display_data"
    },
    {
     "data": {
      "application/vnd.jupyter.widget-view+json": {
       "model_id": "4e2bc74b312641afaed199ac3b68fb3a",
       "version_major": 2,
       "version_minor": 0
      },
      "text/plain": [
       "  ...b538d6a-47d3-4ca9-9449-f59f22d17326:  17%|#6        | 3.67MB / 21.7MB            "
      ]
     },
     "metadata": {},
     "output_type": "display_data"
    },
    {
     "name": "stdout",
     "output_type": "stream",
     "text": [
      "path_in_repo data/test/20250904_234106_00279_uggtr_6f793f72-5205-4a3c-8071-d894761752f8.parquet\n"
     ]
    },
    {
     "data": {
      "application/vnd.jupyter.widget-view+json": {
       "model_id": "f6488989f37247d9b141bafbe43f3771",
       "version_major": 2,
       "version_minor": 0
      },
      "text/plain": [
       "Processing Files (0 / 0)                : |          |  0.00B /  0.00B            "
      ]
     },
     "metadata": {},
     "output_type": "display_data"
    },
    {
     "data": {
      "application/vnd.jupyter.widget-view+json": {
       "model_id": "70d113c93cab41649f1655e0e7f33dc1",
       "version_major": 2,
       "version_minor": 0
      },
      "text/plain": [
       "New Data Upload                         : |          |  0.00B /  0.00B            "
      ]
     },
     "metadata": {},
     "output_type": "display_data"
    },
    {
     "data": {
      "application/vnd.jupyter.widget-view+json": {
       "model_id": "e251bcd63ba642d7be022e12b571ed26",
       "version_major": 2,
       "version_minor": 0
      },
      "text/plain": [
       "  ...f793f72-5205-4a3c-8071-d894761752f8:  20%|##        | 3.67MB / 18.0MB            "
      ]
     },
     "metadata": {},
     "output_type": "display_data"
    },
    {
     "name": "stdout",
     "output_type": "stream",
     "text": [
      "path_in_repo data/test/20250904_234106_00279_uggtr_75be7cdb-a866-4386-80de-17d51046e80b.parquet\n"
     ]
    },
    {
     "data": {
      "application/vnd.jupyter.widget-view+json": {
       "model_id": "cfcea9b9ba014ceeb59d2aa560678988",
       "version_major": 2,
       "version_minor": 0
      },
      "text/plain": [
       "Processing Files (0 / 0)                : |          |  0.00B /  0.00B            "
      ]
     },
     "metadata": {},
     "output_type": "display_data"
    },
    {
     "data": {
      "application/vnd.jupyter.widget-view+json": {
       "model_id": "a2f20e35bf5f4713bea67130df0274bd",
       "version_major": 2,
       "version_minor": 0
      },
      "text/plain": [
       "New Data Upload                         : |          |  0.00B /  0.00B            "
      ]
     },
     "metadata": {},
     "output_type": "display_data"
    },
    {
     "data": {
      "application/vnd.jupyter.widget-view+json": {
       "model_id": "f719e1c25ddd4654936641519d0efbcc",
       "version_major": 2,
       "version_minor": 0
      },
      "text/plain": [
       "  ...5be7cdb-a866-4386-80de-17d51046e80b:  22%|##1       | 3.67MB / 17.0MB            "
      ]
     },
     "metadata": {},
     "output_type": "display_data"
    },
    {
     "name": "stdout",
     "output_type": "stream",
     "text": [
      "path_in_repo data/test/20250904_234106_00279_uggtr_78468385-bb35-443b-a221-0918eeae503f.parquet\n"
     ]
    },
    {
     "data": {
      "application/vnd.jupyter.widget-view+json": {
       "model_id": "d57f5b74027849dd977ce52b9b0342fa",
       "version_major": 2,
       "version_minor": 0
      },
      "text/plain": [
       "Processing Files (0 / 0)                : |          |  0.00B /  0.00B            "
      ]
     },
     "metadata": {},
     "output_type": "display_data"
    },
    {
     "data": {
      "application/vnd.jupyter.widget-view+json": {
       "model_id": "bf03787d405f40ce83e3a28cf14c0b7b",
       "version_major": 2,
       "version_minor": 0
      },
      "text/plain": [
       "New Data Upload                         : |          |  0.00B /  0.00B            "
      ]
     },
     "metadata": {},
     "output_type": "display_data"
    },
    {
     "data": {
      "application/vnd.jupyter.widget-view+json": {
       "model_id": "63ce91869eae4139a944e5216baedc5e",
       "version_major": 2,
       "version_minor": 0
      },
      "text/plain": [
       "  ...8468385-bb35-443b-a221-0918eeae503f:  19%|#9        | 3.67MB / 19.2MB            "
      ]
     },
     "metadata": {},
     "output_type": "display_data"
    },
    {
     "name": "stdout",
     "output_type": "stream",
     "text": [
      "path_in_repo data/test/20250904_234106_00279_uggtr_7ee73fea-7782-4f6e-83f7-300743b102ad.parquet\n"
     ]
    },
    {
     "data": {
      "application/vnd.jupyter.widget-view+json": {
       "model_id": "fe14a2f995cd43c6af5308ca48c31d30",
       "version_major": 2,
       "version_minor": 0
      },
      "text/plain": [
       "Processing Files (0 / 0)                : |          |  0.00B /  0.00B            "
      ]
     },
     "metadata": {},
     "output_type": "display_data"
    },
    {
     "data": {
      "application/vnd.jupyter.widget-view+json": {
       "model_id": "975b5ad96694485aa60bde8970baa4da",
       "version_major": 2,
       "version_minor": 0
      },
      "text/plain": [
       "New Data Upload                         : |          |  0.00B /  0.00B            "
      ]
     },
     "metadata": {},
     "output_type": "display_data"
    },
    {
     "data": {
      "application/vnd.jupyter.widget-view+json": {
       "model_id": "cc1e5ea66ac14312a1f203b64613e249",
       "version_major": 2,
       "version_minor": 0
      },
      "text/plain": [
       "  ...ee73fea-7782-4f6e-83f7-300743b102ad:  17%|#6        | 3.67MB / 22.1MB            "
      ]
     },
     "metadata": {},
     "output_type": "display_data"
    },
    {
     "name": "stdout",
     "output_type": "stream",
     "text": [
      "path_in_repo data/test/20250904_234106_00279_uggtr_80178432-5db3-46c9-a9eb-5fa20fa21cf9.parquet\n"
     ]
    },
    {
     "data": {
      "application/vnd.jupyter.widget-view+json": {
       "model_id": "a8e02256e1fa4111b3c3b56637665696",
       "version_major": 2,
       "version_minor": 0
      },
      "text/plain": [
       "Processing Files (0 / 0)                : |          |  0.00B /  0.00B            "
      ]
     },
     "metadata": {},
     "output_type": "display_data"
    },
    {
     "data": {
      "application/vnd.jupyter.widget-view+json": {
       "model_id": "626ee1f15c0d4d088f3ca3d19299b2e7",
       "version_major": 2,
       "version_minor": 0
      },
      "text/plain": [
       "New Data Upload                         : |          |  0.00B /  0.00B            "
      ]
     },
     "metadata": {},
     "output_type": "display_data"
    },
    {
     "data": {
      "application/vnd.jupyter.widget-view+json": {
       "model_id": "594a045fcd6e4b988285a71169cb0556",
       "version_major": 2,
       "version_minor": 0
      },
      "text/plain": [
       "  ...0178432-5db3-46c9-a9eb-5fa20fa21cf9:   3%|2         |  524kB / 20.7MB            "
      ]
     },
     "metadata": {},
     "output_type": "display_data"
    },
    {
     "name": "stdout",
     "output_type": "stream",
     "text": [
      "path_in_repo data/test/20250904_234106_00279_uggtr_a5c371a6-f195-4f3c-a697-5430c1238be6.parquet\n"
     ]
    },
    {
     "data": {
      "application/vnd.jupyter.widget-view+json": {
       "model_id": "9973927c2dfb4b64b7d2e01a2f6d1bc5",
       "version_major": 2,
       "version_minor": 0
      },
      "text/plain": [
       "Processing Files (0 / 0)                : |          |  0.00B /  0.00B            "
      ]
     },
     "metadata": {},
     "output_type": "display_data"
    },
    {
     "data": {
      "application/vnd.jupyter.widget-view+json": {
       "model_id": "245fa935c694450b9a9d8b2d3d043bbf",
       "version_major": 2,
       "version_minor": 0
      },
      "text/plain": [
       "New Data Upload                         : |          |  0.00B /  0.00B            "
      ]
     },
     "metadata": {},
     "output_type": "display_data"
    },
    {
     "data": {
      "application/vnd.jupyter.widget-view+json": {
       "model_id": "e81b0db5f07a4c6d8c920b6b8a88f0c2",
       "version_major": 2,
       "version_minor": 0
      },
      "text/plain": [
       "  ...5c371a6-f195-4f3c-a697-5430c1238be6:  18%|#8        | 3.67MB / 20.3MB            "
      ]
     },
     "metadata": {},
     "output_type": "display_data"
    },
    {
     "name": "stdout",
     "output_type": "stream",
     "text": [
      "path_in_repo data/test/20250904_234106_00279_uggtr_a6186b47-d241-47e1-a39f-baaa18ca3738.parquet\n"
     ]
    },
    {
     "data": {
      "application/vnd.jupyter.widget-view+json": {
       "model_id": "51d29fb6d4604fbd867c65f836319211",
       "version_major": 2,
       "version_minor": 0
      },
      "text/plain": [
       "Processing Files (0 / 0)                : |          |  0.00B /  0.00B            "
      ]
     },
     "metadata": {},
     "output_type": "display_data"
    },
    {
     "data": {
      "application/vnd.jupyter.widget-view+json": {
       "model_id": "dfb1b92892404371bfb75dfb53e8bb0e",
       "version_major": 2,
       "version_minor": 0
      },
      "text/plain": [
       "New Data Upload                         : |          |  0.00B /  0.00B            "
      ]
     },
     "metadata": {},
     "output_type": "display_data"
    },
    {
     "data": {
      "application/vnd.jupyter.widget-view+json": {
       "model_id": "34e3a13222774bfe91839a3b739bad1e",
       "version_major": 2,
       "version_minor": 0
      },
      "text/plain": [
       "  ...6186b47-d241-47e1-a39f-baaa18ca3738:  20%|##        | 3.67MB / 18.2MB            "
      ]
     },
     "metadata": {},
     "output_type": "display_data"
    },
    {
     "name": "stdout",
     "output_type": "stream",
     "text": [
      "path_in_repo data/test/20250904_234106_00279_uggtr_aebce86c-564b-45f5-9872-d248270da0f5.parquet\n"
     ]
    },
    {
     "data": {
      "application/vnd.jupyter.widget-view+json": {
       "model_id": "48b3883dca3d482781d9c7f7f7add516",
       "version_major": 2,
       "version_minor": 0
      },
      "text/plain": [
       "Processing Files (0 / 0)                : |          |  0.00B /  0.00B            "
      ]
     },
     "metadata": {},
     "output_type": "display_data"
    },
    {
     "data": {
      "application/vnd.jupyter.widget-view+json": {
       "model_id": "11527f557d0440b2adbc99341faf7ffc",
       "version_major": 2,
       "version_minor": 0
      },
      "text/plain": [
       "New Data Upload                         : |          |  0.00B /  0.00B            "
      ]
     },
     "metadata": {},
     "output_type": "display_data"
    },
    {
     "data": {
      "application/vnd.jupyter.widget-view+json": {
       "model_id": "566c95b84b264942b9604bc07f9d7d92",
       "version_major": 2,
       "version_minor": 0
      },
      "text/plain": [
       "  ...ebce86c-564b-45f5-9872-d248270da0f5:  19%|#8        | 3.67MB / 19.4MB            "
      ]
     },
     "metadata": {},
     "output_type": "display_data"
    },
    {
     "name": "stdout",
     "output_type": "stream",
     "text": [
      "path_in_repo data/test/20250904_234106_00279_uggtr_b2ddadc6-f0e3-44d5-9e32-9a9a963c4dab.parquet\n"
     ]
    },
    {
     "data": {
      "application/vnd.jupyter.widget-view+json": {
       "model_id": "3b0aadcf87a249188e85115e485f349b",
       "version_major": 2,
       "version_minor": 0
      },
      "text/plain": [
       "Processing Files (0 / 0)                : |          |  0.00B /  0.00B            "
      ]
     },
     "metadata": {},
     "output_type": "display_data"
    },
    {
     "data": {
      "application/vnd.jupyter.widget-view+json": {
       "model_id": "36e2774685a24448a4bfedf9ff0d048c",
       "version_major": 2,
       "version_minor": 0
      },
      "text/plain": [
       "New Data Upload                         : |          |  0.00B /  0.00B            "
      ]
     },
     "metadata": {},
     "output_type": "display_data"
    },
    {
     "data": {
      "application/vnd.jupyter.widget-view+json": {
       "model_id": "3139e968fdc744a0b39823f75d24b262",
       "version_major": 2,
       "version_minor": 0
      },
      "text/plain": [
       "  ...2ddadc6-f0e3-44d5-9e32-9a9a963c4dab:  18%|#7        | 3.67MB / 20.7MB            "
      ]
     },
     "metadata": {},
     "output_type": "display_data"
    },
    {
     "name": "stdout",
     "output_type": "stream",
     "text": [
      "path_in_repo data/test/20250904_234106_00279_uggtr_b740708c-20d4-40e2-8db2-3866eac95bd2.parquet\n"
     ]
    },
    {
     "data": {
      "application/vnd.jupyter.widget-view+json": {
       "model_id": "0d9f6e8663ca42bd9b7e0d401cd145fd",
       "version_major": 2,
       "version_minor": 0
      },
      "text/plain": [
       "Processing Files (0 / 0)                : |          |  0.00B /  0.00B            "
      ]
     },
     "metadata": {},
     "output_type": "display_data"
    },
    {
     "data": {
      "application/vnd.jupyter.widget-view+json": {
       "model_id": "d5eeecacf17f4b9d89e542c4d67b1735",
       "version_major": 2,
       "version_minor": 0
      },
      "text/plain": [
       "New Data Upload                         : |          |  0.00B /  0.00B            "
      ]
     },
     "metadata": {},
     "output_type": "display_data"
    },
    {
     "data": {
      "application/vnd.jupyter.widget-view+json": {
       "model_id": "d991f3f0e49247188699ddf8ba526614",
       "version_major": 2,
       "version_minor": 0
      },
      "text/plain": [
       "  ...740708c-20d4-40e2-8db2-3866eac95bd2:  20%|##        | 3.67MB / 18.1MB            "
      ]
     },
     "metadata": {},
     "output_type": "display_data"
    },
    {
     "name": "stdout",
     "output_type": "stream",
     "text": [
      "path_in_repo data/test/20250904_234106_00279_uggtr_c26e1ff6-ae65-4b5c-b843-ab4a761c466c.parquet\n"
     ]
    },
    {
     "data": {
      "application/vnd.jupyter.widget-view+json": {
       "model_id": "ebcaf666ada54456ae72ea11b78ff49b",
       "version_major": 2,
       "version_minor": 0
      },
      "text/plain": [
       "Processing Files (0 / 0)                : |          |  0.00B /  0.00B            "
      ]
     },
     "metadata": {},
     "output_type": "display_data"
    },
    {
     "data": {
      "application/vnd.jupyter.widget-view+json": {
       "model_id": "3fc9e38caf034dd6ba09c6ac9d0ac904",
       "version_major": 2,
       "version_minor": 0
      },
      "text/plain": [
       "New Data Upload                         : |          |  0.00B /  0.00B            "
      ]
     },
     "metadata": {},
     "output_type": "display_data"
    },
    {
     "data": {
      "application/vnd.jupyter.widget-view+json": {
       "model_id": "4866d61864cb4903bef9ffb4bb865967",
       "version_major": 2,
       "version_minor": 0
      },
      "text/plain": [
       "  ...26e1ff6-ae65-4b5c-b843-ab4a761c466c:  20%|#9        | 3.67MB / 18.5MB            "
      ]
     },
     "metadata": {},
     "output_type": "display_data"
    },
    {
     "name": "stdout",
     "output_type": "stream",
     "text": [
      "path_in_repo data/test/20250904_234106_00279_uggtr_cbb2cd11-c393-4ed8-a488-cf3a5506e704.parquet\n"
     ]
    },
    {
     "data": {
      "application/vnd.jupyter.widget-view+json": {
       "model_id": "17ef14f16455457c808fc8429693a473",
       "version_major": 2,
       "version_minor": 0
      },
      "text/plain": [
       "Processing Files (0 / 0)                : |          |  0.00B /  0.00B            "
      ]
     },
     "metadata": {},
     "output_type": "display_data"
    },
    {
     "data": {
      "application/vnd.jupyter.widget-view+json": {
       "model_id": "a74ff0468a45401e876efb20eef71ea9",
       "version_major": 2,
       "version_minor": 0
      },
      "text/plain": [
       "New Data Upload                         : |          |  0.00B /  0.00B            "
      ]
     },
     "metadata": {},
     "output_type": "display_data"
    },
    {
     "data": {
      "application/vnd.jupyter.widget-view+json": {
       "model_id": "bf99d7f0226946da9b998fc4eb69b2eb",
       "version_major": 2,
       "version_minor": 0
      },
      "text/plain": [
       "  ...bb2cd11-c393-4ed8-a488-cf3a5506e704:  20%|#9        | 3.67MB / 18.4MB            "
      ]
     },
     "metadata": {},
     "output_type": "display_data"
    },
    {
     "name": "stdout",
     "output_type": "stream",
     "text": [
      "path_in_repo data/test/20250904_234106_00279_uggtr_cfa86576-dd5b-4038-bf78-a213fe6a88ad.parquet\n"
     ]
    },
    {
     "data": {
      "application/vnd.jupyter.widget-view+json": {
       "model_id": "6ce58b42969b4fbbb9ca97591e58bedf",
       "version_major": 2,
       "version_minor": 0
      },
      "text/plain": [
       "Processing Files (0 / 0)                : |          |  0.00B /  0.00B            "
      ]
     },
     "metadata": {},
     "output_type": "display_data"
    },
    {
     "data": {
      "application/vnd.jupyter.widget-view+json": {
       "model_id": "1a3595d763ee406585bc21f5e81a4533",
       "version_major": 2,
       "version_minor": 0
      },
      "text/plain": [
       "New Data Upload                         : |          |  0.00B /  0.00B            "
      ]
     },
     "metadata": {},
     "output_type": "display_data"
    },
    {
     "data": {
      "application/vnd.jupyter.widget-view+json": {
       "model_id": "c3db170737bf48058c811885c37ed653",
       "version_major": 2,
       "version_minor": 0
      },
      "text/plain": [
       "  ...fa86576-dd5b-4038-bf78-a213fe6a88ad:  17%|#7        | 3.67MB / 21.6MB            "
      ]
     },
     "metadata": {},
     "output_type": "display_data"
    },
    {
     "name": "stdout",
     "output_type": "stream",
     "text": [
      "path_in_repo data/test/20250904_234106_00279_uggtr_d949b83e-2537-40b2-a4fa-dffbeff72975.parquet\n"
     ]
    },
    {
     "data": {
      "application/vnd.jupyter.widget-view+json": {
       "model_id": "eafa743000d04060ba6e7d3aa52fd251",
       "version_major": 2,
       "version_minor": 0
      },
      "text/plain": [
       "Processing Files (0 / 0)                : |          |  0.00B /  0.00B            "
      ]
     },
     "metadata": {},
     "output_type": "display_data"
    },
    {
     "data": {
      "application/vnd.jupyter.widget-view+json": {
       "model_id": "c0b2be7795c747bfbe74879228b2887a",
       "version_major": 2,
       "version_minor": 0
      },
      "text/plain": [
       "New Data Upload                         : |          |  0.00B /  0.00B            "
      ]
     },
     "metadata": {},
     "output_type": "display_data"
    },
    {
     "data": {
      "application/vnd.jupyter.widget-view+json": {
       "model_id": "a7f500ca3f4d439e8589f503017616ec",
       "version_major": 2,
       "version_minor": 0
      },
      "text/plain": [
       "  ...949b83e-2537-40b2-a4fa-dffbeff72975:  21%|##        | 3.67MB / 17.8MB            "
      ]
     },
     "metadata": {},
     "output_type": "display_data"
    },
    {
     "name": "stdout",
     "output_type": "stream",
     "text": [
      " :: END subset: test | since_start: 11.0 minutes, 14.70 seconds | since_last: 4.0 minutes, 48.36 seconds :: \n",
      " :: START subset: validation | since_start: 11.0 minutes, 14.70 seconds | since_last: 0.00 seconds :: \n",
      "ensure_path(temp_files)\n",
      "path_in_repo data/validation/20250904_234123_00159_rh4vh_112024de-4e21-4ed1-90c6-31caec405cba.parquet\n"
     ]
    },
    {
     "data": {
      "application/vnd.jupyter.widget-view+json": {
       "model_id": "921e4a01066b484f8abad61649d746f9",
       "version_major": 2,
       "version_minor": 0
      },
      "text/plain": [
       "Processing Files (0 / 0)                : |          |  0.00B /  0.00B            "
      ]
     },
     "metadata": {},
     "output_type": "display_data"
    },
    {
     "data": {
      "application/vnd.jupyter.widget-view+json": {
       "model_id": "8dc0b3d737e6435fad498661ebe45f96",
       "version_major": 2,
       "version_minor": 0
      },
      "text/plain": [
       "New Data Upload                         : |          |  0.00B /  0.00B            "
      ]
     },
     "metadata": {},
     "output_type": "display_data"
    },
    {
     "data": {
      "application/vnd.jupyter.widget-view+json": {
       "model_id": "dba3211e63c345af96c572cd32022d0b",
       "version_major": 2,
       "version_minor": 0
      },
      "text/plain": [
       "  ...12024de-4e21-4ed1-90c6-31caec405cba:  23%|##2       | 3.67MB / 16.3MB            "
      ]
     },
     "metadata": {},
     "output_type": "display_data"
    },
    {
     "name": "stdout",
     "output_type": "stream",
     "text": [
      "path_in_repo data/validation/20250904_234123_00159_rh4vh_210108bf-92fa-41e0-915e-2cd0427ad1c5.parquet\n"
     ]
    },
    {
     "data": {
      "application/vnd.jupyter.widget-view+json": {
       "model_id": "be06df936a534449bbb3459c12743aca",
       "version_major": 2,
       "version_minor": 0
      },
      "text/plain": [
       "Processing Files (0 / 0)                : |          |  0.00B /  0.00B            "
      ]
     },
     "metadata": {},
     "output_type": "display_data"
    },
    {
     "data": {
      "application/vnd.jupyter.widget-view+json": {
       "model_id": "e33780149c834fc880096171c8f6feee",
       "version_major": 2,
       "version_minor": 0
      },
      "text/plain": [
       "New Data Upload                         : |          |  0.00B /  0.00B            "
      ]
     },
     "metadata": {},
     "output_type": "display_data"
    },
    {
     "data": {
      "application/vnd.jupyter.widget-view+json": {
       "model_id": "024fda4fd79c49829927a11265d6c274",
       "version_major": 2,
       "version_minor": 0
      },
      "text/plain": [
       "  ...10108bf-92fa-41e0-915e-2cd0427ad1c5:  18%|#8        | 3.67MB / 20.2MB            "
      ]
     },
     "metadata": {},
     "output_type": "display_data"
    },
    {
     "name": "stdout",
     "output_type": "stream",
     "text": [
      "path_in_repo data/validation/20250904_234123_00159_rh4vh_2beed655-521b-459a-b04b-5c25f74dfe58.parquet\n"
     ]
    },
    {
     "data": {
      "application/vnd.jupyter.widget-view+json": {
       "model_id": "5aedda4b3aa5401db573080e000bb2be",
       "version_major": 2,
       "version_minor": 0
      },
      "text/plain": [
       "Processing Files (0 / 0)                : |          |  0.00B /  0.00B            "
      ]
     },
     "metadata": {},
     "output_type": "display_data"
    },
    {
     "data": {
      "application/vnd.jupyter.widget-view+json": {
       "model_id": "08d393a909634dcba97cc4538bbecc91",
       "version_major": 2,
       "version_minor": 0
      },
      "text/plain": [
       "New Data Upload                         : |          |  0.00B /  0.00B            "
      ]
     },
     "metadata": {},
     "output_type": "display_data"
    },
    {
     "data": {
      "application/vnd.jupyter.widget-view+json": {
       "model_id": "cf35c599071549d6bbe08f512ef23e6c",
       "version_major": 2,
       "version_minor": 0
      },
      "text/plain": [
       "  ...beed655-521b-459a-b04b-5c25f74dfe58:  18%|#7        | 3.67MB / 20.5MB            "
      ]
     },
     "metadata": {},
     "output_type": "display_data"
    },
    {
     "name": "stdout",
     "output_type": "stream",
     "text": [
      "path_in_repo data/validation/20250904_234123_00159_rh4vh_34ab1883-fd1f-4c84-84ac-337e1f7f079d.parquet\n"
     ]
    },
    {
     "data": {
      "application/vnd.jupyter.widget-view+json": {
       "model_id": "ff7f4d795ba74fe8a8b00ab75cf4a6c8",
       "version_major": 2,
       "version_minor": 0
      },
      "text/plain": [
       "Processing Files (0 / 0)                : |          |  0.00B /  0.00B            "
      ]
     },
     "metadata": {},
     "output_type": "display_data"
    },
    {
     "data": {
      "application/vnd.jupyter.widget-view+json": {
       "model_id": "908735ebdd4345899b2cdbcd3393a8a7",
       "version_major": 2,
       "version_minor": 0
      },
      "text/plain": [
       "New Data Upload                         : |          |  0.00B /  0.00B            "
      ]
     },
     "metadata": {},
     "output_type": "display_data"
    },
    {
     "data": {
      "application/vnd.jupyter.widget-view+json": {
       "model_id": "baba938561af45ce9bf819a8e14c8cd6",
       "version_major": 2,
       "version_minor": 0
      },
      "text/plain": [
       "  ...4ab1883-fd1f-4c84-84ac-337e1f7f079d:  19%|#8        | 3.67MB / 19.6MB            "
      ]
     },
     "metadata": {},
     "output_type": "display_data"
    },
    {
     "name": "stdout",
     "output_type": "stream",
     "text": [
      "path_in_repo data/validation/20250904_234123_00159_rh4vh_3ac9df0a-d121-45e3-805f-eac4b6e63bfd.parquet\n"
     ]
    },
    {
     "data": {
      "application/vnd.jupyter.widget-view+json": {
       "model_id": "0ee50041fb1543b286474fd350caea5e",
       "version_major": 2,
       "version_minor": 0
      },
      "text/plain": [
       "Processing Files (0 / 0)                : |          |  0.00B /  0.00B            "
      ]
     },
     "metadata": {},
     "output_type": "display_data"
    },
    {
     "data": {
      "application/vnd.jupyter.widget-view+json": {
       "model_id": "c3991278f9694ea79920e624a3cb8de0",
       "version_major": 2,
       "version_minor": 0
      },
      "text/plain": [
       "New Data Upload                         : |          |  0.00B /  0.00B            "
      ]
     },
     "metadata": {},
     "output_type": "display_data"
    },
    {
     "data": {
      "application/vnd.jupyter.widget-view+json": {
       "model_id": "0f2104a9c96741a19c86497954711f87",
       "version_major": 2,
       "version_minor": 0
      },
      "text/plain": [
       "  ...ac9df0a-d121-45e3-805f-eac4b6e63bfd:  18%|#8        | 3.67MB / 20.0MB            "
      ]
     },
     "metadata": {},
     "output_type": "display_data"
    },
    {
     "name": "stdout",
     "output_type": "stream",
     "text": [
      "path_in_repo data/validation/20250904_234123_00159_rh4vh_4209b512-cc61-472f-a13f-6caf732dd4a4.parquet\n"
     ]
    },
    {
     "data": {
      "application/vnd.jupyter.widget-view+json": {
       "model_id": "b518826fb0ef4177b22133a53a150eb7",
       "version_major": 2,
       "version_minor": 0
      },
      "text/plain": [
       "Processing Files (0 / 0)                : |          |  0.00B /  0.00B            "
      ]
     },
     "metadata": {},
     "output_type": "display_data"
    },
    {
     "data": {
      "application/vnd.jupyter.widget-view+json": {
       "model_id": "fd924c8971624230990aaed79d1226c0",
       "version_major": 2,
       "version_minor": 0
      },
      "text/plain": [
       "New Data Upload                         : |          |  0.00B /  0.00B            "
      ]
     },
     "metadata": {},
     "output_type": "display_data"
    },
    {
     "data": {
      "application/vnd.jupyter.widget-view+json": {
       "model_id": "c01ecadc78a749c4b266681cbd1ce490",
       "version_major": 2,
       "version_minor": 0
      },
      "text/plain": [
       "  ...209b512-cc61-472f-a13f-6caf732dd4a4:   3%|2         |  524kB / 19.5MB            "
      ]
     },
     "metadata": {},
     "output_type": "display_data"
    },
    {
     "name": "stdout",
     "output_type": "stream",
     "text": [
      "path_in_repo data/validation/20250904_234123_00159_rh4vh_65d865e9-5430-438a-97df-6219367064c1.parquet\n"
     ]
    },
    {
     "data": {
      "application/vnd.jupyter.widget-view+json": {
       "model_id": "521d418a28e94a7ab4344cd30a393cf5",
       "version_major": 2,
       "version_minor": 0
      },
      "text/plain": [
       "Processing Files (0 / 0)                : |          |  0.00B /  0.00B            "
      ]
     },
     "metadata": {},
     "output_type": "display_data"
    },
    {
     "data": {
      "application/vnd.jupyter.widget-view+json": {
       "model_id": "6a9ea07353154a4388cf1077abda18e5",
       "version_major": 2,
       "version_minor": 0
      },
      "text/plain": [
       "New Data Upload                         : |          |  0.00B /  0.00B            "
      ]
     },
     "metadata": {},
     "output_type": "display_data"
    },
    {
     "data": {
      "application/vnd.jupyter.widget-view+json": {
       "model_id": "81a6392331ba4af7afa69df1fa5f7a83",
       "version_major": 2,
       "version_minor": 0
      },
      "text/plain": [
       "  ...5d865e9-5430-438a-97df-6219367064c1:  18%|#7        | 3.67MB / 20.9MB            "
      ]
     },
     "metadata": {},
     "output_type": "display_data"
    },
    {
     "name": "stdout",
     "output_type": "stream",
     "text": [
      "path_in_repo data/validation/20250904_234123_00159_rh4vh_6bcf208c-a8fc-44d3-b82e-aa47f64b8206.parquet\n"
     ]
    },
    {
     "data": {
      "application/vnd.jupyter.widget-view+json": {
       "model_id": "def7092035d1446b9681224cc3ba6d33",
       "version_major": 2,
       "version_minor": 0
      },
      "text/plain": [
       "Processing Files (0 / 0)                : |          |  0.00B /  0.00B            "
      ]
     },
     "metadata": {},
     "output_type": "display_data"
    },
    {
     "data": {
      "application/vnd.jupyter.widget-view+json": {
       "model_id": "e320e16082d640d5ae41632e50018a8d",
       "version_major": 2,
       "version_minor": 0
      },
      "text/plain": [
       "New Data Upload                         : |          |  0.00B /  0.00B            "
      ]
     },
     "metadata": {},
     "output_type": "display_data"
    },
    {
     "data": {
      "application/vnd.jupyter.widget-view+json": {
       "model_id": "69872bf830334174b5aa87ef19229fac",
       "version_major": 2,
       "version_minor": 0
      },
      "text/plain": [
       "  ...bcf208c-a8fc-44d3-b82e-aa47f64b8206:  19%|#8        | 3.67MB / 19.5MB            "
      ]
     },
     "metadata": {},
     "output_type": "display_data"
    },
    {
     "name": "stdout",
     "output_type": "stream",
     "text": [
      "path_in_repo data/validation/20250904_234123_00159_rh4vh_7c41f080-f6f1-4674-82c5-7de52c055fb5.parquet\n"
     ]
    },
    {
     "data": {
      "application/vnd.jupyter.widget-view+json": {
       "model_id": "58f4270cb158455298df4ae844457962",
       "version_major": 2,
       "version_minor": 0
      },
      "text/plain": [
       "Processing Files (0 / 0)                : |          |  0.00B /  0.00B            "
      ]
     },
     "metadata": {},
     "output_type": "display_data"
    },
    {
     "data": {
      "application/vnd.jupyter.widget-view+json": {
       "model_id": "dadbc72dcbc947f09ddc91d9821164da",
       "version_major": 2,
       "version_minor": 0
      },
      "text/plain": [
       "New Data Upload                         : |          |  0.00B /  0.00B            "
      ]
     },
     "metadata": {},
     "output_type": "display_data"
    },
    {
     "data": {
      "application/vnd.jupyter.widget-view+json": {
       "model_id": "4cce6b061b164cc89dedbf4beb0081f1",
       "version_major": 2,
       "version_minor": 0
      },
      "text/plain": [
       "  ...c41f080-f6f1-4674-82c5-7de52c055fb5:  17%|#7        | 3.67MB / 21.2MB            "
      ]
     },
     "metadata": {},
     "output_type": "display_data"
    },
    {
     "name": "stdout",
     "output_type": "stream",
     "text": [
      "path_in_repo data/validation/20250904_234123_00159_rh4vh_7dfcfd92-1ab5-490e-a18f-e00d6b0a0a76.parquet\n"
     ]
    },
    {
     "data": {
      "application/vnd.jupyter.widget-view+json": {
       "model_id": "0d3a0deb0c144c69b2195c43d5f033a8",
       "version_major": 2,
       "version_minor": 0
      },
      "text/plain": [
       "Processing Files (0 / 0)                : |          |  0.00B /  0.00B            "
      ]
     },
     "metadata": {},
     "output_type": "display_data"
    },
    {
     "data": {
      "application/vnd.jupyter.widget-view+json": {
       "model_id": "b0b118cee94e4152a7dec01c88f5ade4",
       "version_major": 2,
       "version_minor": 0
      },
      "text/plain": [
       "New Data Upload                         : |          |  0.00B /  0.00B            "
      ]
     },
     "metadata": {},
     "output_type": "display_data"
    },
    {
     "data": {
      "application/vnd.jupyter.widget-view+json": {
       "model_id": "0f0c8359ab944994936d844ef1c31355",
       "version_major": 2,
       "version_minor": 0
      },
      "text/plain": [
       "  ...dfcfd92-1ab5-490e-a18f-e00d6b0a0a76:  17%|#7        | 3.67MB / 21.6MB            "
      ]
     },
     "metadata": {},
     "output_type": "display_data"
    },
    {
     "name": "stdout",
     "output_type": "stream",
     "text": [
      "path_in_repo data/validation/20250904_234123_00159_rh4vh_8293aa8c-18b5-4522-8b42-47480cfbf82d.parquet\n"
     ]
    },
    {
     "data": {
      "application/vnd.jupyter.widget-view+json": {
       "model_id": "a3af26be0bb345beafa316108e260204",
       "version_major": 2,
       "version_minor": 0
      },
      "text/plain": [
       "Processing Files (0 / 0)                : |          |  0.00B /  0.00B            "
      ]
     },
     "metadata": {},
     "output_type": "display_data"
    },
    {
     "data": {
      "application/vnd.jupyter.widget-view+json": {
       "model_id": "96ae755122394f0093d21f26e8c20a16",
       "version_major": 2,
       "version_minor": 0
      },
      "text/plain": [
       "New Data Upload                         : |          |  0.00B /  0.00B            "
      ]
     },
     "metadata": {},
     "output_type": "display_data"
    },
    {
     "data": {
      "application/vnd.jupyter.widget-view+json": {
       "model_id": "c3b77a87eb6847ac84b12aa7db0f40fe",
       "version_major": 2,
       "version_minor": 0
      },
      "text/plain": [
       "  ...293aa8c-18b5-4522-8b42-47480cfbf82d:  19%|#9        | 3.67MB / 19.1MB            "
      ]
     },
     "metadata": {},
     "output_type": "display_data"
    },
    {
     "name": "stdout",
     "output_type": "stream",
     "text": [
      "path_in_repo data/validation/20250904_234123_00159_rh4vh_829b7b01-09a3-4d06-bfbf-cb36e4160330.parquet\n"
     ]
    },
    {
     "data": {
      "application/vnd.jupyter.widget-view+json": {
       "model_id": "e2b1a86d2a78452c84981f372b8360d9",
       "version_major": 2,
       "version_minor": 0
      },
      "text/plain": [
       "Processing Files (0 / 0)                : |          |  0.00B /  0.00B            "
      ]
     },
     "metadata": {},
     "output_type": "display_data"
    },
    {
     "data": {
      "application/vnd.jupyter.widget-view+json": {
       "model_id": "e6a9b939c7f1467aa00028cc590e282d",
       "version_major": 2,
       "version_minor": 0
      },
      "text/plain": [
       "New Data Upload                         : |          |  0.00B /  0.00B            "
      ]
     },
     "metadata": {},
     "output_type": "display_data"
    },
    {
     "data": {
      "application/vnd.jupyter.widget-view+json": {
       "model_id": "87e9e15ad2c4421ea7ec7d7a5a0dc9c0",
       "version_major": 2,
       "version_minor": 0
      },
      "text/plain": [
       "  ...29b7b01-09a3-4d06-bfbf-cb36e4160330:  16%|#6        | 3.67MB / 22.8MB            "
      ]
     },
     "metadata": {},
     "output_type": "display_data"
    },
    {
     "name": "stdout",
     "output_type": "stream",
     "text": [
      "path_in_repo data/validation/20250904_234123_00159_rh4vh_8f502bf0-0b9b-4d2b-881b-e5c3bc9c9cb1.parquet\n"
     ]
    },
    {
     "data": {
      "application/vnd.jupyter.widget-view+json": {
       "model_id": "b3eb757841d9455aa521dbe3706e8fba",
       "version_major": 2,
       "version_minor": 0
      },
      "text/plain": [
       "Processing Files (0 / 0)                : |          |  0.00B /  0.00B            "
      ]
     },
     "metadata": {},
     "output_type": "display_data"
    },
    {
     "data": {
      "application/vnd.jupyter.widget-view+json": {
       "model_id": "f74017f00bcc41b99bbeb0a1af6d36a2",
       "version_major": 2,
       "version_minor": 0
      },
      "text/plain": [
       "New Data Upload                         : |          |  0.00B /  0.00B            "
      ]
     },
     "metadata": {},
     "output_type": "display_data"
    },
    {
     "data": {
      "application/vnd.jupyter.widget-view+json": {
       "model_id": "c692fe655dd348adb49c8e4d71fc9319",
       "version_major": 2,
       "version_minor": 0
      },
      "text/plain": [
       "  ...f502bf0-0b9b-4d2b-881b-e5c3bc9c9cb1:  19%|#9        | 3.67MB / 19.1MB            "
      ]
     },
     "metadata": {},
     "output_type": "display_data"
    },
    {
     "name": "stdout",
     "output_type": "stream",
     "text": [
      "path_in_repo data/validation/20250904_234123_00159_rh4vh_92441814-2418-479c-a86a-e4d64903d45b.parquet\n"
     ]
    },
    {
     "data": {
      "application/vnd.jupyter.widget-view+json": {
       "model_id": "2539fa02764a48a684a9ea78e953c517",
       "version_major": 2,
       "version_minor": 0
      },
      "text/plain": [
       "Processing Files (0 / 0)                : |          |  0.00B /  0.00B            "
      ]
     },
     "metadata": {},
     "output_type": "display_data"
    },
    {
     "data": {
      "application/vnd.jupyter.widget-view+json": {
       "model_id": "7a4e44a20d474f54b1f3be05dd2fdf07",
       "version_major": 2,
       "version_minor": 0
      },
      "text/plain": [
       "New Data Upload                         : |          |  0.00B /  0.00B            "
      ]
     },
     "metadata": {},
     "output_type": "display_data"
    },
    {
     "data": {
      "application/vnd.jupyter.widget-view+json": {
       "model_id": "00c9eae40f57491192f0c981b96caad4",
       "version_major": 2,
       "version_minor": 0
      },
      "text/plain": [
       "  ...2441814-2418-479c-a86a-e4d64903d45b:  16%|#5        | 3.67MB / 23.1MB            "
      ]
     },
     "metadata": {},
     "output_type": "display_data"
    },
    {
     "name": "stdout",
     "output_type": "stream",
     "text": [
      "path_in_repo data/validation/20250904_234123_00159_rh4vh_b21f820e-3e05-48b9-8658-d1c790347336.parquet\n"
     ]
    },
    {
     "data": {
      "application/vnd.jupyter.widget-view+json": {
       "model_id": "27c3bf24cf4b43ad977f4a382f047b68",
       "version_major": 2,
       "version_minor": 0
      },
      "text/plain": [
       "Processing Files (0 / 0)                : |          |  0.00B /  0.00B            "
      ]
     },
     "metadata": {},
     "output_type": "display_data"
    },
    {
     "data": {
      "application/vnd.jupyter.widget-view+json": {
       "model_id": "dc6e33ea984e41cbb2d82fbe2f95caab",
       "version_major": 2,
       "version_minor": 0
      },
      "text/plain": [
       "New Data Upload                         : |          |  0.00B /  0.00B            "
      ]
     },
     "metadata": {},
     "output_type": "display_data"
    },
    {
     "data": {
      "application/vnd.jupyter.widget-view+json": {
       "model_id": "174fd9ef17f347208591f7c6365269c5",
       "version_major": 2,
       "version_minor": 0
      },
      "text/plain": [
       "  ...21f820e-3e05-48b9-8658-d1c790347336:  22%|##1       | 3.67MB / 17.0MB            "
      ]
     },
     "metadata": {},
     "output_type": "display_data"
    },
    {
     "name": "stdout",
     "output_type": "stream",
     "text": [
      "path_in_repo data/validation/20250904_234123_00159_rh4vh_b791bda4-6120-48ab-ba8a-c06af988d314.parquet\n"
     ]
    },
    {
     "data": {
      "application/vnd.jupyter.widget-view+json": {
       "model_id": "25d98ec9df674f51bb9643f61ce72099",
       "version_major": 2,
       "version_minor": 0
      },
      "text/plain": [
       "Processing Files (0 / 0)                : |          |  0.00B /  0.00B            "
      ]
     },
     "metadata": {},
     "output_type": "display_data"
    },
    {
     "data": {
      "application/vnd.jupyter.widget-view+json": {
       "model_id": "da66924aeaca431092b097eead90f248",
       "version_major": 2,
       "version_minor": 0
      },
      "text/plain": [
       "New Data Upload                         : |          |  0.00B /  0.00B            "
      ]
     },
     "metadata": {},
     "output_type": "display_data"
    },
    {
     "data": {
      "application/vnd.jupyter.widget-view+json": {
       "model_id": "0876f46910a84dd3a3514ac46c956cfb",
       "version_major": 2,
       "version_minor": 0
      },
      "text/plain": [
       "  ...791bda4-6120-48ab-ba8a-c06af988d314:  18%|#7        | 3.67MB / 21.0MB            "
      ]
     },
     "metadata": {},
     "output_type": "display_data"
    },
    {
     "name": "stdout",
     "output_type": "stream",
     "text": [
      "path_in_repo data/validation/20250904_234123_00159_rh4vh_c2a74129-fa34-4945-b394-b5a6a8f297ee.parquet\n"
     ]
    },
    {
     "data": {
      "application/vnd.jupyter.widget-view+json": {
       "model_id": "c83f4dbdef18458ebc18c914dad64b8f",
       "version_major": 2,
       "version_minor": 0
      },
      "text/plain": [
       "Processing Files (0 / 0)                : |          |  0.00B /  0.00B            "
      ]
     },
     "metadata": {},
     "output_type": "display_data"
    },
    {
     "data": {
      "application/vnd.jupyter.widget-view+json": {
       "model_id": "0ad3ea6b40ec424babfcb90f6d9936d1",
       "version_major": 2,
       "version_minor": 0
      },
      "text/plain": [
       "New Data Upload                         : |          |  0.00B /  0.00B            "
      ]
     },
     "metadata": {},
     "output_type": "display_data"
    },
    {
     "data": {
      "application/vnd.jupyter.widget-view+json": {
       "model_id": "3081e3a698eb49c19f133ee8802785b3",
       "version_major": 2,
       "version_minor": 0
      },
      "text/plain": [
       "  ...2a74129-fa34-4945-b394-b5a6a8f297ee:  18%|#8        | 3.67MB / 19.9MB            "
      ]
     },
     "metadata": {},
     "output_type": "display_data"
    },
    {
     "name": "stdout",
     "output_type": "stream",
     "text": [
      "path_in_repo data/validation/20250904_234123_00159_rh4vh_c946eec2-3c22-414a-a26a-4c5f5503277c.parquet\n"
     ]
    },
    {
     "data": {
      "application/vnd.jupyter.widget-view+json": {
       "model_id": "f5bcd6f9d34c45a7911f0a8be9d4c33d",
       "version_major": 2,
       "version_minor": 0
      },
      "text/plain": [
       "Processing Files (0 / 0)                : |          |  0.00B /  0.00B            "
      ]
     },
     "metadata": {},
     "output_type": "display_data"
    },
    {
     "data": {
      "application/vnd.jupyter.widget-view+json": {
       "model_id": "3f3eee97bf524bfea8b22ba750ec0450",
       "version_major": 2,
       "version_minor": 0
      },
      "text/plain": [
       "New Data Upload                         : |          |  0.00B /  0.00B            "
      ]
     },
     "metadata": {},
     "output_type": "display_data"
    },
    {
     "data": {
      "application/vnd.jupyter.widget-view+json": {
       "model_id": "ff16caa3ff8845d296b9047d02af5214",
       "version_major": 2,
       "version_minor": 0
      },
      "text/plain": [
       "  ...946eec2-3c22-414a-a26a-4c5f5503277c:  18%|#8        | 3.67MB / 20.3MB            "
      ]
     },
     "metadata": {},
     "output_type": "display_data"
    },
    {
     "name": "stdout",
     "output_type": "stream",
     "text": [
      "path_in_repo data/validation/20250904_234123_00159_rh4vh_de9c9a29-eeae-4367-98a9-21d900df7ec8.parquet\n"
     ]
    },
    {
     "data": {
      "application/vnd.jupyter.widget-view+json": {
       "model_id": "66a4ec163bee4b6b8aeefef72147fc97",
       "version_major": 2,
       "version_minor": 0
      },
      "text/plain": [
       "Processing Files (0 / 0)                : |          |  0.00B /  0.00B            "
      ]
     },
     "metadata": {},
     "output_type": "display_data"
    },
    {
     "data": {
      "application/vnd.jupyter.widget-view+json": {
       "model_id": "46a142b6bcc2466494014447e73b6555",
       "version_major": 2,
       "version_minor": 0
      },
      "text/plain": [
       "New Data Upload                         : |          |  0.00B /  0.00B            "
      ]
     },
     "metadata": {},
     "output_type": "display_data"
    },
    {
     "data": {
      "application/vnd.jupyter.widget-view+json": {
       "model_id": "4c21285d2a5a4ab3ae9773ca633912ef",
       "version_major": 2,
       "version_minor": 0
      },
      "text/plain": [
       "  ...e9c9a29-eeae-4367-98a9-21d900df7ec8:   3%|3         |  525kB / 17.4MB            "
      ]
     },
     "metadata": {},
     "output_type": "display_data"
    },
    {
     "name": "stdout",
     "output_type": "stream",
     "text": [
      "path_in_repo data/validation/20250904_234123_00159_rh4vh_e69a1c44-fb49-4f56-ba1c-c3b1e30b8b49.parquet\n"
     ]
    },
    {
     "data": {
      "application/vnd.jupyter.widget-view+json": {
       "model_id": "7bb025b1909a43e38bafe73a8ad7dc59",
       "version_major": 2,
       "version_minor": 0
      },
      "text/plain": [
       "Processing Files (0 / 0)                : |          |  0.00B /  0.00B            "
      ]
     },
     "metadata": {},
     "output_type": "display_data"
    },
    {
     "data": {
      "application/vnd.jupyter.widget-view+json": {
       "model_id": "515ebe8c0ce64b1cbb46f57319043fb4",
       "version_major": 2,
       "version_minor": 0
      },
      "text/plain": [
       "New Data Upload                         : |          |  0.00B /  0.00B            "
      ]
     },
     "metadata": {},
     "output_type": "display_data"
    },
    {
     "data": {
      "application/vnd.jupyter.widget-view+json": {
       "model_id": "e00b951ffb3c42db95c6747d49b28346",
       "version_major": 2,
       "version_minor": 0
      },
      "text/plain": [
       "  ...69a1c44-fb49-4f56-ba1c-c3b1e30b8b49:  22%|##2       | 3.67MB / 16.6MB            "
      ]
     },
     "metadata": {},
     "output_type": "display_data"
    },
    {
     "name": "stdout",
     "output_type": "stream",
     "text": [
      "path_in_repo data/validation/20250904_234123_00159_rh4vh_f4138a7b-4cf3-4c8f-a3bd-fe913f7dfe26.parquet\n"
     ]
    },
    {
     "data": {
      "application/vnd.jupyter.widget-view+json": {
       "model_id": "223a0cd2a44746fabbf15a9b4c7f54f3",
       "version_major": 2,
       "version_minor": 0
      },
      "text/plain": [
       "Processing Files (0 / 0)                : |          |  0.00B /  0.00B            "
      ]
     },
     "metadata": {},
     "output_type": "display_data"
    },
    {
     "data": {
      "application/vnd.jupyter.widget-view+json": {
       "model_id": "3fc6f6dc44654fc0b5d626fcb0f649d9",
       "version_major": 2,
       "version_minor": 0
      },
      "text/plain": [
       "New Data Upload                         : |          |  0.00B /  0.00B            "
      ]
     },
     "metadata": {},
     "output_type": "display_data"
    },
    {
     "data": {
      "application/vnd.jupyter.widget-view+json": {
       "model_id": "1ee0ed7e1ef040d0b8bd138f3345563b",
       "version_major": 2,
       "version_minor": 0
      },
      "text/plain": [
       "  ...4138a7b-4cf3-4c8f-a3bd-fe913f7dfe26:  18%|#7        | 3.67MB / 20.8MB            "
      ]
     },
     "metadata": {},
     "output_type": "display_data"
    },
    {
     "name": "stdout",
     "output_type": "stream",
     "text": [
      "path_in_repo data/validation/20250904_234123_00159_rh4vh_f56b0dcb-febb-4f5b-a9f0-4c9f1c856e21.parquet\n"
     ]
    },
    {
     "data": {
      "application/vnd.jupyter.widget-view+json": {
       "model_id": "04efe2d18e6c471eafba76723389d15b",
       "version_major": 2,
       "version_minor": 0
      },
      "text/plain": [
       "Processing Files (0 / 0)                : |          |  0.00B /  0.00B            "
      ]
     },
     "metadata": {},
     "output_type": "display_data"
    },
    {
     "data": {
      "application/vnd.jupyter.widget-view+json": {
       "model_id": "349508370a5b4451af505421dbc75285",
       "version_major": 2,
       "version_minor": 0
      },
      "text/plain": [
       "New Data Upload                         : |          |  0.00B /  0.00B            "
      ]
     },
     "metadata": {},
     "output_type": "display_data"
    },
    {
     "data": {
      "application/vnd.jupyter.widget-view+json": {
       "model_id": "62469c77fd05459cb7c2f81756ed270a",
       "version_major": 2,
       "version_minor": 0
      },
      "text/plain": [
       "  ...56b0dcb-febb-4f5b-a9f0-4c9f1c856e21:  23%|##2       | 3.67MB / 16.2MB            "
      ]
     },
     "metadata": {},
     "output_type": "display_data"
    },
    {
     "name": "stdout",
     "output_type": "stream",
     "text": [
      " :: END subset: validation | since_start: 16.0 minutes, 1.87 seconds | since_last: 4.0 minutes, 47.17 seconds :: \n"
     ]
    }
   ],
   "source": [
    "import boto3\n",
    "import os\n",
    "from pathlib import Path\n",
    "import time\n",
    "\n",
    "s3_client = boto3.client('s3')\n",
    "bucket_name = 'sagemaker-research-methodology-extraction'\n",
    "timelogger = utils.TimeLogger()\n",
    "destination_dataset = 'SteveAKopias/SemanticScholarCSFullTextWithOpenAlexTopics'\n",
    "for subset in ['train', 'test', 'validation']:\n",
    "    timelogger.log(f'START subset: {subset}')\n",
    "    s3_folder_prefix = f'01_data/03_core/unified_works_{subset}'\n",
    "    local_download_path = 'temp_files'\n",
    "    utils.ensure_path(local_download_path)\n",
    "\n",
    "    paginator = s3_client.get_paginator('list_objects_v2')\n",
    "    file_entry_pages = paginator.paginate(Bucket=bucket_name, Prefix=s3_folder_prefix)\n",
    "\n",
    "    for file_entry_page in file_entry_pages:\n",
    "        if 'Contents' in file_entry_page:\n",
    "            for file_entry in file_entry_page['Contents']:\n",
    "                s3_key = file_entry['Key']\n",
    "                relative_path = Path(s3_key).relative_to(s3_folder_prefix)\n",
    "                path_in_repo = f'data/{subset}/{relative_path}.parquet'\n",
    "                print('path_in_repo', path_in_repo)\n",
    "                local_file_path = Path(local_download_path) / subset / relative_path\n",
    "\n",
    "                local_file_path.parent.mkdir(parents=True, exist_ok=True)\n",
    "                # print('relative_path.resolve()', str(local_file_path.resolve()), type(local_file_path.resolve()))\n",
    "\n",
    "                s3_client.download_file(bucket_name, s3_key, str(local_file_path))\n",
    "                # print(f\"{subset}: Downloaded {s3_key} to {local_file_path}\")\n",
    "                upload_result = upload_file(\n",
    "                    path_or_fileobj=local_file_path,\n",
    "                    path_in_repo=path_in_repo,\n",
    "                    repo_id=destination_dataset,\n",
    "                    repo_type=\"dataset\",\n",
    "                )\n",
    "                # print(f\"{subset}: Uploaded {s3_key} to {path_in_repo}\")\n",
    "                if '/home/sagemaker-user/research_methodology_extraction/src/04_transformation/temp_files/' in str(local_file_path.resolve()):\n",
    "                    os.remove(local_file_path)\n",
    "                    # print(f\"{subset}: Deleted {s3_key} at {local_file_path}\")\n",
    "                time.sleep(10)\n",
    "    timelogger.log(f'END subset: {subset}')"
   ]
  },
  {
   "cell_type": "code",
   "execution_count": 3,
   "id": "faaf839b",
   "metadata": {
    "execution": {
     "iopub.execute_input": "2025-09-05T16:15:19.194814Z",
     "iopub.status.busy": "2025-09-05T16:15:19.194437Z",
     "iopub.status.idle": "2025-09-05T16:19:05.753898Z",
     "shell.execute_reply": "2025-09-05T16:19:05.753026Z",
     "shell.execute_reply.started": "2025-09-05T16:15:19.194784Z"
    },
    "scrolled": true
   },
   "outputs": [
    {
     "data": {
      "application/vnd.jupyter.widget-view+json": {
       "model_id": "275d36794c7b4c049c188bd27bc48b89",
       "version_major": 2,
       "version_minor": 0
      },
      "text/plain": [
       "Resolving data files:   0%|          | 0/22 [00:00<?, ?it/s]"
      ]
     },
     "metadata": {},
     "output_type": "display_data"
    },
    {
     "data": {
      "application/vnd.jupyter.widget-view+json": {
       "model_id": "15e7ccc1532e4e349c66be20aa17c994",
       "version_major": 2,
       "version_minor": 0
      },
      "text/plain": [
       "Resolving data files:   0%|          | 0/22 [00:00<?, ?it/s]"
      ]
     },
     "metadata": {},
     "output_type": "display_data"
    },
    {
     "data": {
      "application/vnd.jupyter.widget-view+json": {
       "model_id": "8994a4c94a8c440c8060aa712c865552",
       "version_major": 2,
       "version_minor": 0
      },
      "text/plain": [
       "Resolving data files:   0%|          | 0/22 [00:00<?, ?it/s]"
      ]
     },
     "metadata": {},
     "output_type": "display_data"
    },
    {
     "data": {
      "application/vnd.jupyter.widget-view+json": {
       "model_id": "c2719e15c2204f869b6724b84fbba21d",
       "version_major": 2,
       "version_minor": 0
      },
      "text/plain": [
       "Downloading data:   0%|          | 0/22 [00:00<?, ?files/s]"
      ]
     },
     "metadata": {},
     "output_type": "display_data"
    },
    {
     "data": {
      "application/vnd.jupyter.widget-view+json": {
       "model_id": "2d7ca86425b14a2cb9745862627fc8dc",
       "version_major": 2,
       "version_minor": 0
      },
      "text/plain": [
       "data/train/20250904_234024_00199_vpvv2_0(…):   0%|          | 0.00/154M [00:00<?, ?B/s]"
      ]
     },
     "metadata": {},
     "output_type": "display_data"
    },
    {
     "data": {
      "application/vnd.jupyter.widget-view+json": {
       "model_id": "56e18de3b0b449a2aea065e8420ad8b2",
       "version_major": 2,
       "version_minor": 0
      },
      "text/plain": [
       "data/train/20250904_234024_00199_vpvv2_0(…):   0%|          | 0.00/155M [00:00<?, ?B/s]"
      ]
     },
     "metadata": {},
     "output_type": "display_data"
    },
    {
     "data": {
      "application/vnd.jupyter.widget-view+json": {
       "model_id": "9d8e2fc2946b4f8aa1d846710078ffd3",
       "version_major": 2,
       "version_minor": 0
      },
      "text/plain": [
       "data/train/20250904_234024_00199_vpvv2_0(…):   0%|          | 0.00/157M [00:00<?, ?B/s]"
      ]
     },
     "metadata": {},
     "output_type": "display_data"
    },
    {
     "data": {
      "application/vnd.jupyter.widget-view+json": {
       "model_id": "e42e969997444b3492522827f0d0e7ee",
       "version_major": 2,
       "version_minor": 0
      },
      "text/plain": [
       "data/train/20250904_234024_00199_vpvv2_0(…):   0%|          | 0.00/158M [00:00<?, ?B/s]"
      ]
     },
     "metadata": {},
     "output_type": "display_data"
    },
    {
     "data": {
      "application/vnd.jupyter.widget-view+json": {
       "model_id": "6cce377e14884098b3d245b851056c78",
       "version_major": 2,
       "version_minor": 0
      },
      "text/plain": [
       "data/train/20250904_234024_00199_vpvv2_1(…):   0%|          | 0.00/155M [00:00<?, ?B/s]"
      ]
     },
     "metadata": {},
     "output_type": "display_data"
    },
    {
     "data": {
      "application/vnd.jupyter.widget-view+json": {
       "model_id": "2361ad75a7014910808f865a233ed1cc",
       "version_major": 2,
       "version_minor": 0
      },
      "text/plain": [
       "data/train/20250904_234024_00199_vpvv2_3(…):   0%|          | 0.00/157M [00:00<?, ?B/s]"
      ]
     },
     "metadata": {},
     "output_type": "display_data"
    },
    {
     "data": {
      "application/vnd.jupyter.widget-view+json": {
       "model_id": "47f3378a7cd5439f99b3ae3421089a4a",
       "version_major": 2,
       "version_minor": 0
      },
      "text/plain": [
       "data/train/20250904_234024_00199_vpvv2_3(…):   0%|          | 0.00/166M [00:00<?, ?B/s]"
      ]
     },
     "metadata": {},
     "output_type": "display_data"
    },
    {
     "data": {
      "application/vnd.jupyter.widget-view+json": {
       "model_id": "b736dfc8e5564233a5f8efc9c6fc5044",
       "version_major": 2,
       "version_minor": 0
      },
      "text/plain": [
       "data/train/20250904_234024_00199_vpvv2_6(…):   0%|          | 0.00/160M [00:00<?, ?B/s]"
      ]
     },
     "metadata": {},
     "output_type": "display_data"
    },
    {
     "data": {
      "application/vnd.jupyter.widget-view+json": {
       "model_id": "de718c594f5f41fa929296d3cbf0d65d",
       "version_major": 2,
       "version_minor": 0
      },
      "text/plain": [
       "data/train/20250904_234024_00199_vpvv2_7(…):   0%|          | 0.00/165M [00:00<?, ?B/s]"
      ]
     },
     "metadata": {},
     "output_type": "display_data"
    },
    {
     "data": {
      "application/vnd.jupyter.widget-view+json": {
       "model_id": "8d580969652e424996d8fa90da9dd967",
       "version_major": 2,
       "version_minor": 0
      },
      "text/plain": [
       "data/train/20250904_234024_00199_vpvv2_7(…):   0%|          | 0.00/158M [00:00<?, ?B/s]"
      ]
     },
     "metadata": {},
     "output_type": "display_data"
    },
    {
     "data": {
      "application/vnd.jupyter.widget-view+json": {
       "model_id": "a06c6e639e624ffc8882bf18a6b4a0a0",
       "version_major": 2,
       "version_minor": 0
      },
      "text/plain": [
       "data/train/20250904_234024_00199_vpvv2_8(…):   0%|          | 0.00/157M [00:00<?, ?B/s]"
      ]
     },
     "metadata": {},
     "output_type": "display_data"
    },
    {
     "data": {
      "application/vnd.jupyter.widget-view+json": {
       "model_id": "98136bbf6d594d22af70e7e9af014d5c",
       "version_major": 2,
       "version_minor": 0
      },
      "text/plain": [
       "data/train/20250904_234024_00199_vpvv2_9(…):   0%|          | 0.00/158M [00:00<?, ?B/s]"
      ]
     },
     "metadata": {},
     "output_type": "display_data"
    },
    {
     "data": {
      "application/vnd.jupyter.widget-view+json": {
       "model_id": "fe4f148ee2354c988174b6d24c1bb9ca",
       "version_major": 2,
       "version_minor": 0
      },
      "text/plain": [
       "data/train/20250904_234024_00199_vpvv2_9(…):   0%|          | 0.00/155M [00:00<?, ?B/s]"
      ]
     },
     "metadata": {},
     "output_type": "display_data"
    },
    {
     "data": {
      "application/vnd.jupyter.widget-view+json": {
       "model_id": "b9822a4999d548648f0eec03636c27f7",
       "version_major": 2,
       "version_minor": 0
      },
      "text/plain": [
       "data/train/20250904_234024_00199_vpvv2_a(…):   0%|          | 0.00/157M [00:00<?, ?B/s]"
      ]
     },
     "metadata": {},
     "output_type": "display_data"
    },
    {
     "data": {
      "application/vnd.jupyter.widget-view+json": {
       "model_id": "85a1c521d61f4115be260db2e259f3b0",
       "version_major": 2,
       "version_minor": 0
      },
      "text/plain": [
       "data/train/20250904_234024_00199_vpvv2_a(…):   0%|          | 0.00/157M [00:00<?, ?B/s]"
      ]
     },
     "metadata": {},
     "output_type": "display_data"
    },
    {
     "data": {
      "application/vnd.jupyter.widget-view+json": {
       "model_id": "9c4bafb080b944a58e7a803ee3073261",
       "version_major": 2,
       "version_minor": 0
      },
      "text/plain": [
       "data/train/20250904_234024_00199_vpvv2_a(…):   0%|          | 0.00/155M [00:00<?, ?B/s]"
      ]
     },
     "metadata": {},
     "output_type": "display_data"
    },
    {
     "data": {
      "application/vnd.jupyter.widget-view+json": {
       "model_id": "1c65cbbfaff2440092632e7d7a03afbc",
       "version_major": 2,
       "version_minor": 0
      },
      "text/plain": [
       "data/train/20250904_234024_00199_vpvv2_b(…):   0%|          | 0.00/158M [00:00<?, ?B/s]"
      ]
     },
     "metadata": {},
     "output_type": "display_data"
    },
    {
     "data": {
      "application/vnd.jupyter.widget-view+json": {
       "model_id": "6a41a7f00e484df1bfd8e62b353d376b",
       "version_major": 2,
       "version_minor": 0
      },
      "text/plain": [
       "data/train/20250904_234024_00199_vpvv2_b(…):   0%|          | 0.00/157M [00:00<?, ?B/s]"
      ]
     },
     "metadata": {},
     "output_type": "display_data"
    },
    {
     "data": {
      "application/vnd.jupyter.widget-view+json": {
       "model_id": "8817e2165c6e486687ae474abd2b4d16",
       "version_major": 2,
       "version_minor": 0
      },
      "text/plain": [
       "data/train/20250904_234024_00199_vpvv2_c(…):   0%|          | 0.00/155M [00:00<?, ?B/s]"
      ]
     },
     "metadata": {},
     "output_type": "display_data"
    },
    {
     "data": {
      "application/vnd.jupyter.widget-view+json": {
       "model_id": "c6ff5fd6a7ae40d2a838478ce1ece6ed",
       "version_major": 2,
       "version_minor": 0
      },
      "text/plain": [
       "data/train/20250904_234024_00199_vpvv2_c(…):   0%|          | 0.00/152M [00:00<?, ?B/s]"
      ]
     },
     "metadata": {},
     "output_type": "display_data"
    },
    {
     "data": {
      "application/vnd.jupyter.widget-view+json": {
       "model_id": "834489f7e6d6429daf6fdf113ad2f472",
       "version_major": 2,
       "version_minor": 0
      },
      "text/plain": [
       "data/train/20250904_234024_00199_vpvv2_e(…):   0%|          | 0.00/153M [00:00<?, ?B/s]"
      ]
     },
     "metadata": {},
     "output_type": "display_data"
    },
    {
     "data": {
      "application/vnd.jupyter.widget-view+json": {
       "model_id": "66e2973d2cb2424dbe1196ea7989e017",
       "version_major": 2,
       "version_minor": 0
      },
      "text/plain": [
       "data/train/20250904_234024_00199_vpvv2_e(…):   0%|          | 0.00/155M [00:00<?, ?B/s]"
      ]
     },
     "metadata": {},
     "output_type": "display_data"
    },
    {
     "data": {
      "application/vnd.jupyter.widget-view+json": {
       "model_id": "15d73b9f78f946bda4d974cdce128857",
       "version_major": 2,
       "version_minor": 0
      },
      "text/plain": [
       "Downloading data:   0%|          | 0/22 [00:00<?, ?files/s]"
      ]
     },
     "metadata": {},
     "output_type": "display_data"
    },
    {
     "data": {
      "application/vnd.jupyter.widget-view+json": {
       "model_id": "7560e28869aa45149dbe062ca17e6ceb",
       "version_major": 2,
       "version_minor": 0
      },
      "text/plain": [
       "data/validation/20250904_234123_00159_rh(…):   0%|          | 0.00/16.3M [00:00<?, ?B/s]"
      ]
     },
     "metadata": {},
     "output_type": "display_data"
    },
    {
     "data": {
      "application/vnd.jupyter.widget-view+json": {
       "model_id": "9de61b733a8c41158fe31027101ff75c",
       "version_major": 2,
       "version_minor": 0
      },
      "text/plain": [
       "data/validation/20250904_234123_00159_rh(…):   0%|          | 0.00/19.6M [00:00<?, ?B/s]"
      ]
     },
     "metadata": {},
     "output_type": "display_data"
    },
    {
     "data": {
      "application/vnd.jupyter.widget-view+json": {
       "model_id": "a60f1f56efb6433481413dfb15530dbd",
       "version_major": 2,
       "version_minor": 0
      },
      "text/plain": [
       "data/validation/20250904_234123_00159_rh(…):   0%|          | 0.00/20.0M [00:00<?, ?B/s]"
      ]
     },
     "metadata": {},
     "output_type": "display_data"
    },
    {
     "data": {
      "application/vnd.jupyter.widget-view+json": {
       "model_id": "a071fd3ff83a451ba22a311e4f8a8564",
       "version_major": 2,
       "version_minor": 0
      },
      "text/plain": [
       "data/validation/20250904_234123_00159_rh(…):   0%|          | 0.00/20.5M [00:00<?, ?B/s]"
      ]
     },
     "metadata": {},
     "output_type": "display_data"
    },
    {
     "data": {
      "application/vnd.jupyter.widget-view+json": {
       "model_id": "e06d29f48fd94ac08f05f32b4bece188",
       "version_major": 2,
       "version_minor": 0
      },
      "text/plain": [
       "data/validation/20250904_234123_00159_rh(…):   0%|          | 0.00/21.2M [00:00<?, ?B/s]"
      ]
     },
     "metadata": {},
     "output_type": "display_data"
    },
    {
     "data": {
      "application/vnd.jupyter.widget-view+json": {
       "model_id": "f4fb84bd3a734d0bafd75d813d7706a7",
       "version_major": 2,
       "version_minor": 0
      },
      "text/plain": [
       "data/validation/20250904_234123_00159_rh(…):   0%|          | 0.00/21.0M [00:00<?, ?B/s]"
      ]
     },
     "metadata": {},
     "output_type": "display_data"
    },
    {
     "data": {
      "application/vnd.jupyter.widget-view+json": {
       "model_id": "a6312018aa894bcab4cab54df8b7bdc3",
       "version_major": 2,
       "version_minor": 0
      },
      "text/plain": [
       "data/validation/20250904_234123_00159_rh(…):   0%|          | 0.00/19.1M [00:00<?, ?B/s]"
      ]
     },
     "metadata": {},
     "output_type": "display_data"
    },
    {
     "data": {
      "application/vnd.jupyter.widget-view+json": {
       "model_id": "d8f4c61b74dc4417894b75d7adc0eda9",
       "version_major": 2,
       "version_minor": 0
      },
      "text/plain": [
       "data/validation/20250904_234123_00159_rh(…):   0%|          | 0.00/19.5M [00:00<?, ?B/s]"
      ]
     },
     "metadata": {},
     "output_type": "display_data"
    },
    {
     "data": {
      "application/vnd.jupyter.widget-view+json": {
       "model_id": "fa19ff2b07a5404b989025b6630f2be9",
       "version_major": 2,
       "version_minor": 0
      },
      "text/plain": [
       "data/validation/20250904_234123_00159_rh(…):   0%|          | 0.00/23.1M [00:00<?, ?B/s]"
      ]
     },
     "metadata": {},
     "output_type": "display_data"
    },
    {
     "data": {
      "application/vnd.jupyter.widget-view+json": {
       "model_id": "24ca2e3d86e64bb4bdf61432a26157d9",
       "version_major": 2,
       "version_minor": 0
      },
      "text/plain": [
       "data/validation/20250904_234123_00159_rh(…):   0%|          | 0.00/22.8M [00:00<?, ?B/s]"
      ]
     },
     "metadata": {},
     "output_type": "display_data"
    },
    {
     "data": {
      "application/vnd.jupyter.widget-view+json": {
       "model_id": "0b6a9bd568ee4abcac63bf5e96bc17d5",
       "version_major": 2,
       "version_minor": 0
      },
      "text/plain": [
       "data/validation/20250904_234123_00159_rh(…):   0%|          | 0.00/20.9M [00:00<?, ?B/s]"
      ]
     },
     "metadata": {},
     "output_type": "display_data"
    },
    {
     "data": {
      "application/vnd.jupyter.widget-view+json": {
       "model_id": "cf24066e55e34c06a6f4b15b7cc94808",
       "version_major": 2,
       "version_minor": 0
      },
      "text/plain": [
       "data/validation/20250904_234123_00159_rh(…):   0%|          | 0.00/19.1M [00:00<?, ?B/s]"
      ]
     },
     "metadata": {},
     "output_type": "display_data"
    },
    {
     "data": {
      "application/vnd.jupyter.widget-view+json": {
       "model_id": "1bdee28150084b7a8ac8d8b9bee77d03",
       "version_major": 2,
       "version_minor": 0
      },
      "text/plain": [
       "data/validation/20250904_234123_00159_rh(…):   0%|          | 0.00/19.5M [00:00<?, ?B/s]"
      ]
     },
     "metadata": {},
     "output_type": "display_data"
    },
    {
     "data": {
      "application/vnd.jupyter.widget-view+json": {
       "model_id": "e6c592cc84b3465281936141a12b621e",
       "version_major": 2,
       "version_minor": 0
      },
      "text/plain": [
       "data/validation/20250904_234123_00159_rh(…):   0%|          | 0.00/17.0M [00:00<?, ?B/s]"
      ]
     },
     "metadata": {},
     "output_type": "display_data"
    },
    {
     "data": {
      "application/vnd.jupyter.widget-view+json": {
       "model_id": "ed91ea2d1d0b43acaab0de4f78e5d400",
       "version_major": 2,
       "version_minor": 0
      },
      "text/plain": [
       "data/validation/20250904_234123_00159_rh(…):   0%|          | 0.00/21.6M [00:00<?, ?B/s]"
      ]
     },
     "metadata": {},
     "output_type": "display_data"
    },
    {
     "data": {
      "application/vnd.jupyter.widget-view+json": {
       "model_id": "365c8f72b1824ec1bd6fcf89ac5aa444",
       "version_major": 2,
       "version_minor": 0
      },
      "text/plain": [
       "data/validation/20250904_234123_00159_rh(…):   0%|          | 0.00/20.2M [00:00<?, ?B/s]"
      ]
     },
     "metadata": {},
     "output_type": "display_data"
    },
    {
     "data": {
      "application/vnd.jupyter.widget-view+json": {
       "model_id": "c5ec09e86a0e4ad48701e00d7f7020bd",
       "version_major": 2,
       "version_minor": 0
      },
      "text/plain": [
       "data/validation/20250904_234123_00159_rh(…):   0%|          | 0.00/19.9M [00:00<?, ?B/s]"
      ]
     },
     "metadata": {},
     "output_type": "display_data"
    },
    {
     "data": {
      "application/vnd.jupyter.widget-view+json": {
       "model_id": "39ccecdc61f2414cb98c77bcf0e39e51",
       "version_major": 2,
       "version_minor": 0
      },
      "text/plain": [
       "data/validation/20250904_234123_00159_rh(…):   0%|          | 0.00/20.3M [00:00<?, ?B/s]"
      ]
     },
     "metadata": {},
     "output_type": "display_data"
    },
    {
     "data": {
      "application/vnd.jupyter.widget-view+json": {
       "model_id": "b831bfa1d343403e9920bb16a7511b53",
       "version_major": 2,
       "version_minor": 0
      },
      "text/plain": [
       "data/validation/20250904_234123_00159_rh(…):   0%|          | 0.00/17.4M [00:00<?, ?B/s]"
      ]
     },
     "metadata": {},
     "output_type": "display_data"
    },
    {
     "data": {
      "application/vnd.jupyter.widget-view+json": {
       "model_id": "c525d48376ef4685b1c872dec517b8df",
       "version_major": 2,
       "version_minor": 0
      },
      "text/plain": [
       "data/validation/20250904_234123_00159_rh(…):   0%|          | 0.00/16.6M [00:00<?, ?B/s]"
      ]
     },
     "metadata": {},
     "output_type": "display_data"
    },
    {
     "data": {
      "application/vnd.jupyter.widget-view+json": {
       "model_id": "4233a84418fb45608caa66b0e187e359",
       "version_major": 2,
       "version_minor": 0
      },
      "text/plain": [
       "data/validation/20250904_234123_00159_rh(…):   0%|          | 0.00/20.8M [00:00<?, ?B/s]"
      ]
     },
     "metadata": {},
     "output_type": "display_data"
    },
    {
     "data": {
      "application/vnd.jupyter.widget-view+json": {
       "model_id": "35bba7858e6d4278b872f74b740203d8",
       "version_major": 2,
       "version_minor": 0
      },
      "text/plain": [
       "data/validation/20250904_234123_00159_rh(…):   0%|          | 0.00/16.2M [00:00<?, ?B/s]"
      ]
     },
     "metadata": {},
     "output_type": "display_data"
    },
    {
     "data": {
      "application/vnd.jupyter.widget-view+json": {
       "model_id": "0ddd4773800c40688ae582c795bce11a",
       "version_major": 2,
       "version_minor": 0
      },
      "text/plain": [
       "Downloading data:   0%|          | 0/22 [00:00<?, ?files/s]"
      ]
     },
     "metadata": {},
     "output_type": "display_data"
    },
    {
     "data": {
      "application/vnd.jupyter.widget-view+json": {
       "model_id": "1798b42ec97543929ca8fac8a3b386e7",
       "version_major": 2,
       "version_minor": 0
      },
      "text/plain": [
       "data/test/20250904_234106_00279_uggtr_00(…):   0%|          | 0.00/21.8M [00:00<?, ?B/s]"
      ]
     },
     "metadata": {},
     "output_type": "display_data"
    },
    {
     "data": {
      "application/vnd.jupyter.widget-view+json": {
       "model_id": "dbafc37f40394a5f812b1710b2340f2a",
       "version_major": 2,
       "version_minor": 0
      },
      "text/plain": [
       "data/test/20250904_234106_00279_uggtr_0e(…):   0%|          | 0.00/22.5M [00:00<?, ?B/s]"
      ]
     },
     "metadata": {},
     "output_type": "display_data"
    },
    {
     "data": {
      "application/vnd.jupyter.widget-view+json": {
       "model_id": "40cf1dbd3f2a40428966eea027508152",
       "version_major": 2,
       "version_minor": 0
      },
      "text/plain": [
       "data/test/20250904_234106_00279_uggtr_24(…):   0%|          | 0.00/21.4M [00:00<?, ?B/s]"
      ]
     },
     "metadata": {},
     "output_type": "display_data"
    },
    {
     "data": {
      "application/vnd.jupyter.widget-view+json": {
       "model_id": "4642f7305d774e0d850bef4487a421ae",
       "version_major": 2,
       "version_minor": 0
      },
      "text/plain": [
       "data/test/20250904_234106_00279_uggtr_2c(…):   0%|          | 0.00/18.3M [00:00<?, ?B/s]"
      ]
     },
     "metadata": {},
     "output_type": "display_data"
    },
    {
     "data": {
      "application/vnd.jupyter.widget-view+json": {
       "model_id": "c35e7a0646714241baf9674059c3da1b",
       "version_major": 2,
       "version_minor": 0
      },
      "text/plain": [
       "data/test/20250904_234106_00279_uggtr_44(…):   0%|          | 0.00/17.4M [00:00<?, ?B/s]"
      ]
     },
     "metadata": {},
     "output_type": "display_data"
    },
    {
     "data": {
      "application/vnd.jupyter.widget-view+json": {
       "model_id": "2c309f9785e24ba9b38431d7017733c7",
       "version_major": 2,
       "version_minor": 0
      },
      "text/plain": [
       "data/test/20250904_234106_00279_uggtr_58(…):   0%|          | 0.00/19.5M [00:00<?, ?B/s]"
      ]
     },
     "metadata": {},
     "output_type": "display_data"
    },
    {
     "data": {
      "application/vnd.jupyter.widget-view+json": {
       "model_id": "50be83618c434850a0e3d6b40be822ea",
       "version_major": 2,
       "version_minor": 0
      },
      "text/plain": [
       "data/test/20250904_234106_00279_uggtr_5c(…):   0%|          | 0.00/20.2M [00:00<?, ?B/s]"
      ]
     },
     "metadata": {},
     "output_type": "display_data"
    },
    {
     "data": {
      "application/vnd.jupyter.widget-view+json": {
       "model_id": "5377af87133c4dbcbb7bc202d27b73cb",
       "version_major": 2,
       "version_minor": 0
      },
      "text/plain": [
       "data/test/20250904_234106_00279_uggtr_6b(…):   0%|          | 0.00/21.7M [00:00<?, ?B/s]"
      ]
     },
     "metadata": {},
     "output_type": "display_data"
    },
    {
     "data": {
      "application/vnd.jupyter.widget-view+json": {
       "model_id": "a86dca9cd523467693580a1f94f90083",
       "version_major": 2,
       "version_minor": 0
      },
      "text/plain": [
       "data/test/20250904_234106_00279_uggtr_6f(…):   0%|          | 0.00/18.0M [00:00<?, ?B/s]"
      ]
     },
     "metadata": {},
     "output_type": "display_data"
    },
    {
     "data": {
      "application/vnd.jupyter.widget-view+json": {
       "model_id": "9d33b47cc0214acdaeb5dd73a3861360",
       "version_major": 2,
       "version_minor": 0
      },
      "text/plain": [
       "data/test/20250904_234106_00279_uggtr_75(…):   0%|          | 0.00/17.0M [00:00<?, ?B/s]"
      ]
     },
     "metadata": {},
     "output_type": "display_data"
    },
    {
     "data": {
      "application/vnd.jupyter.widget-view+json": {
       "model_id": "a01bb3c6cf6949068d6404dcd4f64373",
       "version_major": 2,
       "version_minor": 0
      },
      "text/plain": [
       "data/test/20250904_234106_00279_uggtr_78(…):   0%|          | 0.00/19.2M [00:00<?, ?B/s]"
      ]
     },
     "metadata": {},
     "output_type": "display_data"
    },
    {
     "data": {
      "application/vnd.jupyter.widget-view+json": {
       "model_id": "103cc6eeae494357abfbfc3f5398c00b",
       "version_major": 2,
       "version_minor": 0
      },
      "text/plain": [
       "data/test/20250904_234106_00279_uggtr_7e(…):   0%|          | 0.00/22.1M [00:00<?, ?B/s]"
      ]
     },
     "metadata": {},
     "output_type": "display_data"
    },
    {
     "data": {
      "application/vnd.jupyter.widget-view+json": {
       "model_id": "46c6e0a2071748bea6f5299b01e6c029",
       "version_major": 2,
       "version_minor": 0
      },
      "text/plain": [
       "data/test/20250904_234106_00279_uggtr_80(…):   0%|          | 0.00/20.7M [00:00<?, ?B/s]"
      ]
     },
     "metadata": {},
     "output_type": "display_data"
    },
    {
     "data": {
      "application/vnd.jupyter.widget-view+json": {
       "model_id": "f898e878a6a946f7a4e0dc92d19f9e66",
       "version_major": 2,
       "version_minor": 0
      },
      "text/plain": [
       "data/test/20250904_234106_00279_uggtr_a5(…):   0%|          | 0.00/20.3M [00:00<?, ?B/s]"
      ]
     },
     "metadata": {},
     "output_type": "display_data"
    },
    {
     "data": {
      "application/vnd.jupyter.widget-view+json": {
       "model_id": "a8b85e3568ce46b382b4131489692a61",
       "version_major": 2,
       "version_minor": 0
      },
      "text/plain": [
       "data/test/20250904_234106_00279_uggtr_a6(…):   0%|          | 0.00/18.2M [00:00<?, ?B/s]"
      ]
     },
     "metadata": {},
     "output_type": "display_data"
    },
    {
     "data": {
      "application/vnd.jupyter.widget-view+json": {
       "model_id": "6ea529c71933484d902d02390b160870",
       "version_major": 2,
       "version_minor": 0
      },
      "text/plain": [
       "data/test/20250904_234106_00279_uggtr_ae(…):   0%|          | 0.00/19.4M [00:00<?, ?B/s]"
      ]
     },
     "metadata": {},
     "output_type": "display_data"
    },
    {
     "data": {
      "application/vnd.jupyter.widget-view+json": {
       "model_id": "f01ecbec5d3b4d5989eb11207ed32a46",
       "version_major": 2,
       "version_minor": 0
      },
      "text/plain": [
       "data/test/20250904_234106_00279_uggtr_b2(…):   0%|          | 0.00/20.7M [00:00<?, ?B/s]"
      ]
     },
     "metadata": {},
     "output_type": "display_data"
    },
    {
     "data": {
      "application/vnd.jupyter.widget-view+json": {
       "model_id": "a8b93a7818814d47a8f5ba9c5c88fa88",
       "version_major": 2,
       "version_minor": 0
      },
      "text/plain": [
       "data/test/20250904_234106_00279_uggtr_b7(…):   0%|          | 0.00/18.1M [00:00<?, ?B/s]"
      ]
     },
     "metadata": {},
     "output_type": "display_data"
    },
    {
     "data": {
      "application/vnd.jupyter.widget-view+json": {
       "model_id": "6a879a3df6dc41ef9313fae4e156d08f",
       "version_major": 2,
       "version_minor": 0
      },
      "text/plain": [
       "data/test/20250904_234106_00279_uggtr_c2(…):   0%|          | 0.00/18.5M [00:00<?, ?B/s]"
      ]
     },
     "metadata": {},
     "output_type": "display_data"
    },
    {
     "data": {
      "application/vnd.jupyter.widget-view+json": {
       "model_id": "72301cf394064a329af9c4c391ff3247",
       "version_major": 2,
       "version_minor": 0
      },
      "text/plain": [
       "data/test/20250904_234106_00279_uggtr_cb(…):   0%|          | 0.00/18.4M [00:00<?, ?B/s]"
      ]
     },
     "metadata": {},
     "output_type": "display_data"
    },
    {
     "data": {
      "application/vnd.jupyter.widget-view+json": {
       "model_id": "65f0c60329f64e69aa613131ec320cca",
       "version_major": 2,
       "version_minor": 0
      },
      "text/plain": [
       "data/test/20250904_234106_00279_uggtr_cf(…):   0%|          | 0.00/21.6M [00:00<?, ?B/s]"
      ]
     },
     "metadata": {},
     "output_type": "display_data"
    },
    {
     "data": {
      "application/vnd.jupyter.widget-view+json": {
       "model_id": "0a6696b30d6d467ab1d0ead2ba6c2690",
       "version_major": 2,
       "version_minor": 0
      },
      "text/plain": [
       "data/test/20250904_234106_00279_uggtr_d9(…):   0%|          | 0.00/17.8M [00:00<?, ?B/s]"
      ]
     },
     "metadata": {},
     "output_type": "display_data"
    },
    {
     "data": {
      "application/vnd.jupyter.widget-view+json": {
       "model_id": "62a747a3f3504222bf21baf90e37a875",
       "version_major": 2,
       "version_minor": 0
      },
      "text/plain": [
       "Generating train split: 0 examples [00:00, ? examples/s]"
      ]
     },
     "metadata": {},
     "output_type": "display_data"
    },
    {
     "data": {
      "application/vnd.jupyter.widget-view+json": {
       "model_id": "27747b3b20fa405d91fe83005eed5e66",
       "version_major": 2,
       "version_minor": 0
      },
      "text/plain": [
       "Generating validation split: 0 examples [00:00, ? examples/s]"
      ]
     },
     "metadata": {},
     "output_type": "display_data"
    },
    {
     "data": {
      "application/vnd.jupyter.widget-view+json": {
       "model_id": "0716440e4a134d79a1bb0ab4dab90fb7",
       "version_major": 2,
       "version_minor": 0
      },
      "text/plain": [
       "Generating test split: 0 examples [00:00, ? examples/s]"
      ]
     },
     "metadata": {},
     "output_type": "display_data"
    },
    {
     "data": {
      "application/vnd.jupyter.widget-view+json": {
       "model_id": "0c392d3847354598acdba60422b980fc",
       "version_major": 2,
       "version_minor": 0
      },
      "text/plain": [
       "Loading dataset shards:   0%|          | 0/22 [00:00<?, ?it/s]"
      ]
     },
     "metadata": {},
     "output_type": "display_data"
    },
    {
     "data": {
      "text/plain": [
       "DatasetDict({\n",
       "    train: Dataset({\n",
       "        features: ['id', 'topic_index', 'topic_display_name', 'subfield_index', 'subfield_display_name', 'title', 'abstract', 'fulltext', 'subset'],\n",
       "        num_rows: 346344\n",
       "    })\n",
       "    validation: Dataset({\n",
       "        features: ['id', 'topic_index', 'topic_display_name', 'subfield_index', 'subfield_display_name', 'title', 'abstract', 'fulltext', 'subset'],\n",
       "        num_rows: 43439\n",
       "    })\n",
       "    test: Dataset({\n",
       "        features: ['id', 'topic_index', 'topic_display_name', 'subfield_index', 'subfield_display_name', 'title', 'abstract', 'fulltext', 'subset'],\n",
       "        num_rows: 43478\n",
       "    })\n",
       "})"
      ]
     },
     "execution_count": 3,
     "metadata": {},
     "output_type": "execute_result"
    }
   ],
   "source": [
    "from datasets import load_dataset, DatasetDict, Dataset\n",
    "dataset_name = 'SteveAKopias/SemanticScholarCSFullTextWithOpenAlexTopics'\n",
    "dataset = load_dataset(dataset_name)\n",
    "dataset"
   ]
  },
  {
   "cell_type": "code",
   "execution_count": 4,
   "id": "80ebcf28",
   "metadata": {
    "execution": {
     "iopub.execute_input": "2025-09-05T16:19:05.755581Z",
     "iopub.status.busy": "2025-09-05T16:19:05.755062Z",
     "iopub.status.idle": "2025-09-05T16:19:20.727271Z",
     "shell.execute_reply": "2025-09-05T16:19:20.726243Z",
     "shell.execute_reply.started": "2025-09-05T16:19:05.755552Z"
    }
   },
   "outputs": [
    {
     "data": {
      "application/vnd.jupyter.widget-view+json": {
       "model_id": "f6b08044f85e4d3aad212a5fe4d00bcb",
       "version_major": 2,
       "version_minor": 0
      },
      "text/plain": [
       "Uploading the dataset shards (num_proc=8):   0%|          | 0/8 [00:00<?, ? shards/s]"
      ]
     },
     "metadata": {},
     "output_type": "display_data"
    },
    {
     "data": {
      "application/vnd.jupyter.widget-view+json": {
       "model_id": "cfae10bbc418480e8e768a649417d4fc",
       "version_major": 2,
       "version_minor": 0
      },
      "text/plain": [
       "Uploading the dataset shards (num_proc=8):   0%|          | 0/8 [00:00<?, ? shards/s]"
      ]
     },
     "metadata": {},
     "output_type": "display_data"
    },
    {
     "data": {
      "application/vnd.jupyter.widget-view+json": {
       "model_id": "c7fc2fc138164893a6214e57688becac",
       "version_major": 2,
       "version_minor": 0
      },
      "text/plain": [
       "Uploading the dataset shards (num_proc=8):   0%|          | 0/8 [00:00<?, ? shards/s]"
      ]
     },
     "metadata": {},
     "output_type": "display_data"
    },
    {
     "data": {
      "text/plain": [
       "CommitInfo(commit_url='https://huggingface.co/datasets/SteveAKopias/SemanticScholarCSFullTextWithOpenAlexTopics_Title_SubfieldIndex/commit/2d2c92e9eab96c21183d65369bf545483ae05c50', commit_message='Upload dataset', commit_description='', oid='2d2c92e9eab96c21183d65369bf545483ae05c50', pr_url=None, repo_url=RepoUrl('https://huggingface.co/datasets/SteveAKopias/SemanticScholarCSFullTextWithOpenAlexTopics_Title_SubfieldIndex', endpoint='https://huggingface.co', repo_type='dataset', repo_id='SteveAKopias/SemanticScholarCSFullTextWithOpenAlexTopics_Title_SubfieldIndex'), pr_revision=None, pr_num=None)"
      ]
     },
     "execution_count": 4,
     "metadata": {},
     "output_type": "execute_result"
    }
   ],
   "source": [
    "dataset_title_subfieldindex = dataset.select_columns(['title', 'subfield_index'])\n",
    "dataset_title_subfieldindex.push_to_hub('SteveAKopias/SemanticScholarCSFullTextWithOpenAlexTopics'+'_Title_SubfieldIndex', num_proc=8)"
   ]
  },
  {
   "cell_type": "code",
   "execution_count": 5,
   "id": "31c4bae7",
   "metadata": {
    "execution": {
     "iopub.execute_input": "2025-09-05T16:19:21.031738Z",
     "iopub.status.busy": "2025-09-05T16:19:21.031439Z",
     "iopub.status.idle": "2025-09-05T16:19:30.033108Z",
     "shell.execute_reply": "2025-09-05T16:19:30.031729Z",
     "shell.execute_reply.started": "2025-09-05T16:19:21.031710Z"
    }
   },
   "outputs": [
    {
     "data": {
      "application/vnd.jupyter.widget-view+json": {
       "model_id": "bd166a2fde2f45de917e72701ee7bffb",
       "version_major": 2,
       "version_minor": 0
      },
      "text/plain": [
       "Uploading the dataset shards (num_proc=8):   0%|          | 0/8 [00:00<?, ? shards/s]"
      ]
     },
     "metadata": {},
     "output_type": "display_data"
    },
    {
     "data": {
      "application/vnd.jupyter.widget-view+json": {
       "model_id": "938958fd0e4446cabd2b8e0944dcee17",
       "version_major": 2,
       "version_minor": 0
      },
      "text/plain": [
       "Uploading the dataset shards (num_proc=8):   0%|          | 0/8 [00:00<?, ? shards/s]"
      ]
     },
     "metadata": {},
     "output_type": "display_data"
    },
    {
     "data": {
      "application/vnd.jupyter.widget-view+json": {
       "model_id": "2d78118e05eb4ab9b1dd870cd848aa44",
       "version_major": 2,
       "version_minor": 0
      },
      "text/plain": [
       "Uploading the dataset shards (num_proc=8):   0%|          | 0/8 [00:00<?, ? shards/s]"
      ]
     },
     "metadata": {},
     "output_type": "display_data"
    },
    {
     "data": {
      "text/plain": [
       "CommitInfo(commit_url='https://huggingface.co/datasets/SteveAKopias/SemanticScholarCSFullTextWithOpenAlexTopics_Title_TopicIndex/commit/40911f919c3308e0a6a8e6aa3e981dcc2178b99d', commit_message='Upload dataset', commit_description='', oid='40911f919c3308e0a6a8e6aa3e981dcc2178b99d', pr_url=None, repo_url=RepoUrl('https://huggingface.co/datasets/SteveAKopias/SemanticScholarCSFullTextWithOpenAlexTopics_Title_TopicIndex', endpoint='https://huggingface.co', repo_type='dataset', repo_id='SteveAKopias/SemanticScholarCSFullTextWithOpenAlexTopics_Title_TopicIndex'), pr_revision=None, pr_num=None)"
      ]
     },
     "execution_count": 5,
     "metadata": {},
     "output_type": "execute_result"
    }
   ],
   "source": [
    "dataset_title_topicindex = dataset.select_columns(['title', 'topic_index'])\n",
    "dataset_title_topicindex.push_to_hub('SteveAKopias/SemanticScholarCSFullTextWithOpenAlexTopics'+'_Title_TopicIndex', num_proc=8)"
   ]
  },
  {
   "cell_type": "code",
   "execution_count": 6,
   "id": "5cfc9a54",
   "metadata": {
    "execution": {
     "iopub.execute_input": "2025-09-05T16:19:30.034445Z",
     "iopub.status.busy": "2025-09-05T16:19:30.034141Z",
     "iopub.status.idle": "2025-09-05T16:19:56.763276Z",
     "shell.execute_reply": "2025-09-05T16:19:56.762354Z",
     "shell.execute_reply.started": "2025-09-05T16:19:30.034417Z"
    }
   },
   "outputs": [
    {
     "data": {
      "application/vnd.jupyter.widget-view+json": {
       "model_id": "99f0e18e56b74562acc5a60358d620ac",
       "version_major": 2,
       "version_minor": 0
      },
      "text/plain": [
       "Uploading the dataset shards (num_proc=8):   0%|          | 0/8 [00:00<?, ? shards/s]"
      ]
     },
     "metadata": {},
     "output_type": "display_data"
    },
    {
     "data": {
      "application/vnd.jupyter.widget-view+json": {
       "model_id": "1b71ae7dcdf9465f8c539c87a88ee1d7",
       "version_major": 2,
       "version_minor": 0
      },
      "text/plain": [
       "Uploading the dataset shards (num_proc=8):   0%|          | 0/8 [00:00<?, ? shards/s]"
      ]
     },
     "metadata": {},
     "output_type": "display_data"
    },
    {
     "data": {
      "application/vnd.jupyter.widget-view+json": {
       "model_id": "07c82ff47dd94304a3b3614d9c14148b",
       "version_major": 2,
       "version_minor": 0
      },
      "text/plain": [
       "Uploading the dataset shards (num_proc=8):   0%|          | 0/8 [00:00<?, ? shards/s]"
      ]
     },
     "metadata": {},
     "output_type": "display_data"
    },
    {
     "data": {
      "application/vnd.jupyter.widget-view+json": {
       "model_id": "be167ff3a1f6477db3bb38f79b99174c",
       "version_major": 2,
       "version_minor": 0
      },
      "text/plain": [
       "Uploading the dataset shards (num_proc=8):   0%|          | 0/8 [00:00<?, ? shards/s]"
      ]
     },
     "metadata": {},
     "output_type": "display_data"
    },
    {
     "data": {
      "application/vnd.jupyter.widget-view+json": {
       "model_id": "8e497cf343424e9c81661d1f6bb3fee4",
       "version_major": 2,
       "version_minor": 0
      },
      "text/plain": [
       "Uploading the dataset shards (num_proc=8):   0%|          | 0/8 [00:00<?, ? shards/s]"
      ]
     },
     "metadata": {},
     "output_type": "display_data"
    },
    {
     "data": {
      "application/vnd.jupyter.widget-view+json": {
       "model_id": "93445d117b3b426f81c0b9ee86ff55e4",
       "version_major": 2,
       "version_minor": 0
      },
      "text/plain": [
       "Uploading the dataset shards (num_proc=8):   0%|          | 0/8 [00:00<?, ? shards/s]"
      ]
     },
     "metadata": {},
     "output_type": "display_data"
    },
    {
     "data": {
      "text/plain": [
       "CommitInfo(commit_url='https://huggingface.co/datasets/SteveAKopias/SemanticScholarCSFullTextWithOpenAlexTopics_Abstract_TopicIndex/commit/e2f0fdcb967cb3052d25ccfc362e1d07a8a89304', commit_message='Upload dataset', commit_description='', oid='e2f0fdcb967cb3052d25ccfc362e1d07a8a89304', pr_url=None, repo_url=RepoUrl('https://huggingface.co/datasets/SteveAKopias/SemanticScholarCSFullTextWithOpenAlexTopics_Abstract_TopicIndex', endpoint='https://huggingface.co', repo_type='dataset', repo_id='SteveAKopias/SemanticScholarCSFullTextWithOpenAlexTopics_Abstract_TopicIndex'), pr_revision=None, pr_num=None)"
      ]
     },
     "execution_count": 6,
     "metadata": {},
     "output_type": "execute_result"
    }
   ],
   "source": [
    "dataset_abstract_subfieldindex = dataset.select_columns(['abstract', 'subfield_index'])\n",
    "dataset_abstract_subfieldindex.push_to_hub('SteveAKopias/SemanticScholarCSFullTextWithOpenAlexTopics'+'_Abstract_SubfieldIndex', num_proc=8)\n",
    "dataset_abstract_topicindex = dataset.select_columns(['abstract', 'topic_index'])\n",
    "dataset_abstract_topicindex.push_to_hub('SteveAKopias/SemanticScholarCSFullTextWithOpenAlexTopics'+'_Abstract_TopicIndex', num_proc=8)"
   ]
  },
  {
   "cell_type": "code",
   "execution_count": 7,
   "id": "56727830",
   "metadata": {
    "execution": {
     "iopub.execute_input": "2025-09-05T16:19:56.764549Z",
     "iopub.status.busy": "2025-09-05T16:19:56.764286Z",
     "iopub.status.idle": "2025-09-05T16:26:45.618762Z",
     "shell.execute_reply": "2025-09-05T16:26:45.617324Z",
     "shell.execute_reply.started": "2025-09-05T16:19:56.764526Z"
    },
    "scrolled": true
   },
   "outputs": [
    {
     "data": {
      "application/vnd.jupyter.widget-view+json": {
       "model_id": "c90fef94e4be4d9e8cd9e83cc8449f61",
       "version_major": 2,
       "version_minor": 0
      },
      "text/plain": [
       "Uploading the dataset shards:   0%|          | 0/23 [00:00<?, ? shards/s]"
      ]
     },
     "metadata": {},
     "output_type": "display_data"
    },
    {
     "data": {
      "application/vnd.jupyter.widget-view+json": {
       "model_id": "5ba75e5942ee4400823e4847c4f9047d",
       "version_major": 2,
       "version_minor": 0
      },
      "text/plain": [
       "Creating parquet from Arrow format:   0%|          | 0/16 [00:00<?, ?ba/s]"
      ]
     },
     "metadata": {},
     "output_type": "display_data"
    },
    {
     "data": {
      "application/vnd.jupyter.widget-view+json": {
       "model_id": "dac9059f6d364c3783574071c707c1e6",
       "version_major": 2,
       "version_minor": 0
      },
      "text/plain": [
       "Processing Files (0 / 0)                : |          |  0.00B /  0.00B            "
      ]
     },
     "metadata": {},
     "output_type": "display_data"
    },
    {
     "data": {
      "application/vnd.jupyter.widget-view+json": {
       "model_id": "8404d58911f1405781c7a19623fbfbf6",
       "version_major": 2,
       "version_minor": 0
      },
      "text/plain": [
       "New Data Upload                         : |          |  0.00B /  0.00B            "
      ]
     },
     "metadata": {},
     "output_type": "display_data"
    },
    {
     "data": {
      "application/vnd.jupyter.widget-view+json": {
       "model_id": "77a229378ca44ee99591755e23d37219",
       "version_major": 2,
       "version_minor": 0
      },
      "text/plain": [
       "                                        :   0%|          |  524kB /  222MB            "
      ]
     },
     "metadata": {},
     "output_type": "display_data"
    },
    {
     "data": {
      "application/vnd.jupyter.widget-view+json": {
       "model_id": "078296be511a45eda3ae15ff7b7bb425",
       "version_major": 2,
       "version_minor": 0
      },
      "text/plain": [
       "Creating parquet from Arrow format:   0%|          | 0/16 [00:00<?, ?ba/s]"
      ]
     },
     "metadata": {},
     "output_type": "display_data"
    },
    {
     "data": {
      "application/vnd.jupyter.widget-view+json": {
       "model_id": "47c1ddef66194a95b6887d505c94c7bf",
       "version_major": 2,
       "version_minor": 0
      },
      "text/plain": [
       "Processing Files (0 / 0)                : |          |  0.00B /  0.00B            "
      ]
     },
     "metadata": {},
     "output_type": "display_data"
    },
    {
     "data": {
      "application/vnd.jupyter.widget-view+json": {
       "model_id": "81d985af28a54fcba22e7d3c1038e52d",
       "version_major": 2,
       "version_minor": 0
      },
      "text/plain": [
       "New Data Upload                         : |          |  0.00B /  0.00B            "
      ]
     },
     "metadata": {},
     "output_type": "display_data"
    },
    {
     "data": {
      "application/vnd.jupyter.widget-view+json": {
       "model_id": "75bab7b076314cb7971d01b27ee4405b",
       "version_major": 2,
       "version_minor": 0
      },
      "text/plain": [
       "                                        :   2%|1         | 3.68MB /  231MB            "
      ]
     },
     "metadata": {},
     "output_type": "display_data"
    },
    {
     "data": {
      "application/vnd.jupyter.widget-view+json": {
       "model_id": "31bc482e11a74853a7970e410df48deb",
       "version_major": 2,
       "version_minor": 0
      },
      "text/plain": [
       "Creating parquet from Arrow format:   0%|          | 0/16 [00:00<?, ?ba/s]"
      ]
     },
     "metadata": {},
     "output_type": "display_data"
    },
    {
     "data": {
      "application/vnd.jupyter.widget-view+json": {
       "model_id": "d3be216f17374df589c7a6f5b186f457",
       "version_major": 2,
       "version_minor": 0
      },
      "text/plain": [
       "Processing Files (0 / 0)                : |          |  0.00B /  0.00B            "
      ]
     },
     "metadata": {},
     "output_type": "display_data"
    },
    {
     "data": {
      "application/vnd.jupyter.widget-view+json": {
       "model_id": "055ee780da8144d19b1bb9b98476e8db",
       "version_major": 2,
       "version_minor": 0
      },
      "text/plain": [
       "New Data Upload                         : |          |  0.00B /  0.00B            "
      ]
     },
     "metadata": {},
     "output_type": "display_data"
    },
    {
     "data": {
      "application/vnd.jupyter.widget-view+json": {
       "model_id": "24c8f4a3728b41a3a3bc07802af04ce5",
       "version_major": 2,
       "version_minor": 0
      },
      "text/plain": [
       "                                        :   2%|1         | 3.67MB /  223MB            "
      ]
     },
     "metadata": {},
     "output_type": "display_data"
    },
    {
     "data": {
      "application/vnd.jupyter.widget-view+json": {
       "model_id": "d598a8558126422c9bb8a0c8683cf189",
       "version_major": 2,
       "version_minor": 0
      },
      "text/plain": [
       "Creating parquet from Arrow format:   0%|          | 0/16 [00:00<?, ?ba/s]"
      ]
     },
     "metadata": {},
     "output_type": "display_data"
    },
    {
     "data": {
      "application/vnd.jupyter.widget-view+json": {
       "model_id": "ff74d6ad3ff2434b90b637016be35f27",
       "version_major": 2,
       "version_minor": 0
      },
      "text/plain": [
       "Processing Files (0 / 0)                : |          |  0.00B /  0.00B            "
      ]
     },
     "metadata": {},
     "output_type": "display_data"
    },
    {
     "data": {
      "application/vnd.jupyter.widget-view+json": {
       "model_id": "36f1c2eac20548d686a66653eb15e6f0",
       "version_major": 2,
       "version_minor": 0
      },
      "text/plain": [
       "New Data Upload                         : |          |  0.00B /  0.00B            "
      ]
     },
     "metadata": {},
     "output_type": "display_data"
    },
    {
     "data": {
      "application/vnd.jupyter.widget-view+json": {
       "model_id": "26f21dbb531040ba98a214944c72e8c9",
       "version_major": 2,
       "version_minor": 0
      },
      "text/plain": [
       "                                        :   2%|1         | 3.67MB /  231MB            "
      ]
     },
     "metadata": {},
     "output_type": "display_data"
    },
    {
     "data": {
      "application/vnd.jupyter.widget-view+json": {
       "model_id": "5f1f322e63434f2192ecc8b4cad6ceff",
       "version_major": 2,
       "version_minor": 0
      },
      "text/plain": [
       "Creating parquet from Arrow format:   0%|          | 0/16 [00:00<?, ?ba/s]"
      ]
     },
     "metadata": {},
     "output_type": "display_data"
    },
    {
     "data": {
      "application/vnd.jupyter.widget-view+json": {
       "model_id": "8b7dca41afaf45968ba910ffb97e4344",
       "version_major": 2,
       "version_minor": 0
      },
      "text/plain": [
       "Processing Files (0 / 0)                : |          |  0.00B /  0.00B            "
      ]
     },
     "metadata": {},
     "output_type": "display_data"
    },
    {
     "data": {
      "application/vnd.jupyter.widget-view+json": {
       "model_id": "2ec99722a227498b9b08ee05dfb1bbc9",
       "version_major": 2,
       "version_minor": 0
      },
      "text/plain": [
       "New Data Upload                         : |          |  0.00B /  0.00B            "
      ]
     },
     "metadata": {},
     "output_type": "display_data"
    },
    {
     "data": {
      "application/vnd.jupyter.widget-view+json": {
       "model_id": "1d9f039e0c9446f8b37e2f6b75af55a8",
       "version_major": 2,
       "version_minor": 0
      },
      "text/plain": [
       "                                        :   2%|1         | 3.67MB /  233MB            "
      ]
     },
     "metadata": {},
     "output_type": "display_data"
    },
    {
     "data": {
      "application/vnd.jupyter.widget-view+json": {
       "model_id": "a15653d352064815a80d1859b6dbd6e5",
       "version_major": 2,
       "version_minor": 0
      },
      "text/plain": [
       "Creating parquet from Arrow format:   0%|          | 0/16 [00:00<?, ?ba/s]"
      ]
     },
     "metadata": {},
     "output_type": "display_data"
    },
    {
     "data": {
      "application/vnd.jupyter.widget-view+json": {
       "model_id": "87a5d9baf7f941bdb2b495365722789b",
       "version_major": 2,
       "version_minor": 0
      },
      "text/plain": [
       "Processing Files (0 / 0)                : |          |  0.00B /  0.00B            "
      ]
     },
     "metadata": {},
     "output_type": "display_data"
    },
    {
     "data": {
      "application/vnd.jupyter.widget-view+json": {
       "model_id": "c167cdfa00aa4e3d803baba9f42a74d2",
       "version_major": 2,
       "version_minor": 0
      },
      "text/plain": [
       "New Data Upload                         : |          |  0.00B /  0.00B            "
      ]
     },
     "metadata": {},
     "output_type": "display_data"
    },
    {
     "data": {
      "application/vnd.jupyter.widget-view+json": {
       "model_id": "fb0c0e9fda684e3eb6a77e6670599310",
       "version_major": 2,
       "version_minor": 0
      },
      "text/plain": [
       "                                        :   2%|1         | 3.68MB /  232MB            "
      ]
     },
     "metadata": {},
     "output_type": "display_data"
    },
    {
     "data": {
      "application/vnd.jupyter.widget-view+json": {
       "model_id": "e628f03e9eca4aada6704089e5ea3dea",
       "version_major": 2,
       "version_minor": 0
      },
      "text/plain": [
       "Creating parquet from Arrow format:   0%|          | 0/16 [00:00<?, ?ba/s]"
      ]
     },
     "metadata": {},
     "output_type": "display_data"
    },
    {
     "data": {
      "application/vnd.jupyter.widget-view+json": {
       "model_id": "0efb6fa6ec4745d3840f4dd9e45e3111",
       "version_major": 2,
       "version_minor": 0
      },
      "text/plain": [
       "Processing Files (0 / 0)                : |          |  0.00B /  0.00B            "
      ]
     },
     "metadata": {},
     "output_type": "display_data"
    },
    {
     "data": {
      "application/vnd.jupyter.widget-view+json": {
       "model_id": "80a08308b7f644d0aefa83ce377788e0",
       "version_major": 2,
       "version_minor": 0
      },
      "text/plain": [
       "New Data Upload                         : |          |  0.00B /  0.00B            "
      ]
     },
     "metadata": {},
     "output_type": "display_data"
    },
    {
     "data": {
      "application/vnd.jupyter.widget-view+json": {
       "model_id": "341f5501160f4515add208223d67361d",
       "version_major": 2,
       "version_minor": 0
      },
      "text/plain": [
       "                                        :   2%|1         | 3.67MB /  235MB            "
      ]
     },
     "metadata": {},
     "output_type": "display_data"
    },
    {
     "data": {
      "application/vnd.jupyter.widget-view+json": {
       "model_id": "907e58a0fc0943df8c7681b5c429a296",
       "version_major": 2,
       "version_minor": 0
      },
      "text/plain": [
       "Creating parquet from Arrow format:   0%|          | 0/16 [00:00<?, ?ba/s]"
      ]
     },
     "metadata": {},
     "output_type": "display_data"
    },
    {
     "data": {
      "application/vnd.jupyter.widget-view+json": {
       "model_id": "a5d6c35d62a14d22a9f2e08516e77378",
       "version_major": 2,
       "version_minor": 0
      },
      "text/plain": [
       "Processing Files (0 / 0)                : |          |  0.00B /  0.00B            "
      ]
     },
     "metadata": {},
     "output_type": "display_data"
    },
    {
     "data": {
      "application/vnd.jupyter.widget-view+json": {
       "model_id": "7ea890f056cc4eeaa72e5897e6bae790",
       "version_major": 2,
       "version_minor": 0
      },
      "text/plain": [
       "New Data Upload                         : |          |  0.00B /  0.00B            "
      ]
     },
     "metadata": {},
     "output_type": "display_data"
    },
    {
     "data": {
      "application/vnd.jupyter.widget-view+json": {
       "model_id": "9cd54ff2acd945299abfe3f76fcbd569",
       "version_major": 2,
       "version_minor": 0
      },
      "text/plain": [
       "                                        :   2%|1         | 3.68MB /  233MB            "
      ]
     },
     "metadata": {},
     "output_type": "display_data"
    },
    {
     "data": {
      "application/vnd.jupyter.widget-view+json": {
       "model_id": "c069c91dd2584853b7467edc2741cefe",
       "version_major": 2,
       "version_minor": 0
      },
      "text/plain": [
       "Creating parquet from Arrow format:   0%|          | 0/16 [00:00<?, ?ba/s]"
      ]
     },
     "metadata": {},
     "output_type": "display_data"
    },
    {
     "data": {
      "application/vnd.jupyter.widget-view+json": {
       "model_id": "ea200bf6268e4c9c83a8768546c1484c",
       "version_major": 2,
       "version_minor": 0
      },
      "text/plain": [
       "Processing Files (0 / 0)                : |          |  0.00B /  0.00B            "
      ]
     },
     "metadata": {},
     "output_type": "display_data"
    },
    {
     "data": {
      "application/vnd.jupyter.widget-view+json": {
       "model_id": "dfa59f4df45846f6b49bf860e859739c",
       "version_major": 2,
       "version_minor": 0
      },
      "text/plain": [
       "New Data Upload                         : |          |  0.00B /  0.00B            "
      ]
     },
     "metadata": {},
     "output_type": "display_data"
    },
    {
     "data": {
      "application/vnd.jupyter.widget-view+json": {
       "model_id": "418629ca775749a1a55fba24a65bbb16",
       "version_major": 2,
       "version_minor": 0
      },
      "text/plain": [
       "                                        :   2%|1         | 3.68MB /  237MB            "
      ]
     },
     "metadata": {},
     "output_type": "display_data"
    },
    {
     "data": {
      "application/vnd.jupyter.widget-view+json": {
       "model_id": "e1d8e72e0f694e1b90ade64c18f5ce8e",
       "version_major": 2,
       "version_minor": 0
      },
      "text/plain": [
       "Creating parquet from Arrow format:   0%|          | 0/16 [00:00<?, ?ba/s]"
      ]
     },
     "metadata": {},
     "output_type": "display_data"
    },
    {
     "data": {
      "application/vnd.jupyter.widget-view+json": {
       "model_id": "e4d0708729ce49548b0e5a34b123a6d4",
       "version_major": 2,
       "version_minor": 0
      },
      "text/plain": [
       "Processing Files (0 / 0)                : |          |  0.00B /  0.00B            "
      ]
     },
     "metadata": {},
     "output_type": "display_data"
    },
    {
     "data": {
      "application/vnd.jupyter.widget-view+json": {
       "model_id": "f0027d900a264219b1ee6b6d30fb2313",
       "version_major": 2,
       "version_minor": 0
      },
      "text/plain": [
       "New Data Upload                         : |          |  0.00B /  0.00B            "
      ]
     },
     "metadata": {},
     "output_type": "display_data"
    },
    {
     "data": {
      "application/vnd.jupyter.widget-view+json": {
       "model_id": "458a382d23754ea99f55761ae0e05788",
       "version_major": 2,
       "version_minor": 0
      },
      "text/plain": [
       "                                        :   2%|1         | 3.68MB /  231MB            "
      ]
     },
     "metadata": {},
     "output_type": "display_data"
    },
    {
     "data": {
      "application/vnd.jupyter.widget-view+json": {
       "model_id": "5b45e6a2faa64fba810076f2d1dc044e",
       "version_major": 2,
       "version_minor": 0
      },
      "text/plain": [
       "Creating parquet from Arrow format:   0%|          | 0/16 [00:00<?, ?ba/s]"
      ]
     },
     "metadata": {},
     "output_type": "display_data"
    },
    {
     "data": {
      "application/vnd.jupyter.widget-view+json": {
       "model_id": "d5813cff3d94486fa70c18bcd2b00483",
       "version_major": 2,
       "version_minor": 0
      },
      "text/plain": [
       "Processing Files (0 / 0)                : |          |  0.00B /  0.00B            "
      ]
     },
     "metadata": {},
     "output_type": "display_data"
    },
    {
     "data": {
      "application/vnd.jupyter.widget-view+json": {
       "model_id": "80a25f6826cd413db3897da7177edac9",
       "version_major": 2,
       "version_minor": 0
      },
      "text/plain": [
       "New Data Upload                         : |          |  0.00B /  0.00B            "
      ]
     },
     "metadata": {},
     "output_type": "display_data"
    },
    {
     "data": {
      "application/vnd.jupyter.widget-view+json": {
       "model_id": "79511b28eb6c40c18acbebd6806c71e5",
       "version_major": 2,
       "version_minor": 0
      },
      "text/plain": [
       "                                        :   2%|1         | 3.68MB /  232MB            "
      ]
     },
     "metadata": {},
     "output_type": "display_data"
    },
    {
     "data": {
      "application/vnd.jupyter.widget-view+json": {
       "model_id": "f22a6db69e274f55aa96fddd5ac86dd2",
       "version_major": 2,
       "version_minor": 0
      },
      "text/plain": [
       "Creating parquet from Arrow format:   0%|          | 0/16 [00:00<?, ?ba/s]"
      ]
     },
     "metadata": {},
     "output_type": "display_data"
    },
    {
     "data": {
      "application/vnd.jupyter.widget-view+json": {
       "model_id": "febd213bb5ce4d6eb488955d33d48619",
       "version_major": 2,
       "version_minor": 0
      },
      "text/plain": [
       "Processing Files (0 / 0)                : |          |  0.00B /  0.00B            "
      ]
     },
     "metadata": {},
     "output_type": "display_data"
    },
    {
     "data": {
      "application/vnd.jupyter.widget-view+json": {
       "model_id": "6be1cefb698a4e138168137a15fa27cf",
       "version_major": 2,
       "version_minor": 0
      },
      "text/plain": [
       "New Data Upload                         : |          |  0.00B /  0.00B            "
      ]
     },
     "metadata": {},
     "output_type": "display_data"
    },
    {
     "data": {
      "application/vnd.jupyter.widget-view+json": {
       "model_id": "71c7835f678d4ee795c53a00edaa4d31",
       "version_major": 2,
       "version_minor": 0
      },
      "text/plain": [
       "                                        :   2%|1         | 3.68MB /  230MB            "
      ]
     },
     "metadata": {},
     "output_type": "display_data"
    },
    {
     "data": {
      "application/vnd.jupyter.widget-view+json": {
       "model_id": "f7d90d3e54114066b7939dc556710bf9",
       "version_major": 2,
       "version_minor": 0
      },
      "text/plain": [
       "Creating parquet from Arrow format:   0%|          | 0/16 [00:00<?, ?ba/s]"
      ]
     },
     "metadata": {},
     "output_type": "display_data"
    },
    {
     "data": {
      "application/vnd.jupyter.widget-view+json": {
       "model_id": "9021861f826440cd8815c8b83f0dce79",
       "version_major": 2,
       "version_minor": 0
      },
      "text/plain": [
       "Processing Files (0 / 0)                : |          |  0.00B /  0.00B            "
      ]
     },
     "metadata": {},
     "output_type": "display_data"
    },
    {
     "data": {
      "application/vnd.jupyter.widget-view+json": {
       "model_id": "cdc23c303fbc4b44a769a4ce5973da50",
       "version_major": 2,
       "version_minor": 0
      },
      "text/plain": [
       "New Data Upload                         : |          |  0.00B /  0.00B            "
      ]
     },
     "metadata": {},
     "output_type": "display_data"
    },
    {
     "data": {
      "application/vnd.jupyter.widget-view+json": {
       "model_id": "a911342cff254d6a881a6dc31b8bf937",
       "version_major": 2,
       "version_minor": 0
      },
      "text/plain": [
       "                                        :   2%|1         | 3.73MB /  227MB            "
      ]
     },
     "metadata": {},
     "output_type": "display_data"
    },
    {
     "data": {
      "application/vnd.jupyter.widget-view+json": {
       "model_id": "7648be450d594543892a7ccff2111e98",
       "version_major": 2,
       "version_minor": 0
      },
      "text/plain": [
       "Creating parquet from Arrow format:   0%|          | 0/16 [00:00<?, ?ba/s]"
      ]
     },
     "metadata": {},
     "output_type": "display_data"
    },
    {
     "data": {
      "application/vnd.jupyter.widget-view+json": {
       "model_id": "a81dd5df315b41e588e12ccf9be94f52",
       "version_major": 2,
       "version_minor": 0
      },
      "text/plain": [
       "Processing Files (0 / 0)                : |          |  0.00B /  0.00B            "
      ]
     },
     "metadata": {},
     "output_type": "display_data"
    },
    {
     "data": {
      "application/vnd.jupyter.widget-view+json": {
       "model_id": "4e6e44ac473146f4a4d5f85ca03c70a2",
       "version_major": 2,
       "version_minor": 0
      },
      "text/plain": [
       "New Data Upload                         : |          |  0.00B /  0.00B            "
      ]
     },
     "metadata": {},
     "output_type": "display_data"
    },
    {
     "data": {
      "application/vnd.jupyter.widget-view+json": {
       "model_id": "02cbc5990e1f45d590d9ef228de26da2",
       "version_major": 2,
       "version_minor": 0
      },
      "text/plain": [
       "                                        :   2%|1         | 3.68MB /  228MB            "
      ]
     },
     "metadata": {},
     "output_type": "display_data"
    },
    {
     "data": {
      "application/vnd.jupyter.widget-view+json": {
       "model_id": "84197c92b0c949a0a01b1c88a530b5a9",
       "version_major": 2,
       "version_minor": 0
      },
      "text/plain": [
       "Creating parquet from Arrow format:   0%|          | 0/16 [00:00<?, ?ba/s]"
      ]
     },
     "metadata": {},
     "output_type": "display_data"
    },
    {
     "data": {
      "application/vnd.jupyter.widget-view+json": {
       "model_id": "21ba7a2913e34e028308d1d9954e530c",
       "version_major": 2,
       "version_minor": 0
      },
      "text/plain": [
       "Processing Files (0 / 0)                : |          |  0.00B /  0.00B            "
      ]
     },
     "metadata": {},
     "output_type": "display_data"
    },
    {
     "data": {
      "application/vnd.jupyter.widget-view+json": {
       "model_id": "68574c4b11314cf9989ff7bec7216a14",
       "version_major": 2,
       "version_minor": 0
      },
      "text/plain": [
       "New Data Upload                         : |          |  0.00B /  0.00B            "
      ]
     },
     "metadata": {},
     "output_type": "display_data"
    },
    {
     "data": {
      "application/vnd.jupyter.widget-view+json": {
       "model_id": "9346ad8d4f6c43fcbba10a75f2876140",
       "version_major": 2,
       "version_minor": 0
      },
      "text/plain": [
       "                                        :   2%|1         | 3.68MB /  230MB            "
      ]
     },
     "metadata": {},
     "output_type": "display_data"
    },
    {
     "data": {
      "application/vnd.jupyter.widget-view+json": {
       "model_id": "727ffd0beeb84cb88d6849630cae1626",
       "version_major": 2,
       "version_minor": 0
      },
      "text/plain": [
       "Creating parquet from Arrow format:   0%|          | 0/16 [00:00<?, ?ba/s]"
      ]
     },
     "metadata": {},
     "output_type": "display_data"
    },
    {
     "data": {
      "application/vnd.jupyter.widget-view+json": {
       "model_id": "633ca7d5eb2c47efa959dea85bc8b444",
       "version_major": 2,
       "version_minor": 0
      },
      "text/plain": [
       "Processing Files (0 / 0)                : |          |  0.00B /  0.00B            "
      ]
     },
     "metadata": {},
     "output_type": "display_data"
    },
    {
     "data": {
      "application/vnd.jupyter.widget-view+json": {
       "model_id": "a0d38cb36e3b4f78a7c50713165b802a",
       "version_major": 2,
       "version_minor": 0
      },
      "text/plain": [
       "New Data Upload                         : |          |  0.00B /  0.00B            "
      ]
     },
     "metadata": {},
     "output_type": "display_data"
    },
    {
     "data": {
      "application/vnd.jupyter.widget-view+json": {
       "model_id": "1cbcb97e82074088bbc3e693d6f11bf0",
       "version_major": 2,
       "version_minor": 0
      },
      "text/plain": [
       "                                        :   2%|1         | 3.67MB /  229MB            "
      ]
     },
     "metadata": {},
     "output_type": "display_data"
    },
    {
     "data": {
      "application/vnd.jupyter.widget-view+json": {
       "model_id": "d9c21c777eee413cbb1b73ca9b112e3b",
       "version_major": 2,
       "version_minor": 0
      },
      "text/plain": [
       "Creating parquet from Arrow format:   0%|          | 0/16 [00:00<?, ?ba/s]"
      ]
     },
     "metadata": {},
     "output_type": "display_data"
    },
    {
     "data": {
      "application/vnd.jupyter.widget-view+json": {
       "model_id": "03debb7fbae0428ea46b8b66a021b561",
       "version_major": 2,
       "version_minor": 0
      },
      "text/plain": [
       "Processing Files (0 / 0)                : |          |  0.00B /  0.00B            "
      ]
     },
     "metadata": {},
     "output_type": "display_data"
    },
    {
     "data": {
      "application/vnd.jupyter.widget-view+json": {
       "model_id": "55dced3f278f42139c4e211e7e6dd580",
       "version_major": 2,
       "version_minor": 0
      },
      "text/plain": [
       "New Data Upload                         : |          |  0.00B /  0.00B            "
      ]
     },
     "metadata": {},
     "output_type": "display_data"
    },
    {
     "data": {
      "application/vnd.jupyter.widget-view+json": {
       "model_id": "d8c25795d77b4deba195fbb98f4ee875",
       "version_major": 2,
       "version_minor": 0
      },
      "text/plain": [
       "                                        :   2%|1         | 3.68MB /  228MB            "
      ]
     },
     "metadata": {},
     "output_type": "display_data"
    },
    {
     "data": {
      "application/vnd.jupyter.widget-view+json": {
       "model_id": "2fa82e1c350e4f49ae4520d518e66887",
       "version_major": 2,
       "version_minor": 0
      },
      "text/plain": [
       "Creating parquet from Arrow format:   0%|          | 0/16 [00:00<?, ?ba/s]"
      ]
     },
     "metadata": {},
     "output_type": "display_data"
    },
    {
     "data": {
      "application/vnd.jupyter.widget-view+json": {
       "model_id": "6bbe5a38c5b9451592e30211f197ecb1",
       "version_major": 2,
       "version_minor": 0
      },
      "text/plain": [
       "Processing Files (0 / 0)                : |          |  0.00B /  0.00B            "
      ]
     },
     "metadata": {},
     "output_type": "display_data"
    },
    {
     "data": {
      "application/vnd.jupyter.widget-view+json": {
       "model_id": "8d5e636cf3744e3d8b52ca5d154c0e46",
       "version_major": 2,
       "version_minor": 0
      },
      "text/plain": [
       "New Data Upload                         : |          |  0.00B /  0.00B            "
      ]
     },
     "metadata": {},
     "output_type": "display_data"
    },
    {
     "data": {
      "application/vnd.jupyter.widget-view+json": {
       "model_id": "53557cb5c4b84653b45d80e6ff247a3b",
       "version_major": 2,
       "version_minor": 0
      },
      "text/plain": [
       "                                        :   2%|1         | 3.67MB /  222MB            "
      ]
     },
     "metadata": {},
     "output_type": "display_data"
    },
    {
     "data": {
      "application/vnd.jupyter.widget-view+json": {
       "model_id": "d37fbb1c4135490f8c9720dc9ecbaadc",
       "version_major": 2,
       "version_minor": 0
      },
      "text/plain": [
       "Creating parquet from Arrow format:   0%|          | 0/16 [00:00<?, ?ba/s]"
      ]
     },
     "metadata": {},
     "output_type": "display_data"
    },
    {
     "data": {
      "application/vnd.jupyter.widget-view+json": {
       "model_id": "39b062f654cc4edeb999287902af8768",
       "version_major": 2,
       "version_minor": 0
      },
      "text/plain": [
       "Processing Files (0 / 0)                : |          |  0.00B /  0.00B            "
      ]
     },
     "metadata": {},
     "output_type": "display_data"
    },
    {
     "data": {
      "application/vnd.jupyter.widget-view+json": {
       "model_id": "e619ce59f40a480f98a649211d74fe43",
       "version_major": 2,
       "version_minor": 0
      },
      "text/plain": [
       "New Data Upload                         : |          |  0.00B /  0.00B            "
      ]
     },
     "metadata": {},
     "output_type": "display_data"
    },
    {
     "data": {
      "application/vnd.jupyter.widget-view+json": {
       "model_id": "b64cbec475744cb788e0f6ce87fb178d",
       "version_major": 2,
       "version_minor": 0
      },
      "text/plain": [
       "                                        :   2%|1         | 3.67MB /  223MB            "
      ]
     },
     "metadata": {},
     "output_type": "display_data"
    },
    {
     "data": {
      "application/vnd.jupyter.widget-view+json": {
       "model_id": "5b8ca9ebb2734e23b9bb36c87c8a9392",
       "version_major": 2,
       "version_minor": 0
      },
      "text/plain": [
       "Creating parquet from Arrow format:   0%|          | 0/16 [00:00<?, ?ba/s]"
      ]
     },
     "metadata": {},
     "output_type": "display_data"
    },
    {
     "data": {
      "application/vnd.jupyter.widget-view+json": {
       "model_id": "0524ae33689e4f0c8b57ed780b3cc8f5",
       "version_major": 2,
       "version_minor": 0
      },
      "text/plain": [
       "Processing Files (0 / 0)                : |          |  0.00B /  0.00B            "
      ]
     },
     "metadata": {},
     "output_type": "display_data"
    },
    {
     "data": {
      "application/vnd.jupyter.widget-view+json": {
       "model_id": "a57fc5bd4b5f47708c8ef9f9a8779f5c",
       "version_major": 2,
       "version_minor": 0
      },
      "text/plain": [
       "New Data Upload                         : |          |  0.00B /  0.00B            "
      ]
     },
     "metadata": {},
     "output_type": "display_data"
    },
    {
     "data": {
      "application/vnd.jupyter.widget-view+json": {
       "model_id": "080d5112582b4ca6aa7f8581a07b573d",
       "version_major": 2,
       "version_minor": 0
      },
      "text/plain": [
       "                                        :   2%|1         | 3.67MB /  223MB            "
      ]
     },
     "metadata": {},
     "output_type": "display_data"
    },
    {
     "data": {
      "application/vnd.jupyter.widget-view+json": {
       "model_id": "f8b20b932d9342a4a65f0c7e47de3739",
       "version_major": 2,
       "version_minor": 0
      },
      "text/plain": [
       "Creating parquet from Arrow format:   0%|          | 0/16 [00:00<?, ?ba/s]"
      ]
     },
     "metadata": {},
     "output_type": "display_data"
    },
    {
     "data": {
      "application/vnd.jupyter.widget-view+json": {
       "model_id": "e2f27902788745b28889a48f0667103c",
       "version_major": 2,
       "version_minor": 0
      },
      "text/plain": [
       "Processing Files (0 / 0)                : |          |  0.00B /  0.00B            "
      ]
     },
     "metadata": {},
     "output_type": "display_data"
    },
    {
     "data": {
      "application/vnd.jupyter.widget-view+json": {
       "model_id": "07cc9d6ff8d94a4484828f0c03cf7dca",
       "version_major": 2,
       "version_minor": 0
      },
      "text/plain": [
       "New Data Upload                         : |          |  0.00B /  0.00B            "
      ]
     },
     "metadata": {},
     "output_type": "display_data"
    },
    {
     "data": {
      "application/vnd.jupyter.widget-view+json": {
       "model_id": "dce551bda6624a42a3d41bb58d7a5000",
       "version_major": 2,
       "version_minor": 0
      },
      "text/plain": [
       "                                        :   2%|1         | 3.68MB /  226MB            "
      ]
     },
     "metadata": {},
     "output_type": "display_data"
    },
    {
     "data": {
      "application/vnd.jupyter.widget-view+json": {
       "model_id": "ce1752463b3c448581a3eb5b33ce8657",
       "version_major": 2,
       "version_minor": 0
      },
      "text/plain": [
       "Creating parquet from Arrow format:   0%|          | 0/16 [00:00<?, ?ba/s]"
      ]
     },
     "metadata": {},
     "output_type": "display_data"
    },
    {
     "data": {
      "application/vnd.jupyter.widget-view+json": {
       "model_id": "979f91e10b874be097b6a8076504b727",
       "version_major": 2,
       "version_minor": 0
      },
      "text/plain": [
       "Processing Files (0 / 0)                : |          |  0.00B /  0.00B            "
      ]
     },
     "metadata": {},
     "output_type": "display_data"
    },
    {
     "data": {
      "application/vnd.jupyter.widget-view+json": {
       "model_id": "c03fb35e3c7449ff8094af71145813c1",
       "version_major": 2,
       "version_minor": 0
      },
      "text/plain": [
       "New Data Upload                         : |          |  0.00B /  0.00B            "
      ]
     },
     "metadata": {},
     "output_type": "display_data"
    },
    {
     "data": {
      "application/vnd.jupyter.widget-view+json": {
       "model_id": "367eac8d04e1474994bb6cac650695cb",
       "version_major": 2,
       "version_minor": 0
      },
      "text/plain": [
       "                                        :   2%|1         | 3.67MB /  223MB            "
      ]
     },
     "metadata": {},
     "output_type": "display_data"
    },
    {
     "data": {
      "application/vnd.jupyter.widget-view+json": {
       "model_id": "5e64e48e5d2442aeb4ec871a561f5c3a",
       "version_major": 2,
       "version_minor": 0
      },
      "text/plain": [
       "Creating parquet from Arrow format:   0%|          | 0/16 [00:00<?, ?ba/s]"
      ]
     },
     "metadata": {},
     "output_type": "display_data"
    },
    {
     "data": {
      "application/vnd.jupyter.widget-view+json": {
       "model_id": "dc24eb729c4645e4b874c28fb0bb5155",
       "version_major": 2,
       "version_minor": 0
      },
      "text/plain": [
       "Processing Files (0 / 0)                : |          |  0.00B /  0.00B            "
      ]
     },
     "metadata": {},
     "output_type": "display_data"
    },
    {
     "data": {
      "application/vnd.jupyter.widget-view+json": {
       "model_id": "d979b704ef7b4a8b9a5cb7f7f064c986",
       "version_major": 2,
       "version_minor": 0
      },
      "text/plain": [
       "New Data Upload                         : |          |  0.00B /  0.00B            "
      ]
     },
     "metadata": {},
     "output_type": "display_data"
    },
    {
     "data": {
      "application/vnd.jupyter.widget-view+json": {
       "model_id": "1389c2902b9e4756ad220b68bf12a52d",
       "version_major": 2,
       "version_minor": 0
      },
      "text/plain": [
       "                                        :   2%|1         | 3.67MB /  229MB            "
      ]
     },
     "metadata": {},
     "output_type": "display_data"
    },
    {
     "data": {
      "application/vnd.jupyter.widget-view+json": {
       "model_id": "2bcc530154a444739ac125156cef3c0a",
       "version_major": 2,
       "version_minor": 0
      },
      "text/plain": [
       "Uploading the dataset shards:   0%|          | 0/3 [00:00<?, ? shards/s]"
      ]
     },
     "metadata": {},
     "output_type": "display_data"
    },
    {
     "data": {
      "application/vnd.jupyter.widget-view+json": {
       "model_id": "f2ba36a1afb74b1c847005e3c842cd6a",
       "version_major": 2,
       "version_minor": 0
      },
      "text/plain": [
       "Creating parquet from Arrow format:   0%|          | 0/15 [00:00<?, ?ba/s]"
      ]
     },
     "metadata": {},
     "output_type": "display_data"
    },
    {
     "data": {
      "application/vnd.jupyter.widget-view+json": {
       "model_id": "0d14061dc77e4c378e8f73a413aeea32",
       "version_major": 2,
       "version_minor": 0
      },
      "text/plain": [
       "Processing Files (0 / 0)                : |          |  0.00B /  0.00B            "
      ]
     },
     "metadata": {},
     "output_type": "display_data"
    },
    {
     "data": {
      "application/vnd.jupyter.widget-view+json": {
       "model_id": "62da9c0ac301494caeb08fb10a37a9c0",
       "version_major": 2,
       "version_minor": 0
      },
      "text/plain": [
       "New Data Upload                         : |          |  0.00B /  0.00B            "
      ]
     },
     "metadata": {},
     "output_type": "display_data"
    },
    {
     "data": {
      "application/vnd.jupyter.widget-view+json": {
       "model_id": "ebd789933fe444faa06ebafc93a4bc97",
       "version_major": 2,
       "version_minor": 0
      },
      "text/plain": [
       "                                        :   2%|1         | 3.67MB /  217MB            "
      ]
     },
     "metadata": {},
     "output_type": "display_data"
    },
    {
     "data": {
      "application/vnd.jupyter.widget-view+json": {
       "model_id": "ef93fea89cc64d4a9221556a7c9ff44f",
       "version_major": 2,
       "version_minor": 0
      },
      "text/plain": [
       "Creating parquet from Arrow format:   0%|          | 0/15 [00:00<?, ?ba/s]"
      ]
     },
     "metadata": {},
     "output_type": "display_data"
    },
    {
     "data": {
      "application/vnd.jupyter.widget-view+json": {
       "model_id": "71cd813f63574599897cc54f07339379",
       "version_major": 2,
       "version_minor": 0
      },
      "text/plain": [
       "Processing Files (0 / 0)                : |          |  0.00B /  0.00B            "
      ]
     },
     "metadata": {},
     "output_type": "display_data"
    },
    {
     "data": {
      "application/vnd.jupyter.widget-view+json": {
       "model_id": "519b72c437aa474a9f0e46ee2432988e",
       "version_major": 2,
       "version_minor": 0
      },
      "text/plain": [
       "New Data Upload                         : |          |  0.00B /  0.00B            "
      ]
     },
     "metadata": {},
     "output_type": "display_data"
    },
    {
     "data": {
      "application/vnd.jupyter.widget-view+json": {
       "model_id": "bf5c09c739dd4ad18bfea5726dc4fca1",
       "version_major": 2,
       "version_minor": 0
      },
      "text/plain": [
       "                                        :   2%|1         | 3.68MB /  220MB            "
      ]
     },
     "metadata": {},
     "output_type": "display_data"
    },
    {
     "data": {
      "application/vnd.jupyter.widget-view+json": {
       "model_id": "75bdcde32c254ce8b8c9772a233bfde6",
       "version_major": 2,
       "version_minor": 0
      },
      "text/plain": [
       "Creating parquet from Arrow format:   0%|          | 0/15 [00:00<?, ?ba/s]"
      ]
     },
     "metadata": {},
     "output_type": "display_data"
    },
    {
     "data": {
      "application/vnd.jupyter.widget-view+json": {
       "model_id": "5bb6e80d09a54b05bf058d2fa2cafa33",
       "version_major": 2,
       "version_minor": 0
      },
      "text/plain": [
       "Processing Files (0 / 0)                : |          |  0.00B /  0.00B            "
      ]
     },
     "metadata": {},
     "output_type": "display_data"
    },
    {
     "data": {
      "application/vnd.jupyter.widget-view+json": {
       "model_id": "0bebdbb7cffc426d8dc7bdf5ab56beb2",
       "version_major": 2,
       "version_minor": 0
      },
      "text/plain": [
       "New Data Upload                         : |          |  0.00B /  0.00B            "
      ]
     },
     "metadata": {},
     "output_type": "display_data"
    },
    {
     "data": {
      "application/vnd.jupyter.widget-view+json": {
       "model_id": "e6feacf86f1e4a9f8150b890bcc3bfed",
       "version_major": 2,
       "version_minor": 0
      },
      "text/plain": [
       "                                        :   2%|1         | 3.68MB /  223MB            "
      ]
     },
     "metadata": {},
     "output_type": "display_data"
    },
    {
     "data": {
      "application/vnd.jupyter.widget-view+json": {
       "model_id": "58f6660741864e8681f6a94a1c4b5953",
       "version_major": 2,
       "version_minor": 0
      },
      "text/plain": [
       "Uploading the dataset shards:   0%|          | 0/3 [00:00<?, ? shards/s]"
      ]
     },
     "metadata": {},
     "output_type": "display_data"
    },
    {
     "data": {
      "application/vnd.jupyter.widget-view+json": {
       "model_id": "82986801955f43cb8f3a4e4c2d0bf114",
       "version_major": 2,
       "version_minor": 0
      },
      "text/plain": [
       "Creating parquet from Arrow format:   0%|          | 0/15 [00:00<?, ?ba/s]"
      ]
     },
     "metadata": {},
     "output_type": "display_data"
    },
    {
     "data": {
      "application/vnd.jupyter.widget-view+json": {
       "model_id": "a9654fd187af4cf4b20d896e486cddda",
       "version_major": 2,
       "version_minor": 0
      },
      "text/plain": [
       "Processing Files (0 / 0)                : |          |  0.00B /  0.00B            "
      ]
     },
     "metadata": {},
     "output_type": "display_data"
    },
    {
     "data": {
      "application/vnd.jupyter.widget-view+json": {
       "model_id": "4af4fa4e5e3a40c48c583cf479aad3a7",
       "version_major": 2,
       "version_minor": 0
      },
      "text/plain": [
       "New Data Upload                         : |          |  0.00B /  0.00B            "
      ]
     },
     "metadata": {},
     "output_type": "display_data"
    },
    {
     "data": {
      "application/vnd.jupyter.widget-view+json": {
       "model_id": "c073e93fdea943ac92874faf849e1cca",
       "version_major": 2,
       "version_minor": 0
      },
      "text/plain": [
       "                                        :   2%|1         | 3.68MB /  221MB            "
      ]
     },
     "metadata": {},
     "output_type": "display_data"
    },
    {
     "data": {
      "application/vnd.jupyter.widget-view+json": {
       "model_id": "5ba6a7322a854fd2925e22420539b2bc",
       "version_major": 2,
       "version_minor": 0
      },
      "text/plain": [
       "Creating parquet from Arrow format:   0%|          | 0/15 [00:00<?, ?ba/s]"
      ]
     },
     "metadata": {},
     "output_type": "display_data"
    },
    {
     "data": {
      "application/vnd.jupyter.widget-view+json": {
       "model_id": "b138788149b143e882ec027d20ee0005",
       "version_major": 2,
       "version_minor": 0
      },
      "text/plain": [
       "Processing Files (0 / 0)                : |          |  0.00B /  0.00B            "
      ]
     },
     "metadata": {},
     "output_type": "display_data"
    },
    {
     "data": {
      "application/vnd.jupyter.widget-view+json": {
       "model_id": "4e60996f10d641e4bef2660366641973",
       "version_major": 2,
       "version_minor": 0
      },
      "text/plain": [
       "New Data Upload                         : |          |  0.00B /  0.00B            "
      ]
     },
     "metadata": {},
     "output_type": "display_data"
    },
    {
     "data": {
      "application/vnd.jupyter.widget-view+json": {
       "model_id": "1b0d4e3bb71d4eceb4369b77d9da484c",
       "version_major": 2,
       "version_minor": 0
      },
      "text/plain": [
       "                                        :   2%|1         | 3.67MB /  220MB            "
      ]
     },
     "metadata": {},
     "output_type": "display_data"
    },
    {
     "data": {
      "application/vnd.jupyter.widget-view+json": {
       "model_id": "432ad55038fe4992b24f96193ba14d36",
       "version_major": 2,
       "version_minor": 0
      },
      "text/plain": [
       "Creating parquet from Arrow format:   0%|          | 0/15 [00:00<?, ?ba/s]"
      ]
     },
     "metadata": {},
     "output_type": "display_data"
    },
    {
     "data": {
      "application/vnd.jupyter.widget-view+json": {
       "model_id": "c237d6ce234e4e7ebc129a38bd015825",
       "version_major": 2,
       "version_minor": 0
      },
      "text/plain": [
       "Processing Files (0 / 0)                : |          |  0.00B /  0.00B            "
      ]
     },
     "metadata": {},
     "output_type": "display_data"
    },
    {
     "data": {
      "application/vnd.jupyter.widget-view+json": {
       "model_id": "a0b57653761541dd8978fb1b2d69304e",
       "version_major": 2,
       "version_minor": 0
      },
      "text/plain": [
       "New Data Upload                         : |          |  0.00B /  0.00B            "
      ]
     },
     "metadata": {},
     "output_type": "display_data"
    },
    {
     "data": {
      "application/vnd.jupyter.widget-view+json": {
       "model_id": "a9fb0ff0aef84961a8c59180cffe7c59",
       "version_major": 2,
       "version_minor": 0
      },
      "text/plain": [
       "                                        :   2%|1         | 3.67MB /  219MB            "
      ]
     },
     "metadata": {},
     "output_type": "display_data"
    },
    {
     "data": {
      "text/plain": [
       "CommitInfo(commit_url='https://huggingface.co/datasets/SteveAKopias/SemanticScholarCSFullTextWithOpenAlexTopics_FullText_SubfieldIndex/commit/b62ab3fadafe09db8d7beafeda6ef0a67387f62b', commit_message='Upload dataset', commit_description='', oid='b62ab3fadafe09db8d7beafeda6ef0a67387f62b', pr_url=None, repo_url=RepoUrl('https://huggingface.co/datasets/SteveAKopias/SemanticScholarCSFullTextWithOpenAlexTopics_FullText_SubfieldIndex', endpoint='https://huggingface.co', repo_type='dataset', repo_id='SteveAKopias/SemanticScholarCSFullTextWithOpenAlexTopics_FullText_SubfieldIndex'), pr_revision=None, pr_num=None)"
      ]
     },
     "execution_count": 7,
     "metadata": {},
     "output_type": "execute_result"
    }
   ],
   "source": [
    "dataset_fulltext_subfieldindex = dataset.select_columns(['fulltext', 'subfield_index'])\n",
    "dataset_fulltext_subfieldindex.push_to_hub('SteveAKopias/SemanticScholarCSFullTextWithOpenAlexTopics'+'_FullText_SubfieldIndex')"
   ]
  },
  {
   "cell_type": "code",
   "execution_count": 8,
   "id": "69c5a246",
   "metadata": {
    "execution": {
     "iopub.execute_input": "2025-09-05T16:26:45.620732Z",
     "iopub.status.busy": "2025-09-05T16:26:45.620157Z",
     "iopub.status.idle": "2025-09-05T16:31:53.305597Z",
     "shell.execute_reply": "2025-09-05T16:31:53.304712Z",
     "shell.execute_reply.started": "2025-09-05T16:26:45.620680Z"
    }
   },
   "outputs": [
    {
     "data": {
      "application/vnd.jupyter.widget-view+json": {
       "model_id": "2696024b67b042ed806fadb5907a8593",
       "version_major": 2,
       "version_minor": 0
      },
      "text/plain": [
       "Uploading the dataset shards:   0%|          | 0/23 [00:00<?, ? shards/s]"
      ]
     },
     "metadata": {},
     "output_type": "display_data"
    },
    {
     "data": {
      "application/vnd.jupyter.widget-view+json": {
       "model_id": "43c3ac4be3da4c5abd80b0efa6c5cece",
       "version_major": 2,
       "version_minor": 0
      },
      "text/plain": [
       "Creating parquet from Arrow format:   0%|          | 0/16 [00:00<?, ?ba/s]"
      ]
     },
     "metadata": {},
     "output_type": "display_data"
    },
    {
     "data": {
      "application/vnd.jupyter.widget-view+json": {
       "model_id": "6589e28561db4532ac642ebc62483ca4",
       "version_major": 2,
       "version_minor": 0
      },
      "text/plain": [
       "Processing Files (0 / 0)                : |          |  0.00B /  0.00B            "
      ]
     },
     "metadata": {},
     "output_type": "display_data"
    },
    {
     "data": {
      "application/vnd.jupyter.widget-view+json": {
       "model_id": "a05acd21b78e4375be7a63c742a3f6e3",
       "version_major": 2,
       "version_minor": 0
      },
      "text/plain": [
       "New Data Upload                         : |          |  0.00B /  0.00B            "
      ]
     },
     "metadata": {},
     "output_type": "display_data"
    },
    {
     "data": {
      "application/vnd.jupyter.widget-view+json": {
       "model_id": "9be5d4fdfc0d4e7491c2f87768a195dd",
       "version_major": 2,
       "version_minor": 0
      },
      "text/plain": [
       "                                        :  15%|#4        | 33.2MB /  222MB            "
      ]
     },
     "metadata": {},
     "output_type": "display_data"
    },
    {
     "data": {
      "application/vnd.jupyter.widget-view+json": {
       "model_id": "b45b2ea3bd324b859850e173bdedb78a",
       "version_major": 2,
       "version_minor": 0
      },
      "text/plain": [
       "Creating parquet from Arrow format:   0%|          | 0/16 [00:00<?, ?ba/s]"
      ]
     },
     "metadata": {},
     "output_type": "display_data"
    },
    {
     "data": {
      "application/vnd.jupyter.widget-view+json": {
       "model_id": "7176cf96dc754a9dbba96e633a8df831",
       "version_major": 2,
       "version_minor": 0
      },
      "text/plain": [
       "Processing Files (0 / 0)                : |          |  0.00B /  0.00B            "
      ]
     },
     "metadata": {},
     "output_type": "display_data"
    },
    {
     "data": {
      "application/vnd.jupyter.widget-view+json": {
       "model_id": "875247a30f47466e9413213fcfc803ba",
       "version_major": 2,
       "version_minor": 0
      },
      "text/plain": [
       "New Data Upload                         : |          |  0.00B /  0.00B            "
      ]
     },
     "metadata": {},
     "output_type": "display_data"
    },
    {
     "data": {
      "application/vnd.jupyter.widget-view+json": {
       "model_id": "ce3311aa7eeb4068939b662f94e547e8",
       "version_major": 2,
       "version_minor": 0
      },
      "text/plain": [
       "                                        :  14%|#4        | 33.4MB /  231MB            "
      ]
     },
     "metadata": {},
     "output_type": "display_data"
    },
    {
     "data": {
      "application/vnd.jupyter.widget-view+json": {
       "model_id": "4114ff8677334c91a6f869488f44f036",
       "version_major": 2,
       "version_minor": 0
      },
      "text/plain": [
       "Creating parquet from Arrow format:   0%|          | 0/16 [00:00<?, ?ba/s]"
      ]
     },
     "metadata": {},
     "output_type": "display_data"
    },
    {
     "data": {
      "application/vnd.jupyter.widget-view+json": {
       "model_id": "1ff4f397b2724a6aa8cf1397451e4ecb",
       "version_major": 2,
       "version_minor": 0
      },
      "text/plain": [
       "Processing Files (0 / 0)                : |          |  0.00B /  0.00B            "
      ]
     },
     "metadata": {},
     "output_type": "display_data"
    },
    {
     "data": {
      "application/vnd.jupyter.widget-view+json": {
       "model_id": "6c52a57e7d5d4cc59877f9c7aeb18089",
       "version_major": 2,
       "version_minor": 0
      },
      "text/plain": [
       "New Data Upload                         : |          |  0.00B /  0.00B            "
      ]
     },
     "metadata": {},
     "output_type": "display_data"
    },
    {
     "data": {
      "application/vnd.jupyter.widget-view+json": {
       "model_id": "b491d5cb14b848aba442258b219d94db",
       "version_major": 2,
       "version_minor": 0
      },
      "text/plain": [
       "                                        :  15%|#4        | 33.2MB /  223MB            "
      ]
     },
     "metadata": {},
     "output_type": "display_data"
    },
    {
     "data": {
      "application/vnd.jupyter.widget-view+json": {
       "model_id": "f5b222587d0f4bc8b7ebbc7f4152d9e0",
       "version_major": 2,
       "version_minor": 0
      },
      "text/plain": [
       "Creating parquet from Arrow format:   0%|          | 0/16 [00:00<?, ?ba/s]"
      ]
     },
     "metadata": {},
     "output_type": "display_data"
    },
    {
     "data": {
      "application/vnd.jupyter.widget-view+json": {
       "model_id": "ecc301ab4c35475fabeb99c1a46390e8",
       "version_major": 2,
       "version_minor": 0
      },
      "text/plain": [
       "Processing Files (0 / 0)                : |          |  0.00B /  0.00B            "
      ]
     },
     "metadata": {},
     "output_type": "display_data"
    },
    {
     "data": {
      "application/vnd.jupyter.widget-view+json": {
       "model_id": "ef96925c3bf84988b2cbec934d801d35",
       "version_major": 2,
       "version_minor": 0
      },
      "text/plain": [
       "New Data Upload                         : |          |  0.00B /  0.00B            "
      ]
     },
     "metadata": {},
     "output_type": "display_data"
    },
    {
     "data": {
      "application/vnd.jupyter.widget-view+json": {
       "model_id": "7ea27cdb999b414b8481785cb9a194d3",
       "version_major": 2,
       "version_minor": 0
      },
      "text/plain": [
       "                                        :  14%|#4        | 33.3MB /  231MB            "
      ]
     },
     "metadata": {},
     "output_type": "display_data"
    },
    {
     "data": {
      "application/vnd.jupyter.widget-view+json": {
       "model_id": "f899affd2eba47ecb1fb565b53a9b637",
       "version_major": 2,
       "version_minor": 0
      },
      "text/plain": [
       "Creating parquet from Arrow format:   0%|          | 0/16 [00:00<?, ?ba/s]"
      ]
     },
     "metadata": {},
     "output_type": "display_data"
    },
    {
     "data": {
      "application/vnd.jupyter.widget-view+json": {
       "model_id": "7af90e2a771a4ca0ab26e2ab407c8fb7",
       "version_major": 2,
       "version_minor": 0
      },
      "text/plain": [
       "Processing Files (0 / 0)                : |          |  0.00B /  0.00B            "
      ]
     },
     "metadata": {},
     "output_type": "display_data"
    },
    {
     "data": {
      "application/vnd.jupyter.widget-view+json": {
       "model_id": "10485468ca11432d8dfd739923af6847",
       "version_major": 2,
       "version_minor": 0
      },
      "text/plain": [
       "New Data Upload                         : |          |  0.00B /  0.00B            "
      ]
     },
     "metadata": {},
     "output_type": "display_data"
    },
    {
     "data": {
      "application/vnd.jupyter.widget-view+json": {
       "model_id": "d5e7d08971d64e95853ced4ce34c7801",
       "version_major": 2,
       "version_minor": 0
      },
      "text/plain": [
       "                                        :  14%|#4        | 33.4MB /  233MB            "
      ]
     },
     "metadata": {},
     "output_type": "display_data"
    },
    {
     "data": {
      "application/vnd.jupyter.widget-view+json": {
       "model_id": "320ed71c146043d081cc5ad0a51c2f6b",
       "version_major": 2,
       "version_minor": 0
      },
      "text/plain": [
       "Creating parquet from Arrow format:   0%|          | 0/16 [00:00<?, ?ba/s]"
      ]
     },
     "metadata": {},
     "output_type": "display_data"
    },
    {
     "data": {
      "application/vnd.jupyter.widget-view+json": {
       "model_id": "443340b0e207452b888705f6f275e2e3",
       "version_major": 2,
       "version_minor": 0
      },
      "text/plain": [
       "Processing Files (0 / 0)                : |          |  0.00B /  0.00B            "
      ]
     },
     "metadata": {},
     "output_type": "display_data"
    },
    {
     "data": {
      "application/vnd.jupyter.widget-view+json": {
       "model_id": "4615b40dbd4c4f60929ed7c1e5ead667",
       "version_major": 2,
       "version_minor": 0
      },
      "text/plain": [
       "New Data Upload                         : |          |  0.00B /  0.00B            "
      ]
     },
     "metadata": {},
     "output_type": "display_data"
    },
    {
     "data": {
      "application/vnd.jupyter.widget-view+json": {
       "model_id": "ba6dc46033a742219bf6cbf43a43c03e",
       "version_major": 2,
       "version_minor": 0
      },
      "text/plain": [
       "                                        :  11%|#         | 25.1MB /  232MB            "
      ]
     },
     "metadata": {},
     "output_type": "display_data"
    },
    {
     "data": {
      "application/vnd.jupyter.widget-view+json": {
       "model_id": "6298d3d19a95481d90d3ffb9f0053a8a",
       "version_major": 2,
       "version_minor": 0
      },
      "text/plain": [
       "Creating parquet from Arrow format:   0%|          | 0/16 [00:00<?, ?ba/s]"
      ]
     },
     "metadata": {},
     "output_type": "display_data"
    },
    {
     "data": {
      "application/vnd.jupyter.widget-view+json": {
       "model_id": "82dfc094b9d74f28a0d4247d1b825e76",
       "version_major": 2,
       "version_minor": 0
      },
      "text/plain": [
       "Processing Files (0 / 0)                : |          |  0.00B /  0.00B            "
      ]
     },
     "metadata": {},
     "output_type": "display_data"
    },
    {
     "data": {
      "application/vnd.jupyter.widget-view+json": {
       "model_id": "1e8dd01e7fa14284b1be083cee1bc2bc",
       "version_major": 2,
       "version_minor": 0
      },
      "text/plain": [
       "New Data Upload                         : |          |  0.00B /  0.00B            "
      ]
     },
     "metadata": {},
     "output_type": "display_data"
    },
    {
     "data": {
      "application/vnd.jupyter.widget-view+json": {
       "model_id": "7d2f0af7c2a24e68bdd63fa6fa07f859",
       "version_major": 2,
       "version_minor": 0
      },
      "text/plain": [
       "                                        :  14%|#4        | 33.1MB /  235MB            "
      ]
     },
     "metadata": {},
     "output_type": "display_data"
    },
    {
     "data": {
      "application/vnd.jupyter.widget-view+json": {
       "model_id": "5f7105461a564a9b8fe0b94f1e988965",
       "version_major": 2,
       "version_minor": 0
      },
      "text/plain": [
       "Creating parquet from Arrow format:   0%|          | 0/16 [00:00<?, ?ba/s]"
      ]
     },
     "metadata": {},
     "output_type": "display_data"
    },
    {
     "data": {
      "application/vnd.jupyter.widget-view+json": {
       "model_id": "cadac3f0794c4324b8b386b66c96eab8",
       "version_major": 2,
       "version_minor": 0
      },
      "text/plain": [
       "Processing Files (0 / 0)                : |          |  0.00B /  0.00B            "
      ]
     },
     "metadata": {},
     "output_type": "display_data"
    },
    {
     "data": {
      "application/vnd.jupyter.widget-view+json": {
       "model_id": "ffc152cbf2d34297a2417aa1f3ca83f6",
       "version_major": 2,
       "version_minor": 0
      },
      "text/plain": [
       "New Data Upload                         : |          |  0.00B /  0.00B            "
      ]
     },
     "metadata": {},
     "output_type": "display_data"
    },
    {
     "data": {
      "application/vnd.jupyter.widget-view+json": {
       "model_id": "145cd57151344335adbd0d80ee4114cc",
       "version_major": 2,
       "version_minor": 0
      },
      "text/plain": [
       "                                        :  14%|#4        | 33.4MB /  233MB            "
      ]
     },
     "metadata": {},
     "output_type": "display_data"
    },
    {
     "data": {
      "application/vnd.jupyter.widget-view+json": {
       "model_id": "af07400733ad444fa56f54c822d35df2",
       "version_major": 2,
       "version_minor": 0
      },
      "text/plain": [
       "Creating parquet from Arrow format:   0%|          | 0/16 [00:00<?, ?ba/s]"
      ]
     },
     "metadata": {},
     "output_type": "display_data"
    },
    {
     "data": {
      "application/vnd.jupyter.widget-view+json": {
       "model_id": "57ed9bc4d1f245a8aaf9cfc5aaa431bf",
       "version_major": 2,
       "version_minor": 0
      },
      "text/plain": [
       "Processing Files (0 / 0)                : |          |  0.00B /  0.00B            "
      ]
     },
     "metadata": {},
     "output_type": "display_data"
    },
    {
     "data": {
      "application/vnd.jupyter.widget-view+json": {
       "model_id": "a4068696dfd2497c919d99d87e54135f",
       "version_major": 2,
       "version_minor": 0
      },
      "text/plain": [
       "New Data Upload                         : |          |  0.00B /  0.00B            "
      ]
     },
     "metadata": {},
     "output_type": "display_data"
    },
    {
     "data": {
      "application/vnd.jupyter.widget-view+json": {
       "model_id": "d34aaeccc2e449189abb73d8b7bcef7b",
       "version_major": 2,
       "version_minor": 0
      },
      "text/plain": [
       "                                        :  14%|#4        | 33.2MB /  237MB            "
      ]
     },
     "metadata": {},
     "output_type": "display_data"
    },
    {
     "data": {
      "application/vnd.jupyter.widget-view+json": {
       "model_id": "51477fcef394490d8850610b3900e999",
       "version_major": 2,
       "version_minor": 0
      },
      "text/plain": [
       "Creating parquet from Arrow format:   0%|          | 0/16 [00:00<?, ?ba/s]"
      ]
     },
     "metadata": {},
     "output_type": "display_data"
    },
    {
     "data": {
      "application/vnd.jupyter.widget-view+json": {
       "model_id": "56f003144bde4445b91c7c909a2b66c5",
       "version_major": 2,
       "version_minor": 0
      },
      "text/plain": [
       "Processing Files (0 / 0)                : |          |  0.00B /  0.00B            "
      ]
     },
     "metadata": {},
     "output_type": "display_data"
    },
    {
     "data": {
      "application/vnd.jupyter.widget-view+json": {
       "model_id": "d3a69704f362448f9fac1c54ee8ad999",
       "version_major": 2,
       "version_minor": 0
      },
      "text/plain": [
       "New Data Upload                         : |          |  0.00B /  0.00B            "
      ]
     },
     "metadata": {},
     "output_type": "display_data"
    },
    {
     "data": {
      "application/vnd.jupyter.widget-view+json": {
       "model_id": "904d02b8fa794e07b1ef783984378f9d",
       "version_major": 2,
       "version_minor": 0
      },
      "text/plain": [
       "                                        :  14%|#4        | 33.3MB /  231MB            "
      ]
     },
     "metadata": {},
     "output_type": "display_data"
    },
    {
     "data": {
      "application/vnd.jupyter.widget-view+json": {
       "model_id": "32656a17ad584964929c8e61eac77707",
       "version_major": 2,
       "version_minor": 0
      },
      "text/plain": [
       "Creating parquet from Arrow format:   0%|          | 0/16 [00:00<?, ?ba/s]"
      ]
     },
     "metadata": {},
     "output_type": "display_data"
    },
    {
     "data": {
      "application/vnd.jupyter.widget-view+json": {
       "model_id": "881a3db361a349ccb2d9e206ff6c1535",
       "version_major": 2,
       "version_minor": 0
      },
      "text/plain": [
       "Processing Files (0 / 0)                : |          |  0.00B /  0.00B            "
      ]
     },
     "metadata": {},
     "output_type": "display_data"
    },
    {
     "data": {
      "application/vnd.jupyter.widget-view+json": {
       "model_id": "589c927aa2434a1787ac04721bf7467d",
       "version_major": 2,
       "version_minor": 0
      },
      "text/plain": [
       "New Data Upload                         : |          |  0.00B /  0.00B            "
      ]
     },
     "metadata": {},
     "output_type": "display_data"
    },
    {
     "data": {
      "application/vnd.jupyter.widget-view+json": {
       "model_id": "b8ec118b443b46e69bec438cdbd756a1",
       "version_major": 2,
       "version_minor": 0
      },
      "text/plain": [
       "                                        :  14%|#4        | 33.0MB /  232MB            "
      ]
     },
     "metadata": {},
     "output_type": "display_data"
    },
    {
     "data": {
      "application/vnd.jupyter.widget-view+json": {
       "model_id": "2379e1ae6075467da81117181b04874a",
       "version_major": 2,
       "version_minor": 0
      },
      "text/plain": [
       "Creating parquet from Arrow format:   0%|          | 0/16 [00:00<?, ?ba/s]"
      ]
     },
     "metadata": {},
     "output_type": "display_data"
    },
    {
     "data": {
      "application/vnd.jupyter.widget-view+json": {
       "model_id": "b96e3bcd39db40f195f3b279d738b92a",
       "version_major": 2,
       "version_minor": 0
      },
      "text/plain": [
       "Processing Files (0 / 0)                : |          |  0.00B /  0.00B            "
      ]
     },
     "metadata": {},
     "output_type": "display_data"
    },
    {
     "data": {
      "application/vnd.jupyter.widget-view+json": {
       "model_id": "21fa374e2b084c6fb6e36a62ea242ded",
       "version_major": 2,
       "version_minor": 0
      },
      "text/plain": [
       "New Data Upload                         : |          |  0.00B /  0.00B            "
      ]
     },
     "metadata": {},
     "output_type": "display_data"
    },
    {
     "data": {
      "application/vnd.jupyter.widget-view+json": {
       "model_id": "e3992e30f88049bf82898e79d37c499d",
       "version_major": 2,
       "version_minor": 0
      },
      "text/plain": [
       "                                        :  14%|#4        | 33.3MB /  230MB            "
      ]
     },
     "metadata": {},
     "output_type": "display_data"
    },
    {
     "data": {
      "application/vnd.jupyter.widget-view+json": {
       "model_id": "0ceefb91d6244f4b91c2c682ce9fe054",
       "version_major": 2,
       "version_minor": 0
      },
      "text/plain": [
       "Creating parquet from Arrow format:   0%|          | 0/16 [00:00<?, ?ba/s]"
      ]
     },
     "metadata": {},
     "output_type": "display_data"
    },
    {
     "data": {
      "application/vnd.jupyter.widget-view+json": {
       "model_id": "2680de66f3d34a4c817e50519df68d10",
       "version_major": 2,
       "version_minor": 0
      },
      "text/plain": [
       "Processing Files (0 / 0)                : |          |  0.00B /  0.00B            "
      ]
     },
     "metadata": {},
     "output_type": "display_data"
    },
    {
     "data": {
      "application/vnd.jupyter.widget-view+json": {
       "model_id": "16fd5248baa14c15b1948b09b0f47431",
       "version_major": 2,
       "version_minor": 0
      },
      "text/plain": [
       "New Data Upload                         : |          |  0.00B /  0.00B            "
      ]
     },
     "metadata": {},
     "output_type": "display_data"
    },
    {
     "data": {
      "application/vnd.jupyter.widget-view+json": {
       "model_id": "8325d8d4231d40629d839df764ac1852",
       "version_major": 2,
       "version_minor": 0
      },
      "text/plain": [
       "                                        :  15%|#4        | 33.3MB /  227MB            "
      ]
     },
     "metadata": {},
     "output_type": "display_data"
    },
    {
     "data": {
      "application/vnd.jupyter.widget-view+json": {
       "model_id": "798bcaf46e384098828ff37943016bd6",
       "version_major": 2,
       "version_minor": 0
      },
      "text/plain": [
       "Creating parquet from Arrow format:   0%|          | 0/16 [00:00<?, ?ba/s]"
      ]
     },
     "metadata": {},
     "output_type": "display_data"
    },
    {
     "data": {
      "application/vnd.jupyter.widget-view+json": {
       "model_id": "1598bb17b77d4920ba99e7f62628809d",
       "version_major": 2,
       "version_minor": 0
      },
      "text/plain": [
       "Processing Files (0 / 0)                : |          |  0.00B /  0.00B            "
      ]
     },
     "metadata": {},
     "output_type": "display_data"
    },
    {
     "data": {
      "application/vnd.jupyter.widget-view+json": {
       "model_id": "6af5a9b06a424a36814f5a4a5674b34e",
       "version_major": 2,
       "version_minor": 0
      },
      "text/plain": [
       "New Data Upload                         : |          |  0.00B /  0.00B            "
      ]
     },
     "metadata": {},
     "output_type": "display_data"
    },
    {
     "data": {
      "application/vnd.jupyter.widget-view+json": {
       "model_id": "576c5471689c4efab43ae9dfd48ab126",
       "version_major": 2,
       "version_minor": 0
      },
      "text/plain": [
       "                                        :  18%|#8        | 41.6MB /  228MB            "
      ]
     },
     "metadata": {},
     "output_type": "display_data"
    },
    {
     "data": {
      "application/vnd.jupyter.widget-view+json": {
       "model_id": "d957bdb9fa0445f8b66370fff149b0b1",
       "version_major": 2,
       "version_minor": 0
      },
      "text/plain": [
       "Creating parquet from Arrow format:   0%|          | 0/16 [00:00<?, ?ba/s]"
      ]
     },
     "metadata": {},
     "output_type": "display_data"
    },
    {
     "data": {
      "application/vnd.jupyter.widget-view+json": {
       "model_id": "b57878076a404150a115ca6144de4fa1",
       "version_major": 2,
       "version_minor": 0
      },
      "text/plain": [
       "Processing Files (0 / 0)                : |          |  0.00B /  0.00B            "
      ]
     },
     "metadata": {},
     "output_type": "display_data"
    },
    {
     "data": {
      "application/vnd.jupyter.widget-view+json": {
       "model_id": "0ebf4b369450450789f876ed8fa7ead0",
       "version_major": 2,
       "version_minor": 0
      },
      "text/plain": [
       "New Data Upload                         : |          |  0.00B /  0.00B            "
      ]
     },
     "metadata": {},
     "output_type": "display_data"
    },
    {
     "data": {
      "application/vnd.jupyter.widget-view+json": {
       "model_id": "bccdd7eb70bd413ab07d21cb5b7005f9",
       "version_major": 2,
       "version_minor": 0
      },
      "text/plain": [
       "                                        :  14%|#4        | 33.4MB /  230MB            "
      ]
     },
     "metadata": {},
     "output_type": "display_data"
    },
    {
     "data": {
      "application/vnd.jupyter.widget-view+json": {
       "model_id": "0c91021da56e448d9f028adfd8eed50e",
       "version_major": 2,
       "version_minor": 0
      },
      "text/plain": [
       "Creating parquet from Arrow format:   0%|          | 0/16 [00:00<?, ?ba/s]"
      ]
     },
     "metadata": {},
     "output_type": "display_data"
    },
    {
     "data": {
      "application/vnd.jupyter.widget-view+json": {
       "model_id": "5529d3522cd04b4988f90b6c980ce473",
       "version_major": 2,
       "version_minor": 0
      },
      "text/plain": [
       "Processing Files (0 / 0)                : |          |  0.00B /  0.00B            "
      ]
     },
     "metadata": {},
     "output_type": "display_data"
    },
    {
     "data": {
      "application/vnd.jupyter.widget-view+json": {
       "model_id": "eaa9626da7ab4e019a791deb55bbd138",
       "version_major": 2,
       "version_minor": 0
      },
      "text/plain": [
       "New Data Upload                         : |          |  0.00B /  0.00B            "
      ]
     },
     "metadata": {},
     "output_type": "display_data"
    },
    {
     "data": {
      "application/vnd.jupyter.widget-view+json": {
       "model_id": "e182303bc00943aca751b946dcdbf89c",
       "version_major": 2,
       "version_minor": 0
      },
      "text/plain": [
       "                                        :  14%|#4        | 33.1MB /  229MB            "
      ]
     },
     "metadata": {},
     "output_type": "display_data"
    },
    {
     "data": {
      "application/vnd.jupyter.widget-view+json": {
       "model_id": "30703992bd734eda832b92bf143efa9e",
       "version_major": 2,
       "version_minor": 0
      },
      "text/plain": [
       "Creating parquet from Arrow format:   0%|          | 0/16 [00:00<?, ?ba/s]"
      ]
     },
     "metadata": {},
     "output_type": "display_data"
    },
    {
     "data": {
      "application/vnd.jupyter.widget-view+json": {
       "model_id": "7127012cd2924faba75e5ddef5b257d0",
       "version_major": 2,
       "version_minor": 0
      },
      "text/plain": [
       "Processing Files (0 / 0)                : |          |  0.00B /  0.00B            "
      ]
     },
     "metadata": {},
     "output_type": "display_data"
    },
    {
     "data": {
      "application/vnd.jupyter.widget-view+json": {
       "model_id": "a48f700d472d49daa7c895fce04ecfef",
       "version_major": 2,
       "version_minor": 0
      },
      "text/plain": [
       "New Data Upload                         : |          |  0.00B /  0.00B            "
      ]
     },
     "metadata": {},
     "output_type": "display_data"
    },
    {
     "data": {
      "application/vnd.jupyter.widget-view+json": {
       "model_id": "deb2ea6f33db4789917ce781a9bae173",
       "version_major": 2,
       "version_minor": 0
      },
      "text/plain": [
       "                                        :  15%|#4        | 33.2MB /  228MB            "
      ]
     },
     "metadata": {},
     "output_type": "display_data"
    },
    {
     "data": {
      "application/vnd.jupyter.widget-view+json": {
       "model_id": "379f5b3bf6934f6392fe5397b620f138",
       "version_major": 2,
       "version_minor": 0
      },
      "text/plain": [
       "Creating parquet from Arrow format:   0%|          | 0/16 [00:00<?, ?ba/s]"
      ]
     },
     "metadata": {},
     "output_type": "display_data"
    },
    {
     "data": {
      "application/vnd.jupyter.widget-view+json": {
       "model_id": "e7513933b8eb466495408e2659e0d3fe",
       "version_major": 2,
       "version_minor": 0
      },
      "text/plain": [
       "Processing Files (0 / 0)                : |          |  0.00B /  0.00B            "
      ]
     },
     "metadata": {},
     "output_type": "display_data"
    },
    {
     "data": {
      "application/vnd.jupyter.widget-view+json": {
       "model_id": "c13af805a97b44ff91070410c32b5eb8",
       "version_major": 2,
       "version_minor": 0
      },
      "text/plain": [
       "New Data Upload                         : |          |  0.00B /  0.00B            "
      ]
     },
     "metadata": {},
     "output_type": "display_data"
    },
    {
     "data": {
      "application/vnd.jupyter.widget-view+json": {
       "model_id": "3c45958bf3f24847b43f92d6a97a5b3e",
       "version_major": 2,
       "version_minor": 0
      },
      "text/plain": [
       "                                        :  15%|#5        | 33.3MB /  222MB            "
      ]
     },
     "metadata": {},
     "output_type": "display_data"
    },
    {
     "data": {
      "application/vnd.jupyter.widget-view+json": {
       "model_id": "5b5629e8b75b42ceb34fcc812d1282e3",
       "version_major": 2,
       "version_minor": 0
      },
      "text/plain": [
       "Creating parquet from Arrow format:   0%|          | 0/16 [00:00<?, ?ba/s]"
      ]
     },
     "metadata": {},
     "output_type": "display_data"
    },
    {
     "data": {
      "application/vnd.jupyter.widget-view+json": {
       "model_id": "ba111c4f4814487997f1e5b8d4f8676d",
       "version_major": 2,
       "version_minor": 0
      },
      "text/plain": [
       "Processing Files (0 / 0)                : |          |  0.00B /  0.00B            "
      ]
     },
     "metadata": {},
     "output_type": "display_data"
    },
    {
     "data": {
      "application/vnd.jupyter.widget-view+json": {
       "model_id": "9b5a35e3066d415eb2ccc56a56406f23",
       "version_major": 2,
       "version_minor": 0
      },
      "text/plain": [
       "New Data Upload                         : |          |  0.00B /  0.00B            "
      ]
     },
     "metadata": {},
     "output_type": "display_data"
    },
    {
     "data": {
      "application/vnd.jupyter.widget-view+json": {
       "model_id": "90881a47b44a4357be4147779cef2b44",
       "version_major": 2,
       "version_minor": 0
      },
      "text/plain": [
       "                                        :  19%|#8        | 41.8MB /  223MB            "
      ]
     },
     "metadata": {},
     "output_type": "display_data"
    },
    {
     "data": {
      "application/vnd.jupyter.widget-view+json": {
       "model_id": "8afd3cb1f4d94c2ea504b5e1cdf0fd6a",
       "version_major": 2,
       "version_minor": 0
      },
      "text/plain": [
       "Creating parquet from Arrow format:   0%|          | 0/16 [00:00<?, ?ba/s]"
      ]
     },
     "metadata": {},
     "output_type": "display_data"
    },
    {
     "data": {
      "application/vnd.jupyter.widget-view+json": {
       "model_id": "1a37825532864db2810c25608696b664",
       "version_major": 2,
       "version_minor": 0
      },
      "text/plain": [
       "Processing Files (0 / 0)                : |          |  0.00B /  0.00B            "
      ]
     },
     "metadata": {},
     "output_type": "display_data"
    },
    {
     "data": {
      "application/vnd.jupyter.widget-view+json": {
       "model_id": "c482751d75034343b555a0f48f0b7848",
       "version_major": 2,
       "version_minor": 0
      },
      "text/plain": [
       "New Data Upload                         : |          |  0.00B /  0.00B            "
      ]
     },
     "metadata": {},
     "output_type": "display_data"
    },
    {
     "data": {
      "application/vnd.jupyter.widget-view+json": {
       "model_id": "1f37d3f86e7f44edac49ad21b13704d6",
       "version_major": 2,
       "version_minor": 0
      },
      "text/plain": [
       "                                        :  19%|#8        | 41.6MB /  223MB            "
      ]
     },
     "metadata": {},
     "output_type": "display_data"
    },
    {
     "data": {
      "application/vnd.jupyter.widget-view+json": {
       "model_id": "96c2c2957c03403fa0412c0a6e77c8ef",
       "version_major": 2,
       "version_minor": 0
      },
      "text/plain": [
       "Creating parquet from Arrow format:   0%|          | 0/16 [00:00<?, ?ba/s]"
      ]
     },
     "metadata": {},
     "output_type": "display_data"
    },
    {
     "data": {
      "application/vnd.jupyter.widget-view+json": {
       "model_id": "56b838683cfc425e8438e0a56888857a",
       "version_major": 2,
       "version_minor": 0
      },
      "text/plain": [
       "Processing Files (0 / 0)                : |          |  0.00B /  0.00B            "
      ]
     },
     "metadata": {},
     "output_type": "display_data"
    },
    {
     "data": {
      "application/vnd.jupyter.widget-view+json": {
       "model_id": "420abea1d497440eba9f5aea161c769e",
       "version_major": 2,
       "version_minor": 0
      },
      "text/plain": [
       "New Data Upload                         : |          |  0.00B /  0.00B            "
      ]
     },
     "metadata": {},
     "output_type": "display_data"
    },
    {
     "data": {
      "application/vnd.jupyter.widget-view+json": {
       "model_id": "32285bca972941d99bbbb6ec735dedcb",
       "version_major": 2,
       "version_minor": 0
      },
      "text/plain": [
       "                                        :  18%|#8        | 41.8MB /  226MB            "
      ]
     },
     "metadata": {},
     "output_type": "display_data"
    },
    {
     "data": {
      "application/vnd.jupyter.widget-view+json": {
       "model_id": "9d12dfaedc8b452f943c1e34b699a6f6",
       "version_major": 2,
       "version_minor": 0
      },
      "text/plain": [
       "Creating parquet from Arrow format:   0%|          | 0/16 [00:00<?, ?ba/s]"
      ]
     },
     "metadata": {},
     "output_type": "display_data"
    },
    {
     "data": {
      "application/vnd.jupyter.widget-view+json": {
       "model_id": "82aaa25a1e784950b80d1d250b565991",
       "version_major": 2,
       "version_minor": 0
      },
      "text/plain": [
       "Processing Files (0 / 0)                : |          |  0.00B /  0.00B            "
      ]
     },
     "metadata": {},
     "output_type": "display_data"
    },
    {
     "data": {
      "application/vnd.jupyter.widget-view+json": {
       "model_id": "e368a2c7add443d29183f91f683caa44",
       "version_major": 2,
       "version_minor": 0
      },
      "text/plain": [
       "New Data Upload                         : |          |  0.00B /  0.00B            "
      ]
     },
     "metadata": {},
     "output_type": "display_data"
    },
    {
     "data": {
      "application/vnd.jupyter.widget-view+json": {
       "model_id": "6eca7834adc14390973e4fb26bde7813",
       "version_major": 2,
       "version_minor": 0
      },
      "text/plain": [
       "                                        :  19%|#8        | 41.6MB /  223MB            "
      ]
     },
     "metadata": {},
     "output_type": "display_data"
    },
    {
     "data": {
      "application/vnd.jupyter.widget-view+json": {
       "model_id": "3521d60c6a534c20a0bc19cf54fc2229",
       "version_major": 2,
       "version_minor": 0
      },
      "text/plain": [
       "Creating parquet from Arrow format:   0%|          | 0/16 [00:00<?, ?ba/s]"
      ]
     },
     "metadata": {},
     "output_type": "display_data"
    },
    {
     "data": {
      "application/vnd.jupyter.widget-view+json": {
       "model_id": "295b55774520410c87cc536999442c95",
       "version_major": 2,
       "version_minor": 0
      },
      "text/plain": [
       "Processing Files (0 / 0)                : |          |  0.00B /  0.00B            "
      ]
     },
     "metadata": {},
     "output_type": "display_data"
    },
    {
     "data": {
      "application/vnd.jupyter.widget-view+json": {
       "model_id": "ec0d4b1582c846919a595b302c48fe37",
       "version_major": 2,
       "version_minor": 0
      },
      "text/plain": [
       "New Data Upload                         : |          |  0.00B /  0.00B            "
      ]
     },
     "metadata": {},
     "output_type": "display_data"
    },
    {
     "data": {
      "application/vnd.jupyter.widget-view+json": {
       "model_id": "53f71a029b154b1fb8d69b1f3cad7a10",
       "version_major": 2,
       "version_minor": 0
      },
      "text/plain": [
       "                                        :  18%|#8        | 41.8MB /  229MB            "
      ]
     },
     "metadata": {},
     "output_type": "display_data"
    },
    {
     "data": {
      "application/vnd.jupyter.widget-view+json": {
       "model_id": "c32f6247a1d94a1aa81202b74f99058b",
       "version_major": 2,
       "version_minor": 0
      },
      "text/plain": [
       "Uploading the dataset shards:   0%|          | 0/3 [00:00<?, ? shards/s]"
      ]
     },
     "metadata": {},
     "output_type": "display_data"
    },
    {
     "data": {
      "application/vnd.jupyter.widget-view+json": {
       "model_id": "eccd39318ea3411abaeebd5eaca4b710",
       "version_major": 2,
       "version_minor": 0
      },
      "text/plain": [
       "Creating parquet from Arrow format:   0%|          | 0/15 [00:00<?, ?ba/s]"
      ]
     },
     "metadata": {},
     "output_type": "display_data"
    },
    {
     "data": {
      "application/vnd.jupyter.widget-view+json": {
       "model_id": "365783f9549c49fea71b12a0200e941d",
       "version_major": 2,
       "version_minor": 0
      },
      "text/plain": [
       "Processing Files (0 / 0)                : |          |  0.00B /  0.00B            "
      ]
     },
     "metadata": {},
     "output_type": "display_data"
    },
    {
     "data": {
      "application/vnd.jupyter.widget-view+json": {
       "model_id": "5652d2727c2d419a8bfc33da6c5e3afb",
       "version_major": 2,
       "version_minor": 0
      },
      "text/plain": [
       "New Data Upload                         : |          |  0.00B /  0.00B            "
      ]
     },
     "metadata": {},
     "output_type": "display_data"
    },
    {
     "data": {
      "application/vnd.jupyter.widget-view+json": {
       "model_id": "a83bf861745f4ef7b9f2742b5dcb057c",
       "version_major": 2,
       "version_minor": 0
      },
      "text/plain": [
       "                                        :  19%|#9        | 41.8MB /  217MB            "
      ]
     },
     "metadata": {},
     "output_type": "display_data"
    },
    {
     "data": {
      "application/vnd.jupyter.widget-view+json": {
       "model_id": "7b16b045910c496db387deea0ef07195",
       "version_major": 2,
       "version_minor": 0
      },
      "text/plain": [
       "Creating parquet from Arrow format:   0%|          | 0/15 [00:00<?, ?ba/s]"
      ]
     },
     "metadata": {},
     "output_type": "display_data"
    },
    {
     "data": {
      "application/vnd.jupyter.widget-view+json": {
       "model_id": "6b4396d1bda849248f957884c70de96f",
       "version_major": 2,
       "version_minor": 0
      },
      "text/plain": [
       "Processing Files (0 / 0)                : |          |  0.00B /  0.00B            "
      ]
     },
     "metadata": {},
     "output_type": "display_data"
    },
    {
     "data": {
      "application/vnd.jupyter.widget-view+json": {
       "model_id": "c986cfece141410b838e7684bc9bad7b",
       "version_major": 2,
       "version_minor": 0
      },
      "text/plain": [
       "New Data Upload                         : |          |  0.00B /  0.00B            "
      ]
     },
     "metadata": {},
     "output_type": "display_data"
    },
    {
     "data": {
      "application/vnd.jupyter.widget-view+json": {
       "model_id": "a766ff3b17e446bcb31f4a0eb0016496",
       "version_major": 2,
       "version_minor": 0
      },
      "text/plain": [
       "                                        :  19%|#8        | 41.6MB /  220MB            "
      ]
     },
     "metadata": {},
     "output_type": "display_data"
    },
    {
     "data": {
      "application/vnd.jupyter.widget-view+json": {
       "model_id": "034cf4cc19af4a5c8357b8d506412375",
       "version_major": 2,
       "version_minor": 0
      },
      "text/plain": [
       "Creating parquet from Arrow format:   0%|          | 0/15 [00:00<?, ?ba/s]"
      ]
     },
     "metadata": {},
     "output_type": "display_data"
    },
    {
     "data": {
      "application/vnd.jupyter.widget-view+json": {
       "model_id": "c3bf934f61d24ec79a9612e093312c8c",
       "version_major": 2,
       "version_minor": 0
      },
      "text/plain": [
       "Processing Files (0 / 0)                : |          |  0.00B /  0.00B            "
      ]
     },
     "metadata": {},
     "output_type": "display_data"
    },
    {
     "data": {
      "application/vnd.jupyter.widget-view+json": {
       "model_id": "ad0fb31d460344498cbf2ee48a624ed2",
       "version_major": 2,
       "version_minor": 0
      },
      "text/plain": [
       "New Data Upload                         : |          |  0.00B /  0.00B            "
      ]
     },
     "metadata": {},
     "output_type": "display_data"
    },
    {
     "data": {
      "application/vnd.jupyter.widget-view+json": {
       "model_id": "4f08162dcf7a4cf5b7ff72d0b41713c4",
       "version_major": 2,
       "version_minor": 0
      },
      "text/plain": [
       "                                        :  19%|#8        | 41.6MB /  223MB            "
      ]
     },
     "metadata": {},
     "output_type": "display_data"
    },
    {
     "data": {
      "application/vnd.jupyter.widget-view+json": {
       "model_id": "df7380a979094b18ae5c62f0941b75e7",
       "version_major": 2,
       "version_minor": 0
      },
      "text/plain": [
       "Uploading the dataset shards:   0%|          | 0/3 [00:00<?, ? shards/s]"
      ]
     },
     "metadata": {},
     "output_type": "display_data"
    },
    {
     "data": {
      "application/vnd.jupyter.widget-view+json": {
       "model_id": "ec40cb0c47684e3685e918492501e30d",
       "version_major": 2,
       "version_minor": 0
      },
      "text/plain": [
       "Creating parquet from Arrow format:   0%|          | 0/15 [00:00<?, ?ba/s]"
      ]
     },
     "metadata": {},
     "output_type": "display_data"
    },
    {
     "data": {
      "application/vnd.jupyter.widget-view+json": {
       "model_id": "46c6cdcacec44184a81c235a19d17212",
       "version_major": 2,
       "version_minor": 0
      },
      "text/plain": [
       "Processing Files (0 / 0)                : |          |  0.00B /  0.00B            "
      ]
     },
     "metadata": {},
     "output_type": "display_data"
    },
    {
     "data": {
      "application/vnd.jupyter.widget-view+json": {
       "model_id": "ba3a9c8d691b46c2968e446d3176511c",
       "version_major": 2,
       "version_minor": 0
      },
      "text/plain": [
       "New Data Upload                         : |          |  0.00B /  0.00B            "
      ]
     },
     "metadata": {},
     "output_type": "display_data"
    },
    {
     "data": {
      "application/vnd.jupyter.widget-view+json": {
       "model_id": "a8d9b53ac0c94d34ad1ee5d442e76b24",
       "version_major": 2,
       "version_minor": 0
      },
      "text/plain": [
       "                                        :  19%|#8        | 41.7MB /  221MB            "
      ]
     },
     "metadata": {},
     "output_type": "display_data"
    },
    {
     "data": {
      "application/vnd.jupyter.widget-view+json": {
       "model_id": "3348de2da23a45d883289b339cf0ebaf",
       "version_major": 2,
       "version_minor": 0
      },
      "text/plain": [
       "Creating parquet from Arrow format:   0%|          | 0/15 [00:00<?, ?ba/s]"
      ]
     },
     "metadata": {},
     "output_type": "display_data"
    },
    {
     "data": {
      "application/vnd.jupyter.widget-view+json": {
       "model_id": "0f7575acb1f5453c8d6656ca6fef7e2d",
       "version_major": 2,
       "version_minor": 0
      },
      "text/plain": [
       "Processing Files (0 / 0)                : |          |  0.00B /  0.00B            "
      ]
     },
     "metadata": {},
     "output_type": "display_data"
    },
    {
     "data": {
      "application/vnd.jupyter.widget-view+json": {
       "model_id": "70471e7a74964a2fbcf8e96735b45784",
       "version_major": 2,
       "version_minor": 0
      },
      "text/plain": [
       "New Data Upload                         : |          |  0.00B /  0.00B            "
      ]
     },
     "metadata": {},
     "output_type": "display_data"
    },
    {
     "data": {
      "application/vnd.jupyter.widget-view+json": {
       "model_id": "84a6d4055e8d4e5382b9697a81414cfa",
       "version_major": 2,
       "version_minor": 0
      },
      "text/plain": [
       "                                        :  19%|#8        | 41.6MB /  220MB            "
      ]
     },
     "metadata": {},
     "output_type": "display_data"
    },
    {
     "data": {
      "application/vnd.jupyter.widget-view+json": {
       "model_id": "01f7acd6ce424a61ade7e30b211e59b0",
       "version_major": 2,
       "version_minor": 0
      },
      "text/plain": [
       "Creating parquet from Arrow format:   0%|          | 0/15 [00:00<?, ?ba/s]"
      ]
     },
     "metadata": {},
     "output_type": "display_data"
    },
    {
     "data": {
      "application/vnd.jupyter.widget-view+json": {
       "model_id": "cc4e2cc3f69e4be9a2481e9f8930aff0",
       "version_major": 2,
       "version_minor": 0
      },
      "text/plain": [
       "Processing Files (0 / 0)                : |          |  0.00B /  0.00B            "
      ]
     },
     "metadata": {},
     "output_type": "display_data"
    },
    {
     "data": {
      "application/vnd.jupyter.widget-view+json": {
       "model_id": "9f720533d58a46eebbf0206d03d8bcf1",
       "version_major": 2,
       "version_minor": 0
      },
      "text/plain": [
       "New Data Upload                         : |          |  0.00B /  0.00B            "
      ]
     },
     "metadata": {},
     "output_type": "display_data"
    },
    {
     "data": {
      "application/vnd.jupyter.widget-view+json": {
       "model_id": "4972b7ed46c84c7fbacff0f94c90ef69",
       "version_major": 2,
       "version_minor": 0
      },
      "text/plain": [
       "                                        :  19%|#9        | 41.7MB /  219MB            "
      ]
     },
     "metadata": {},
     "output_type": "display_data"
    },
    {
     "data": {
      "text/plain": [
       "CommitInfo(commit_url='https://huggingface.co/datasets/SteveAKopias/SemanticScholarCSFullTextWithOpenAlexTopics_FullText_TopicIndex/commit/200dc71ea5cd4b6560b22e4ff54ab6fdcb7df098', commit_message='Upload dataset', commit_description='', oid='200dc71ea5cd4b6560b22e4ff54ab6fdcb7df098', pr_url=None, repo_url=RepoUrl('https://huggingface.co/datasets/SteveAKopias/SemanticScholarCSFullTextWithOpenAlexTopics_FullText_TopicIndex', endpoint='https://huggingface.co', repo_type='dataset', repo_id='SteveAKopias/SemanticScholarCSFullTextWithOpenAlexTopics_FullText_TopicIndex'), pr_revision=None, pr_num=None)"
      ]
     },
     "execution_count": 8,
     "metadata": {},
     "output_type": "execute_result"
    }
   ],
   "source": [
    "dataset_fulltext_topicindex = dataset.select_columns(['fulltext', 'topic_index'])\n",
    "dataset_fulltext_topicindex.push_to_hub('SteveAKopias/SemanticScholarCSFullTextWithOpenAlexTopics'+'_FullText_TopicIndex')"
   ]
  },
  {
   "cell_type": "code",
   "execution_count": null,
   "id": "06af4ae8",
   "metadata": {},
   "outputs": [],
   "source": []
  }
 ],
 "metadata": {
  "kernelspec": {
   "display_name": "python_311_2",
   "language": "python",
   "name": "python_311_2"
  },
  "language_info": {
   "codemirror_mode": {
    "name": "ipython",
    "version": 3
   },
   "file_extension": ".py",
   "mimetype": "text/x-python",
   "name": "python",
   "nbconvert_exporter": "python",
   "pygments_lexer": "ipython3",
   "version": "3.11.13"
  }
 },
 "nbformat": 4,
 "nbformat_minor": 5
}
