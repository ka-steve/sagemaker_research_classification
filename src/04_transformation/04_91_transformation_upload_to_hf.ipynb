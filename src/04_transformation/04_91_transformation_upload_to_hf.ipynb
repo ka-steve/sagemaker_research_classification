{
 "cells": [
  {
   "cell_type": "code",
   "execution_count": 12,
   "id": "1344db8e",
   "metadata": {
    "execution": {
     "iopub.execute_input": "2025-09-04T15:32:20.997385Z",
     "iopub.status.busy": "2025-09-04T15:32:20.997080Z",
     "iopub.status.idle": "2025-09-04T15:32:21.007297Z",
     "shell.execute_reply": "2025-09-04T15:32:21.006477Z",
     "shell.execute_reply.started": "2025-09-04T15:32:20.997359Z"
    }
   },
   "outputs": [
    {
     "name": "stdout",
     "output_type": "stream",
     "text": [
      "utils.py loaded: v0.2.12\n",
      "config.py loaded: v0.1\n"
     ]
    }
   ],
   "source": [
    "import requests\n",
    "import boto3\n",
    "import json\n",
    "import os\n",
    "import sys\n",
    "import argparse\n",
    "import importlib\n",
    "import transformers\n",
    "import torch\n",
    "import pathlib\n",
    "import awswrangler as wr\n",
    "from IPython.display import display\n",
    "from sagemaker.huggingface.processing import HuggingFaceProcessor\n",
    "from sagemaker.sklearn.processing import SKLearnProcessor\n",
    "from sagemaker.processing import FrameworkProcessor\n",
    "from sagemaker.sklearn.estimator import SKLearn\n",
    "from sagemaker.workflow.steps import ProcessingStep\n",
    "from sagemaker.workflow.pipeline_context import PipelineSession\n",
    "from sagemaker.processing import ProcessingInput, ProcessingOutput\n",
    "from sagemaker.session import get_execution_role\n",
    "from huggingface_hub import create_repo, upload_file, login\n",
    "from tqdm.auto import tqdm\n",
    "import fsspec\n",
    "\n",
    "\n",
    "# Adding ../01_modules or ./01_modules to the system path so that we can load modules from \n",
    "# there as well\n",
    "if '__file__' in globals():\n",
    "    script_dir = pathlib.Path(__file__).parent.resolve()\n",
    "else:\n",
    "    script_dir = pathlib.Path().absolute()\n",
    "modules_path_in_dev = os.path.abspath(os.path.join(script_dir, '..', '01_modules'))\n",
    "modules_path_in_prod = os.path.abspath(os.path.join(script_dir, '01_modules'))\n",
    "if os.path.exists(modules_path_in_dev):\n",
    "    sys.path.append(modules_path_in_dev)\n",
    "if os.path.exists(modules_path_in_prod):\n",
    "    sys.path.append(modules_path_in_prod)\n",
    "\n",
    "\n",
    "# # Jupyter only reads a local module the first time after \n",
    "# # kernel start. Re-running a cell with \n",
    "# # \"from mymodulename import *\" would not change\n",
    "# # anything, even if the imported module has since changed.\n",
    "# # As a workaround, we need to directly load the module, \n",
    "# # use importlib.reload to reload it and then import * \n",
    "import utils\n",
    "_ = importlib.reload(utils)\n",
    "import config\n",
    "_ = importlib.reload(config) \n"
   ]
  },
  {
   "cell_type": "code",
   "execution_count": 3,
   "id": "96abfa11-a4c1-41e3-a208-7d48e58d984f",
   "metadata": {
    "execution": {
     "iopub.execute_input": "2025-09-03T23:32:19.350239Z",
     "iopub.status.busy": "2025-09-03T23:32:19.349932Z",
     "iopub.status.idle": "2025-09-03T23:32:19.366590Z",
     "shell.execute_reply": "2025-09-03T23:32:19.365636Z",
     "shell.execute_reply.started": "2025-09-03T23:32:19.350212Z"
    }
   },
   "outputs": [
    {
     "data": {
      "application/vnd.jupyter.widget-view+json": {
       "model_id": "92360dc8b2014d25af48b51bdf04b94d",
       "version_major": 2,
       "version_minor": 0
      },
      "text/plain": [
       "VBox(children=(HTML(value='<center> <img\\nsrc=https://huggingface.co/front/assets/huggingface_logo-noborder.sv…"
      ]
     },
     "metadata": {},
     "output_type": "display_data"
    }
   ],
   "source": [
    "login()"
   ]
  },
  {
   "cell_type": "code",
   "execution_count": 9,
   "id": "913012c4-40c6-4685-a986-c829c0e3843a",
   "metadata": {
    "execution": {
     "iopub.execute_input": "2025-09-03T23:39:11.150482Z",
     "iopub.status.busy": "2025-09-03T23:39:11.150050Z",
     "iopub.status.idle": "2025-09-03T23:39:12.240755Z",
     "shell.execute_reply": "2025-09-03T23:39:12.238538Z",
     "shell.execute_reply.started": "2025-09-03T23:39:11.150444Z"
    },
    "scrolled": true
   },
   "outputs": [
    {
     "data": {
      "application/vnd.jupyter.widget-view+json": {
       "model_id": "81c71d48982a45b3953abb07b50aec4a",
       "version_major": 2,
       "version_minor": 0
      },
      "text/plain": [
       "  0%|          | 0/21 [00:00<?, ?it/s]"
      ]
     },
     "metadata": {},
     "output_type": "display_data"
    },
    {
     "name": "stdout",
     "output_type": "stream",
     "text": [
      "data/test/903_232908_00111_au2h8_011ae08a-6999-49ff-bfe0-faeb769ea2b3 <class 's3fs.core.S3File'>\n"
     ]
    },
    {
     "data": {
      "text/html": [
       "<pre style=\"white-space:pre;overflow-x:auto;line-height:normal;font-family:Menlo,'DejaVu Sans Mono',consolas,'Courier New',monospace\"><span style=\"color: #ff0000; text-decoration-color: #ff0000\">╭─────────────────────────────── </span><span style=\"color: #ff0000; text-decoration-color: #ff0000; font-weight: bold\">Traceback </span><span style=\"color: #ff7f7f; text-decoration-color: #ff7f7f; font-weight: bold\">(most recent call last)</span><span style=\"color: #ff0000; text-decoration-color: #ff0000\"> ────────────────────────────────╮</span>\n",
       "<span style=\"color: #ff0000; text-decoration-color: #ff0000\">│</span> in &lt;module&gt;:12                                                                                   <span style=\"color: #ff0000; text-decoration-color: #ff0000\">│</span>\n",
       "<span style=\"color: #ff0000; text-decoration-color: #ff0000\">│</span>                                                                                                  <span style=\"color: #ff0000; text-decoration-color: #ff0000\">│</span>\n",
       "<span style=\"color: #ff0000; text-decoration-color: #ff0000\">│</span>   <span style=\"color: #7f7f7f; text-decoration-color: #7f7f7f\"> 9 </span><span style=\"color: #7f7f7f; text-decoration-color: #7f7f7f\">│   </span><span style=\"color: #0000ff; text-decoration-color: #0000ff\">with</span> fs.open(data_file, <span style=\"color: #808000; text-decoration-color: #808000\">'rb'</span>) <span style=\"color: #0000ff; text-decoration-color: #0000ff\">as</span> fileobj:                                               <span style=\"color: #ff0000; text-decoration-color: #ff0000\">│</span>\n",
       "<span style=\"color: #ff0000; text-decoration-color: #ff0000\">│</span>   <span style=\"color: #7f7f7f; text-decoration-color: #7f7f7f\">10 </span><span style=\"color: #7f7f7f; text-decoration-color: #7f7f7f\">│   │   </span>path_in_repo = <span style=\"color: #808000; text-decoration-color: #808000\">f'data/{</span>subset<span style=\"color: #808000; text-decoration-color: #808000\">}/{</span>data_file[<span style=\"color: #00ffff; text-decoration-color: #00ffff\">len</span>(data_dir):]<span style=\"color: #808000; text-decoration-color: #808000\">}'</span>                         <span style=\"color: #ff0000; text-decoration-color: #ff0000\">│</span>\n",
       "<span style=\"color: #ff0000; text-decoration-color: #ff0000\">│</span>   <span style=\"color: #7f7f7f; text-decoration-color: #7f7f7f\">11 </span><span style=\"color: #7f7f7f; text-decoration-color: #7f7f7f\">│   │   </span><span style=\"color: #00ffff; text-decoration-color: #00ffff\">print</span>(path_in_repo, <span style=\"color: #00ffff; text-decoration-color: #00ffff\">type</span>(fileobj))                                                  <span style=\"color: #ff0000; text-decoration-color: #ff0000\">│</span>\n",
       "<span style=\"color: #ff0000; text-decoration-color: #ff0000\">│</span> <span style=\"color: #800000; text-decoration-color: #800000\">❱ </span>12 <span style=\"color: #7f7f7f; text-decoration-color: #7f7f7f\">│   │   </span><span style=\"font-weight: bold; text-decoration: underline\">upload_file(</span>                                                                        <span style=\"color: #ff0000; text-decoration-color: #ff0000\">│</span>\n",
       "<span style=\"color: #ff0000; text-decoration-color: #ff0000\">│</span>   <span style=\"color: #7f7f7f; text-decoration-color: #7f7f7f\">13 </span><span style=\"color: #7f7f7f; text-decoration-color: #7f7f7f\">│   │   │   </span><span style=\"font-weight: bold; text-decoration: underline\">path_or_fileobj=fileobj,</span>                                                        <span style=\"color: #ff0000; text-decoration-color: #ff0000\">│</span>\n",
       "<span style=\"color: #ff0000; text-decoration-color: #ff0000\">│</span>   <span style=\"color: #7f7f7f; text-decoration-color: #7f7f7f\">14 </span><span style=\"color: #7f7f7f; text-decoration-color: #7f7f7f\">│   │   │   </span><span style=\"font-weight: bold; text-decoration: underline\">path_in_repo=path_in_repo,</span>                                                      <span style=\"color: #ff0000; text-decoration-color: #ff0000\">│</span>\n",
       "<span style=\"color: #ff0000; text-decoration-color: #ff0000\">│</span>   <span style=\"color: #7f7f7f; text-decoration-color: #7f7f7f\">15 </span><span style=\"color: #7f7f7f; text-decoration-color: #7f7f7f\">│   │   │   </span><span style=\"font-weight: bold; text-decoration: underline\">repo_id=destination_dataset,</span>                                                    <span style=\"color: #ff0000; text-decoration-color: #ff0000\">│</span>\n",
       "<span style=\"color: #ff0000; text-decoration-color: #ff0000\">│</span>                                                                                                  <span style=\"color: #ff0000; text-decoration-color: #ff0000\">│</span>\n",
       "<span style=\"color: #ff0000; text-decoration-color: #ff0000\">│</span> <span style=\"color: #7f7f7f; text-decoration-color: #7f7f7f\">/home/sagemaker-user/.conda/envs/python_311/lib/python3.11/site-packages/huggingface_hub/utils/</span><span style=\"font-weight: bold\">_</span> <span style=\"color: #ff0000; text-decoration-color: #ff0000\">│</span>\n",
       "<span style=\"color: #ff0000; text-decoration-color: #ff0000\">│</span> <span style=\"font-weight: bold\">validators.py</span>:114 in _inner_fn                                                                   <span style=\"color: #ff0000; text-decoration-color: #ff0000\">│</span>\n",
       "<span style=\"color: #ff0000; text-decoration-color: #ff0000\">│</span>                                                                                                  <span style=\"color: #ff0000; text-decoration-color: #ff0000\">│</span>\n",
       "<span style=\"color: #ff0000; text-decoration-color: #ff0000\">│</span>   <span style=\"color: #7f7f7f; text-decoration-color: #7f7f7f\">111 </span><span style=\"color: #7f7f7f; text-decoration-color: #7f7f7f\">│   │   </span><span style=\"color: #0000ff; text-decoration-color: #0000ff\">if</span> check_use_auth_token:                                                           <span style=\"color: #ff0000; text-decoration-color: #ff0000\">│</span>\n",
       "<span style=\"color: #ff0000; text-decoration-color: #ff0000\">│</span>   <span style=\"color: #7f7f7f; text-decoration-color: #7f7f7f\">112 </span><span style=\"color: #7f7f7f; text-decoration-color: #7f7f7f\">│   │   │   </span>kwargs = smoothly_deprecate_use_auth_token(fn_name=fn.<span style=\"color: #ff0000; text-decoration-color: #ff0000\">__name__</span>, has_token=ha   <span style=\"color: #ff0000; text-decoration-color: #ff0000\">│</span>\n",
       "<span style=\"color: #ff0000; text-decoration-color: #ff0000\">│</span>   <span style=\"color: #7f7f7f; text-decoration-color: #7f7f7f\">113 </span><span style=\"color: #7f7f7f; text-decoration-color: #7f7f7f\">│   │   </span>                                                                                   <span style=\"color: #ff0000; text-decoration-color: #ff0000\">│</span>\n",
       "<span style=\"color: #ff0000; text-decoration-color: #ff0000\">│</span> <span style=\"color: #800000; text-decoration-color: #800000\">❱ </span>114 <span style=\"color: #7f7f7f; text-decoration-color: #7f7f7f\">│   │   </span><span style=\"color: #0000ff; text-decoration-color: #0000ff\">return</span> <span style=\"font-weight: bold; text-decoration: underline\">fn(*args, **kwargs)</span>                                                         <span style=\"color: #ff0000; text-decoration-color: #ff0000\">│</span>\n",
       "<span style=\"color: #ff0000; text-decoration-color: #ff0000\">│</span>   <span style=\"color: #7f7f7f; text-decoration-color: #7f7f7f\">115 </span><span style=\"color: #7f7f7f; text-decoration-color: #7f7f7f\">│   </span>                                                                                       <span style=\"color: #ff0000; text-decoration-color: #ff0000\">│</span>\n",
       "<span style=\"color: #ff0000; text-decoration-color: #ff0000\">│</span>   <span style=\"color: #7f7f7f; text-decoration-color: #7f7f7f\">116 </span><span style=\"color: #7f7f7f; text-decoration-color: #7f7f7f\">│   </span><span style=\"color: #0000ff; text-decoration-color: #0000ff\">return</span> _inner_fn  <span style=\"color: #7f7f7f; text-decoration-color: #7f7f7f\"># type: ignore</span>                                                       <span style=\"color: #ff0000; text-decoration-color: #ff0000\">│</span>\n",
       "<span style=\"color: #ff0000; text-decoration-color: #ff0000\">│</span>   <span style=\"color: #7f7f7f; text-decoration-color: #7f7f7f\">117 </span>                                                                                           <span style=\"color: #ff0000; text-decoration-color: #ff0000\">│</span>\n",
       "<span style=\"color: #ff0000; text-decoration-color: #ff0000\">│</span>                                                                                                  <span style=\"color: #ff0000; text-decoration-color: #ff0000\">│</span>\n",
       "<span style=\"color: #ff0000; text-decoration-color: #ff0000\">│</span> <span style=\"color: #7f7f7f; text-decoration-color: #7f7f7f\">/home/sagemaker-user/.conda/envs/python_311/lib/python3.11/site-packages/huggingface_hub/</span><span style=\"font-weight: bold\">hf_api.</span> <span style=\"color: #ff0000; text-decoration-color: #ff0000\">│</span>\n",
       "<span style=\"color: #ff0000; text-decoration-color: #ff0000\">│</span> <span style=\"font-weight: bold\">py</span>:1669 in _inner                                                                                <span style=\"color: #ff0000; text-decoration-color: #ff0000\">│</span>\n",
       "<span style=\"color: #ff0000; text-decoration-color: #ff0000\">│</span>                                                                                                  <span style=\"color: #ff0000; text-decoration-color: #ff0000\">│</span>\n",
       "<span style=\"color: #ff0000; text-decoration-color: #ff0000\">│</span>   <span style=\"color: #7f7f7f; text-decoration-color: #7f7f7f\"> 1666 </span><span style=\"color: #7f7f7f; text-decoration-color: #7f7f7f\">│   │   │   </span><span style=\"color: #0000ff; text-decoration-color: #0000ff\">return</span> <span style=\"color: #00ffff; text-decoration-color: #00ffff\">self</span>.run_as_future(fn, <span style=\"color: #00ffff; text-decoration-color: #00ffff\">self</span>, *args, **kwargs)                         <span style=\"color: #ff0000; text-decoration-color: #ff0000\">│</span>\n",
       "<span style=\"color: #ff0000; text-decoration-color: #ff0000\">│</span>   <span style=\"color: #7f7f7f; text-decoration-color: #7f7f7f\"> 1667 </span><span style=\"color: #7f7f7f; text-decoration-color: #7f7f7f\">│   │   </span>                                                                                 <span style=\"color: #ff0000; text-decoration-color: #ff0000\">│</span>\n",
       "<span style=\"color: #ff0000; text-decoration-color: #ff0000\">│</span>   <span style=\"color: #7f7f7f; text-decoration-color: #7f7f7f\"> 1668 </span><span style=\"color: #7f7f7f; text-decoration-color: #7f7f7f\">│   │   </span><span style=\"color: #7f7f7f; text-decoration-color: #7f7f7f\"># Otherwise, call the function normally</span>                                          <span style=\"color: #ff0000; text-decoration-color: #ff0000\">│</span>\n",
       "<span style=\"color: #ff0000; text-decoration-color: #ff0000\">│</span> <span style=\"color: #800000; text-decoration-color: #800000\">❱ </span> 1669 <span style=\"color: #7f7f7f; text-decoration-color: #7f7f7f\">│   │   </span><span style=\"color: #0000ff; text-decoration-color: #0000ff\">return</span> <span style=\"font-weight: bold; text-decoration: underline\">fn(</span><span style=\"color: #00ffff; text-decoration-color: #00ffff; font-weight: bold; text-decoration: underline\">self</span><span style=\"font-weight: bold; text-decoration: underline\">, *args, **kwargs)</span>                                                 <span style=\"color: #ff0000; text-decoration-color: #ff0000\">│</span>\n",
       "<span style=\"color: #ff0000; text-decoration-color: #ff0000\">│</span>   <span style=\"color: #7f7f7f; text-decoration-color: #7f7f7f\"> 1670 </span><span style=\"color: #7f7f7f; text-decoration-color: #7f7f7f\">│   </span>                                                                                     <span style=\"color: #ff0000; text-decoration-color: #ff0000\">│</span>\n",
       "<span style=\"color: #ff0000; text-decoration-color: #ff0000\">│</span>   <span style=\"color: #7f7f7f; text-decoration-color: #7f7f7f\"> 1671 </span><span style=\"color: #7f7f7f; text-decoration-color: #7f7f7f\">│   </span>_inner.is_future_compatible = <span style=\"color: #0000ff; text-decoration-color: #0000ff\">True</span>  <span style=\"color: #7f7f7f; text-decoration-color: #7f7f7f\"># type: ignore</span>                                   <span style=\"color: #ff0000; text-decoration-color: #ff0000\">│</span>\n",
       "<span style=\"color: #ff0000; text-decoration-color: #ff0000\">│</span>   <span style=\"color: #7f7f7f; text-decoration-color: #7f7f7f\"> 1672 </span><span style=\"color: #7f7f7f; text-decoration-color: #7f7f7f\">│   </span><span style=\"color: #0000ff; text-decoration-color: #0000ff\">return</span> _inner  <span style=\"color: #7f7f7f; text-decoration-color: #7f7f7f\"># type: ignore</span>                                                        <span style=\"color: #ff0000; text-decoration-color: #ff0000\">│</span>\n",
       "<span style=\"color: #ff0000; text-decoration-color: #ff0000\">│</span>                                                                                                  <span style=\"color: #ff0000; text-decoration-color: #ff0000\">│</span>\n",
       "<span style=\"color: #ff0000; text-decoration-color: #ff0000\">│</span> <span style=\"color: #7f7f7f; text-decoration-color: #7f7f7f\">/home/sagemaker-user/.conda/envs/python_311/lib/python3.11/site-packages/huggingface_hub/</span><span style=\"font-weight: bold\">hf_api.</span> <span style=\"color: #ff0000; text-decoration-color: #ff0000\">│</span>\n",
       "<span style=\"color: #ff0000; text-decoration-color: #ff0000\">│</span> <span style=\"font-weight: bold\">py</span>:4705 in upload_file                                                                           <span style=\"color: #ff0000; text-decoration-color: #ff0000\">│</span>\n",
       "<span style=\"color: #ff0000; text-decoration-color: #ff0000\">│</span>                                                                                                  <span style=\"color: #ff0000; text-decoration-color: #ff0000\">│</span>\n",
       "<span style=\"color: #ff0000; text-decoration-color: #ff0000\">│</span>   <span style=\"color: #7f7f7f; text-decoration-color: #7f7f7f\"> 4702 </span><span style=\"color: #7f7f7f; text-decoration-color: #7f7f7f\">│   │   </span>commit_message = (                                                               <span style=\"color: #ff0000; text-decoration-color: #ff0000\">│</span>\n",
       "<span style=\"color: #ff0000; text-decoration-color: #ff0000\">│</span>   <span style=\"color: #7f7f7f; text-decoration-color: #7f7f7f\"> 4703 </span><span style=\"color: #7f7f7f; text-decoration-color: #7f7f7f\">│   │   │   </span>commit_message <span style=\"color: #0000ff; text-decoration-color: #0000ff\">if</span> commit_message <span style=\"color: #ff00ff; text-decoration-color: #ff00ff\">is</span> <span style=\"color: #ff00ff; text-decoration-color: #ff00ff\">not</span> <span style=\"color: #0000ff; text-decoration-color: #0000ff\">None</span> <span style=\"color: #0000ff; text-decoration-color: #0000ff\">else</span> <span style=\"color: #808000; text-decoration-color: #808000\">f\"Upload {</span>path_in_repo<span style=\"color: #808000; text-decoration-color: #808000\">} wi</span> <span style=\"color: #ff0000; text-decoration-color: #ff0000\">│</span>\n",
       "<span style=\"color: #ff0000; text-decoration-color: #ff0000\">│</span>   <span style=\"color: #7f7f7f; text-decoration-color: #7f7f7f\"> 4704 </span><span style=\"color: #7f7f7f; text-decoration-color: #7f7f7f\">│   │   </span>)                                                                                <span style=\"color: #ff0000; text-decoration-color: #ff0000\">│</span>\n",
       "<span style=\"color: #ff0000; text-decoration-color: #ff0000\">│</span> <span style=\"color: #800000; text-decoration-color: #800000\">❱ </span> 4705 <span style=\"color: #7f7f7f; text-decoration-color: #7f7f7f\">│   │   </span>operation = <span style=\"font-weight: bold; text-decoration: underline\">CommitOperationAdd(</span>                                                  <span style=\"color: #ff0000; text-decoration-color: #ff0000\">│</span>\n",
       "<span style=\"color: #ff0000; text-decoration-color: #ff0000\">│</span>   <span style=\"color: #7f7f7f; text-decoration-color: #7f7f7f\"> 4706 </span><span style=\"color: #7f7f7f; text-decoration-color: #7f7f7f\">│   │   │   </span><span style=\"font-weight: bold; text-decoration: underline\">path_or_fileobj=path_or_fileobj,</span>                                             <span style=\"color: #ff0000; text-decoration-color: #ff0000\">│</span>\n",
       "<span style=\"color: #ff0000; text-decoration-color: #ff0000\">│</span>   <span style=\"color: #7f7f7f; text-decoration-color: #7f7f7f\"> 4707 </span><span style=\"color: #7f7f7f; text-decoration-color: #7f7f7f\">│   │   │   </span><span style=\"font-weight: bold; text-decoration: underline\">path_in_repo=path_in_repo,</span>                                                   <span style=\"color: #ff0000; text-decoration-color: #ff0000\">│</span>\n",
       "<span style=\"color: #ff0000; text-decoration-color: #ff0000\">│</span>   <span style=\"color: #7f7f7f; text-decoration-color: #7f7f7f\"> 4708 </span><span style=\"color: #7f7f7f; text-decoration-color: #7f7f7f\">│   │   </span><span style=\"font-weight: bold; text-decoration: underline\">)</span>                                                                                <span style=\"color: #ff0000; text-decoration-color: #ff0000\">│</span>\n",
       "<span style=\"color: #ff0000; text-decoration-color: #ff0000\">│</span> in __init__:5                                                                                    <span style=\"color: #ff0000; text-decoration-color: #ff0000\">│</span>\n",
       "<span style=\"color: #ff0000; text-decoration-color: #ff0000\">│</span>                                                                                                  <span style=\"color: #ff0000; text-decoration-color: #ff0000\">│</span>\n",
       "<span style=\"color: #ff0000; text-decoration-color: #ff0000\">│</span> <span style=\"color: #7f7f7f; text-decoration-color: #7f7f7f\">/home/sagemaker-user/.conda/envs/python_311/lib/python3.11/site-packages/huggingface_hub/</span><span style=\"font-weight: bold\">_commit</span> <span style=\"color: #ff0000; text-decoration-color: #ff0000\">│</span>\n",
       "<span style=\"color: #ff0000; text-decoration-color: #ff0000\">│</span> <span style=\"font-weight: bold\">_api.py</span>:184 in __post_init__                                                                     <span style=\"color: #ff0000; text-decoration-color: #ff0000\">│</span>\n",
       "<span style=\"color: #ff0000; text-decoration-color: #ff0000\">│</span>                                                                                                  <span style=\"color: #ff0000; text-decoration-color: #ff0000\">│</span>\n",
       "<span style=\"color: #ff0000; text-decoration-color: #ff0000\">│</span>   <span style=\"color: #7f7f7f; text-decoration-color: #7f7f7f\">181 </span><span style=\"color: #7f7f7f; text-decoration-color: #7f7f7f\">│   │   │   │   </span><span style=\"color: #0000ff; text-decoration-color: #0000ff\">raise</span> <span style=\"color: #00ffff; text-decoration-color: #00ffff\">ValueError</span>(<span style=\"color: #808000; text-decoration-color: #808000\">f\"Provided path: '{</span>path_or_fileobj<span style=\"color: #808000; text-decoration-color: #808000\">}' is not a file on t</span>   <span style=\"color: #ff0000; text-decoration-color: #ff0000\">│</span>\n",
       "<span style=\"color: #ff0000; text-decoration-color: #ff0000\">│</span>   <span style=\"color: #7f7f7f; text-decoration-color: #7f7f7f\">182 </span><span style=\"color: #7f7f7f; text-decoration-color: #7f7f7f\">│   │   </span><span style=\"color: #0000ff; text-decoration-color: #0000ff\">elif</span> <span style=\"color: #ff00ff; text-decoration-color: #ff00ff\">not</span> <span style=\"color: #00ffff; text-decoration-color: #00ffff\">isinstance</span>(<span style=\"color: #00ffff; text-decoration-color: #00ffff\">self</span>.path_or_fileobj, (io.BufferedIOBase, <span style=\"color: #00ffff; text-decoration-color: #00ffff\">bytes</span>)):             <span style=\"color: #ff0000; text-decoration-color: #ff0000\">│</span>\n",
       "<span style=\"color: #ff0000; text-decoration-color: #ff0000\">│</span>   <span style=\"color: #7f7f7f; text-decoration-color: #7f7f7f\">183 </span><span style=\"color: #7f7f7f; text-decoration-color: #7f7f7f\">│   │   │   </span><span style=\"color: #7f7f7f; text-decoration-color: #7f7f7f\"># ^^ Inspired from: https://stackoverflow.com/questions/44584829/how-to-dete</span>   <span style=\"color: #ff0000; text-decoration-color: #ff0000\">│</span>\n",
       "<span style=\"color: #ff0000; text-decoration-color: #ff0000\">│</span> <span style=\"color: #800000; text-decoration-color: #800000\">❱ </span>184 <span style=\"color: #7f7f7f; text-decoration-color: #7f7f7f\">│   │   │   </span><span style=\"color: #0000ff; text-decoration-color: #0000ff; font-weight: bold; text-decoration: underline\">raise</span><span style=\"font-weight: bold; text-decoration: underline\"> </span><span style=\"color: #00ffff; text-decoration-color: #00ffff; font-weight: bold; text-decoration: underline\">ValueError</span><span style=\"font-weight: bold; text-decoration: underline\">(</span>                                                              <span style=\"color: #ff0000; text-decoration-color: #ff0000\">│</span>\n",
       "<span style=\"color: #ff0000; text-decoration-color: #ff0000\">│</span>   <span style=\"color: #7f7f7f; text-decoration-color: #7f7f7f\">185 </span><span style=\"color: #7f7f7f; text-decoration-color: #7f7f7f\">│   │   │   │   </span><span style=\"color: #808000; text-decoration-color: #808000; font-weight: bold; text-decoration: underline\">\"path_or_fileobj must be either an instance of str, bytes or\"</span>              <span style=\"color: #ff0000; text-decoration-color: #ff0000\">│</span>\n",
       "<span style=\"color: #ff0000; text-decoration-color: #ff0000\">│</span>   <span style=\"color: #7f7f7f; text-decoration-color: #7f7f7f\">186 </span><span style=\"color: #7f7f7f; text-decoration-color: #7f7f7f\">│   │   │   │   </span><span style=\"color: #808000; text-decoration-color: #808000; font-weight: bold; text-decoration: underline\">\" io.BufferedIOBase. If you passed a file-like object, make sure it is\"</span>    <span style=\"color: #ff0000; text-decoration-color: #ff0000\">│</span>\n",
       "<span style=\"color: #ff0000; text-decoration-color: #ff0000\">│</span>   <span style=\"color: #7f7f7f; text-decoration-color: #7f7f7f\">187 </span><span style=\"color: #7f7f7f; text-decoration-color: #7f7f7f\">│   │   │   │   </span><span style=\"color: #808000; text-decoration-color: #808000; font-weight: bold; text-decoration: underline\">\" in binary mode.\"</span>                                                         <span style=\"color: #ff0000; text-decoration-color: #ff0000\">│</span>\n",
       "<span style=\"color: #ff0000; text-decoration-color: #ff0000\">╰──────────────────────────────────────────────────────────────────────────────────────────────────╯</span>\n",
       "<span style=\"color: #ff0000; text-decoration-color: #ff0000; font-weight: bold\">ValueError: </span>path_or_fileobj must be either an instance of str, bytes or io.BufferedIOBase. If you passed a \n",
       "file-like object, make sure it is in binary mode.\n",
       "</pre>\n"
      ],
      "text/plain": [
       "\u001b[38;2;255;0;0m╭─\u001b[0m\u001b[38;2;255;0;0m──────────────────────────────\u001b[0m\u001b[38;2;255;0;0m \u001b[0m\u001b[1;38;2;255;0;0mTraceback \u001b[0m\u001b[1;2;38;2;255;0;0m(most recent call last)\u001b[0m\u001b[38;2;255;0;0m \u001b[0m\u001b[38;2;255;0;0m───────────────────────────────\u001b[0m\u001b[38;2;255;0;0m─╮\u001b[0m\n",
       "\u001b[38;2;255;0;0m│\u001b[0m in <module>:12                                                                                   \u001b[38;2;255;0;0m│\u001b[0m\n",
       "\u001b[38;2;255;0;0m│\u001b[0m                                                                                                  \u001b[38;2;255;0;0m│\u001b[0m\n",
       "\u001b[38;2;255;0;0m│\u001b[0m   \u001b[2m 9 \u001b[0m\u001b[2m│   \u001b[0m\u001b[94mwith\u001b[0m fs.open(data_file, \u001b[33m'\u001b[0m\u001b[33mrb\u001b[0m\u001b[33m'\u001b[0m) \u001b[94mas\u001b[0m fileobj:                                               \u001b[38;2;255;0;0m│\u001b[0m\n",
       "\u001b[38;2;255;0;0m│\u001b[0m   \u001b[2m10 \u001b[0m\u001b[2m│   │   \u001b[0mpath_in_repo = \u001b[33mf\u001b[0m\u001b[33m'\u001b[0m\u001b[33mdata/\u001b[0m\u001b[33m{\u001b[0msubset\u001b[33m}\u001b[0m\u001b[33m/\u001b[0m\u001b[33m{\u001b[0mdata_file[\u001b[96mlen\u001b[0m(data_dir):]\u001b[33m}\u001b[0m\u001b[33m'\u001b[0m                         \u001b[38;2;255;0;0m│\u001b[0m\n",
       "\u001b[38;2;255;0;0m│\u001b[0m   \u001b[2m11 \u001b[0m\u001b[2m│   │   \u001b[0m\u001b[96mprint\u001b[0m(path_in_repo, \u001b[96mtype\u001b[0m(fileobj))                                                  \u001b[38;2;255;0;0m│\u001b[0m\n",
       "\u001b[38;2;255;0;0m│\u001b[0m \u001b[31m❱ \u001b[0m12 \u001b[2m│   │   \u001b[0m\u001b[1;4mupload_file(\u001b[0m                                                                        \u001b[38;2;255;0;0m│\u001b[0m\n",
       "\u001b[38;2;255;0;0m│\u001b[0m   \u001b[2m13 \u001b[0m\u001b[2m│   │   │   \u001b[0m\u001b[1;4mpath_or_fileobj=fileobj,\u001b[0m                                                        \u001b[38;2;255;0;0m│\u001b[0m\n",
       "\u001b[38;2;255;0;0m│\u001b[0m   \u001b[2m14 \u001b[0m\u001b[2m│   │   │   \u001b[0m\u001b[1;4mpath_in_repo=path_in_repo,\u001b[0m                                                      \u001b[38;2;255;0;0m│\u001b[0m\n",
       "\u001b[38;2;255;0;0m│\u001b[0m   \u001b[2m15 \u001b[0m\u001b[2m│   │   │   \u001b[0m\u001b[1;4mrepo_id=destination_dataset,\u001b[0m                                                    \u001b[38;2;255;0;0m│\u001b[0m\n",
       "\u001b[38;2;255;0;0m│\u001b[0m                                                                                                  \u001b[38;2;255;0;0m│\u001b[0m\n",
       "\u001b[38;2;255;0;0m│\u001b[0m \u001b[2m/home/sagemaker-user/.conda/envs/python_311/lib/python3.11/site-packages/huggingface_hub/utils/\u001b[0m\u001b[1m_\u001b[0m \u001b[38;2;255;0;0m│\u001b[0m\n",
       "\u001b[38;2;255;0;0m│\u001b[0m \u001b[1mvalidators.py\u001b[0m:114 in _inner_fn                                                                   \u001b[38;2;255;0;0m│\u001b[0m\n",
       "\u001b[38;2;255;0;0m│\u001b[0m                                                                                                  \u001b[38;2;255;0;0m│\u001b[0m\n",
       "\u001b[38;2;255;0;0m│\u001b[0m   \u001b[2m111 \u001b[0m\u001b[2m│   │   \u001b[0m\u001b[94mif\u001b[0m check_use_auth_token:                                                           \u001b[38;2;255;0;0m│\u001b[0m\n",
       "\u001b[38;2;255;0;0m│\u001b[0m   \u001b[2m112 \u001b[0m\u001b[2m│   │   │   \u001b[0mkwargs = smoothly_deprecate_use_auth_token(fn_name=fn.\u001b[91m__name__\u001b[0m, has_token=ha   \u001b[38;2;255;0;0m│\u001b[0m\n",
       "\u001b[38;2;255;0;0m│\u001b[0m   \u001b[2m113 \u001b[0m\u001b[2m│   │   \u001b[0m                                                                                   \u001b[38;2;255;0;0m│\u001b[0m\n",
       "\u001b[38;2;255;0;0m│\u001b[0m \u001b[31m❱ \u001b[0m114 \u001b[2m│   │   \u001b[0m\u001b[94mreturn\u001b[0m \u001b[1;4mfn(*args, **kwargs)\u001b[0m                                                         \u001b[38;2;255;0;0m│\u001b[0m\n",
       "\u001b[38;2;255;0;0m│\u001b[0m   \u001b[2m115 \u001b[0m\u001b[2m│   \u001b[0m                                                                                       \u001b[38;2;255;0;0m│\u001b[0m\n",
       "\u001b[38;2;255;0;0m│\u001b[0m   \u001b[2m116 \u001b[0m\u001b[2m│   \u001b[0m\u001b[94mreturn\u001b[0m _inner_fn  \u001b[2m# type: ignore\u001b[0m                                                       \u001b[38;2;255;0;0m│\u001b[0m\n",
       "\u001b[38;2;255;0;0m│\u001b[0m   \u001b[2m117 \u001b[0m                                                                                           \u001b[38;2;255;0;0m│\u001b[0m\n",
       "\u001b[38;2;255;0;0m│\u001b[0m                                                                                                  \u001b[38;2;255;0;0m│\u001b[0m\n",
       "\u001b[38;2;255;0;0m│\u001b[0m \u001b[2m/home/sagemaker-user/.conda/envs/python_311/lib/python3.11/site-packages/huggingface_hub/\u001b[0m\u001b[1mhf_api.\u001b[0m \u001b[38;2;255;0;0m│\u001b[0m\n",
       "\u001b[38;2;255;0;0m│\u001b[0m \u001b[1mpy\u001b[0m:1669 in _inner                                                                                \u001b[38;2;255;0;0m│\u001b[0m\n",
       "\u001b[38;2;255;0;0m│\u001b[0m                                                                                                  \u001b[38;2;255;0;0m│\u001b[0m\n",
       "\u001b[38;2;255;0;0m│\u001b[0m   \u001b[2m 1666 \u001b[0m\u001b[2m│   │   │   \u001b[0m\u001b[94mreturn\u001b[0m \u001b[96mself\u001b[0m.run_as_future(fn, \u001b[96mself\u001b[0m, *args, **kwargs)                         \u001b[38;2;255;0;0m│\u001b[0m\n",
       "\u001b[38;2;255;0;0m│\u001b[0m   \u001b[2m 1667 \u001b[0m\u001b[2m│   │   \u001b[0m                                                                                 \u001b[38;2;255;0;0m│\u001b[0m\n",
       "\u001b[38;2;255;0;0m│\u001b[0m   \u001b[2m 1668 \u001b[0m\u001b[2m│   │   \u001b[0m\u001b[2m# Otherwise, call the function normally\u001b[0m                                          \u001b[38;2;255;0;0m│\u001b[0m\n",
       "\u001b[38;2;255;0;0m│\u001b[0m \u001b[31m❱ \u001b[0m 1669 \u001b[2m│   │   \u001b[0m\u001b[94mreturn\u001b[0m \u001b[1;4mfn(\u001b[0m\u001b[1;4;96mself\u001b[0m\u001b[1;4m, *args, **kwargs)\u001b[0m                                                 \u001b[38;2;255;0;0m│\u001b[0m\n",
       "\u001b[38;2;255;0;0m│\u001b[0m   \u001b[2m 1670 \u001b[0m\u001b[2m│   \u001b[0m                                                                                     \u001b[38;2;255;0;0m│\u001b[0m\n",
       "\u001b[38;2;255;0;0m│\u001b[0m   \u001b[2m 1671 \u001b[0m\u001b[2m│   \u001b[0m_inner.is_future_compatible = \u001b[94mTrue\u001b[0m  \u001b[2m# type: ignore\u001b[0m                                   \u001b[38;2;255;0;0m│\u001b[0m\n",
       "\u001b[38;2;255;0;0m│\u001b[0m   \u001b[2m 1672 \u001b[0m\u001b[2m│   \u001b[0m\u001b[94mreturn\u001b[0m _inner  \u001b[2m# type: ignore\u001b[0m                                                        \u001b[38;2;255;0;0m│\u001b[0m\n",
       "\u001b[38;2;255;0;0m│\u001b[0m                                                                                                  \u001b[38;2;255;0;0m│\u001b[0m\n",
       "\u001b[38;2;255;0;0m│\u001b[0m \u001b[2m/home/sagemaker-user/.conda/envs/python_311/lib/python3.11/site-packages/huggingface_hub/\u001b[0m\u001b[1mhf_api.\u001b[0m \u001b[38;2;255;0;0m│\u001b[0m\n",
       "\u001b[38;2;255;0;0m│\u001b[0m \u001b[1mpy\u001b[0m:4705 in upload_file                                                                           \u001b[38;2;255;0;0m│\u001b[0m\n",
       "\u001b[38;2;255;0;0m│\u001b[0m                                                                                                  \u001b[38;2;255;0;0m│\u001b[0m\n",
       "\u001b[38;2;255;0;0m│\u001b[0m   \u001b[2m 4702 \u001b[0m\u001b[2m│   │   \u001b[0mcommit_message = (                                                               \u001b[38;2;255;0;0m│\u001b[0m\n",
       "\u001b[38;2;255;0;0m│\u001b[0m   \u001b[2m 4703 \u001b[0m\u001b[2m│   │   │   \u001b[0mcommit_message \u001b[94mif\u001b[0m commit_message \u001b[95mis\u001b[0m \u001b[95mnot\u001b[0m \u001b[94mNone\u001b[0m \u001b[94melse\u001b[0m \u001b[33mf\u001b[0m\u001b[33m\"\u001b[0m\u001b[33mUpload \u001b[0m\u001b[33m{\u001b[0mpath_in_repo\u001b[33m}\u001b[0m\u001b[33m wi\u001b[0m \u001b[38;2;255;0;0m│\u001b[0m\n",
       "\u001b[38;2;255;0;0m│\u001b[0m   \u001b[2m 4704 \u001b[0m\u001b[2m│   │   \u001b[0m)                                                                                \u001b[38;2;255;0;0m│\u001b[0m\n",
       "\u001b[38;2;255;0;0m│\u001b[0m \u001b[31m❱ \u001b[0m 4705 \u001b[2m│   │   \u001b[0moperation = \u001b[1;4mCommitOperationAdd(\u001b[0m                                                  \u001b[38;2;255;0;0m│\u001b[0m\n",
       "\u001b[38;2;255;0;0m│\u001b[0m   \u001b[2m 4706 \u001b[0m\u001b[2m│   │   │   \u001b[0m\u001b[1;4mpath_or_fileobj=path_or_fileobj,\u001b[0m                                             \u001b[38;2;255;0;0m│\u001b[0m\n",
       "\u001b[38;2;255;0;0m│\u001b[0m   \u001b[2m 4707 \u001b[0m\u001b[2m│   │   │   \u001b[0m\u001b[1;4mpath_in_repo=path_in_repo,\u001b[0m                                                   \u001b[38;2;255;0;0m│\u001b[0m\n",
       "\u001b[38;2;255;0;0m│\u001b[0m   \u001b[2m 4708 \u001b[0m\u001b[2m│   │   \u001b[0m\u001b[1;4m)\u001b[0m                                                                                \u001b[38;2;255;0;0m│\u001b[0m\n",
       "\u001b[38;2;255;0;0m│\u001b[0m in __init__:5                                                                                    \u001b[38;2;255;0;0m│\u001b[0m\n",
       "\u001b[38;2;255;0;0m│\u001b[0m                                                                                                  \u001b[38;2;255;0;0m│\u001b[0m\n",
       "\u001b[38;2;255;0;0m│\u001b[0m \u001b[2m/home/sagemaker-user/.conda/envs/python_311/lib/python3.11/site-packages/huggingface_hub/\u001b[0m\u001b[1m_commit\u001b[0m \u001b[38;2;255;0;0m│\u001b[0m\n",
       "\u001b[38;2;255;0;0m│\u001b[0m \u001b[1m_api.py\u001b[0m:184 in __post_init__                                                                     \u001b[38;2;255;0;0m│\u001b[0m\n",
       "\u001b[38;2;255;0;0m│\u001b[0m                                                                                                  \u001b[38;2;255;0;0m│\u001b[0m\n",
       "\u001b[38;2;255;0;0m│\u001b[0m   \u001b[2m181 \u001b[0m\u001b[2m│   │   │   │   \u001b[0m\u001b[94mraise\u001b[0m \u001b[96mValueError\u001b[0m(\u001b[33mf\u001b[0m\u001b[33m\"\u001b[0m\u001b[33mProvided path: \u001b[0m\u001b[33m'\u001b[0m\u001b[33m{\u001b[0mpath_or_fileobj\u001b[33m}\u001b[0m\u001b[33m'\u001b[0m\u001b[33m is not a file on t\u001b[0m   \u001b[38;2;255;0;0m│\u001b[0m\n",
       "\u001b[38;2;255;0;0m│\u001b[0m   \u001b[2m182 \u001b[0m\u001b[2m│   │   \u001b[0m\u001b[94melif\u001b[0m \u001b[95mnot\u001b[0m \u001b[96misinstance\u001b[0m(\u001b[96mself\u001b[0m.path_or_fileobj, (io.BufferedIOBase, \u001b[96mbytes\u001b[0m)):             \u001b[38;2;255;0;0m│\u001b[0m\n",
       "\u001b[38;2;255;0;0m│\u001b[0m   \u001b[2m183 \u001b[0m\u001b[2m│   │   │   \u001b[0m\u001b[2m# ^^ Inspired from: https://stackoverflow.com/questions/44584829/how-to-dete\u001b[0m   \u001b[38;2;255;0;0m│\u001b[0m\n",
       "\u001b[38;2;255;0;0m│\u001b[0m \u001b[31m❱ \u001b[0m184 \u001b[2m│   │   │   \u001b[0m\u001b[1;4;94mraise\u001b[0m\u001b[1;4m \u001b[0m\u001b[1;4;96mValueError\u001b[0m\u001b[1;4m(\u001b[0m                                                              \u001b[38;2;255;0;0m│\u001b[0m\n",
       "\u001b[38;2;255;0;0m│\u001b[0m   \u001b[2m185 \u001b[0m\u001b[2m│   │   │   │   \u001b[0m\u001b[1;4;33m\"\u001b[0m\u001b[1;4;33mpath_or_fileobj must be either an instance of str, bytes or\u001b[0m\u001b[1;4;33m\"\u001b[0m              \u001b[38;2;255;0;0m│\u001b[0m\n",
       "\u001b[38;2;255;0;0m│\u001b[0m   \u001b[2m186 \u001b[0m\u001b[2m│   │   │   │   \u001b[0m\u001b[1;4;33m\"\u001b[0m\u001b[1;4;33m io.BufferedIOBase. If you passed a file-like object, make sure it is\u001b[0m\u001b[1;4;33m\"\u001b[0m    \u001b[38;2;255;0;0m│\u001b[0m\n",
       "\u001b[38;2;255;0;0m│\u001b[0m   \u001b[2m187 \u001b[0m\u001b[2m│   │   │   │   \u001b[0m\u001b[1;4;33m\"\u001b[0m\u001b[1;4;33m in binary mode.\u001b[0m\u001b[1;4;33m\"\u001b[0m                                                         \u001b[38;2;255;0;0m│\u001b[0m\n",
       "\u001b[38;2;255;0;0m╰──────────────────────────────────────────────────────────────────────────────────────────────────╯\u001b[0m\n",
       "\u001b[1;91mValueError: \u001b[0mpath_or_fileobj must be either an instance of str, bytes or io.BufferedIOBase. If you passed a \n",
       "file-like object, make sure it is in binary mode.\n"
      ]
     },
     "metadata": {},
     "output_type": "display_data"
    }
   ],
   "source": [
    "fs = fsspec.filesystem('s3')  # s3 / gcs / abfs / adl / oci / ...\n",
    "subset = 'test'\n",
    "data_dir = f's3://sagemaker-research-methodology-extraction/01_data/03_core/unified_works_{subset}/'\n",
    "pattern = '*'\n",
    "data_files = fs.glob(data_dir + pattern)\n",
    "\n",
    "utils.ensure_path('temp_files')\n",
    "# create_repo(destination_dataset, repo_type='dataset')\n",
    "for data_file in tqdm(fs.glob(data_dir + pattern)):\n",
    "    with fs.open(data_file, 'rb') as fileobj:\n",
    "        path_in_repo = f'data/{subset}/{data_file[len(data_dir):]}'\n",
    "        print(path_in_repo, type(fileobj))\n",
    "        upload_file(\n",
    "            path_or_fileobj=fileobj,\n",
    "            path_in_repo=path_in_repo,\n",
    "            repo_id=destination_dataset,\n",
    "            repo_type=\"dataset\",\n",
    "        )"
   ]
  },
  {
   "cell_type": "code",
   "execution_count": null,
   "id": "b2d06914-68e2-4fa6-85d4-bca51a47166a",
   "metadata": {},
   "outputs": [],
   "source": [
    "import smart_open\n",
    "\n",
    "bucket = 'sagemaker-research-methodology-extraction'\n",
    "subset = 'test'\n",
    "data_dir = f's3://sagemaker-research-methodology-extraction/01_data/03_core/unified_works_{subset}/'\n",
    "for key, content in s3.iter_bucket(bucket, prefix=data_dir, workers=8):\n",
    "    "
   ]
  },
  {
   "cell_type": "code",
   "execution_count": 13,
   "id": "060d3a07-4737-462d-8d4d-598b086fbed0",
   "metadata": {
    "execution": {
     "iopub.execute_input": "2025-09-04T15:32:35.762922Z",
     "iopub.status.busy": "2025-09-04T15:32:35.762624Z",
     "iopub.status.idle": "2025-09-04T15:48:48.391398Z",
     "shell.execute_reply": "2025-09-04T15:48:48.390762Z",
     "shell.execute_reply.started": "2025-09-04T15:32:35.762901Z"
    },
    "scrolled": true
   },
   "outputs": [
    {
     "name": "stdout",
     "output_type": "stream",
     "text": [
      " :: :: TIMELOGGER STARTED :: | since_start: 0.00 seconds | since_last: 0.00 seconds :: \n",
      " :: START subset: train | since_start: 0.00 seconds | since_last: 0.00 seconds :: \n",
      "ensure_path(temp_files)\n",
      "path_in_repo data/train/20250904_152934_00023_4z3np_0459327b-67de-430f-ae71-be4d53a62e51.parquet\n"
     ]
    },
    {
     "data": {
      "application/vnd.jupyter.widget-view+json": {
       "model_id": "30ae76657ac941f697942127d91556e3",
       "version_major": 2,
       "version_minor": 0
      },
      "text/plain": [
       "Processing Files (0 / 0)                : |          |  0.00B /  0.00B            "
      ]
     },
     "metadata": {},
     "output_type": "display_data"
    },
    {
     "data": {
      "application/vnd.jupyter.widget-view+json": {
       "model_id": "a1858ba4a34b4c3d9c307fcd8757825b",
       "version_major": 2,
       "version_minor": 0
      },
      "text/plain": [
       "New Data Upload                         : |          |  0.00B /  0.00B            "
      ]
     },
     "metadata": {},
     "output_type": "display_data"
    },
    {
     "data": {
      "application/vnd.jupyter.widget-view+json": {
       "model_id": "a95909961aa2407a884c2c91640d2d97",
       "version_major": 2,
       "version_minor": 0
      },
      "text/plain": [
       "  ...459327b-67de-430f-ae71-be4d53a62e51:   0%|          |  525kB /  156MB            "
      ]
     },
     "metadata": {},
     "output_type": "display_data"
    },
    {
     "name": "stdout",
     "output_type": "stream",
     "text": [
      "path_in_repo data/train/20250904_152934_00023_4z3np_2bbbfa84-1e01-470e-b330-90ec128fe613.parquet\n"
     ]
    },
    {
     "data": {
      "application/vnd.jupyter.widget-view+json": {
       "model_id": "594f1d94e94c4c5ea58ffd3ac2404e88",
       "version_major": 2,
       "version_minor": 0
      },
      "text/plain": [
       "Processing Files (0 / 0)                : |          |  0.00B /  0.00B            "
      ]
     },
     "metadata": {},
     "output_type": "display_data"
    },
    {
     "data": {
      "application/vnd.jupyter.widget-view+json": {
       "model_id": "b16e5ff022354cc2aac9d98935384e7b",
       "version_major": 2,
       "version_minor": 0
      },
      "text/plain": [
       "New Data Upload                         : |          |  0.00B /  0.00B            "
      ]
     },
     "metadata": {},
     "output_type": "display_data"
    },
    {
     "data": {
      "application/vnd.jupyter.widget-view+json": {
       "model_id": "20f01caf7a5c42c5b37d8cf9f0fefa82",
       "version_major": 2,
       "version_minor": 0
      },
      "text/plain": [
       "  ...bbbfa84-1e01-470e-b330-90ec128fe613:   1%|1         | 2.10MB /  156MB            "
      ]
     },
     "metadata": {},
     "output_type": "display_data"
    },
    {
     "name": "stdout",
     "output_type": "stream",
     "text": [
      "path_in_repo data/train/20250904_152934_00023_4z3np_321e0a60-df9c-4bba-bd39-ec3e6c4ab6f1.parquet\n"
     ]
    },
    {
     "data": {
      "application/vnd.jupyter.widget-view+json": {
       "model_id": "d6f578fc848843409c2c5afdba1f0405",
       "version_major": 2,
       "version_minor": 0
      },
      "text/plain": [
       "Processing Files (0 / 0)                : |          |  0.00B /  0.00B            "
      ]
     },
     "metadata": {},
     "output_type": "display_data"
    },
    {
     "data": {
      "application/vnd.jupyter.widget-view+json": {
       "model_id": "ac7a20702a1e41eea6bcbe9379f9613d",
       "version_major": 2,
       "version_minor": 0
      },
      "text/plain": [
       "New Data Upload                         : |          |  0.00B /  0.00B            "
      ]
     },
     "metadata": {},
     "output_type": "display_data"
    },
    {
     "data": {
      "application/vnd.jupyter.widget-view+json": {
       "model_id": "194824e4217b4437aa4dbf7eee1b08c7",
       "version_major": 2,
       "version_minor": 0
      },
      "text/plain": [
       "  ...21e0a60-df9c-4bba-bd39-ec3e6c4ab6f1:   2%|2         | 3.67MB /  166MB            "
      ]
     },
     "metadata": {},
     "output_type": "display_data"
    },
    {
     "name": "stdout",
     "output_type": "stream",
     "text": [
      "path_in_repo data/train/20250904_152934_00023_4z3np_3870e94d-be35-49e6-b693-a3e609396d24.parquet\n"
     ]
    },
    {
     "data": {
      "application/vnd.jupyter.widget-view+json": {
       "model_id": "ccb2537ba0654f029047860d128e9a51",
       "version_major": 2,
       "version_minor": 0
      },
      "text/plain": [
       "Processing Files (0 / 0)                : |          |  0.00B /  0.00B            "
      ]
     },
     "metadata": {},
     "output_type": "display_data"
    },
    {
     "data": {
      "application/vnd.jupyter.widget-view+json": {
       "model_id": "7ad9b256e5b14d7d9c9675a68315bc1a",
       "version_major": 2,
       "version_minor": 0
      },
      "text/plain": [
       "New Data Upload                         : |          |  0.00B /  0.00B            "
      ]
     },
     "metadata": {},
     "output_type": "display_data"
    },
    {
     "data": {
      "application/vnd.jupyter.widget-view+json": {
       "model_id": "2169760de3d44a2aa7c41f061941c4e9",
       "version_major": 2,
       "version_minor": 0
      },
      "text/plain": [
       "  ...870e94d-be35-49e6-b693-a3e609396d24:   2%|2         | 3.67MB /  166MB            "
      ]
     },
     "metadata": {},
     "output_type": "display_data"
    },
    {
     "name": "stdout",
     "output_type": "stream",
     "text": [
      "path_in_repo data/train/20250904_152934_00023_4z3np_39183f51-8869-4a3e-a861-3597059b2f80.parquet\n"
     ]
    },
    {
     "data": {
      "application/vnd.jupyter.widget-view+json": {
       "model_id": "84b101aa1d344600908218318086e627",
       "version_major": 2,
       "version_minor": 0
      },
      "text/plain": [
       "Processing Files (0 / 0)                : |          |  0.00B /  0.00B            "
      ]
     },
     "metadata": {},
     "output_type": "display_data"
    },
    {
     "data": {
      "application/vnd.jupyter.widget-view+json": {
       "model_id": "8a0a696f2c5f466fa43044940dde2927",
       "version_major": 2,
       "version_minor": 0
      },
      "text/plain": [
       "New Data Upload                         : |          |  0.00B /  0.00B            "
      ]
     },
     "metadata": {},
     "output_type": "display_data"
    },
    {
     "data": {
      "application/vnd.jupyter.widget-view+json": {
       "model_id": "fa93276ad42c45798d886d7a4ff666f8",
       "version_major": 2,
       "version_minor": 0
      },
      "text/plain": [
       "  ...9183f51-8869-4a3e-a861-3597059b2f80:   1%|1         | 2.10MB /  158MB            "
      ]
     },
     "metadata": {},
     "output_type": "display_data"
    },
    {
     "name": "stdout",
     "output_type": "stream",
     "text": [
      "path_in_repo data/train/20250904_152934_00023_4z3np_40a2244a-8909-4dce-8e72-a789bd47d21e.parquet\n"
     ]
    },
    {
     "data": {
      "application/vnd.jupyter.widget-view+json": {
       "model_id": "834857ba39834520b294ae59cac12f9f",
       "version_major": 2,
       "version_minor": 0
      },
      "text/plain": [
       "Processing Files (0 / 0)                : |          |  0.00B /  0.00B            "
      ]
     },
     "metadata": {},
     "output_type": "display_data"
    },
    {
     "data": {
      "application/vnd.jupyter.widget-view+json": {
       "model_id": "77cc85c95869496e8b687af55c69edf9",
       "version_major": 2,
       "version_minor": 0
      },
      "text/plain": [
       "New Data Upload                         : |          |  0.00B /  0.00B            "
      ]
     },
     "metadata": {},
     "output_type": "display_data"
    },
    {
     "data": {
      "application/vnd.jupyter.widget-view+json": {
       "model_id": "211b546c53754f0fa60312c5bf498da9",
       "version_major": 2,
       "version_minor": 0
      },
      "text/plain": [
       "  ...0a2244a-8909-4dce-8e72-a789bd47d21e:   2%|2         | 3.67MB /  157MB            "
      ]
     },
     "metadata": {},
     "output_type": "display_data"
    },
    {
     "name": "stdout",
     "output_type": "stream",
     "text": [
      "path_in_repo data/train/20250904_152934_00023_4z3np_43ab86bd-f452-425f-aee1-265e0bfe796e.parquet\n"
     ]
    },
    {
     "data": {
      "application/vnd.jupyter.widget-view+json": {
       "model_id": "9382b1d0a32e4d3bb50494c1a2a36989",
       "version_major": 2,
       "version_minor": 0
      },
      "text/plain": [
       "Processing Files (0 / 0)                : |          |  0.00B /  0.00B            "
      ]
     },
     "metadata": {},
     "output_type": "display_data"
    },
    {
     "data": {
      "application/vnd.jupyter.widget-view+json": {
       "model_id": "3d2ab221c3784f15bc1cfedf5e43489e",
       "version_major": 2,
       "version_minor": 0
      },
      "text/plain": [
       "New Data Upload                         : |          |  0.00B /  0.00B            "
      ]
     },
     "metadata": {},
     "output_type": "display_data"
    },
    {
     "data": {
      "application/vnd.jupyter.widget-view+json": {
       "model_id": "eb5156a07881462da0ba4afc32d6cf9d",
       "version_major": 2,
       "version_minor": 0
      },
      "text/plain": [
       "  ...3ab86bd-f452-425f-aee1-265e0bfe796e:   2%|2         | 3.67MB /  158MB            "
      ]
     },
     "metadata": {},
     "output_type": "display_data"
    },
    {
     "name": "stdout",
     "output_type": "stream",
     "text": [
      "path_in_repo data/train/20250904_152934_00023_4z3np_5add3b94-4a32-4855-b204-a6b7d6dd0b8b.parquet\n"
     ]
    },
    {
     "data": {
      "application/vnd.jupyter.widget-view+json": {
       "model_id": "9ba30b9055d04055a18b10ca85930cdf",
       "version_major": 2,
       "version_minor": 0
      },
      "text/plain": [
       "Processing Files (0 / 0)                : |          |  0.00B /  0.00B            "
      ]
     },
     "metadata": {},
     "output_type": "display_data"
    },
    {
     "data": {
      "application/vnd.jupyter.widget-view+json": {
       "model_id": "c7ed7ee9eb5942c9ab10a3285d85d8f9",
       "version_major": 2,
       "version_minor": 0
      },
      "text/plain": [
       "New Data Upload                         : |          |  0.00B /  0.00B            "
      ]
     },
     "metadata": {},
     "output_type": "display_data"
    },
    {
     "data": {
      "application/vnd.jupyter.widget-view+json": {
       "model_id": "c4be8663f3864814838f20efa87ebb6d",
       "version_major": 2,
       "version_minor": 0
      },
      "text/plain": [
       "  ...add3b94-4a32-4855-b204-a6b7d6dd0b8b:   2%|2         | 3.67MB /  157MB            "
      ]
     },
     "metadata": {},
     "output_type": "display_data"
    },
    {
     "name": "stdout",
     "output_type": "stream",
     "text": [
      "path_in_repo data/train/20250904_152934_00023_4z3np_5dee7c28-b84d-47fd-a36b-f482a6050509.parquet\n"
     ]
    },
    {
     "data": {
      "application/vnd.jupyter.widget-view+json": {
       "model_id": "f465629fd0bf48baad5e594fd7c1a65f",
       "version_major": 2,
       "version_minor": 0
      },
      "text/plain": [
       "Processing Files (0 / 0)                : |          |  0.00B /  0.00B            "
      ]
     },
     "metadata": {},
     "output_type": "display_data"
    },
    {
     "data": {
      "application/vnd.jupyter.widget-view+json": {
       "model_id": "b6d8c0c86f954df5a1178f033d8ff203",
       "version_major": 2,
       "version_minor": 0
      },
      "text/plain": [
       "New Data Upload                         : |          |  0.00B /  0.00B            "
      ]
     },
     "metadata": {},
     "output_type": "display_data"
    },
    {
     "data": {
      "application/vnd.jupyter.widget-view+json": {
       "model_id": "3eee325eb2e9426b9609559d7cc588db",
       "version_major": 2,
       "version_minor": 0
      },
      "text/plain": [
       "  ...dee7c28-b84d-47fd-a36b-f482a6050509:   2%|2         | 3.67MB /  148MB            "
      ]
     },
     "metadata": {},
     "output_type": "display_data"
    },
    {
     "name": "stdout",
     "output_type": "stream",
     "text": [
      "path_in_repo data/train/20250904_152934_00023_4z3np_605089dd-1a7c-40a8-b92b-90bde8488eac.parquet\n"
     ]
    },
    {
     "data": {
      "application/vnd.jupyter.widget-view+json": {
       "model_id": "da74f06b5d874437b66919535d42337d",
       "version_major": 2,
       "version_minor": 0
      },
      "text/plain": [
       "Processing Files (0 / 0)                : |          |  0.00B /  0.00B            "
      ]
     },
     "metadata": {},
     "output_type": "display_data"
    },
    {
     "data": {
      "application/vnd.jupyter.widget-view+json": {
       "model_id": "ab1fcb0f8ce647468dcc43bbc372b7e6",
       "version_major": 2,
       "version_minor": 0
      },
      "text/plain": [
       "New Data Upload                         : |          |  0.00B /  0.00B            "
      ]
     },
     "metadata": {},
     "output_type": "display_data"
    },
    {
     "data": {
      "application/vnd.jupyter.widget-view+json": {
       "model_id": "9ec2b8c63176469687c8136c4bddaa0f",
       "version_major": 2,
       "version_minor": 0
      },
      "text/plain": [
       "  ...05089dd-1a7c-40a8-b92b-90bde8488eac:   2%|2         | 3.67MB /  156MB            "
      ]
     },
     "metadata": {},
     "output_type": "display_data"
    },
    {
     "name": "stdout",
     "output_type": "stream",
     "text": [
      "path_in_repo data/train/20250904_152934_00023_4z3np_638b859c-27b6-4427-972d-305fdc30cda6.parquet\n"
     ]
    },
    {
     "data": {
      "application/vnd.jupyter.widget-view+json": {
       "model_id": "15cf7e127b6b4b2d87848cc928b39408",
       "version_major": 2,
       "version_minor": 0
      },
      "text/plain": [
       "Processing Files (0 / 0)                : |          |  0.00B /  0.00B            "
      ]
     },
     "metadata": {},
     "output_type": "display_data"
    },
    {
     "data": {
      "application/vnd.jupyter.widget-view+json": {
       "model_id": "81e666d5d18c4a779aa6efd6fd9af42f",
       "version_major": 2,
       "version_minor": 0
      },
      "text/plain": [
       "New Data Upload                         : |          |  0.00B /  0.00B            "
      ]
     },
     "metadata": {},
     "output_type": "display_data"
    },
    {
     "data": {
      "application/vnd.jupyter.widget-view+json": {
       "model_id": "8a8994dcb5c549c7b0cb49a58677af49",
       "version_major": 2,
       "version_minor": 0
      },
      "text/plain": [
       "  ...38b859c-27b6-4427-972d-305fdc30cda6:   2%|2         | 3.67MB /  163MB            "
      ]
     },
     "metadata": {},
     "output_type": "display_data"
    },
    {
     "name": "stdout",
     "output_type": "stream",
     "text": [
      "path_in_repo data/train/20250904_152934_00023_4z3np_668a0a54-3c25-4dcf-988c-984cfbc98468.parquet\n"
     ]
    },
    {
     "data": {
      "application/vnd.jupyter.widget-view+json": {
       "model_id": "5f4e5829b30a4a7abf83bf7ba15e172a",
       "version_major": 2,
       "version_minor": 0
      },
      "text/plain": [
       "Processing Files (0 / 0)                : |          |  0.00B /  0.00B            "
      ]
     },
     "metadata": {},
     "output_type": "display_data"
    },
    {
     "data": {
      "application/vnd.jupyter.widget-view+json": {
       "model_id": "2bd0d6fbe5524c4cac42f5cbbcaff3dc",
       "version_major": 2,
       "version_minor": 0
      },
      "text/plain": [
       "New Data Upload                         : |          |  0.00B /  0.00B            "
      ]
     },
     "metadata": {},
     "output_type": "display_data"
    },
    {
     "data": {
      "application/vnd.jupyter.widget-view+json": {
       "model_id": "9a95ad05bce2445b9e6a495f8b8819b0",
       "version_major": 2,
       "version_minor": 0
      },
      "text/plain": [
       "  ...68a0a54-3c25-4dcf-988c-984cfbc98468:   2%|2         | 3.67MB /  156MB            "
      ]
     },
     "metadata": {},
     "output_type": "display_data"
    },
    {
     "name": "stdout",
     "output_type": "stream",
     "text": [
      "path_in_repo data/train/20250904_152934_00023_4z3np_6b10c462-eec5-4929-bca2-f1e048fc53aa.parquet\n"
     ]
    },
    {
     "data": {
      "application/vnd.jupyter.widget-view+json": {
       "model_id": "560bfc37bd9840bb8c88361acb103ce1",
       "version_major": 2,
       "version_minor": 0
      },
      "text/plain": [
       "Processing Files (0 / 0)                : |          |  0.00B /  0.00B            "
      ]
     },
     "metadata": {},
     "output_type": "display_data"
    },
    {
     "data": {
      "application/vnd.jupyter.widget-view+json": {
       "model_id": "ef905fdfbe994e6a94c9d37e7eff8618",
       "version_major": 2,
       "version_minor": 0
      },
      "text/plain": [
       "New Data Upload                         : |          |  0.00B /  0.00B            "
      ]
     },
     "metadata": {},
     "output_type": "display_data"
    },
    {
     "data": {
      "application/vnd.jupyter.widget-view+json": {
       "model_id": "2e70f8f4b0e749d09a0846094212cf12",
       "version_major": 2,
       "version_minor": 0
      },
      "text/plain": [
       "  ...b10c462-eec5-4929-bca2-f1e048fc53aa:   2%|2         | 3.67MB /  155MB            "
      ]
     },
     "metadata": {},
     "output_type": "display_data"
    },
    {
     "name": "stdout",
     "output_type": "stream",
     "text": [
      "path_in_repo data/train/20250904_152934_00023_4z3np_879f4459-e50f-434b-a5bb-e13e32b0f395.parquet\n"
     ]
    },
    {
     "data": {
      "application/vnd.jupyter.widget-view+json": {
       "model_id": "bc2efacf9d8d44a8a709a7b77643613e",
       "version_major": 2,
       "version_minor": 0
      },
      "text/plain": [
       "Processing Files (0 / 0)                : |          |  0.00B /  0.00B            "
      ]
     },
     "metadata": {},
     "output_type": "display_data"
    },
    {
     "data": {
      "application/vnd.jupyter.widget-view+json": {
       "model_id": "c6902b2dc79e42a5adf8d11c3cd082e6",
       "version_major": 2,
       "version_minor": 0
      },
      "text/plain": [
       "New Data Upload                         : |          |  0.00B /  0.00B            "
      ]
     },
     "metadata": {},
     "output_type": "display_data"
    },
    {
     "data": {
      "application/vnd.jupyter.widget-view+json": {
       "model_id": "dd427b6965e44e9e837e0ecca6e58743",
       "version_major": 2,
       "version_minor": 0
      },
      "text/plain": [
       "  ...79f4459-e50f-434b-a5bb-e13e32b0f395:   2%|2         | 3.67MB /  155MB            "
      ]
     },
     "metadata": {},
     "output_type": "display_data"
    },
    {
     "name": "stdout",
     "output_type": "stream",
     "text": [
      "path_in_repo data/train/20250904_152934_00023_4z3np_8c3fde13-dfe1-4395-9d04-72d13bf181e6.parquet\n"
     ]
    },
    {
     "data": {
      "application/vnd.jupyter.widget-view+json": {
       "model_id": "c1f1cde3311d4a008adca32fe721ebd7",
       "version_major": 2,
       "version_minor": 0
      },
      "text/plain": [
       "Processing Files (0 / 0)                : |          |  0.00B /  0.00B            "
      ]
     },
     "metadata": {},
     "output_type": "display_data"
    },
    {
     "data": {
      "application/vnd.jupyter.widget-view+json": {
       "model_id": "fc1c9843aecc4f7892008ba5f8c03664",
       "version_major": 2,
       "version_minor": 0
      },
      "text/plain": [
       "New Data Upload                         : |          |  0.00B /  0.00B            "
      ]
     },
     "metadata": {},
     "output_type": "display_data"
    },
    {
     "data": {
      "application/vnd.jupyter.widget-view+json": {
       "model_id": "d7b7f12fcd924c83bab3fcffe682717e",
       "version_major": 2,
       "version_minor": 0
      },
      "text/plain": [
       "  ...c3fde13-dfe1-4395-9d04-72d13bf181e6:   2%|1         | 3.15MB /  165MB            "
      ]
     },
     "metadata": {},
     "output_type": "display_data"
    },
    {
     "name": "stdout",
     "output_type": "stream",
     "text": [
      "path_in_repo data/train/20250904_152934_00023_4z3np_97fd37bf-1613-480e-9ab0-fa928d52d947.parquet\n"
     ]
    },
    {
     "data": {
      "application/vnd.jupyter.widget-view+json": {
       "model_id": "98cd8437377140e4a32ea48866fe2adb",
       "version_major": 2,
       "version_minor": 0
      },
      "text/plain": [
       "Processing Files (0 / 0)                : |          |  0.00B /  0.00B            "
      ]
     },
     "metadata": {},
     "output_type": "display_data"
    },
    {
     "data": {
      "application/vnd.jupyter.widget-view+json": {
       "model_id": "48e7f0d461914b76853c30cd11820cb9",
       "version_major": 2,
       "version_minor": 0
      },
      "text/plain": [
       "New Data Upload                         : |          |  0.00B /  0.00B            "
      ]
     },
     "metadata": {},
     "output_type": "display_data"
    },
    {
     "data": {
      "application/vnd.jupyter.widget-view+json": {
       "model_id": "4f4ad474b656437a87e9878bd3377317",
       "version_major": 2,
       "version_minor": 0
      },
      "text/plain": [
       "  ...7fd37bf-1613-480e-9ab0-fa928d52d947:   2%|2         | 3.67MB /  152MB            "
      ]
     },
     "metadata": {},
     "output_type": "display_data"
    },
    {
     "name": "stdout",
     "output_type": "stream",
     "text": [
      "path_in_repo data/train/20250904_152934_00023_4z3np_ad61fbd3-7eaf-4632-bda0-75b7ae148e26.parquet\n"
     ]
    },
    {
     "data": {
      "application/vnd.jupyter.widget-view+json": {
       "model_id": "cfb1c06f7271470daf2c2b0ffe207c5f",
       "version_major": 2,
       "version_minor": 0
      },
      "text/plain": [
       "Processing Files (0 / 0)                : |          |  0.00B /  0.00B            "
      ]
     },
     "metadata": {},
     "output_type": "display_data"
    },
    {
     "data": {
      "application/vnd.jupyter.widget-view+json": {
       "model_id": "93ee7244d4db43df838bec09a49f1c5a",
       "version_major": 2,
       "version_minor": 0
      },
      "text/plain": [
       "New Data Upload                         : |          |  0.00B /  0.00B            "
      ]
     },
     "metadata": {},
     "output_type": "display_data"
    },
    {
     "data": {
      "application/vnd.jupyter.widget-view+json": {
       "model_id": "347781d36de34ba4aca79fd6e156a1e1",
       "version_major": 2,
       "version_minor": 0
      },
      "text/plain": [
       "  ...d61fbd3-7eaf-4632-bda0-75b7ae148e26:   2%|2         | 3.67MB /  152MB            "
      ]
     },
     "metadata": {},
     "output_type": "display_data"
    },
    {
     "name": "stdout",
     "output_type": "stream",
     "text": [
      "path_in_repo data/train/20250904_152934_00023_4z3np_b2fe6d57-7740-40ae-8ab2-0e77c4b5adb6.parquet\n"
     ]
    },
    {
     "data": {
      "application/vnd.jupyter.widget-view+json": {
       "model_id": "0662491178f643f089206c98cd56ba71",
       "version_major": 2,
       "version_minor": 0
      },
      "text/plain": [
       "Processing Files (0 / 0)                : |          |  0.00B /  0.00B            "
      ]
     },
     "metadata": {},
     "output_type": "display_data"
    },
    {
     "data": {
      "application/vnd.jupyter.widget-view+json": {
       "model_id": "5533827955fb491c88f98038c799a65f",
       "version_major": 2,
       "version_minor": 0
      },
      "text/plain": [
       "New Data Upload                         : |          |  0.00B /  0.00B            "
      ]
     },
     "metadata": {},
     "output_type": "display_data"
    },
    {
     "data": {
      "application/vnd.jupyter.widget-view+json": {
       "model_id": "31dcb6c86e4447c9bd9a7e511ddae67a",
       "version_major": 2,
       "version_minor": 0
      },
      "text/plain": [
       "  ...2fe6d57-7740-40ae-8ab2-0e77c4b5adb6:   2%|2         | 3.67MB /  156MB            "
      ]
     },
     "metadata": {},
     "output_type": "display_data"
    },
    {
     "name": "stdout",
     "output_type": "stream",
     "text": [
      "path_in_repo data/train/20250904_152934_00023_4z3np_c090a8aa-3cb1-462c-a749-e38e93882c9c.parquet\n"
     ]
    },
    {
     "data": {
      "application/vnd.jupyter.widget-view+json": {
       "model_id": "8a12f9f404e943669b96a563cfad4b58",
       "version_major": 2,
       "version_minor": 0
      },
      "text/plain": [
       "Processing Files (0 / 0)                : |          |  0.00B /  0.00B            "
      ]
     },
     "metadata": {},
     "output_type": "display_data"
    },
    {
     "data": {
      "application/vnd.jupyter.widget-view+json": {
       "model_id": "d46ebcf0570d4ae6b3f8cd0e1040c389",
       "version_major": 2,
       "version_minor": 0
      },
      "text/plain": [
       "New Data Upload                         : |          |  0.00B /  0.00B            "
      ]
     },
     "metadata": {},
     "output_type": "display_data"
    },
    {
     "data": {
      "application/vnd.jupyter.widget-view+json": {
       "model_id": "3e3a5e73d2c642f28fd874b1977ef318",
       "version_major": 2,
       "version_minor": 0
      },
      "text/plain": [
       "  ...090a8aa-3cb1-462c-a749-e38e93882c9c:   2%|2         | 3.67MB /  148MB            "
      ]
     },
     "metadata": {},
     "output_type": "display_data"
    },
    {
     "name": "stdout",
     "output_type": "stream",
     "text": [
      "path_in_repo data/train/20250904_152934_00023_4z3np_d28a028c-6442-43ee-b2c0-2c112d17e49e.parquet\n"
     ]
    },
    {
     "data": {
      "application/vnd.jupyter.widget-view+json": {
       "model_id": "4d5da89cfe1845dc812adc690d17cb36",
       "version_major": 2,
       "version_minor": 0
      },
      "text/plain": [
       "Processing Files (0 / 0)                : |          |  0.00B /  0.00B            "
      ]
     },
     "metadata": {},
     "output_type": "display_data"
    },
    {
     "data": {
      "application/vnd.jupyter.widget-view+json": {
       "model_id": "849f77cff03a4e18b5a24c9ad8ec19d7",
       "version_major": 2,
       "version_minor": 0
      },
      "text/plain": [
       "New Data Upload                         : |          |  0.00B /  0.00B            "
      ]
     },
     "metadata": {},
     "output_type": "display_data"
    },
    {
     "data": {
      "application/vnd.jupyter.widget-view+json": {
       "model_id": "14882e37999347c3ad5a1fa2e1c0d3a4",
       "version_major": 2,
       "version_minor": 0
      },
      "text/plain": [
       "  ...28a028c-6442-43ee-b2c0-2c112d17e49e:   2%|2         | 3.67MB /  155MB            "
      ]
     },
     "metadata": {},
     "output_type": "display_data"
    },
    {
     "name": "stdout",
     "output_type": "stream",
     "text": [
      "path_in_repo data/train/20250904_152934_00023_4z3np_d2fcd17f-17cb-4bb5-ae12-9e2826d454c7.parquet\n"
     ]
    },
    {
     "data": {
      "application/vnd.jupyter.widget-view+json": {
       "model_id": "209f046f18e84a8f937cf4013c244048",
       "version_major": 2,
       "version_minor": 0
      },
      "text/plain": [
       "Processing Files (0 / 0)                : |          |  0.00B /  0.00B            "
      ]
     },
     "metadata": {},
     "output_type": "display_data"
    },
    {
     "data": {
      "application/vnd.jupyter.widget-view+json": {
       "model_id": "4d68047e6981483099909ff32458b749",
       "version_major": 2,
       "version_minor": 0
      },
      "text/plain": [
       "New Data Upload                         : |          |  0.00B /  0.00B            "
      ]
     },
     "metadata": {},
     "output_type": "display_data"
    },
    {
     "data": {
      "application/vnd.jupyter.widget-view+json": {
       "model_id": "127e3292869a4b769f5586c06669188d",
       "version_major": 2,
       "version_minor": 0
      },
      "text/plain": [
       "  ...2fcd17f-17cb-4bb5-ae12-9e2826d454c7:   2%|2         | 3.67MB /  160MB            "
      ]
     },
     "metadata": {},
     "output_type": "display_data"
    },
    {
     "name": "stdout",
     "output_type": "stream",
     "text": [
      "path_in_repo data/train/20250904_152934_00023_4z3np_d62b8019-9144-4d5f-84d8-22ef40e98031.parquet\n"
     ]
    },
    {
     "data": {
      "application/vnd.jupyter.widget-view+json": {
       "model_id": "620b0dd994354ac9a3a464384be7d4c2",
       "version_major": 2,
       "version_minor": 0
      },
      "text/plain": [
       "Processing Files (0 / 0)                : |          |  0.00B /  0.00B            "
      ]
     },
     "metadata": {},
     "output_type": "display_data"
    },
    {
     "data": {
      "application/vnd.jupyter.widget-view+json": {
       "model_id": "169d0a4af8b54e319a1ad412ee6f4fbc",
       "version_major": 2,
       "version_minor": 0
      },
      "text/plain": [
       "New Data Upload                         : |          |  0.00B /  0.00B            "
      ]
     },
     "metadata": {},
     "output_type": "display_data"
    },
    {
     "data": {
      "application/vnd.jupyter.widget-view+json": {
       "model_id": "edcf635688ef4425abb9bf2dfcb00dd4",
       "version_major": 2,
       "version_minor": 0
      },
      "text/plain": [
       "  ...62b8019-9144-4d5f-84d8-22ef40e98031:   2%|2         | 3.67MB /  158MB            "
      ]
     },
     "metadata": {},
     "output_type": "display_data"
    },
    {
     "name": "stdout",
     "output_type": "stream",
     "text": [
      " :: END subset: train | since_start: 6.0 minutes, 24.42 seconds | since_last: 6.0 minutes, 24.42 seconds :: \n",
      " :: START subset: test | since_start: 6.0 minutes, 24.42 seconds | since_last: 0.00 seconds :: \n",
      "ensure_path(temp_files)\n",
      "path_in_repo data/test/20250904_153018_00175_yfu2u_02f8dbb0-fcd0-4854-ad41-18591629c9b5.parquet\n"
     ]
    },
    {
     "data": {
      "application/vnd.jupyter.widget-view+json": {
       "model_id": "da82fb295dac4f989db1670b097f4246",
       "version_major": 2,
       "version_minor": 0
      },
      "text/plain": [
       "Processing Files (0 / 0)                : |          |  0.00B /  0.00B            "
      ]
     },
     "metadata": {},
     "output_type": "display_data"
    },
    {
     "data": {
      "application/vnd.jupyter.widget-view+json": {
       "model_id": "553671ff00834c9d9692c844da3a0043",
       "version_major": 2,
       "version_minor": 0
      },
      "text/plain": [
       "New Data Upload                         : |          |  0.00B /  0.00B            "
      ]
     },
     "metadata": {},
     "output_type": "display_data"
    },
    {
     "data": {
      "application/vnd.jupyter.widget-view+json": {
       "model_id": "1fc5da22dece4a33aac5b3c3aa7594df",
       "version_major": 2,
       "version_minor": 0
      },
      "text/plain": [
       "  ...2f8dbb0-fcd0-4854-ad41-18591629c9b5:  16%|#6        | 3.67MB / 22.4MB            "
      ]
     },
     "metadata": {},
     "output_type": "display_data"
    },
    {
     "name": "stdout",
     "output_type": "stream",
     "text": [
      "path_in_repo data/test/20250904_153018_00175_yfu2u_0e2adf7b-a6f2-4a54-97aa-90292ac308ea.parquet\n"
     ]
    },
    {
     "data": {
      "application/vnd.jupyter.widget-view+json": {
       "model_id": "cbf58780b609432eb687aee5dc1f6122",
       "version_major": 2,
       "version_minor": 0
      },
      "text/plain": [
       "Processing Files (0 / 0)                : |          |  0.00B /  0.00B            "
      ]
     },
     "metadata": {},
     "output_type": "display_data"
    },
    {
     "data": {
      "application/vnd.jupyter.widget-view+json": {
       "model_id": "f846ba70c90d4281a99a0e69c89b860c",
       "version_major": 2,
       "version_minor": 0
      },
      "text/plain": [
       "New Data Upload                         : |          |  0.00B /  0.00B            "
      ]
     },
     "metadata": {},
     "output_type": "display_data"
    },
    {
     "data": {
      "application/vnd.jupyter.widget-view+json": {
       "model_id": "30496951d40e487283a2f620f4219648",
       "version_major": 2,
       "version_minor": 0
      },
      "text/plain": [
       "  ...e2adf7b-a6f2-4a54-97aa-90292ac308ea:  17%|#6        | 3.67MB / 22.0MB            "
      ]
     },
     "metadata": {},
     "output_type": "display_data"
    },
    {
     "name": "stdout",
     "output_type": "stream",
     "text": [
      "path_in_repo data/test/20250904_153018_00175_yfu2u_14095055-82cc-44da-9d42-2590eaca0513.parquet\n"
     ]
    },
    {
     "data": {
      "application/vnd.jupyter.widget-view+json": {
       "model_id": "38793113c97f4669aa52f23c4db67168",
       "version_major": 2,
       "version_minor": 0
      },
      "text/plain": [
       "Processing Files (0 / 0)                : |          |  0.00B /  0.00B            "
      ]
     },
     "metadata": {},
     "output_type": "display_data"
    },
    {
     "data": {
      "application/vnd.jupyter.widget-view+json": {
       "model_id": "5e7e598c097a42739eaf17fd51961cc7",
       "version_major": 2,
       "version_minor": 0
      },
      "text/plain": [
       "New Data Upload                         : |          |  0.00B /  0.00B            "
      ]
     },
     "metadata": {},
     "output_type": "display_data"
    },
    {
     "data": {
      "application/vnd.jupyter.widget-view+json": {
       "model_id": "41b345056bf244d2bb85a3eae0c7e9e5",
       "version_major": 2,
       "version_minor": 0
      },
      "text/plain": [
       "  ...4095055-82cc-44da-9d42-2590eaca0513:  20%|##        | 3.67MB / 18.2MB            "
      ]
     },
     "metadata": {},
     "output_type": "display_data"
    },
    {
     "name": "stdout",
     "output_type": "stream",
     "text": [
      "path_in_repo data/test/20250904_153018_00175_yfu2u_2c4967c4-2964-451c-89e9-25dd13fe682a.parquet\n"
     ]
    },
    {
     "data": {
      "application/vnd.jupyter.widget-view+json": {
       "model_id": "6ca9bf9ee5854e51bc2f852c236d1e0d",
       "version_major": 2,
       "version_minor": 0
      },
      "text/plain": [
       "Processing Files (0 / 0)                : |          |  0.00B /  0.00B            "
      ]
     },
     "metadata": {},
     "output_type": "display_data"
    },
    {
     "data": {
      "application/vnd.jupyter.widget-view+json": {
       "model_id": "46cfc1742fb545ddab73aa73e9606e25",
       "version_major": 2,
       "version_minor": 0
      },
      "text/plain": [
       "New Data Upload                         : |          |  0.00B /  0.00B            "
      ]
     },
     "metadata": {},
     "output_type": "display_data"
    },
    {
     "data": {
      "application/vnd.jupyter.widget-view+json": {
       "model_id": "b3c16aa628fa4305ba073abffee4238e",
       "version_major": 2,
       "version_minor": 0
      },
      "text/plain": [
       "  ...c4967c4-2964-451c-89e9-25dd13fe682a:  18%|#8        | 3.67MB / 19.9MB            "
      ]
     },
     "metadata": {},
     "output_type": "display_data"
    },
    {
     "name": "stdout",
     "output_type": "stream",
     "text": [
      "path_in_repo data/test/20250904_153018_00175_yfu2u_336590f7-c524-4c02-a69e-df153347a6c7.parquet\n"
     ]
    },
    {
     "data": {
      "application/vnd.jupyter.widget-view+json": {
       "model_id": "95a7721ac05349afaf3ea0d5827bd737",
       "version_major": 2,
       "version_minor": 0
      },
      "text/plain": [
       "Processing Files (0 / 0)                : |          |  0.00B /  0.00B            "
      ]
     },
     "metadata": {},
     "output_type": "display_data"
    },
    {
     "data": {
      "application/vnd.jupyter.widget-view+json": {
       "model_id": "1c32cc13d3b04ac6a65117f4cc6866f2",
       "version_major": 2,
       "version_minor": 0
      },
      "text/plain": [
       "New Data Upload                         : |          |  0.00B /  0.00B            "
      ]
     },
     "metadata": {},
     "output_type": "display_data"
    },
    {
     "data": {
      "application/vnd.jupyter.widget-view+json": {
       "model_id": "487820895ea74b71a6cb9baf40d8b6da",
       "version_major": 2,
       "version_minor": 0
      },
      "text/plain": [
       "  ...36590f7-c524-4c02-a69e-df153347a6c7:  18%|#7        | 3.67MB / 20.9MB            "
      ]
     },
     "metadata": {},
     "output_type": "display_data"
    },
    {
     "name": "stdout",
     "output_type": "stream",
     "text": [
      "path_in_repo data/test/20250904_153018_00175_yfu2u_395f73d1-2405-449c-9d6c-e05121862f0e.parquet\n"
     ]
    },
    {
     "data": {
      "application/vnd.jupyter.widget-view+json": {
       "model_id": "cf541b04cced46bbb929c0d1ae1bb65d",
       "version_major": 2,
       "version_minor": 0
      },
      "text/plain": [
       "Processing Files (0 / 0)                : |          |  0.00B /  0.00B            "
      ]
     },
     "metadata": {},
     "output_type": "display_data"
    },
    {
     "data": {
      "application/vnd.jupyter.widget-view+json": {
       "model_id": "ddfc23eb87f748428b6bdd0039d9ce75",
       "version_major": 2,
       "version_minor": 0
      },
      "text/plain": [
       "New Data Upload                         : |          |  0.00B /  0.00B            "
      ]
     },
     "metadata": {},
     "output_type": "display_data"
    },
    {
     "data": {
      "application/vnd.jupyter.widget-view+json": {
       "model_id": "c2a9ad689fb64d95aa0b926535b18c67",
       "version_major": 2,
       "version_minor": 0
      },
      "text/plain": [
       "  ...95f73d1-2405-449c-9d6c-e05121862f0e:  20%|##        | 3.67MB / 18.2MB            "
      ]
     },
     "metadata": {},
     "output_type": "display_data"
    },
    {
     "name": "stdout",
     "output_type": "stream",
     "text": [
      "path_in_repo data/test/20250904_153018_00175_yfu2u_442f2b96-3528-426e-945a-ea4d51d046d3.parquet\n"
     ]
    },
    {
     "data": {
      "application/vnd.jupyter.widget-view+json": {
       "model_id": "0ca74c2e8a444b7dae85a5adb90268de",
       "version_major": 2,
       "version_minor": 0
      },
      "text/plain": [
       "Processing Files (0 / 0)                : |          |  0.00B /  0.00B            "
      ]
     },
     "metadata": {},
     "output_type": "display_data"
    },
    {
     "data": {
      "application/vnd.jupyter.widget-view+json": {
       "model_id": "dd3e5c59e66d4edd9aa1d9b9d8906bf7",
       "version_major": 2,
       "version_minor": 0
      },
      "text/plain": [
       "New Data Upload                         : |          |  0.00B /  0.00B            "
      ]
     },
     "metadata": {},
     "output_type": "display_data"
    },
    {
     "data": {
      "application/vnd.jupyter.widget-view+json": {
       "model_id": "14b85fe41fdc488cb84b44210e3998db",
       "version_major": 2,
       "version_minor": 0
      },
      "text/plain": [
       "  ...42f2b96-3528-426e-945a-ea4d51d046d3:  18%|#8        | 3.67MB / 20.3MB            "
      ]
     },
     "metadata": {},
     "output_type": "display_data"
    },
    {
     "name": "stdout",
     "output_type": "stream",
     "text": [
      "path_in_repo data/test/20250904_153018_00175_yfu2u_69701d8e-0a02-4732-9616-544213458d45.parquet\n"
     ]
    },
    {
     "data": {
      "application/vnd.jupyter.widget-view+json": {
       "model_id": "3ec87b72d0674b06825be9b9350b2355",
       "version_major": 2,
       "version_minor": 0
      },
      "text/plain": [
       "Processing Files (0 / 0)                : |          |  0.00B /  0.00B            "
      ]
     },
     "metadata": {},
     "output_type": "display_data"
    },
    {
     "data": {
      "application/vnd.jupyter.widget-view+json": {
       "model_id": "26354deb6b784a6fb6b93d3420dcbc3e",
       "version_major": 2,
       "version_minor": 0
      },
      "text/plain": [
       "New Data Upload                         : |          |  0.00B /  0.00B            "
      ]
     },
     "metadata": {},
     "output_type": "display_data"
    },
    {
     "data": {
      "application/vnd.jupyter.widget-view+json": {
       "model_id": "81347f7b15d7482e9d2fcc7af7f2d89b",
       "version_major": 2,
       "version_minor": 0
      },
      "text/plain": [
       "  ...9701d8e-0a02-4732-9616-544213458d45:  19%|#8        | 3.67MB / 19.4MB            "
      ]
     },
     "metadata": {},
     "output_type": "display_data"
    },
    {
     "name": "stdout",
     "output_type": "stream",
     "text": [
      "path_in_repo data/test/20250904_153018_00175_yfu2u_6a31dd13-2a00-46bc-b664-798421a54538.parquet\n"
     ]
    },
    {
     "data": {
      "application/vnd.jupyter.widget-view+json": {
       "model_id": "ce93a46b2fe54268bf52db6cdfc78577",
       "version_major": 2,
       "version_minor": 0
      },
      "text/plain": [
       "Processing Files (0 / 0)                : |          |  0.00B /  0.00B            "
      ]
     },
     "metadata": {},
     "output_type": "display_data"
    },
    {
     "data": {
      "application/vnd.jupyter.widget-view+json": {
       "model_id": "2e6d30eddb7c4666be4b4d77e8b5d13d",
       "version_major": 2,
       "version_minor": 0
      },
      "text/plain": [
       "New Data Upload                         : |          |  0.00B /  0.00B            "
      ]
     },
     "metadata": {},
     "output_type": "display_data"
    },
    {
     "data": {
      "application/vnd.jupyter.widget-view+json": {
       "model_id": "3e98f7e7cb0540e9b2af0251ccc22623",
       "version_major": 2,
       "version_minor": 0
      },
      "text/plain": [
       "  ...a31dd13-2a00-46bc-b664-798421a54538:  19%|#9        | 3.67MB / 19.0MB            "
      ]
     },
     "metadata": {},
     "output_type": "display_data"
    },
    {
     "name": "stdout",
     "output_type": "stream",
     "text": [
      "path_in_repo data/test/20250904_153018_00175_yfu2u_840f8dc1-28b3-4867-a346-d926250361dc.parquet\n"
     ]
    },
    {
     "data": {
      "application/vnd.jupyter.widget-view+json": {
       "model_id": "f4d2ca8df0014d52920447abbb67b99f",
       "version_major": 2,
       "version_minor": 0
      },
      "text/plain": [
       "Processing Files (0 / 0)                : |          |  0.00B /  0.00B            "
      ]
     },
     "metadata": {},
     "output_type": "display_data"
    },
    {
     "data": {
      "application/vnd.jupyter.widget-view+json": {
       "model_id": "8e8e6b54105243a490c7eb6644b80095",
       "version_major": 2,
       "version_minor": 0
      },
      "text/plain": [
       "New Data Upload                         : |          |  0.00B /  0.00B            "
      ]
     },
     "metadata": {},
     "output_type": "display_data"
    },
    {
     "data": {
      "application/vnd.jupyter.widget-view+json": {
       "model_id": "c36ec13be188487ca064d03a364fbc73",
       "version_major": 2,
       "version_minor": 0
      },
      "text/plain": [
       "  ...40f8dc1-28b3-4867-a346-d926250361dc:  18%|#7        | 3.67MB / 20.5MB            "
      ]
     },
     "metadata": {},
     "output_type": "display_data"
    },
    {
     "name": "stdout",
     "output_type": "stream",
     "text": [
      "path_in_repo data/test/20250904_153018_00175_yfu2u_907e98a2-18c2-4d87-a246-9c7e2724f27e.parquet\n"
     ]
    },
    {
     "data": {
      "application/vnd.jupyter.widget-view+json": {
       "model_id": "b022e26ede424bd28aad27c7e702ff96",
       "version_major": 2,
       "version_minor": 0
      },
      "text/plain": [
       "Processing Files (0 / 0)                : |          |  0.00B /  0.00B            "
      ]
     },
     "metadata": {},
     "output_type": "display_data"
    },
    {
     "data": {
      "application/vnd.jupyter.widget-view+json": {
       "model_id": "d3d07d0501194ab4aad16c95c6cfd535",
       "version_major": 2,
       "version_minor": 0
      },
      "text/plain": [
       "New Data Upload                         : |          |  0.00B /  0.00B            "
      ]
     },
     "metadata": {},
     "output_type": "display_data"
    },
    {
     "data": {
      "application/vnd.jupyter.widget-view+json": {
       "model_id": "bcd8552b07e7422fa6e45abc8a2a6f76",
       "version_major": 2,
       "version_minor": 0
      },
      "text/plain": [
       "  ...07e98a2-18c2-4d87-a246-9c7e2724f27e:  21%|##1       | 3.67MB / 17.2MB            "
      ]
     },
     "metadata": {},
     "output_type": "display_data"
    },
    {
     "name": "stdout",
     "output_type": "stream",
     "text": [
      "path_in_repo data/test/20250904_153018_00175_yfu2u_9b2921a7-635f-48df-a647-e7ec8414c7d7.parquet\n"
     ]
    },
    {
     "data": {
      "application/vnd.jupyter.widget-view+json": {
       "model_id": "935be07185e24be49d97eea7b6ef30de",
       "version_major": 2,
       "version_minor": 0
      },
      "text/plain": [
       "Processing Files (0 / 0)                : |          |  0.00B /  0.00B            "
      ]
     },
     "metadata": {},
     "output_type": "display_data"
    },
    {
     "data": {
      "application/vnd.jupyter.widget-view+json": {
       "model_id": "99b6744ff0054f598e1872fd315b0481",
       "version_major": 2,
       "version_minor": 0
      },
      "text/plain": [
       "New Data Upload                         : |          |  0.00B /  0.00B            "
      ]
     },
     "metadata": {},
     "output_type": "display_data"
    },
    {
     "data": {
      "application/vnd.jupyter.widget-view+json": {
       "model_id": "91ca121e54ab4c1681852247f454c2ce",
       "version_major": 2,
       "version_minor": 0
      },
      "text/plain": [
       "  ...b2921a7-635f-48df-a647-e7ec8414c7d7:  19%|#9        | 3.67MB / 19.0MB            "
      ]
     },
     "metadata": {},
     "output_type": "display_data"
    },
    {
     "name": "stdout",
     "output_type": "stream",
     "text": [
      "path_in_repo data/test/20250904_153018_00175_yfu2u_a4e7d655-6aa9-4839-a000-f0aac84571d4.parquet\n"
     ]
    },
    {
     "data": {
      "application/vnd.jupyter.widget-view+json": {
       "model_id": "b5fe76b4b1a948b29a4e72eb948c38d6",
       "version_major": 2,
       "version_minor": 0
      },
      "text/plain": [
       "Processing Files (0 / 0)                : |          |  0.00B /  0.00B            "
      ]
     },
     "metadata": {},
     "output_type": "display_data"
    },
    {
     "data": {
      "application/vnd.jupyter.widget-view+json": {
       "model_id": "5838233d567e4dbcbd3768447f5aae22",
       "version_major": 2,
       "version_minor": 0
      },
      "text/plain": [
       "New Data Upload                         : |          |  0.00B /  0.00B            "
      ]
     },
     "metadata": {},
     "output_type": "display_data"
    },
    {
     "data": {
      "application/vnd.jupyter.widget-view+json": {
       "model_id": "97579023a9cb4a63bcb65c0f6408fc57",
       "version_major": 2,
       "version_minor": 0
      },
      "text/plain": [
       "  ...4e7d655-6aa9-4839-a000-f0aac84571d4:  21%|##        | 3.67MB / 17.5MB            "
      ]
     },
     "metadata": {},
     "output_type": "display_data"
    },
    {
     "name": "stdout",
     "output_type": "stream",
     "text": [
      "path_in_repo data/test/20250904_153018_00175_yfu2u_ab93bf18-2824-4597-aa66-b7fb5dec0743.parquet\n"
     ]
    },
    {
     "data": {
      "application/vnd.jupyter.widget-view+json": {
       "model_id": "6ebf8c4ac6704006920892745641d59a",
       "version_major": 2,
       "version_minor": 0
      },
      "text/plain": [
       "Processing Files (0 / 0)                : |          |  0.00B /  0.00B            "
      ]
     },
     "metadata": {},
     "output_type": "display_data"
    },
    {
     "data": {
      "application/vnd.jupyter.widget-view+json": {
       "model_id": "3fb6b3e14cad48af9d40226832585acb",
       "version_major": 2,
       "version_minor": 0
      },
      "text/plain": [
       "New Data Upload                         : |          |  0.00B /  0.00B            "
      ]
     },
     "metadata": {},
     "output_type": "display_data"
    },
    {
     "data": {
      "application/vnd.jupyter.widget-view+json": {
       "model_id": "826b5acd4ecb4e33b5a5be45d9112898",
       "version_major": 2,
       "version_minor": 0
      },
      "text/plain": [
       "  ...b93bf18-2824-4597-aa66-b7fb5dec0743:  20%|#9        | 3.67MB / 18.7MB            "
      ]
     },
     "metadata": {},
     "output_type": "display_data"
    },
    {
     "name": "stdout",
     "output_type": "stream",
     "text": [
      "path_in_repo data/test/20250904_153018_00175_yfu2u_b7ee0076-8858-4c3d-b7af-2fe14043fd33.parquet\n"
     ]
    },
    {
     "data": {
      "application/vnd.jupyter.widget-view+json": {
       "model_id": "dd278c7748244a22bfc7bb3afd96e1a8",
       "version_major": 2,
       "version_minor": 0
      },
      "text/plain": [
       "Processing Files (0 / 0)                : |          |  0.00B /  0.00B            "
      ]
     },
     "metadata": {},
     "output_type": "display_data"
    },
    {
     "data": {
      "application/vnd.jupyter.widget-view+json": {
       "model_id": "64749f74c16a40eab7b72f0704d0f752",
       "version_major": 2,
       "version_minor": 0
      },
      "text/plain": [
       "New Data Upload                         : |          |  0.00B /  0.00B            "
      ]
     },
     "metadata": {},
     "output_type": "display_data"
    },
    {
     "data": {
      "application/vnd.jupyter.widget-view+json": {
       "model_id": "9dba3c62698042bb8d5805fe5fe0962a",
       "version_major": 2,
       "version_minor": 0
      },
      "text/plain": [
       "  ...7ee0076-8858-4c3d-b7af-2fe14043fd33:  18%|#8        | 3.67MB / 20.4MB            "
      ]
     },
     "metadata": {},
     "output_type": "display_data"
    },
    {
     "name": "stdout",
     "output_type": "stream",
     "text": [
      "path_in_repo data/test/20250904_153018_00175_yfu2u_bab257a9-9b0c-4c54-911c-f31e96ba3d70.parquet\n"
     ]
    },
    {
     "data": {
      "application/vnd.jupyter.widget-view+json": {
       "model_id": "bf59f656a26742749481ebaa613e7dd7",
       "version_major": 2,
       "version_minor": 0
      },
      "text/plain": [
       "Processing Files (0 / 0)                : |          |  0.00B /  0.00B            "
      ]
     },
     "metadata": {},
     "output_type": "display_data"
    },
    {
     "data": {
      "application/vnd.jupyter.widget-view+json": {
       "model_id": "6fbca314294646c5815243ebc1326437",
       "version_major": 2,
       "version_minor": 0
      },
      "text/plain": [
       "New Data Upload                         : |          |  0.00B /  0.00B            "
      ]
     },
     "metadata": {},
     "output_type": "display_data"
    },
    {
     "data": {
      "application/vnd.jupyter.widget-view+json": {
       "model_id": "6584b9ffdf2f4bbf907b7e753157f686",
       "version_major": 2,
       "version_minor": 0
      },
      "text/plain": [
       "  ...ab257a9-9b0c-4c54-911c-f31e96ba3d70:  19%|#8        | 3.67MB / 19.8MB            "
      ]
     },
     "metadata": {},
     "output_type": "display_data"
    },
    {
     "name": "stdout",
     "output_type": "stream",
     "text": [
      "path_in_repo data/test/20250904_153018_00175_yfu2u_d7feeb13-f061-4218-8ca8-65586b784977.parquet\n"
     ]
    },
    {
     "data": {
      "application/vnd.jupyter.widget-view+json": {
       "model_id": "9e3d550e082f416c918c9a3dce18826d",
       "version_major": 2,
       "version_minor": 0
      },
      "text/plain": [
       "Processing Files (0 / 0)                : |          |  0.00B /  0.00B            "
      ]
     },
     "metadata": {},
     "output_type": "display_data"
    },
    {
     "data": {
      "application/vnd.jupyter.widget-view+json": {
       "model_id": "f50e31b150b04d5a8475656063a8f81b",
       "version_major": 2,
       "version_minor": 0
      },
      "text/plain": [
       "New Data Upload                         : |          |  0.00B /  0.00B            "
      ]
     },
     "metadata": {},
     "output_type": "display_data"
    },
    {
     "data": {
      "application/vnd.jupyter.widget-view+json": {
       "model_id": "c3e6d08dfd04427f997c3c9a90bd15d4",
       "version_major": 2,
       "version_minor": 0
      },
      "text/plain": [
       "  ...7feeb13-f061-4218-8ca8-65586b784977:  19%|#9        | 3.67MB / 18.9MB            "
      ]
     },
     "metadata": {},
     "output_type": "display_data"
    },
    {
     "name": "stdout",
     "output_type": "stream",
     "text": [
      "path_in_repo data/test/20250904_153018_00175_yfu2u_e77fd8dc-e0a3-4d80-bf62-642faeda1c30.parquet\n"
     ]
    },
    {
     "data": {
      "application/vnd.jupyter.widget-view+json": {
       "model_id": "fffcf5bdc3ea4f9ea3e51b070326867a",
       "version_major": 2,
       "version_minor": 0
      },
      "text/plain": [
       "Processing Files (0 / 0)                : |          |  0.00B /  0.00B            "
      ]
     },
     "metadata": {},
     "output_type": "display_data"
    },
    {
     "data": {
      "application/vnd.jupyter.widget-view+json": {
       "model_id": "67d89a54ad27425da70064d66215d88d",
       "version_major": 2,
       "version_minor": 0
      },
      "text/plain": [
       "New Data Upload                         : |          |  0.00B /  0.00B            "
      ]
     },
     "metadata": {},
     "output_type": "display_data"
    },
    {
     "data": {
      "application/vnd.jupyter.widget-view+json": {
       "model_id": "7d59ec6381c4428fa864f32a27c08d25",
       "version_major": 2,
       "version_minor": 0
      },
      "text/plain": [
       "  ...77fd8dc-e0a3-4d80-bf62-642faeda1c30:  19%|#8        | 3.67MB / 19.5MB            "
      ]
     },
     "metadata": {},
     "output_type": "display_data"
    },
    {
     "name": "stdout",
     "output_type": "stream",
     "text": [
      "path_in_repo data/test/20250904_153018_00175_yfu2u_f20eb43b-de5b-4706-a69a-dceb6b052007.parquet\n"
     ]
    },
    {
     "data": {
      "application/vnd.jupyter.widget-view+json": {
       "model_id": "f6e4d8f94434477f8e879cc278102322",
       "version_major": 2,
       "version_minor": 0
      },
      "text/plain": [
       "Processing Files (0 / 0)                : |          |  0.00B /  0.00B            "
      ]
     },
     "metadata": {},
     "output_type": "display_data"
    },
    {
     "data": {
      "application/vnd.jupyter.widget-view+json": {
       "model_id": "8f0fef2c10ea48068c8a747f470404f0",
       "version_major": 2,
       "version_minor": 0
      },
      "text/plain": [
       "New Data Upload                         : |          |  0.00B /  0.00B            "
      ]
     },
     "metadata": {},
     "output_type": "display_data"
    },
    {
     "data": {
      "application/vnd.jupyter.widget-view+json": {
       "model_id": "4c7ce270e1724650b7d11c9ee99eb64c",
       "version_major": 2,
       "version_minor": 0
      },
      "text/plain": [
       "  ...20eb43b-de5b-4706-a69a-dceb6b052007:  18%|#8        | 3.67MB / 20.3MB            "
      ]
     },
     "metadata": {},
     "output_type": "display_data"
    },
    {
     "name": "stdout",
     "output_type": "stream",
     "text": [
      "path_in_repo data/test/20250904_153018_00175_yfu2u_f5c505ca-8a8b-4246-874a-077995aa0f3d.parquet\n"
     ]
    },
    {
     "data": {
      "application/vnd.jupyter.widget-view+json": {
       "model_id": "76c192c4906f42a59a038ec87a949488",
       "version_major": 2,
       "version_minor": 0
      },
      "text/plain": [
       "Processing Files (0 / 0)                : |          |  0.00B /  0.00B            "
      ]
     },
     "metadata": {},
     "output_type": "display_data"
    },
    {
     "data": {
      "application/vnd.jupyter.widget-view+json": {
       "model_id": "0047e5bbd3754de28dc455e49b60c799",
       "version_major": 2,
       "version_minor": 0
      },
      "text/plain": [
       "New Data Upload                         : |          |  0.00B /  0.00B            "
      ]
     },
     "metadata": {},
     "output_type": "display_data"
    },
    {
     "data": {
      "application/vnd.jupyter.widget-view+json": {
       "model_id": "9c0f26832d9b4787a6cf1380822f6a4a",
       "version_major": 2,
       "version_minor": 0
      },
      "text/plain": [
       "  ...5c505ca-8a8b-4246-874a-077995aa0f3d:  20%|##        | 3.67MB / 18.1MB            "
      ]
     },
     "metadata": {},
     "output_type": "display_data"
    },
    {
     "name": "stdout",
     "output_type": "stream",
     "text": [
      "path_in_repo data/test/20250904_153018_00175_yfu2u_f7af7f9b-bfb4-4cfe-85a2-1d06a53ad36f.parquet\n"
     ]
    },
    {
     "data": {
      "application/vnd.jupyter.widget-view+json": {
       "model_id": "8989a5c9c82245febc144e77bd3fe486",
       "version_major": 2,
       "version_minor": 0
      },
      "text/plain": [
       "Processing Files (0 / 0)                : |          |  0.00B /  0.00B            "
      ]
     },
     "metadata": {},
     "output_type": "display_data"
    },
    {
     "data": {
      "application/vnd.jupyter.widget-view+json": {
       "model_id": "7a4d184db941439e914f6c951ff32d98",
       "version_major": 2,
       "version_minor": 0
      },
      "text/plain": [
       "New Data Upload                         : |          |  0.00B /  0.00B            "
      ]
     },
     "metadata": {},
     "output_type": "display_data"
    },
    {
     "data": {
      "application/vnd.jupyter.widget-view+json": {
       "model_id": "c8f49db10559468eaa91a849de40f8ff",
       "version_major": 2,
       "version_minor": 0
      },
      "text/plain": [
       "  ...7af7f9b-bfb4-4cfe-85a2-1d06a53ad36f:  18%|#7        | 3.67MB / 20.6MB            "
      ]
     },
     "metadata": {},
     "output_type": "display_data"
    },
    {
     "name": "stdout",
     "output_type": "stream",
     "text": [
      "path_in_repo data/test/20250904_153018_00175_yfu2u_fdcd6fed-ff29-41dc-8675-f799dae2e9e9.parquet\n"
     ]
    },
    {
     "data": {
      "application/vnd.jupyter.widget-view+json": {
       "model_id": "15e97c22f78f40abb84ce516031c3406",
       "version_major": 2,
       "version_minor": 0
      },
      "text/plain": [
       "Processing Files (0 / 0)                : |          |  0.00B /  0.00B            "
      ]
     },
     "metadata": {},
     "output_type": "display_data"
    },
    {
     "data": {
      "application/vnd.jupyter.widget-view+json": {
       "model_id": "d5838bdc0f814601b64fa19b99fc1a24",
       "version_major": 2,
       "version_minor": 0
      },
      "text/plain": [
       "New Data Upload                         : |          |  0.00B /  0.00B            "
      ]
     },
     "metadata": {},
     "output_type": "display_data"
    },
    {
     "data": {
      "application/vnd.jupyter.widget-view+json": {
       "model_id": "b978b81d4f01412f97d570a641938add",
       "version_major": 2,
       "version_minor": 0
      },
      "text/plain": [
       "  ...dcd6fed-ff29-41dc-8675-f799dae2e9e9:  17%|#6        | 3.67MB / 22.2MB            "
      ]
     },
     "metadata": {},
     "output_type": "display_data"
    },
    {
     "name": "stdout",
     "output_type": "stream",
     "text": [
      " :: END subset: test | since_start: 11.0 minutes, 17.83 seconds | since_last: 4.0 minutes, 53.41 seconds :: \n",
      " :: START subset: validation | since_start: 11.0 minutes, 17.83 seconds | since_last: 0.00 seconds :: \n",
      "ensure_path(temp_files)\n",
      "path_in_repo data/validation/20250904_153035_00111_fpssy_08618489-1683-41b8-90de-65fd3187be9f.parquet\n"
     ]
    },
    {
     "data": {
      "application/vnd.jupyter.widget-view+json": {
       "model_id": "57a1d4f7446941e7afabe47f44118714",
       "version_major": 2,
       "version_minor": 0
      },
      "text/plain": [
       "Processing Files (0 / 0)                : |          |  0.00B /  0.00B            "
      ]
     },
     "metadata": {},
     "output_type": "display_data"
    },
    {
     "data": {
      "application/vnd.jupyter.widget-view+json": {
       "model_id": "dee736e32ca84b679ab6bc542cb9357f",
       "version_major": 2,
       "version_minor": 0
      },
      "text/plain": [
       "New Data Upload                         : |          |  0.00B /  0.00B            "
      ]
     },
     "metadata": {},
     "output_type": "display_data"
    },
    {
     "data": {
      "application/vnd.jupyter.widget-view+json": {
       "model_id": "d2b51cbfb239440686c714543cf7e2b2",
       "version_major": 2,
       "version_minor": 0
      },
      "text/plain": [
       "  ...8618489-1683-41b8-90de-65fd3187be9f:  20%|#9        | 3.67MB / 18.4MB            "
      ]
     },
     "metadata": {},
     "output_type": "display_data"
    },
    {
     "name": "stdout",
     "output_type": "stream",
     "text": [
      "path_in_repo data/validation/20250904_153035_00111_fpssy_23b38288-44b9-4037-b38c-2864e138f12b.parquet\n"
     ]
    },
    {
     "data": {
      "application/vnd.jupyter.widget-view+json": {
       "model_id": "b118811ba1644d079f682751a9f921c7",
       "version_major": 2,
       "version_minor": 0
      },
      "text/plain": [
       "Processing Files (0 / 0)                : |          |  0.00B /  0.00B            "
      ]
     },
     "metadata": {},
     "output_type": "display_data"
    },
    {
     "data": {
      "application/vnd.jupyter.widget-view+json": {
       "model_id": "57f0bb97e6384201a3d4b9e5eb52a0b2",
       "version_major": 2,
       "version_minor": 0
      },
      "text/plain": [
       "New Data Upload                         : |          |  0.00B /  0.00B            "
      ]
     },
     "metadata": {},
     "output_type": "display_data"
    },
    {
     "data": {
      "application/vnd.jupyter.widget-view+json": {
       "model_id": "adecc8ceff7c4d69bae548634e6778c4",
       "version_major": 2,
       "version_minor": 0
      },
      "text/plain": [
       "  ...3b38288-44b9-4037-b38c-2864e138f12b:  20%|##        | 3.67MB / 18.0MB            "
      ]
     },
     "metadata": {},
     "output_type": "display_data"
    },
    {
     "name": "stdout",
     "output_type": "stream",
     "text": [
      "path_in_repo data/validation/20250904_153035_00111_fpssy_39dea4ef-f7de-4719-bb03-e46f3e8aff88.parquet\n"
     ]
    },
    {
     "data": {
      "application/vnd.jupyter.widget-view+json": {
       "model_id": "6d851713f3a54c389f08bd8212b8ff2f",
       "version_major": 2,
       "version_minor": 0
      },
      "text/plain": [
       "Processing Files (0 / 0)                : |          |  0.00B /  0.00B            "
      ]
     },
     "metadata": {},
     "output_type": "display_data"
    },
    {
     "data": {
      "application/vnd.jupyter.widget-view+json": {
       "model_id": "f09d8f95d97f4320a436758c90030ccc",
       "version_major": 2,
       "version_minor": 0
      },
      "text/plain": [
       "New Data Upload                         : |          |  0.00B /  0.00B            "
      ]
     },
     "metadata": {},
     "output_type": "display_data"
    },
    {
     "data": {
      "application/vnd.jupyter.widget-view+json": {
       "model_id": "24a36a589f6c4ea6a9cf432506a8e4da",
       "version_major": 2,
       "version_minor": 0
      },
      "text/plain": [
       "  ...9dea4ef-f7de-4719-bb03-e46f3e8aff88:  17%|#7        | 3.67MB / 21.3MB            "
      ]
     },
     "metadata": {},
     "output_type": "display_data"
    },
    {
     "name": "stdout",
     "output_type": "stream",
     "text": [
      "path_in_repo data/validation/20250904_153035_00111_fpssy_3ff16f24-9d1f-4888-b81f-713667931d62.parquet\n"
     ]
    },
    {
     "data": {
      "application/vnd.jupyter.widget-view+json": {
       "model_id": "3253539dc8ec416192963e3a83d67d9f",
       "version_major": 2,
       "version_minor": 0
      },
      "text/plain": [
       "Processing Files (0 / 0)                : |          |  0.00B /  0.00B            "
      ]
     },
     "metadata": {},
     "output_type": "display_data"
    },
    {
     "data": {
      "application/vnd.jupyter.widget-view+json": {
       "model_id": "122082f67ea14d98923aabbb5f2e7d39",
       "version_major": 2,
       "version_minor": 0
      },
      "text/plain": [
       "New Data Upload                         : |          |  0.00B /  0.00B            "
      ]
     },
     "metadata": {},
     "output_type": "display_data"
    },
    {
     "data": {
      "application/vnd.jupyter.widget-view+json": {
       "model_id": "67d055af44d64e169d04835356f52a69",
       "version_major": 2,
       "version_minor": 0
      },
      "text/plain": [
       "  ...ff16f24-9d1f-4888-b81f-713667931d62:  20%|##        | 3.67MB / 18.0MB            "
      ]
     },
     "metadata": {},
     "output_type": "display_data"
    },
    {
     "name": "stdout",
     "output_type": "stream",
     "text": [
      "path_in_repo data/validation/20250904_153035_00111_fpssy_42e82e0d-4d56-4134-9313-6e68fa076ef3.parquet\n"
     ]
    },
    {
     "data": {
      "application/vnd.jupyter.widget-view+json": {
       "model_id": "c9c23bb3ecd2417090846d536f3b98f4",
       "version_major": 2,
       "version_minor": 0
      },
      "text/plain": [
       "Processing Files (0 / 0)                : |          |  0.00B /  0.00B            "
      ]
     },
     "metadata": {},
     "output_type": "display_data"
    },
    {
     "data": {
      "application/vnd.jupyter.widget-view+json": {
       "model_id": "9003265f805d4cf7876d3bba612257cb",
       "version_major": 2,
       "version_minor": 0
      },
      "text/plain": [
       "New Data Upload                         : |          |  0.00B /  0.00B            "
      ]
     },
     "metadata": {},
     "output_type": "display_data"
    },
    {
     "data": {
      "application/vnd.jupyter.widget-view+json": {
       "model_id": "787d46b5c3d84541879e2f360feff995",
       "version_major": 2,
       "version_minor": 0
      },
      "text/plain": [
       "  ...2e82e0d-4d56-4134-9313-6e68fa076ef3:  17%|#6        | 3.67MB / 21.6MB            "
      ]
     },
     "metadata": {},
     "output_type": "display_data"
    },
    {
     "name": "stdout",
     "output_type": "stream",
     "text": [
      "path_in_repo data/validation/20250904_153035_00111_fpssy_531986f2-ad47-47ac-9ba5-3e5b2a700998.parquet\n"
     ]
    },
    {
     "data": {
      "application/vnd.jupyter.widget-view+json": {
       "model_id": "032aa0bcf04c45f89b442e0561757a97",
       "version_major": 2,
       "version_minor": 0
      },
      "text/plain": [
       "Processing Files (0 / 0)                : |          |  0.00B /  0.00B            "
      ]
     },
     "metadata": {},
     "output_type": "display_data"
    },
    {
     "data": {
      "application/vnd.jupyter.widget-view+json": {
       "model_id": "ad16c7ef40e74d29bace9c14aa2022ba",
       "version_major": 2,
       "version_minor": 0
      },
      "text/plain": [
       "New Data Upload                         : |          |  0.00B /  0.00B            "
      ]
     },
     "metadata": {},
     "output_type": "display_data"
    },
    {
     "data": {
      "application/vnd.jupyter.widget-view+json": {
       "model_id": "f559e35d86cb402e8f25b59d4b28a2f6",
       "version_major": 2,
       "version_minor": 0
      },
      "text/plain": [
       "  ...31986f2-ad47-47ac-9ba5-3e5b2a700998:  19%|#9        | 3.67MB / 19.2MB            "
      ]
     },
     "metadata": {},
     "output_type": "display_data"
    },
    {
     "name": "stdout",
     "output_type": "stream",
     "text": [
      "path_in_repo data/validation/20250904_153035_00111_fpssy_6a4ef0e5-bf6f-499e-bf5f-695761d332ac.parquet\n"
     ]
    },
    {
     "data": {
      "application/vnd.jupyter.widget-view+json": {
       "model_id": "6205b82ae9c146c2bc1b4a5ac043d545",
       "version_major": 2,
       "version_minor": 0
      },
      "text/plain": [
       "Processing Files (0 / 0)                : |          |  0.00B /  0.00B            "
      ]
     },
     "metadata": {},
     "output_type": "display_data"
    },
    {
     "data": {
      "application/vnd.jupyter.widget-view+json": {
       "model_id": "2c7490c70fd545aa9cdac53187da6f1a",
       "version_major": 2,
       "version_minor": 0
      },
      "text/plain": [
       "New Data Upload                         : |          |  0.00B /  0.00B            "
      ]
     },
     "metadata": {},
     "output_type": "display_data"
    },
    {
     "data": {
      "application/vnd.jupyter.widget-view+json": {
       "model_id": "d50e3c010d2342a3b6958e5cd399d107",
       "version_major": 2,
       "version_minor": 0
      },
      "text/plain": [
       "  ...a4ef0e5-bf6f-499e-bf5f-695761d332ac:  18%|#7        | 3.67MB / 20.9MB            "
      ]
     },
     "metadata": {},
     "output_type": "display_data"
    },
    {
     "name": "stdout",
     "output_type": "stream",
     "text": [
      "path_in_repo data/validation/20250904_153035_00111_fpssy_6f5ead35-fb68-467c-9f43-38e89bfdfd67.parquet\n"
     ]
    },
    {
     "data": {
      "application/vnd.jupyter.widget-view+json": {
       "model_id": "fc49ba2ef9f44ef8976bcc63d15860be",
       "version_major": 2,
       "version_minor": 0
      },
      "text/plain": [
       "Processing Files (0 / 0)                : |          |  0.00B /  0.00B            "
      ]
     },
     "metadata": {},
     "output_type": "display_data"
    },
    {
     "data": {
      "application/vnd.jupyter.widget-view+json": {
       "model_id": "cc743fff76074ca3888e21e371940cdd",
       "version_major": 2,
       "version_minor": 0
      },
      "text/plain": [
       "New Data Upload                         : |          |  0.00B /  0.00B            "
      ]
     },
     "metadata": {},
     "output_type": "display_data"
    },
    {
     "data": {
      "application/vnd.jupyter.widget-view+json": {
       "model_id": "fbf70135cb5a404b80e786acd147c8ef",
       "version_major": 2,
       "version_minor": 0
      },
      "text/plain": [
       "  ...f5ead35-fb68-467c-9f43-38e89bfdfd67:  20%|#9        | 3.67MB / 18.7MB            "
      ]
     },
     "metadata": {},
     "output_type": "display_data"
    },
    {
     "name": "stdout",
     "output_type": "stream",
     "text": [
      "path_in_repo data/validation/20250904_153035_00111_fpssy_77278ba8-1b58-404e-b09d-c6864cb69f33.parquet\n"
     ]
    },
    {
     "data": {
      "application/vnd.jupyter.widget-view+json": {
       "model_id": "8dd8baedfbb6418ea622b803217ffc19",
       "version_major": 2,
       "version_minor": 0
      },
      "text/plain": [
       "Processing Files (0 / 0)                : |          |  0.00B /  0.00B            "
      ]
     },
     "metadata": {},
     "output_type": "display_data"
    },
    {
     "data": {
      "application/vnd.jupyter.widget-view+json": {
       "model_id": "5ae0c6605080432f9cf3401131cb5483",
       "version_major": 2,
       "version_minor": 0
      },
      "text/plain": [
       "New Data Upload                         : |          |  0.00B /  0.00B            "
      ]
     },
     "metadata": {},
     "output_type": "display_data"
    },
    {
     "data": {
      "application/vnd.jupyter.widget-view+json": {
       "model_id": "efba84ffd4384dba93dd55d3a7a3e54b",
       "version_major": 2,
       "version_minor": 0
      },
      "text/plain": [
       "  ...7278ba8-1b58-404e-b09d-c6864cb69f33:  20%|##        | 3.67MB / 18.0MB            "
      ]
     },
     "metadata": {},
     "output_type": "display_data"
    },
    {
     "name": "stdout",
     "output_type": "stream",
     "text": [
      "path_in_repo data/validation/20250904_153035_00111_fpssy_88757457-f4ee-4609-aeca-de73d7bf2c15.parquet\n"
     ]
    },
    {
     "data": {
      "application/vnd.jupyter.widget-view+json": {
       "model_id": "1e22d29613c14595b45eeea45e853578",
       "version_major": 2,
       "version_minor": 0
      },
      "text/plain": [
       "Processing Files (0 / 0)                : |          |  0.00B /  0.00B            "
      ]
     },
     "metadata": {},
     "output_type": "display_data"
    },
    {
     "data": {
      "application/vnd.jupyter.widget-view+json": {
       "model_id": "9941879d7e4d436da1d1eea6b2a4398f",
       "version_major": 2,
       "version_minor": 0
      },
      "text/plain": [
       "New Data Upload                         : |          |  0.00B /  0.00B            "
      ]
     },
     "metadata": {},
     "output_type": "display_data"
    },
    {
     "data": {
      "application/vnd.jupyter.widget-view+json": {
       "model_id": "41cffea03ac5429fbcd0ed18b66af71b",
       "version_major": 2,
       "version_minor": 0
      },
      "text/plain": [
       "  ...8757457-f4ee-4609-aeca-de73d7bf2c15:  21%|##1       | 3.67MB / 17.4MB            "
      ]
     },
     "metadata": {},
     "output_type": "display_data"
    },
    {
     "name": "stdout",
     "output_type": "stream",
     "text": [
      "path_in_repo data/validation/20250904_153035_00111_fpssy_8b141f9a-9cbc-44dc-b32a-df182a17a98a.parquet\n"
     ]
    },
    {
     "data": {
      "application/vnd.jupyter.widget-view+json": {
       "model_id": "ce1af03bd81945a7b61dde48112340b1",
       "version_major": 2,
       "version_minor": 0
      },
      "text/plain": [
       "Processing Files (0 / 0)                : |          |  0.00B /  0.00B            "
      ]
     },
     "metadata": {},
     "output_type": "display_data"
    },
    {
     "data": {
      "application/vnd.jupyter.widget-view+json": {
       "model_id": "775ee681c26447d49d5d17dc46989c98",
       "version_major": 2,
       "version_minor": 0
      },
      "text/plain": [
       "New Data Upload                         : |          |  0.00B /  0.00B            "
      ]
     },
     "metadata": {},
     "output_type": "display_data"
    },
    {
     "data": {
      "application/vnd.jupyter.widget-view+json": {
       "model_id": "a602721ad10c45fb91ef8c40e876f39d",
       "version_major": 2,
       "version_minor": 0
      },
      "text/plain": [
       "  ...b141f9a-9cbc-44dc-b32a-df182a17a98a:  17%|#6        | 3.67MB / 22.1MB            "
      ]
     },
     "metadata": {},
     "output_type": "display_data"
    },
    {
     "name": "stdout",
     "output_type": "stream",
     "text": [
      "path_in_repo data/validation/20250904_153035_00111_fpssy_9bc91e27-9d85-442e-ade1-9e37aa4d83d4.parquet\n"
     ]
    },
    {
     "data": {
      "application/vnd.jupyter.widget-view+json": {
       "model_id": "63728645a40c428b9b8507a603544dc4",
       "version_major": 2,
       "version_minor": 0
      },
      "text/plain": [
       "Processing Files (0 / 0)                : |          |  0.00B /  0.00B            "
      ]
     },
     "metadata": {},
     "output_type": "display_data"
    },
    {
     "data": {
      "application/vnd.jupyter.widget-view+json": {
       "model_id": "0bf53d9c5d2a45e8b6ffeecc4dead768",
       "version_major": 2,
       "version_minor": 0
      },
      "text/plain": [
       "New Data Upload                         : |          |  0.00B /  0.00B            "
      ]
     },
     "metadata": {},
     "output_type": "display_data"
    },
    {
     "data": {
      "application/vnd.jupyter.widget-view+json": {
       "model_id": "3212b7bfee194c44aa41591cc8ce9b26",
       "version_major": 2,
       "version_minor": 0
      },
      "text/plain": [
       "  ...bc91e27-9d85-442e-ade1-9e37aa4d83d4:  17%|#7        | 3.67MB / 21.3MB            "
      ]
     },
     "metadata": {},
     "output_type": "display_data"
    },
    {
     "name": "stdout",
     "output_type": "stream",
     "text": [
      "path_in_repo data/validation/20250904_153035_00111_fpssy_a1083b8d-01f3-4bce-83d8-95396de29334.parquet\n"
     ]
    },
    {
     "data": {
      "application/vnd.jupyter.widget-view+json": {
       "model_id": "a6f1e1a3dc414216a928595e81859039",
       "version_major": 2,
       "version_minor": 0
      },
      "text/plain": [
       "Processing Files (0 / 0)                : |          |  0.00B /  0.00B            "
      ]
     },
     "metadata": {},
     "output_type": "display_data"
    },
    {
     "data": {
      "application/vnd.jupyter.widget-view+json": {
       "model_id": "9ce8c665b8d5487eaf46c558d8fcd0bd",
       "version_major": 2,
       "version_minor": 0
      },
      "text/plain": [
       "New Data Upload                         : |          |  0.00B /  0.00B            "
      ]
     },
     "metadata": {},
     "output_type": "display_data"
    },
    {
     "data": {
      "application/vnd.jupyter.widget-view+json": {
       "model_id": "7335d4e5ea6b4046aacf7d465de88705",
       "version_major": 2,
       "version_minor": 0
      },
      "text/plain": [
       "  ...1083b8d-01f3-4bce-83d8-95396de29334:  20%|##        | 3.67MB / 18.3MB            "
      ]
     },
     "metadata": {},
     "output_type": "display_data"
    },
    {
     "name": "stdout",
     "output_type": "stream",
     "text": [
      "path_in_repo data/validation/20250904_153035_00111_fpssy_c83f5026-a88e-40bc-bcc9-d6d383a3be6d.parquet\n"
     ]
    },
    {
     "data": {
      "application/vnd.jupyter.widget-view+json": {
       "model_id": "96ed7d0485074e638ba3b8fab127af9a",
       "version_major": 2,
       "version_minor": 0
      },
      "text/plain": [
       "Processing Files (0 / 0)                : |          |  0.00B /  0.00B            "
      ]
     },
     "metadata": {},
     "output_type": "display_data"
    },
    {
     "data": {
      "application/vnd.jupyter.widget-view+json": {
       "model_id": "4536e8110b034cec86197fbb7f597667",
       "version_major": 2,
       "version_minor": 0
      },
      "text/plain": [
       "New Data Upload                         : |          |  0.00B /  0.00B            "
      ]
     },
     "metadata": {},
     "output_type": "display_data"
    },
    {
     "data": {
      "application/vnd.jupyter.widget-view+json": {
       "model_id": "f21fd1b4f7654d13ad7d431fc50e7498",
       "version_major": 2,
       "version_minor": 0
      },
      "text/plain": [
       "  ...83f5026-a88e-40bc-bcc9-d6d383a3be6d:  17%|#7        | 3.67MB / 21.3MB            "
      ]
     },
     "metadata": {},
     "output_type": "display_data"
    },
    {
     "name": "stdout",
     "output_type": "stream",
     "text": [
      "path_in_repo data/validation/20250904_153035_00111_fpssy_ce002cfa-1e5c-4c3c-a4e6-40c0867cb0d5.parquet\n"
     ]
    },
    {
     "data": {
      "application/vnd.jupyter.widget-view+json": {
       "model_id": "290d50d35d134550929a389d80df326e",
       "version_major": 2,
       "version_minor": 0
      },
      "text/plain": [
       "Processing Files (0 / 0)                : |          |  0.00B /  0.00B            "
      ]
     },
     "metadata": {},
     "output_type": "display_data"
    },
    {
     "data": {
      "application/vnd.jupyter.widget-view+json": {
       "model_id": "11b4838ef8ec46cc99ce2b2731e250c5",
       "version_major": 2,
       "version_minor": 0
      },
      "text/plain": [
       "New Data Upload                         : |          |  0.00B /  0.00B            "
      ]
     },
     "metadata": {},
     "output_type": "display_data"
    },
    {
     "data": {
      "application/vnd.jupyter.widget-view+json": {
       "model_id": "a9723ad520684039afff8a00d04855a5",
       "version_major": 2,
       "version_minor": 0
      },
      "text/plain": [
       "  ...e002cfa-1e5c-4c3c-a4e6-40c0867cb0d5:  21%|##        | 3.67MB / 17.6MB            "
      ]
     },
     "metadata": {},
     "output_type": "display_data"
    },
    {
     "name": "stdout",
     "output_type": "stream",
     "text": [
      "path_in_repo data/validation/20250904_153035_00111_fpssy_cf950790-0244-4ad9-a808-4a3d611f55dc.parquet\n"
     ]
    },
    {
     "data": {
      "application/vnd.jupyter.widget-view+json": {
       "model_id": "b3562ae9aab24df8997dc183e885d00f",
       "version_major": 2,
       "version_minor": 0
      },
      "text/plain": [
       "Processing Files (0 / 0)                : |          |  0.00B /  0.00B            "
      ]
     },
     "metadata": {},
     "output_type": "display_data"
    },
    {
     "data": {
      "application/vnd.jupyter.widget-view+json": {
       "model_id": "f4b09de947bd4807bcee3410842239bd",
       "version_major": 2,
       "version_minor": 0
      },
      "text/plain": [
       "New Data Upload                         : |          |  0.00B /  0.00B            "
      ]
     },
     "metadata": {},
     "output_type": "display_data"
    },
    {
     "data": {
      "application/vnd.jupyter.widget-view+json": {
       "model_id": "6ece1abc6812419b9383f90a818b9ab9",
       "version_major": 2,
       "version_minor": 0
      },
      "text/plain": [
       "  ...f950790-0244-4ad9-a808-4a3d611f55dc:  18%|#8        | 3.67MB / 20.2MB            "
      ]
     },
     "metadata": {},
     "output_type": "display_data"
    },
    {
     "name": "stdout",
     "output_type": "stream",
     "text": [
      "path_in_repo data/validation/20250904_153035_00111_fpssy_dc3644b9-7dae-4b69-996e-b80c1856e60c.parquet\n"
     ]
    },
    {
     "data": {
      "application/vnd.jupyter.widget-view+json": {
       "model_id": "8684046ef82345eda4c88a600f759831",
       "version_major": 2,
       "version_minor": 0
      },
      "text/plain": [
       "Processing Files (0 / 0)                : |          |  0.00B /  0.00B            "
      ]
     },
     "metadata": {},
     "output_type": "display_data"
    },
    {
     "data": {
      "application/vnd.jupyter.widget-view+json": {
       "model_id": "11ecbf8111014f5da3614ee9a6444303",
       "version_major": 2,
       "version_minor": 0
      },
      "text/plain": [
       "New Data Upload                         : |          |  0.00B /  0.00B            "
      ]
     },
     "metadata": {},
     "output_type": "display_data"
    },
    {
     "data": {
      "application/vnd.jupyter.widget-view+json": {
       "model_id": "ece67d8ab6eb466a93fc871fe8bd9c20",
       "version_major": 2,
       "version_minor": 0
      },
      "text/plain": [
       "  ...c3644b9-7dae-4b69-996e-b80c1856e60c:  18%|#7        | 3.67MB / 20.8MB            "
      ]
     },
     "metadata": {},
     "output_type": "display_data"
    },
    {
     "name": "stdout",
     "output_type": "stream",
     "text": [
      "path_in_repo data/validation/20250904_153035_00111_fpssy_e659ab88-53d4-4023-be78-b5fd106059d6.parquet\n"
     ]
    },
    {
     "data": {
      "application/vnd.jupyter.widget-view+json": {
       "model_id": "e33633cf0b48412a95abc7e943408198",
       "version_major": 2,
       "version_minor": 0
      },
      "text/plain": [
       "Processing Files (0 / 0)                : |          |  0.00B /  0.00B            "
      ]
     },
     "metadata": {},
     "output_type": "display_data"
    },
    {
     "data": {
      "application/vnd.jupyter.widget-view+json": {
       "model_id": "d19ca7c9c1794905bde1e6f4ca933802",
       "version_major": 2,
       "version_minor": 0
      },
      "text/plain": [
       "New Data Upload                         : |          |  0.00B /  0.00B            "
      ]
     },
     "metadata": {},
     "output_type": "display_data"
    },
    {
     "data": {
      "application/vnd.jupyter.widget-view+json": {
       "model_id": "1d18c0f0fe2a47808df9e7180466dfd0",
       "version_major": 2,
       "version_minor": 0
      },
      "text/plain": [
       "  ...659ab88-53d4-4023-be78-b5fd106059d6:  18%|#8        | 3.67MB / 20.1MB            "
      ]
     },
     "metadata": {},
     "output_type": "display_data"
    },
    {
     "name": "stdout",
     "output_type": "stream",
     "text": [
      "path_in_repo data/validation/20250904_153035_00111_fpssy_f9745eb3-f792-49c9-8acf-c006fca39cd9.parquet\n"
     ]
    },
    {
     "data": {
      "application/vnd.jupyter.widget-view+json": {
       "model_id": "5f2654794edb48939d4f56f7f22ef814",
       "version_major": 2,
       "version_minor": 0
      },
      "text/plain": [
       "Processing Files (0 / 0)                : |          |  0.00B /  0.00B            "
      ]
     },
     "metadata": {},
     "output_type": "display_data"
    },
    {
     "data": {
      "application/vnd.jupyter.widget-view+json": {
       "model_id": "7531603a52bd447894efb86f8ec0a9f8",
       "version_major": 2,
       "version_minor": 0
      },
      "text/plain": [
       "New Data Upload                         : |          |  0.00B /  0.00B            "
      ]
     },
     "metadata": {},
     "output_type": "display_data"
    },
    {
     "data": {
      "application/vnd.jupyter.widget-view+json": {
       "model_id": "fe7038d0567149999ee10ccbb5082ffd",
       "version_major": 2,
       "version_minor": 0
      },
      "text/plain": [
       "  ...9745eb3-f792-49c9-8acf-c006fca39cd9:  19%|#8        | 3.67MB / 19.5MB            "
      ]
     },
     "metadata": {},
     "output_type": "display_data"
    },
    {
     "name": "stdout",
     "output_type": "stream",
     "text": [
      "path_in_repo data/validation/20250904_153035_00111_fpssy_fcfa9db6-9cff-48ea-87e6-314c4165207c.parquet\n"
     ]
    },
    {
     "data": {
      "application/vnd.jupyter.widget-view+json": {
       "model_id": "e215aa6b5a6049d3afbca63e7884f14e",
       "version_major": 2,
       "version_minor": 0
      },
      "text/plain": [
       "Processing Files (0 / 0)                : |          |  0.00B /  0.00B            "
      ]
     },
     "metadata": {},
     "output_type": "display_data"
    },
    {
     "data": {
      "application/vnd.jupyter.widget-view+json": {
       "model_id": "51356e269b4e4bf68b2a02915f8b48b2",
       "version_major": 2,
       "version_minor": 0
      },
      "text/plain": [
       "New Data Upload                         : |          |  0.00B /  0.00B            "
      ]
     },
     "metadata": {},
     "output_type": "display_data"
    },
    {
     "data": {
      "application/vnd.jupyter.widget-view+json": {
       "model_id": "0aa6da82a773492986270f1a444067bf",
       "version_major": 2,
       "version_minor": 0
      },
      "text/plain": [
       "  ...cfa9db6-9cff-48ea-87e6-314c4165207c:  18%|#8        | 3.67MB / 19.9MB            "
      ]
     },
     "metadata": {},
     "output_type": "display_data"
    },
    {
     "name": "stdout",
     "output_type": "stream",
     "text": [
      "path_in_repo data/validation/20250904_153035_00111_fpssy_ff07aaef-6452-4da6-84bc-46880ca80beb.parquet\n"
     ]
    },
    {
     "data": {
      "application/vnd.jupyter.widget-view+json": {
       "model_id": "3c4f6bc174c1427ebe8c26a152788925",
       "version_major": 2,
       "version_minor": 0
      },
      "text/plain": [
       "Processing Files (0 / 0)                : |          |  0.00B /  0.00B            "
      ]
     },
     "metadata": {},
     "output_type": "display_data"
    },
    {
     "data": {
      "application/vnd.jupyter.widget-view+json": {
       "model_id": "b2e746a554e34249adc07b04d15b10f9",
       "version_major": 2,
       "version_minor": 0
      },
      "text/plain": [
       "New Data Upload                         : |          |  0.00B /  0.00B            "
      ]
     },
     "metadata": {},
     "output_type": "display_data"
    },
    {
     "data": {
      "application/vnd.jupyter.widget-view+json": {
       "model_id": "d5c36722472d48c99fbca21adbf5452f",
       "version_major": 2,
       "version_minor": 0
      },
      "text/plain": [
       "  ...f07aaef-6452-4da6-84bc-46880ca80beb:  18%|#7        | 3.67MB / 20.8MB            "
      ]
     },
     "metadata": {},
     "output_type": "display_data"
    },
    {
     "name": "stdout",
     "output_type": "stream",
     "text": [
      "path_in_repo data/validation/20250904_153035_00111_fpssy_ff315013-ce8d-418c-a0a4-fd35c9df1c46.parquet\n"
     ]
    },
    {
     "data": {
      "application/vnd.jupyter.widget-view+json": {
       "model_id": "35315aff2ac3431dba56c415054c397f",
       "version_major": 2,
       "version_minor": 0
      },
      "text/plain": [
       "Processing Files (0 / 0)                : |          |  0.00B /  0.00B            "
      ]
     },
     "metadata": {},
     "output_type": "display_data"
    },
    {
     "data": {
      "application/vnd.jupyter.widget-view+json": {
       "model_id": "0be32ddbd07840ccbd63afaa325393e2",
       "version_major": 2,
       "version_minor": 0
      },
      "text/plain": [
       "New Data Upload                         : |          |  0.00B /  0.00B            "
      ]
     },
     "metadata": {},
     "output_type": "display_data"
    },
    {
     "data": {
      "application/vnd.jupyter.widget-view+json": {
       "model_id": "753811624a344e7da8c5ffe703ca255d",
       "version_major": 2,
       "version_minor": 0
      },
      "text/plain": [
       "  ...f315013-ce8d-418c-a0a4-fd35c9df1c46:  19%|#9        | 3.67MB / 19.2MB            "
      ]
     },
     "metadata": {},
     "output_type": "display_data"
    },
    {
     "name": "stdout",
     "output_type": "stream",
     "text": [
      " :: END subset: validation | since_start: 16.0 minutes, 12.61 seconds | since_last: 4.0 minutes, 54.79 seconds :: \n"
     ]
    }
   ],
   "source": [
    "import boto3\n",
    "import os\n",
    "from pathlib import Path\n",
    "import time\n",
    "\n",
    "s3_client = boto3.client('s3')\n",
    "bucket_name = 'sagemaker-research-methodology-extraction'\n",
    "timelogger = utils.TimeLogger()\n",
    "destination_dataset = 'SteveAKopias/SemanticScholarCSFullTextWithOpenAlexTopics'\n",
    "for subset in ['train', 'test', 'validation']:\n",
    "    timelogger.log(f'START subset: {subset}')\n",
    "    s3_folder_prefix = f'01_data/03_core/unified_works_{subset}'\n",
    "    local_download_path = 'temp_files'\n",
    "    utils.ensure_path(local_download_path)\n",
    "\n",
    "    paginator = s3_client.get_paginator('list_objects_v2')\n",
    "    file_entry_pages = paginator.paginate(Bucket=bucket_name, Prefix=s3_folder_prefix)\n",
    "\n",
    "    for file_entry_page in file_entry_pages:\n",
    "        if 'Contents' in file_entry_page:\n",
    "            for file_entry in file_entry_page['Contents']:\n",
    "                s3_key = file_entry['Key']\n",
    "                relative_path = Path(s3_key).relative_to(s3_folder_prefix)\n",
    "                path_in_repo = f'data/{subset}/{relative_path}.parquet'\n",
    "                print('path_in_repo', path_in_repo)\n",
    "                local_file_path = Path(local_download_path) / subset / relative_path\n",
    "\n",
    "                local_file_path.parent.mkdir(parents=True, exist_ok=True)\n",
    "                # print('relative_path.resolve()', str(local_file_path.resolve()), type(local_file_path.resolve()))\n",
    "\n",
    "                s3_client.download_file(bucket_name, s3_key, str(local_file_path))\n",
    "                # print(f\"{subset}: Downloaded {s3_key} to {local_file_path}\")\n",
    "                upload_result = upload_file(\n",
    "                    path_or_fileobj=local_file_path,\n",
    "                    path_in_repo=path_in_repo,\n",
    "                    repo_id=destination_dataset,\n",
    "                    repo_type=\"dataset\",\n",
    "                )\n",
    "                # print(f\"{subset}: Uploaded {s3_key} to {path_in_repo}\")\n",
    "                if '/home/sagemaker-user/research_methodology_extraction/src/04_transformation/temp_files/' in str(local_file_path.resolve()):\n",
    "                    os.remove(local_file_path)\n",
    "                    # print(f\"{subset}: Deleted {s3_key} at {local_file_path}\")\n",
    "                time.sleep(10)\n",
    "    timelogger.log(f'END subset: {subset}')"
   ]
  },
  {
   "cell_type": "code",
   "execution_count": null,
   "id": "65b79883-8e77-41ab-8178-457952b2ce1d",
   "metadata": {
    "execution": {
     "iopub.execute_input": "2025-09-04T16:49:09.405063Z",
     "iopub.status.busy": "2025-09-04T16:49:09.404674Z"
    }
   },
   "outputs": [
    {
     "data": {
      "application/vnd.jupyter.widget-view+json": {
       "model_id": "892192399a6c4e00865e2b42d5342299",
       "version_major": 2,
       "version_minor": 0
      },
      "text/plain": [
       "Resolving data files:   0%|          | 0/22 [00:00<?, ?it/s]"
      ]
     },
     "metadata": {},
     "output_type": "display_data"
    },
    {
     "data": {
      "application/vnd.jupyter.widget-view+json": {
       "model_id": "b060b5959755459d9029e0c7ab497cc1",
       "version_major": 2,
       "version_minor": 0
      },
      "text/plain": [
       "Resolving data files:   0%|          | 0/22 [00:00<?, ?it/s]"
      ]
     },
     "metadata": {},
     "output_type": "display_data"
    },
    {
     "data": {
      "application/vnd.jupyter.widget-view+json": {
       "model_id": "7e8abbaf6c8b4b09a379751eee77886c",
       "version_major": 2,
       "version_minor": 0
      },
      "text/plain": [
       "Resolving data files:   0%|          | 0/22 [00:00<?, ?it/s]"
      ]
     },
     "metadata": {},
     "output_type": "display_data"
    },
    {
     "data": {
      "application/vnd.jupyter.widget-view+json": {
       "model_id": "e58b7f33840749b0922b3a30657e6501",
       "version_major": 2,
       "version_minor": 0
      },
      "text/plain": [
       "Downloading data:   0%|          | 0/22 [00:00<?, ?files/s]"
      ]
     },
     "metadata": {},
     "output_type": "display_data"
    },
    {
     "data": {
      "application/vnd.jupyter.widget-view+json": {
       "model_id": "664aa3b1146a418cb259085d4dec53f7",
       "version_major": 2,
       "version_minor": 0
      },
      "text/plain": [
       "Downloading data:   0%|          | 0/22 [00:00<?, ?files/s]"
      ]
     },
     "metadata": {},
     "output_type": "display_data"
    },
    {
     "data": {
      "application/vnd.jupyter.widget-view+json": {
       "model_id": "9d718cd17a7443f2898c6997af3cadd0",
       "version_major": 2,
       "version_minor": 0
      },
      "text/plain": [
       "Downloading data:   0%|          | 0/22 [00:00<?, ?files/s]"
      ]
     },
     "metadata": {},
     "output_type": "display_data"
    },
    {
     "data": {
      "application/vnd.jupyter.widget-view+json": {
       "model_id": "9ed2ac7a171a4a6a9955ea276495b5cc",
       "version_major": 2,
       "version_minor": 0
      },
      "text/plain": [
       "Generating train split: 0 examples [00:00, ? examples/s]"
      ]
     },
     "metadata": {},
     "output_type": "display_data"
    }
   ],
   "source": [
    "from datasets import load_dataset, DatasetDict, Dataset\n",
    "dataset = load_dataset(destination_dataset)\n",
    "dataset"
   ]
  },
  {
   "cell_type": "code",
   "execution_count": null,
   "id": "469a49e5-9181-48e6-9c10-89602a05a989",
   "metadata": {},
   "outputs": [],
   "source": []
  }
 ],
 "metadata": {
  "kernelspec": {
   "display_name": "python_311_2",
   "language": "python",
   "name": "python_311_2"
  },
  "language_info": {
   "codemirror_mode": {
    "name": "ipython",
    "version": 3
   },
   "file_extension": ".py",
   "mimetype": "text/x-python",
   "name": "python",
   "nbconvert_exporter": "python",
   "pygments_lexer": "ipython3",
   "version": "3.11.13"
  }
 },
 "nbformat": 4,
 "nbformat_minor": 5
}
