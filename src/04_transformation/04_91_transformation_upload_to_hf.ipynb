{
 "cells": [
  {
   "cell_type": "code",
   "execution_count": 1,
   "id": "a75e04f7",
   "metadata": {
    "execution": {
     "iopub.execute_input": "2025-09-07T01:21:22.388629Z",
     "iopub.status.busy": "2025-09-07T01:21:22.388356Z",
     "iopub.status.idle": "2025-09-07T01:21:27.873201Z",
     "shell.execute_reply": "2025-09-07T01:21:27.872347Z",
     "shell.execute_reply.started": "2025-09-07T01:21:22.388607Z"
    },
    "nbdime-conflicts": {
     "local_diff": [
      {
       "diff": [
        {
         "diff": [
          {
           "key": 0,
           "op": "addrange",
           "valuelist": [
            "2025-09-05T16:14:47.293970Z"
           ]
          },
          {
           "key": 0,
           "length": 1,
           "op": "removerange"
          }
         ],
         "key": "iopub.execute_input",
         "op": "patch"
        },
        {
         "diff": [
          {
           "key": 0,
           "op": "addrange",
           "valuelist": [
            "2025-09-05T16:14:47.293456Z"
           ]
          },
          {
           "key": 0,
           "length": 1,
           "op": "removerange"
          }
         ],
         "key": "iopub.status.busy",
         "op": "patch"
        },
        {
         "diff": [
          {
           "key": 0,
           "op": "addrange",
           "valuelist": [
            "2025-09-05T16:14:52.971881Z"
           ]
          },
          {
           "key": 0,
           "length": 1,
           "op": "removerange"
          }
         ],
         "key": "iopub.status.idle",
         "op": "patch"
        },
        {
         "diff": [
          {
           "key": 0,
           "length": 1,
           "op": "removerange"
          }
         ],
         "key": "shell.execute_reply",
         "op": "patch"
        },
        {
         "diff": [
          {
           "key": 0,
           "op": "addrange",
           "valuelist": [
            "2025-09-05T16:14:47.293940Z"
           ]
          },
          {
           "key": 0,
           "length": 1,
           "op": "removerange"
          }
         ],
         "key": "shell.execute_reply.started",
         "op": "patch"
        }
       ],
       "key": "execution",
       "op": "patch"
      }
     ],
     "remote_diff": [
      {
       "diff": [
        {
         "diff": [
          {
           "key": 0,
           "op": "addrange",
           "valuelist": [
            "2025-09-04T23:43:32.010233Z"
           ]
          },
          {
           "key": 0,
           "length": 1,
           "op": "removerange"
          }
         ],
         "key": "iopub.execute_input",
         "op": "patch"
        },
        {
         "diff": [
          {
           "key": 0,
           "op": "addrange",
           "valuelist": [
            "2025-09-04T23:43:32.009951Z"
           ]
          },
          {
           "key": 0,
           "length": 1,
           "op": "removerange"
          }
         ],
         "key": "iopub.status.busy",
         "op": "patch"
        },
        {
         "diff": [
          {
           "key": 0,
           "op": "addrange",
           "valuelist": [
            "2025-09-04T23:43:32.021388Z"
           ]
          },
          {
           "key": 0,
           "length": 1,
           "op": "removerange"
          }
         ],
         "key": "iopub.status.idle",
         "op": "patch"
        },
        {
         "diff": [
          {
           "diff": [
            {
             "key": 11,
             "op": "addrange",
             "valuelist": "23:43"
            },
            {
             "key": 11,
             "length": 2,
             "op": "removerange"
            },
            {
             "key": 16,
             "length": 3,
             "op": "removerange"
            },
            {
             "key": 21,
             "op": "addrange",
             "valuelist": "2"
            },
            {
             "key": 23,
             "op": "addrange",
             "valuelist": "11"
            },
            {
             "key": 23,
             "length": 3,
             "op": "removerange"
            }
           ],
           "key": 0,
           "op": "patch"
          }
         ],
         "key": "shell.execute_reply",
         "op": "patch"
        },
        {
         "diff": [
          {
           "key": 0,
           "op": "addrange",
           "valuelist": [
            "2025-09-04T23:43:32.010209Z"
           ]
          },
          {
           "key": 0,
           "length": 1,
           "op": "removerange"
          }
         ],
         "key": "shell.execute_reply.started",
         "op": "patch"
        }
       ],
       "key": "execution",
       "op": "patch"
      }
     ]
    }
   },
   "outputs": [
    {
     "name": "stdout",
     "output_type": "stream",
     "text": [
      "sagemaker.config INFO - Not applying SDK defaults from location: /etc/xdg/sagemaker/config.yaml\n",
      "sagemaker.config INFO - Not applying SDK defaults from location: /home/sagemaker-user/.config/sagemaker/config.yaml\n",
      "config.py loaded: v0.1\n",
      "utils.py loaded: v0.2.12\n",
      "utils.py loaded: v0.2.12\n",
      "config.py loaded: v0.1\n"
     ]
    }
   ],
   "source": [
    "import requests\n",
    "import boto3\n",
    "import json\n",
    "import os\n",
    "import sys\n",
    "import argparse\n",
    "import importlib\n",
    "import transformers\n",
    "import torch\n",
    "import pathlib\n",
    "import awswrangler as wr\n",
    "from IPython.display import display\n",
    "from sagemaker.huggingface.processing import HuggingFaceProcessor\n",
    "from sagemaker.sklearn.processing import SKLearnProcessor\n",
    "from sagemaker.processing import FrameworkProcessor\n",
    "from sagemaker.sklearn.estimator import SKLearn\n",
    "from sagemaker.workflow.steps import ProcessingStep\n",
    "from sagemaker.workflow.pipeline_context import PipelineSession\n",
    "from sagemaker.processing import ProcessingInput, ProcessingOutput\n",
    "from sagemaker.session import get_execution_role\n",
    "from huggingface_hub import create_repo, upload_file, login\n",
    "from tqdm.auto import tqdm\n",
    "import fsspec\n",
    "\n",
    "\n",
    "# Adding ../01_modules or ./01_modules to the system path so that we can load modules from \n",
    "# there as well\n",
    "if '__file__' in globals():\n",
    "    script_dir = pathlib.Path(__file__).parent.resolve()\n",
    "else:\n",
    "    script_dir = pathlib.Path().absolute()\n",
    "modules_path_in_dev = os.path.abspath(os.path.join(script_dir, '..', '01_modules'))\n",
    "modules_path_in_prod = os.path.abspath(os.path.join(script_dir, '01_modules'))\n",
    "if os.path.exists(modules_path_in_dev):\n",
    "    sys.path.append(modules_path_in_dev)\n",
    "if os.path.exists(modules_path_in_prod):\n",
    "    sys.path.append(modules_path_in_prod)\n",
    "\n",
    "\n",
    "# # Jupyter only reads a local module the first time after \n",
    "# # kernel start. Re-running a cell with \n",
    "# # \"from mymodulename import *\" would not change\n",
    "# # anything, even if the imported module has since changed.\n",
    "# # As a workaround, we need to directly load the module, \n",
    "# # use importlib.reload to reload it and then import * \n",
    "import utils\n",
    "_ = importlib.reload(utils)\n",
    "import config\n",
    "_ = importlib.reload(config) \n"
   ]
  },
  {
   "cell_type": "code",
   "execution_count": 2,
   "id": "88819f14",
   "metadata": {
    "execution": {
     "iopub.execute_input": "2025-09-07T01:21:27.874776Z",
     "iopub.status.busy": "2025-09-07T01:21:27.874451Z",
     "iopub.status.idle": "2025-09-07T01:21:27.889774Z",
     "shell.execute_reply": "2025-09-07T01:21:27.888816Z",
     "shell.execute_reply.started": "2025-09-07T01:21:27.874743Z"
    },
    "nbdime-conflicts": {
     "local_diff": [
      {
       "diff": [
        {
         "diff": [
          {
           "key": 0,
           "length": 1,
           "op": "removerange"
          }
         ],
         "key": "iopub.execute_input",
         "op": "patch"
        },
        {
         "diff": [
          {
           "key": 0,
           "length": 1,
           "op": "removerange"
          }
         ],
         "key": "iopub.status.busy",
         "op": "patch"
        },
        {
         "diff": [
          {
           "key": 0,
           "length": 1,
           "op": "removerange"
          }
         ],
         "key": "iopub.status.idle",
         "op": "patch"
        },
        {
         "diff": [
          {
           "key": 0,
           "length": 1,
           "op": "removerange"
          }
         ],
         "key": "shell.execute_reply",
         "op": "patch"
        },
        {
         "diff": [
          {
           "key": 0,
           "length": 1,
           "op": "removerange"
          }
         ],
         "key": "shell.execute_reply.started",
         "op": "patch"
        }
       ],
       "key": "execution",
       "op": "patch"
      }
     ],
     "remote_diff": [
      {
       "diff": [
        {
         "diff": [
          {
           "diff": [
            {
             "key": 9,
             "op": "addrange",
             "valuelist": "4"
            },
            {
             "key": 9,
             "length": 1,
             "op": "removerange"
            },
            {
             "key": 14,
             "op": "addrange",
             "valuelist": "4"
            },
            {
             "key": 15,
             "length": 1,
             "op": "removerange"
            },
            {
             "key": 17,
             "op": "addrange",
             "valuelist": "34"
            },
            {
             "key": 17,
             "length": 2,
             "op": "removerange"
            },
            {
             "key": 22,
             "length": 2,
             "op": "removerange"
            },
            {
             "key": 25,
             "op": "addrange",
             "valuelist": "117"
            },
            {
             "key": 25,
             "length": 1,
             "op": "removerange"
            }
           ],
           "key": 0,
           "op": "patch"
          }
         ],
         "key": "iopub.execute_input",
         "op": "patch"
        },
        {
         "diff": [
          {
           "diff": [
            {
             "key": 9,
             "op": "addrange",
             "valuelist": "4"
            },
            {
             "key": 9,
             "length": 1,
             "op": "removerange"
            },
            {
             "key": 14,
             "op": "addrange",
             "valuelist": "4"
            },
            {
             "key": 15,
             "length": 1,
             "op": "removerange"
            },
            {
             "key": 17,
             "op": "addrange",
             "valuelist": "34"
            },
            {
             "key": 17,
             "length": 2,
             "op": "removerange"
            },
            {
             "key": 21,
             "op": "addrange",
             "valuelist": "528"
            },
            {
             "key": 23,
             "length": 3,
             "op": "removerange"
            }
           ],
           "key": 0,
           "op": "patch"
          }
         ],
         "key": "iopub.status.busy",
         "op": "patch"
        },
        {
         "diff": [
          {
           "diff": [
            {
             "key": 9,
             "op": "addrange",
             "valuelist": "4"
            },
            {
             "key": 9,
             "length": 1,
             "op": "removerange"
            },
            {
             "key": 14,
             "op": "addrange",
             "valuelist": "4"
            },
            {
             "key": 15,
             "length": 1,
             "op": "removerange"
            },
            {
             "key": 17,
             "op": "addrange",
             "valuelist": "34"
            },
            {
             "key": 17,
             "length": 2,
             "op": "removerange"
            },
            {
             "key": 23,
             "op": "addrange",
             "valuelist": "161"
            },
            {
             "key": 23,
             "length": 3,
             "op": "removerange"
            }
           ],
           "key": 0,
           "op": "patch"
          }
         ],
         "key": "iopub.status.idle",
         "op": "patch"
        },
        {
         "diff": [
          {
           "diff": [
            {
             "key": 9,
             "op": "addrange",
             "valuelist": "4"
            },
            {
             "key": 9,
             "length": 1,
             "op": "removerange"
            },
            {
             "key": 14,
             "op": "addrange",
             "valuelist": "4"
            },
            {
             "key": 15,
             "length": 1,
             "op": "removerange"
            },
            {
             "key": 17,
             "op": "addrange",
             "valuelist": "34"
            },
            {
             "key": 17,
             "length": 2,
             "op": "removerange"
            },
            {
             "key": 23,
             "op": "addrange",
             "valuelist": "481"
            },
            {
             "key": 23,
             "length": 3,
             "op": "removerange"
            }
           ],
           "key": 0,
           "op": "patch"
          }
         ],
         "key": "shell.execute_reply",
         "op": "patch"
        },
        {
         "diff": [
          {
           "diff": [
            {
             "key": 9,
             "op": "addrange",
             "valuelist": "4"
            },
            {
             "key": 9,
             "length": 1,
             "op": "removerange"
            },
            {
             "key": 14,
             "op": "addrange",
             "valuelist": "4"
            },
            {
             "key": 15,
             "length": 1,
             "op": "removerange"
            },
            {
             "key": 17,
             "op": "addrange",
             "valuelist": "34"
            },
            {
             "key": 17,
             "length": 2,
             "op": "removerange"
            },
            {
             "key": 22,
             "op": "addrange",
             "valuelist": "3"
            },
            {
             "key": 23,
             "op": "addrange",
             "valuelist": "96"
            },
            {
             "key": 23,
             "length": 3,
             "op": "removerange"
            }
           ],
           "key": 0,
           "op": "patch"
          }
         ],
         "key": "shell.execute_reply.started",
         "op": "patch"
        }
       ],
       "key": "execution",
       "op": "patch"
      }
     ]
    }
   },
   "outputs": [
    {
     "data": {
      "application/vnd.jupyter.widget-view+json": {
       "model_id": "91319c0ca6a246f5ae139339e11e739f",
       "version_major": 2,
       "version_minor": 0
      },
      "text/plain": [
       "VBox(children=(HTML(value='<center> <img\\nsrc=https://huggingface.co/front/assets/huggingface_logo-noborder.sv…"
      ]
     },
     "metadata": {},
     "output_type": "display_data"
    }
   ],
   "source": [
    "login()"
   ]
  },
  {
   "cell_type": "code",
   "execution_count": 8,
   "id": "53eedcea",
   "metadata": {
    "execution": {
     "iopub.execute_input": "2025-09-04T23:43:54.210430Z",
     "iopub.status.busy": "2025-09-04T23:43:54.210164Z",
     "iopub.status.idle": "2025-09-04T23:43:54.214212Z",
     "shell.execute_reply": "2025-09-04T23:43:54.213425Z",
     "shell.execute_reply.started": "2025-09-04T23:43:54.210409Z"
    },
    "scrolled": true
   },
   "outputs": [],
   "source": [
    "_ = \"\"\"\n",
    "fs = fsspec.filesystem('s3')  # s3 / gcs / abfs / adl / oci / ...\n",
    "subset = 'test'\n",
    "data_dir = f's3://sagemaker-research-methodology-extraction/01_data/03_core/unified_works_{subset}/'\n",
    "pattern = '*'\n",
    "data_files = fs.glob(data_dir + pattern)\n",
    "\n",
    "utils.ensure_path('temp_files')\n",
    "# create_repo(destination_dataset, repo_type='dataset')\n",
    "for data_file in tqdm(fs.glob(data_dir + pattern)):\n",
    "    with fs.open(data_file, 'rb') as fileobj:\n",
    "        path_in_repo = f'data/{subset}/{data_file[len(data_dir):]}'\n",
    "        print(path_in_repo, type(fileobj))\n",
    "        upload_file(\n",
    "            path_or_fileobj=fileobj,\n",
    "            path_in_repo=path_in_repo,\n",
    "            repo_id=destination_dataset,\n",
    "            repo_type=\"dataset\",\n",
    "        )\n",
    "\"\"\""
   ]
  },
  {
   "cell_type": "code",
   "execution_count": 9,
   "id": "926b4a3c",
   "metadata": {
    "execution": {
     "iopub.execute_input": "2025-09-04T23:43:56.731634Z",
     "iopub.status.busy": "2025-09-04T23:43:56.731343Z",
     "iopub.status.idle": "2025-09-04T23:43:56.734685Z",
     "shell.execute_reply": "2025-09-04T23:43:56.734072Z",
     "shell.execute_reply.started": "2025-09-04T23:43:56.731597Z"
    }
   },
   "outputs": [],
   "source": [
    "_ = \"\"\"\n",
    "import smart_open\n",
    "\n",
    "bucket = 'sagemaker-research-methodology-extraction'\n",
    "subset = 'test'\n",
    "data_dir = f's3://sagemaker-research-methodology-extraction/01_data/03_core/unified_works_{subset}/'\n",
    "for key, content in s3.iter_bucket(bucket, prefix=data_dir, workers=8):\n",
    "\"\"\""
   ]
  },
  {
   "cell_type": "code",
   "execution_count": 10,
   "id": "dc81d5c4",
   "metadata": {
    "execution": {
     "iopub.execute_input": "2025-09-04T23:44:12.204747Z",
     "iopub.status.busy": "2025-09-04T23:44:12.204483Z",
     "iopub.status.idle": "2025-09-05T00:00:14.162976Z",
     "shell.execute_reply": "2025-09-05T00:00:14.162404Z",
     "shell.execute_reply.started": "2025-09-04T23:44:12.204727Z"
    },
    "scrolled": true
   },
   "outputs": [
    {
     "name": "stdout",
     "output_type": "stream",
     "text": [
      " :: :: TIMELOGGER STARTED :: | since_start: 0.00 seconds | since_last: 0.00 seconds :: \n",
      " :: START subset: train | since_start: 0.00 seconds | since_last: 0.00 seconds :: \n",
      "ensure_path(temp_files)\n",
      "path_in_repo data/train/20250904_234024_00199_vpvv2_03ed3d45-472c-46a2-89d2-f53707dacbe5.parquet\n"
     ]
    },
    {
     "data": {
      "application/vnd.jupyter.widget-view+json": {
       "model_id": "cc8af520622a4e36b5a73317ccd4603e",
       "version_major": 2,
       "version_minor": 0
      },
      "text/plain": [
       "Processing Files (0 / 0)                : |          |  0.00B /  0.00B            "
      ]
     },
     "metadata": {},
     "output_type": "display_data"
    },
    {
     "data": {
      "application/vnd.jupyter.widget-view+json": {
       "model_id": "0539cfa84fb24832a92e8fada12add4e",
       "version_major": 2,
       "version_minor": 0
      },
      "text/plain": [
       "New Data Upload                         : |          |  0.00B /  0.00B            "
      ]
     },
     "metadata": {},
     "output_type": "display_data"
    },
    {
     "data": {
      "application/vnd.jupyter.widget-view+json": {
       "model_id": "e5d9c67aeea444a99de8d29d3d8c2c43",
       "version_major": 2,
       "version_minor": 0
      },
      "text/plain": [
       "  ...3ed3d45-472c-46a2-89d2-f53707dacbe5:   0%|          |  524kB /  154MB            "
      ]
     },
     "metadata": {},
     "output_type": "display_data"
    },
    {
     "name": "stdout",
     "output_type": "stream",
     "text": [
      "path_in_repo data/train/20250904_234024_00199_vpvv2_04d8da34-f1d0-4570-9f40-9d5aef04cc2f.parquet\n"
     ]
    },
    {
     "data": {
      "application/vnd.jupyter.widget-view+json": {
       "model_id": "40698d0ac0384597beb64a3a8c792e2a",
       "version_major": 2,
       "version_minor": 0
      },
      "text/plain": [
       "Processing Files (0 / 0)                : |          |  0.00B /  0.00B            "
      ]
     },
     "metadata": {},
     "output_type": "display_data"
    },
    {
     "data": {
      "application/vnd.jupyter.widget-view+json": {
       "model_id": "2e1f8a48ceb040d486eabef62b4f0f45",
       "version_major": 2,
       "version_minor": 0
      },
      "text/plain": [
       "New Data Upload                         : |          |  0.00B /  0.00B            "
      ]
     },
     "metadata": {},
     "output_type": "display_data"
    },
    {
     "data": {
      "application/vnd.jupyter.widget-view+json": {
       "model_id": "2e288bc4db7f4dd8b28cb0f52a5cc4b4",
       "version_major": 2,
       "version_minor": 0
      },
      "text/plain": [
       "  ...4d8da34-f1d0-4570-9f40-9d5aef04cc2f:   2%|2         | 3.67MB /  155MB            "
      ]
     },
     "metadata": {},
     "output_type": "display_data"
    },
    {
     "name": "stdout",
     "output_type": "stream",
     "text": [
      "path_in_repo data/train/20250904_234024_00199_vpvv2_053fac04-dd34-4aef-95d6-04b34fcbf590.parquet\n"
     ]
    },
    {
     "data": {
      "application/vnd.jupyter.widget-view+json": {
       "model_id": "debbb7fcdc6f4a9e80089b8f6f1fc004",
       "version_major": 2,
       "version_minor": 0
      },
      "text/plain": [
       "Processing Files (0 / 0)                : |          |  0.00B /  0.00B            "
      ]
     },
     "metadata": {},
     "output_type": "display_data"
    },
    {
     "data": {
      "application/vnd.jupyter.widget-view+json": {
       "model_id": "c14710ec7b0443479f5ac545b681e3e6",
       "version_major": 2,
       "version_minor": 0
      },
      "text/plain": [
       "New Data Upload                         : |          |  0.00B /  0.00B            "
      ]
     },
     "metadata": {},
     "output_type": "display_data"
    },
    {
     "data": {
      "application/vnd.jupyter.widget-view+json": {
       "model_id": "ed9cbfaa401f49d98bbc2905d4e6cd0d",
       "version_major": 2,
       "version_minor": 0
      },
      "text/plain": [
       "  ...53fac04-dd34-4aef-95d6-04b34fcbf590:   2%|2         | 3.67MB /  157MB            "
      ]
     },
     "metadata": {},
     "output_type": "display_data"
    },
    {
     "name": "stdout",
     "output_type": "stream",
     "text": [
      "path_in_repo data/train/20250904_234024_00199_vpvv2_0fb7ddc7-15e1-46c2-8764-ba9b062e31dc.parquet\n"
     ]
    },
    {
     "data": {
      "application/vnd.jupyter.widget-view+json": {
       "model_id": "b7960cc77e684e6b94829b42ba6507c1",
       "version_major": 2,
       "version_minor": 0
      },
      "text/plain": [
       "Processing Files (0 / 0)                : |          |  0.00B /  0.00B            "
      ]
     },
     "metadata": {},
     "output_type": "display_data"
    },
    {
     "data": {
      "application/vnd.jupyter.widget-view+json": {
       "model_id": "c9d6e2ee6a6a4dbea8db780b863a6c9a",
       "version_major": 2,
       "version_minor": 0
      },
      "text/plain": [
       "New Data Upload                         : |          |  0.00B /  0.00B            "
      ]
     },
     "metadata": {},
     "output_type": "display_data"
    },
    {
     "data": {
      "application/vnd.jupyter.widget-view+json": {
       "model_id": "74704a82a4f74cb789b193aac3b5f055",
       "version_major": 2,
       "version_minor": 0
      },
      "text/plain": [
       "  ...fb7ddc7-15e1-46c2-8764-ba9b062e31dc:   2%|2         | 3.67MB /  158MB            "
      ]
     },
     "metadata": {},
     "output_type": "display_data"
    },
    {
     "name": "stdout",
     "output_type": "stream",
     "text": [
      "path_in_repo data/train/20250904_234024_00199_vpvv2_15f74530-b14c-45b3-9880-39d5720074b4.parquet\n"
     ]
    },
    {
     "data": {
      "application/vnd.jupyter.widget-view+json": {
       "model_id": "495ad804e4c642999464d5df72b62b4e",
       "version_major": 2,
       "version_minor": 0
      },
      "text/plain": [
       "Processing Files (0 / 0)                : |          |  0.00B /  0.00B            "
      ]
     },
     "metadata": {},
     "output_type": "display_data"
    },
    {
     "data": {
      "application/vnd.jupyter.widget-view+json": {
       "model_id": "a804000994444f3ebd6afa7f851af44a",
       "version_major": 2,
       "version_minor": 0
      },
      "text/plain": [
       "New Data Upload                         : |          |  0.00B /  0.00B            "
      ]
     },
     "metadata": {},
     "output_type": "display_data"
    },
    {
     "data": {
      "application/vnd.jupyter.widget-view+json": {
       "model_id": "63a8184551e74af4815bc130d6f3ea91",
       "version_major": 2,
       "version_minor": 0
      },
      "text/plain": [
       "  ...5f74530-b14c-45b3-9880-39d5720074b4:   2%|2         | 3.67MB /  155MB            "
      ]
     },
     "metadata": {},
     "output_type": "display_data"
    },
    {
     "name": "stdout",
     "output_type": "stream",
     "text": [
      "path_in_repo data/train/20250904_234024_00199_vpvv2_3949d684-e65e-42d5-9976-4fbd9f48090d.parquet\n"
     ]
    },
    {
     "data": {
      "application/vnd.jupyter.widget-view+json": {
       "model_id": "79cc7c3c7ebd47b5b3b7f36906d92b2d",
       "version_major": 2,
       "version_minor": 0
      },
      "text/plain": [
       "Processing Files (0 / 0)                : |          |  0.00B /  0.00B            "
      ]
     },
     "metadata": {},
     "output_type": "display_data"
    },
    {
     "data": {
      "application/vnd.jupyter.widget-view+json": {
       "model_id": "16d06bf1294646fe8ca1a5dbfa7b3c97",
       "version_major": 2,
       "version_minor": 0
      },
      "text/plain": [
       "New Data Upload                         : |          |  0.00B /  0.00B            "
      ]
     },
     "metadata": {},
     "output_type": "display_data"
    },
    {
     "data": {
      "application/vnd.jupyter.widget-view+json": {
       "model_id": "2b16570c3aa84d5eb40f7903bf0735fd",
       "version_major": 2,
       "version_minor": 0
      },
      "text/plain": [
       "  ...949d684-e65e-42d5-9976-4fbd9f48090d:   2%|2         | 3.67MB /  157MB            "
      ]
     },
     "metadata": {},
     "output_type": "display_data"
    },
    {
     "name": "stdout",
     "output_type": "stream",
     "text": [
      "path_in_repo data/train/20250904_234024_00199_vpvv2_3b922df1-ccbf-4853-9b31-d58de8130ed9.parquet\n"
     ]
    },
    {
     "data": {
      "application/vnd.jupyter.widget-view+json": {
       "model_id": "7b06811533d24533a42b29b3c25192cc",
       "version_major": 2,
       "version_minor": 0
      },
      "text/plain": [
       "Processing Files (0 / 0)                : |          |  0.00B /  0.00B            "
      ]
     },
     "metadata": {},
     "output_type": "display_data"
    },
    {
     "data": {
      "application/vnd.jupyter.widget-view+json": {
       "model_id": "1a5099dbfd4d43ca95cd204656f91830",
       "version_major": 2,
       "version_minor": 0
      },
      "text/plain": [
       "New Data Upload                         : |          |  0.00B /  0.00B            "
      ]
     },
     "metadata": {},
     "output_type": "display_data"
    },
    {
     "data": {
      "application/vnd.jupyter.widget-view+json": {
       "model_id": "394ec6669b644c159d0d9644a9bffcdd",
       "version_major": 2,
       "version_minor": 0
      },
      "text/plain": [
       "  ...b922df1-ccbf-4853-9b31-d58de8130ed9:   2%|2         | 3.67MB /  166MB            "
      ]
     },
     "metadata": {},
     "output_type": "display_data"
    },
    {
     "name": "stdout",
     "output_type": "stream",
     "text": [
      "path_in_repo data/train/20250904_234024_00199_vpvv2_6038e1cf-eb4e-4e8a-8a76-38bc943a82a5.parquet\n"
     ]
    },
    {
     "data": {
      "application/vnd.jupyter.widget-view+json": {
       "model_id": "442cfa09497848ce8e1703bd1455ff1a",
       "version_major": 2,
       "version_minor": 0
      },
      "text/plain": [
       "Processing Files (0 / 0)                : |          |  0.00B /  0.00B            "
      ]
     },
     "metadata": {},
     "output_type": "display_data"
    },
    {
     "data": {
      "application/vnd.jupyter.widget-view+json": {
       "model_id": "c9fe1e66ce8940039d6140952eaf0846",
       "version_major": 2,
       "version_minor": 0
      },
      "text/plain": [
       "New Data Upload                         : |          |  0.00B /  0.00B            "
      ]
     },
     "metadata": {},
     "output_type": "display_data"
    },
    {
     "data": {
      "application/vnd.jupyter.widget-view+json": {
       "model_id": "c730fb67a3f3454f9ff5614c50927e65",
       "version_major": 2,
       "version_minor": 0
      },
      "text/plain": [
       "  ...038e1cf-eb4e-4e8a-8a76-38bc943a82a5:   2%|2         | 3.67MB /  160MB            "
      ]
     },
     "metadata": {},
     "output_type": "display_data"
    },
    {
     "name": "stdout",
     "output_type": "stream",
     "text": [
      "path_in_repo data/train/20250904_234024_00199_vpvv2_759e7a36-104b-498f-b3e5-46dab315e706.parquet\n"
     ]
    },
    {
     "data": {
      "application/vnd.jupyter.widget-view+json": {
       "model_id": "62aa7c9da1c74549ac8d4663a7a4631f",
       "version_major": 2,
       "version_minor": 0
      },
      "text/plain": [
       "Processing Files (0 / 0)                : |          |  0.00B /  0.00B            "
      ]
     },
     "metadata": {},
     "output_type": "display_data"
    },
    {
     "data": {
      "application/vnd.jupyter.widget-view+json": {
       "model_id": "f2ad9dd7fd8a49d5a9679365dc07abf5",
       "version_major": 2,
       "version_minor": 0
      },
      "text/plain": [
       "New Data Upload                         : |          |  0.00B /  0.00B            "
      ]
     },
     "metadata": {},
     "output_type": "display_data"
    },
    {
     "data": {
      "application/vnd.jupyter.widget-view+json": {
       "model_id": "1ea902adda1243228cff673585188f4a",
       "version_major": 2,
       "version_minor": 0
      },
      "text/plain": [
       "  ...59e7a36-104b-498f-b3e5-46dab315e706:   2%|2         | 3.67MB /  165MB            "
      ]
     },
     "metadata": {},
     "output_type": "display_data"
    },
    {
     "name": "stdout",
     "output_type": "stream",
     "text": [
      "path_in_repo data/train/20250904_234024_00199_vpvv2_7f04693e-0341-4cd0-9f3a-6fdc0570470d.parquet\n"
     ]
    },
    {
     "data": {
      "application/vnd.jupyter.widget-view+json": {
       "model_id": "04a5ee9872bf4ac7ab6505cff23a98bb",
       "version_major": 2,
       "version_minor": 0
      },
      "text/plain": [
       "Processing Files (0 / 0)                : |          |  0.00B /  0.00B            "
      ]
     },
     "metadata": {},
     "output_type": "display_data"
    },
    {
     "data": {
      "application/vnd.jupyter.widget-view+json": {
       "model_id": "20131c200c704887bcc53453fdfaf600",
       "version_major": 2,
       "version_minor": 0
      },
      "text/plain": [
       "New Data Upload                         : |          |  0.00B /  0.00B            "
      ]
     },
     "metadata": {},
     "output_type": "display_data"
    },
    {
     "data": {
      "application/vnd.jupyter.widget-view+json": {
       "model_id": "b333e4718e3b430c86e6bc54371607bb",
       "version_major": 2,
       "version_minor": 0
      },
      "text/plain": [
       "  ...f04693e-0341-4cd0-9f3a-6fdc0570470d:   2%|2         | 3.67MB /  158MB            "
      ]
     },
     "metadata": {},
     "output_type": "display_data"
    },
    {
     "name": "stdout",
     "output_type": "stream",
     "text": [
      "path_in_repo data/train/20250904_234024_00199_vpvv2_82628148-b844-4de2-b0cf-4d1ebab730a5.parquet\n"
     ]
    },
    {
     "data": {
      "application/vnd.jupyter.widget-view+json": {
       "model_id": "7f499a9a4a23405287a72b49a10e0561",
       "version_major": 2,
       "version_minor": 0
      },
      "text/plain": [
       "Processing Files (0 / 0)                : |          |  0.00B /  0.00B            "
      ]
     },
     "metadata": {},
     "output_type": "display_data"
    },
    {
     "data": {
      "application/vnd.jupyter.widget-view+json": {
       "model_id": "fa7b64b0ca9545928f72e8371b072cb2",
       "version_major": 2,
       "version_minor": 0
      },
      "text/plain": [
       "New Data Upload                         : |          |  0.00B /  0.00B            "
      ]
     },
     "metadata": {},
     "output_type": "display_data"
    },
    {
     "data": {
      "application/vnd.jupyter.widget-view+json": {
       "model_id": "20f6429c360e4edeb40d026b5d4831e7",
       "version_major": 2,
       "version_minor": 0
      },
      "text/plain": [
       "  ...2628148-b844-4de2-b0cf-4d1ebab730a5:   2%|2         | 3.67MB /  157MB            "
      ]
     },
     "metadata": {},
     "output_type": "display_data"
    },
    {
     "name": "stdout",
     "output_type": "stream",
     "text": [
      "path_in_repo data/train/20250904_234024_00199_vpvv2_98e7da39-504f-4845-a204-98467490112b.parquet\n"
     ]
    },
    {
     "data": {
      "application/vnd.jupyter.widget-view+json": {
       "model_id": "6b9b420567194ebebb4823dbf0f2c7c6",
       "version_major": 2,
       "version_minor": 0
      },
      "text/plain": [
       "Processing Files (0 / 0)                : |          |  0.00B /  0.00B            "
      ]
     },
     "metadata": {},
     "output_type": "display_data"
    },
    {
     "data": {
      "application/vnd.jupyter.widget-view+json": {
       "model_id": "130a5e2659af4042a7293d38bb37f1d7",
       "version_major": 2,
       "version_minor": 0
      },
      "text/plain": [
       "New Data Upload                         : |          |  0.00B /  0.00B            "
      ]
     },
     "metadata": {},
     "output_type": "display_data"
    },
    {
     "data": {
      "application/vnd.jupyter.widget-view+json": {
       "model_id": "5564c3fa32e54917a2e9333df6bb2c35",
       "version_major": 2,
       "version_minor": 0
      },
      "text/plain": [
       "  ...8e7da39-504f-4845-a204-98467490112b:   2%|2         | 3.67MB /  158MB            "
      ]
     },
     "metadata": {},
     "output_type": "display_data"
    },
    {
     "name": "stdout",
     "output_type": "stream",
     "text": [
      "path_in_repo data/train/20250904_234024_00199_vpvv2_995cdbf0-6025-44de-836b-13160d13cfe8.parquet\n"
     ]
    },
    {
     "data": {
      "application/vnd.jupyter.widget-view+json": {
       "model_id": "95b51c1306a04191b99b7fe70b748da8",
       "version_major": 2,
       "version_minor": 0
      },
      "text/plain": [
       "Processing Files (0 / 0)                : |          |  0.00B /  0.00B            "
      ]
     },
     "metadata": {},
     "output_type": "display_data"
    },
    {
     "data": {
      "application/vnd.jupyter.widget-view+json": {
       "model_id": "81e9de6ac8ab4756ae2a82bd54b6ee85",
       "version_major": 2,
       "version_minor": 0
      },
      "text/plain": [
       "New Data Upload                         : |          |  0.00B /  0.00B            "
      ]
     },
     "metadata": {},
     "output_type": "display_data"
    },
    {
     "data": {
      "application/vnd.jupyter.widget-view+json": {
       "model_id": "aff433ed220d48aabf8b4cb2482f5456",
       "version_major": 2,
       "version_minor": 0
      },
      "text/plain": [
       "  ...95cdbf0-6025-44de-836b-13160d13cfe8:   0%|          |  131kB /  155MB            "
      ]
     },
     "metadata": {},
     "output_type": "display_data"
    },
    {
     "name": "stdout",
     "output_type": "stream",
     "text": [
      "path_in_repo data/train/20250904_234024_00199_vpvv2_a196f10b-1288-46df-a3c8-e1ccc6394036.parquet\n"
     ]
    },
    {
     "data": {
      "application/vnd.jupyter.widget-view+json": {
       "model_id": "97e4c2e498d4477299816a4b5abd54cf",
       "version_major": 2,
       "version_minor": 0
      },
      "text/plain": [
       "Processing Files (0 / 0)                : |          |  0.00B /  0.00B            "
      ]
     },
     "metadata": {},
     "output_type": "display_data"
    },
    {
     "data": {
      "application/vnd.jupyter.widget-view+json": {
       "model_id": "ca48156a485a41ea8bb9f303edfa5d9a",
       "version_major": 2,
       "version_minor": 0
      },
      "text/plain": [
       "New Data Upload                         : |          |  0.00B /  0.00B            "
      ]
     },
     "metadata": {},
     "output_type": "display_data"
    },
    {
     "data": {
      "application/vnd.jupyter.widget-view+json": {
       "model_id": "f942f9fd3c2f4a7c86f18603ab00f85a",
       "version_major": 2,
       "version_minor": 0
      },
      "text/plain": [
       "  ...196f10b-1288-46df-a3c8-e1ccc6394036:   2%|2         | 3.67MB /  157MB            "
      ]
     },
     "metadata": {},
     "output_type": "display_data"
    },
    {
     "name": "stdout",
     "output_type": "stream",
     "text": [
      "path_in_repo data/train/20250904_234024_00199_vpvv2_a7713f50-59d2-47e9-a384-436450090f9f.parquet\n"
     ]
    },
    {
     "data": {
      "application/vnd.jupyter.widget-view+json": {
       "model_id": "af159fac53f647d286d3a2bcd165954b",
       "version_major": 2,
       "version_minor": 0
      },
      "text/plain": [
       "Processing Files (0 / 0)                : |          |  0.00B /  0.00B            "
      ]
     },
     "metadata": {},
     "output_type": "display_data"
    },
    {
     "data": {
      "application/vnd.jupyter.widget-view+json": {
       "model_id": "cdabaa009b4d4ddbb0f2a02798162759",
       "version_major": 2,
       "version_minor": 0
      },
      "text/plain": [
       "New Data Upload                         : |          |  0.00B /  0.00B            "
      ]
     },
     "metadata": {},
     "output_type": "display_data"
    },
    {
     "data": {
      "application/vnd.jupyter.widget-view+json": {
       "model_id": "6c39e779d6ee4836a1e964450549ed55",
       "version_major": 2,
       "version_minor": 0
      },
      "text/plain": [
       "  ...7713f50-59d2-47e9-a384-436450090f9f:   2%|2         | 3.67MB /  157MB            "
      ]
     },
     "metadata": {},
     "output_type": "display_data"
    },
    {
     "name": "stdout",
     "output_type": "stream",
     "text": [
      "path_in_repo data/train/20250904_234024_00199_vpvv2_a963ac94-b644-49e3-9b60-1ac02ea4406d.parquet\n"
     ]
    },
    {
     "data": {
      "application/vnd.jupyter.widget-view+json": {
       "model_id": "c1f03f723d934eca998fbc228acb6e7a",
       "version_major": 2,
       "version_minor": 0
      },
      "text/plain": [
       "Processing Files (0 / 0)                : |          |  0.00B /  0.00B            "
      ]
     },
     "metadata": {},
     "output_type": "display_data"
    },
    {
     "data": {
      "application/vnd.jupyter.widget-view+json": {
       "model_id": "d755cdbf31424baa8d0954f8f3df3f35",
       "version_major": 2,
       "version_minor": 0
      },
      "text/plain": [
       "New Data Upload                         : |          |  0.00B /  0.00B            "
      ]
     },
     "metadata": {},
     "output_type": "display_data"
    },
    {
     "data": {
      "application/vnd.jupyter.widget-view+json": {
       "model_id": "53d459abdf8c4ea19647dac736651a48",
       "version_major": 2,
       "version_minor": 0
      },
      "text/plain": [
       "  ...963ac94-b644-49e3-9b60-1ac02ea4406d:   2%|2         | 3.67MB /  155MB            "
      ]
     },
     "metadata": {},
     "output_type": "display_data"
    },
    {
     "name": "stdout",
     "output_type": "stream",
     "text": [
      "path_in_repo data/train/20250904_234024_00199_vpvv2_ba800907-5676-4d28-aee3-bd8e294f1019.parquet\n"
     ]
    },
    {
     "data": {
      "application/vnd.jupyter.widget-view+json": {
       "model_id": "d55dcb92a6124fa99c0b8b95dcdcf015",
       "version_major": 2,
       "version_minor": 0
      },
      "text/plain": [
       "Processing Files (0 / 0)                : |          |  0.00B /  0.00B            "
      ]
     },
     "metadata": {},
     "output_type": "display_data"
    },
    {
     "data": {
      "application/vnd.jupyter.widget-view+json": {
       "model_id": "323fe529ccdf4719bdff74cccae3a6d0",
       "version_major": 2,
       "version_minor": 0
      },
      "text/plain": [
       "New Data Upload                         : |          |  0.00B /  0.00B            "
      ]
     },
     "metadata": {},
     "output_type": "display_data"
    },
    {
     "data": {
      "application/vnd.jupyter.widget-view+json": {
       "model_id": "8e120db9ce3b4d7e85263f7d5bbc1233",
       "version_major": 2,
       "version_minor": 0
      },
      "text/plain": [
       "  ...a800907-5676-4d28-aee3-bd8e294f1019:   2%|2         | 3.67MB /  158MB            "
      ]
     },
     "metadata": {},
     "output_type": "display_data"
    },
    {
     "name": "stdout",
     "output_type": "stream",
     "text": [
      "path_in_repo data/train/20250904_234024_00199_vpvv2_be15828a-e778-4125-8d14-7c647535756a.parquet\n"
     ]
    },
    {
     "data": {
      "application/vnd.jupyter.widget-view+json": {
       "model_id": "65bf57b704b04c87b9c5bd1ca4f3375d",
       "version_major": 2,
       "version_minor": 0
      },
      "text/plain": [
       "Processing Files (0 / 0)                : |          |  0.00B /  0.00B            "
      ]
     },
     "metadata": {},
     "output_type": "display_data"
    },
    {
     "data": {
      "application/vnd.jupyter.widget-view+json": {
       "model_id": "d55f1932f76249ed908825906ecb888e",
       "version_major": 2,
       "version_minor": 0
      },
      "text/plain": [
       "New Data Upload                         : |          |  0.00B /  0.00B            "
      ]
     },
     "metadata": {},
     "output_type": "display_data"
    },
    {
     "data": {
      "application/vnd.jupyter.widget-view+json": {
       "model_id": "9726653da23540e9abdf8fd5e08b005f",
       "version_major": 2,
       "version_minor": 0
      },
      "text/plain": [
       "  ...e15828a-e778-4125-8d14-7c647535756a:   2%|2         | 3.67MB /  157MB            "
      ]
     },
     "metadata": {},
     "output_type": "display_data"
    },
    {
     "name": "stdout",
     "output_type": "stream",
     "text": [
      "path_in_repo data/train/20250904_234024_00199_vpvv2_c5183ca4-55fa-4c8f-87ef-e593ca4c573e.parquet\n"
     ]
    },
    {
     "data": {
      "application/vnd.jupyter.widget-view+json": {
       "model_id": "755a63eb373e431cb430dd4f68bbb682",
       "version_major": 2,
       "version_minor": 0
      },
      "text/plain": [
       "Processing Files (0 / 0)                : |          |  0.00B /  0.00B            "
      ]
     },
     "metadata": {},
     "output_type": "display_data"
    },
    {
     "data": {
      "application/vnd.jupyter.widget-view+json": {
       "model_id": "1b0df4fb9f984a1caabff708027927f9",
       "version_major": 2,
       "version_minor": 0
      },
      "text/plain": [
       "New Data Upload                         : |          |  0.00B /  0.00B            "
      ]
     },
     "metadata": {},
     "output_type": "display_data"
    },
    {
     "data": {
      "application/vnd.jupyter.widget-view+json": {
       "model_id": "48073aaa168946edb4b46531f14b715b",
       "version_major": 2,
       "version_minor": 0
      },
      "text/plain": [
       "  ...5183ca4-55fa-4c8f-87ef-e593ca4c573e:   2%|2         | 3.67MB /  155MB            "
      ]
     },
     "metadata": {},
     "output_type": "display_data"
    },
    {
     "name": "stdout",
     "output_type": "stream",
     "text": [
      "path_in_repo data/train/20250904_234024_00199_vpvv2_c926669b-7e59-4826-b31a-b5deae125981.parquet\n"
     ]
    },
    {
     "data": {
      "application/vnd.jupyter.widget-view+json": {
       "model_id": "5d60bb7021274db7a5fd5c6f9932236b",
       "version_major": 2,
       "version_minor": 0
      },
      "text/plain": [
       "Processing Files (0 / 0)                : |          |  0.00B /  0.00B            "
      ]
     },
     "metadata": {},
     "output_type": "display_data"
    },
    {
     "data": {
      "application/vnd.jupyter.widget-view+json": {
       "model_id": "16d28cee1e864e5e9b3f40a5fbc42814",
       "version_major": 2,
       "version_minor": 0
      },
      "text/plain": [
       "New Data Upload                         : |          |  0.00B /  0.00B            "
      ]
     },
     "metadata": {},
     "output_type": "display_data"
    },
    {
     "data": {
      "application/vnd.jupyter.widget-view+json": {
       "model_id": "96d45432d0a74e86b017d89df568144f",
       "version_major": 2,
       "version_minor": 0
      },
      "text/plain": [
       "  ...926669b-7e59-4826-b31a-b5deae125981:   2%|2         | 3.67MB /  152MB            "
      ]
     },
     "metadata": {},
     "output_type": "display_data"
    },
    {
     "name": "stdout",
     "output_type": "stream",
     "text": [
      "path_in_repo data/train/20250904_234024_00199_vpvv2_e11d9808-a1fa-4ffe-ad59-6aff27f542d9.parquet\n"
     ]
    },
    {
     "data": {
      "application/vnd.jupyter.widget-view+json": {
       "model_id": "0bd6bbd901d142a58d190188356cfa58",
       "version_major": 2,
       "version_minor": 0
      },
      "text/plain": [
       "Processing Files (0 / 0)                : |          |  0.00B /  0.00B            "
      ]
     },
     "metadata": {},
     "output_type": "display_data"
    },
    {
     "data": {
      "application/vnd.jupyter.widget-view+json": {
       "model_id": "aa9bf684b6544c1196d307ac8dfb23f0",
       "version_major": 2,
       "version_minor": 0
      },
      "text/plain": [
       "New Data Upload                         : |          |  0.00B /  0.00B            "
      ]
     },
     "metadata": {},
     "output_type": "display_data"
    },
    {
     "data": {
      "application/vnd.jupyter.widget-view+json": {
       "model_id": "b73788032d48433b94ae4299aff158de",
       "version_major": 2,
       "version_minor": 0
      },
      "text/plain": [
       "  ...11d9808-a1fa-4ffe-ad59-6aff27f542d9:   2%|2         | 3.67MB /  153MB            "
      ]
     },
     "metadata": {},
     "output_type": "display_data"
    },
    {
     "name": "stdout",
     "output_type": "stream",
     "text": [
      "path_in_repo data/train/20250904_234024_00199_vpvv2_e500a727-f3fe-4af6-8b30-5a366e907b69.parquet\n"
     ]
    },
    {
     "data": {
      "application/vnd.jupyter.widget-view+json": {
       "model_id": "2eda26d8b3bd484d91ae00f0f76366a9",
       "version_major": 2,
       "version_minor": 0
      },
      "text/plain": [
       "Processing Files (0 / 0)                : |          |  0.00B /  0.00B            "
      ]
     },
     "metadata": {},
     "output_type": "display_data"
    },
    {
     "data": {
      "application/vnd.jupyter.widget-view+json": {
       "model_id": "559c079300e14564b3c29174fa28c07d",
       "version_major": 2,
       "version_minor": 0
      },
      "text/plain": [
       "New Data Upload                         : |          |  0.00B /  0.00B            "
      ]
     },
     "metadata": {},
     "output_type": "display_data"
    },
    {
     "data": {
      "application/vnd.jupyter.widget-view+json": {
       "model_id": "1718a33cd5c44949b3a22dd7f39ffb6c",
       "version_major": 2,
       "version_minor": 0
      },
      "text/plain": [
       "  ...500a727-f3fe-4af6-8b30-5a366e907b69:   2%|2         | 3.67MB /  155MB            "
      ]
     },
     "metadata": {},
     "output_type": "display_data"
    },
    {
     "name": "stdout",
     "output_type": "stream",
     "text": [
      " :: END subset: train | since_start: 6.0 minutes, 26.34 seconds | since_last: 6.0 minutes, 26.34 seconds :: \n",
      " :: START subset: test | since_start: 6.0 minutes, 26.34 seconds | since_last: 0.00 seconds :: \n",
      "ensure_path(temp_files)\n",
      "path_in_repo data/test/20250904_234106_00279_uggtr_0047265d-cb10-4193-b934-761de9c15dd5.parquet\n"
     ]
    },
    {
     "data": {
      "application/vnd.jupyter.widget-view+json": {
       "model_id": "4d9e3d0e5f3546bba031e6ad5b31a112",
       "version_major": 2,
       "version_minor": 0
      },
      "text/plain": [
       "Processing Files (0 / 0)                : |          |  0.00B /  0.00B            "
      ]
     },
     "metadata": {},
     "output_type": "display_data"
    },
    {
     "data": {
      "application/vnd.jupyter.widget-view+json": {
       "model_id": "7914f522cf07476291633dbaf409a9b3",
       "version_major": 2,
       "version_minor": 0
      },
      "text/plain": [
       "New Data Upload                         : |          |  0.00B /  0.00B            "
      ]
     },
     "metadata": {},
     "output_type": "display_data"
    },
    {
     "data": {
      "application/vnd.jupyter.widget-view+json": {
       "model_id": "dcdc17828f8c43b7869d340c039bb204",
       "version_major": 2,
       "version_minor": 0
      },
      "text/plain": [
       "  ...047265d-cb10-4193-b934-761de9c15dd5:  17%|#6        | 3.67MB / 21.8MB            "
      ]
     },
     "metadata": {},
     "output_type": "display_data"
    },
    {
     "name": "stdout",
     "output_type": "stream",
     "text": [
      "path_in_repo data/test/20250904_234106_00279_uggtr_0e0ffbe0-11ae-4b2c-9fda-c548472802b2.parquet\n"
     ]
    },
    {
     "data": {
      "application/vnd.jupyter.widget-view+json": {
       "model_id": "91047ea457404885843f1cece8051e56",
       "version_major": 2,
       "version_minor": 0
      },
      "text/plain": [
       "Processing Files (0 / 0)                : |          |  0.00B /  0.00B            "
      ]
     },
     "metadata": {},
     "output_type": "display_data"
    },
    {
     "data": {
      "application/vnd.jupyter.widget-view+json": {
       "model_id": "571215fa90f54e6294460838e6ca5c0e",
       "version_major": 2,
       "version_minor": 0
      },
      "text/plain": [
       "New Data Upload                         : |          |  0.00B /  0.00B            "
      ]
     },
     "metadata": {},
     "output_type": "display_data"
    },
    {
     "data": {
      "application/vnd.jupyter.widget-view+json": {
       "model_id": "147413ae917b41aca0ce72f8cd8a5f4e",
       "version_major": 2,
       "version_minor": 0
      },
      "text/plain": [
       "  ...e0ffbe0-11ae-4b2c-9fda-c548472802b2:  16%|#6        | 3.67MB / 22.5MB            "
      ]
     },
     "metadata": {},
     "output_type": "display_data"
    },
    {
     "name": "stdout",
     "output_type": "stream",
     "text": [
      "path_in_repo data/test/20250904_234106_00279_uggtr_24860b0a-2255-4219-a071-33ab587aa107.parquet\n"
     ]
    },
    {
     "data": {
      "application/vnd.jupyter.widget-view+json": {
       "model_id": "f87e25ea04c64936852c17a3b4a888b4",
       "version_major": 2,
       "version_minor": 0
      },
      "text/plain": [
       "Processing Files (0 / 0)                : |          |  0.00B /  0.00B            "
      ]
     },
     "metadata": {},
     "output_type": "display_data"
    },
    {
     "data": {
      "application/vnd.jupyter.widget-view+json": {
       "model_id": "a2ac34ffdc7742bea60216f6b2e3f15d",
       "version_major": 2,
       "version_minor": 0
      },
      "text/plain": [
       "New Data Upload                         : |          |  0.00B /  0.00B            "
      ]
     },
     "metadata": {},
     "output_type": "display_data"
    },
    {
     "data": {
      "application/vnd.jupyter.widget-view+json": {
       "model_id": "6905679dab7c49c28860518b28dab933",
       "version_major": 2,
       "version_minor": 0
      },
      "text/plain": [
       "  ...4860b0a-2255-4219-a071-33ab587aa107:  17%|#7        | 3.68MB / 21.4MB            "
      ]
     },
     "metadata": {},
     "output_type": "display_data"
    },
    {
     "name": "stdout",
     "output_type": "stream",
     "text": [
      "path_in_repo data/test/20250904_234106_00279_uggtr_2cb21912-20a1-490c-b158-2e23af73456e.parquet\n"
     ]
    },
    {
     "data": {
      "application/vnd.jupyter.widget-view+json": {
       "model_id": "c4a0ab9c43a54cf9aeaced5f53f7771a",
       "version_major": 2,
       "version_minor": 0
      },
      "text/plain": [
       "Processing Files (0 / 0)                : |          |  0.00B /  0.00B            "
      ]
     },
     "metadata": {},
     "output_type": "display_data"
    },
    {
     "data": {
      "application/vnd.jupyter.widget-view+json": {
       "model_id": "16e4b4ffade04f22ae17c89df80ff952",
       "version_major": 2,
       "version_minor": 0
      },
      "text/plain": [
       "New Data Upload                         : |          |  0.00B /  0.00B            "
      ]
     },
     "metadata": {},
     "output_type": "display_data"
    },
    {
     "data": {
      "application/vnd.jupyter.widget-view+json": {
       "model_id": "ed3e849400db40f886bf78f76bddf2d6",
       "version_major": 2,
       "version_minor": 0
      },
      "text/plain": [
       "  ...cb21912-20a1-490c-b158-2e23af73456e:  20%|##        | 3.67MB / 18.3MB            "
      ]
     },
     "metadata": {},
     "output_type": "display_data"
    },
    {
     "name": "stdout",
     "output_type": "stream",
     "text": [
      "path_in_repo data/test/20250904_234106_00279_uggtr_44761367-f198-4188-9981-c66b9bab051e.parquet\n"
     ]
    },
    {
     "data": {
      "application/vnd.jupyter.widget-view+json": {
       "model_id": "641a884087c7424ea8d87f780a5f352c",
       "version_major": 2,
       "version_minor": 0
      },
      "text/plain": [
       "Processing Files (0 / 0)                : |          |  0.00B /  0.00B            "
      ]
     },
     "metadata": {},
     "output_type": "display_data"
    },
    {
     "data": {
      "application/vnd.jupyter.widget-view+json": {
       "model_id": "878424de3463468388d77132efae41e7",
       "version_major": 2,
       "version_minor": 0
      },
      "text/plain": [
       "New Data Upload                         : |          |  0.00B /  0.00B            "
      ]
     },
     "metadata": {},
     "output_type": "display_data"
    },
    {
     "data": {
      "application/vnd.jupyter.widget-view+json": {
       "model_id": "c102fbeaff0d43739d27dd2a67d5b8fa",
       "version_major": 2,
       "version_minor": 0
      },
      "text/plain": [
       "  ...4761367-f198-4188-9981-c66b9bab051e:  21%|##1       | 3.67MB / 17.4MB            "
      ]
     },
     "metadata": {},
     "output_type": "display_data"
    },
    {
     "name": "stdout",
     "output_type": "stream",
     "text": [
      "path_in_repo data/test/20250904_234106_00279_uggtr_58468fc1-7d10-4f42-9d3c-876a034922b7.parquet\n"
     ]
    },
    {
     "data": {
      "application/vnd.jupyter.widget-view+json": {
       "model_id": "edf20df83cfe4787ba02cfe0c9d1cdb0",
       "version_major": 2,
       "version_minor": 0
      },
      "text/plain": [
       "Processing Files (0 / 0)                : |          |  0.00B /  0.00B            "
      ]
     },
     "metadata": {},
     "output_type": "display_data"
    },
    {
     "data": {
      "application/vnd.jupyter.widget-view+json": {
       "model_id": "c54e0d69cd16446792d50f916079808f",
       "version_major": 2,
       "version_minor": 0
      },
      "text/plain": [
       "New Data Upload                         : |          |  0.00B /  0.00B            "
      ]
     },
     "metadata": {},
     "output_type": "display_data"
    },
    {
     "data": {
      "application/vnd.jupyter.widget-view+json": {
       "model_id": "6cff6d589a0e42858f5d93a3c6f946e1",
       "version_major": 2,
       "version_minor": 0
      },
      "text/plain": [
       "  ...8468fc1-7d10-4f42-9d3c-876a034922b7:  19%|#8        | 3.67MB / 19.5MB            "
      ]
     },
     "metadata": {},
     "output_type": "display_data"
    },
    {
     "name": "stdout",
     "output_type": "stream",
     "text": [
      "path_in_repo data/test/20250904_234106_00279_uggtr_5cc88fae-6466-4568-b4ca-3ad31ef34109.parquet\n"
     ]
    },
    {
     "data": {
      "application/vnd.jupyter.widget-view+json": {
       "model_id": "52f0ce5dedbf492c90f579f5414c544d",
       "version_major": 2,
       "version_minor": 0
      },
      "text/plain": [
       "Processing Files (0 / 0)                : |          |  0.00B /  0.00B            "
      ]
     },
     "metadata": {},
     "output_type": "display_data"
    },
    {
     "data": {
      "application/vnd.jupyter.widget-view+json": {
       "model_id": "a24c02f8b20a4ae7a10f48745baff564",
       "version_major": 2,
       "version_minor": 0
      },
      "text/plain": [
       "New Data Upload                         : |          |  0.00B /  0.00B            "
      ]
     },
     "metadata": {},
     "output_type": "display_data"
    },
    {
     "data": {
      "application/vnd.jupyter.widget-view+json": {
       "model_id": "ccec9f17a58c4cb2b47c890e76fb4e9b",
       "version_major": 2,
       "version_minor": 0
      },
      "text/plain": [
       "  ...cc88fae-6466-4568-b4ca-3ad31ef34109:  18%|#8        | 3.67MB / 20.2MB            "
      ]
     },
     "metadata": {},
     "output_type": "display_data"
    },
    {
     "name": "stdout",
     "output_type": "stream",
     "text": [
      "path_in_repo data/test/20250904_234106_00279_uggtr_6b538d6a-47d3-4ca9-9449-f59f22d17326.parquet\n"
     ]
    },
    {
     "data": {
      "application/vnd.jupyter.widget-view+json": {
       "model_id": "d7b1e71e4f684aa1a6c54d95ab53f0d7",
       "version_major": 2,
       "version_minor": 0
      },
      "text/plain": [
       "Processing Files (0 / 0)                : |          |  0.00B /  0.00B            "
      ]
     },
     "metadata": {},
     "output_type": "display_data"
    },
    {
     "data": {
      "application/vnd.jupyter.widget-view+json": {
       "model_id": "4cb77c3c06e7443780696321e2c1f09d",
       "version_major": 2,
       "version_minor": 0
      },
      "text/plain": [
       "New Data Upload                         : |          |  0.00B /  0.00B            "
      ]
     },
     "metadata": {},
     "output_type": "display_data"
    },
    {
     "data": {
      "application/vnd.jupyter.widget-view+json": {
       "model_id": "4e2bc74b312641afaed199ac3b68fb3a",
       "version_major": 2,
       "version_minor": 0
      },
      "text/plain": [
       "  ...b538d6a-47d3-4ca9-9449-f59f22d17326:  17%|#6        | 3.67MB / 21.7MB            "
      ]
     },
     "metadata": {},
     "output_type": "display_data"
    },
    {
     "name": "stdout",
     "output_type": "stream",
     "text": [
      "path_in_repo data/test/20250904_234106_00279_uggtr_6f793f72-5205-4a3c-8071-d894761752f8.parquet\n"
     ]
    },
    {
     "data": {
      "application/vnd.jupyter.widget-view+json": {
       "model_id": "f6488989f37247d9b141bafbe43f3771",
       "version_major": 2,
       "version_minor": 0
      },
      "text/plain": [
       "Processing Files (0 / 0)                : |          |  0.00B /  0.00B            "
      ]
     },
     "metadata": {},
     "output_type": "display_data"
    },
    {
     "data": {
      "application/vnd.jupyter.widget-view+json": {
       "model_id": "70d113c93cab41649f1655e0e7f33dc1",
       "version_major": 2,
       "version_minor": 0
      },
      "text/plain": [
       "New Data Upload                         : |          |  0.00B /  0.00B            "
      ]
     },
     "metadata": {},
     "output_type": "display_data"
    },
    {
     "data": {
      "application/vnd.jupyter.widget-view+json": {
       "model_id": "e251bcd63ba642d7be022e12b571ed26",
       "version_major": 2,
       "version_minor": 0
      },
      "text/plain": [
       "  ...f793f72-5205-4a3c-8071-d894761752f8:  20%|##        | 3.67MB / 18.0MB            "
      ]
     },
     "metadata": {},
     "output_type": "display_data"
    },
    {
     "name": "stdout",
     "output_type": "stream",
     "text": [
      "path_in_repo data/test/20250904_234106_00279_uggtr_75be7cdb-a866-4386-80de-17d51046e80b.parquet\n"
     ]
    },
    {
     "data": {
      "application/vnd.jupyter.widget-view+json": {
       "model_id": "cfcea9b9ba014ceeb59d2aa560678988",
       "version_major": 2,
       "version_minor": 0
      },
      "text/plain": [
       "Processing Files (0 / 0)                : |          |  0.00B /  0.00B            "
      ]
     },
     "metadata": {},
     "output_type": "display_data"
    },
    {
     "data": {
      "application/vnd.jupyter.widget-view+json": {
       "model_id": "a2f20e35bf5f4713bea67130df0274bd",
       "version_major": 2,
       "version_minor": 0
      },
      "text/plain": [
       "New Data Upload                         : |          |  0.00B /  0.00B            "
      ]
     },
     "metadata": {},
     "output_type": "display_data"
    },
    {
     "data": {
      "application/vnd.jupyter.widget-view+json": {
       "model_id": "f719e1c25ddd4654936641519d0efbcc",
       "version_major": 2,
       "version_minor": 0
      },
      "text/plain": [
       "  ...5be7cdb-a866-4386-80de-17d51046e80b:  22%|##1       | 3.67MB / 17.0MB            "
      ]
     },
     "metadata": {},
     "output_type": "display_data"
    },
    {
     "name": "stdout",
     "output_type": "stream",
     "text": [
      "path_in_repo data/test/20250904_234106_00279_uggtr_78468385-bb35-443b-a221-0918eeae503f.parquet\n"
     ]
    },
    {
     "data": {
      "application/vnd.jupyter.widget-view+json": {
       "model_id": "d57f5b74027849dd977ce52b9b0342fa",
       "version_major": 2,
       "version_minor": 0
      },
      "text/plain": [
       "Processing Files (0 / 0)                : |          |  0.00B /  0.00B            "
      ]
     },
     "metadata": {},
     "output_type": "display_data"
    },
    {
     "data": {
      "application/vnd.jupyter.widget-view+json": {
       "model_id": "bf03787d405f40ce83e3a28cf14c0b7b",
       "version_major": 2,
       "version_minor": 0
      },
      "text/plain": [
       "New Data Upload                         : |          |  0.00B /  0.00B            "
      ]
     },
     "metadata": {},
     "output_type": "display_data"
    },
    {
     "data": {
      "application/vnd.jupyter.widget-view+json": {
       "model_id": "63ce91869eae4139a944e5216baedc5e",
       "version_major": 2,
       "version_minor": 0
      },
      "text/plain": [
       "  ...8468385-bb35-443b-a221-0918eeae503f:  19%|#9        | 3.67MB / 19.2MB            "
      ]
     },
     "metadata": {},
     "output_type": "display_data"
    },
    {
     "name": "stdout",
     "output_type": "stream",
     "text": [
      "path_in_repo data/test/20250904_234106_00279_uggtr_7ee73fea-7782-4f6e-83f7-300743b102ad.parquet\n"
     ]
    },
    {
     "data": {
      "application/vnd.jupyter.widget-view+json": {
       "model_id": "fe14a2f995cd43c6af5308ca48c31d30",
       "version_major": 2,
       "version_minor": 0
      },
      "text/plain": [
       "Processing Files (0 / 0)                : |          |  0.00B /  0.00B            "
      ]
     },
     "metadata": {},
     "output_type": "display_data"
    },
    {
     "data": {
      "application/vnd.jupyter.widget-view+json": {
       "model_id": "975b5ad96694485aa60bde8970baa4da",
       "version_major": 2,
       "version_minor": 0
      },
      "text/plain": [
       "New Data Upload                         : |          |  0.00B /  0.00B            "
      ]
     },
     "metadata": {},
     "output_type": "display_data"
    },
    {
     "data": {
      "application/vnd.jupyter.widget-view+json": {
       "model_id": "cc1e5ea66ac14312a1f203b64613e249",
       "version_major": 2,
       "version_minor": 0
      },
      "text/plain": [
       "  ...ee73fea-7782-4f6e-83f7-300743b102ad:  17%|#6        | 3.67MB / 22.1MB            "
      ]
     },
     "metadata": {},
     "output_type": "display_data"
    },
    {
     "name": "stdout",
     "output_type": "stream",
     "text": [
      "path_in_repo data/test/20250904_234106_00279_uggtr_80178432-5db3-46c9-a9eb-5fa20fa21cf9.parquet\n"
     ]
    },
    {
     "data": {
      "application/vnd.jupyter.widget-view+json": {
       "model_id": "a8e02256e1fa4111b3c3b56637665696",
       "version_major": 2,
       "version_minor": 0
      },
      "text/plain": [
       "Processing Files (0 / 0)                : |          |  0.00B /  0.00B            "
      ]
     },
     "metadata": {},
     "output_type": "display_data"
    },
    {
     "data": {
      "application/vnd.jupyter.widget-view+json": {
       "model_id": "626ee1f15c0d4d088f3ca3d19299b2e7",
       "version_major": 2,
       "version_minor": 0
      },
      "text/plain": [
       "New Data Upload                         : |          |  0.00B /  0.00B            "
      ]
     },
     "metadata": {},
     "output_type": "display_data"
    },
    {
     "data": {
      "application/vnd.jupyter.widget-view+json": {
       "model_id": "594a045fcd6e4b988285a71169cb0556",
       "version_major": 2,
       "version_minor": 0
      },
      "text/plain": [
       "  ...0178432-5db3-46c9-a9eb-5fa20fa21cf9:   3%|2         |  524kB / 20.7MB            "
      ]
     },
     "metadata": {},
     "output_type": "display_data"
    },
    {
     "name": "stdout",
     "output_type": "stream",
     "text": [
      "path_in_repo data/test/20250904_234106_00279_uggtr_a5c371a6-f195-4f3c-a697-5430c1238be6.parquet\n"
     ]
    },
    {
     "data": {
      "application/vnd.jupyter.widget-view+json": {
       "model_id": "9973927c2dfb4b64b7d2e01a2f6d1bc5",
       "version_major": 2,
       "version_minor": 0
      },
      "text/plain": [
       "Processing Files (0 / 0)                : |          |  0.00B /  0.00B            "
      ]
     },
     "metadata": {},
     "output_type": "display_data"
    },
    {
     "data": {
      "application/vnd.jupyter.widget-view+json": {
       "model_id": "245fa935c694450b9a9d8b2d3d043bbf",
       "version_major": 2,
       "version_minor": 0
      },
      "text/plain": [
       "New Data Upload                         : |          |  0.00B /  0.00B            "
      ]
     },
     "metadata": {},
     "output_type": "display_data"
    },
    {
     "data": {
      "application/vnd.jupyter.widget-view+json": {
       "model_id": "e81b0db5f07a4c6d8c920b6b8a88f0c2",
       "version_major": 2,
       "version_minor": 0
      },
      "text/plain": [
       "  ...5c371a6-f195-4f3c-a697-5430c1238be6:  18%|#8        | 3.67MB / 20.3MB            "
      ]
     },
     "metadata": {},
     "output_type": "display_data"
    },
    {
     "name": "stdout",
     "output_type": "stream",
     "text": [
      "path_in_repo data/test/20250904_234106_00279_uggtr_a6186b47-d241-47e1-a39f-baaa18ca3738.parquet\n"
     ]
    },
    {
     "data": {
      "application/vnd.jupyter.widget-view+json": {
       "model_id": "51d29fb6d4604fbd867c65f836319211",
       "version_major": 2,
       "version_minor": 0
      },
      "text/plain": [
       "Processing Files (0 / 0)                : |          |  0.00B /  0.00B            "
      ]
     },
     "metadata": {},
     "output_type": "display_data"
    },
    {
     "data": {
      "application/vnd.jupyter.widget-view+json": {
       "model_id": "dfb1b92892404371bfb75dfb53e8bb0e",
       "version_major": 2,
       "version_minor": 0
      },
      "text/plain": [
       "New Data Upload                         : |          |  0.00B /  0.00B            "
      ]
     },
     "metadata": {},
     "output_type": "display_data"
    },
    {
     "data": {
      "application/vnd.jupyter.widget-view+json": {
       "model_id": "34e3a13222774bfe91839a3b739bad1e",
       "version_major": 2,
       "version_minor": 0
      },
      "text/plain": [
       "  ...6186b47-d241-47e1-a39f-baaa18ca3738:  20%|##        | 3.67MB / 18.2MB            "
      ]
     },
     "metadata": {},
     "output_type": "display_data"
    },
    {
     "name": "stdout",
     "output_type": "stream",
     "text": [
      "path_in_repo data/test/20250904_234106_00279_uggtr_aebce86c-564b-45f5-9872-d248270da0f5.parquet\n"
     ]
    },
    {
     "data": {
      "application/vnd.jupyter.widget-view+json": {
       "model_id": "48b3883dca3d482781d9c7f7f7add516",
       "version_major": 2,
       "version_minor": 0
      },
      "text/plain": [
       "Processing Files (0 / 0)                : |          |  0.00B /  0.00B            "
      ]
     },
     "metadata": {},
     "output_type": "display_data"
    },
    {
     "data": {
      "application/vnd.jupyter.widget-view+json": {
       "model_id": "11527f557d0440b2adbc99341faf7ffc",
       "version_major": 2,
       "version_minor": 0
      },
      "text/plain": [
       "New Data Upload                         : |          |  0.00B /  0.00B            "
      ]
     },
     "metadata": {},
     "output_type": "display_data"
    },
    {
     "data": {
      "application/vnd.jupyter.widget-view+json": {
       "model_id": "566c95b84b264942b9604bc07f9d7d92",
       "version_major": 2,
       "version_minor": 0
      },
      "text/plain": [
       "  ...ebce86c-564b-45f5-9872-d248270da0f5:  19%|#8        | 3.67MB / 19.4MB            "
      ]
     },
     "metadata": {},
     "output_type": "display_data"
    },
    {
     "name": "stdout",
     "output_type": "stream",
     "text": [
      "path_in_repo data/test/20250904_234106_00279_uggtr_b2ddadc6-f0e3-44d5-9e32-9a9a963c4dab.parquet\n"
     ]
    },
    {
     "data": {
      "application/vnd.jupyter.widget-view+json": {
       "model_id": "3b0aadcf87a249188e85115e485f349b",
       "version_major": 2,
       "version_minor": 0
      },
      "text/plain": [
       "Processing Files (0 / 0)                : |          |  0.00B /  0.00B            "
      ]
     },
     "metadata": {},
     "output_type": "display_data"
    },
    {
     "data": {
      "application/vnd.jupyter.widget-view+json": {
       "model_id": "36e2774685a24448a4bfedf9ff0d048c",
       "version_major": 2,
       "version_minor": 0
      },
      "text/plain": [
       "New Data Upload                         : |          |  0.00B /  0.00B            "
      ]
     },
     "metadata": {},
     "output_type": "display_data"
    },
    {
     "data": {
      "application/vnd.jupyter.widget-view+json": {
       "model_id": "3139e968fdc744a0b39823f75d24b262",
       "version_major": 2,
       "version_minor": 0
      },
      "text/plain": [
       "  ...2ddadc6-f0e3-44d5-9e32-9a9a963c4dab:  18%|#7        | 3.67MB / 20.7MB            "
      ]
     },
     "metadata": {},
     "output_type": "display_data"
    },
    {
     "name": "stdout",
     "output_type": "stream",
     "text": [
      "path_in_repo data/test/20250904_234106_00279_uggtr_b740708c-20d4-40e2-8db2-3866eac95bd2.parquet\n"
     ]
    },
    {
     "data": {
      "application/vnd.jupyter.widget-view+json": {
       "model_id": "0d9f6e8663ca42bd9b7e0d401cd145fd",
       "version_major": 2,
       "version_minor": 0
      },
      "text/plain": [
       "Processing Files (0 / 0)                : |          |  0.00B /  0.00B            "
      ]
     },
     "metadata": {},
     "output_type": "display_data"
    },
    {
     "data": {
      "application/vnd.jupyter.widget-view+json": {
       "model_id": "d5eeecacf17f4b9d89e542c4d67b1735",
       "version_major": 2,
       "version_minor": 0
      },
      "text/plain": [
       "New Data Upload                         : |          |  0.00B /  0.00B            "
      ]
     },
     "metadata": {},
     "output_type": "display_data"
    },
    {
     "data": {
      "application/vnd.jupyter.widget-view+json": {
       "model_id": "d991f3f0e49247188699ddf8ba526614",
       "version_major": 2,
       "version_minor": 0
      },
      "text/plain": [
       "  ...740708c-20d4-40e2-8db2-3866eac95bd2:  20%|##        | 3.67MB / 18.1MB            "
      ]
     },
     "metadata": {},
     "output_type": "display_data"
    },
    {
     "name": "stdout",
     "output_type": "stream",
     "text": [
      "path_in_repo data/test/20250904_234106_00279_uggtr_c26e1ff6-ae65-4b5c-b843-ab4a761c466c.parquet\n"
     ]
    },
    {
     "data": {
      "application/vnd.jupyter.widget-view+json": {
       "model_id": "ebcaf666ada54456ae72ea11b78ff49b",
       "version_major": 2,
       "version_minor": 0
      },
      "text/plain": [
       "Processing Files (0 / 0)                : |          |  0.00B /  0.00B            "
      ]
     },
     "metadata": {},
     "output_type": "display_data"
    },
    {
     "data": {
      "application/vnd.jupyter.widget-view+json": {
       "model_id": "3fc9e38caf034dd6ba09c6ac9d0ac904",
       "version_major": 2,
       "version_minor": 0
      },
      "text/plain": [
       "New Data Upload                         : |          |  0.00B /  0.00B            "
      ]
     },
     "metadata": {},
     "output_type": "display_data"
    },
    {
     "data": {
      "application/vnd.jupyter.widget-view+json": {
       "model_id": "4866d61864cb4903bef9ffb4bb865967",
       "version_major": 2,
       "version_minor": 0
      },
      "text/plain": [
       "  ...26e1ff6-ae65-4b5c-b843-ab4a761c466c:  20%|#9        | 3.67MB / 18.5MB            "
      ]
     },
     "metadata": {},
     "output_type": "display_data"
    },
    {
     "name": "stdout",
     "output_type": "stream",
     "text": [
      "path_in_repo data/test/20250904_234106_00279_uggtr_cbb2cd11-c393-4ed8-a488-cf3a5506e704.parquet\n"
     ]
    },
    {
     "data": {
      "application/vnd.jupyter.widget-view+json": {
       "model_id": "17ef14f16455457c808fc8429693a473",
       "version_major": 2,
       "version_minor": 0
      },
      "text/plain": [
       "Processing Files (0 / 0)                : |          |  0.00B /  0.00B            "
      ]
     },
     "metadata": {},
     "output_type": "display_data"
    },
    {
     "data": {
      "application/vnd.jupyter.widget-view+json": {
       "model_id": "a74ff0468a45401e876efb20eef71ea9",
       "version_major": 2,
       "version_minor": 0
      },
      "text/plain": [
       "New Data Upload                         : |          |  0.00B /  0.00B            "
      ]
     },
     "metadata": {},
     "output_type": "display_data"
    },
    {
     "data": {
      "application/vnd.jupyter.widget-view+json": {
       "model_id": "bf99d7f0226946da9b998fc4eb69b2eb",
       "version_major": 2,
       "version_minor": 0
      },
      "text/plain": [
       "  ...bb2cd11-c393-4ed8-a488-cf3a5506e704:  20%|#9        | 3.67MB / 18.4MB            "
      ]
     },
     "metadata": {},
     "output_type": "display_data"
    },
    {
     "name": "stdout",
     "output_type": "stream",
     "text": [
      "path_in_repo data/test/20250904_234106_00279_uggtr_cfa86576-dd5b-4038-bf78-a213fe6a88ad.parquet\n"
     ]
    },
    {
     "data": {
      "application/vnd.jupyter.widget-view+json": {
       "model_id": "6ce58b42969b4fbbb9ca97591e58bedf",
       "version_major": 2,
       "version_minor": 0
      },
      "text/plain": [
       "Processing Files (0 / 0)                : |          |  0.00B /  0.00B            "
      ]
     },
     "metadata": {},
     "output_type": "display_data"
    },
    {
     "data": {
      "application/vnd.jupyter.widget-view+json": {
       "model_id": "1a3595d763ee406585bc21f5e81a4533",
       "version_major": 2,
       "version_minor": 0
      },
      "text/plain": [
       "New Data Upload                         : |          |  0.00B /  0.00B            "
      ]
     },
     "metadata": {},
     "output_type": "display_data"
    },
    {
     "data": {
      "application/vnd.jupyter.widget-view+json": {
       "model_id": "c3db170737bf48058c811885c37ed653",
       "version_major": 2,
       "version_minor": 0
      },
      "text/plain": [
       "  ...fa86576-dd5b-4038-bf78-a213fe6a88ad:  17%|#7        | 3.67MB / 21.6MB            "
      ]
     },
     "metadata": {},
     "output_type": "display_data"
    },
    {
     "name": "stdout",
     "output_type": "stream",
     "text": [
      "path_in_repo data/test/20250904_234106_00279_uggtr_d949b83e-2537-40b2-a4fa-dffbeff72975.parquet\n"
     ]
    },
    {
     "data": {
      "application/vnd.jupyter.widget-view+json": {
       "model_id": "eafa743000d04060ba6e7d3aa52fd251",
       "version_major": 2,
       "version_minor": 0
      },
      "text/plain": [
       "Processing Files (0 / 0)                : |          |  0.00B /  0.00B            "
      ]
     },
     "metadata": {},
     "output_type": "display_data"
    },
    {
     "data": {
      "application/vnd.jupyter.widget-view+json": {
       "model_id": "c0b2be7795c747bfbe74879228b2887a",
       "version_major": 2,
       "version_minor": 0
      },
      "text/plain": [
       "New Data Upload                         : |          |  0.00B /  0.00B            "
      ]
     },
     "metadata": {},
     "output_type": "display_data"
    },
    {
     "data": {
      "application/vnd.jupyter.widget-view+json": {
       "model_id": "a7f500ca3f4d439e8589f503017616ec",
       "version_major": 2,
       "version_minor": 0
      },
      "text/plain": [
       "  ...949b83e-2537-40b2-a4fa-dffbeff72975:  21%|##        | 3.67MB / 17.8MB            "
      ]
     },
     "metadata": {},
     "output_type": "display_data"
    },
    {
     "name": "stdout",
     "output_type": "stream",
     "text": [
      " :: END subset: test | since_start: 11.0 minutes, 14.70 seconds | since_last: 4.0 minutes, 48.36 seconds :: \n",
      " :: START subset: validation | since_start: 11.0 minutes, 14.70 seconds | since_last: 0.00 seconds :: \n",
      "ensure_path(temp_files)\n",
      "path_in_repo data/validation/20250904_234123_00159_rh4vh_112024de-4e21-4ed1-90c6-31caec405cba.parquet\n"
     ]
    },
    {
     "data": {
      "application/vnd.jupyter.widget-view+json": {
       "model_id": "921e4a01066b484f8abad61649d746f9",
       "version_major": 2,
       "version_minor": 0
      },
      "text/plain": [
       "Processing Files (0 / 0)                : |          |  0.00B /  0.00B            "
      ]
     },
     "metadata": {},
     "output_type": "display_data"
    },
    {
     "data": {
      "application/vnd.jupyter.widget-view+json": {
       "model_id": "8dc0b3d737e6435fad498661ebe45f96",
       "version_major": 2,
       "version_minor": 0
      },
      "text/plain": [
       "New Data Upload                         : |          |  0.00B /  0.00B            "
      ]
     },
     "metadata": {},
     "output_type": "display_data"
    },
    {
     "data": {
      "application/vnd.jupyter.widget-view+json": {
       "model_id": "dba3211e63c345af96c572cd32022d0b",
       "version_major": 2,
       "version_minor": 0
      },
      "text/plain": [
       "  ...12024de-4e21-4ed1-90c6-31caec405cba:  23%|##2       | 3.67MB / 16.3MB            "
      ]
     },
     "metadata": {},
     "output_type": "display_data"
    },
    {
     "name": "stdout",
     "output_type": "stream",
     "text": [
      "path_in_repo data/validation/20250904_234123_00159_rh4vh_210108bf-92fa-41e0-915e-2cd0427ad1c5.parquet\n"
     ]
    },
    {
     "data": {
      "application/vnd.jupyter.widget-view+json": {
       "model_id": "be06df936a534449bbb3459c12743aca",
       "version_major": 2,
       "version_minor": 0
      },
      "text/plain": [
       "Processing Files (0 / 0)                : |          |  0.00B /  0.00B            "
      ]
     },
     "metadata": {},
     "output_type": "display_data"
    },
    {
     "data": {
      "application/vnd.jupyter.widget-view+json": {
       "model_id": "e33780149c834fc880096171c8f6feee",
       "version_major": 2,
       "version_minor": 0
      },
      "text/plain": [
       "New Data Upload                         : |          |  0.00B /  0.00B            "
      ]
     },
     "metadata": {},
     "output_type": "display_data"
    },
    {
     "data": {
      "application/vnd.jupyter.widget-view+json": {
       "model_id": "024fda4fd79c49829927a11265d6c274",
       "version_major": 2,
       "version_minor": 0
      },
      "text/plain": [
       "  ...10108bf-92fa-41e0-915e-2cd0427ad1c5:  18%|#8        | 3.67MB / 20.2MB            "
      ]
     },
     "metadata": {},
     "output_type": "display_data"
    },
    {
     "name": "stdout",
     "output_type": "stream",
     "text": [
      "path_in_repo data/validation/20250904_234123_00159_rh4vh_2beed655-521b-459a-b04b-5c25f74dfe58.parquet\n"
     ]
    },
    {
     "data": {
      "application/vnd.jupyter.widget-view+json": {
       "model_id": "5aedda4b3aa5401db573080e000bb2be",
       "version_major": 2,
       "version_minor": 0
      },
      "text/plain": [
       "Processing Files (0 / 0)                : |          |  0.00B /  0.00B            "
      ]
     },
     "metadata": {},
     "output_type": "display_data"
    },
    {
     "data": {
      "application/vnd.jupyter.widget-view+json": {
       "model_id": "08d393a909634dcba97cc4538bbecc91",
       "version_major": 2,
       "version_minor": 0
      },
      "text/plain": [
       "New Data Upload                         : |          |  0.00B /  0.00B            "
      ]
     },
     "metadata": {},
     "output_type": "display_data"
    },
    {
     "data": {
      "application/vnd.jupyter.widget-view+json": {
       "model_id": "cf35c599071549d6bbe08f512ef23e6c",
       "version_major": 2,
       "version_minor": 0
      },
      "text/plain": [
       "  ...beed655-521b-459a-b04b-5c25f74dfe58:  18%|#7        | 3.67MB / 20.5MB            "
      ]
     },
     "metadata": {},
     "output_type": "display_data"
    },
    {
     "name": "stdout",
     "output_type": "stream",
     "text": [
      "path_in_repo data/validation/20250904_234123_00159_rh4vh_34ab1883-fd1f-4c84-84ac-337e1f7f079d.parquet\n"
     ]
    },
    {
     "data": {
      "application/vnd.jupyter.widget-view+json": {
       "model_id": "ff7f4d795ba74fe8a8b00ab75cf4a6c8",
       "version_major": 2,
       "version_minor": 0
      },
      "text/plain": [
       "Processing Files (0 / 0)                : |          |  0.00B /  0.00B            "
      ]
     },
     "metadata": {},
     "output_type": "display_data"
    },
    {
     "data": {
      "application/vnd.jupyter.widget-view+json": {
       "model_id": "908735ebdd4345899b2cdbcd3393a8a7",
       "version_major": 2,
       "version_minor": 0
      },
      "text/plain": [
       "New Data Upload                         : |          |  0.00B /  0.00B            "
      ]
     },
     "metadata": {},
     "output_type": "display_data"
    },
    {
     "data": {
      "application/vnd.jupyter.widget-view+json": {
       "model_id": "baba938561af45ce9bf819a8e14c8cd6",
       "version_major": 2,
       "version_minor": 0
      },
      "text/plain": [
       "  ...4ab1883-fd1f-4c84-84ac-337e1f7f079d:  19%|#8        | 3.67MB / 19.6MB            "
      ]
     },
     "metadata": {},
     "output_type": "display_data"
    },
    {
     "name": "stdout",
     "output_type": "stream",
     "text": [
      "path_in_repo data/validation/20250904_234123_00159_rh4vh_3ac9df0a-d121-45e3-805f-eac4b6e63bfd.parquet\n"
     ]
    },
    {
     "data": {
      "application/vnd.jupyter.widget-view+json": {
       "model_id": "0ee50041fb1543b286474fd350caea5e",
       "version_major": 2,
       "version_minor": 0
      },
      "text/plain": [
       "Processing Files (0 / 0)                : |          |  0.00B /  0.00B            "
      ]
     },
     "metadata": {},
     "output_type": "display_data"
    },
    {
     "data": {
      "application/vnd.jupyter.widget-view+json": {
       "model_id": "c3991278f9694ea79920e624a3cb8de0",
       "version_major": 2,
       "version_minor": 0
      },
      "text/plain": [
       "New Data Upload                         : |          |  0.00B /  0.00B            "
      ]
     },
     "metadata": {},
     "output_type": "display_data"
    },
    {
     "data": {
      "application/vnd.jupyter.widget-view+json": {
       "model_id": "0f2104a9c96741a19c86497954711f87",
       "version_major": 2,
       "version_minor": 0
      },
      "text/plain": [
       "  ...ac9df0a-d121-45e3-805f-eac4b6e63bfd:  18%|#8        | 3.67MB / 20.0MB            "
      ]
     },
     "metadata": {},
     "output_type": "display_data"
    },
    {
     "name": "stdout",
     "output_type": "stream",
     "text": [
      "path_in_repo data/validation/20250904_234123_00159_rh4vh_4209b512-cc61-472f-a13f-6caf732dd4a4.parquet\n"
     ]
    },
    {
     "data": {
      "application/vnd.jupyter.widget-view+json": {
       "model_id": "b518826fb0ef4177b22133a53a150eb7",
       "version_major": 2,
       "version_minor": 0
      },
      "text/plain": [
       "Processing Files (0 / 0)                : |          |  0.00B /  0.00B            "
      ]
     },
     "metadata": {},
     "output_type": "display_data"
    },
    {
     "data": {
      "application/vnd.jupyter.widget-view+json": {
       "model_id": "fd924c8971624230990aaed79d1226c0",
       "version_major": 2,
       "version_minor": 0
      },
      "text/plain": [
       "New Data Upload                         : |          |  0.00B /  0.00B            "
      ]
     },
     "metadata": {},
     "output_type": "display_data"
    },
    {
     "data": {
      "application/vnd.jupyter.widget-view+json": {
       "model_id": "c01ecadc78a749c4b266681cbd1ce490",
       "version_major": 2,
       "version_minor": 0
      },
      "text/plain": [
       "  ...209b512-cc61-472f-a13f-6caf732dd4a4:   3%|2         |  524kB / 19.5MB            "
      ]
     },
     "metadata": {},
     "output_type": "display_data"
    },
    {
     "name": "stdout",
     "output_type": "stream",
     "text": [
      "path_in_repo data/validation/20250904_234123_00159_rh4vh_65d865e9-5430-438a-97df-6219367064c1.parquet\n"
     ]
    },
    {
     "data": {
      "application/vnd.jupyter.widget-view+json": {
       "model_id": "521d418a28e94a7ab4344cd30a393cf5",
       "version_major": 2,
       "version_minor": 0
      },
      "text/plain": [
       "Processing Files (0 / 0)                : |          |  0.00B /  0.00B            "
      ]
     },
     "metadata": {},
     "output_type": "display_data"
    },
    {
     "data": {
      "application/vnd.jupyter.widget-view+json": {
       "model_id": "6a9ea07353154a4388cf1077abda18e5",
       "version_major": 2,
       "version_minor": 0
      },
      "text/plain": [
       "New Data Upload                         : |          |  0.00B /  0.00B            "
      ]
     },
     "metadata": {},
     "output_type": "display_data"
    },
    {
     "data": {
      "application/vnd.jupyter.widget-view+json": {
       "model_id": "81a6392331ba4af7afa69df1fa5f7a83",
       "version_major": 2,
       "version_minor": 0
      },
      "text/plain": [
       "  ...5d865e9-5430-438a-97df-6219367064c1:  18%|#7        | 3.67MB / 20.9MB            "
      ]
     },
     "metadata": {},
     "output_type": "display_data"
    },
    {
     "name": "stdout",
     "output_type": "stream",
     "text": [
      "path_in_repo data/validation/20250904_234123_00159_rh4vh_6bcf208c-a8fc-44d3-b82e-aa47f64b8206.parquet\n"
     ]
    },
    {
     "data": {
      "application/vnd.jupyter.widget-view+json": {
       "model_id": "def7092035d1446b9681224cc3ba6d33",
       "version_major": 2,
       "version_minor": 0
      },
      "text/plain": [
       "Processing Files (0 / 0)                : |          |  0.00B /  0.00B            "
      ]
     },
     "metadata": {},
     "output_type": "display_data"
    },
    {
     "data": {
      "application/vnd.jupyter.widget-view+json": {
       "model_id": "e320e16082d640d5ae41632e50018a8d",
       "version_major": 2,
       "version_minor": 0
      },
      "text/plain": [
       "New Data Upload                         : |          |  0.00B /  0.00B            "
      ]
     },
     "metadata": {},
     "output_type": "display_data"
    },
    {
     "data": {
      "application/vnd.jupyter.widget-view+json": {
       "model_id": "69872bf830334174b5aa87ef19229fac",
       "version_major": 2,
       "version_minor": 0
      },
      "text/plain": [
       "  ...bcf208c-a8fc-44d3-b82e-aa47f64b8206:  19%|#8        | 3.67MB / 19.5MB            "
      ]
     },
     "metadata": {},
     "output_type": "display_data"
    },
    {
     "name": "stdout",
     "output_type": "stream",
     "text": [
      "path_in_repo data/validation/20250904_234123_00159_rh4vh_7c41f080-f6f1-4674-82c5-7de52c055fb5.parquet\n"
     ]
    },
    {
     "data": {
      "application/vnd.jupyter.widget-view+json": {
       "model_id": "58f4270cb158455298df4ae844457962",
       "version_major": 2,
       "version_minor": 0
      },
      "text/plain": [
       "Processing Files (0 / 0)                : |          |  0.00B /  0.00B            "
      ]
     },
     "metadata": {},
     "output_type": "display_data"
    },
    {
     "data": {
      "application/vnd.jupyter.widget-view+json": {
       "model_id": "dadbc72dcbc947f09ddc91d9821164da",
       "version_major": 2,
       "version_minor": 0
      },
      "text/plain": [
       "New Data Upload                         : |          |  0.00B /  0.00B            "
      ]
     },
     "metadata": {},
     "output_type": "display_data"
    },
    {
     "data": {
      "application/vnd.jupyter.widget-view+json": {
       "model_id": "4cce6b061b164cc89dedbf4beb0081f1",
       "version_major": 2,
       "version_minor": 0
      },
      "text/plain": [
       "  ...c41f080-f6f1-4674-82c5-7de52c055fb5:  17%|#7        | 3.67MB / 21.2MB            "
      ]
     },
     "metadata": {},
     "output_type": "display_data"
    },
    {
     "name": "stdout",
     "output_type": "stream",
     "text": [
      "path_in_repo data/validation/20250904_234123_00159_rh4vh_7dfcfd92-1ab5-490e-a18f-e00d6b0a0a76.parquet\n"
     ]
    },
    {
     "data": {
      "application/vnd.jupyter.widget-view+json": {
       "model_id": "0d3a0deb0c144c69b2195c43d5f033a8",
       "version_major": 2,
       "version_minor": 0
      },
      "text/plain": [
       "Processing Files (0 / 0)                : |          |  0.00B /  0.00B            "
      ]
     },
     "metadata": {},
     "output_type": "display_data"
    },
    {
     "data": {
      "application/vnd.jupyter.widget-view+json": {
       "model_id": "b0b118cee94e4152a7dec01c88f5ade4",
       "version_major": 2,
       "version_minor": 0
      },
      "text/plain": [
       "New Data Upload                         : |          |  0.00B /  0.00B            "
      ]
     },
     "metadata": {},
     "output_type": "display_data"
    },
    {
     "data": {
      "application/vnd.jupyter.widget-view+json": {
       "model_id": "0f0c8359ab944994936d844ef1c31355",
       "version_major": 2,
       "version_minor": 0
      },
      "text/plain": [
       "  ...dfcfd92-1ab5-490e-a18f-e00d6b0a0a76:  17%|#7        | 3.67MB / 21.6MB            "
      ]
     },
     "metadata": {},
     "output_type": "display_data"
    },
    {
     "name": "stdout",
     "output_type": "stream",
     "text": [
      "path_in_repo data/validation/20250904_234123_00159_rh4vh_8293aa8c-18b5-4522-8b42-47480cfbf82d.parquet\n"
     ]
    },
    {
     "data": {
      "application/vnd.jupyter.widget-view+json": {
       "model_id": "a3af26be0bb345beafa316108e260204",
       "version_major": 2,
       "version_minor": 0
      },
      "text/plain": [
       "Processing Files (0 / 0)                : |          |  0.00B /  0.00B            "
      ]
     },
     "metadata": {},
     "output_type": "display_data"
    },
    {
     "data": {
      "application/vnd.jupyter.widget-view+json": {
       "model_id": "96ae755122394f0093d21f26e8c20a16",
       "version_major": 2,
       "version_minor": 0
      },
      "text/plain": [
       "New Data Upload                         : |          |  0.00B /  0.00B            "
      ]
     },
     "metadata": {},
     "output_type": "display_data"
    },
    {
     "data": {
      "application/vnd.jupyter.widget-view+json": {
       "model_id": "c3b77a87eb6847ac84b12aa7db0f40fe",
       "version_major": 2,
       "version_minor": 0
      },
      "text/plain": [
       "  ...293aa8c-18b5-4522-8b42-47480cfbf82d:  19%|#9        | 3.67MB / 19.1MB            "
      ]
     },
     "metadata": {},
     "output_type": "display_data"
    },
    {
     "name": "stdout",
     "output_type": "stream",
     "text": [
      "path_in_repo data/validation/20250904_234123_00159_rh4vh_829b7b01-09a3-4d06-bfbf-cb36e4160330.parquet\n"
     ]
    },
    {
     "data": {
      "application/vnd.jupyter.widget-view+json": {
       "model_id": "e2b1a86d2a78452c84981f372b8360d9",
       "version_major": 2,
       "version_minor": 0
      },
      "text/plain": [
       "Processing Files (0 / 0)                : |          |  0.00B /  0.00B            "
      ]
     },
     "metadata": {},
     "output_type": "display_data"
    },
    {
     "data": {
      "application/vnd.jupyter.widget-view+json": {
       "model_id": "e6a9b939c7f1467aa00028cc590e282d",
       "version_major": 2,
       "version_minor": 0
      },
      "text/plain": [
       "New Data Upload                         : |          |  0.00B /  0.00B            "
      ]
     },
     "metadata": {},
     "output_type": "display_data"
    },
    {
     "data": {
      "application/vnd.jupyter.widget-view+json": {
       "model_id": "87e9e15ad2c4421ea7ec7d7a5a0dc9c0",
       "version_major": 2,
       "version_minor": 0
      },
      "text/plain": [
       "  ...29b7b01-09a3-4d06-bfbf-cb36e4160330:  16%|#6        | 3.67MB / 22.8MB            "
      ]
     },
     "metadata": {},
     "output_type": "display_data"
    },
    {
     "name": "stdout",
     "output_type": "stream",
     "text": [
      "path_in_repo data/validation/20250904_234123_00159_rh4vh_8f502bf0-0b9b-4d2b-881b-e5c3bc9c9cb1.parquet\n"
     ]
    },
    {
     "data": {
      "application/vnd.jupyter.widget-view+json": {
       "model_id": "b3eb757841d9455aa521dbe3706e8fba",
       "version_major": 2,
       "version_minor": 0
      },
      "text/plain": [
       "Processing Files (0 / 0)                : |          |  0.00B /  0.00B            "
      ]
     },
     "metadata": {},
     "output_type": "display_data"
    },
    {
     "data": {
      "application/vnd.jupyter.widget-view+json": {
       "model_id": "f74017f00bcc41b99bbeb0a1af6d36a2",
       "version_major": 2,
       "version_minor": 0
      },
      "text/plain": [
       "New Data Upload                         : |          |  0.00B /  0.00B            "
      ]
     },
     "metadata": {},
     "output_type": "display_data"
    },
    {
     "data": {
      "application/vnd.jupyter.widget-view+json": {
       "model_id": "c692fe655dd348adb49c8e4d71fc9319",
       "version_major": 2,
       "version_minor": 0
      },
      "text/plain": [
       "  ...f502bf0-0b9b-4d2b-881b-e5c3bc9c9cb1:  19%|#9        | 3.67MB / 19.1MB            "
      ]
     },
     "metadata": {},
     "output_type": "display_data"
    },
    {
     "name": "stdout",
     "output_type": "stream",
     "text": [
      "path_in_repo data/validation/20250904_234123_00159_rh4vh_92441814-2418-479c-a86a-e4d64903d45b.parquet\n"
     ]
    },
    {
     "data": {
      "application/vnd.jupyter.widget-view+json": {
       "model_id": "2539fa02764a48a684a9ea78e953c517",
       "version_major": 2,
       "version_minor": 0
      },
      "text/plain": [
       "Processing Files (0 / 0)                : |          |  0.00B /  0.00B            "
      ]
     },
     "metadata": {},
     "output_type": "display_data"
    },
    {
     "data": {
      "application/vnd.jupyter.widget-view+json": {
       "model_id": "7a4e44a20d474f54b1f3be05dd2fdf07",
       "version_major": 2,
       "version_minor": 0
      },
      "text/plain": [
       "New Data Upload                         : |          |  0.00B /  0.00B            "
      ]
     },
     "metadata": {},
     "output_type": "display_data"
    },
    {
     "data": {
      "application/vnd.jupyter.widget-view+json": {
       "model_id": "00c9eae40f57491192f0c981b96caad4",
       "version_major": 2,
       "version_minor": 0
      },
      "text/plain": [
       "  ...2441814-2418-479c-a86a-e4d64903d45b:  16%|#5        | 3.67MB / 23.1MB            "
      ]
     },
     "metadata": {},
     "output_type": "display_data"
    },
    {
     "name": "stdout",
     "output_type": "stream",
     "text": [
      "path_in_repo data/validation/20250904_234123_00159_rh4vh_b21f820e-3e05-48b9-8658-d1c790347336.parquet\n"
     ]
    },
    {
     "data": {
      "application/vnd.jupyter.widget-view+json": {
       "model_id": "27c3bf24cf4b43ad977f4a382f047b68",
       "version_major": 2,
       "version_minor": 0
      },
      "text/plain": [
       "Processing Files (0 / 0)                : |          |  0.00B /  0.00B            "
      ]
     },
     "metadata": {},
     "output_type": "display_data"
    },
    {
     "data": {
      "application/vnd.jupyter.widget-view+json": {
       "model_id": "dc6e33ea984e41cbb2d82fbe2f95caab",
       "version_major": 2,
       "version_minor": 0
      },
      "text/plain": [
       "New Data Upload                         : |          |  0.00B /  0.00B            "
      ]
     },
     "metadata": {},
     "output_type": "display_data"
    },
    {
     "data": {
      "application/vnd.jupyter.widget-view+json": {
       "model_id": "174fd9ef17f347208591f7c6365269c5",
       "version_major": 2,
       "version_minor": 0
      },
      "text/plain": [
       "  ...21f820e-3e05-48b9-8658-d1c790347336:  22%|##1       | 3.67MB / 17.0MB            "
      ]
     },
     "metadata": {},
     "output_type": "display_data"
    },
    {
     "name": "stdout",
     "output_type": "stream",
     "text": [
      "path_in_repo data/validation/20250904_234123_00159_rh4vh_b791bda4-6120-48ab-ba8a-c06af988d314.parquet\n"
     ]
    },
    {
     "data": {
      "application/vnd.jupyter.widget-view+json": {
       "model_id": "25d98ec9df674f51bb9643f61ce72099",
       "version_major": 2,
       "version_minor": 0
      },
      "text/plain": [
       "Processing Files (0 / 0)                : |          |  0.00B /  0.00B            "
      ]
     },
     "metadata": {},
     "output_type": "display_data"
    },
    {
     "data": {
      "application/vnd.jupyter.widget-view+json": {
       "model_id": "da66924aeaca431092b097eead90f248",
       "version_major": 2,
       "version_minor": 0
      },
      "text/plain": [
       "New Data Upload                         : |          |  0.00B /  0.00B            "
      ]
     },
     "metadata": {},
     "output_type": "display_data"
    },
    {
     "data": {
      "application/vnd.jupyter.widget-view+json": {
       "model_id": "0876f46910a84dd3a3514ac46c956cfb",
       "version_major": 2,
       "version_minor": 0
      },
      "text/plain": [
       "  ...791bda4-6120-48ab-ba8a-c06af988d314:  18%|#7        | 3.67MB / 21.0MB            "
      ]
     },
     "metadata": {},
     "output_type": "display_data"
    },
    {
     "name": "stdout",
     "output_type": "stream",
     "text": [
      "path_in_repo data/validation/20250904_234123_00159_rh4vh_c2a74129-fa34-4945-b394-b5a6a8f297ee.parquet\n"
     ]
    },
    {
     "data": {
      "application/vnd.jupyter.widget-view+json": {
       "model_id": "c83f4dbdef18458ebc18c914dad64b8f",
       "version_major": 2,
       "version_minor": 0
      },
      "text/plain": [
       "Processing Files (0 / 0)                : |          |  0.00B /  0.00B            "
      ]
     },
     "metadata": {},
     "output_type": "display_data"
    },
    {
     "data": {
      "application/vnd.jupyter.widget-view+json": {
       "model_id": "0ad3ea6b40ec424babfcb90f6d9936d1",
       "version_major": 2,
       "version_minor": 0
      },
      "text/plain": [
       "New Data Upload                         : |          |  0.00B /  0.00B            "
      ]
     },
     "metadata": {},
     "output_type": "display_data"
    },
    {
     "data": {
      "application/vnd.jupyter.widget-view+json": {
       "model_id": "3081e3a698eb49c19f133ee8802785b3",
       "version_major": 2,
       "version_minor": 0
      },
      "text/plain": [
       "  ...2a74129-fa34-4945-b394-b5a6a8f297ee:  18%|#8        | 3.67MB / 19.9MB            "
      ]
     },
     "metadata": {},
     "output_type": "display_data"
    },
    {
     "name": "stdout",
     "output_type": "stream",
     "text": [
      "path_in_repo data/validation/20250904_234123_00159_rh4vh_c946eec2-3c22-414a-a26a-4c5f5503277c.parquet\n"
     ]
    },
    {
     "data": {
      "application/vnd.jupyter.widget-view+json": {
       "model_id": "f5bcd6f9d34c45a7911f0a8be9d4c33d",
       "version_major": 2,
       "version_minor": 0
      },
      "text/plain": [
       "Processing Files (0 / 0)                : |          |  0.00B /  0.00B            "
      ]
     },
     "metadata": {},
     "output_type": "display_data"
    },
    {
     "data": {
      "application/vnd.jupyter.widget-view+json": {
       "model_id": "3f3eee97bf524bfea8b22ba750ec0450",
       "version_major": 2,
       "version_minor": 0
      },
      "text/plain": [
       "New Data Upload                         : |          |  0.00B /  0.00B            "
      ]
     },
     "metadata": {},
     "output_type": "display_data"
    },
    {
     "data": {
      "application/vnd.jupyter.widget-view+json": {
       "model_id": "ff16caa3ff8845d296b9047d02af5214",
       "version_major": 2,
       "version_minor": 0
      },
      "text/plain": [
       "  ...946eec2-3c22-414a-a26a-4c5f5503277c:  18%|#8        | 3.67MB / 20.3MB            "
      ]
     },
     "metadata": {},
     "output_type": "display_data"
    },
    {
     "name": "stdout",
     "output_type": "stream",
     "text": [
      "path_in_repo data/validation/20250904_234123_00159_rh4vh_de9c9a29-eeae-4367-98a9-21d900df7ec8.parquet\n"
     ]
    },
    {
     "data": {
      "application/vnd.jupyter.widget-view+json": {
       "model_id": "66a4ec163bee4b6b8aeefef72147fc97",
       "version_major": 2,
       "version_minor": 0
      },
      "text/plain": [
       "Processing Files (0 / 0)                : |          |  0.00B /  0.00B            "
      ]
     },
     "metadata": {},
     "output_type": "display_data"
    },
    {
     "data": {
      "application/vnd.jupyter.widget-view+json": {
       "model_id": "46a142b6bcc2466494014447e73b6555",
       "version_major": 2,
       "version_minor": 0
      },
      "text/plain": [
       "New Data Upload                         : |          |  0.00B /  0.00B            "
      ]
     },
     "metadata": {},
     "output_type": "display_data"
    },
    {
     "data": {
      "application/vnd.jupyter.widget-view+json": {
       "model_id": "4c21285d2a5a4ab3ae9773ca633912ef",
       "version_major": 2,
       "version_minor": 0
      },
      "text/plain": [
       "  ...e9c9a29-eeae-4367-98a9-21d900df7ec8:   3%|3         |  525kB / 17.4MB            "
      ]
     },
     "metadata": {},
     "output_type": "display_data"
    },
    {
     "name": "stdout",
     "output_type": "stream",
     "text": [
      "path_in_repo data/validation/20250904_234123_00159_rh4vh_e69a1c44-fb49-4f56-ba1c-c3b1e30b8b49.parquet\n"
     ]
    },
    {
     "data": {
      "application/vnd.jupyter.widget-view+json": {
       "model_id": "7bb025b1909a43e38bafe73a8ad7dc59",
       "version_major": 2,
       "version_minor": 0
      },
      "text/plain": [
       "Processing Files (0 / 0)                : |          |  0.00B /  0.00B            "
      ]
     },
     "metadata": {},
     "output_type": "display_data"
    },
    {
     "data": {
      "application/vnd.jupyter.widget-view+json": {
       "model_id": "515ebe8c0ce64b1cbb46f57319043fb4",
       "version_major": 2,
       "version_minor": 0
      },
      "text/plain": [
       "New Data Upload                         : |          |  0.00B /  0.00B            "
      ]
     },
     "metadata": {},
     "output_type": "display_data"
    },
    {
     "data": {
      "application/vnd.jupyter.widget-view+json": {
       "model_id": "e00b951ffb3c42db95c6747d49b28346",
       "version_major": 2,
       "version_minor": 0
      },
      "text/plain": [
       "  ...69a1c44-fb49-4f56-ba1c-c3b1e30b8b49:  22%|##2       | 3.67MB / 16.6MB            "
      ]
     },
     "metadata": {},
     "output_type": "display_data"
    },
    {
     "name": "stdout",
     "output_type": "stream",
     "text": [
      "path_in_repo data/validation/20250904_234123_00159_rh4vh_f4138a7b-4cf3-4c8f-a3bd-fe913f7dfe26.parquet\n"
     ]
    },
    {
     "data": {
      "application/vnd.jupyter.widget-view+json": {
       "model_id": "223a0cd2a44746fabbf15a9b4c7f54f3",
       "version_major": 2,
       "version_minor": 0
      },
      "text/plain": [
       "Processing Files (0 / 0)                : |          |  0.00B /  0.00B            "
      ]
     },
     "metadata": {},
     "output_type": "display_data"
    },
    {
     "data": {
      "application/vnd.jupyter.widget-view+json": {
       "model_id": "3fc6f6dc44654fc0b5d626fcb0f649d9",
       "version_major": 2,
       "version_minor": 0
      },
      "text/plain": [
       "New Data Upload                         : |          |  0.00B /  0.00B            "
      ]
     },
     "metadata": {},
     "output_type": "display_data"
    },
    {
     "data": {
      "application/vnd.jupyter.widget-view+json": {
       "model_id": "1ee0ed7e1ef040d0b8bd138f3345563b",
       "version_major": 2,
       "version_minor": 0
      },
      "text/plain": [
       "  ...4138a7b-4cf3-4c8f-a3bd-fe913f7dfe26:  18%|#7        | 3.67MB / 20.8MB            "
      ]
     },
     "metadata": {},
     "output_type": "display_data"
    },
    {
     "name": "stdout",
     "output_type": "stream",
     "text": [
      "path_in_repo data/validation/20250904_234123_00159_rh4vh_f56b0dcb-febb-4f5b-a9f0-4c9f1c856e21.parquet\n"
     ]
    },
    {
     "data": {
      "application/vnd.jupyter.widget-view+json": {
       "model_id": "04efe2d18e6c471eafba76723389d15b",
       "version_major": 2,
       "version_minor": 0
      },
      "text/plain": [
       "Processing Files (0 / 0)                : |          |  0.00B /  0.00B            "
      ]
     },
     "metadata": {},
     "output_type": "display_data"
    },
    {
     "data": {
      "application/vnd.jupyter.widget-view+json": {
       "model_id": "349508370a5b4451af505421dbc75285",
       "version_major": 2,
       "version_minor": 0
      },
      "text/plain": [
       "New Data Upload                         : |          |  0.00B /  0.00B            "
      ]
     },
     "metadata": {},
     "output_type": "display_data"
    },
    {
     "data": {
      "application/vnd.jupyter.widget-view+json": {
       "model_id": "62469c77fd05459cb7c2f81756ed270a",
       "version_major": 2,
       "version_minor": 0
      },
      "text/plain": [
       "  ...56b0dcb-febb-4f5b-a9f0-4c9f1c856e21:  23%|##2       | 3.67MB / 16.2MB            "
      ]
     },
     "metadata": {},
     "output_type": "display_data"
    },
    {
     "name": "stdout",
     "output_type": "stream",
     "text": [
      " :: END subset: validation | since_start: 16.0 minutes, 1.87 seconds | since_last: 4.0 minutes, 47.17 seconds :: \n"
     ]
    }
   ],
   "source": [
    "import boto3\n",
    "import os\n",
    "from pathlib import Path\n",
    "import time\n",
    "\n",
    "s3_client = boto3.client('s3')\n",
    "bucket_name = 'sagemaker-research-methodology-extraction'\n",
    "timelogger = utils.TimeLogger()\n",
    "destination_dataset = 'SteveAKopias/SemanticScholarCSFullTextWithOpenAlexTopics'\n",
    "for subset in ['train', 'test', 'validation']:\n",
    "    timelogger.log(f'START subset: {subset}')\n",
    "    s3_folder_prefix = f'01_data/03_core/unified_works_{subset}'\n",
    "    local_download_path = 'temp_files'\n",
    "    utils.ensure_path(local_download_path)\n",
    "\n",
    "    paginator = s3_client.get_paginator('list_objects_v2')\n",
    "    file_entry_pages = paginator.paginate(Bucket=bucket_name, Prefix=s3_folder_prefix)\n",
    "\n",
    "    for file_entry_page in file_entry_pages:\n",
    "        if 'Contents' in file_entry_page:\n",
    "            for file_entry in file_entry_page['Contents']:\n",
    "                s3_key = file_entry['Key']\n",
    "                relative_path = Path(s3_key).relative_to(s3_folder_prefix)\n",
    "                path_in_repo = f'data/{subset}/{relative_path}.parquet'\n",
    "                print('path_in_repo', path_in_repo)\n",
    "                local_file_path = Path(local_download_path) / subset / relative_path\n",
    "\n",
    "                local_file_path.parent.mkdir(parents=True, exist_ok=True)\n",
    "                # print('relative_path.resolve()', str(local_file_path.resolve()), type(local_file_path.resolve()))\n",
    "\n",
    "                s3_client.download_file(bucket_name, s3_key, str(local_file_path))\n",
    "                # print(f\"{subset}: Downloaded {s3_key} to {local_file_path}\")\n",
    "                upload_result = upload_file(\n",
    "                    path_or_fileobj=local_file_path,\n",
    "                    path_in_repo=path_in_repo,\n",
    "                    repo_id=destination_dataset,\n",
    "                    repo_type=\"dataset\",\n",
    "                )\n",
    "                # print(f\"{subset}: Uploaded {s3_key} to {path_in_repo}\")\n",
    "                if '/home/sagemaker-user/research_methodology_extraction/src/04_transformation/temp_files/' in str(local_file_path.resolve()):\n",
    "                    os.remove(local_file_path)\n",
    "                    # print(f\"{subset}: Deleted {s3_key} at {local_file_path}\")\n",
    "                time.sleep(10)\n",
    "    timelogger.log(f'END subset: {subset}')"
   ]
  },
  {
   "cell_type": "code",
   "execution_count": 5,
   "id": "faaf839b",
   "metadata": {
    "execution": {
     "iopub.execute_input": "2025-09-07T01:25:32.722650Z",
     "iopub.status.busy": "2025-09-07T01:25:32.722379Z",
     "iopub.status.idle": "2025-09-07T01:25:35.527461Z",
     "shell.execute_reply": "2025-09-07T01:25:35.526687Z",
     "shell.execute_reply.started": "2025-09-07T01:25:32.722628Z"
    },
    "scrolled": true
   },
   "outputs": [
    {
     "data": {
      "application/vnd.jupyter.widget-view+json": {
       "model_id": "379f917d8d614fc3a7a3f7474cc91ad0",
       "version_major": 2,
       "version_minor": 0
      },
      "text/plain": [
       "Resolving data files:   0%|          | 0/22 [00:00<?, ?it/s]"
      ]
     },
     "metadata": {},
     "output_type": "display_data"
    },
    {
     "data": {
      "application/vnd.jupyter.widget-view+json": {
       "model_id": "cf25e778d5914e3fb36123797824a873",
       "version_major": 2,
       "version_minor": 0
      },
      "text/plain": [
       "Resolving data files:   0%|          | 0/22 [00:00<?, ?it/s]"
      ]
     },
     "metadata": {},
     "output_type": "display_data"
    },
    {
     "data": {
      "application/vnd.jupyter.widget-view+json": {
       "model_id": "c6caab6256c9484c8f20fa84f7ad9d04",
       "version_major": 2,
       "version_minor": 0
      },
      "text/plain": [
       "Resolving data files:   0%|          | 0/22 [00:00<?, ?it/s]"
      ]
     },
     "metadata": {},
     "output_type": "display_data"
    },
    {
     "data": {
      "application/vnd.jupyter.widget-view+json": {
       "model_id": "501949da56ca4e6d92c5d98dcb9f97a7",
       "version_major": 2,
       "version_minor": 0
      },
      "text/plain": [
       "Loading dataset shards:   0%|          | 0/22 [00:00<?, ?it/s]"
      ]
     },
     "metadata": {},
     "output_type": "display_data"
    },
    {
     "data": {
      "text/plain": [
       "DatasetDict({\n",
       "    train: Dataset({\n",
       "        features: ['id', 'topic_index', 'topic_display_name', 'subfield_index', 'subfield_display_name', 'title', 'abstract', 'fulltext', 'subset'],\n",
       "        num_rows: 346344\n",
       "    })\n",
       "    validation: Dataset({\n",
       "        features: ['id', 'topic_index', 'topic_display_name', 'subfield_index', 'subfield_display_name', 'title', 'abstract', 'fulltext', 'subset'],\n",
       "        num_rows: 43439\n",
       "    })\n",
       "    test: Dataset({\n",
       "        features: ['id', 'topic_index', 'topic_display_name', 'subfield_index', 'subfield_display_name', 'title', 'abstract', 'fulltext', 'subset'],\n",
       "        num_rows: 43478\n",
       "    })\n",
       "})"
      ]
     },
     "execution_count": 5,
     "metadata": {},
     "output_type": "execute_result"
    }
   ],
   "source": [
    "from datasets import load_dataset, DatasetDict, Dataset\n",
    "dataset_name = 'SteveAKopias/SemanticScholarCSFullTextWithOpenAlexTopics'\n",
    "dataset = load_dataset(dataset_name)\n",
    "dataset"
   ]
  },
  {
   "cell_type": "code",
   "execution_count": 6,
   "id": "e299d55b-8964-4812-957a-31d25d6baef4",
   "metadata": {
    "execution": {
     "iopub.execute_input": "2025-09-07T01:25:36.566912Z",
     "iopub.status.busy": "2025-09-07T01:25:36.566399Z",
     "iopub.status.idle": "2025-09-07T01:25:36.570561Z",
     "shell.execute_reply": "2025-09-07T01:25:36.569546Z",
     "shell.execute_reply.started": "2025-09-07T01:25:36.566886Z"
    }
   },
   "outputs": [],
   "source": [
    "def filter_not_null(example, column_name):\n",
    "    return example[column_name] is not None"
   ]
  },
  {
   "cell_type": "code",
   "execution_count": 7,
   "id": "80ebcf28",
   "metadata": {
    "execution": {
     "iopub.execute_input": "2025-09-07T01:25:37.773842Z",
     "iopub.status.busy": "2025-09-07T01:25:37.773552Z",
     "iopub.status.idle": "2025-09-07T01:26:03.545199Z",
     "shell.execute_reply": "2025-09-07T01:26:03.544210Z",
     "shell.execute_reply.started": "2025-09-07T01:25:37.773820Z"
    }
   },
   "outputs": [
    {
     "data": {
      "application/vnd.jupyter.widget-view+json": {
       "model_id": "7a3ba4105c7e4a7d84c98bc88e5febdf",
       "version_major": 2,
       "version_minor": 0
      },
      "text/plain": [
       "Filter:   0%|          | 0/346344 [00:00<?, ? examples/s]"
      ]
     },
     "metadata": {},
     "output_type": "display_data"
    },
    {
     "data": {
      "application/vnd.jupyter.widget-view+json": {
       "model_id": "4f4dd9fba6df43149ed337a77b122909",
       "version_major": 2,
       "version_minor": 0
      },
      "text/plain": [
       "Filter:   0%|          | 0/43439 [00:00<?, ? examples/s]"
      ]
     },
     "metadata": {},
     "output_type": "display_data"
    },
    {
     "data": {
      "application/vnd.jupyter.widget-view+json": {
       "model_id": "54c4c78d0d63441db21dad97a63dcb4a",
       "version_major": 2,
       "version_minor": 0
      },
      "text/plain": [
       "Filter:   0%|          | 0/43478 [00:00<?, ? examples/s]"
      ]
     },
     "metadata": {},
     "output_type": "display_data"
    },
    {
     "data": {
      "application/vnd.jupyter.widget-view+json": {
       "model_id": "c4b1d2d61f7d4f44af3a5431db262df7",
       "version_major": 2,
       "version_minor": 0
      },
      "text/plain": [
       "Filter:   0%|          | 0/346344 [00:00<?, ? examples/s]"
      ]
     },
     "metadata": {},
     "output_type": "display_data"
    },
    {
     "data": {
      "application/vnd.jupyter.widget-view+json": {
       "model_id": "9d407bf61fc54ff88658ea061cc4c51a",
       "version_major": 2,
       "version_minor": 0
      },
      "text/plain": [
       "Filter:   0%|          | 0/43439 [00:00<?, ? examples/s]"
      ]
     },
     "metadata": {},
     "output_type": "display_data"
    },
    {
     "data": {
      "application/vnd.jupyter.widget-view+json": {
       "model_id": "54d5e6a5269a409c88fed7160044ae77",
       "version_major": 2,
       "version_minor": 0
      },
      "text/plain": [
       "Filter:   0%|          | 0/43478 [00:00<?, ? examples/s]"
      ]
     },
     "metadata": {},
     "output_type": "display_data"
    },
    {
     "data": {
      "application/vnd.jupyter.widget-view+json": {
       "model_id": "60568a62e10a4ab5992fcf3813a02ecc",
       "version_major": 2,
       "version_minor": 0
      },
      "text/plain": [
       "Uploading the dataset shards (num_proc=8):   0%|          | 0/8 [00:00<?, ? shards/s]"
      ]
     },
     "metadata": {},
     "output_type": "display_data"
    },
    {
     "data": {
      "application/vnd.jupyter.widget-view+json": {
       "model_id": "e2dd247517e14dc180bc361e2af4fa05",
       "version_major": 2,
       "version_minor": 0
      },
      "text/plain": [
       "Uploading the dataset shards (num_proc=8):   0%|          | 0/8 [00:00<?, ? shards/s]"
      ]
     },
     "metadata": {},
     "output_type": "display_data"
    },
    {
     "data": {
      "application/vnd.jupyter.widget-view+json": {
       "model_id": "faec0de1a29948e48b163c5e762c0627",
       "version_major": 2,
       "version_minor": 0
      },
      "text/plain": [
       "Uploading the dataset shards (num_proc=8):   0%|          | 0/8 [00:00<?, ? shards/s]"
      ]
     },
     "metadata": {},
     "output_type": "display_data"
    },
    {
     "data": {
      "text/plain": [
       "CommitInfo(commit_url='https://huggingface.co/datasets/SteveAKopias/SemanticScholarCSFullTextWithOpenAlexTopics_title_subfield/commit/44b6353afce6557021f730b131dd918197ba5194', commit_message='Upload dataset', commit_description='', oid='44b6353afce6557021f730b131dd918197ba5194', pr_url=None, repo_url=RepoUrl('https://huggingface.co/datasets/SteveAKopias/SemanticScholarCSFullTextWithOpenAlexTopics_title_subfield', endpoint='https://huggingface.co', repo_type='dataset', repo_id='SteveAKopias/SemanticScholarCSFullTextWithOpenAlexTopics_title_subfield'), pr_revision=None, pr_num=None)"
      ]
     },
     "execution_count": 7,
     "metadata": {},
     "output_type": "execute_result"
    }
   ],
   "source": [
    "dataset_title_subfieldindex = dataset.select_columns(['title', 'subfield_index'])\n",
    "dataset_title_subfieldindex = dataset_title_subfieldindex.filter(lambda x: filter_not_null(x, 'title'))\n",
    "dataset_title_subfieldindex = dataset_title_subfieldindex.filter(lambda x: filter_not_null(x, 'subfield_index'))\n",
    "dataset_title_subfieldindex.push_to_hub('SteveAKopias/SemanticScholarCSFullTextWithOpenAlexTopics'+'_title_subfield', num_proc=8)"
   ]
  },
  {
   "cell_type": "code",
   "execution_count": 8,
   "id": "31c4bae7",
   "metadata": {
    "execution": {
     "iopub.execute_input": "2025-09-07T01:26:19.448567Z",
     "iopub.status.busy": "2025-09-07T01:26:19.448092Z",
     "iopub.status.idle": "2025-09-07T01:26:41.931915Z",
     "shell.execute_reply": "2025-09-07T01:26:41.930904Z",
     "shell.execute_reply.started": "2025-09-07T01:26:19.448527Z"
    }
   },
   "outputs": [
    {
     "data": {
      "application/vnd.jupyter.widget-view+json": {
       "model_id": "209b337959414774856966e34ea28a59",
       "version_major": 2,
       "version_minor": 0
      },
      "text/plain": [
       "Filter:   0%|          | 0/346344 [00:00<?, ? examples/s]"
      ]
     },
     "metadata": {},
     "output_type": "display_data"
    },
    {
     "data": {
      "application/vnd.jupyter.widget-view+json": {
       "model_id": "adaddde1e7bc4e6d99ddf5e9285929a2",
       "version_major": 2,
       "version_minor": 0
      },
      "text/plain": [
       "Filter:   0%|          | 0/43439 [00:00<?, ? examples/s]"
      ]
     },
     "metadata": {},
     "output_type": "display_data"
    },
    {
     "data": {
      "application/vnd.jupyter.widget-view+json": {
       "model_id": "083b3ae33e4f43719a25f957521d1417",
       "version_major": 2,
       "version_minor": 0
      },
      "text/plain": [
       "Filter:   0%|          | 0/43478 [00:00<?, ? examples/s]"
      ]
     },
     "metadata": {},
     "output_type": "display_data"
    },
    {
     "data": {
      "application/vnd.jupyter.widget-view+json": {
       "model_id": "1d549f7c4283486492a94f0503653794",
       "version_major": 2,
       "version_minor": 0
      },
      "text/plain": [
       "Filter:   0%|          | 0/346344 [00:00<?, ? examples/s]"
      ]
     },
     "metadata": {},
     "output_type": "display_data"
    },
    {
     "data": {
      "application/vnd.jupyter.widget-view+json": {
       "model_id": "6c2bfe6326a84dc3941aeea0da46c448",
       "version_major": 2,
       "version_minor": 0
      },
      "text/plain": [
       "Filter:   0%|          | 0/43439 [00:00<?, ? examples/s]"
      ]
     },
     "metadata": {},
     "output_type": "display_data"
    },
    {
     "data": {
      "application/vnd.jupyter.widget-view+json": {
       "model_id": "83585c41e0ba4830916e1a9345f486cb",
       "version_major": 2,
       "version_minor": 0
      },
      "text/plain": [
       "Filter:   0%|          | 0/43478 [00:00<?, ? examples/s]"
      ]
     },
     "metadata": {},
     "output_type": "display_data"
    },
    {
     "data": {
      "application/vnd.jupyter.widget-view+json": {
       "model_id": "da64df11eb1449d0a4a00cd5a5e1881e",
       "version_major": 2,
       "version_minor": 0
      },
      "text/plain": [
       "Uploading the dataset shards (num_proc=8):   0%|          | 0/8 [00:00<?, ? shards/s]"
      ]
     },
     "metadata": {},
     "output_type": "display_data"
    },
    {
     "data": {
      "application/vnd.jupyter.widget-view+json": {
       "model_id": "7f8a91025f904d9baefe61d2819edacf",
       "version_major": 2,
       "version_minor": 0
      },
      "text/plain": [
       "Uploading the dataset shards (num_proc=8):   0%|          | 0/8 [00:00<?, ? shards/s]"
      ]
     },
     "metadata": {},
     "output_type": "display_data"
    },
    {
     "data": {
      "application/vnd.jupyter.widget-view+json": {
       "model_id": "4fc10a6e72074cceb4ed71d6b6cf2212",
       "version_major": 2,
       "version_minor": 0
      },
      "text/plain": [
       "Uploading the dataset shards (num_proc=8):   0%|          | 0/8 [00:00<?, ? shards/s]"
      ]
     },
     "metadata": {},
     "output_type": "display_data"
    },
    {
     "data": {
      "text/plain": [
       "CommitInfo(commit_url='https://huggingface.co/datasets/SteveAKopias/SemanticScholarCSFullTextWithOpenAlexTopics_title_topic/commit/fd46b397eb1721a6a8d9faa34e3fc6f946c41b7c', commit_message='Upload dataset', commit_description='', oid='fd46b397eb1721a6a8d9faa34e3fc6f946c41b7c', pr_url=None, repo_url=RepoUrl('https://huggingface.co/datasets/SteveAKopias/SemanticScholarCSFullTextWithOpenAlexTopics_title_topic', endpoint='https://huggingface.co', repo_type='dataset', repo_id='SteveAKopias/SemanticScholarCSFullTextWithOpenAlexTopics_title_topic'), pr_revision=None, pr_num=None)"
      ]
     },
     "execution_count": 8,
     "metadata": {},
     "output_type": "execute_result"
    }
   ],
   "source": [
    "dataset_title_topicindex = dataset.select_columns(['title', 'topic_index'])\n",
    "dataset_title_topicindex = dataset_title_topicindex.filter(lambda x: filter_not_null(x, 'title'))\n",
    "dataset_title_topicindex = dataset_title_topicindex.filter(lambda x: filter_not_null(x, 'topic_index'))\n",
    "dataset_title_topicindex.push_to_hub('SteveAKopias/SemanticScholarCSFullTextWithOpenAlexTopics'+'_title_topic', num_proc=8)"
   ]
  },
  {
   "cell_type": "code",
   "execution_count": 10,
   "id": "5cfc9a54",
   "metadata": {
    "execution": {
     "iopub.execute_input": "2025-09-07T01:28:56.663813Z",
     "iopub.status.busy": "2025-09-07T01:28:56.663538Z",
     "iopub.status.idle": "2025-09-07T01:29:57.355312Z",
     "shell.execute_reply": "2025-09-07T01:29:57.354460Z",
     "shell.execute_reply.started": "2025-09-07T01:28:56.663791Z"
    }
   },
   "outputs": [
    {
     "data": {
      "application/vnd.jupyter.widget-view+json": {
       "model_id": "1b346cd0f1b0439eabc60642fdd70e03",
       "version_major": 2,
       "version_minor": 0
      },
      "text/plain": [
       "Uploading the dataset shards (num_proc=8):   0%|          | 0/8 [00:00<?, ? shards/s]"
      ]
     },
     "metadata": {},
     "output_type": "display_data"
    },
    {
     "data": {
      "application/vnd.jupyter.widget-view+json": {
       "model_id": "36a4b7773fbe49169ed1121271b8e2d6",
       "version_major": 2,
       "version_minor": 0
      },
      "text/plain": [
       "Uploading the dataset shards (num_proc=8):   0%|          | 0/8 [00:00<?, ? shards/s]"
      ]
     },
     "metadata": {},
     "output_type": "display_data"
    },
    {
     "data": {
      "application/vnd.jupyter.widget-view+json": {
       "model_id": "eb32062aa5da4178948cf3c2ec0ef662",
       "version_major": 2,
       "version_minor": 0
      },
      "text/plain": [
       "Uploading the dataset shards (num_proc=8):   0%|          | 0/8 [00:00<?, ? shards/s]"
      ]
     },
     "metadata": {},
     "output_type": "display_data"
    },
    {
     "data": {
      "application/vnd.jupyter.widget-view+json": {
       "model_id": "41b8d53007f545d59bea97e6afc09129",
       "version_major": 2,
       "version_minor": 0
      },
      "text/plain": [
       "Filter:   0%|          | 0/346344 [00:00<?, ? examples/s]"
      ]
     },
     "metadata": {},
     "output_type": "display_data"
    },
    {
     "data": {
      "application/vnd.jupyter.widget-view+json": {
       "model_id": "66e9c3a94a074f01a1b64da5ebc21f19",
       "version_major": 2,
       "version_minor": 0
      },
      "text/plain": [
       "Filter:   0%|          | 0/43439 [00:00<?, ? examples/s]"
      ]
     },
     "metadata": {},
     "output_type": "display_data"
    },
    {
     "data": {
      "application/vnd.jupyter.widget-view+json": {
       "model_id": "25b20a561eda4ea4b4772af9316bf240",
       "version_major": 2,
       "version_minor": 0
      },
      "text/plain": [
       "Filter:   0%|          | 0/43478 [00:00<?, ? examples/s]"
      ]
     },
     "metadata": {},
     "output_type": "display_data"
    },
    {
     "data": {
      "application/vnd.jupyter.widget-view+json": {
       "model_id": "1f31400ff7bd49c7a8199a0a64d7b99b",
       "version_major": 2,
       "version_minor": 0
      },
      "text/plain": [
       "Filter:   0%|          | 0/340161 [00:00<?, ? examples/s]"
      ]
     },
     "metadata": {},
     "output_type": "display_data"
    },
    {
     "data": {
      "application/vnd.jupyter.widget-view+json": {
       "model_id": "792ac2c94a3249a7aeb7fd9f963f0a92",
       "version_major": 2,
       "version_minor": 0
      },
      "text/plain": [
       "Filter:   0%|          | 0/42640 [00:00<?, ? examples/s]"
      ]
     },
     "metadata": {},
     "output_type": "display_data"
    },
    {
     "data": {
      "application/vnd.jupyter.widget-view+json": {
       "model_id": "2d396a4c2526411a9408c4d30c89fec6",
       "version_major": 2,
       "version_minor": 0
      },
      "text/plain": [
       "Filter:   0%|          | 0/42715 [00:00<?, ? examples/s]"
      ]
     },
     "metadata": {},
     "output_type": "display_data"
    },
    {
     "data": {
      "application/vnd.jupyter.widget-view+json": {
       "model_id": "baf0e1df830b455a872140dea01138d1",
       "version_major": 2,
       "version_minor": 0
      },
      "text/plain": [
       "Uploading the dataset shards (num_proc=8):   0%|          | 0/8 [00:00<?, ? shards/s]"
      ]
     },
     "metadata": {},
     "output_type": "display_data"
    },
    {
     "data": {
      "application/vnd.jupyter.widget-view+json": {
       "model_id": "2c233305d7964287a5a042c473445e4d",
       "version_major": 2,
       "version_minor": 0
      },
      "text/plain": [
       "Uploading the dataset shards (num_proc=8):   0%|          | 0/8 [00:00<?, ? shards/s]"
      ]
     },
     "metadata": {},
     "output_type": "display_data"
    },
    {
     "data": {
      "application/vnd.jupyter.widget-view+json": {
       "model_id": "2b8219c94e1843b3b1c6fd765d89ffea",
       "version_major": 2,
       "version_minor": 0
      },
      "text/plain": [
       "Uploading the dataset shards (num_proc=8):   0%|          | 0/8 [00:00<?, ? shards/s]"
      ]
     },
     "metadata": {},
     "output_type": "display_data"
    },
    {
     "data": {
      "text/plain": [
       "CommitInfo(commit_url='https://huggingface.co/datasets/SteveAKopias/SemanticScholarCSFullTextWithOpenAlexTopics_abstract_topic/commit/74a8b8ea0fb4fec89fc22e9ef5ede553b50cee51', commit_message='Upload dataset', commit_description='', oid='74a8b8ea0fb4fec89fc22e9ef5ede553b50cee51', pr_url=None, repo_url=RepoUrl('https://huggingface.co/datasets/SteveAKopias/SemanticScholarCSFullTextWithOpenAlexTopics_abstract_topic', endpoint='https://huggingface.co', repo_type='dataset', repo_id='SteveAKopias/SemanticScholarCSFullTextWithOpenAlexTopics_abstract_topic'), pr_revision=None, pr_num=None)"
      ]
     },
     "execution_count": 10,
     "metadata": {},
     "output_type": "execute_result"
    }
   ],
   "source": [
    "dataset_abstract_subfieldindex = dataset.select_columns(['abstract', 'subfield_index'])\n",
    "dataset_abstract_subfieldindex = dataset_abstract_subfieldindex.filter(lambda x: filter_not_null(x, 'abstract'))\n",
    "dataset_abstract_subfieldindex = dataset_abstract_subfieldindex.filter(lambda x: filter_not_null(x, 'subfield_index'))\n",
    "dataset_abstract_subfieldindex.push_to_hub('SteveAKopias/SemanticScholarCSFullTextWithOpenAlexTopics'+'_abstract_subfield', num_proc=8)\n",
    "\n",
    "dataset_abstract_topicindex = dataset.select_columns(['abstract', 'topic_index'])\n",
    "dataset_abstract_topicindex = dataset_abstract_topicindex.filter(lambda x: filter_not_null(x, 'abstract'))\n",
    "dataset_abstract_topicindex = dataset_abstract_topicindex.filter(lambda x: filter_not_null(x, 'topic_index'))\n",
    "dataset_abstract_topicindex.push_to_hub('SteveAKopias/SemanticScholarCSFullTextWithOpenAlexTopics'+'_abstract_topic', num_proc=8)"
   ]
  },
  {
   "cell_type": "code",
   "execution_count": null,
   "id": "56727830",
   "metadata": {
    "execution": {
     "iopub.execute_input": "2025-09-07T01:30:11.492476Z",
     "iopub.status.busy": "2025-09-07T01:30:11.492193Z"
    },
    "scrolled": true
   },
   "outputs": [
    {
     "data": {
      "application/vnd.jupyter.widget-view+json": {
       "model_id": "03cc53ebeef1475a9b8a3c691a63c60c",
       "version_major": 2,
       "version_minor": 0
      },
      "text/plain": [
       "Filter:   0%|          | 0/346344 [00:00<?, ? examples/s]"
      ]
     },
     "metadata": {},
     "output_type": "display_data"
    }
   ],
   "source": [
    "dataset_fulltext_subfieldindex = dataset.select_columns(['fulltext', 'subfield_index'])\n",
    "dataset_fulltext_subfieldindex = dataset_fulltext_subfieldindex.filter(lambda x: filter_not_null(x, 'fulltext'))\n",
    "dataset_fulltext_subfieldindex = dataset_fulltext_subfieldindex.filter(lambda x: filter_not_null(x, 'subfield_index'))\n",
    "dataset_fulltext_subfieldindex.push_to_hub('SteveAKopias/SemanticScholarCSFullTextWithOpenAlexTopics'+'_fulltext_subfield')"
   ]
  },
  {
   "cell_type": "code",
   "execution_count": null,
   "id": "69c5a246",
   "metadata": {},
   "outputs": [],
   "source": [
    "dataset_fulltext_topicindex = dataset.select_columns(['fulltext', 'topic_index'])\n",
    "dataset_fulltext_topicindex = dataset_fulltext_topicindex.filter(lambda x: filter_not_null(x, 'fulltext'))\n",
    "dataset_fulltext_topicindex = dataset_fulltext_topicindex.filter(lambda x: filter_not_null(x, 'topic_index'))\n",
    "dataset_fulltext_topicindex.push_to_hub('SteveAKopias/SemanticScholarCSFullTextWithOpenAlexTopics'+'_fulltext_topic')"
   ]
  },
  {
   "cell_type": "code",
   "execution_count": null,
   "id": "06af4ae8",
   "metadata": {},
   "outputs": [],
   "source": []
  }
 ],
 "metadata": {
  "kernelspec": {
   "display_name": "python_311_2",
   "language": "python",
   "name": "python_311_2"
  },
  "language_info": {
   "codemirror_mode": {
    "name": "ipython",
    "version": 3
   },
   "file_extension": ".py",
   "mimetype": "text/x-python",
   "name": "python",
   "nbconvert_exporter": "python",
   "pygments_lexer": "ipython3",
   "version": "3.11.13"
  }
 },
 "nbformat": 4,
 "nbformat_minor": 5
}
