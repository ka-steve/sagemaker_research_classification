{
 "cells": [
  {
   "cell_type": "code",
   "execution_count": 1,
   "id": "1344db8e",
   "metadata": {
    "execution": {
     "iopub.execute_input": "2025-09-01T14:08:49.467214Z",
     "iopub.status.busy": "2025-09-01T14:08:49.466968Z",
     "iopub.status.idle": "2025-09-01T14:08:54.973086Z",
     "shell.execute_reply": "2025-09-01T14:08:54.972250Z",
     "shell.execute_reply.started": "2025-09-01T14:08:49.467194Z"
    }
   },
   "outputs": [
    {
     "name": "stdout",
     "output_type": "stream",
     "text": [
      "sagemaker.config INFO - Not applying SDK defaults from location: /etc/xdg/sagemaker/config.yaml\n",
      "sagemaker.config INFO - Not applying SDK defaults from location: /home/sagemaker-user/.config/sagemaker/config.yaml\n",
      "config.py loaded: v0.1\n",
      "utils.py loaded: v0.2.12\n",
      "utils.py loaded: v0.2.12\n",
      "config.py loaded: v0.1\n"
     ]
    }
   ],
   "source": [
    "import requests\n",
    "import boto3\n",
    "import json\n",
    "import os\n",
    "import sys\n",
    "import argparse\n",
    "import importlib\n",
    "import transformers\n",
    "import torch\n",
    "import pathlib\n",
    "import awswrangler as wr\n",
    "from IPython.display import display\n",
    "from sagemaker.huggingface.processing import HuggingFaceProcessor\n",
    "from sagemaker.sklearn.processing import SKLearnProcessor\n",
    "from sagemaker.processing import FrameworkProcessor\n",
    "from sagemaker.sklearn.estimator import SKLearn\n",
    "from sagemaker.workflow.steps import ProcessingStep\n",
    "from sagemaker.workflow.pipeline_context import PipelineSession\n",
    "from sagemaker.processing import ProcessingInput, ProcessingOutput\n",
    "from sagemaker.session import get_execution_role\n",
    "\n",
    "\n",
    "# Adding ../01_modules or ./01_modules to the system path so that we can load modules from \n",
    "# there as well\n",
    "if '__file__' in globals():\n",
    "    script_dir = pathlib.Path(__file__).parent.resolve()\n",
    "else:\n",
    "    script_dir = pathlib.Path().absolute()\n",
    "modules_path_in_dev = os.path.abspath(os.path.join(script_dir, '..', '01_modules'))\n",
    "modules_path_in_prod = os.path.abspath(os.path.join(script_dir, '01_modules'))\n",
    "if os.path.exists(modules_path_in_dev):\n",
    "    sys.path.append(modules_path_in_dev)\n",
    "if os.path.exists(modules_path_in_prod):\n",
    "    sys.path.append(modules_path_in_prod)\n",
    "\n",
    "\n",
    "# # Jupyter only reads a local module the first time after \n",
    "# # kernel start. Re-running a cell with \n",
    "# # \"from mymodulename import *\" would not change\n",
    "# # anything, even if the imported module has since changed.\n",
    "# # As a workaround, we need to directly load the module, \n",
    "# # use importlib.reload to reload it and then import * \n",
    "import utils\n",
    "_ = importlib.reload(utils)\n",
    "import config\n",
    "_ = importlib.reload(config) \n"
   ]
  },
  {
   "cell_type": "code",
   "execution_count": 2,
   "id": "b4aa4a44-7e8e-45a9-9440-1c1f723af163",
   "metadata": {
    "execution": {
     "iopub.execute_input": "2025-08-29T09:06:07.829418Z",
     "iopub.status.busy": "2025-08-29T09:06:07.829105Z",
     "iopub.status.idle": "2025-08-29T09:06:07.835707Z",
     "shell.execute_reply": "2025-08-29T09:06:07.834404Z",
     "shell.execute_reply.started": "2025-08-29T09:06:07.829392Z"
    },
    "scrolled": true
   },
   "outputs": [],
   "source": [
    "if False: # do not run this again, takes a day\n",
    "    execution_role = get_execution_role()\n",
    "    source_dir = os.path.abspath(os.path.join(os.getcwd(), '..', '..'))\n",
    "    print('source_dir:', source_dir)\n",
    "    sklearn_processor = FrameworkProcessor(\n",
    "        estimator_cls=SKLearn,\n",
    "        framework_version='1.2-1', # The newest supported version by sagemaker\n",
    "        instance_type='ml.c7i.16xlarge',\n",
    "        instance_count=1,\n",
    "        base_job_name=f'openalex_works_reduction'.replace('_','-'),\n",
    "        role=execution_role\n",
    "    )\n",
    "    \n",
    "    step_args = sklearn_processor.run(\n",
    "        code='src/03_transformation/03_11_transformation_openalex_works_reduction.py',\n",
    "        source_dir=source_dir,\n",
    "        inputs=[], # We are not using automatic input-output mapping, instead we handle everything in the script directly on S3\n",
    "        outputs=[],\n",
    "        arguments=[\n",
    "            '--runtype', 'prod',\n",
    "            '--file-max-limit', '10000',\n",
    "        ],\n",
    "        wait=True\n",
    "    )"
   ]
  },
  {
   "cell_type": "code",
   "execution_count": 30,
   "id": "010f147a",
   "metadata": {
    "execution": {
     "iopub.execute_input": "2025-09-02T00:36:35.339729Z",
     "iopub.status.busy": "2025-09-02T00:36:35.339364Z",
     "iopub.status.idle": "2025-09-02T00:37:25.788570Z",
     "shell.execute_reply": "2025-09-02T00:37:25.787904Z",
     "shell.execute_reply.started": "2025-09-02T00:36:35.339695Z"
    }
   },
   "outputs": [
    {
     "name": "stdout",
     "output_type": "stream",
     "text": [
      " :: :: TIMELOGGER STARTED :: | since_start: 0.00 seconds | since_last: 0.00 seconds :: \n",
      "Deleting S3 objects from s3://sagemaker-research-methodology-extraction/01_data/02_stg/base_openalex_works_reduced_filtered/\n",
      "s3_parent_target_path:  s3://sagemaker-research-methodology-extraction/01_data/02_stg\n",
      " :: \"02_stg\".base_openalex_works_reduced_filtered created | since_start: 42.36 seconds | since_last: 42.36 seconds :: \n"
     ]
    },
    {
     "data": {
      "text/html": [
       "<div>\n",
       "<style scoped>\n",
       "    .dataframe tbody tr th:only-of-type {\n",
       "        vertical-align: middle;\n",
       "    }\n",
       "\n",
       "    .dataframe tbody tr th {\n",
       "        vertical-align: top;\n",
       "    }\n",
       "\n",
       "    .dataframe thead th {\n",
       "        text-align: right;\n",
       "    }\n",
       "</style>\n",
       "<table border=\"1\" class=\"dataframe\">\n",
       "  <thead>\n",
       "    <tr style=\"text-align: right;\">\n",
       "      <th></th>\n",
       "      <th>id_openalex</th>\n",
       "      <th>id_doi</th>\n",
       "      <th>title</th>\n",
       "      <th>language</th>\n",
       "      <th>primary_topic_id</th>\n",
       "      <th>primary_topic_display_name</th>\n",
       "      <th>primary_topic_subfield_id</th>\n",
       "      <th>primary_topic_subfield_display_name</th>\n",
       "      <th>primary_topic_field_id</th>\n",
       "      <th>primary_topic_field_display_name</th>\n",
       "      <th>primary_topic_domain_id</th>\n",
       "      <th>primary_topic_domain_display_name</th>\n",
       "    </tr>\n",
       "  </thead>\n",
       "  <tbody>\n",
       "    <tr>\n",
       "      <th>0</th>\n",
       "      <td>2184395120</td>\n",
       "      <td>&lt;NA&gt;</td>\n",
       "      <td>AN APPROACH FOR COMPRESSING DIGITAL IMAGES BY USING RUN LENGTH ENCODING</td>\n",
       "      <td>en</td>\n",
       "      <td>T10901</td>\n",
       "      <td>Advanced Data Compression Techniques</td>\n",
       "      <td>1707</td>\n",
       "      <td>Computer Vision and Pattern Recognition</td>\n",
       "      <td>17</td>\n",
       "      <td>Computer Science</td>\n",
       "      <td>3</td>\n",
       "      <td>Physical Sciences</td>\n",
       "    </tr>\n",
       "    <tr>\n",
       "      <th>1</th>\n",
       "      <td>2184397778</td>\n",
       "      <td>&lt;NA&gt;</td>\n",
       "      <td>LEARNINGMINIMUM VOLUME SETSWITH SUPPORTVECTOR MACHINES</td>\n",
       "      <td>en</td>\n",
       "      <td>T11512</td>\n",
       "      <td>Anomaly Detection Techniques and Applications</td>\n",
       "      <td>1702</td>\n",
       "      <td>Artificial Intelligence</td>\n",
       "      <td>17</td>\n",
       "      <td>Computer Science</td>\n",
       "      <td>3</td>\n",
       "      <td>Physical Sciences</td>\n",
       "    </tr>\n",
       "    <tr>\n",
       "      <th>2</th>\n",
       "      <td>2184397944</td>\n",
       "      <td>&lt;NA&gt;</td>\n",
       "      <td>Analyzing thePerformance ofVoice over Internet Protocol ina 3GNetwork</td>\n",
       "      <td>en</td>\n",
       "      <td>T10575</td>\n",
       "      <td>Wireless Communication Networks Research</td>\n",
       "      <td>1705</td>\n",
       "      <td>Computer Networks and Communications</td>\n",
       "      <td>17</td>\n",
       "      <td>Computer Science</td>\n",
       "      <td>3</td>\n",
       "      <td>Physical Sciences</td>\n",
       "    </tr>\n",
       "  </tbody>\n",
       "</table>\n",
       "</div>"
      ],
      "text/plain": [
       "  id_openalex id_doi                                                                    title language primary_topic_id                     primary_topic_display_name primary_topic_subfield_id      primary_topic_subfield_display_name primary_topic_field_id primary_topic_field_display_name primary_topic_domain_id primary_topic_domain_display_name\n",
       "0  2184395120   <NA>  AN APPROACH FOR COMPRESSING DIGITAL IMAGES BY USING RUN LENGTH ENCODING       en           T10901           Advanced Data Compression Techniques                      1707  Computer Vision and Pattern Recognition                     17                 Computer Science                       3                 Physical Sciences\n",
       "1  2184397778   <NA>                   LEARNINGMINIMUM VOLUME SETSWITH SUPPORTVECTOR MACHINES       en           T11512  Anomaly Detection Techniques and Applications                      1702                  Artificial Intelligence                     17                 Computer Science                       3                 Physical Sciences\n",
       "2  2184397944   <NA>    Analyzing thePerformance ofVoice over Internet Protocol ina 3GNetwork       en           T10575       Wireless Communication Networks Research                      1705     Computer Networks and Communications                     17                 Computer Science                       3                 Physical Sciences"
      ]
     },
     "metadata": {},
     "output_type": "display_data"
    },
    {
     "data": {
      "text/html": [
       "<div>\n",
       "<style scoped>\n",
       "    .dataframe tbody tr th:only-of-type {\n",
       "        vertical-align: middle;\n",
       "    }\n",
       "\n",
       "    .dataframe tbody tr th {\n",
       "        vertical-align: top;\n",
       "    }\n",
       "\n",
       "    .dataframe thead th {\n",
       "        text-align: right;\n",
       "    }\n",
       "</style>\n",
       "<table border=\"1\" class=\"dataframe\">\n",
       "  <thead>\n",
       "    <tr style=\"text-align: right;\">\n",
       "      <th></th>\n",
       "      <th>c</th>\n",
       "    </tr>\n",
       "  </thead>\n",
       "  <tbody>\n",
       "    <tr>\n",
       "      <th>0</th>\n",
       "      <td>13242469</td>\n",
       "    </tr>\n",
       "  </tbody>\n",
       "</table>\n",
       "</div>"
      ],
      "text/plain": [
       "          c\n",
       "0  13242469"
      ]
     },
     "metadata": {},
     "output_type": "display_data"
    },
    {
     "name": "stdout",
     "output_type": "stream",
     "text": [
      " :: \"02_stg\".base_openalex_works_reduced_filtered queries finished | since_start: 50.44 seconds | since_last: 8.08 seconds :: \n"
     ]
    },
    {
     "data": {
      "text/plain": [
       "' :: \"02_stg\".base_openalex_works_reduced_filtered queries finished | since_start: 50.44 seconds | since_last: 8.08 seconds :: '"
      ]
     },
     "execution_count": 30,
     "metadata": {},
     "output_type": "execute_result"
    }
   ],
   "source": [
    "table_name = 'base_openalex_works_reduced_filtered'\n",
    "timelogger = utils.TimeLogger()\n",
    "utils.create_table_from_sql_file(\n",
    "    database_name = '02_stg',\n",
    "    table_name = table_name,\n",
    "    overwrite_strategy='overwrite', # options: fail, overwrite, ignore\n",
    "    wait=True,\n",
    ")\n",
    "timelogger.log(f'\"02_stg\".{table_name} created')\n",
    "\n",
    "utils.pd_set_options(cols=500)\n",
    "display(wr.athena.read_sql_query(f\"\"\"SELECT * FROM \"02_stg\".{table_name} LIMIT 3 \"\"\", '02_stg'))\n",
    "display(wr.athena.read_sql_query(f\"\"\"SELECT COUNT(*) AS c FROM \"02_stg\".{table_name} \"\"\", '02_stg'))\n",
    "timelogger.log(f'\"02_stg\".{table_name} queries finished')"
   ]
  },
  {
   "cell_type": "code",
   "execution_count": 3,
   "id": "762303a9-b2c6-4094-bebb-8b8369e8443b",
   "metadata": {
    "execution": {
     "iopub.execute_input": "2025-09-01T14:11:37.956883Z",
     "iopub.status.busy": "2025-09-01T14:11:37.956468Z",
     "iopub.status.idle": "2025-09-01T14:22:49.712957Z",
     "shell.execute_reply": "2025-09-01T14:22:49.711948Z",
     "shell.execute_reply.started": "2025-09-01T14:11:37.956846Z"
    }
   },
   "outputs": [
    {
     "name": "stdout",
     "output_type": "stream",
     "text": [
      " :: :: TIMELOGGER STARTED :: | since_start: 0.00 seconds | since_last: 0.00 seconds :: \n",
      "Table 02_stg.base_semanticscholar_s2orcv2 already exists. Overwriting since overwrite_strategy==\"overwrite\".\n",
      "Deleting table from Glue Catalog 02_stg base_semanticscholar_s2orcv2\n",
      "Deleting S3 objects from s3://sagemaker-research-methodology-extraction/01_data/02_stg/base_semanticscholar_s2orcv2/\n",
      "s3_parent_target_path:  s3://sagemaker-research-methodology-extraction/01_data/02_stg\n",
      " :: \"02_stg\".base_semanticscholar_s2orcv2 created | since_start: 11.0 minutes, 1.71 seconds | since_last: 11.0 minutes, 1.71 seconds :: \n"
     ]
    },
    {
     "data": {
      "text/html": [
       "<div>\n",
       "<style scoped>\n",
       "    .dataframe tbody tr th:only-of-type {\n",
       "        vertical-align: middle;\n",
       "    }\n",
       "\n",
       "    .dataframe tbody tr th {\n",
       "        vertical-align: top;\n",
       "    }\n",
       "\n",
       "    .dataframe thead th {\n",
       "        text-align: right;\n",
       "    }\n",
       "</style>\n",
       "<table border=\"1\" class=\"dataframe\">\n",
       "  <thead>\n",
       "    <tr style=\"text-align: right;\">\n",
       "      <th></th>\n",
       "      <th>id_semanticscholar</th>\n",
       "      <th>id_mag</th>\n",
       "      <th>id_doi</th>\n",
       "      <th>id_arxiv</th>\n",
       "      <th>title</th>\n",
       "      <th>source_url</th>\n",
       "      <th>openaccess_status</th>\n",
       "      <th>content_text</th>\n",
       "      <th>annotations_paragraph</th>\n",
       "      <th>annotations_section_header</th>\n",
       "      <th>license</th>\n",
       "    </tr>\n",
       "  </thead>\n",
       "  <tbody>\n",
       "    <tr>\n",
       "      <th>0</th>\n",
       "      <td>1808709</td>\n",
       "      <td>2101143116</td>\n",
       "      <td>10.1186/1476-511x-13-132</td>\n",
       "      <td>&lt;NA&gt;</td>\n",
       "      <td>Twist 1 regulates the expression of PPARγ during hormone-induced 3T3-L1 preadipocyte differentiation: a possible role in obesity and associated diseases</td>\n",
       "      <td>https://pmc.ncbi.nlm.nih.gov/articles/PMC4150960</td>\n",
       "      <td>GOLD</td>\n",
       "      <td>\\nBackground\\n\\nObesity has become an epidemic in the human population, and China has the highest number of obese patients in the world [1]. Because obesity involves an increase in the number of adipocytes, any of the factors involved in adipocyte differentiation might be of great importance for the development of obesity. To date, numerous factors and proteins have been implicated in the generation of new fat cells, including peroxisome proliferator-activated receptor gamma (PPARγ) [2,3], C...</td>\n",
       "      <td>[{\"attributes\":null,\"end\":781,\"start\":13},{\"attributes\":null,\"end\":2087,\"start\":783},{\"attributes\":null,\"end\":3470,\"start\":2089},{\"attributes\":null,\"end\":4312,\"start\":3472},{\"attributes\":null,\"end\":5329,\"start\":4323},{\"attributes\":null,\"end\":5818,\"start\":5409},{\"attributes\":null,\"end\":6151,\"start\":5890},{\"attributes\":null,\"end\":6744,\"start\":6218},{\"attributes\":null,\"end\":8054,\"start\":6870},{\"attributes\":null,\"end\":8511,\"start\":8056},{\"attributes\":null,\"end\":9031,\"start\":8525},{\"attributes\":n...</td>\n",
       "      <td>[{\"attributes\":null,\"end\":11,\"start\":1},{\"attributes\":null,\"end\":4321,\"start\":4314},{\"attributes\":null,\"end\":5407,\"start\":5331},{\"attributes\":null,\"end\":5888,\"start\":5820},{\"attributes\":null,\"end\":6216,\"start\":6153},{\"attributes\":null,\"end\":6868,\"start\":6746},{\"attributes\":null,\"end\":8523,\"start\":8513},{\"attributes\":null,\"end\":16548,\"start\":16527},{\"attributes\":null,\"end\":16559,\"start\":16550},{\"attributes\":null,\"end\":17519,\"start\":17439},{\"attributes\":null,\"end\":19472,\"start\":19445},{\"attrib...</td>\n",
       "      <td>CCBY</td>\n",
       "    </tr>\n",
       "    <tr>\n",
       "      <th>1</th>\n",
       "      <td>3738414</td>\n",
       "      <td>2789005638</td>\n",
       "      <td>10.1155/2018/1042479</td>\n",
       "      <td>&lt;NA&gt;</td>\n",
       "      <td>PROM and Labour Effects on Urinary Metabolome: A Pilot Study</td>\n",
       "      <td>https://pmc.ncbi.nlm.nih.gov/articles/PMC5817378</td>\n",
       "      <td>GOLD</td>\n",
       "      <td>\\nIntroduction\\n\\nThe early diagnosis of pregnancy-related complications and the prediction of pregnancy outcome are considered strategic clinical goals to ensure the health of mothers and of their babies. Among these, premature rupture of membranes (PROM) consists of the rupture of the foetal membranes before the onset of labour. It can be observed at any gestational age [1] and occurs in approximately 10% of pregnant women and in roughly 40% of preterm deliveries [2]. Foetal membranes are ...</td>\n",
       "      <td>[{\"attributes\":null,\"end\":4623,\"start\":15},{\"attributes\":null,\"end\":6006,\"start\":4703},{\"attributes\":null,\"end\":7040,\"start\":6040},{\"attributes\":null,\"end\":7808,\"start\":7063},{\"attributes\":null,\"end\":9464,\"start\":7836},{\"attributes\":null,\"end\":10835,\"start\":9466},{\"attributes\":null,\"end\":11411,\"start\":10861},{\"attributes\":null,\"end\":12575,\"start\":11413},{\"attributes\":null,\"end\":12831,\"start\":12585},{\"attributes\":null,\"end\":12984,\"start\":12833},{\"attributes\":null,\"end\":13373,\"start\":12986},{\"...</td>\n",
       "      <td>[{\"attributes\":{\"n\":\"1.\"},\"end\":13,\"start\":1},{\"attributes\":{\"n\":\"2.\"},\"end\":4646,\"start\":4625},{\"attributes\":{\"n\":\"2.1.\"},\"end\":4701,\"start\":4648},{\"attributes\":{\"n\":\"2.2.\"},\"end\":6038,\"start\":6008},{\"attributes\":{\"n\":\"2.3.\"},\"end\":7061,\"start\":7042},{\"attributes\":{\"n\":\"2.4.\"},\"end\":7834,\"start\":7810},{\"attributes\":{\"n\":\"3.\"},\"end\":10859,\"start\":10837},{\"attributes\":{\"n\":\"3.3.\"},\"end\":12583,\"start\":12577},{\"attributes\":{\"n\":\"4.\"},\"end\":13385,\"start\":13375},{\"attributes\":{\"n\":\"5.\"},\"end\":167...</td>\n",
       "      <td>CCBY</td>\n",
       "    </tr>\n",
       "    <tr>\n",
       "      <th>2</th>\n",
       "      <td>15710447</td>\n",
       "      <td>2741402565</td>\n",
       "      <td>10.18653/v1/w17-1005</td>\n",
       "      <td>&lt;NA&gt;</td>\n",
       "      <td>Word Embedding and Topic Modeling Enhanced Multiple Features for Content Linking and Argument / Sentiment Labeling in Online Forums</td>\n",
       "      <td>https://aclanthology.org/W17-1005</td>\n",
       "      <td>HYBRID</td>\n",
       "      <td>\\nIntroduction\\n\\nComments to news and their providers in online forums have been increasing rapidly in recent years with a large number of user participants and huge amount of interactive contents. How can we understand the mass of comments effectively? A crucial initial step towards this goal should be content linking, which is to determine what comments link to, be that either specific news snippets or comments by other users. Furthermore, a set of labels for a given link may be articulat...</td>\n",
       "      <td>[{\"attributes\":null,\"end\":585,\"start\":15},{\"attributes\":null,\"end\":813,\"start\":587},{\"attributes\":null,\"end\":1141,\"start\":815},{\"attributes\":null,\"end\":1511,\"start\":1143},{\"attributes\":null,\"end\":2352,\"start\":1531},{\"attributes\":null,\"end\":3126,\"start\":2363},{\"attributes\":null,\"end\":3193,\"start\":3145},{\"attributes\":null,\"end\":3418,\"start\":3211},{\"attributes\":null,\"end\":3543,\"start\":3452},{\"attributes\":null,\"end\":3672,\"start\":3545},{\"attributes\":null,\"end\":3984,\"start\":3674},{\"attributes\":nul...</td>\n",
       "      <td>[{\"attributes\":{\"n\":\"1\"},\"end\":13,\"start\":1},{\"attributes\":{\"n\":\"2\"},\"end\":1529,\"start\":1513},{\"attributes\":{\"n\":\"3\"},\"end\":2361,\"start\":2354},{\"attributes\":{\"n\":\"3.1\"},\"end\":3143,\"start\":3128},{\"attributes\":{\"n\":\"3.1.1\"},\"end\":3209,\"start\":3195},{\"attributes\":{\"n\":\"3.1.2\"},\"end\":3450,\"start\":3420},{\"attributes\":{\"n\":\"3.1.3\"},\"end\":5187,\"start\":5154},{\"attributes\":{\"n\":\"3.2\"},\"end\":6316,\"start\":6302},{\"attributes\":null,\"end\":7038,\"start\":7024},{\"attributes\":null,\"end\":7173,\"start\":7150},{\"at...</td>\n",
       "      <td>CCBY</td>\n",
       "    </tr>\n",
       "  </tbody>\n",
       "</table>\n",
       "</div>"
      ],
      "text/plain": [
       "   id_semanticscholar      id_mag                    id_doi id_arxiv                                                                                                                                                     title                                        source_url openaccess_status                                                                                                                                                                                                                                                                                                                                                                                                                                                                                                         content_text  \\\n",
       "0             1808709  2101143116  10.1186/1476-511x-13-132     <NA>  Twist 1 regulates the expression of PPARγ during hormone-induced 3T3-L1 preadipocyte differentiation: a possible role in obesity and associated diseases  https://pmc.ncbi.nlm.nih.gov/articles/PMC4150960              GOLD  \\nBackground\\n\\nObesity has become an epidemic in the human population, and China has the highest number of obese patients in the world [1]. Because obesity involves an increase in the number of adipocytes, any of the factors involved in adipocyte differentiation might be of great importance for the development of obesity. To date, numerous factors and proteins have been implicated in the generation of new fat cells, including peroxisome proliferator-activated receptor gamma (PPARγ) [2,3], C...   \n",
       "1             3738414  2789005638      10.1155/2018/1042479     <NA>                                                                                              PROM and Labour Effects on Urinary Metabolome: A Pilot Study  https://pmc.ncbi.nlm.nih.gov/articles/PMC5817378              GOLD  \\nIntroduction\\n\\nThe early diagnosis of pregnancy-related complications and the prediction of pregnancy outcome are considered strategic clinical goals to ensure the health of mothers and of their babies. Among these, premature rupture of membranes (PROM) consists of the rupture of the foetal membranes before the onset of labour. It can be observed at any gestational age [1] and occurs in approximately 10% of pregnant women and in roughly 40% of preterm deliveries [2]. Foetal membranes are ...   \n",
       "2            15710447  2741402565      10.18653/v1/w17-1005     <NA>                       Word Embedding and Topic Modeling Enhanced Multiple Features for Content Linking and Argument / Sentiment Labeling in Online Forums                 https://aclanthology.org/W17-1005            HYBRID  \\nIntroduction\\n\\nComments to news and their providers in online forums have been increasing rapidly in recent years with a large number of user participants and huge amount of interactive contents. How can we understand the mass of comments effectively? A crucial initial step towards this goal should be content linking, which is to determine what comments link to, be that either specific news snippets or comments by other users. Furthermore, a set of labels for a given link may be articulat...   \n",
       "\n",
       "                                                                                                                                                                                                                                                                                                                                                                                                                                                                                                 annotations_paragraph  \\\n",
       "0  [{\"attributes\":null,\"end\":781,\"start\":13},{\"attributes\":null,\"end\":2087,\"start\":783},{\"attributes\":null,\"end\":3470,\"start\":2089},{\"attributes\":null,\"end\":4312,\"start\":3472},{\"attributes\":null,\"end\":5329,\"start\":4323},{\"attributes\":null,\"end\":5818,\"start\":5409},{\"attributes\":null,\"end\":6151,\"start\":5890},{\"attributes\":null,\"end\":6744,\"start\":6218},{\"attributes\":null,\"end\":8054,\"start\":6870},{\"attributes\":null,\"end\":8511,\"start\":8056},{\"attributes\":null,\"end\":9031,\"start\":8525},{\"attributes\":n...   \n",
       "1  [{\"attributes\":null,\"end\":4623,\"start\":15},{\"attributes\":null,\"end\":6006,\"start\":4703},{\"attributes\":null,\"end\":7040,\"start\":6040},{\"attributes\":null,\"end\":7808,\"start\":7063},{\"attributes\":null,\"end\":9464,\"start\":7836},{\"attributes\":null,\"end\":10835,\"start\":9466},{\"attributes\":null,\"end\":11411,\"start\":10861},{\"attributes\":null,\"end\":12575,\"start\":11413},{\"attributes\":null,\"end\":12831,\"start\":12585},{\"attributes\":null,\"end\":12984,\"start\":12833},{\"attributes\":null,\"end\":13373,\"start\":12986},{\"...   \n",
       "2  [{\"attributes\":null,\"end\":585,\"start\":15},{\"attributes\":null,\"end\":813,\"start\":587},{\"attributes\":null,\"end\":1141,\"start\":815},{\"attributes\":null,\"end\":1511,\"start\":1143},{\"attributes\":null,\"end\":2352,\"start\":1531},{\"attributes\":null,\"end\":3126,\"start\":2363},{\"attributes\":null,\"end\":3193,\"start\":3145},{\"attributes\":null,\"end\":3418,\"start\":3211},{\"attributes\":null,\"end\":3543,\"start\":3452},{\"attributes\":null,\"end\":3672,\"start\":3545},{\"attributes\":null,\"end\":3984,\"start\":3674},{\"attributes\":nul...   \n",
       "\n",
       "                                                                                                                                                                                                                                                                                                                                                                                                                                                                                            annotations_section_header license  \n",
       "0  [{\"attributes\":null,\"end\":11,\"start\":1},{\"attributes\":null,\"end\":4321,\"start\":4314},{\"attributes\":null,\"end\":5407,\"start\":5331},{\"attributes\":null,\"end\":5888,\"start\":5820},{\"attributes\":null,\"end\":6216,\"start\":6153},{\"attributes\":null,\"end\":6868,\"start\":6746},{\"attributes\":null,\"end\":8523,\"start\":8513},{\"attributes\":null,\"end\":16548,\"start\":16527},{\"attributes\":null,\"end\":16559,\"start\":16550},{\"attributes\":null,\"end\":17519,\"start\":17439},{\"attributes\":null,\"end\":19472,\"start\":19445},{\"attrib...    CCBY  \n",
       "1  [{\"attributes\":{\"n\":\"1.\"},\"end\":13,\"start\":1},{\"attributes\":{\"n\":\"2.\"},\"end\":4646,\"start\":4625},{\"attributes\":{\"n\":\"2.1.\"},\"end\":4701,\"start\":4648},{\"attributes\":{\"n\":\"2.2.\"},\"end\":6038,\"start\":6008},{\"attributes\":{\"n\":\"2.3.\"},\"end\":7061,\"start\":7042},{\"attributes\":{\"n\":\"2.4.\"},\"end\":7834,\"start\":7810},{\"attributes\":{\"n\":\"3.\"},\"end\":10859,\"start\":10837},{\"attributes\":{\"n\":\"3.3.\"},\"end\":12583,\"start\":12577},{\"attributes\":{\"n\":\"4.\"},\"end\":13385,\"start\":13375},{\"attributes\":{\"n\":\"5.\"},\"end\":167...    CCBY  \n",
       "2  [{\"attributes\":{\"n\":\"1\"},\"end\":13,\"start\":1},{\"attributes\":{\"n\":\"2\"},\"end\":1529,\"start\":1513},{\"attributes\":{\"n\":\"3\"},\"end\":2361,\"start\":2354},{\"attributes\":{\"n\":\"3.1\"},\"end\":3143,\"start\":3128},{\"attributes\":{\"n\":\"3.1.1\"},\"end\":3209,\"start\":3195},{\"attributes\":{\"n\":\"3.1.2\"},\"end\":3450,\"start\":3420},{\"attributes\":{\"n\":\"3.1.3\"},\"end\":5187,\"start\":5154},{\"attributes\":{\"n\":\"3.2\"},\"end\":6316,\"start\":6302},{\"attributes\":null,\"end\":7038,\"start\":7024},{\"attributes\":null,\"end\":7173,\"start\":7150},{\"at...    CCBY  "
      ]
     },
     "metadata": {},
     "output_type": "display_data"
    },
    {
     "data": {
      "text/html": [
       "<div>\n",
       "<style scoped>\n",
       "    .dataframe tbody tr th:only-of-type {\n",
       "        vertical-align: middle;\n",
       "    }\n",
       "\n",
       "    .dataframe tbody tr th {\n",
       "        vertical-align: top;\n",
       "    }\n",
       "\n",
       "    .dataframe thead th {\n",
       "        text-align: right;\n",
       "    }\n",
       "</style>\n",
       "<table border=\"1\" class=\"dataframe\">\n",
       "  <thead>\n",
       "    <tr style=\"text-align: right;\">\n",
       "      <th></th>\n",
       "      <th>c</th>\n",
       "    </tr>\n",
       "  </thead>\n",
       "  <tbody>\n",
       "    <tr>\n",
       "      <th>0</th>\n",
       "      <td>11609787</td>\n",
       "    </tr>\n",
       "  </tbody>\n",
       "</table>\n",
       "</div>"
      ],
      "text/plain": [
       "          c\n",
       "0  11609787"
      ]
     },
     "metadata": {},
     "output_type": "display_data"
    },
    {
     "name": "stdout",
     "output_type": "stream",
     "text": [
      " :: \"02_stg\".base_semanticscholar_s2orcv2 queries finished | since_start: 11.0 minutes, 11.75 seconds | since_last: 10.04 seconds :: \n"
     ]
    },
    {
     "data": {
      "text/plain": [
       "' :: \"02_stg\".base_semanticscholar_s2orcv2 queries finished | since_start: 11.0 minutes, 11.75 seconds | since_last: 10.04 seconds :: '"
      ]
     },
     "execution_count": 3,
     "metadata": {},
     "output_type": "execute_result"
    }
   ],
   "source": [
    "table_name = 'base_semanticscholar_s2orcv2'\n",
    "timelogger = utils.TimeLogger()\n",
    "utils.create_table_from_sql_file(\n",
    "    database_name = '02_stg',\n",
    "    table_name = table_name,\n",
    "    overwrite_strategy='overwrite', # options: fail, overwrite, ignore\n",
    "    wait=True,\n",
    ")\n",
    "timelogger.log(f'\"02_stg\".{table_name} created')\n",
    "\n",
    "utils.pd_set_options(cols=500)\n",
    "display(wr.athena.read_sql_query(f\"\"\"SELECT * FROM \"02_stg\".{table_name} LIMIT 3 \"\"\", '02_stg'))\n",
    "display(wr.athena.read_sql_query(f\"\"\"SELECT COUNT(*) AS c FROM \"02_stg\".{table_name} \"\"\", '02_stg'))\n",
    "timelogger.log(f'\"02_stg\".{table_name} queries finished')"
   ]
  },
  {
   "cell_type": "code",
   "execution_count": 4,
   "id": "abe79ae7-4ad9-49f7-b650-b7d65e6f96d0",
   "metadata": {
    "execution": {
     "iopub.execute_input": "2025-09-01T16:16:59.044206Z",
     "iopub.status.busy": "2025-09-01T16:16:59.043911Z",
     "iopub.status.idle": "2025-09-01T16:30:57.657874Z",
     "shell.execute_reply": "2025-09-01T16:30:57.657049Z",
     "shell.execute_reply.started": "2025-09-01T16:16:59.044181Z"
    }
   },
   "outputs": [
    {
     "name": "stdout",
     "output_type": "stream",
     "text": [
      " :: :: TIMELOGGER STARTED :: | since_start: 0.00 seconds | since_last: 0.00 seconds :: \n",
      "Table 02_stg.stg_semanticscholar_combined_works already exists. Overwriting since overwrite_strategy==\"overwrite\".\n",
      "Deleting table from Glue Catalog 02_stg stg_semanticscholar_combined_works\n",
      "Deleting S3 objects from s3://sagemaker-research-methodology-extraction/01_data/02_stg/stg_semanticscholar_combined_works/\n",
      "s3_parent_target_path:  s3://sagemaker-research-methodology-extraction/01_data/02_stg\n",
      " :: \"02_stg\".stg_semanticscholar_combined_works created | since_start: 13.0 minutes, 48.32 seconds | since_last: 13.0 minutes, 48.32 seconds :: \n"
     ]
    },
    {
     "data": {
      "text/html": [
       "<div>\n",
       "<style scoped>\n",
       "    .dataframe tbody tr th:only-of-type {\n",
       "        vertical-align: middle;\n",
       "    }\n",
       "\n",
       "    .dataframe tbody tr th {\n",
       "        vertical-align: top;\n",
       "    }\n",
       "\n",
       "    .dataframe thead th {\n",
       "        text-align: right;\n",
       "    }\n",
       "</style>\n",
       "<table border=\"1\" class=\"dataframe\">\n",
       "  <thead>\n",
       "    <tr style=\"text-align: right;\">\n",
       "      <th></th>\n",
       "      <th>id_semanticscholar</th>\n",
       "      <th>id_mag</th>\n",
       "      <th>id_doi</th>\n",
       "      <th>id_arxiv</th>\n",
       "      <th>title</th>\n",
       "      <th>source_url</th>\n",
       "      <th>openaccess_status</th>\n",
       "      <th>content_text</th>\n",
       "      <th>annotations_paragraph</th>\n",
       "      <th>annotations_section_header</th>\n",
       "      <th>license</th>\n",
       "      <th>content_abstract</th>\n",
       "      <th>publication_year</th>\n",
       "      <th>publication_date</th>\n",
       "    </tr>\n",
       "  </thead>\n",
       "  <tbody>\n",
       "    <tr>\n",
       "      <th>0</th>\n",
       "      <td>220531160</td>\n",
       "      <td>3042431448</td>\n",
       "      <td>10.1167/iovs.61.8.16</td>\n",
       "      <td>&lt;NA&gt;</td>\n",
       "      <td>Quantitative Fundus Autofluorescence in Rhesus Macaques in Aging and Age-Related Drusen</td>\n",
       "      <td>https://pmc.ncbi.nlm.nih.gov/articles/PMC7425688</td>\n",
       "      <td>GOLD</td>\n",
       "      <td>\\nD iseases of the macula, such as age-related macular degeneration (AMD) and diabetic macular edema, are leading causes of visual impairment in developed countries. 1 Animal models of macular conditions can further detail the mechanisms of their pathogenesis and reveal new insights into developing novel interventions. Nonhuman primates (NHPs) are a compelling animal model for studying macular diseases as they are the only mammals beside humans to possess a true macula. NHPs, such as rhesus ...</td>\n",
       "      <td>[{\"attributes\":null,\"end\":1340,\"start\":1},{\"attributes\":null,\"end\":2554,\"start\":1342},{\"attributes\":null,\"end\":4618,\"start\":2580},{\"attributes\":null,\"end\":6008,\"start\":4640},{\"attributes\":null,\"end\":7798,\"start\":6010},{\"attributes\":null,\"end\":9037,\"start\":7824},{\"attributes\":null,\"end\":10039,\"start\":9078},{\"attributes\":null,\"end\":11377,\"start\":10063},{\"attributes\":null,\"end\":12469,\"start\":11391},{\"attributes\":null,\"end\":13219,\"start\":12492},{\"attributes\":null,\"end\":13875,\"start\":13257},{\"att...</td>\n",
       "      <td>[{\"attributes\":null,\"end\":2563,\"start\":2556},{\"attributes\":null,\"end\":2578,\"start\":2565},{\"attributes\":null,\"end\":4638,\"start\":4620},{\"attributes\":null,\"end\":7822,\"start\":7800},{\"attributes\":null,\"end\":9076,\"start\":9039},{\"attributes\":null,\"end\":10061,\"start\":10041},{\"attributes\":null,\"end\":11389,\"start\":11379},{\"attributes\":null,\"end\":12478,\"start\":12471},{\"attributes\":null,\"end\":12490,\"start\":12480},{\"attributes\":null,\"end\":13255,\"start\":13221},{\"attributes\":null,\"end\":14316,\"start\":14284}...</td>\n",
       "      <td>CCBYNCND</td>\n",
       "      <td>Purpose To employ quantitative fundus autofluorescence (qAF) imaging in rhesus macaques to noninvasively assess retinal pigment epithelial (RPE) lipofuscin in nonhuman primates (NHPs) as a model of aging and age-related macular degeneration (AMD). Methods The qAF imaging was performed on eyes of 26 rhesus macaques (mean age 18.8 ± 8.2 years, range 4–27 years) with normal-appearing fundus or with age-related soft drusen using a confocal scanning laser ophthalmoscope with 488 nm excitation and...</td>\n",
       "      <td>2020</td>\n",
       "      <td>2020-07-01</td>\n",
       "    </tr>\n",
       "    <tr>\n",
       "      <th>1</th>\n",
       "      <td>268446036</td>\n",
       "      <td>&lt;NA&gt;</td>\n",
       "      <td>10.1007/s40670-024-02017-9</td>\n",
       "      <td>&lt;NA&gt;</td>\n",
       "      <td>Humanism Rounds: A Multifaceted “Back to Bedside” Initiative to Improve Meaning at Work for Internal Medicine Residents</td>\n",
       "      <td>https://pmc.ncbi.nlm.nih.gov/articles/PMC11180076</td>\n",
       "      <td>HYBRID</td>\n",
       "      <td>\\nIntroduction\\n\\nBurnout affects medical residents nationwide, leading to poor resident wellbeing, career dissatisfaction, and decreased quality of patient care [1,2].The rates of burnout among residents range from 27 to 75%, with high rates noted in obstetrics and gynecology (75%), internal medicine (63%), and general surgery (40%) with the lowest rate among family medicine residents (27%) [3].Research into burnout during residency has focused on a variety of contributing factors including...</td>\n",
       "      <td>[{\"attributes\":null,\"end\":1032,\"start\":15},{\"attributes\":null,\"end\":1487,\"start\":1034},{\"attributes\":null,\"end\":1960,\"start\":1489},{\"attributes\":null,\"end\":2269,\"start\":1985},{\"attributes\":null,\"end\":3087,\"start\":2291},{\"attributes\":null,\"end\":3559,\"start\":3118},{\"attributes\":null,\"end\":4961,\"start\":3612},{\"attributes\":null,\"end\":5991,\"start\":4980},{\"attributes\":null,\"end\":6547,\"start\":5993},{\"attributes\":null,\"end\":7174,\"start\":6571},{\"attributes\":null,\"end\":7594,\"start\":7185},{\"attributes\"...</td>\n",
       "      <td>[{\"attributes\":null,\"end\":13,\"start\":1},{\"attributes\":null,\"end\":1983,\"start\":1962},{\"attributes\":null,\"end\":2289,\"start\":2271},{\"attributes\":null,\"end\":3103,\"start\":3089},{\"attributes\":null,\"end\":3116,\"start\":3105},{\"attributes\":null,\"end\":3590,\"start\":3561},{\"attributes\":null,\"end\":3610,\"start\":3592},{\"attributes\":null,\"end\":4978,\"start\":4963},{\"attributes\":null,\"end\":6569,\"start\":6549},{\"attributes\":null,\"end\":7183,\"start\":7176},{\"attributes\":null,\"end\":7641,\"start\":7596},{\"attributes\":nu...</td>\n",
       "      <td>CCBY</td>\n",
       "      <td>Introduction Burnout is an increasingly prevalent problem among resident physicians. To address this problem, the Accreditation Council on Graduate Medical Education (ACGME) created the Back to Bedside initiative, supporting resident-driven projects focused on increasing direct interactions with patients. In 2017, Baylor College of Medicine (BCM) Internal Medicine Residency received a Back to Bedside grant to develop and implement “Humanism Rounds,” a multifaceted program which sought to pro...</td>\n",
       "      <td>2024</td>\n",
       "      <td>2024-03-13</td>\n",
       "    </tr>\n",
       "    <tr>\n",
       "      <th>2</th>\n",
       "      <td>249401160</td>\n",
       "      <td>&lt;NA&gt;</td>\n",
       "      <td>10.1007/s12471-022-01700-z</td>\n",
       "      <td>&lt;NA&gt;</td>\n",
       "      <td>Major adverse cardiovascular events in older emergency department patients presenting with non-cardiac medical complaints</td>\n",
       "      <td>https://pmc.ncbi.nlm.nih.gov/articles/PMC9691805</td>\n",
       "      <td>GOLD</td>\n",
       "      <td>\\nIntroduction\\n\\nOlder patients are at high risk of adverse outcomes after an emergency department (ED) visit [1,2]. However, the risk of major adverse cardiovascular events (MACE) for older ED patients, presenting with noncardiac medical complaints, is unknown. Because preventive measures may improve outcome [3], early identification of patients at risk is highly important. \\n\\nBesides conventional cardiovascular risk factors, the cardiac biomarkers high-sensitivity cardiac Troponin T (hs-...</td>\n",
       "      <td>[{\"attributes\":null,\"end\":376,\"start\":15},{\"attributes\":null,\"end\":783,\"start\":378},{\"attributes\":null,\"end\":1290,\"start\":785},{\"attributes\":null,\"end\":2491,\"start\":1337},{\"attributes\":null,\"end\":2771,\"start\":2493},{\"attributes\":null,\"end\":3143,\"start\":2796},{\"attributes\":null,\"end\":4944,\"start\":3162},{\"attributes\":null,\"end\":5900,\"start\":4946},{\"attributes\":null,\"end\":6149,\"start\":5902},{\"attributes\":null,\"end\":6368,\"start\":6169},{\"attributes\":null,\"end\":6672,\"start\":6385},{\"attributes\":nul...</td>\n",
       "      <td>[{\"attributes\":null,\"end\":13,\"start\":1},{\"attributes\":null,\"end\":1299,\"start\":1292},{\"attributes\":null,\"end\":1335,\"start\":1301},{\"attributes\":null,\"end\":2794,\"start\":2773},{\"attributes\":null,\"end\":3160,\"start\":3145},{\"attributes\":null,\"end\":6167,\"start\":6151},{\"attributes\":null,\"end\":6383,\"start\":6370},{\"attributes\":null,\"end\":8057,\"start\":8050},{\"attributes\":null,\"end\":8103,\"start\":8059},{\"attributes\":null,\"end\":9631,\"start\":9566},{\"attributes\":null,\"end\":10054,\"start\":10031},{\"attributes\":...</td>\n",
       "      <td>CCBY</td>\n",
       "      <td>The risk of major adverse cardiovascular events (MACE) for older emergency department (ED) patients presenting with non-cardiac medical complaints is unknown. To apply preventive measures timely, early identification of high-risk patients is incredibly important. We aimed at investigating the incidence of MACE within one year after their ED visit and the predictive value of high-sensitivity cardiac troponin T (hs-cTnT) and N‑terminal pro-B-type natriuretic peptide (NT-proBNP) for subsequent ...</td>\n",
       "      <td>2022</td>\n",
       "      <td>2022-06-07</td>\n",
       "    </tr>\n",
       "  </tbody>\n",
       "</table>\n",
       "</div>"
      ],
      "text/plain": [
       "   id_semanticscholar      id_mag                      id_doi id_arxiv                                                                                                                      title                                         source_url openaccess_status                                                                                                                                                                                                                                                                                                                                                                                                                                                                                                         content_text  \\\n",
       "0           220531160  3042431448        10.1167/iovs.61.8.16     <NA>                                    Quantitative Fundus Autofluorescence in Rhesus Macaques in Aging and Age-Related Drusen   https://pmc.ncbi.nlm.nih.gov/articles/PMC7425688              GOLD  \\nD iseases of the macula, such as age-related macular degeneration (AMD) and diabetic macular edema, are leading causes of visual impairment in developed countries. 1 Animal models of macular conditions can further detail the mechanisms of their pathogenesis and reveal new insights into developing novel interventions. Nonhuman primates (NHPs) are a compelling animal model for studying macular diseases as they are the only mammals beside humans to possess a true macula. NHPs, such as rhesus ...   \n",
       "1           268446036        <NA>  10.1007/s40670-024-02017-9     <NA>    Humanism Rounds: A Multifaceted “Back to Bedside” Initiative to Improve Meaning at Work for Internal Medicine Residents  https://pmc.ncbi.nlm.nih.gov/articles/PMC11180076            HYBRID  \\nIntroduction\\n\\nBurnout affects medical residents nationwide, leading to poor resident wellbeing, career dissatisfaction, and decreased quality of patient care [1,2].The rates of burnout among residents range from 27 to 75%, with high rates noted in obstetrics and gynecology (75%), internal medicine (63%), and general surgery (40%) with the lowest rate among family medicine residents (27%) [3].Research into burnout during residency has focused on a variety of contributing factors including...   \n",
       "2           249401160        <NA>  10.1007/s12471-022-01700-z     <NA>  Major adverse cardiovascular events in older emergency department patients presenting with non-cardiac medical complaints   https://pmc.ncbi.nlm.nih.gov/articles/PMC9691805              GOLD  \\nIntroduction\\n\\nOlder patients are at high risk of adverse outcomes after an emergency department (ED) visit [1,2]. However, the risk of major adverse cardiovascular events (MACE) for older ED patients, presenting with noncardiac medical complaints, is unknown. Because preventive measures may improve outcome [3], early identification of patients at risk is highly important. \\n\\nBesides conventional cardiovascular risk factors, the cardiac biomarkers high-sensitivity cardiac Troponin T (hs-...   \n",
       "\n",
       "                                                                                                                                                                                                                                                                                                                                                                                                                                                                                                 annotations_paragraph  \\\n",
       "0  [{\"attributes\":null,\"end\":1340,\"start\":1},{\"attributes\":null,\"end\":2554,\"start\":1342},{\"attributes\":null,\"end\":4618,\"start\":2580},{\"attributes\":null,\"end\":6008,\"start\":4640},{\"attributes\":null,\"end\":7798,\"start\":6010},{\"attributes\":null,\"end\":9037,\"start\":7824},{\"attributes\":null,\"end\":10039,\"start\":9078},{\"attributes\":null,\"end\":11377,\"start\":10063},{\"attributes\":null,\"end\":12469,\"start\":11391},{\"attributes\":null,\"end\":13219,\"start\":12492},{\"attributes\":null,\"end\":13875,\"start\":13257},{\"att...   \n",
       "1  [{\"attributes\":null,\"end\":1032,\"start\":15},{\"attributes\":null,\"end\":1487,\"start\":1034},{\"attributes\":null,\"end\":1960,\"start\":1489},{\"attributes\":null,\"end\":2269,\"start\":1985},{\"attributes\":null,\"end\":3087,\"start\":2291},{\"attributes\":null,\"end\":3559,\"start\":3118},{\"attributes\":null,\"end\":4961,\"start\":3612},{\"attributes\":null,\"end\":5991,\"start\":4980},{\"attributes\":null,\"end\":6547,\"start\":5993},{\"attributes\":null,\"end\":7174,\"start\":6571},{\"attributes\":null,\"end\":7594,\"start\":7185},{\"attributes\"...   \n",
       "2  [{\"attributes\":null,\"end\":376,\"start\":15},{\"attributes\":null,\"end\":783,\"start\":378},{\"attributes\":null,\"end\":1290,\"start\":785},{\"attributes\":null,\"end\":2491,\"start\":1337},{\"attributes\":null,\"end\":2771,\"start\":2493},{\"attributes\":null,\"end\":3143,\"start\":2796},{\"attributes\":null,\"end\":4944,\"start\":3162},{\"attributes\":null,\"end\":5900,\"start\":4946},{\"attributes\":null,\"end\":6149,\"start\":5902},{\"attributes\":null,\"end\":6368,\"start\":6169},{\"attributes\":null,\"end\":6672,\"start\":6385},{\"attributes\":nul...   \n",
       "\n",
       "                                                                                                                                                                                                                                                                                                                                                                                                                                                                                            annotations_section_header   license  \\\n",
       "0  [{\"attributes\":null,\"end\":2563,\"start\":2556},{\"attributes\":null,\"end\":2578,\"start\":2565},{\"attributes\":null,\"end\":4638,\"start\":4620},{\"attributes\":null,\"end\":7822,\"start\":7800},{\"attributes\":null,\"end\":9076,\"start\":9039},{\"attributes\":null,\"end\":10061,\"start\":10041},{\"attributes\":null,\"end\":11389,\"start\":11379},{\"attributes\":null,\"end\":12478,\"start\":12471},{\"attributes\":null,\"end\":12490,\"start\":12480},{\"attributes\":null,\"end\":13255,\"start\":13221},{\"attributes\":null,\"end\":14316,\"start\":14284}...  CCBYNCND   \n",
       "1  [{\"attributes\":null,\"end\":13,\"start\":1},{\"attributes\":null,\"end\":1983,\"start\":1962},{\"attributes\":null,\"end\":2289,\"start\":2271},{\"attributes\":null,\"end\":3103,\"start\":3089},{\"attributes\":null,\"end\":3116,\"start\":3105},{\"attributes\":null,\"end\":3590,\"start\":3561},{\"attributes\":null,\"end\":3610,\"start\":3592},{\"attributes\":null,\"end\":4978,\"start\":4963},{\"attributes\":null,\"end\":6569,\"start\":6549},{\"attributes\":null,\"end\":7183,\"start\":7176},{\"attributes\":null,\"end\":7641,\"start\":7596},{\"attributes\":nu...      CCBY   \n",
       "2  [{\"attributes\":null,\"end\":13,\"start\":1},{\"attributes\":null,\"end\":1299,\"start\":1292},{\"attributes\":null,\"end\":1335,\"start\":1301},{\"attributes\":null,\"end\":2794,\"start\":2773},{\"attributes\":null,\"end\":3160,\"start\":3145},{\"attributes\":null,\"end\":6167,\"start\":6151},{\"attributes\":null,\"end\":6383,\"start\":6370},{\"attributes\":null,\"end\":8057,\"start\":8050},{\"attributes\":null,\"end\":8103,\"start\":8059},{\"attributes\":null,\"end\":9631,\"start\":9566},{\"attributes\":null,\"end\":10054,\"start\":10031},{\"attributes\":...      CCBY   \n",
       "\n",
       "                                                                                                                                                                                                                                                                                                                                                                                                                                                                                                      content_abstract  publication_year publication_date  \n",
       "0  Purpose To employ quantitative fundus autofluorescence (qAF) imaging in rhesus macaques to noninvasively assess retinal pigment epithelial (RPE) lipofuscin in nonhuman primates (NHPs) as a model of aging and age-related macular degeneration (AMD). Methods The qAF imaging was performed on eyes of 26 rhesus macaques (mean age 18.8 ± 8.2 years, range 4–27 years) with normal-appearing fundus or with age-related soft drusen using a confocal scanning laser ophthalmoscope with 488 nm excitation and...              2020       2020-07-01  \n",
       "1  Introduction Burnout is an increasingly prevalent problem among resident physicians. To address this problem, the Accreditation Council on Graduate Medical Education (ACGME) created the Back to Bedside initiative, supporting resident-driven projects focused on increasing direct interactions with patients. In 2017, Baylor College of Medicine (BCM) Internal Medicine Residency received a Back to Bedside grant to develop and implement “Humanism Rounds,” a multifaceted program which sought to pro...              2024       2024-03-13  \n",
       "2  The risk of major adverse cardiovascular events (MACE) for older emergency department (ED) patients presenting with non-cardiac medical complaints is unknown. To apply preventive measures timely, early identification of high-risk patients is incredibly important. We aimed at investigating the incidence of MACE within one year after their ED visit and the predictive value of high-sensitivity cardiac troponin T (hs-cTnT) and N‑terminal pro-B-type natriuretic peptide (NT-proBNP) for subsequent ...              2022       2022-06-07  "
      ]
     },
     "metadata": {},
     "output_type": "display_data"
    },
    {
     "data": {
      "text/html": [
       "<div>\n",
       "<style scoped>\n",
       "    .dataframe tbody tr th:only-of-type {\n",
       "        vertical-align: middle;\n",
       "    }\n",
       "\n",
       "    .dataframe tbody tr th {\n",
       "        vertical-align: top;\n",
       "    }\n",
       "\n",
       "    .dataframe thead th {\n",
       "        text-align: right;\n",
       "    }\n",
       "</style>\n",
       "<table border=\"1\" class=\"dataframe\">\n",
       "  <thead>\n",
       "    <tr style=\"text-align: right;\">\n",
       "      <th></th>\n",
       "      <th>c</th>\n",
       "    </tr>\n",
       "  </thead>\n",
       "  <tbody>\n",
       "    <tr>\n",
       "      <th>0</th>\n",
       "      <td>11609787</td>\n",
       "    </tr>\n",
       "  </tbody>\n",
       "</table>\n",
       "</div>"
      ],
      "text/plain": [
       "          c\n",
       "0  11609787"
      ]
     },
     "metadata": {},
     "output_type": "display_data"
    },
    {
     "name": "stdout",
     "output_type": "stream",
     "text": [
      " :: \"02_stg\".stg_semanticscholar_combined_works queries finished | since_start: 13.0 minutes, 58.61 seconds | since_last: 10.29 seconds :: \n"
     ]
    },
    {
     "data": {
      "text/plain": [
       "' :: \"02_stg\".stg_semanticscholar_combined_works queries finished | since_start: 13.0 minutes, 58.61 seconds | since_last: 10.29 seconds :: '"
      ]
     },
     "execution_count": 4,
     "metadata": {},
     "output_type": "execute_result"
    }
   ],
   "source": [
    "table_name = 'stg_semanticscholar_combined_works'\n",
    "timelogger = utils.TimeLogger()\n",
    "utils.create_table_from_sql_file(\n",
    "    database_name = '02_stg',\n",
    "    table_name = table_name,\n",
    "    overwrite_strategy='overwrite', # options: fail, overwrite, ignore\n",
    "    wait=True,\n",
    ")\n",
    "timelogger.log(f'\"02_stg\".{table_name} created')\n",
    "\n",
    "utils.pd_set_options(cols=500)\n",
    "display(wr.athena.read_sql_query(f\"\"\"SELECT * FROM \"02_stg\".{table_name} LIMIT 3 \"\"\", '02_stg'))\n",
    "display(wr.athena.read_sql_query(f\"\"\"SELECT COUNT(*) AS c FROM \"02_stg\".{table_name} \"\"\", '02_stg'))\n",
    "timelogger.log(f'\"02_stg\".{table_name} queries finished')"
   ]
  },
  {
   "cell_type": "code",
   "execution_count": 18,
   "id": "17a0b734-620c-4d80-878a-c5586f64d4f2",
   "metadata": {
    "execution": {
     "iopub.execute_input": "2025-09-01T23:19:40.257581Z",
     "iopub.status.busy": "2025-09-01T23:19:40.257267Z",
     "iopub.status.idle": "2025-09-01T23:31:11.453490Z",
     "shell.execute_reply": "2025-09-01T23:31:11.452778Z",
     "shell.execute_reply.started": "2025-09-01T23:19:40.257557Z"
    }
   },
   "outputs": [
    {
     "name": "stdout",
     "output_type": "stream",
     "text": [
      " :: :: TIMELOGGER STARTED :: | since_start: 0.00 seconds | since_last: 0.00 seconds :: \n",
      "Deleting S3 objects from s3://sagemaker-research-methodology-extraction/01_data/02_stg/stg_semanticscholar_combined_works_content/\n",
      "s3_parent_target_path:  s3://sagemaker-research-methodology-extraction/01_data/02_stg\n",
      " :: \"02_stg\".stg_semanticscholar_combined_works_content created | since_start: 11.0 minutes, 20.68 seconds | since_last: 11.0 minutes, 20.68 seconds :: \n"
     ]
    },
    {
     "data": {
      "text/html": [
       "<div>\n",
       "<style scoped>\n",
       "    .dataframe tbody tr th:only-of-type {\n",
       "        vertical-align: middle;\n",
       "    }\n",
       "\n",
       "    .dataframe tbody tr th {\n",
       "        vertical-align: top;\n",
       "    }\n",
       "\n",
       "    .dataframe thead th {\n",
       "        text-align: right;\n",
       "    }\n",
       "</style>\n",
       "<table border=\"1\" class=\"dataframe\">\n",
       "  <thead>\n",
       "    <tr style=\"text-align: right;\">\n",
       "      <th></th>\n",
       "      <th>id_semanticscholar</th>\n",
       "      <th>title</th>\n",
       "      <th>content_abstract</th>\n",
       "      <th>content_text</th>\n",
       "      <th>annotations_paragraph</th>\n",
       "      <th>annotations_section_header</th>\n",
       "    </tr>\n",
       "  </thead>\n",
       "  <tbody>\n",
       "    <tr>\n",
       "      <th>0</th>\n",
       "      <td>260163299</td>\n",
       "      <td>Screening depression and anxiety in Indigenous peoples: A global scoping review</td>\n",
       "      <td>Indigenous peoples’ worldviews are intricately interconnected and interrelated with their communities and the environments in which they live. Their worldviews also manifest in a holistic view of health and well-being, which contrasts with those of the dominant western biomedical model. However,...</td>\n",
       "      <td>\\nIntroduction\\n\\nThe worldviews of Indigenous peoples are intricately interrelated and interconnected with those of their communities and the environments in which they live. Indigenous people conceptualise health and well-being more holistically (Gall et al., 2021) than the dominant western bi...</td>\n",
       "      <td>[{\"attributes\":null,\"end\":512,\"start\":15},{\"attributes\":null,\"end\":1314,\"start\":514},{\"attributes\":null,\"end\":2095,\"start\":1316},{\"attributes\":null,\"end\":3698,\"start\":2097},{\"attributes\":null,\"end\":4904,\"start\":3700},{\"attributes\":null,\"end\":5652,\"start\":4906},{\"attributes\":null,\"end\":6585,\"star...</td>\n",
       "      <td>[{\"attributes\":null,\"end\":13,\"start\":1},{\"attributes\":null,\"end\":5660,\"start\":5654},{\"attributes\":null,\"end\":7233,\"start\":7215},{\"attributes\":null,\"end\":11222,\"start\":11207},{\"attributes\":null,\"end\":12489,\"start\":12475},{\"attributes\":null,\"end\":13587,\"start\":13572},{\"attributes\":null,\"end\":14789...</td>\n",
       "    </tr>\n",
       "    <tr>\n",
       "      <th>1</th>\n",
       "      <td>112601881</td>\n",
       "      <td>Model Development of a Blast Furnace Stove</td>\n",
       "      <td>&lt;NA&gt;</td>\n",
       "      <td>\\nIntroduction\\n\\nAbout one third of the world primary energy consumption is from the manufacturing industries. The iron and steel industry (ISI) is the second largest energy user and accounts for 20 % of the energy usage by the manufacturing industries [1]. Due to heavy reliance on fossil fuels...</td>\n",
       "      <td>[{\"attributes\":null,\"end\":519,\"start\":15},{\"attributes\":null,\"end\":1303,\"start\":521},{\"attributes\":null,\"end\":1735,\"start\":1305},{\"attributes\":null,\"end\":2270,\"start\":1737},{\"attributes\":null,\"end\":2995,\"start\":2272},{\"attributes\":null,\"end\":3406,\"start\":2997},{\"attributes\":null,\"end\":3691,\"star...</td>\n",
       "      <td>[{\"attributes\":{\"n\":\"1.\"},\"end\":13,\"start\":1},{\"attributes\":{\"n\":\"2.\"},\"end\":3414,\"start\":3408},{\"attributes\":null,\"end\":4208,\"start\":4172},{\"attributes\":{\"n\":\"2.1.\"},\"end\":5536,\"start\":5527},{\"attributes\":{\"n\":\"2.2.\"},\"end\":7243,\"start\":7228},{\"attributes\":{\"n\":\"2.3.\"},\"end\":7941,\"start\":7909},...</td>\n",
       "    </tr>\n",
       "    <tr>\n",
       "      <th>2</th>\n",
       "      <td>118573517</td>\n",
       "      <td>Double beta decay transition mechanism</td>\n",
       "      <td>After briefly reviewing $\\beta \\beta$ decay as a test of the neutrino mass, I examine the nuclear structure involved in this process. Simple formulas (\\`{a} la Pad\\'{e}) are designed for the transition amplitudes and the general behavior of $\\beta \\beta$ decay amplitudes in the quasiparticle ran...</td>\n",
       "      <td>\\nIntroduction\\n\\nThe double beta (ββ) decay is a nice example of the interrelation between the Particle Physics and the Nuclear Physics: we can get information on the properties of the neutrino and the weak interaction from the ββ decay only if we know who to deal we the nuclear structure invol...</td>\n",
       "      <td>[{\"attributes\":null,\"end\":582,\"start\":15},{\"attributes\":null,\"end\":1069,\"start\":584},{\"attributes\":null,\"end\":1224,\"start\":1071},{\"attributes\":null,\"end\":1310,\"start\":1226},{\"attributes\":null,\"end\":1343,\"start\":1312},{\"attributes\":null,\"end\":1420,\"start\":1345},{\"attributes\":null,\"end\":1839,\"star...</td>\n",
       "      <td>[{\"attributes\":{\"n\":\"1.\"},\"end\":13,\"start\":1},{\"attributes\":{\"n\":\"3.\"},\"end\":10044,\"start\":9997},{\"attributes\":{\"n\":\"4.\"},\"end\":14193,\"start\":14165}]</td>\n",
       "    </tr>\n",
       "  </tbody>\n",
       "</table>\n",
       "</div>"
      ],
      "text/plain": [
       "   id_semanticscholar                                                                            title                                                                                                                                                                                                                                                                                             content_abstract                                                                                                                                                                                                                                                                                                 content_text  \\\n",
       "0           260163299  Screening depression and anxiety in Indigenous peoples: A global scoping review  Indigenous peoples’ worldviews are intricately interconnected and interrelated with their communities and the environments in which they live. Their worldviews also manifest in a holistic view of health and well-being, which contrasts with those of the dominant western biomedical model. However,...  \\nIntroduction\\n\\nThe worldviews of Indigenous peoples are intricately interrelated and interconnected with those of their communities and the environments in which they live. Indigenous people conceptualise health and well-being more holistically (Gall et al., 2021) than the dominant western bi...   \n",
       "1           112601881                                       Model Development of a Blast Furnace Stove                                                                                                                                                                                                                                                                                                         <NA>  \\nIntroduction\\n\\nAbout one third of the world primary energy consumption is from the manufacturing industries. The iron and steel industry (ISI) is the second largest energy user and accounts for 20 % of the energy usage by the manufacturing industries [1]. Due to heavy reliance on fossil fuels...   \n",
       "2           118573517                                           Double beta decay transition mechanism  After briefly reviewing $\\beta \\beta$ decay as a test of the neutrino mass, I examine the nuclear structure involved in this process. Simple formulas (\\`{a} la Pad\\'{e}) are designed for the transition amplitudes and the general behavior of $\\beta \\beta$ decay amplitudes in the quasiparticle ran...  \\nIntroduction\\n\\nThe double beta (ββ) decay is a nice example of the interrelation between the Particle Physics and the Nuclear Physics: we can get information on the properties of the neutrino and the weak interaction from the ββ decay only if we know who to deal we the nuclear structure invol...   \n",
       "\n",
       "                                                                                                                                                                                                                                                                                         annotations_paragraph                                                                                                                                                                                                                                                                                   annotations_section_header  \n",
       "0  [{\"attributes\":null,\"end\":512,\"start\":15},{\"attributes\":null,\"end\":1314,\"start\":514},{\"attributes\":null,\"end\":2095,\"start\":1316},{\"attributes\":null,\"end\":3698,\"start\":2097},{\"attributes\":null,\"end\":4904,\"start\":3700},{\"attributes\":null,\"end\":5652,\"start\":4906},{\"attributes\":null,\"end\":6585,\"star...  [{\"attributes\":null,\"end\":13,\"start\":1},{\"attributes\":null,\"end\":5660,\"start\":5654},{\"attributes\":null,\"end\":7233,\"start\":7215},{\"attributes\":null,\"end\":11222,\"start\":11207},{\"attributes\":null,\"end\":12489,\"start\":12475},{\"attributes\":null,\"end\":13587,\"start\":13572},{\"attributes\":null,\"end\":14789...  \n",
       "1  [{\"attributes\":null,\"end\":519,\"start\":15},{\"attributes\":null,\"end\":1303,\"start\":521},{\"attributes\":null,\"end\":1735,\"start\":1305},{\"attributes\":null,\"end\":2270,\"start\":1737},{\"attributes\":null,\"end\":2995,\"start\":2272},{\"attributes\":null,\"end\":3406,\"start\":2997},{\"attributes\":null,\"end\":3691,\"star...  [{\"attributes\":{\"n\":\"1.\"},\"end\":13,\"start\":1},{\"attributes\":{\"n\":\"2.\"},\"end\":3414,\"start\":3408},{\"attributes\":null,\"end\":4208,\"start\":4172},{\"attributes\":{\"n\":\"2.1.\"},\"end\":5536,\"start\":5527},{\"attributes\":{\"n\":\"2.2.\"},\"end\":7243,\"start\":7228},{\"attributes\":{\"n\":\"2.3.\"},\"end\":7941,\"start\":7909},...  \n",
       "2  [{\"attributes\":null,\"end\":582,\"start\":15},{\"attributes\":null,\"end\":1069,\"start\":584},{\"attributes\":null,\"end\":1224,\"start\":1071},{\"attributes\":null,\"end\":1310,\"start\":1226},{\"attributes\":null,\"end\":1343,\"start\":1312},{\"attributes\":null,\"end\":1420,\"start\":1345},{\"attributes\":null,\"end\":1839,\"star...                                                                                                                                                        [{\"attributes\":{\"n\":\"1.\"},\"end\":13,\"start\":1},{\"attributes\":{\"n\":\"3.\"},\"end\":10044,\"start\":9997},{\"attributes\":{\"n\":\"4.\"},\"end\":14193,\"start\":14165}]  "
      ]
     },
     "metadata": {},
     "output_type": "display_data"
    },
    {
     "data": {
      "text/html": [
       "<div>\n",
       "<style scoped>\n",
       "    .dataframe tbody tr th:only-of-type {\n",
       "        vertical-align: middle;\n",
       "    }\n",
       "\n",
       "    .dataframe tbody tr th {\n",
       "        vertical-align: top;\n",
       "    }\n",
       "\n",
       "    .dataframe thead th {\n",
       "        text-align: right;\n",
       "    }\n",
       "</style>\n",
       "<table border=\"1\" class=\"dataframe\">\n",
       "  <thead>\n",
       "    <tr style=\"text-align: right;\">\n",
       "      <th></th>\n",
       "      <th>c</th>\n",
       "    </tr>\n",
       "  </thead>\n",
       "  <tbody>\n",
       "    <tr>\n",
       "      <th>0</th>\n",
       "      <td>11609787</td>\n",
       "    </tr>\n",
       "  </tbody>\n",
       "</table>\n",
       "</div>"
      ],
      "text/plain": [
       "          c\n",
       "0  11609787"
      ]
     },
     "metadata": {},
     "output_type": "display_data"
    },
    {
     "name": "stdout",
     "output_type": "stream",
     "text": [
      " :: \"02_stg\".stg_semanticscholar_combined_works_content queries finished | since_start: 11.0 minutes, 31.19 seconds | since_last: 10.51 seconds :: \n"
     ]
    },
    {
     "data": {
      "text/plain": [
       "' :: \"02_stg\".stg_semanticscholar_combined_works_content queries finished | since_start: 11.0 minutes, 31.19 seconds | since_last: 10.51 seconds :: '"
      ]
     },
     "execution_count": 18,
     "metadata": {},
     "output_type": "execute_result"
    }
   ],
   "source": [
    "table_name = 'stg_semanticscholar_combined_works_content'\n",
    "timelogger = utils.TimeLogger()\n",
    "utils.create_table_from_sql_file(\n",
    "    database_name = '02_stg',\n",
    "    table_name = table_name,\n",
    "    overwrite_strategy='overwrite', # options: fail, overwrite, ignore\n",
    "    wait=True,\n",
    ")\n",
    "timelogger.log(f'\"02_stg\".{table_name} created')\n",
    "\n",
    "utils.pd_set_options(cols=300)\n",
    "display(wr.athena.read_sql_query(f\"\"\"SELECT * FROM \"02_stg\".{table_name} LIMIT 3 \"\"\", '02_stg'))\n",
    "display(wr.athena.read_sql_query(f\"\"\"SELECT COUNT(*) AS c FROM \"02_stg\".{table_name} \"\"\", '02_stg'))\n",
    "timelogger.log(f'\"02_stg\".{table_name} queries finished')"
   ]
  },
  {
   "cell_type": "code",
   "execution_count": 19,
   "id": "0a1c5698-4d6d-4381-a425-96e6535d90d7",
   "metadata": {
    "execution": {
     "iopub.execute_input": "2025-09-01T23:32:42.704435Z",
     "iopub.status.busy": "2025-09-01T23:32:42.704176Z",
     "iopub.status.idle": "2025-09-01T23:32:57.836924Z",
     "shell.execute_reply": "2025-09-01T23:32:57.836148Z",
     "shell.execute_reply.started": "2025-09-01T23:32:42.704416Z"
    }
   },
   "outputs": [
    {
     "name": "stdout",
     "output_type": "stream",
     "text": [
      " :: :: TIMELOGGER STARTED :: | since_start: 0.00 seconds | since_last: 0.00 seconds :: \n",
      "Deleting S3 objects from s3://sagemaker-research-methodology-extraction/01_data/02_stg/stg_semanticscholar_combined_works_metadata/\n",
      "s3_parent_target_path:  s3://sagemaker-research-methodology-extraction/01_data/02_stg\n",
      " :: \"02_stg\".stg_semanticscholar_combined_works_metadata created | since_start: 5.85 seconds | since_last: 5.85 seconds :: \n"
     ]
    },
    {
     "data": {
      "text/html": [
       "<div>\n",
       "<style scoped>\n",
       "    .dataframe tbody tr th:only-of-type {\n",
       "        vertical-align: middle;\n",
       "    }\n",
       "\n",
       "    .dataframe tbody tr th {\n",
       "        vertical-align: top;\n",
       "    }\n",
       "\n",
       "    .dataframe thead th {\n",
       "        text-align: right;\n",
       "    }\n",
       "</style>\n",
       "<table border=\"1\" class=\"dataframe\">\n",
       "  <thead>\n",
       "    <tr style=\"text-align: right;\">\n",
       "      <th></th>\n",
       "      <th>id_semanticscholar</th>\n",
       "      <th>id_mag</th>\n",
       "      <th>id_doi</th>\n",
       "      <th>id_arxiv</th>\n",
       "      <th>source_url</th>\n",
       "      <th>openaccess_status</th>\n",
       "      <th>license</th>\n",
       "      <th>publication_year</th>\n",
       "      <th>publication_date</th>\n",
       "    </tr>\n",
       "  </thead>\n",
       "  <tbody>\n",
       "    <tr>\n",
       "      <th>0</th>\n",
       "      <td>46791531</td>\n",
       "      <td>2755160340</td>\n",
       "      <td>10.1364/oe.25.023899</td>\n",
       "      <td>&lt;NA&gt;</td>\n",
       "      <td>https://doi.org/10.1364/OE.25.023899</td>\n",
       "      <td>GOLD</td>\n",
       "      <td>CCBY</td>\n",
       "      <td>2017</td>\n",
       "      <td>2017-10-02</td>\n",
       "    </tr>\n",
       "    <tr>\n",
       "      <th>1</th>\n",
       "      <td>13140185</td>\n",
       "      <td>2010414254</td>\n",
       "      <td>10.3390/rs6031863</td>\n",
       "      <td>&lt;NA&gt;</td>\n",
       "      <td>https://doi.org/10.3390/rs6031863</td>\n",
       "      <td>GOLD</td>\n",
       "      <td>CCBY</td>\n",
       "      <td>2014</td>\n",
       "      <td>2014-02-28</td>\n",
       "    </tr>\n",
       "    <tr>\n",
       "      <th>2</th>\n",
       "      <td>253366618</td>\n",
       "      <td>&lt;NA&gt;</td>\n",
       "      <td>10.1016/j.xpro.2022.101803</td>\n",
       "      <td>&lt;NA&gt;</td>\n",
       "      <td>https://pmc.ncbi.nlm.nih.gov/articles/PMC9641055</td>\n",
       "      <td>GOLD</td>\n",
       "      <td>CCBYNCND</td>\n",
       "      <td>2022</td>\n",
       "      <td>2022-11-04</td>\n",
       "    </tr>\n",
       "  </tbody>\n",
       "</table>\n",
       "</div>"
      ],
      "text/plain": [
       "   id_semanticscholar      id_mag                      id_doi id_arxiv                                        source_url openaccess_status   license  publication_year publication_date\n",
       "0            46791531  2755160340        10.1364/oe.25.023899     <NA>              https://doi.org/10.1364/OE.25.023899              GOLD      CCBY              2017       2017-10-02\n",
       "1            13140185  2010414254           10.3390/rs6031863     <NA>                 https://doi.org/10.3390/rs6031863              GOLD      CCBY              2014       2014-02-28\n",
       "2           253366618        <NA>  10.1016/j.xpro.2022.101803     <NA>  https://pmc.ncbi.nlm.nih.gov/articles/PMC9641055              GOLD  CCBYNCND              2022       2022-11-04"
      ]
     },
     "metadata": {},
     "output_type": "display_data"
    },
    {
     "data": {
      "text/html": [
       "<div>\n",
       "<style scoped>\n",
       "    .dataframe tbody tr th:only-of-type {\n",
       "        vertical-align: middle;\n",
       "    }\n",
       "\n",
       "    .dataframe tbody tr th {\n",
       "        vertical-align: top;\n",
       "    }\n",
       "\n",
       "    .dataframe thead th {\n",
       "        text-align: right;\n",
       "    }\n",
       "</style>\n",
       "<table border=\"1\" class=\"dataframe\">\n",
       "  <thead>\n",
       "    <tr style=\"text-align: right;\">\n",
       "      <th></th>\n",
       "      <th>c</th>\n",
       "    </tr>\n",
       "  </thead>\n",
       "  <tbody>\n",
       "    <tr>\n",
       "      <th>0</th>\n",
       "      <td>11609787</td>\n",
       "    </tr>\n",
       "  </tbody>\n",
       "</table>\n",
       "</div>"
      ],
      "text/plain": [
       "          c\n",
       "0  11609787"
      ]
     },
     "metadata": {},
     "output_type": "display_data"
    },
    {
     "name": "stdout",
     "output_type": "stream",
     "text": [
      " :: \"02_stg\".stg_semanticscholar_combined_works_metadata queries finished | since_start: 15.13 seconds | since_last: 9.28 seconds :: \n"
     ]
    },
    {
     "data": {
      "text/plain": [
       "' :: \"02_stg\".stg_semanticscholar_combined_works_metadata queries finished | since_start: 15.13 seconds | since_last: 9.28 seconds :: '"
      ]
     },
     "execution_count": 19,
     "metadata": {},
     "output_type": "execute_result"
    }
   ],
   "source": [
    "table_name = 'stg_semanticscholar_combined_works_metadata'\n",
    "timelogger = utils.TimeLogger()\n",
    "utils.create_table_from_sql_file(\n",
    "    database_name = '02_stg',\n",
    "    table_name = table_name,\n",
    "    overwrite_strategy='overwrite', # options: fail, overwrite, ignore\n",
    "    wait=True,\n",
    ")\n",
    "timelogger.log(f'\"02_stg\".{table_name} created')\n",
    "\n",
    "utils.pd_set_options(cols=300)\n",
    "display(wr.athena.read_sql_query(f\"\"\"SELECT * FROM \"02_stg\".{table_name} LIMIT 3 \"\"\", '02_stg'))\n",
    "display(wr.athena.read_sql_query(f\"\"\"SELECT COUNT(*) AS c FROM \"02_stg\".{table_name} \"\"\", '02_stg'))\n",
    "timelogger.log(f'\"02_stg\".{table_name} queries finished')"
   ]
  },
  {
   "cell_type": "code",
   "execution_count": 5,
   "id": "90c03114-fb2f-4bb0-af87-a2b279620263",
   "metadata": {
    "execution": {
     "iopub.execute_input": "2025-09-01T16:30:57.668355Z",
     "iopub.status.busy": "2025-09-01T16:30:57.667872Z",
     "iopub.status.idle": "2025-09-01T16:31:22.459816Z",
     "shell.execute_reply": "2025-09-01T16:31:22.459010Z",
     "shell.execute_reply.started": "2025-09-01T16:30:57.668323Z"
    }
   },
   "outputs": [
    {
     "name": "stdout",
     "output_type": "stream",
     "text": [
      " :: :: TIMELOGGER STARTED :: | since_start: 0.00 seconds | since_last: 0.00 seconds :: \n",
      "Table 02_stg.base_arxiv_metadata already exists. Overwriting since overwrite_strategy==\"overwrite\".\n",
      "Deleting table from Glue Catalog 02_stg base_arxiv_metadata\n",
      "Deleting S3 objects from s3://sagemaker-research-methodology-extraction/01_data/02_stg/base_arxiv_metadata/\n",
      "s3_parent_target_path:  s3://sagemaker-research-methodology-extraction/01_data/02_stg\n",
      " :: \"02_stg\".base_arxiv_metadata created | since_start: 15.44 seconds | since_last: 15.44 seconds :: \n"
     ]
    },
    {
     "data": {
      "text/html": [
       "<div>\n",
       "<style scoped>\n",
       "    .dataframe tbody tr th:only-of-type {\n",
       "        vertical-align: middle;\n",
       "    }\n",
       "\n",
       "    .dataframe tbody tr th {\n",
       "        vertical-align: top;\n",
       "    }\n",
       "\n",
       "    .dataframe thead th {\n",
       "        text-align: right;\n",
       "    }\n",
       "</style>\n",
       "<table border=\"1\" class=\"dataframe\">\n",
       "  <thead>\n",
       "    <tr style=\"text-align: right;\">\n",
       "      <th></th>\n",
       "      <th>id_arxiv</th>\n",
       "      <th>id_doi</th>\n",
       "      <th>title</th>\n",
       "      <th>abstract</th>\n",
       "      <th>license</th>\n",
       "    </tr>\n",
       "  </thead>\n",
       "  <tbody>\n",
       "    <tr>\n",
       "      <th>0</th>\n",
       "      <td>0903.1601</td>\n",
       "      <td>&lt;NA&gt;</td>\n",
       "      <td>Parabolic-Dish Solar Concentrators of Film on Foam</td>\n",
       "      <td>Parabolic and spherical mirrors are constructed of aluminized PET polyester film on urethane foam. During construction, the chosen shape of the mirror is created by manipulating the elastic/plastic behavior of the film with air pressure. Foam is then applied to the film and, once hardened, air pressure is removed. At an f-number of 0.68, preliminary models have an optical angular spread of less than 0.25 degrees, a factor of 3.3 smaller than that for a perfectly spherical mirror. The possi...</td>\n",
       "      <td>ArXiv nonexclusive-distrib</td>\n",
       "    </tr>\n",
       "    <tr>\n",
       "      <th>1</th>\n",
       "      <td>0903.1604</td>\n",
       "      <td>10.3842/SIGMA.2009.029</td>\n",
       "      <td>Limits of Gaudin Systems: Classical and Quantum Cases</td>\n",
       "      <td>We consider the XXX homogeneous Gaudin system with $N$ sites, both in classical and the quantum case. In particular we show that a suitable limiting procedure for letting the poles of its Lax matrix collide can be used to define new families of Liouville integrals (in the classical case) and new \"Gaudin\" algebras (in the quantum case). We will especially treat the case of total collisions, that gives rise to (a generalization of) the so called Bending flows of Kapovich and Millson. Some as...</td>\n",
       "      <td>CCBYNCSA</td>\n",
       "    </tr>\n",
       "    <tr>\n",
       "      <th>2</th>\n",
       "      <td>0903.1600</td>\n",
       "      <td>&lt;NA&gt;</td>\n",
       "      <td>Typically Real Harmonic Functions</td>\n",
       "      <td>We consider a class $\\THO$ of typically real harmonic functions on the unit disk that contains the class of normalized analytic and typically real functions. We also obtain some partial results about the region of univalence for this class.</td>\n",
       "      <td>ArXiv nonexclusive-distrib</td>\n",
       "    </tr>\n",
       "  </tbody>\n",
       "</table>\n",
       "</div>"
      ],
      "text/plain": [
       "    id_arxiv                  id_doi                                                  title                                                                                                                                                                                                                                                                                                                                                                                                                                                                                                             abstract                     license\n",
       "0  0903.1601                    <NA>     Parabolic-Dish Solar Concentrators of Film on Foam    Parabolic and spherical mirrors are constructed of aluminized PET polyester film on urethane foam. During construction, the chosen shape of the mirror is created by manipulating the elastic/plastic behavior of the film with air pressure. Foam is then applied to the film and, once hardened, air pressure is removed. At an f-number of 0.68, preliminary models have an optical angular spread of less than 0.25 degrees, a factor of 3.3 smaller than that for a perfectly spherical mirror. The possi...  ArXiv nonexclusive-distrib\n",
       "1  0903.1604  10.3842/SIGMA.2009.029  Limits of Gaudin Systems: Classical and Quantum Cases    We consider the XXX homogeneous Gaudin system with $N$ sites, both in classical and the quantum case. In particular we show that a suitable limiting procedure for letting the poles of its Lax matrix collide can be used to define new families of Liouville integrals (in the classical case) and new \"Gaudin\" algebras (in the quantum case). We will especially treat the case of total collisions, that gives rise to (a generalization of) the so called Bending flows of Kapovich and Millson. Some as...                    CCBYNCSA\n",
       "2  0903.1600                    <NA>                      Typically Real Harmonic Functions                                                                                                                                                                                                                                                                     We consider a class $\\THO$ of typically real harmonic functions on the unit disk that contains the class of normalized analytic and typically real functions. We also obtain some partial results about the region of univalence for this class.  ArXiv nonexclusive-distrib"
      ]
     },
     "metadata": {},
     "output_type": "display_data"
    },
    {
     "data": {
      "text/html": [
       "<div>\n",
       "<style scoped>\n",
       "    .dataframe tbody tr th:only-of-type {\n",
       "        vertical-align: middle;\n",
       "    }\n",
       "\n",
       "    .dataframe tbody tr th {\n",
       "        vertical-align: top;\n",
       "    }\n",
       "\n",
       "    .dataframe thead th {\n",
       "        text-align: right;\n",
       "    }\n",
       "</style>\n",
       "<table border=\"1\" class=\"dataframe\">\n",
       "  <thead>\n",
       "    <tr style=\"text-align: right;\">\n",
       "      <th></th>\n",
       "      <th>c</th>\n",
       "    </tr>\n",
       "  </thead>\n",
       "  <tbody>\n",
       "    <tr>\n",
       "      <th>0</th>\n",
       "      <td>2816721</td>\n",
       "    </tr>\n",
       "  </tbody>\n",
       "</table>\n",
       "</div>"
      ],
      "text/plain": [
       "         c\n",
       "0  2816721"
      ]
     },
     "metadata": {},
     "output_type": "display_data"
    },
    {
     "name": "stdout",
     "output_type": "stream",
     "text": [
      " :: \"02_stg\".base_arxiv_metadata queries finished | since_start: 24.78 seconds | since_last: 9.35 seconds :: \n"
     ]
    },
    {
     "data": {
      "text/plain": [
       "' :: \"02_stg\".base_arxiv_metadata queries finished | since_start: 24.78 seconds | since_last: 9.35 seconds :: '"
      ]
     },
     "execution_count": 5,
     "metadata": {},
     "output_type": "execute_result"
    }
   ],
   "source": [
    "table_name = 'base_arxiv_metadata'\n",
    "timelogger = utils.TimeLogger()\n",
    "utils.create_table_from_sql_file(\n",
    "    database_name = '02_stg',\n",
    "    table_name = table_name,\n",
    "    overwrite_strategy='overwrite', # options: fail, overwrite, ignore\n",
    "    wait=True,\n",
    ")\n",
    "timelogger.log(f'\"02_stg\".{table_name} created')\n",
    "\n",
    "utils.pd_set_options(cols=500)\n",
    "display(wr.athena.read_sql_query(f\"\"\"SELECT * FROM \"02_stg\".{table_name} LIMIT 3 \"\"\", '02_stg'))\n",
    "display(wr.athena.read_sql_query(f\"\"\"SELECT COUNT(*) AS c FROM \"02_stg\".{table_name} \"\"\", '02_stg'))\n",
    "timelogger.log(f'\"02_stg\".{table_name} queries finished')"
   ]
  },
  {
   "cell_type": "code",
   "execution_count": 21,
   "id": "555ed65e-bd23-4fb0-a575-ed56818916eb",
   "metadata": {
    "execution": {
     "iopub.execute_input": "2025-09-01T23:45:34.454774Z",
     "iopub.status.busy": "2025-09-01T23:45:34.454505Z",
     "iopub.status.idle": "2025-09-01T23:45:55.601589Z",
     "shell.execute_reply": "2025-09-01T23:45:55.600772Z",
     "shell.execute_reply.started": "2025-09-01T23:45:34.454752Z"
    }
   },
   "outputs": [
    {
     "name": "stdout",
     "output_type": "stream",
     "text": [
      " :: :: TIMELOGGER STARTED :: | since_start: 0.00 seconds | since_last: 0.00 seconds :: \n",
      "Deleting S3 objects from s3://sagemaker-research-methodology-extraction/01_data/02_stg/stg_unified_works_metadata_01_joined_to_arxiv/\n",
      "s3_parent_target_path:  s3://sagemaker-research-methodology-extraction/01_data/02_stg\n",
      " :: \"02_stg\".stg_unified_works_metadata_01_joined_to_arxiv created | since_start: 11.79 seconds | since_last: 11.79 seconds :: \n"
     ]
    },
    {
     "data": {
      "text/html": [
       "<div>\n",
       "<style scoped>\n",
       "    .dataframe tbody tr th:only-of-type {\n",
       "        vertical-align: middle;\n",
       "    }\n",
       "\n",
       "    .dataframe tbody tr th {\n",
       "        vertical-align: top;\n",
       "    }\n",
       "\n",
       "    .dataframe thead th {\n",
       "        text-align: right;\n",
       "    }\n",
       "</style>\n",
       "<table border=\"1\" class=\"dataframe\">\n",
       "  <thead>\n",
       "    <tr style=\"text-align: right;\">\n",
       "      <th></th>\n",
       "      <th>id_semanticscholar</th>\n",
       "      <th>id_mag</th>\n",
       "      <th>id_doi</th>\n",
       "      <th>id_arxiv</th>\n",
       "      <th>source_url</th>\n",
       "      <th>openaccess_status</th>\n",
       "      <th>publication_year</th>\n",
       "      <th>publication_date</th>\n",
       "      <th>license</th>\n",
       "      <th>license_allows_derivative_reuse</th>\n",
       "    </tr>\n",
       "  </thead>\n",
       "  <tbody>\n",
       "    <tr>\n",
       "      <th>0</th>\n",
       "      <td>4951032</td>\n",
       "      <td>2789407911</td>\n",
       "      <td>10.1016/j.tecto.2018.03.010</td>\n",
       "      <td>&lt;NA&gt;</td>\n",
       "      <td>https://doi.org/10.1016/J.TECTO.2018.03.010</td>\n",
       "      <td>HYBRID</td>\n",
       "      <td>2018</td>\n",
       "      <td>2018-04-22</td>\n",
       "      <td>CCBY</td>\n",
       "      <td>1</td>\n",
       "    </tr>\n",
       "    <tr>\n",
       "      <th>1</th>\n",
       "      <td>204923380</td>\n",
       "      <td>2981732074</td>\n",
       "      <td>10.1016/j.jalz.2019.08.201</td>\n",
       "      <td>&lt;NA&gt;</td>\n",
       "      <td>https://pmc.ncbi.nlm.nih.gov/articles/PMC7012375</td>\n",
       "      <td>HYBRID</td>\n",
       "      <td>2019</td>\n",
       "      <td>2019-10-28</td>\n",
       "      <td>CCBYNCND</td>\n",
       "      <td>0</td>\n",
       "    </tr>\n",
       "    <tr>\n",
       "      <th>2</th>\n",
       "      <td>14519185</td>\n",
       "      <td>2114693455</td>\n",
       "      <td>10.1099/vir.0.007377-0</td>\n",
       "      <td>&lt;NA&gt;</td>\n",
       "      <td>https://pmc.ncbi.nlm.nih.gov/articles/PMC2885064</td>\n",
       "      <td>HYBRID</td>\n",
       "      <td>2009</td>\n",
       "      <td>2009-03-01</td>\n",
       "      <td>CCBY</td>\n",
       "      <td>1</td>\n",
       "    </tr>\n",
       "  </tbody>\n",
       "</table>\n",
       "</div>"
      ],
      "text/plain": [
       "   id_semanticscholar      id_mag                       id_doi id_arxiv                                        source_url openaccess_status  publication_year publication_date   license  license_allows_derivative_reuse\n",
       "0             4951032  2789407911  10.1016/j.tecto.2018.03.010     <NA>       https://doi.org/10.1016/J.TECTO.2018.03.010            HYBRID              2018       2018-04-22      CCBY                                1\n",
       "1           204923380  2981732074   10.1016/j.jalz.2019.08.201     <NA>  https://pmc.ncbi.nlm.nih.gov/articles/PMC7012375            HYBRID              2019       2019-10-28  CCBYNCND                                0\n",
       "2            14519185  2114693455       10.1099/vir.0.007377-0     <NA>  https://pmc.ncbi.nlm.nih.gov/articles/PMC2885064            HYBRID              2009       2009-03-01      CCBY                                1"
      ]
     },
     "metadata": {},
     "output_type": "display_data"
    },
    {
     "data": {
      "text/html": [
       "<div>\n",
       "<style scoped>\n",
       "    .dataframe tbody tr th:only-of-type {\n",
       "        vertical-align: middle;\n",
       "    }\n",
       "\n",
       "    .dataframe tbody tr th {\n",
       "        vertical-align: top;\n",
       "    }\n",
       "\n",
       "    .dataframe thead th {\n",
       "        text-align: right;\n",
       "    }\n",
       "</style>\n",
       "<table border=\"1\" class=\"dataframe\">\n",
       "  <thead>\n",
       "    <tr style=\"text-align: right;\">\n",
       "      <th></th>\n",
       "      <th>c</th>\n",
       "    </tr>\n",
       "  </thead>\n",
       "  <tbody>\n",
       "    <tr>\n",
       "      <th>0</th>\n",
       "      <td>11609787</td>\n",
       "    </tr>\n",
       "  </tbody>\n",
       "</table>\n",
       "</div>"
      ],
      "text/plain": [
       "          c\n",
       "0  11609787"
      ]
     },
     "metadata": {},
     "output_type": "display_data"
    },
    {
     "name": "stdout",
     "output_type": "stream",
     "text": [
      " :: \"02_stg\".stg_unified_works_metadata_01_joined_to_arxiv queries finished | since_start: 21.14 seconds | since_last: 9.35 seconds :: \n"
     ]
    },
    {
     "data": {
      "text/plain": [
       "' :: \"02_stg\".stg_unified_works_metadata_01_joined_to_arxiv queries finished | since_start: 21.14 seconds | since_last: 9.35 seconds :: '"
      ]
     },
     "execution_count": 21,
     "metadata": {},
     "output_type": "execute_result"
    }
   ],
   "source": [
    "table_name = 'stg_unified_works_metadata_01_joined_to_arxiv'\n",
    "timelogger = utils.TimeLogger()\n",
    "utils.create_table_from_sql_file(\n",
    "    database_name = '02_stg',\n",
    "    table_name = table_name,\n",
    "    overwrite_strategy='overwrite', # options: fail, overwrite, ignore\n",
    "    wait=True,\n",
    ")\n",
    "timelogger.log(f'\"02_stg\".{table_name} created')\n",
    "\n",
    "utils.pd_set_options(cols=300)\n",
    "display(wr.athena.read_sql_query(f\"\"\"SELECT * FROM \"02_stg\".{table_name} LIMIT 3 \"\"\", '02_stg'))\n",
    "display(wr.athena.read_sql_query(f\"\"\"SELECT COUNT(*) AS c FROM \"02_stg\".{table_name} \"\"\", '02_stg'))\n",
    "timelogger.log(f'\"02_stg\".{table_name} queries finished')"
   ]
  },
  {
   "cell_type": "code",
   "execution_count": 33,
   "id": "a247c0e7-c262-42b7-ab46-904d5eec4c57",
   "metadata": {
    "execution": {
     "iopub.execute_input": "2025-09-02T00:44:35.600461Z",
     "iopub.status.busy": "2025-09-02T00:44:35.600047Z",
     "iopub.status.idle": "2025-09-02T00:44:47.001090Z",
     "shell.execute_reply": "2025-09-02T00:44:46.997295Z",
     "shell.execute_reply.started": "2025-09-02T00:44:35.600430Z"
    }
   },
   "outputs": [
    {
     "name": "stdout",
     "output_type": "stream",
     "text": [
      " :: :: TIMELOGGER STARTED :: | since_start: 0.00 seconds | since_last: 0.00 seconds :: \n",
      "Deleting S3 objects from s3://sagemaker-research-methodology-extraction/01_data/02_stg/stg_unified_works_metadata_02_joined_to_openalex/\n",
      "s3_parent_target_path:  s3://sagemaker-research-methodology-extraction/01_data/02_stg\n",
      " :: \"02_stg\".stg_unified_works_metadata_02_joined_to_openalex created | since_start: 4.30 seconds | since_last: 4.30 seconds :: \n"
     ]
    },
    {
     "data": {
      "text/html": [
       "<div>\n",
       "<style scoped>\n",
       "    .dataframe tbody tr th:only-of-type {\n",
       "        vertical-align: middle;\n",
       "    }\n",
       "\n",
       "    .dataframe tbody tr th {\n",
       "        vertical-align: top;\n",
       "    }\n",
       "\n",
       "    .dataframe thead th {\n",
       "        text-align: right;\n",
       "    }\n",
       "</style>\n",
       "<table border=\"1\" class=\"dataframe\">\n",
       "  <thead>\n",
       "    <tr style=\"text-align: right;\">\n",
       "      <th></th>\n",
       "      <th>id_semanticscholar</th>\n",
       "      <th>id_mag</th>\n",
       "      <th>id_doi</th>\n",
       "      <th>id_arxiv</th>\n",
       "      <th>publication_year</th>\n",
       "      <th>publication_date</th>\n",
       "      <th>license</th>\n",
       "      <th>source_url</th>\n",
       "      <th>has_id_mag</th>\n",
       "      <th>has_id_doi</th>\n",
       "      <th>has_id_mag_or_doi</th>\n",
       "      <th>openalex_id_openalex</th>\n",
       "      <th>openalex_id_doi</th>\n",
       "      <th>openalex_language</th>\n",
       "      <th>openalex_primary_topic_id</th>\n",
       "      <th>openalex_primary_topic_display_name</th>\n",
       "      <th>openalex_primary_topic_subfield_id</th>\n",
       "      <th>openalex_primary_topic_subfield_display_name</th>\n",
       "      <th>openalex_primary_topic_field_id</th>\n",
       "      <th>openalex_primary_topic_field_display_name</th>\n",
       "      <th>openalex_primary_topic_domain_id</th>\n",
       "      <th>openalex_</th>\n",
       "      <th>openalex_joined_on</th>\n",
       "    </tr>\n",
       "  </thead>\n",
       "  <tbody>\n",
       "  </tbody>\n",
       "</table>\n",
       "</div>"
      ],
      "text/plain": [
       "Empty DataFrame\n",
       "Columns: [id_semanticscholar, id_mag, id_doi, id_arxiv, publication_year, publication_date, license, source_url, has_id_mag, has_id_doi, has_id_mag_or_doi, openalex_id_openalex, openalex_id_doi, openalex_language, openalex_primary_topic_id, openalex_primary_topic_display_name, openalex_primary_topic_subfield_id, openalex_primary_topic_subfield_display_name, openalex_primary_topic_field_id, openalex_primary_topic_field_display_name, openalex_primary_topic_domain_id, openalex_, openalex_joined_on]\n",
       "Index: []"
      ]
     },
     "metadata": {},
     "output_type": "display_data"
    },
    {
     "data": {
      "text/html": [
       "<div>\n",
       "<style scoped>\n",
       "    .dataframe tbody tr th:only-of-type {\n",
       "        vertical-align: middle;\n",
       "    }\n",
       "\n",
       "    .dataframe tbody tr th {\n",
       "        vertical-align: top;\n",
       "    }\n",
       "\n",
       "    .dataframe thead th {\n",
       "        text-align: right;\n",
       "    }\n",
       "</style>\n",
       "<table border=\"1\" class=\"dataframe\">\n",
       "  <thead>\n",
       "    <tr style=\"text-align: right;\">\n",
       "      <th></th>\n",
       "      <th>c</th>\n",
       "    </tr>\n",
       "  </thead>\n",
       "  <tbody>\n",
       "    <tr>\n",
       "      <th>0</th>\n",
       "      <td>0</td>\n",
       "    </tr>\n",
       "  </tbody>\n",
       "</table>\n",
       "</div>"
      ],
      "text/plain": [
       "   c\n",
       "0  0"
      ]
     },
     "metadata": {},
     "output_type": "display_data"
    },
    {
     "name": "stdout",
     "output_type": "stream",
     "text": [
      " :: \"02_stg\".stg_unified_works_metadata_02_joined_to_openalex queries finished | since_start: 11.39 seconds | since_last: 7.09 seconds :: \n"
     ]
    },
    {
     "data": {
      "text/plain": [
       "' :: \"02_stg\".stg_unified_works_metadata_02_joined_to_openalex queries finished | since_start: 11.39 seconds | since_last: 7.09 seconds :: '"
      ]
     },
     "execution_count": 33,
     "metadata": {},
     "output_type": "execute_result"
    }
   ],
   "source": [
    "table_name = 'stg_unified_works_metadata_02_joined_to_openalex'\n",
    "timelogger = utils.TimeLogger()\n",
    "utils.create_table_from_sql_file(\n",
    "    database_name = '02_stg',\n",
    "    table_name = table_name,\n",
    "    overwrite_strategy='overwrite', # options: fail, overwrite, ignore\n",
    "    wait=True,\n",
    ")\n",
    "timelogger.log(f'\"02_stg\".{table_name} created')\n",
    "\n",
    "utils.pd_set_options(cols=300)\n",
    "display(wr.athena.read_sql_query(f\"\"\"SELECT * FROM \"02_stg\".{table_name} LIMIT 3 \"\"\", '02_stg'))\n",
    "display(wr.athena.read_sql_query(f\"\"\"SELECT COUNT(*) AS c FROM \"02_stg\".{table_name} \"\"\", '02_stg'))\n",
    "timelogger.log(f'\"02_stg\".{table_name} queries finished')"
   ]
  },
  {
   "cell_type": "code",
   "execution_count": null,
   "id": "947bf05c-c95a-4155-9f87-bface54c074a",
   "metadata": {
    "execution": {
     "iopub.status.busy": "2025-09-01T18:18:46.636784Z",
     "iopub.status.idle": "2025-09-01T18:18:46.637085Z",
     "shell.execute_reply": "2025-09-01T18:18:46.636969Z",
     "shell.execute_reply.started": "2025-09-01T18:18:46.636957Z"
    }
   },
   "outputs": [],
   "source": [
    "utils.pd_set_options(cols=500)\n",
    "\n",
    "wr.athena.read_sql_query(\"\"\"\n",
    "WITH\n",
    "count_raw AS (\n",
    "SELECT 1 AS i, '01_raw.semanticscholar_s2orc_v2' AS t, COUNT(*) AS c FROM \"01_raw\".semanticscholar_s2orc_v2\n",
    "),\n",
    "count_base AS (\n",
    "SELECT 2 AS i, '02_stg.base_semanticscholar_s2orcv2' AS t, COUNT(*) AS c FROM \"02_stg\".base_semanticscholar_s2orcv2\n",
    "),\n",
    "count_stg_combined AS (\n",
    "SELECT 2 AS i, '02_stg.stg_semanticscholar_combined_works' AS t, COUNT(*) AS c FROM \"02_stg\".stg_semanticscholar_combined_works\n",
    "),\n",
    "count_stg_joined_step01 AS (\n",
    "SELECT 3 AS i, '02_stg.stg_unified_works_01_joined_to_arxiv' AS t, COUNT(*) AS c FROM \"02_stg\".stg_unified_works_01_joined_to_arxiv\n",
    "),\n",
    "count_stg_joined_step02 AS (\n",
    "SELECT 3 AS i, '02_stg.stg_unified_works_02_joined_to_openalex' AS t, COUNT(*) AS c FROM \"02_stg\".stg_unified_works_02_joined_to_openalex\n",
    ")\n",
    "SELECT * FROM count_raw UNION ALL\n",
    "SELECT * FROM count_base UNION ALL\n",
    "SELECT * FROM count_stg_combined UNION ALL\n",
    "SELECT * FROM count_stg_joined_step01 UNION ALL\n",
    "SELECT * FROM count_stg_joined_step02\n",
    "\n",
    " \"\"\", '01_raw')"
   ]
  }
 ],
 "metadata": {
  "kernelspec": {
   "display_name": "python_311_2",
   "language": "python",
   "name": "python_311_2"
  },
  "language_info": {
   "codemirror_mode": {
    "name": "ipython",
    "version": 3
   },
   "file_extension": ".py",
   "mimetype": "text/x-python",
   "name": "python",
   "nbconvert_exporter": "python",
   "pygments_lexer": "ipython3",
   "version": "3.11.13"
  }
 },
 "nbformat": 4,
 "nbformat_minor": 5
}
