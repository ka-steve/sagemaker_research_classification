{
 "cells": [
  {
   "cell_type": "code",
   "execution_count": 1,
   "id": "1344db8e",
   "metadata": {
    "execution": {
     "iopub.execute_input": "2025-08-29T09:05:12.832640Z",
     "iopub.status.busy": "2025-08-29T09:05:12.832194Z",
     "iopub.status.idle": "2025-08-29T09:05:23.514084Z",
     "shell.execute_reply": "2025-08-29T09:05:23.513302Z",
     "shell.execute_reply.started": "2025-08-29T09:05:12.832605Z"
    }
   },
   "outputs": [
    {
     "name": "stdout",
     "output_type": "stream",
     "text": [
      "sagemaker.config INFO - Not applying SDK defaults from location: /etc/xdg/sagemaker/config.yaml\n",
      "sagemaker.config INFO - Not applying SDK defaults from location: /home/sagemaker-user/.config/sagemaker/config.yaml\n",
      "config.py loaded: v0.1\n",
      "utils.py loaded: v0.2.12\n",
      "utils.py loaded: v0.2.12\n",
      "config.py loaded: v0.1\n"
     ]
    }
   ],
   "source": [
    "import requests\n",
    "import boto3\n",
    "import json\n",
    "import os\n",
    "import sys\n",
    "import argparse\n",
    "import importlib\n",
    "import transformers\n",
    "import torch\n",
    "import pathlib\n",
    "import awswrangler as wr\n",
    "from IPython.display import display\n",
    "from sagemaker.huggingface.processing import HuggingFaceProcessor\n",
    "from sagemaker.sklearn.processing import SKLearnProcessor\n",
    "from sagemaker.processing import FrameworkProcessor\n",
    "from sagemaker.sklearn.estimator import SKLearn\n",
    "from sagemaker.workflow.steps import ProcessingStep\n",
    "from sagemaker.workflow.pipeline_context import PipelineSession\n",
    "from sagemaker.processing import ProcessingInput, ProcessingOutput\n",
    "from sagemaker.session import get_execution_role\n",
    "\n",
    "\n",
    "# Adding ../01_modules or ./01_modules to the system path so that we can load modules from \n",
    "# there as well\n",
    "if '__file__' in globals():\n",
    "    script_dir = pathlib.Path(__file__).parent.resolve()\n",
    "else:\n",
    "    script_dir = pathlib.Path().absolute()\n",
    "modules_path_in_dev = os.path.abspath(os.path.join(script_dir, '..', '01_modules'))\n",
    "modules_path_in_prod = os.path.abspath(os.path.join(script_dir, '01_modules'))\n",
    "if os.path.exists(modules_path_in_dev):\n",
    "    sys.path.append(modules_path_in_dev)\n",
    "if os.path.exists(modules_path_in_prod):\n",
    "    sys.path.append(modules_path_in_prod)\n",
    "\n",
    "\n",
    "# # Jupyter only reads a local module the first time after \n",
    "# # kernel start. Re-running a cell with \n",
    "# # \"from mymodulename import *\" would not change\n",
    "# # anything, even if the imported module has since changed.\n",
    "# # As a workaround, we need to directly load the module, \n",
    "# # use importlib.reload to reload it and then import * \n",
    "import utils\n",
    "_ = importlib.reload(utils)\n",
    "import config\n",
    "_ = importlib.reload(config) \n"
   ]
  },
  {
   "cell_type": "code",
   "execution_count": 2,
   "id": "b4aa4a44-7e8e-45a9-9440-1c1f723af163",
   "metadata": {
    "execution": {
     "iopub.execute_input": "2025-08-29T09:06:07.829418Z",
     "iopub.status.busy": "2025-08-29T09:06:07.829105Z",
     "iopub.status.idle": "2025-08-29T09:06:07.835707Z",
     "shell.execute_reply": "2025-08-29T09:06:07.834404Z",
     "shell.execute_reply.started": "2025-08-29T09:06:07.829392Z"
    },
    "scrolled": true
   },
   "outputs": [],
   "source": [
    "if False: # do not run this again, takes a day\n",
    "    execution_role = get_execution_role()\n",
    "    source_dir = os.path.abspath(os.path.join(os.getcwd(), '..', '..'))\n",
    "    print('source_dir:', source_dir)\n",
    "    sklearn_processor = FrameworkProcessor(\n",
    "        estimator_cls=SKLearn,\n",
    "        framework_version='1.2-1', # The newest supported version by sagemaker\n",
    "        instance_type='ml.c7i.16xlarge',\n",
    "        instance_count=1,\n",
    "        base_job_name=f'openalex_works_reduction'.replace('_','-'),\n",
    "        role=execution_role\n",
    "    )\n",
    "    \n",
    "    step_args = sklearn_processor.run(\n",
    "        code='src/03_transformation/03_11_transformation_openalex_works_reduction.py',\n",
    "        source_dir=source_dir,\n",
    "        inputs=[], # We are not using automatic input-output mapping, instead we handle everything in the script directly on S3\n",
    "        outputs=[],\n",
    "        arguments=[\n",
    "            '--runtype', 'prod',\n",
    "            '--file-max-limit', '10000',\n",
    "        ],\n",
    "        wait=True\n",
    "    )"
   ]
  },
  {
   "cell_type": "code",
   "execution_count": 3,
   "id": "010f147a",
   "metadata": {
    "execution": {
     "iopub.execute_input": "2025-08-29T09:06:21.658429Z",
     "iopub.status.busy": "2025-08-29T09:06:21.658124Z",
     "iopub.status.idle": "2025-08-29T09:08:03.707913Z",
     "shell.execute_reply": "2025-08-29T09:08:03.707080Z",
     "shell.execute_reply.started": "2025-08-29T09:06:21.658407Z"
    }
   },
   "outputs": [
    {
     "name": "stdout",
     "output_type": "stream",
     "text": [
      " :: :: TIMELOGGER STARTED :: | since_start: 0.00 seconds | since_last: 0.00 seconds :: \n",
      "Table 02_stg.base_openalex_works_reduced already exists. Overwriting since overwrite_strategy==\"overwrite\".\n",
      "Deleting table from Glue Catalog 02_stg base_openalex_works_reduced\n",
      "Deleting S3 objects from s3://sagemaker-research-methodology-extraction/01_data/02_stg/base_openalex_works_reduced/\n",
      "s3_parent_target_path:  s3://sagemaker-research-methodology-extraction/01_data/02_stg\n",
      " :: \"02_stg\".base_openalex_works_reduced created | since_start: 1.0 minute, 42.04 seconds | since_last: 1.0 minute, 42.04 seconds :: \n"
     ]
    },
    {
     "data": {
      "text/plain": [
       "' :: \"02_stg\".base_openalex_works_reduced created | since_start: 1.0 minute, 42.04 seconds | since_last: 1.0 minute, 42.04 seconds :: '"
      ]
     },
     "execution_count": 3,
     "metadata": {},
     "output_type": "execute_result"
    }
   ],
   "source": [
    "timelogger = utils.TimeLogger()\n",
    "utils.create_table_from_sql_file(\n",
    "    database_name = '02_stg',\n",
    "    table_name = 'base_openalex_works_reduced',\n",
    "    overwrite_strategy='overwrite', # options: fail, overwrite, ignore\n",
    "    wait=True,\n",
    ")\n",
    "timelogger.log('\"02_stg\".base_openalex_works_reduced created')"
   ]
  },
  {
   "cell_type": "code",
   "execution_count": 4,
   "id": "eefe4549-9fea-4e0b-a55e-dda0f89f9bea",
   "metadata": {
    "execution": {
     "iopub.execute_input": "2025-08-29T09:08:03.709637Z",
     "iopub.status.busy": "2025-08-29T09:08:03.708853Z",
     "iopub.status.idle": "2025-08-29T09:08:13.702163Z",
     "shell.execute_reply": "2025-08-29T09:08:13.701349Z",
     "shell.execute_reply.started": "2025-08-29T09:08:03.709595Z"
    }
   },
   "outputs": [
    {
     "data": {
      "text/html": [
       "<div>\n",
       "<style scoped>\n",
       "    .dataframe tbody tr th:only-of-type {\n",
       "        vertical-align: middle;\n",
       "    }\n",
       "\n",
       "    .dataframe tbody tr th {\n",
       "        vertical-align: top;\n",
       "    }\n",
       "\n",
       "    .dataframe thead th {\n",
       "        text-align: right;\n",
       "    }\n",
       "</style>\n",
       "<table border=\"1\" class=\"dataframe\">\n",
       "  <thead>\n",
       "    <tr style=\"text-align: right;\">\n",
       "      <th></th>\n",
       "      <th>id_openalex</th>\n",
       "      <th>id_doi</th>\n",
       "      <th>title</th>\n",
       "      <th>language</th>\n",
       "      <th>primary_topic_id</th>\n",
       "      <th>primary_topic_display_name</th>\n",
       "      <th>primary_topic_subfield_id</th>\n",
       "      <th>primary_topic_subfield_display_name</th>\n",
       "      <th>primary_topic_field_id</th>\n",
       "      <th>primary_topic_field_display_name</th>\n",
       "      <th>primary_topic_domain_id</th>\n",
       "      <th>primary_topic_domain_display_name</th>\n",
       "    </tr>\n",
       "  </thead>\n",
       "  <tbody>\n",
       "    <tr>\n",
       "      <th>0</th>\n",
       "      <td>269677805</td>\n",
       "      <td>&lt;NA&gt;</td>\n",
       "      <td>2. Profil type du détenu politique à Eysses</td>\n",
       "      <td>fr</td>\n",
       "      <td>T10153</td>\n",
       "      <td>Education, sociology, and vocational training</td>\n",
       "      <td>3312</td>\n",
       "      <td>Sociology and Political Science</td>\n",
       "      <td>33</td>\n",
       "      <td>Social Sciences</td>\n",
       "      <td>2</td>\n",
       "      <td>Social Sciences</td>\n",
       "    </tr>\n",
       "    <tr>\n",
       "      <th>1</th>\n",
       "      <td>2696780303</td>\n",
       "      <td>&lt;NA&gt;</td>\n",
       "      <td>Analisa Struktur Dan Material Speed Bump Dengan Bahan Concrete Foam Untuk Penggerak Tenaga Listrik</td>\n",
       "      <td>id</td>\n",
       "      <td>T13674</td>\n",
       "      <td>Computer Science and Engineering</td>\n",
       "      <td>1702</td>\n",
       "      <td>Artificial Intelligence</td>\n",
       "      <td>17</td>\n",
       "      <td>Computer Science</td>\n",
       "      <td>3</td>\n",
       "      <td>Physical Sciences</td>\n",
       "    </tr>\n",
       "    <tr>\n",
       "      <th>2</th>\n",
       "      <td>2696784097</td>\n",
       "      <td>&lt;NA&gt;</td>\n",
       "      <td>Strategies of survival during the holocaust</td>\n",
       "      <td>en</td>\n",
       "      <td>T11203</td>\n",
       "      <td>Jewish and Middle Eastern Studies</td>\n",
       "      <td>3312</td>\n",
       "      <td>Sociology and Political Science</td>\n",
       "      <td>33</td>\n",
       "      <td>Social Sciences</td>\n",
       "      <td>2</td>\n",
       "      <td>Social Sciences</td>\n",
       "    </tr>\n",
       "    <tr>\n",
       "      <th>3</th>\n",
       "      <td>2696788076</td>\n",
       "      <td>&lt;NA&gt;</td>\n",
       "      <td>Business intelligence and Marketing analytics/Inteligencia de negocio y análisis de datos</td>\n",
       "      <td>&lt;NA&gt;</td>\n",
       "      <td>T11891</td>\n",
       "      <td>Big Data and Business Intelligence</td>\n",
       "      <td>1404</td>\n",
       "      <td>Management Information Systems</td>\n",
       "      <td>14</td>\n",
       "      <td>Business, Management and Accounting</td>\n",
       "      <td>2</td>\n",
       "      <td>Social Sciences</td>\n",
       "    </tr>\n",
       "    <tr>\n",
       "      <th>4</th>\n",
       "      <td>2696777682</td>\n",
       "      <td>&lt;NA&gt;</td>\n",
       "      <td>El papel transversal de la lectura en el currículo</td>\n",
       "      <td>es</td>\n",
       "      <td>T13061</td>\n",
       "      <td>Literacy and Educational Practices</td>\n",
       "      <td>3304</td>\n",
       "      <td>Education</td>\n",
       "      <td>33</td>\n",
       "      <td>Social Sciences</td>\n",
       "      <td>2</td>\n",
       "      <td>Social Sciences</td>\n",
       "    </tr>\n",
       "  </tbody>\n",
       "</table>\n",
       "</div>"
      ],
      "text/plain": [
       "  id_openalex id_doi                                                                                               title language primary_topic_id                     primary_topic_display_name primary_topic_subfield_id primary_topic_subfield_display_name primary_topic_field_id     primary_topic_field_display_name primary_topic_domain_id primary_topic_domain_display_name\n",
       "0   269677805   <NA>                                                         2. Profil type du détenu politique à Eysses       fr           T10153  Education, sociology, and vocational training                      3312     Sociology and Political Science                     33                      Social Sciences                       2                   Social Sciences\n",
       "1  2696780303   <NA>  Analisa Struktur Dan Material Speed Bump Dengan Bahan Concrete Foam Untuk Penggerak Tenaga Listrik       id           T13674               Computer Science and Engineering                      1702             Artificial Intelligence                     17                     Computer Science                       3                 Physical Sciences\n",
       "2  2696784097   <NA>                                                         Strategies of survival during the holocaust       en           T11203              Jewish and Middle Eastern Studies                      3312     Sociology and Political Science                     33                      Social Sciences                       2                   Social Sciences\n",
       "3  2696788076   <NA>           Business intelligence and Marketing analytics/Inteligencia de negocio y análisis de datos     <NA>           T11891             Big Data and Business Intelligence                      1404      Management Information Systems                     14  Business, Management and Accounting                       2                   Social Sciences\n",
       "4  2696777682   <NA>                                                  El papel transversal de la lectura en el currículo       es           T13061             Literacy and Educational Practices                      3304                           Education                     33                      Social Sciences                       2                   Social Sciences"
      ]
     },
     "metadata": {},
     "output_type": "display_data"
    },
    {
     "data": {
      "text/html": [
       "<div>\n",
       "<style scoped>\n",
       "    .dataframe tbody tr th:only-of-type {\n",
       "        vertical-align: middle;\n",
       "    }\n",
       "\n",
       "    .dataframe tbody tr th {\n",
       "        vertical-align: top;\n",
       "    }\n",
       "\n",
       "    .dataframe thead th {\n",
       "        text-align: right;\n",
       "    }\n",
       "</style>\n",
       "<table border=\"1\" class=\"dataframe\">\n",
       "  <thead>\n",
       "    <tr style=\"text-align: right;\">\n",
       "      <th></th>\n",
       "      <th>c</th>\n",
       "    </tr>\n",
       "  </thead>\n",
       "  <tbody>\n",
       "    <tr>\n",
       "      <th>0</th>\n",
       "      <td>270051911</td>\n",
       "    </tr>\n",
       "  </tbody>\n",
       "</table>\n",
       "</div>"
      ],
      "text/plain": [
       "           c\n",
       "0  270051911"
      ]
     },
     "metadata": {},
     "output_type": "display_data"
    }
   ],
   "source": [
    "utils.pd_set_options()\n",
    "display(wr.athena.read_sql_query(\"\"\"SELECT * FROM \"02_stg\".base_openalex_works_reduced LIMIT 5 \"\"\", '02_stg'))\n",
    "display(wr.athena.read_sql_query(\"\"\"SELECT COUNT(*) AS c FROM \"02_stg\".base_openalex_works_reduced \"\"\", '02_stg'))"
   ]
  },
  {
   "cell_type": "code",
   "execution_count": 7,
   "id": "762303a9-b2c6-4094-bebb-8b8369e8443b",
   "metadata": {
    "execution": {
     "iopub.execute_input": "2025-08-29T10:02:20.457746Z",
     "iopub.status.busy": "2025-08-29T10:02:20.457346Z",
     "iopub.status.idle": "2025-08-29T10:13:04.601244Z",
     "shell.execute_reply": "2025-08-29T10:13:04.600467Z",
     "shell.execute_reply.started": "2025-08-29T10:02:20.457717Z"
    }
   },
   "outputs": [
    {
     "name": "stdout",
     "output_type": "stream",
     "text": [
      " :: :: TIMELOGGER STARTED :: | since_start: 0.00 seconds | since_last: 0.00 seconds :: \n",
      "Table 02_stg.base_semanticscholar_s2orcv2 already exists. Overwriting since overwrite_strategy==\"overwrite\".\n",
      "Deleting table from Glue Catalog 02_stg base_semanticscholar_s2orcv2\n",
      "Deleting S3 objects from s3://sagemaker-research-methodology-extraction/01_data/02_stg/base_semanticscholar_s2orcv2/\n",
      "s3_parent_target_path:  s3://sagemaker-research-methodology-extraction/01_data/02_stg\n",
      " :: \"02_stg\".base_semanticscholar_s2orcv2 created | since_start: 10.0 minutes, 44.14 seconds | since_last: 10.0 minutes, 44.14 seconds :: \n"
     ]
    },
    {
     "data": {
      "text/plain": [
       "' :: \"02_stg\".base_semanticscholar_s2orcv2 created | since_start: 10.0 minutes, 44.14 seconds | since_last: 10.0 minutes, 44.14 seconds :: '"
      ]
     },
     "execution_count": 7,
     "metadata": {},
     "output_type": "execute_result"
    }
   ],
   "source": [
    "timelogger = utils.TimeLogger()\n",
    "utils.create_table_from_sql_file(\n",
    "    database_name = '02_stg',\n",
    "    table_name = 'base_semanticscholar_s2orcv2',\n",
    "    overwrite_strategy='overwrite', # options: fail, overwrite, ignore\n",
    "    wait=True,\n",
    ")\n",
    "timelogger.log('\"02_stg\".base_semanticscholar_s2orcv2 created')"
   ]
  },
  {
   "cell_type": "code",
   "execution_count": 8,
   "id": "7159a9e8-6863-40d4-8206-15d26686978a",
   "metadata": {
    "execution": {
     "iopub.execute_input": "2025-08-29T10:13:04.602624Z",
     "iopub.status.busy": "2025-08-29T10:13:04.602361Z",
     "iopub.status.idle": "2025-08-29T10:13:13.965527Z",
     "shell.execute_reply": "2025-08-29T10:13:13.964800Z",
     "shell.execute_reply.started": "2025-08-29T10:13:04.602602Z"
    }
   },
   "outputs": [
    {
     "data": {
      "text/html": [
       "<div>\n",
       "<style scoped>\n",
       "    .dataframe tbody tr th:only-of-type {\n",
       "        vertical-align: middle;\n",
       "    }\n",
       "\n",
       "    .dataframe tbody tr th {\n",
       "        vertical-align: top;\n",
       "    }\n",
       "\n",
       "    .dataframe thead th {\n",
       "        text-align: right;\n",
       "    }\n",
       "</style>\n",
       "<table border=\"1\" class=\"dataframe\">\n",
       "  <thead>\n",
       "    <tr style=\"text-align: right;\">\n",
       "      <th></th>\n",
       "      <th>id_semanticscholar</th>\n",
       "      <th>id_mag</th>\n",
       "      <th>id_doi</th>\n",
       "      <th>id_arxiv</th>\n",
       "      <th>title</th>\n",
       "      <th>license</th>\n",
       "      <th>source_url</th>\n",
       "      <th>openaccess_status</th>\n",
       "      <th>content_text</th>\n",
       "      <th>annotations_paragraph</th>\n",
       "      <th>annotations_section_header</th>\n",
       "    </tr>\n",
       "  </thead>\n",
       "  <tbody>\n",
       "    <tr>\n",
       "      <th>0</th>\n",
       "      <td>268024248</td>\n",
       "      <td>&lt;NA&gt;</td>\n",
       "      <td>10.30994/jhsc.v4i3.214</td>\n",
       "      <td>&lt;NA&gt;</td>\n",
       "      <td>Mother's Motivational Factors Regarding Basic Immunization Completeness for 3 Year Old Toddlers at the \"W\" Mimika Timika Papua Health Center</td>\n",
       "      <td>CCBYSA</td>\n",
       "      <td>https://doi.org/10.30994/jhsc.v4i3.214</td>\n",
       "      <td>HYBRID</td>\n",
       "      <td>\\nINTRODUCTION\\n\\nLow immunization coverage is an indicator of deaths due to VPD. Therefore, one program that has been proven effective in reducing morbidity and mortality due to VPD is immunization. This is in line with the MDG agreement, where achieving a reduction in infant mortality is characterized by increasing immunization coverage, especially seen from the measles immunization coverage rate (WHO, 2010). This is because measles is the last immunization for basic immunization and is an...</td>\n",
       "      <td>[{\"attributes\":null,\"end\":1154,\"start\":15},{\"attributes\":null,\"end\":1501,\"start\":1156},{\"attributes\":null,\"end\":1974,\"start\":1503},{\"attributes\":null,\"end\":2511,\"start\":1976},{\"attributes\":null,\"end\":2743,\"start\":2513},{\"attributes\":null,\"end\":4202,\"start\":2753},{\"attributes\":null,\"end\":5014,\"start\":4204},{\"attributes\":null,\"end\":6142,\"start\":5016},{\"attributes\":null,\"end\":7187,\"start\":6144},{\"attributes\":null,\"end\":7305,\"start\":7301},{\"attributes\":null,\"end\":8620,\"start\":7331},{\"attributes\"...</td>\n",
       "      <td>[{\"attributes\":null,\"end\":13,\"start\":1},{\"attributes\":null,\"end\":2751,\"start\":2745},{\"attributes\":null,\"end\":7211,\"start\":7189},{\"attributes\":null,\"end\":7273,\"start\":7213},{\"attributes\":null,\"end\":7299,\"start\":7275},{\"attributes\":null,\"end\":7317,\"start\":7307},{\"attributes\":null,\"end\":7329,\"start\":7319},{\"attributes\":null,\"end\":8644,\"start\":8622},{\"attributes\":null,\"end\":9413,\"start\":9345},{\"attributes\":null,\"end\":11541,\"start\":11531}]</td>\n",
       "    </tr>\n",
       "    <tr>\n",
       "      <th>1</th>\n",
       "      <td>259924751</td>\n",
       "      <td>&lt;NA&gt;</td>\n",
       "      <td>10.1109/ISBI53787.2023.10230709</td>\n",
       "      <td>2307.07177</td>\n",
       "      <td>TriFormer: A Multi-modal Transformer Framework For Mild Cognitive Impairment Conversion Prediction</td>\n",
       "      <td>&lt;NA&gt;</td>\n",
       "      <td>https://arxiv.org/abs/2307.07177</td>\n",
       "      <td>GREEN</td>\n",
       "      <td>\\nINTRODUCTION\\n\\nMild cognitive impairment (MCI) patients exhibit a memory impairment earlier than the expected age. It is a transitional stage from Congnitively normal (CN) to Alzheimer's disease (AD) where around 10% to 15% MCI patients end up progressing to AD every year [1]. Patients having MCI can either progress to AD within several years defined as progressive MCI (pMCI) or stay at the same MCI stage defined as stable MCI (sMCI). Previous studies have shown that early nonpharmacologi...</td>\n",
       "      <td>[{\"attributes\":null,\"end\":964,\"start\":15},{\"attributes\":null,\"end\":2895,\"start\":966},{\"attributes\":null,\"end\":2954,\"start\":2897},{\"attributes\":null,\"end\":3357,\"start\":2965},{\"attributes\":null,\"end\":4812,\"start\":3384},{\"attributes\":null,\"end\":4995,\"start\":4814},{\"attributes\":null,\"end\":5050,\"start\":4997},{\"attributes\":null,\"end\":5151,\"start\":5052},{\"attributes\":null,\"end\":5255,\"start\":5153},{\"attributes\":null,\"end\":5870,\"start\":5285},{\"attributes\":null,\"end\":6311,\"start\":5901},{\"attributes\":n...</td>\n",
       "      <td>[{\"attributes\":{\"n\":\"1.\"},\"end\":13,\"start\":1},{\"attributes\":{\"n\":\"2.\"},\"end\":2963,\"start\":2956},{\"attributes\":{\"n\":\"2.1.\"},\"end\":3382,\"start\":3359},{\"attributes\":{\"n\":\"2.2.\"},\"end\":5283,\"start\":5257},{\"attributes\":{\"n\":\"2.3.\"},\"end\":5899,\"start\":5872},{\"attributes\":{\"n\":\"3.\"},\"end\":6335,\"start\":6313},{\"attributes\":{\"n\":\"3.1.\"},\"end\":6344,\"start\":6337},{\"attributes\":{\"n\":\"3.2.\"},\"end\":7896,\"start\":7882},{\"attributes\":{\"n\":\"3.3.\"},\"end\":9703,\"start\":9662},{\"attributes\":{\"n\":\"4.\"},\"end\":9715,\"s...</td>\n",
       "    </tr>\n",
       "    <tr>\n",
       "      <th>2</th>\n",
       "      <td>225569631</td>\n",
       "      <td>3044367686</td>\n",
       "      <td>10.3390/met10070979</td>\n",
       "      <td>&lt;NA&gt;</td>\n",
       "      <td>Residual Stress Analysis of a 2219 Aluminum Alloy Ring Using the Indentation Strain-Gauge Method</td>\n",
       "      <td>CCBY</td>\n",
       "      <td>https://doi.org/10.3390/met10070979</td>\n",
       "      <td>GOLD</td>\n",
       "      <td>\\nIntroduction\\n\\nMonolithic thin-walled parts are widely used in the aviation and aerospace production due to their high specific stiffness and strength. Their thin-walled parts are manufactured by turning and milling, in which case, more than 90% of the material is removed from the blank [1]. However, clear distortion also occurs to the workpiece in the machining process, which causes manufacturing errors and assembly difficulties. \\n\\nAccording to a large number of simulation and experime...</td>\n",
       "      <td>[{\"attributes\":null,\"end\":435,\"start\":15},{\"attributes\":null,\"end\":1192,\"start\":437},{\"attributes\":null,\"end\":2828,\"start\":1194},{\"attributes\":null,\"end\":4055,\"start\":2830},{\"attributes\":null,\"end\":5041,\"start\":4057},{\"attributes\":null,\"end\":6300,\"start\":5043},{\"attributes\":null,\"end\":6948,\"start\":6366},{\"attributes\":null,\"end\":8402,\"start\":6972},{\"attributes\":null,\"end\":9369,\"start\":8404},{\"attributes\":null,\"end\":9519,\"start\":9371},{\"attributes\":null,\"end\":9553,\"start\":9521},{\"attributes\":n...</td>\n",
       "      <td>[{\"attributes\":{\"n\":\"1.\"},\"end\":13,\"start\":1},{\"attributes\":{\"n\":\"2.\"},\"end\":6349,\"start\":6302},{\"attributes\":{\"n\":\"2.1.\"},\"end\":6364,\"start\":6351},{\"attributes\":{\"n\":\"2.2.\"},\"end\":6970,\"start\":6950},{\"attributes\":{\"n\":\"2.3.\"},\"end\":9603,\"start\":9555},{\"attributes\":null,\"end\":11020,\"start\":11019},{\"attributes\":null,\"end\":12502,\"start\":12501},{\"attributes\":{\"n\":\"3.\"},\"end\":15243,\"start\":15175},{\"attributes\":{\"n\":\"3.\"},\"end\":15966,\"start\":15898},{\"attributes\":{\"n\":\"3.\"},\"end\":16689,\"start\":166...</td>\n",
       "    </tr>\n",
       "    <tr>\n",
       "      <th>3</th>\n",
       "      <td>226421097</td>\n",
       "      <td>3036002560</td>\n",
       "      <td>10.1051/e3sconf/202017401063</td>\n",
       "      <td>&lt;NA&gt;</td>\n",
       "      <td>Adjustment of the Exploration Grids and its use to increase the Reliability of Geological Models of Coal Deposits</td>\n",
       "      <td>CCBY</td>\n",
       "      <td>https://doi.org/10.1051/e3sconf/202017401063</td>\n",
       "      <td>GOLD</td>\n",
       "      <td>\\nIntroduction\\n\\nThe estimate of mineral resources and reserves is an essential task for mining engineers. The geological models of deposits built during its implementation used as a basis for detailed mine designing and planning [1]. Therefore, the quality of models directly affects the quality of mining projects. \\n\\nThe role of geological modelling is significantly increasing in connection with the development of the mining industry digitalization. Without reliable geological models, it ...</td>\n",
       "      <td>[{\"attributes\":null,\"end\":315,\"start\":15},{\"attributes\":null,\"end\":925,\"start\":317},{\"attributes\":null,\"end\":1751,\"start\":927},{\"attributes\":null,\"end\":2199,\"start\":1753},{\"attributes\":null,\"end\":2559,\"start\":2201},{\"attributes\":null,\"end\":3074,\"start\":2582},{\"attributes\":null,\"end\":3296,\"start\":3076},{\"attributes\":null,\"end\":3738,\"start\":3298},{\"attributes\":null,\"end\":4463,\"start\":3740},{\"attributes\":null,\"end\":5216,\"start\":4465},{\"attributes\":null,\"end\":5481,\"start\":5218},{\"attributes\":nul...</td>\n",
       "      <td>[{\"attributes\":{\"n\":\"1\"},\"end\":13,\"start\":1},{\"attributes\":{\"n\":\"2\"},\"end\":2580,\"start\":2561},{\"attributes\":{\"n\":\"3\"},\"end\":8230,\"start\":8208},{\"attributes\":{\"n\":\"4\"},\"end\":11660,\"start\":11650}]</td>\n",
       "    </tr>\n",
       "    <tr>\n",
       "      <th>4</th>\n",
       "      <td>221446156</td>\n",
       "      <td>&lt;NA&gt;</td>\n",
       "      <td>&lt;NA&gt;</td>\n",
       "      <td>2009.00890</td>\n",
       "      <td>Skyrmion-antiskyrmion droplets in a chiral ferromagnet</td>\n",
       "      <td>&lt;NA&gt;</td>\n",
       "      <td>https://arxiv.org/abs/2009.00890</td>\n",
       "      <td>&lt;NA&gt;</td>\n",
       "      <td>\\nI. INTRODUCTION\\n\\nSince the experimental observation of skyrmions in ferromagnetic materials with the Dzyaloshinskii-Moriya (DM) interaction, a substantial amount of work has been devoted to their statics and dynamics [1]. Chiral skyrmions are topological solitons that have the same topological features as magnetic bubbles [2], but the detailed features of the chiral skyrmion profile are specific to it [3,4]. Most work has largely focused on the axially symmetric chiral skyrmion predicted...</td>\n",
       "      <td>[{\"attributes\":null,\"end\":837,\"start\":18},{\"attributes\":null,\"end\":1478,\"start\":839},{\"attributes\":null,\"end\":2147,\"start\":1480},{\"attributes\":null,\"end\":2624,\"start\":2149},{\"attributes\":null,\"end\":3031,\"start\":2626},{\"attributes\":null,\"end\":3327,\"start\":3050},{\"attributes\":null,\"end\":3819,\"start\":3329},{\"attributes\":null,\"end\":4015,\"start\":3821},{\"attributes\":null,\"end\":4195,\"start\":4017},{\"attributes\":null,\"end\":4265,\"start\":4197},{\"attributes\":null,\"end\":4287,\"start\":4267},{\"attributes\":n...</td>\n",
       "      <td>[{\"attributes\":null,\"end\":16,\"start\":1},{\"attributes\":null,\"end\":3048,\"start\":3033},{\"attributes\":null,\"end\":5903,\"start\":5868},{\"attributes\":null,\"end\":10945,\"start\":10908},{\"attributes\":null,\"end\":19404,\"start\":19374},{\"attributes\":null,\"end\":21204,\"start\":21182}]</td>\n",
       "    </tr>\n",
       "  </tbody>\n",
       "</table>\n",
       "</div>"
      ],
      "text/plain": [
       "   id_semanticscholar      id_mag                           id_doi    id_arxiv                                                                                                                                         title license                                    source_url openaccess_status                                                                                                                                                                                                                                                                                                                                                                                                                                                                                                         content_text  \\\n",
       "0           268024248        <NA>           10.30994/jhsc.v4i3.214        <NA>  Mother's Motivational Factors Regarding Basic Immunization Completeness for 3 Year Old Toddlers at the \"W\" Mimika Timika Papua Health Center  CCBYSA        https://doi.org/10.30994/jhsc.v4i3.214            HYBRID  \\nINTRODUCTION\\n\\nLow immunization coverage is an indicator of deaths due to VPD. Therefore, one program that has been proven effective in reducing morbidity and mortality due to VPD is immunization. This is in line with the MDG agreement, where achieving a reduction in infant mortality is characterized by increasing immunization coverage, especially seen from the measles immunization coverage rate (WHO, 2010). This is because measles is the last immunization for basic immunization and is an...   \n",
       "1           259924751        <NA>  10.1109/ISBI53787.2023.10230709  2307.07177                                            TriFormer: A Multi-modal Transformer Framework For Mild Cognitive Impairment Conversion Prediction    <NA>              https://arxiv.org/abs/2307.07177             GREEN  \\nINTRODUCTION\\n\\nMild cognitive impairment (MCI) patients exhibit a memory impairment earlier than the expected age. It is a transitional stage from Congnitively normal (CN) to Alzheimer's disease (AD) where around 10% to 15% MCI patients end up progressing to AD every year [1]. Patients having MCI can either progress to AD within several years defined as progressive MCI (pMCI) or stay at the same MCI stage defined as stable MCI (sMCI). Previous studies have shown that early nonpharmacologi...   \n",
       "2           225569631  3044367686              10.3390/met10070979        <NA>                                              Residual Stress Analysis of a 2219 Aluminum Alloy Ring Using the Indentation Strain-Gauge Method    CCBY           https://doi.org/10.3390/met10070979              GOLD  \\nIntroduction\\n\\nMonolithic thin-walled parts are widely used in the aviation and aerospace production due to their high specific stiffness and strength. Their thin-walled parts are manufactured by turning and milling, in which case, more than 90% of the material is removed from the blank [1]. However, clear distortion also occurs to the workpiece in the machining process, which causes manufacturing errors and assembly difficulties. \\n\\nAccording to a large number of simulation and experime...   \n",
       "3           226421097  3036002560     10.1051/e3sconf/202017401063        <NA>                             Adjustment of the Exploration Grids and its use to increase the Reliability of Geological Models of Coal Deposits    CCBY  https://doi.org/10.1051/e3sconf/202017401063              GOLD  \\nIntroduction\\n\\nThe estimate of mineral resources and reserves is an essential task for mining engineers. The geological models of deposits built during its implementation used as a basis for detailed mine designing and planning [1]. Therefore, the quality of models directly affects the quality of mining projects. \\n\\nThe role of geological modelling is significantly increasing in connection with the development of the mining industry digitalization. Without reliable geological models, it ...   \n",
       "4           221446156        <NA>                             <NA>  2009.00890                                                                                        Skyrmion-antiskyrmion droplets in a chiral ferromagnet    <NA>              https://arxiv.org/abs/2009.00890              <NA>  \\nI. INTRODUCTION\\n\\nSince the experimental observation of skyrmions in ferromagnetic materials with the Dzyaloshinskii-Moriya (DM) interaction, a substantial amount of work has been devoted to their statics and dynamics [1]. Chiral skyrmions are topological solitons that have the same topological features as magnetic bubbles [2], but the detailed features of the chiral skyrmion profile are specific to it [3,4]. Most work has largely focused on the axially symmetric chiral skyrmion predicted...   \n",
       "\n",
       "                                                                                                                                                                                                                                                                                                                                                                                                                                                                                                 annotations_paragraph  \\\n",
       "0  [{\"attributes\":null,\"end\":1154,\"start\":15},{\"attributes\":null,\"end\":1501,\"start\":1156},{\"attributes\":null,\"end\":1974,\"start\":1503},{\"attributes\":null,\"end\":2511,\"start\":1976},{\"attributes\":null,\"end\":2743,\"start\":2513},{\"attributes\":null,\"end\":4202,\"start\":2753},{\"attributes\":null,\"end\":5014,\"start\":4204},{\"attributes\":null,\"end\":6142,\"start\":5016},{\"attributes\":null,\"end\":7187,\"start\":6144},{\"attributes\":null,\"end\":7305,\"start\":7301},{\"attributes\":null,\"end\":8620,\"start\":7331},{\"attributes\"...   \n",
       "1  [{\"attributes\":null,\"end\":964,\"start\":15},{\"attributes\":null,\"end\":2895,\"start\":966},{\"attributes\":null,\"end\":2954,\"start\":2897},{\"attributes\":null,\"end\":3357,\"start\":2965},{\"attributes\":null,\"end\":4812,\"start\":3384},{\"attributes\":null,\"end\":4995,\"start\":4814},{\"attributes\":null,\"end\":5050,\"start\":4997},{\"attributes\":null,\"end\":5151,\"start\":5052},{\"attributes\":null,\"end\":5255,\"start\":5153},{\"attributes\":null,\"end\":5870,\"start\":5285},{\"attributes\":null,\"end\":6311,\"start\":5901},{\"attributes\":n...   \n",
       "2  [{\"attributes\":null,\"end\":435,\"start\":15},{\"attributes\":null,\"end\":1192,\"start\":437},{\"attributes\":null,\"end\":2828,\"start\":1194},{\"attributes\":null,\"end\":4055,\"start\":2830},{\"attributes\":null,\"end\":5041,\"start\":4057},{\"attributes\":null,\"end\":6300,\"start\":5043},{\"attributes\":null,\"end\":6948,\"start\":6366},{\"attributes\":null,\"end\":8402,\"start\":6972},{\"attributes\":null,\"end\":9369,\"start\":8404},{\"attributes\":null,\"end\":9519,\"start\":9371},{\"attributes\":null,\"end\":9553,\"start\":9521},{\"attributes\":n...   \n",
       "3  [{\"attributes\":null,\"end\":315,\"start\":15},{\"attributes\":null,\"end\":925,\"start\":317},{\"attributes\":null,\"end\":1751,\"start\":927},{\"attributes\":null,\"end\":2199,\"start\":1753},{\"attributes\":null,\"end\":2559,\"start\":2201},{\"attributes\":null,\"end\":3074,\"start\":2582},{\"attributes\":null,\"end\":3296,\"start\":3076},{\"attributes\":null,\"end\":3738,\"start\":3298},{\"attributes\":null,\"end\":4463,\"start\":3740},{\"attributes\":null,\"end\":5216,\"start\":4465},{\"attributes\":null,\"end\":5481,\"start\":5218},{\"attributes\":nul...   \n",
       "4  [{\"attributes\":null,\"end\":837,\"start\":18},{\"attributes\":null,\"end\":1478,\"start\":839},{\"attributes\":null,\"end\":2147,\"start\":1480},{\"attributes\":null,\"end\":2624,\"start\":2149},{\"attributes\":null,\"end\":3031,\"start\":2626},{\"attributes\":null,\"end\":3327,\"start\":3050},{\"attributes\":null,\"end\":3819,\"start\":3329},{\"attributes\":null,\"end\":4015,\"start\":3821},{\"attributes\":null,\"end\":4195,\"start\":4017},{\"attributes\":null,\"end\":4265,\"start\":4197},{\"attributes\":null,\"end\":4287,\"start\":4267},{\"attributes\":n...   \n",
       "\n",
       "                                                                                                                                                                                                                                                                                                                                                                                                                                                                                            annotations_section_header  \n",
       "0                                                               [{\"attributes\":null,\"end\":13,\"start\":1},{\"attributes\":null,\"end\":2751,\"start\":2745},{\"attributes\":null,\"end\":7211,\"start\":7189},{\"attributes\":null,\"end\":7273,\"start\":7213},{\"attributes\":null,\"end\":7299,\"start\":7275},{\"attributes\":null,\"end\":7317,\"start\":7307},{\"attributes\":null,\"end\":7329,\"start\":7319},{\"attributes\":null,\"end\":8644,\"start\":8622},{\"attributes\":null,\"end\":9413,\"start\":9345},{\"attributes\":null,\"end\":11541,\"start\":11531}]  \n",
       "1  [{\"attributes\":{\"n\":\"1.\"},\"end\":13,\"start\":1},{\"attributes\":{\"n\":\"2.\"},\"end\":2963,\"start\":2956},{\"attributes\":{\"n\":\"2.1.\"},\"end\":3382,\"start\":3359},{\"attributes\":{\"n\":\"2.2.\"},\"end\":5283,\"start\":5257},{\"attributes\":{\"n\":\"2.3.\"},\"end\":5899,\"start\":5872},{\"attributes\":{\"n\":\"3.\"},\"end\":6335,\"start\":6313},{\"attributes\":{\"n\":\"3.1.\"},\"end\":6344,\"start\":6337},{\"attributes\":{\"n\":\"3.2.\"},\"end\":7896,\"start\":7882},{\"attributes\":{\"n\":\"3.3.\"},\"end\":9703,\"start\":9662},{\"attributes\":{\"n\":\"4.\"},\"end\":9715,\"s...  \n",
       "2  [{\"attributes\":{\"n\":\"1.\"},\"end\":13,\"start\":1},{\"attributes\":{\"n\":\"2.\"},\"end\":6349,\"start\":6302},{\"attributes\":{\"n\":\"2.1.\"},\"end\":6364,\"start\":6351},{\"attributes\":{\"n\":\"2.2.\"},\"end\":6970,\"start\":6950},{\"attributes\":{\"n\":\"2.3.\"},\"end\":9603,\"start\":9555},{\"attributes\":null,\"end\":11020,\"start\":11019},{\"attributes\":null,\"end\":12502,\"start\":12501},{\"attributes\":{\"n\":\"3.\"},\"end\":15243,\"start\":15175},{\"attributes\":{\"n\":\"3.\"},\"end\":15966,\"start\":15898},{\"attributes\":{\"n\":\"3.\"},\"end\":16689,\"start\":166...  \n",
       "3                                                                                                                                                                                                                                                                                                                   [{\"attributes\":{\"n\":\"1\"},\"end\":13,\"start\":1},{\"attributes\":{\"n\":\"2\"},\"end\":2580,\"start\":2561},{\"attributes\":{\"n\":\"3\"},\"end\":8230,\"start\":8208},{\"attributes\":{\"n\":\"4\"},\"end\":11660,\"start\":11650}]  \n",
       "4                                                                                                                                                                                                                                           [{\"attributes\":null,\"end\":16,\"start\":1},{\"attributes\":null,\"end\":3048,\"start\":3033},{\"attributes\":null,\"end\":5903,\"start\":5868},{\"attributes\":null,\"end\":10945,\"start\":10908},{\"attributes\":null,\"end\":19404,\"start\":19374},{\"attributes\":null,\"end\":21204,\"start\":21182}]  "
      ]
     },
     "metadata": {},
     "output_type": "display_data"
    },
    {
     "data": {
      "text/html": [
       "<div>\n",
       "<style scoped>\n",
       "    .dataframe tbody tr th:only-of-type {\n",
       "        vertical-align: middle;\n",
       "    }\n",
       "\n",
       "    .dataframe tbody tr th {\n",
       "        vertical-align: top;\n",
       "    }\n",
       "\n",
       "    .dataframe thead th {\n",
       "        text-align: right;\n",
       "    }\n",
       "</style>\n",
       "<table border=\"1\" class=\"dataframe\">\n",
       "  <thead>\n",
       "    <tr style=\"text-align: right;\">\n",
       "      <th></th>\n",
       "      <th>c</th>\n",
       "    </tr>\n",
       "  </thead>\n",
       "  <tbody>\n",
       "    <tr>\n",
       "      <th>0</th>\n",
       "      <td>11609787</td>\n",
       "    </tr>\n",
       "  </tbody>\n",
       "</table>\n",
       "</div>"
      ],
      "text/plain": [
       "          c\n",
       "0  11609787"
      ]
     },
     "metadata": {},
     "output_type": "display_data"
    }
   ],
   "source": [
    "utils.pd_set_options(cols=500)\n",
    "display(wr.athena.read_sql_query(\"\"\"SELECT * FROM \"02_stg\".base_semanticscholar_s2orcv2 LIMIT 5 \"\"\", '02_stg'))\n",
    "display(wr.athena.read_sql_query(\"\"\"SELECT COUNT(*) AS c FROM \"02_stg\".base_semanticscholar_s2orcv2 \"\"\", '02_stg'))"
   ]
  }
 ],
 "metadata": {
  "kernelspec": {
   "display_name": "python_311_2",
   "language": "python",
   "name": "python_311_2"
  },
  "language_info": {
   "codemirror_mode": {
    "name": "ipython",
    "version": 3
   },
   "file_extension": ".py",
   "mimetype": "text/x-python",
   "name": "python",
   "nbconvert_exporter": "python",
   "pygments_lexer": "ipython3",
   "version": "3.11.13"
  }
 },
 "nbformat": 4,
 "nbformat_minor": 5
}
