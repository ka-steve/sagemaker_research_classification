{
 "cells": [
  {
   "cell_type": "code",
   "execution_count": 1,
   "id": "1295fa76-a4ae-4f88-b9d8-f8c31c7016b6",
   "metadata": {
    "execution": {
     "iopub.execute_input": "2025-08-31T18:12:05.973934Z",
     "iopub.status.busy": "2025-08-31T18:12:05.973725Z",
     "iopub.status.idle": "2025-08-31T18:12:09.431837Z",
     "shell.execute_reply": "2025-08-31T18:12:09.431432Z",
     "shell.execute_reply.started": "2025-08-31T18:12:05.973918Z"
    }
   },
   "outputs": [
    {
     "name": "stdout",
     "output_type": "stream",
     "text": [
      "sagemaker.config INFO - Not applying SDK defaults from location: /etc/xdg/sagemaker/config.yaml\n",
      "sagemaker.config INFO - Not applying SDK defaults from location: /home/sagemaker-user/.config/sagemaker/config.yaml\n",
      "config.py loaded: v0.1\n",
      "utils.py loaded: v0.2.12\n",
      "utils.py loaded: v0.2.12\n",
      "config.py loaded: v0.1\n"
     ]
    }
   ],
   "source": [
    "import requests\n",
    "import boto3\n",
    "import json\n",
    "import os\n",
    "import sys\n",
    "import argparse\n",
    "import importlib\n",
    "import transformers\n",
    "import torch\n",
    "import pathlib\n",
    "import awswrangler as wr\n",
    "from IPython.display import display\n",
    "from sagemaker.huggingface.processing import HuggingFaceProcessor\n",
    "from sagemaker.sklearn.processing import SKLearnProcessor\n",
    "from sagemaker.processing import FrameworkProcessor\n",
    "from sagemaker.sklearn.estimator import SKLearn\n",
    "from sagemaker.workflow.steps import ProcessingStep\n",
    "from sagemaker.workflow.pipeline_context import PipelineSession\n",
    "from sagemaker.processing import ProcessingInput, ProcessingOutput\n",
    "from sagemaker.session import get_execution_role\n",
    "\n",
    "\n",
    "# Adding ../01_modules or ./01_modules to the system path so that we can load modules from \n",
    "# there as well\n",
    "if '__file__' in globals():\n",
    "    script_dir = pathlib.Path(__file__).parent.resolve()\n",
    "else:\n",
    "    script_dir = pathlib.Path().absolute()\n",
    "modules_path_in_dev = os.path.abspath(os.path.join(script_dir, '..', '01_modules'))\n",
    "modules_path_in_prod = os.path.abspath(os.path.join(script_dir, '01_modules'))\n",
    "if os.path.exists(modules_path_in_dev):\n",
    "    sys.path.append(modules_path_in_dev)\n",
    "if os.path.exists(modules_path_in_prod):\n",
    "    sys.path.append(modules_path_in_prod)\n",
    "\n",
    "\n",
    "# # Jupyter only reads a local module the first time after \n",
    "# # kernel start. Re-running a cell with \n",
    "# # \"from mymodulename import *\" would not change\n",
    "# # anything, even if the imported module has since changed.\n",
    "# # As a workaround, we need to directly load the module, \n",
    "# # use importlib.reload to reload it and then import * \n",
    "import utils\n",
    "_ = importlib.reload(utils)\n",
    "import config\n",
    "_ = importlib.reload(config) \n"
   ]
  },
  {
   "cell_type": "code",
   "execution_count": 2,
   "id": "e787d164-5282-4136-bf63-2b6affae456e",
   "metadata": {
    "execution": {
     "iopub.execute_input": "2025-08-31T18:12:59.079874Z",
     "iopub.status.busy": "2025-08-31T18:12:59.079640Z",
     "iopub.status.idle": "2025-08-31T18:13:06.501697Z",
     "shell.execute_reply": "2025-08-31T18:13:06.501314Z",
     "shell.execute_reply.started": "2025-08-31T18:12:59.079855Z"
    }
   },
   "outputs": [
    {
     "data": {
      "text/html": [
       "<div>\n",
       "<style scoped>\n",
       "    .dataframe tbody tr th:only-of-type {\n",
       "        vertical-align: middle;\n",
       "    }\n",
       "\n",
       "    .dataframe tbody tr th {\n",
       "        vertical-align: top;\n",
       "    }\n",
       "\n",
       "    .dataframe thead th {\n",
       "        text-align: right;\n",
       "    }\n",
       "</style>\n",
       "<table border=\"1\" class=\"dataframe\">\n",
       "  <thead>\n",
       "    <tr style=\"text-align: right;\">\n",
       "      <th></th>\n",
       "      <th>merge_date</th>\n",
       "      <th>id</th>\n",
       "      <th>merge_into_id</th>\n",
       "    </tr>\n",
       "  </thead>\n",
       "  <tbody>\n",
       "    <tr>\n",
       "      <th>0</th>\n",
       "      <td>2022-07-15</td>\n",
       "      <td>W3102065232</td>\n",
       "      <td>W2202590217</td>\n",
       "    </tr>\n",
       "    <tr>\n",
       "      <th>1</th>\n",
       "      <td>2022-07-18</td>\n",
       "      <td>W3164133144</td>\n",
       "      <td>W4285719527</td>\n",
       "    </tr>\n",
       "    <tr>\n",
       "      <th>2</th>\n",
       "      <td>2022-07-18</td>\n",
       "      <td>W3166959377</td>\n",
       "      <td>W4285719527</td>\n",
       "    </tr>\n",
       "    <tr>\n",
       "      <th>3</th>\n",
       "      <td>2022-07-27</td>\n",
       "      <td>W3159934294</td>\n",
       "      <td>W21805</td>\n",
       "    </tr>\n",
       "    <tr>\n",
       "      <th>4</th>\n",
       "      <td>2022-07-27</td>\n",
       "      <td>W3121891118</td>\n",
       "      <td>W24982</td>\n",
       "    </tr>\n",
       "  </tbody>\n",
       "</table>\n",
       "</div>"
      ],
      "text/plain": [
       "   merge_date           id merge_into_id\n",
       "0  2022-07-15  W3102065232   W2202590217\n",
       "1  2022-07-18  W3164133144   W4285719527\n",
       "2  2022-07-18  W3166959377   W4285719527\n",
       "3  2022-07-27  W3159934294        W21805\n",
       "4  2022-07-27  W3121891118        W24982"
      ]
     },
     "execution_count": 2,
     "metadata": {},
     "output_type": "execute_result"
    }
   ],
   "source": [
    "import pandas as pd\n",
    "import awswrangler as wr\n",
    "# Note: needs bigger memory instance\n",
    "df = wr.s3.read_csv(path=\"s3://sagemaker-research-methodology-extraction/01_data/01_raw/openalex/data/merged_ids/works/\")\n",
    "df.head()"
   ]
  },
  {
   "cell_type": "code",
   "execution_count": 3,
   "id": "a12d7ae8-de28-4cf6-8c5a-62e65901a983",
   "metadata": {
    "execution": {
     "iopub.execute_input": "2025-08-31T18:13:21.177774Z",
     "iopub.status.busy": "2025-08-31T18:13:21.177546Z",
     "iopub.status.idle": "2025-08-31T18:13:27.850450Z",
     "shell.execute_reply": "2025-08-31T18:13:27.850067Z",
     "shell.execute_reply.started": "2025-08-31T18:13:21.177757Z"
    }
   },
   "outputs": [
    {
     "data": {
      "text/html": [
       "<div>\n",
       "<style scoped>\n",
       "    .dataframe tbody tr th:only-of-type {\n",
       "        vertical-align: middle;\n",
       "    }\n",
       "\n",
       "    .dataframe tbody tr th {\n",
       "        vertical-align: top;\n",
       "    }\n",
       "\n",
       "    .dataframe thead th {\n",
       "        text-align: right;\n",
       "    }\n",
       "</style>\n",
       "<table border=\"1\" class=\"dataframe\">\n",
       "  <thead>\n",
       "    <tr style=\"text-align: right;\">\n",
       "      <th></th>\n",
       "      <th>merge_date</th>\n",
       "      <th>id</th>\n",
       "      <th>merge_into_id</th>\n",
       "      <th>id_starts_with</th>\n",
       "      <th>merge_into_id_starts_with</th>\n",
       "    </tr>\n",
       "  </thead>\n",
       "  <tbody>\n",
       "    <tr>\n",
       "      <th>0</th>\n",
       "      <td>2022-07-15</td>\n",
       "      <td>3102065232</td>\n",
       "      <td>2202590217</td>\n",
       "      <td>3</td>\n",
       "      <td>2</td>\n",
       "    </tr>\n",
       "    <tr>\n",
       "      <th>1</th>\n",
       "      <td>2022-07-18</td>\n",
       "      <td>3164133144</td>\n",
       "      <td>4285719527</td>\n",
       "      <td>3</td>\n",
       "      <td>4</td>\n",
       "    </tr>\n",
       "    <tr>\n",
       "      <th>2</th>\n",
       "      <td>2022-07-18</td>\n",
       "      <td>3166959377</td>\n",
       "      <td>4285719527</td>\n",
       "      <td>3</td>\n",
       "      <td>4</td>\n",
       "    </tr>\n",
       "    <tr>\n",
       "      <th>3</th>\n",
       "      <td>2022-07-27</td>\n",
       "      <td>3159934294</td>\n",
       "      <td>21805</td>\n",
       "      <td>3</td>\n",
       "      <td>2</td>\n",
       "    </tr>\n",
       "    <tr>\n",
       "      <th>4</th>\n",
       "      <td>2022-07-27</td>\n",
       "      <td>3121891118</td>\n",
       "      <td>24982</td>\n",
       "      <td>3</td>\n",
       "      <td>2</td>\n",
       "    </tr>\n",
       "  </tbody>\n",
       "</table>\n",
       "</div>"
      ],
      "text/plain": [
       "   merge_date          id merge_into_id id_starts_with  \\\n",
       "0  2022-07-15  3102065232    2202590217              3   \n",
       "1  2022-07-18  3164133144    4285719527              3   \n",
       "2  2022-07-18  3166959377    4285719527              3   \n",
       "3  2022-07-27  3159934294         21805              3   \n",
       "4  2022-07-27  3121891118         24982              3   \n",
       "\n",
       "  merge_into_id_starts_with  \n",
       "0                         2  \n",
       "1                         4  \n",
       "2                         4  \n",
       "3                         2  \n",
       "4                         2  "
      ]
     },
     "metadata": {},
     "output_type": "display_data"
    }
   ],
   "source": [
    "df_w_removed = df.copy()\n",
    "df_w_removed['id'] = df_w_removed['id'].apply(lambda x: x[1:] if x[0]=='W' else f'ERROR: {x}')\n",
    "df_w_removed['id_starts_with'] = df_w_removed['id'].apply(lambda x: x[0])\n",
    "df_w_removed['merge_into_id'] = df_w_removed['merge_into_id'].apply(lambda x: x[1:] if x[0]=='W' else f'ERROR: {x}')\n",
    "df_w_removed['merge_into_id_starts_with'] = df_w_removed['merge_into_id'].apply(lambda x: x[0])\n",
    "display(df_w_removed.head())"
   ]
  },
  {
   "cell_type": "code",
   "execution_count": 4,
   "id": "d65c47d2-c135-42eb-a9ad-7782fbcc5475",
   "metadata": {
    "execution": {
     "iopub.execute_input": "2025-08-31T18:13:38.389503Z",
     "iopub.status.busy": "2025-08-31T18:13:38.389336Z",
     "iopub.status.idle": "2025-08-31T18:13:44.066294Z",
     "shell.execute_reply": "2025-08-31T18:13:44.065887Z",
     "shell.execute_reply.started": "2025-08-31T18:13:38.389488Z"
    }
   },
   "outputs": [
    {
     "data": {
      "text/plain": [
       "id               Int64\n",
       "merge_into_id    Int64\n",
       "dtype: object"
      ]
     },
     "execution_count": 4,
     "metadata": {},
     "output_type": "execute_result"
    }
   ],
   "source": [
    "df_l1 = df_w_removed.copy()[['id', 'merge_into_id']]\n",
    "df_l1['id'] = df_l1['id'].astype('Int64')\n",
    "df_l1['merge_into_id'] = df_l1['merge_into_id'].astype('Int64')\n",
    "df_l1.dtypes"
   ]
  },
  {
   "cell_type": "code",
   "execution_count": 5,
   "id": "0b0e32c8-3953-4923-b914-2175a2d9a98a",
   "metadata": {
    "execution": {
     "iopub.execute_input": "2025-08-31T18:13:49.698996Z",
     "iopub.status.busy": "2025-08-31T18:13:49.698777Z",
     "iopub.status.idle": "2025-08-31T18:13:52.788485Z",
     "shell.execute_reply": "2025-08-31T18:13:52.788091Z",
     "shell.execute_reply.started": "2025-08-31T18:13:49.698981Z"
    }
   },
   "outputs": [
    {
     "data": {
      "text/html": [
       "<div>\n",
       "<style scoped>\n",
       "    .dataframe tbody tr th:only-of-type {\n",
       "        vertical-align: middle;\n",
       "    }\n",
       "\n",
       "    .dataframe tbody tr th {\n",
       "        vertical-align: top;\n",
       "    }\n",
       "\n",
       "    .dataframe thead th {\n",
       "        text-align: right;\n",
       "    }\n",
       "</style>\n",
       "<table border=\"1\" class=\"dataframe\">\n",
       "  <thead>\n",
       "    <tr style=\"text-align: right;\">\n",
       "      <th></th>\n",
       "      <th>id</th>\n",
       "      <th>merge_into_id</th>\n",
       "      <th>id_2</th>\n",
       "      <th>merge_into_id_2</th>\n",
       "    </tr>\n",
       "  </thead>\n",
       "  <tbody>\n",
       "    <tr>\n",
       "      <th>104</th>\n",
       "      <td>2324837190</td>\n",
       "      <td>6741955</td>\n",
       "      <td>6741955</td>\n",
       "      <td>4239741905</td>\n",
       "    </tr>\n",
       "    <tr>\n",
       "      <th>1278</th>\n",
       "      <td>3212072798</td>\n",
       "      <td>83386254</td>\n",
       "      <td>83386254</td>\n",
       "      <td>3213645724</td>\n",
       "    </tr>\n",
       "    <tr>\n",
       "      <th>2156</th>\n",
       "      <td>3137017720</td>\n",
       "      <td>135121875</td>\n",
       "      <td>135121875</td>\n",
       "      <td>3137616390</td>\n",
       "    </tr>\n",
       "    <tr>\n",
       "      <th>2348</th>\n",
       "      <td>2314344449</td>\n",
       "      <td>147670514</td>\n",
       "      <td>147670514</td>\n",
       "      <td>2411777905</td>\n",
       "    </tr>\n",
       "    <tr>\n",
       "      <th>4204</th>\n",
       "      <td>2326594437</td>\n",
       "      <td>491721583</td>\n",
       "      <td>491721583</td>\n",
       "      <td>1021879549</td>\n",
       "    </tr>\n",
       "  </tbody>\n",
       "</table>\n",
       "</div>"
      ],
      "text/plain": [
       "              id  merge_into_id       id_2  merge_into_id_2\n",
       "104   2324837190        6741955    6741955       4239741905\n",
       "1278  3212072798       83386254   83386254       3213645724\n",
       "2156  3137017720      135121875  135121875       3137616390\n",
       "2348  2314344449      147670514  147670514       2411777905\n",
       "4204  2326594437      491721583  491721583       1021879549"
      ]
     },
     "metadata": {},
     "output_type": "display_data"
    },
    {
     "data": {
      "text/plain": [
       "(75619, 4)"
      ]
     },
     "metadata": {},
     "output_type": "display_data"
    }
   ],
   "source": [
    "df_l2 = pd.merge(df_l1, df_l1, left_on='merge_into_id', right_on='id', how='left', suffixes=['', '_2'])\n",
    "display(df_l2[~df_l2['id_2'].isna()].head())\n",
    "display(df_l2[~df_l2['id_2'].isna()].shape)"
   ]
  },
  {
   "cell_type": "code",
   "execution_count": 6,
   "id": "101fde1c-27c3-4d61-9d75-4ec631c6eb0b",
   "metadata": {
    "execution": {
     "iopub.execute_input": "2025-08-31T18:14:01.352577Z",
     "iopub.status.busy": "2025-08-31T18:14:01.352365Z",
     "iopub.status.idle": "2025-08-31T18:14:03.821161Z",
     "shell.execute_reply": "2025-08-31T18:14:03.820789Z",
     "shell.execute_reply.started": "2025-08-31T18:14:01.352561Z"
    }
   },
   "outputs": [
    {
     "data": {
      "text/html": [
       "<div>\n",
       "<style scoped>\n",
       "    .dataframe tbody tr th:only-of-type {\n",
       "        vertical-align: middle;\n",
       "    }\n",
       "\n",
       "    .dataframe tbody tr th {\n",
       "        vertical-align: top;\n",
       "    }\n",
       "\n",
       "    .dataframe thead th {\n",
       "        text-align: right;\n",
       "    }\n",
       "</style>\n",
       "<table border=\"1\" class=\"dataframe\">\n",
       "  <thead>\n",
       "    <tr style=\"text-align: right;\">\n",
       "      <th></th>\n",
       "      <th>id</th>\n",
       "      <th>merge_into_id</th>\n",
       "      <th>id_2</th>\n",
       "      <th>merge_into_id_2</th>\n",
       "      <th>id_3</th>\n",
       "      <th>merge_into_id_3</th>\n",
       "    </tr>\n",
       "  </thead>\n",
       "  <tbody>\n",
       "    <tr>\n",
       "      <th>1009315</th>\n",
       "      <td>2182411518</td>\n",
       "      <td>2040168896</td>\n",
       "      <td>2040168896</td>\n",
       "      <td>41163576</td>\n",
       "      <td>41163576</td>\n",
       "      <td>4285719527</td>\n",
       "    </tr>\n",
       "  </tbody>\n",
       "</table>\n",
       "</div>"
      ],
      "text/plain": [
       "                 id  merge_into_id        id_2  merge_into_id_2      id_3  \\\n",
       "1009315  2182411518     2040168896  2040168896         41163576  41163576   \n",
       "\n",
       "         merge_into_id_3  \n",
       "1009315       4285719527  "
      ]
     },
     "metadata": {},
     "output_type": "display_data"
    },
    {
     "data": {
      "text/plain": [
       "(1, 6)"
      ]
     },
     "metadata": {},
     "output_type": "display_data"
    }
   ],
   "source": [
    "df_l3 = pd.merge(df_l2, df_l1, left_on='merge_into_id_2', right_on='id', how='left', suffixes=['', '_3'])\n",
    "display(df_l3[~df_l3['id_3'].isna()].head())\n",
    "display(df_l3[~df_l3['id_3'].isna()].shape)"
   ]
  },
  {
   "cell_type": "code",
   "execution_count": 7,
   "id": "b65c7e81-aa4e-40ec-a565-995df91a414c",
   "metadata": {
    "execution": {
     "iopub.execute_input": "2025-08-31T18:14:12.564444Z",
     "iopub.status.busy": "2025-08-31T18:14:12.564218Z",
     "iopub.status.idle": "2025-08-31T18:14:15.029171Z",
     "shell.execute_reply": "2025-08-31T18:14:15.028790Z",
     "shell.execute_reply.started": "2025-08-31T18:14:12.564427Z"
    }
   },
   "outputs": [
    {
     "data": {
      "text/html": [
       "<div>\n",
       "<style scoped>\n",
       "    .dataframe tbody tr th:only-of-type {\n",
       "        vertical-align: middle;\n",
       "    }\n",
       "\n",
       "    .dataframe tbody tr th {\n",
       "        vertical-align: top;\n",
       "    }\n",
       "\n",
       "    .dataframe thead th {\n",
       "        text-align: right;\n",
       "    }\n",
       "</style>\n",
       "<table border=\"1\" class=\"dataframe\">\n",
       "  <thead>\n",
       "    <tr style=\"text-align: right;\">\n",
       "      <th></th>\n",
       "      <th>id</th>\n",
       "      <th>merge_into_id</th>\n",
       "      <th>id_2</th>\n",
       "      <th>merge_into_id_2</th>\n",
       "      <th>id_3</th>\n",
       "      <th>merge_into_id_3</th>\n",
       "      <th>id_4</th>\n",
       "      <th>merge_into_id_4</th>\n",
       "    </tr>\n",
       "  </thead>\n",
       "  <tbody>\n",
       "  </tbody>\n",
       "</table>\n",
       "</div>"
      ],
      "text/plain": [
       "Empty DataFrame\n",
       "Columns: [id, merge_into_id, id_2, merge_into_id_2, id_3, merge_into_id_3, id_4, merge_into_id_4]\n",
       "Index: []"
      ]
     },
     "metadata": {},
     "output_type": "display_data"
    },
    {
     "data": {
      "text/plain": [
       "(0, 8)"
      ]
     },
     "metadata": {},
     "output_type": "display_data"
    }
   ],
   "source": [
    "df_l4 = pd.merge(df_l3, df_l1, left_on='merge_into_id_3', right_on='id', how='left', suffixes=['', '_4'])\n",
    "display(df_l4[~df_l4['id_4'].isna()].head())\n",
    "display(df_l4[~df_l4['id_4'].isna()].shape)"
   ]
  },
  {
   "cell_type": "code",
   "execution_count": 8,
   "id": "a2f72f77-c773-4353-a35e-7120706452bf",
   "metadata": {
    "execution": {
     "iopub.execute_input": "2025-08-31T18:14:26.580682Z",
     "iopub.status.busy": "2025-08-31T18:14:26.580467Z",
     "iopub.status.idle": "2025-08-31T18:14:26.892351Z",
     "shell.execute_reply": "2025-08-31T18:14:26.891914Z",
     "shell.execute_reply.started": "2025-08-31T18:14:26.580665Z"
    }
   },
   "outputs": [],
   "source": [
    "df_l4['merge_into_id_final'] = (\n",
    "    df_l4['merge_into_id_4'].combine_first(df_l4['merge_into_id_3'])\n",
    "        .combine_first(df_l4['merge_into_id_2'])\n",
    "        .combine_first(df_l4['merge_into_id'])\n",
    ")"
   ]
  },
  {
   "cell_type": "code",
   "execution_count": 10,
   "id": "c686e42b-c5b3-4177-9d2c-7c55091ad664",
   "metadata": {
    "execution": {
     "iopub.execute_input": "2025-08-31T18:17:32.376028Z",
     "iopub.status.busy": "2025-08-31T18:17:32.375818Z",
     "iopub.status.idle": "2025-08-31T18:17:34.433890Z",
     "shell.execute_reply": "2025-08-31T18:17:34.433503Z",
     "shell.execute_reply.started": "2025-08-31T18:17:32.376014Z"
    }
   },
   "outputs": [
    {
     "data": {
      "text/plain": [
       "{'paths': ['s3://sagemaker-research-methodology-extraction/01_data/02_stg/base_openalex_merged_ids/0814a36c0e834eb6a550ff5a068158f7.snappy.parquet'],\n",
       " 'partitions_values': {}}"
      ]
     },
     "execution_count": 10,
     "metadata": {},
     "output_type": "execute_result"
    }
   ],
   "source": [
    "wr.s3.to_parquet(\n",
    "    df=df_l4,\n",
    "    path='s3://sagemaker-research-methodology-extraction/01_data/02_stg/base_openalex_merged_ids',\n",
    "    dataset=True,\n",
    "    database='02_stg',\n",
    "    table='base_openalex_merged_ids'\n",
    ")"
   ]
  },
  {
   "cell_type": "code",
   "execution_count": null,
   "id": "c93899a4-3234-44da-9e83-2ba272ed36cd",
   "metadata": {},
   "outputs": [],
   "source": []
  }
 ],
 "metadata": {
  "kernelspec": {
   "display_name": "python_311_2",
   "language": "python",
   "name": "python_311_2"
  },
  "language_info": {
   "codemirror_mode": {
    "name": "ipython",
    "version": 3
   },
   "file_extension": ".py",
   "mimetype": "text/x-python",
   "name": "python",
   "nbconvert_exporter": "python",
   "pygments_lexer": "ipython3",
   "version": "3.11.13"
  }
 },
 "nbformat": 4,
 "nbformat_minor": 5
}
